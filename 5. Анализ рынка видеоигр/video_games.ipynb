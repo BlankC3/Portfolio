{
 "cells": [
  {
   "cell_type": "markdown",
   "metadata": {},
   "source": [
    "# Анализ рынка видеоигр\n",
    "\n",
    "Вы работаете в интернет-магазине «Стримчик», который продаёт по всему миру компьютерные игры. Из открытых источников доступны исторические данные о продажах игр, оценки пользователей и экспертов, жанры и платформы (например, Xbox или PlayStation). Вам нужно выявить определяющие успешность игры закономерности. Это позволит сделать ставку на потенциально популярный продукт и спланировать рекламные кампании.<br>\n",
    "Перед вами данные до 2016 года. Представим, что сейчас декабрь 2016 г., и вы планируете кампанию на 2017-й. Нужно отработать принцип работы с данными. Неважно, прогнозируете ли вы продажи на 2017 год по данным 2016-го или же 2027-й — по данным 2026 года.<br>\n",
    "В наборе данных попадается аббревиатура ESRB (Entertainment Software Rating Board) — это ассоциация, определяющая возрастной рейтинг компьютерных игр. ESRB оценивает игровой контент и присваивает ему подходящую возрастную категорию, например, «Для взрослых», «Для детей младшего возраста» или «Для подростков»."
   ]
  },
  {
   "cell_type": "markdown",
   "metadata": {},
   "source": [
    "Описание данных: <br>\n",
    "\n",
    "* Name — название игры <br>\n",
    "* Platform — платформа <br>\n",
    "* Year_of_Release — год выпуска <br>\n",
    "* Genre — жанр игры <br>\n",
    "* NA_sales — продажи в Северной Америке (миллионы проданных копий)<br>\n",
    "* EU_sales — продажи в Европе (миллионы проданных копий)<br>\n",
    "* JP_sales — продажи в Японии (миллионы проданных копий)<br>\n",
    "* Other_sales — продажи в других странах (миллионы проданных копий)<br>\n",
    "* Critic_Score — оценка критиков (максимум 100)<br>\n",
    "* User_Score — оценка пользователей (максимум 10)<br>\n",
    "* Rating — рейтинг от организации ESRB (англ. Entertainment Software Rating Board). Эта ассоциация определяет рейтинг компьютерных игр и присваивает им подходящую возрастную категорию.<br>\n",
    "\n",
    "Данные за 2016 год могут быть неполными."
   ]
  },
  {
   "cell_type": "markdown",
   "metadata": {},
   "source": [
    "## Изучение данных из файла"
   ]
  },
  {
   "cell_type": "code",
   "execution_count": 1,
   "metadata": {},
   "outputs": [],
   "source": [
    "import pandas as pd\n",
    "import seaborn as sns\n",
    "import matplotlib.pyplot as plt\n",
    "import numpy as np\n",
    "from scipy import stats as st"
   ]
  },
  {
   "cell_type": "code",
   "execution_count": 2,
   "metadata": {},
   "outputs": [
    {
     "name": "stdout",
     "output_type": "stream",
     "text": [
      "<class 'pandas.core.frame.DataFrame'>\n",
      "RangeIndex: 16715 entries, 0 to 16714\n",
      "Data columns (total 11 columns):\n",
      " #   Column           Non-Null Count  Dtype  \n",
      "---  ------           --------------  -----  \n",
      " 0   Name             16713 non-null  object \n",
      " 1   Platform         16715 non-null  object \n",
      " 2   Year_of_Release  16446 non-null  float64\n",
      " 3   Genre            16713 non-null  object \n",
      " 4   NA_sales         16715 non-null  float64\n",
      " 5   EU_sales         16715 non-null  float64\n",
      " 6   JP_sales         16715 non-null  float64\n",
      " 7   Other_sales      16715 non-null  float64\n",
      " 8   Critic_Score     8137 non-null   float64\n",
      " 9   User_Score       10014 non-null  object \n",
      " 10  Rating           9949 non-null   object \n",
      "dtypes: float64(6), object(5)\n",
      "memory usage: 1.4+ MB\n"
     ]
    }
   ],
   "source": [
    "data = pd.read_csv('/datasets/games.csv')\n",
    "data.info()"
   ]
  },
  {
   "cell_type": "code",
   "execution_count": 3,
   "metadata": {},
   "outputs": [
    {
     "data": {
      "text/html": [
       "<div>\n",
       "<style scoped>\n",
       "    .dataframe tbody tr th:only-of-type {\n",
       "        vertical-align: middle;\n",
       "    }\n",
       "\n",
       "    .dataframe tbody tr th {\n",
       "        vertical-align: top;\n",
       "    }\n",
       "\n",
       "    .dataframe thead th {\n",
       "        text-align: right;\n",
       "    }\n",
       "</style>\n",
       "<table border=\"1\" class=\"dataframe\">\n",
       "  <thead>\n",
       "    <tr style=\"text-align: right;\">\n",
       "      <th></th>\n",
       "      <th>Name</th>\n",
       "      <th>Platform</th>\n",
       "      <th>Year_of_Release</th>\n",
       "      <th>Genre</th>\n",
       "      <th>NA_sales</th>\n",
       "      <th>EU_sales</th>\n",
       "      <th>JP_sales</th>\n",
       "      <th>Other_sales</th>\n",
       "      <th>Critic_Score</th>\n",
       "      <th>User_Score</th>\n",
       "      <th>Rating</th>\n",
       "    </tr>\n",
       "  </thead>\n",
       "  <tbody>\n",
       "    <tr>\n",
       "      <th>0</th>\n",
       "      <td>Wii Sports</td>\n",
       "      <td>Wii</td>\n",
       "      <td>2006.0</td>\n",
       "      <td>Sports</td>\n",
       "      <td>41.36</td>\n",
       "      <td>28.96</td>\n",
       "      <td>3.77</td>\n",
       "      <td>8.45</td>\n",
       "      <td>76.0</td>\n",
       "      <td>8</td>\n",
       "      <td>E</td>\n",
       "    </tr>\n",
       "    <tr>\n",
       "      <th>1</th>\n",
       "      <td>Super Mario Bros.</td>\n",
       "      <td>NES</td>\n",
       "      <td>1985.0</td>\n",
       "      <td>Platform</td>\n",
       "      <td>29.08</td>\n",
       "      <td>3.58</td>\n",
       "      <td>6.81</td>\n",
       "      <td>0.77</td>\n",
       "      <td>NaN</td>\n",
       "      <td>NaN</td>\n",
       "      <td>NaN</td>\n",
       "    </tr>\n",
       "    <tr>\n",
       "      <th>2</th>\n",
       "      <td>Mario Kart Wii</td>\n",
       "      <td>Wii</td>\n",
       "      <td>2008.0</td>\n",
       "      <td>Racing</td>\n",
       "      <td>15.68</td>\n",
       "      <td>12.76</td>\n",
       "      <td>3.79</td>\n",
       "      <td>3.29</td>\n",
       "      <td>82.0</td>\n",
       "      <td>8.3</td>\n",
       "      <td>E</td>\n",
       "    </tr>\n",
       "    <tr>\n",
       "      <th>3</th>\n",
       "      <td>Wii Sports Resort</td>\n",
       "      <td>Wii</td>\n",
       "      <td>2009.0</td>\n",
       "      <td>Sports</td>\n",
       "      <td>15.61</td>\n",
       "      <td>10.93</td>\n",
       "      <td>3.28</td>\n",
       "      <td>2.95</td>\n",
       "      <td>80.0</td>\n",
       "      <td>8</td>\n",
       "      <td>E</td>\n",
       "    </tr>\n",
       "    <tr>\n",
       "      <th>4</th>\n",
       "      <td>Pokemon Red/Pokemon Blue</td>\n",
       "      <td>GB</td>\n",
       "      <td>1996.0</td>\n",
       "      <td>Role-Playing</td>\n",
       "      <td>11.27</td>\n",
       "      <td>8.89</td>\n",
       "      <td>10.22</td>\n",
       "      <td>1.00</td>\n",
       "      <td>NaN</td>\n",
       "      <td>NaN</td>\n",
       "      <td>NaN</td>\n",
       "    </tr>\n",
       "    <tr>\n",
       "      <th>5</th>\n",
       "      <td>Tetris</td>\n",
       "      <td>GB</td>\n",
       "      <td>1989.0</td>\n",
       "      <td>Puzzle</td>\n",
       "      <td>23.20</td>\n",
       "      <td>2.26</td>\n",
       "      <td>4.22</td>\n",
       "      <td>0.58</td>\n",
       "      <td>NaN</td>\n",
       "      <td>NaN</td>\n",
       "      <td>NaN</td>\n",
       "    </tr>\n",
       "    <tr>\n",
       "      <th>6</th>\n",
       "      <td>New Super Mario Bros.</td>\n",
       "      <td>DS</td>\n",
       "      <td>2006.0</td>\n",
       "      <td>Platform</td>\n",
       "      <td>11.28</td>\n",
       "      <td>9.14</td>\n",
       "      <td>6.50</td>\n",
       "      <td>2.88</td>\n",
       "      <td>89.0</td>\n",
       "      <td>8.5</td>\n",
       "      <td>E</td>\n",
       "    </tr>\n",
       "    <tr>\n",
       "      <th>7</th>\n",
       "      <td>Wii Play</td>\n",
       "      <td>Wii</td>\n",
       "      <td>2006.0</td>\n",
       "      <td>Misc</td>\n",
       "      <td>13.96</td>\n",
       "      <td>9.18</td>\n",
       "      <td>2.93</td>\n",
       "      <td>2.84</td>\n",
       "      <td>58.0</td>\n",
       "      <td>6.6</td>\n",
       "      <td>E</td>\n",
       "    </tr>\n",
       "    <tr>\n",
       "      <th>8</th>\n",
       "      <td>New Super Mario Bros. Wii</td>\n",
       "      <td>Wii</td>\n",
       "      <td>2009.0</td>\n",
       "      <td>Platform</td>\n",
       "      <td>14.44</td>\n",
       "      <td>6.94</td>\n",
       "      <td>4.70</td>\n",
       "      <td>2.24</td>\n",
       "      <td>87.0</td>\n",
       "      <td>8.4</td>\n",
       "      <td>E</td>\n",
       "    </tr>\n",
       "    <tr>\n",
       "      <th>9</th>\n",
       "      <td>Duck Hunt</td>\n",
       "      <td>NES</td>\n",
       "      <td>1984.0</td>\n",
       "      <td>Shooter</td>\n",
       "      <td>26.93</td>\n",
       "      <td>0.63</td>\n",
       "      <td>0.28</td>\n",
       "      <td>0.47</td>\n",
       "      <td>NaN</td>\n",
       "      <td>NaN</td>\n",
       "      <td>NaN</td>\n",
       "    </tr>\n",
       "  </tbody>\n",
       "</table>\n",
       "</div>"
      ],
      "text/plain": [
       "                        Name Platform  Year_of_Release         Genre  \\\n",
       "0                 Wii Sports      Wii           2006.0        Sports   \n",
       "1          Super Mario Bros.      NES           1985.0      Platform   \n",
       "2             Mario Kart Wii      Wii           2008.0        Racing   \n",
       "3          Wii Sports Resort      Wii           2009.0        Sports   \n",
       "4   Pokemon Red/Pokemon Blue       GB           1996.0  Role-Playing   \n",
       "5                     Tetris       GB           1989.0        Puzzle   \n",
       "6      New Super Mario Bros.       DS           2006.0      Platform   \n",
       "7                   Wii Play      Wii           2006.0          Misc   \n",
       "8  New Super Mario Bros. Wii      Wii           2009.0      Platform   \n",
       "9                  Duck Hunt      NES           1984.0       Shooter   \n",
       "\n",
       "   NA_sales  EU_sales  JP_sales  Other_sales  Critic_Score User_Score Rating  \n",
       "0     41.36     28.96      3.77         8.45          76.0          8      E  \n",
       "1     29.08      3.58      6.81         0.77           NaN        NaN    NaN  \n",
       "2     15.68     12.76      3.79         3.29          82.0        8.3      E  \n",
       "3     15.61     10.93      3.28         2.95          80.0          8      E  \n",
       "4     11.27      8.89     10.22         1.00           NaN        NaN    NaN  \n",
       "5     23.20      2.26      4.22         0.58           NaN        NaN    NaN  \n",
       "6     11.28      9.14      6.50         2.88          89.0        8.5      E  \n",
       "7     13.96      9.18      2.93         2.84          58.0        6.6      E  \n",
       "8     14.44      6.94      4.70         2.24          87.0        8.4      E  \n",
       "9     26.93      0.63      0.28         0.47           NaN        NaN    NaN  "
      ]
     },
     "execution_count": 3,
     "metadata": {},
     "output_type": "execute_result"
    }
   ],
   "source": [
    "data.head(10)"
   ]
  },
  {
   "cell_type": "markdown",
   "metadata": {},
   "source": [
    "### Вывод"
   ]
  },
  {
   "cell_type": "markdown",
   "metadata": {},
   "source": [
    "Сразу видно несколько задач:<br>\n",
    "1) Следует переименовать названия всех столбцов<br>\n",
    "2) Оптимизировать и исправить типы данных <br>\n",
    "3) В рейтинговых столбцах много пропусков. В основном для старых игр, что логично. Агрегаторов оценок в те года не было, а игровая пресса не столь распространена. NaNы оставим на месте. Заменять нулями было бы неправильно."
   ]
  },
  {
   "cell_type": "markdown",
   "metadata": {},
   "source": [
    "## Подготовка данных"
   ]
  },
  {
   "cell_type": "markdown",
   "metadata": {},
   "source": [
    "Приведем названия столбцов к нижнему регистру:"
   ]
  },
  {
   "cell_type": "code",
   "execution_count": 4,
   "metadata": {},
   "outputs": [],
   "source": [
    "data.columns = map(str.lower, data.columns)"
   ]
  },
  {
   "cell_type": "markdown",
   "metadata": {},
   "source": [
    "Оптимизируем типы данных:<br>\n",
    "year_of_release переводим в Int16 из-за наличия пропусков в данных. Для подсчёта продаж нам эти данные пригодятся, а при выборе года для прогноза они автоматически отсекутся."
   ]
  },
  {
   "cell_type": "code",
   "execution_count": 5,
   "metadata": {},
   "outputs": [],
   "source": [
    "data = data.astype({\"na_sales\": \"float16\", \"eu_sales\": \"float16\", \"jp_sales\": \"float16\", \"other_sales\": \"float16\", \n",
    "                    \"critic_score\": \"Int16\", \"year_of_release\":\"Int16\"}) "
   ]
  },
  {
   "cell_type": "markdown",
   "metadata": {},
   "source": [
    "Посмотрим на таинственный 'tbd'. Судя по всему, это значит, что \"количества пользовательских рейтингов недостаточно, чтобы выставить оценку\". Т.е. по факту это NaN"
   ]
  },
  {
   "cell_type": "code",
   "execution_count": 6,
   "metadata": {},
   "outputs": [
    {
     "data": {
      "text/html": [
       "<div>\n",
       "<style scoped>\n",
       "    .dataframe tbody tr th:only-of-type {\n",
       "        vertical-align: middle;\n",
       "    }\n",
       "\n",
       "    .dataframe tbody tr th {\n",
       "        vertical-align: top;\n",
       "    }\n",
       "\n",
       "    .dataframe thead th {\n",
       "        text-align: right;\n",
       "    }\n",
       "</style>\n",
       "<table border=\"1\" class=\"dataframe\">\n",
       "  <thead>\n",
       "    <tr style=\"text-align: right;\">\n",
       "      <th></th>\n",
       "      <th>name</th>\n",
       "      <th>platform</th>\n",
       "      <th>year_of_release</th>\n",
       "      <th>genre</th>\n",
       "      <th>na_sales</th>\n",
       "      <th>eu_sales</th>\n",
       "      <th>jp_sales</th>\n",
       "      <th>other_sales</th>\n",
       "      <th>critic_score</th>\n",
       "      <th>user_score</th>\n",
       "      <th>rating</th>\n",
       "    </tr>\n",
       "  </thead>\n",
       "  <tbody>\n",
       "    <tr>\n",
       "      <th>119</th>\n",
       "      <td>Zumba Fitness</td>\n",
       "      <td>Wii</td>\n",
       "      <td>2010</td>\n",
       "      <td>Sports</td>\n",
       "      <td>3.449219</td>\n",
       "      <td>2.589844</td>\n",
       "      <td>0.0</td>\n",
       "      <td>0.660156</td>\n",
       "      <td>&lt;NA&gt;</td>\n",
       "      <td>tbd</td>\n",
       "      <td>E</td>\n",
       "    </tr>\n",
       "    <tr>\n",
       "      <th>301</th>\n",
       "      <td>Namco Museum: 50th Anniversary</td>\n",
       "      <td>PS2</td>\n",
       "      <td>2005</td>\n",
       "      <td>Misc</td>\n",
       "      <td>2.080078</td>\n",
       "      <td>1.349609</td>\n",
       "      <td>0.0</td>\n",
       "      <td>0.540039</td>\n",
       "      <td>61</td>\n",
       "      <td>tbd</td>\n",
       "      <td>E10+</td>\n",
       "    </tr>\n",
       "    <tr>\n",
       "      <th>520</th>\n",
       "      <td>Zumba Fitness 2</td>\n",
       "      <td>Wii</td>\n",
       "      <td>2011</td>\n",
       "      <td>Sports</td>\n",
       "      <td>1.509766</td>\n",
       "      <td>1.030273</td>\n",
       "      <td>0.0</td>\n",
       "      <td>0.270020</td>\n",
       "      <td>&lt;NA&gt;</td>\n",
       "      <td>tbd</td>\n",
       "      <td>T</td>\n",
       "    </tr>\n",
       "    <tr>\n",
       "      <th>645</th>\n",
       "      <td>uDraw Studio</td>\n",
       "      <td>Wii</td>\n",
       "      <td>2010</td>\n",
       "      <td>Misc</td>\n",
       "      <td>1.650391</td>\n",
       "      <td>0.569824</td>\n",
       "      <td>0.0</td>\n",
       "      <td>0.199951</td>\n",
       "      <td>71</td>\n",
       "      <td>tbd</td>\n",
       "      <td>E</td>\n",
       "    </tr>\n",
       "    <tr>\n",
       "      <th>657</th>\n",
       "      <td>Frogger's Adventures: Temple of the Frog</td>\n",
       "      <td>GBA</td>\n",
       "      <td>&lt;NA&gt;</td>\n",
       "      <td>Adventure</td>\n",
       "      <td>2.150391</td>\n",
       "      <td>0.180054</td>\n",
       "      <td>0.0</td>\n",
       "      <td>0.070007</td>\n",
       "      <td>73</td>\n",
       "      <td>tbd</td>\n",
       "      <td>E</td>\n",
       "    </tr>\n",
       "    <tr>\n",
       "      <th>...</th>\n",
       "      <td>...</td>\n",
       "      <td>...</td>\n",
       "      <td>...</td>\n",
       "      <td>...</td>\n",
       "      <td>...</td>\n",
       "      <td>...</td>\n",
       "      <td>...</td>\n",
       "      <td>...</td>\n",
       "      <td>...</td>\n",
       "      <td>...</td>\n",
       "      <td>...</td>\n",
       "    </tr>\n",
       "    <tr>\n",
       "      <th>16695</th>\n",
       "      <td>Planet Monsters</td>\n",
       "      <td>GBA</td>\n",
       "      <td>2001</td>\n",
       "      <td>Action</td>\n",
       "      <td>0.010002</td>\n",
       "      <td>0.000000</td>\n",
       "      <td>0.0</td>\n",
       "      <td>0.000000</td>\n",
       "      <td>67</td>\n",
       "      <td>tbd</td>\n",
       "      <td>E</td>\n",
       "    </tr>\n",
       "    <tr>\n",
       "      <th>16697</th>\n",
       "      <td>Bust-A-Move 3000</td>\n",
       "      <td>GC</td>\n",
       "      <td>2003</td>\n",
       "      <td>Puzzle</td>\n",
       "      <td>0.010002</td>\n",
       "      <td>0.000000</td>\n",
       "      <td>0.0</td>\n",
       "      <td>0.000000</td>\n",
       "      <td>53</td>\n",
       "      <td>tbd</td>\n",
       "      <td>E</td>\n",
       "    </tr>\n",
       "    <tr>\n",
       "      <th>16698</th>\n",
       "      <td>Mega Brain Boost</td>\n",
       "      <td>DS</td>\n",
       "      <td>2008</td>\n",
       "      <td>Puzzle</td>\n",
       "      <td>0.010002</td>\n",
       "      <td>0.000000</td>\n",
       "      <td>0.0</td>\n",
       "      <td>0.000000</td>\n",
       "      <td>48</td>\n",
       "      <td>tbd</td>\n",
       "      <td>E</td>\n",
       "    </tr>\n",
       "    <tr>\n",
       "      <th>16704</th>\n",
       "      <td>Plushees</td>\n",
       "      <td>DS</td>\n",
       "      <td>2008</td>\n",
       "      <td>Simulation</td>\n",
       "      <td>0.010002</td>\n",
       "      <td>0.000000</td>\n",
       "      <td>0.0</td>\n",
       "      <td>0.000000</td>\n",
       "      <td>&lt;NA&gt;</td>\n",
       "      <td>tbd</td>\n",
       "      <td>E</td>\n",
       "    </tr>\n",
       "    <tr>\n",
       "      <th>16706</th>\n",
       "      <td>Men in Black II: Alien Escape</td>\n",
       "      <td>GC</td>\n",
       "      <td>2003</td>\n",
       "      <td>Shooter</td>\n",
       "      <td>0.010002</td>\n",
       "      <td>0.000000</td>\n",
       "      <td>0.0</td>\n",
       "      <td>0.000000</td>\n",
       "      <td>&lt;NA&gt;</td>\n",
       "      <td>tbd</td>\n",
       "      <td>T</td>\n",
       "    </tr>\n",
       "  </tbody>\n",
       "</table>\n",
       "<p>2424 rows × 11 columns</p>\n",
       "</div>"
      ],
      "text/plain": [
       "                                           name platform  year_of_release  \\\n",
       "119                               Zumba Fitness      Wii             2010   \n",
       "301              Namco Museum: 50th Anniversary      PS2             2005   \n",
       "520                             Zumba Fitness 2      Wii             2011   \n",
       "645                                uDraw Studio      Wii             2010   \n",
       "657    Frogger's Adventures: Temple of the Frog      GBA             <NA>   \n",
       "...                                         ...      ...              ...   \n",
       "16695                           Planet Monsters      GBA             2001   \n",
       "16697                          Bust-A-Move 3000       GC             2003   \n",
       "16698                          Mega Brain Boost       DS             2008   \n",
       "16704                                  Plushees       DS             2008   \n",
       "16706             Men in Black II: Alien Escape       GC             2003   \n",
       "\n",
       "            genre  na_sales  eu_sales  jp_sales  other_sales  critic_score  \\\n",
       "119        Sports  3.449219  2.589844       0.0     0.660156          <NA>   \n",
       "301          Misc  2.080078  1.349609       0.0     0.540039            61   \n",
       "520        Sports  1.509766  1.030273       0.0     0.270020          <NA>   \n",
       "645          Misc  1.650391  0.569824       0.0     0.199951            71   \n",
       "657     Adventure  2.150391  0.180054       0.0     0.070007            73   \n",
       "...           ...       ...       ...       ...          ...           ...   \n",
       "16695      Action  0.010002  0.000000       0.0     0.000000            67   \n",
       "16697      Puzzle  0.010002  0.000000       0.0     0.000000            53   \n",
       "16698      Puzzle  0.010002  0.000000       0.0     0.000000            48   \n",
       "16704  Simulation  0.010002  0.000000       0.0     0.000000          <NA>   \n",
       "16706     Shooter  0.010002  0.000000       0.0     0.000000          <NA>   \n",
       "\n",
       "      user_score rating  \n",
       "119          tbd      E  \n",
       "301          tbd   E10+  \n",
       "520          tbd      T  \n",
       "645          tbd      E  \n",
       "657          tbd      E  \n",
       "...          ...    ...  \n",
       "16695        tbd      E  \n",
       "16697        tbd      E  \n",
       "16698        tbd      E  \n",
       "16704        tbd      E  \n",
       "16706        tbd      T  \n",
       "\n",
       "[2424 rows x 11 columns]"
      ]
     },
     "execution_count": 6,
     "metadata": {},
     "output_type": "execute_result"
    }
   ],
   "source": [
    "data[data['user_score'] == 'tbd']"
   ]
  },
  {
   "cell_type": "code",
   "execution_count": 7,
   "metadata": {},
   "outputs": [],
   "source": [
    "data['user_score'] = data['user_score'].replace({'tbd': np.nan})\n",
    "data = data.astype({\"user_score\": \"float16\"})"
   ]
  },
  {
   "cell_type": "markdown",
   "metadata": {},
   "source": [
    "Теперь посмотрим на две игры без имени и жанра."
   ]
  },
  {
   "cell_type": "code",
   "execution_count": 8,
   "metadata": {},
   "outputs": [
    {
     "data": {
      "text/html": [
       "<div>\n",
       "<style scoped>\n",
       "    .dataframe tbody tr th:only-of-type {\n",
       "        vertical-align: middle;\n",
       "    }\n",
       "\n",
       "    .dataframe tbody tr th {\n",
       "        vertical-align: top;\n",
       "    }\n",
       "\n",
       "    .dataframe thead th {\n",
       "        text-align: right;\n",
       "    }\n",
       "</style>\n",
       "<table border=\"1\" class=\"dataframe\">\n",
       "  <thead>\n",
       "    <tr style=\"text-align: right;\">\n",
       "      <th></th>\n",
       "      <th>name</th>\n",
       "      <th>platform</th>\n",
       "      <th>year_of_release</th>\n",
       "      <th>genre</th>\n",
       "      <th>na_sales</th>\n",
       "      <th>eu_sales</th>\n",
       "      <th>jp_sales</th>\n",
       "      <th>other_sales</th>\n",
       "      <th>critic_score</th>\n",
       "      <th>user_score</th>\n",
       "      <th>rating</th>\n",
       "    </tr>\n",
       "  </thead>\n",
       "  <tbody>\n",
       "    <tr>\n",
       "      <th>659</th>\n",
       "      <td>NaN</td>\n",
       "      <td>GEN</td>\n",
       "      <td>1993</td>\n",
       "      <td>NaN</td>\n",
       "      <td>1.780273</td>\n",
       "      <td>0.529785</td>\n",
       "      <td>0.000000</td>\n",
       "      <td>0.080017</td>\n",
       "      <td>&lt;NA&gt;</td>\n",
       "      <td>NaN</td>\n",
       "      <td>NaN</td>\n",
       "    </tr>\n",
       "    <tr>\n",
       "      <th>14244</th>\n",
       "      <td>NaN</td>\n",
       "      <td>GEN</td>\n",
       "      <td>1993</td>\n",
       "      <td>NaN</td>\n",
       "      <td>0.000000</td>\n",
       "      <td>0.000000</td>\n",
       "      <td>0.029999</td>\n",
       "      <td>0.000000</td>\n",
       "      <td>&lt;NA&gt;</td>\n",
       "      <td>NaN</td>\n",
       "      <td>NaN</td>\n",
       "    </tr>\n",
       "  </tbody>\n",
       "</table>\n",
       "</div>"
      ],
      "text/plain": [
       "      name platform  year_of_release genre  na_sales  eu_sales  jp_sales  \\\n",
       "659    NaN      GEN             1993   NaN  1.780273  0.529785  0.000000   \n",
       "14244  NaN      GEN             1993   NaN  0.000000  0.000000  0.029999   \n",
       "\n",
       "       other_sales  critic_score  user_score rating  \n",
       "659       0.080017          <NA>         NaN    NaN  \n",
       "14244     0.000000          <NA>         NaN    NaN  "
      ]
     },
     "execution_count": 8,
     "metadata": {},
     "output_type": "execute_result"
    }
   ],
   "source": [
    "data[data['name'].isna()]"
   ]
  },
  {
   "cell_type": "markdown",
   "metadata": {},
   "source": [
    "Совершенно непонятно, что это за игры, поэтому стоит удалить их из выборки."
   ]
  },
  {
   "cell_type": "code",
   "execution_count": 9,
   "metadata": {},
   "outputs": [],
   "source": [
    "data.drop([4127, 16230, 659, 12244], inplace = True)\n",
    "data = data.reset_index(drop = True)"
   ]
  },
  {
   "cell_type": "code",
   "execution_count": 10,
   "metadata": {},
   "outputs": [],
   "source": [
    "data['rating'] = data['rating'].fillna('Unknown')"
   ]
  },
  {
   "cell_type": "markdown",
   "metadata": {},
   "source": [
    "Добавил классификацию \"Unknown\". Просмотрел пропущенные значения, там явно игры абсолютно разных возрастных рейтингов."
   ]
  },
  {
   "cell_type": "markdown",
   "metadata": {},
   "source": [
    "Посчитаем суммарные продажи и запишем их в отдельный :"
   ]
  },
  {
   "cell_type": "code",
   "execution_count": 11,
   "metadata": {},
   "outputs": [],
   "source": [
    "data['total_sales'] = data['na_sales'] + data['eu_sales'] + data['jp_sales'] + data['other_sales']"
   ]
  },
  {
   "cell_type": "markdown",
   "metadata": {},
   "source": [
    "Проверим наличие дубликатов."
   ]
  },
  {
   "cell_type": "code",
   "execution_count": 12,
   "metadata": {},
   "outputs": [
    {
     "data": {
      "text/html": [
       "<div>\n",
       "<style scoped>\n",
       "    .dataframe tbody tr th:only-of-type {\n",
       "        vertical-align: middle;\n",
       "    }\n",
       "\n",
       "    .dataframe tbody tr th {\n",
       "        vertical-align: top;\n",
       "    }\n",
       "\n",
       "    .dataframe thead th {\n",
       "        text-align: right;\n",
       "    }\n",
       "</style>\n",
       "<table border=\"1\" class=\"dataframe\">\n",
       "  <thead>\n",
       "    <tr style=\"text-align: right;\">\n",
       "      <th></th>\n",
       "      <th>name</th>\n",
       "      <th>platform</th>\n",
       "      <th>year_of_release</th>\n",
       "      <th>genre</th>\n",
       "      <th>na_sales</th>\n",
       "      <th>eu_sales</th>\n",
       "      <th>jp_sales</th>\n",
       "      <th>other_sales</th>\n",
       "      <th>critic_score</th>\n",
       "      <th>user_score</th>\n",
       "      <th>rating</th>\n",
       "      <th>total_sales</th>\n",
       "    </tr>\n",
       "  </thead>\n",
       "  <tbody>\n",
       "  </tbody>\n",
       "</table>\n",
       "</div>"
      ],
      "text/plain": [
       "Empty DataFrame\n",
       "Columns: [name, platform, year_of_release, genre, na_sales, eu_sales, jp_sales, other_sales, critic_score, user_score, rating, total_sales]\n",
       "Index: []"
      ]
     },
     "execution_count": 12,
     "metadata": {},
     "output_type": "execute_result"
    }
   ],
   "source": [
    "data[data.duplicated()] #проверяем полные дубли"
   ]
  },
  {
   "cell_type": "code",
   "execution_count": 13,
   "metadata": {},
   "outputs": [
    {
     "data": {
      "text/html": [
       "<div>\n",
       "<style scoped>\n",
       "    .dataframe tbody tr th:only-of-type {\n",
       "        vertical-align: middle;\n",
       "    }\n",
       "\n",
       "    .dataframe tbody tr th {\n",
       "        vertical-align: top;\n",
       "    }\n",
       "\n",
       "    .dataframe thead th {\n",
       "        text-align: right;\n",
       "    }\n",
       "</style>\n",
       "<table border=\"1\" class=\"dataframe\">\n",
       "  <thead>\n",
       "    <tr style=\"text-align: right;\">\n",
       "      <th></th>\n",
       "      <th>name</th>\n",
       "      <th>platform</th>\n",
       "      <th>year_of_release</th>\n",
       "      <th>genre</th>\n",
       "      <th>na_sales</th>\n",
       "      <th>eu_sales</th>\n",
       "      <th>jp_sales</th>\n",
       "      <th>other_sales</th>\n",
       "      <th>critic_score</th>\n",
       "      <th>user_score</th>\n",
       "      <th>rating</th>\n",
       "      <th>total_sales</th>\n",
       "    </tr>\n",
       "  </thead>\n",
       "  <tbody>\n",
       "    <tr>\n",
       "      <th>1590</th>\n",
       "      <td>Need for Speed: Most Wanted</td>\n",
       "      <td>X360</td>\n",
       "      <td>2005</td>\n",
       "      <td>Racing</td>\n",
       "      <td>1.0</td>\n",
       "      <td>0.130005</td>\n",
       "      <td>0.020004</td>\n",
       "      <td>0.099976</td>\n",
       "      <td>83</td>\n",
       "      <td>8.5</td>\n",
       "      <td>T</td>\n",
       "      <td>1.249023</td>\n",
       "    </tr>\n",
       "    <tr>\n",
       "      <th>11713</th>\n",
       "      <td>Need for Speed: Most Wanted</td>\n",
       "      <td>PC</td>\n",
       "      <td>2012</td>\n",
       "      <td>Racing</td>\n",
       "      <td>0.0</td>\n",
       "      <td>0.059998</td>\n",
       "      <td>0.000000</td>\n",
       "      <td>0.020004</td>\n",
       "      <td>82</td>\n",
       "      <td>8.5</td>\n",
       "      <td>T</td>\n",
       "      <td>0.080017</td>\n",
       "    </tr>\n",
       "  </tbody>\n",
       "</table>\n",
       "</div>"
      ],
      "text/plain": [
       "                              name platform  year_of_release   genre  \\\n",
       "1590   Need for Speed: Most Wanted     X360             2005  Racing   \n",
       "11713  Need for Speed: Most Wanted       PC             2012  Racing   \n",
       "\n",
       "       na_sales  eu_sales  jp_sales  other_sales  critic_score  user_score  \\\n",
       "1590        1.0  0.130005  0.020004     0.099976            83         8.5   \n",
       "11713       0.0  0.059998  0.000000     0.020004            82         8.5   \n",
       "\n",
       "      rating  total_sales  \n",
       "1590       T     1.249023  \n",
       "11713      T     0.080017  "
      ]
     },
     "execution_count": 13,
     "metadata": {},
     "output_type": "execute_result"
    }
   ],
   "source": [
    "data[data.duplicated(subset=['name', 'platform'])] # проверяем дубли по названию"
   ]
  },
  {
   "cell_type": "markdown",
   "metadata": {},
   "source": [
    "Полных дублей не оказалось.<br>\n",
    "Проверил дубли по имени и платформе. Попадания есть.<br>\n",
    "Но в случае с Most Wanted - это на самом деле разные игры.<br>\n",
    "А вот лишнего Соника и НФЛ пришлось удалить."
   ]
  },
  {
   "cell_type": "markdown",
   "metadata": {},
   "source": [
    "##  Исследовательский анализ данных"
   ]
  },
  {
   "cell_type": "markdown",
   "metadata": {},
   "source": [
    "Посмотрим, сколько игр выпускалось в разные годы. Это интересная информация, но нам вряд ли пригодится для решения поставленной задачи."
   ]
  },
  {
   "cell_type": "code",
   "execution_count": 14,
   "metadata": {},
   "outputs": [
    {
     "data": {
      "image/png": "[encoded data removed]",
      "text/plain": [
       "<Figure size 432x288 with 1 Axes>"
      ]
     },
     "metadata": {
      "needs_background": "light"
     },
     "output_type": "display_data"
    }
   ],
   "source": [
    "plt.plot(data.groupby('year_of_release')['name'].agg('count'))\n",
    "plt.xlabel('Года')\n",
    "plt.ylabel('Количество выпущенных игр')\n",
    "plt.title('График количества выпущенных игр')\n",
    "plt.show()"
   ]
  },
  {
   "cell_type": "markdown",
   "metadata": {},
   "source": [
    "Посмотрим, как менялись продажи по платформам."
   ]
  },
  {
   "cell_type": "code",
   "execution_count": 15,
   "metadata": {},
   "outputs": [
    {
     "data": {
      "text/plain": [
       "platform\n",
       "PS2     1256.000000\n",
       "X360     971.500000\n",
       "PS3      939.000000\n",
       "Wii      907.500000\n",
       "DS       806.000000\n",
       "PS       731.000000\n",
       "GBA      317.750000\n",
       "PS4      314.250000\n",
       "PSP      294.000000\n",
       "PC       259.500000\n",
       "3DS      259.000000\n",
       "XB       257.750000\n",
       "GB       255.500000\n",
       "NES      251.000000\n",
       "N64      218.625000\n",
       "SNES     200.000000\n",
       "GC       199.000000\n",
       "XOne     159.250000\n",
       "2600      96.937500\n",
       "WiiU      82.187500\n",
       "PSV       54.062500\n",
       "SAT       33.593750\n",
       "GEN       28.375000\n",
       "DC        15.945312\n",
       "SCD        1.860352\n",
       "NG         1.439453\n",
       "WS         1.419922\n",
       "TG16       0.160034\n",
       "3DO        0.099976\n",
       "GG         0.040009\n",
       "PCFX       0.029999\n",
       "Name: total_sales, dtype: float16"
      ]
     },
     "execution_count": 15,
     "metadata": {},
     "output_type": "execute_result"
    }
   ],
   "source": [
    "data.groupby('platform')['total_sales'].sum().sort_values(ascending=False)"
   ]
  },
  {
   "cell_type": "markdown",
   "metadata": {},
   "source": [
    "Выберем платформы с наибольшими суммарными продажами (X360, PS2, PS3) и построим распределение по годам, определим за какой характерный срок появляются новые и исчезают старые платформы."
   ]
  },
  {
   "cell_type": "code",
   "execution_count": 16,
   "metadata": {},
   "outputs": [
    {
     "data": {
      "image/png": "[encoded data removed]",
      "text/plain": [
       "<Figure size 432x288 with 1 Axes>"
      ]
     },
     "metadata": {
      "needs_background": "light"
     },
     "output_type": "display_data"
    }
   ],
   "source": [
    "data[data['platform'] == 'PS2'].plot(x='year_of_release', y='total_sales', kind='scatter')\n",
    "plt.xlabel('Года')\n",
    "plt.ylabel('Продажи, миллионов копий')\n",
    "plt.title('Продажи игр для PS2')\n",
    "plt.show()"
   ]
  },
  {
   "cell_type": "code",
   "execution_count": 17,
   "metadata": {},
   "outputs": [
    {
     "data": {
      "text/html": [
       "<div>\n",
       "<style scoped>\n",
       "    .dataframe tbody tr th:only-of-type {\n",
       "        vertical-align: middle;\n",
       "    }\n",
       "\n",
       "    .dataframe tbody tr th {\n",
       "        vertical-align: top;\n",
       "    }\n",
       "\n",
       "    .dataframe thead th {\n",
       "        text-align: right;\n",
       "    }\n",
       "</style>\n",
       "<table border=\"1\" class=\"dataframe\">\n",
       "  <thead>\n",
       "    <tr style=\"text-align: right;\">\n",
       "      <th></th>\n",
       "      <th>total_sales</th>\n",
       "    </tr>\n",
       "    <tr>\n",
       "      <th>year_of_release</th>\n",
       "      <th></th>\n",
       "    </tr>\n",
       "  </thead>\n",
       "  <tbody>\n",
       "    <tr>\n",
       "      <th>2000</th>\n",
       "      <td>39.156250</td>\n",
       "    </tr>\n",
       "    <tr>\n",
       "      <th>2001</th>\n",
       "      <td>166.375000</td>\n",
       "    </tr>\n",
       "    <tr>\n",
       "      <th>2002</th>\n",
       "      <td>205.375000</td>\n",
       "    </tr>\n",
       "    <tr>\n",
       "      <th>2003</th>\n",
       "      <td>184.375000</td>\n",
       "    </tr>\n",
       "    <tr>\n",
       "      <th>2004</th>\n",
       "      <td>211.750000</td>\n",
       "    </tr>\n",
       "    <tr>\n",
       "      <th>2005</th>\n",
       "      <td>160.625000</td>\n",
       "    </tr>\n",
       "    <tr>\n",
       "      <th>2006</th>\n",
       "      <td>103.437500</td>\n",
       "    </tr>\n",
       "    <tr>\n",
       "      <th>2007</th>\n",
       "      <td>76.000000</td>\n",
       "    </tr>\n",
       "    <tr>\n",
       "      <th>2008</th>\n",
       "      <td>53.906250</td>\n",
       "    </tr>\n",
       "    <tr>\n",
       "      <th>2009</th>\n",
       "      <td>26.406250</td>\n",
       "    </tr>\n",
       "    <tr>\n",
       "      <th>2010</th>\n",
       "      <td>5.640625</td>\n",
       "    </tr>\n",
       "    <tr>\n",
       "      <th>2011</th>\n",
       "      <td>0.449951</td>\n",
       "    </tr>\n",
       "  </tbody>\n",
       "</table>\n",
       "</div>"
      ],
      "text/plain": [
       "                 total_sales\n",
       "year_of_release             \n",
       "2000               39.156250\n",
       "2001              166.375000\n",
       "2002              205.375000\n",
       "2003              184.375000\n",
       "2004              211.750000\n",
       "2005              160.625000\n",
       "2006              103.437500\n",
       "2007               76.000000\n",
       "2008               53.906250\n",
       "2009               26.406250\n",
       "2010                5.640625\n",
       "2011                0.449951"
      ]
     },
     "execution_count": 17,
     "metadata": {},
     "output_type": "execute_result"
    }
   ],
   "source": [
    "data[data['platform'] == \"PS2\"].pivot_table(index = 'year_of_release', values = 'total_sales', aggfunc = 'sum')"
   ]
  },
  {
   "cell_type": "code",
   "execution_count": 18,
   "metadata": {},
   "outputs": [
    {
     "data": {
      "image/png": "[encoded data removed]",
      "text/plain": [
       "<Figure size 432x288 with 1 Axes>"
      ]
     },
     "metadata": {
      "needs_background": "light"
     },
     "output_type": "display_data"
    }
   ],
   "source": [
    "data[data['platform'] == 'X360'].plot(x='year_of_release', y='total_sales', kind='scatter')\n",
    "plt.xlabel('Года')\n",
    "plt.ylabel('Продажи, миллионов копий')\n",
    "plt.title('Продажи игр для X360')\n",
    "plt.show()"
   ]
  },
  {
   "cell_type": "code",
   "execution_count": 19,
   "metadata": {},
   "outputs": [
    {
     "data": {
      "text/html": [
       "<div>\n",
       "<style scoped>\n",
       "    .dataframe tbody tr th:only-of-type {\n",
       "        vertical-align: middle;\n",
       "    }\n",
       "\n",
       "    .dataframe tbody tr th {\n",
       "        vertical-align: top;\n",
       "    }\n",
       "\n",
       "    .dataframe thead th {\n",
       "        text-align: right;\n",
       "    }\n",
       "</style>\n",
       "<table border=\"1\" class=\"dataframe\">\n",
       "  <thead>\n",
       "    <tr style=\"text-align: right;\">\n",
       "      <th></th>\n",
       "      <th>total_sales</th>\n",
       "    </tr>\n",
       "    <tr>\n",
       "      <th>year_of_release</th>\n",
       "      <th></th>\n",
       "    </tr>\n",
       "  </thead>\n",
       "  <tbody>\n",
       "    <tr>\n",
       "      <th>2005</th>\n",
       "      <td>8.250000</td>\n",
       "    </tr>\n",
       "    <tr>\n",
       "      <th>2006</th>\n",
       "      <td>51.625000</td>\n",
       "    </tr>\n",
       "    <tr>\n",
       "      <th>2007</th>\n",
       "      <td>95.375000</td>\n",
       "    </tr>\n",
       "    <tr>\n",
       "      <th>2008</th>\n",
       "      <td>135.250000</td>\n",
       "    </tr>\n",
       "    <tr>\n",
       "      <th>2009</th>\n",
       "      <td>120.250000</td>\n",
       "    </tr>\n",
       "    <tr>\n",
       "      <th>2010</th>\n",
       "      <td>170.000000</td>\n",
       "    </tr>\n",
       "    <tr>\n",
       "      <th>2011</th>\n",
       "      <td>143.875000</td>\n",
       "    </tr>\n",
       "    <tr>\n",
       "      <th>2012</th>\n",
       "      <td>99.750000</td>\n",
       "    </tr>\n",
       "    <tr>\n",
       "      <th>2013</th>\n",
       "      <td>88.562500</td>\n",
       "    </tr>\n",
       "    <tr>\n",
       "      <th>2014</th>\n",
       "      <td>34.750000</td>\n",
       "    </tr>\n",
       "    <tr>\n",
       "      <th>2015</th>\n",
       "      <td>11.960938</td>\n",
       "    </tr>\n",
       "    <tr>\n",
       "      <th>2016</th>\n",
       "      <td>1.520508</td>\n",
       "    </tr>\n",
       "  </tbody>\n",
       "</table>\n",
       "</div>"
      ],
      "text/plain": [
       "                 total_sales\n",
       "year_of_release             \n",
       "2005                8.250000\n",
       "2006               51.625000\n",
       "2007               95.375000\n",
       "2008              135.250000\n",
       "2009              120.250000\n",
       "2010              170.000000\n",
       "2011              143.875000\n",
       "2012               99.750000\n",
       "2013               88.562500\n",
       "2014               34.750000\n",
       "2015               11.960938\n",
       "2016                1.520508"
      ]
     },
     "execution_count": 19,
     "metadata": {},
     "output_type": "execute_result"
    }
   ],
   "source": [
    "data[data['platform'] == \"X360\"].pivot_table(index = 'year_of_release', values = 'total_sales', aggfunc = 'sum')"
   ]
  },
  {
   "cell_type": "code",
   "execution_count": 20,
   "metadata": {},
   "outputs": [
    {
     "data": {
      "image/png": "[encoded data removed]",
      "text/plain": [
       "<Figure size 432x288 with 1 Axes>"
      ]
     },
     "metadata": {
      "needs_background": "light"
     },
     "output_type": "display_data"
    }
   ],
   "source": [
    "data[data['platform'] == 'PS3'].plot(x='year_of_release', y='total_sales', kind='scatter')\n",
    "plt.xlabel('Года')\n",
    "plt.ylabel('Продажи, миллионов копий')\n",
    "plt.title('Продажи игр для PS3')\n",
    "plt.show()"
   ]
  },
  {
   "cell_type": "code",
   "execution_count": 21,
   "metadata": {},
   "outputs": [
    {
     "data": {
      "text/html": [
       "<div>\n",
       "<style scoped>\n",
       "    .dataframe tbody tr th:only-of-type {\n",
       "        vertical-align: middle;\n",
       "    }\n",
       "\n",
       "    .dataframe tbody tr th {\n",
       "        vertical-align: top;\n",
       "    }\n",
       "\n",
       "    .dataframe thead th {\n",
       "        text-align: right;\n",
       "    }\n",
       "</style>\n",
       "<table border=\"1\" class=\"dataframe\">\n",
       "  <thead>\n",
       "    <tr style=\"text-align: right;\">\n",
       "      <th></th>\n",
       "      <th>total_sales</th>\n",
       "    </tr>\n",
       "    <tr>\n",
       "      <th>year_of_release</th>\n",
       "      <th></th>\n",
       "    </tr>\n",
       "  </thead>\n",
       "  <tbody>\n",
       "    <tr>\n",
       "      <th>2006</th>\n",
       "      <td>20.968750</td>\n",
       "    </tr>\n",
       "    <tr>\n",
       "      <th>2007</th>\n",
       "      <td>73.187500</td>\n",
       "    </tr>\n",
       "    <tr>\n",
       "      <th>2008</th>\n",
       "      <td>118.500000</td>\n",
       "    </tr>\n",
       "    <tr>\n",
       "      <th>2009</th>\n",
       "      <td>130.875000</td>\n",
       "    </tr>\n",
       "    <tr>\n",
       "      <th>2010</th>\n",
       "      <td>142.125000</td>\n",
       "    </tr>\n",
       "    <tr>\n",
       "      <th>2011</th>\n",
       "      <td>156.750000</td>\n",
       "    </tr>\n",
       "    <tr>\n",
       "      <th>2012</th>\n",
       "      <td>107.375000</td>\n",
       "    </tr>\n",
       "    <tr>\n",
       "      <th>2013</th>\n",
       "      <td>113.250000</td>\n",
       "    </tr>\n",
       "    <tr>\n",
       "      <th>2014</th>\n",
       "      <td>47.750000</td>\n",
       "    </tr>\n",
       "    <tr>\n",
       "      <th>2015</th>\n",
       "      <td>16.828125</td>\n",
       "    </tr>\n",
       "    <tr>\n",
       "      <th>2016</th>\n",
       "      <td>3.599609</td>\n",
       "    </tr>\n",
       "  </tbody>\n",
       "</table>\n",
       "</div>"
      ],
      "text/plain": [
       "                 total_sales\n",
       "year_of_release             \n",
       "2006               20.968750\n",
       "2007               73.187500\n",
       "2008              118.500000\n",
       "2009              130.875000\n",
       "2010              142.125000\n",
       "2011              156.750000\n",
       "2012              107.375000\n",
       "2013              113.250000\n",
       "2014               47.750000\n",
       "2015               16.828125\n",
       "2016                3.599609"
      ]
     },
     "execution_count": 21,
     "metadata": {},
     "output_type": "execute_result"
    }
   ],
   "source": [
    "data[data['platform'] == \"PS3\"].pivot_table(index = 'year_of_release', values = 'total_sales', aggfunc = 'sum')"
   ]
  },
  {
   "cell_type": "code",
   "execution_count": 22,
   "metadata": {},
   "outputs": [
    {
     "data": {
      "image/png": "[encoded data removed]",
      "text/plain": [
       "<Figure size 432x288 with 1 Axes>"
      ]
     },
     "metadata": {
      "needs_background": "light"
     },
     "output_type": "display_data"
    }
   ],
   "source": [
    "data[data['platform'] == 'DS'].plot(x='year_of_release', y='total_sales', kind='scatter')\n",
    "plt.xlabel('Года')\n",
    "plt.ylabel('Продажи, миллионов копий')\n",
    "plt.title('Продажи игр для DS')\n",
    "plt.show()"
   ]
  },
  {
   "cell_type": "code",
   "execution_count": 23,
   "metadata": {},
   "outputs": [
    {
     "data": {
      "text/html": [
       "<div>\n",
       "<style scoped>\n",
       "    .dataframe tbody tr th:only-of-type {\n",
       "        vertical-align: middle;\n",
       "    }\n",
       "\n",
       "    .dataframe tbody tr th {\n",
       "        vertical-align: top;\n",
       "    }\n",
       "\n",
       "    .dataframe thead th {\n",
       "        text-align: right;\n",
       "    }\n",
       "</style>\n",
       "<table border=\"1\" class=\"dataframe\">\n",
       "  <thead>\n",
       "    <tr style=\"text-align: right;\">\n",
       "      <th></th>\n",
       "      <th>total_sales</th>\n",
       "    </tr>\n",
       "    <tr>\n",
       "      <th>year_of_release</th>\n",
       "      <th></th>\n",
       "    </tr>\n",
       "  </thead>\n",
       "  <tbody>\n",
       "    <tr>\n",
       "      <th>1985</th>\n",
       "      <td>0.020004</td>\n",
       "    </tr>\n",
       "    <tr>\n",
       "      <th>2004</th>\n",
       "      <td>17.265625</td>\n",
       "    </tr>\n",
       "    <tr>\n",
       "      <th>2005</th>\n",
       "      <td>130.125000</td>\n",
       "    </tr>\n",
       "    <tr>\n",
       "      <th>2006</th>\n",
       "      <td>119.812500</td>\n",
       "    </tr>\n",
       "    <tr>\n",
       "      <th>2007</th>\n",
       "      <td>147.000000</td>\n",
       "    </tr>\n",
       "    <tr>\n",
       "      <th>2008</th>\n",
       "      <td>145.250000</td>\n",
       "    </tr>\n",
       "    <tr>\n",
       "      <th>2009</th>\n",
       "      <td>119.562500</td>\n",
       "    </tr>\n",
       "    <tr>\n",
       "      <th>2010</th>\n",
       "      <td>85.000000</td>\n",
       "    </tr>\n",
       "    <tr>\n",
       "      <th>2011</th>\n",
       "      <td>26.187500</td>\n",
       "    </tr>\n",
       "    <tr>\n",
       "      <th>2012</th>\n",
       "      <td>11.007812</td>\n",
       "    </tr>\n",
       "    <tr>\n",
       "      <th>2013</th>\n",
       "      <td>1.540039</td>\n",
       "    </tr>\n",
       "  </tbody>\n",
       "</table>\n",
       "</div>"
      ],
      "text/plain": [
       "                 total_sales\n",
       "year_of_release             \n",
       "1985                0.020004\n",
       "2004               17.265625\n",
       "2005              130.125000\n",
       "2006              119.812500\n",
       "2007              147.000000\n",
       "2008              145.250000\n",
       "2009              119.562500\n",
       "2010               85.000000\n",
       "2011               26.187500\n",
       "2012               11.007812\n",
       "2013                1.540039"
      ]
     },
     "execution_count": 23,
     "metadata": {},
     "output_type": "execute_result"
    }
   ],
   "source": [
    "data[data['platform'] == \"DS\"].pivot_table(index = 'year_of_release', values = 'total_sales', aggfunc = 'sum')"
   ]
  },
  {
   "cell_type": "markdown",
   "metadata": {},
   "source": [
    "Из данных графиков видно, что жизненный цикл консоли - 10 лет, из них активный цикл - 7 лет.<br>"
   ]
  },
  {
   "cell_type": "code",
   "execution_count": 24,
   "metadata": {},
   "outputs": [],
   "source": [
    "data.loc[15954, 'year_of_release'] = 2010"
   ]
  },
  {
   "cell_type": "markdown",
   "metadata": {},
   "source": [
    "В дальнейшем работаем с актуальным срезом данным, исходя из активного срока жизний консолей, определенного выше."
   ]
  },
  {
   "cell_type": "code",
   "execution_count": 25,
   "metadata": {},
   "outputs": [],
   "source": [
    "data_actual = data[data['year_of_release'] >= 2010]"
   ]
  },
  {
   "cell_type": "markdown",
   "metadata": {},
   "source": [
    "Проанализируем актуальный период:"
   ]
  },
  {
   "cell_type": "code",
   "execution_count": 26,
   "metadata": {},
   "outputs": [
    {
     "data": {
      "image/png": "[encoded data removed]",
      "text/plain": [
       "<Figure size 1440x720 with 1 Axes>"
      ]
     },
     "metadata": {
      "needs_background": "light"
     },
     "output_type": "display_data"
    }
   ],
   "source": [
    "data_actual = data_actual.astype({\"total_sales\": \"float64\"}) # иначе падает в ошибку, связанную с float16\n",
    "plt.figure(figsize=(20, 10))\n",
    "year_group = data_actual.pivot_table(index = ['year_of_release'], columns = ['platform'], \n",
    "                                 values = ['total_sales'], aggfunc = ['sum'])\n",
    "plt.plot(year_group)\n",
    "plt.xlabel('Года')\n",
    "plt.ylabel('Количество проданных игр, миллионов')\n",
    "plt.title('График количества проданных игр')\n",
    "plt.legend(['3DS','DS','PC','PS2','PS3','PS4','PSP','PSV','Wii','WiiU','X360','XOne']) \n",
    "plt.show()"
   ]
  },
  {
   "cell_type": "code",
   "execution_count": 27,
   "metadata": {},
   "outputs": [
    {
     "data": {
      "text/html": [
       "<div>\n",
       "<style scoped>\n",
       "    .dataframe tbody tr th:only-of-type {\n",
       "        vertical-align: middle;\n",
       "    }\n",
       "\n",
       "    .dataframe tbody tr th {\n",
       "        vertical-align: top;\n",
       "    }\n",
       "\n",
       "    .dataframe thead th {\n",
       "        text-align: right;\n",
       "    }\n",
       "</style>\n",
       "<table border=\"1\" class=\"dataframe\">\n",
       "  <thead>\n",
       "    <tr style=\"text-align: right;\">\n",
       "      <th></th>\n",
       "      <th>name</th>\n",
       "      <th>platform</th>\n",
       "      <th>year_of_release</th>\n",
       "      <th>genre</th>\n",
       "      <th>na_sales</th>\n",
       "      <th>eu_sales</th>\n",
       "      <th>jp_sales</th>\n",
       "      <th>other_sales</th>\n",
       "      <th>critic_score</th>\n",
       "      <th>user_score</th>\n",
       "      <th>rating</th>\n",
       "      <th>total_sales</th>\n",
       "    </tr>\n",
       "  </thead>\n",
       "  <tbody>\n",
       "    <tr>\n",
       "      <th>14</th>\n",
       "      <td>Kinect Adventures!</td>\n",
       "      <td>X360</td>\n",
       "      <td>2010</td>\n",
       "      <td>Misc</td>\n",
       "      <td>15.000000</td>\n",
       "      <td>4.890625</td>\n",
       "      <td>0.239990</td>\n",
       "      <td>1.690430</td>\n",
       "      <td>61</td>\n",
       "      <td>6.300781</td>\n",
       "      <td>E</td>\n",
       "      <td>21.812500</td>\n",
       "    </tr>\n",
       "    <tr>\n",
       "      <th>16</th>\n",
       "      <td>Grand Theft Auto V</td>\n",
       "      <td>PS3</td>\n",
       "      <td>2013</td>\n",
       "      <td>Action</td>\n",
       "      <td>7.019531</td>\n",
       "      <td>9.093750</td>\n",
       "      <td>0.979980</td>\n",
       "      <td>3.960938</td>\n",
       "      <td>97</td>\n",
       "      <td>8.203125</td>\n",
       "      <td>M</td>\n",
       "      <td>21.062500</td>\n",
       "    </tr>\n",
       "    <tr>\n",
       "      <th>23</th>\n",
       "      <td>Grand Theft Auto V</td>\n",
       "      <td>X360</td>\n",
       "      <td>2013</td>\n",
       "      <td>Action</td>\n",
       "      <td>9.656250</td>\n",
       "      <td>5.140625</td>\n",
       "      <td>0.059998</td>\n",
       "      <td>1.410156</td>\n",
       "      <td>97</td>\n",
       "      <td>8.101562</td>\n",
       "      <td>M</td>\n",
       "      <td>16.265625</td>\n",
       "    </tr>\n",
       "    <tr>\n",
       "      <th>27</th>\n",
       "      <td>Pokemon Black/Pokemon White</td>\n",
       "      <td>DS</td>\n",
       "      <td>2010</td>\n",
       "      <td>Role-Playing</td>\n",
       "      <td>5.511719</td>\n",
       "      <td>3.169922</td>\n",
       "      <td>5.648438</td>\n",
       "      <td>0.799805</td>\n",
       "      <td>&lt;NA&gt;</td>\n",
       "      <td>NaN</td>\n",
       "      <td>Unknown</td>\n",
       "      <td>15.125000</td>\n",
       "    </tr>\n",
       "    <tr>\n",
       "      <th>29</th>\n",
       "      <td>Call of Duty: Modern Warfare 3</td>\n",
       "      <td>X360</td>\n",
       "      <td>2011</td>\n",
       "      <td>Shooter</td>\n",
       "      <td>9.039062</td>\n",
       "      <td>4.238281</td>\n",
       "      <td>0.130005</td>\n",
       "      <td>1.320312</td>\n",
       "      <td>88</td>\n",
       "      <td>3.400391</td>\n",
       "      <td>M</td>\n",
       "      <td>14.734375</td>\n",
       "    </tr>\n",
       "    <tr>\n",
       "      <th>...</th>\n",
       "      <td>...</td>\n",
       "      <td>...</td>\n",
       "      <td>...</td>\n",
       "      <td>...</td>\n",
       "      <td>...</td>\n",
       "      <td>...</td>\n",
       "      <td>...</td>\n",
       "      <td>...</td>\n",
       "      <td>...</td>\n",
       "      <td>...</td>\n",
       "      <td>...</td>\n",
       "      <td>...</td>\n",
       "    </tr>\n",
       "    <tr>\n",
       "      <th>16699</th>\n",
       "      <td>Strawberry Nauts</td>\n",
       "      <td>PSV</td>\n",
       "      <td>2016</td>\n",
       "      <td>Adventure</td>\n",
       "      <td>0.000000</td>\n",
       "      <td>0.000000</td>\n",
       "      <td>0.010002</td>\n",
       "      <td>0.000000</td>\n",
       "      <td>&lt;NA&gt;</td>\n",
       "      <td>NaN</td>\n",
       "      <td>Unknown</td>\n",
       "      <td>0.010002</td>\n",
       "    </tr>\n",
       "    <tr>\n",
       "      <th>16703</th>\n",
       "      <td>Aiyoku no Eustia</td>\n",
       "      <td>PSV</td>\n",
       "      <td>2014</td>\n",
       "      <td>Misc</td>\n",
       "      <td>0.000000</td>\n",
       "      <td>0.000000</td>\n",
       "      <td>0.010002</td>\n",
       "      <td>0.000000</td>\n",
       "      <td>&lt;NA&gt;</td>\n",
       "      <td>NaN</td>\n",
       "      <td>Unknown</td>\n",
       "      <td>0.010002</td>\n",
       "    </tr>\n",
       "    <tr>\n",
       "      <th>16706</th>\n",
       "      <td>Samurai Warriors: Sanada Maru</td>\n",
       "      <td>PS3</td>\n",
       "      <td>2016</td>\n",
       "      <td>Action</td>\n",
       "      <td>0.000000</td>\n",
       "      <td>0.000000</td>\n",
       "      <td>0.010002</td>\n",
       "      <td>0.000000</td>\n",
       "      <td>&lt;NA&gt;</td>\n",
       "      <td>NaN</td>\n",
       "      <td>Unknown</td>\n",
       "      <td>0.010002</td>\n",
       "    </tr>\n",
       "    <tr>\n",
       "      <th>16708</th>\n",
       "      <td>Haitaka no Psychedelica</td>\n",
       "      <td>PSV</td>\n",
       "      <td>2016</td>\n",
       "      <td>Adventure</td>\n",
       "      <td>0.000000</td>\n",
       "      <td>0.000000</td>\n",
       "      <td>0.010002</td>\n",
       "      <td>0.000000</td>\n",
       "      <td>&lt;NA&gt;</td>\n",
       "      <td>NaN</td>\n",
       "      <td>Unknown</td>\n",
       "      <td>0.010002</td>\n",
       "    </tr>\n",
       "    <tr>\n",
       "      <th>16710</th>\n",
       "      <td>Winning Post 8 2016</td>\n",
       "      <td>PSV</td>\n",
       "      <td>2016</td>\n",
       "      <td>Simulation</td>\n",
       "      <td>0.000000</td>\n",
       "      <td>0.000000</td>\n",
       "      <td>0.010002</td>\n",
       "      <td>0.000000</td>\n",
       "      <td>&lt;NA&gt;</td>\n",
       "      <td>NaN</td>\n",
       "      <td>Unknown</td>\n",
       "      <td>0.010002</td>\n",
       "    </tr>\n",
       "  </tbody>\n",
       "</table>\n",
       "<p>5277 rows × 12 columns</p>\n",
       "</div>"
      ],
      "text/plain": [
       "                                 name platform  year_of_release         genre  \\\n",
       "14                 Kinect Adventures!     X360             2010          Misc   \n",
       "16                 Grand Theft Auto V      PS3             2013        Action   \n",
       "23                 Grand Theft Auto V     X360             2013        Action   \n",
       "27        Pokemon Black/Pokemon White       DS             2010  Role-Playing   \n",
       "29     Call of Duty: Modern Warfare 3     X360             2011       Shooter   \n",
       "...                               ...      ...              ...           ...   \n",
       "16699                Strawberry Nauts      PSV             2016     Adventure   \n",
       "16703                Aiyoku no Eustia      PSV             2014          Misc   \n",
       "16706   Samurai Warriors: Sanada Maru      PS3             2016        Action   \n",
       "16708         Haitaka no Psychedelica      PSV             2016     Adventure   \n",
       "16710             Winning Post 8 2016      PSV             2016    Simulation   \n",
       "\n",
       "        na_sales  eu_sales  jp_sales  other_sales  critic_score  user_score  \\\n",
       "14     15.000000  4.890625  0.239990     1.690430            61    6.300781   \n",
       "16      7.019531  9.093750  0.979980     3.960938            97    8.203125   \n",
       "23      9.656250  5.140625  0.059998     1.410156            97    8.101562   \n",
       "27      5.511719  3.169922  5.648438     0.799805          <NA>         NaN   \n",
       "29      9.039062  4.238281  0.130005     1.320312            88    3.400391   \n",
       "...          ...       ...       ...          ...           ...         ...   \n",
       "16699   0.000000  0.000000  0.010002     0.000000          <NA>         NaN   \n",
       "16703   0.000000  0.000000  0.010002     0.000000          <NA>         NaN   \n",
       "16706   0.000000  0.000000  0.010002     0.000000          <NA>         NaN   \n",
       "16708   0.000000  0.000000  0.010002     0.000000          <NA>         NaN   \n",
       "16710   0.000000  0.000000  0.010002     0.000000          <NA>         NaN   \n",
       "\n",
       "        rating  total_sales  \n",
       "14           E    21.812500  \n",
       "16           M    21.062500  \n",
       "23           M    16.265625  \n",
       "27     Unknown    15.125000  \n",
       "29           M    14.734375  \n",
       "...        ...          ...  \n",
       "16699  Unknown     0.010002  \n",
       "16703  Unknown     0.010002  \n",
       "16706  Unknown     0.010002  \n",
       "16708  Unknown     0.010002  \n",
       "16710  Unknown     0.010002  \n",
       "\n",
       "[5277 rows x 12 columns]"
      ]
     },
     "execution_count": 27,
     "metadata": {},
     "output_type": "execute_result"
    }
   ],
   "source": [
    "data_actual"
   ]
  },
  {
   "cell_type": "markdown",
   "metadata": {},
   "source": [
    "Итак, мы видим, что 3DS, DS, PS2, PS3, PSP, Wii и X360 уже отжили своё. Мы не можем считать их за актуальные платформы. <br>\n",
    "Также мы видим, что WiiU и PSV не нашли своих аудиторий.<br>\n",
    "В 2017 году я бы поставил на XOne и PS4.<br>\n",
    "PC - отдельный ситуация, на платформе 95% продаж в цифре, а здесь цифра не учитывается."
   ]
  },
  {
   "cell_type": "markdown",
   "metadata": {},
   "source": [
    "Построим ящик с усами."
   ]
  },
  {
   "cell_type": "code",
   "execution_count": 28,
   "metadata": {},
   "outputs": [
    {
     "data": {
      "text/plain": [
       "Text(0, 0.5, 'Продажи, миллионов копий')"
      ]
     },
     "execution_count": 28,
     "metadata": {},
     "output_type": "execute_result"
    },
    {
     "data": {
      "image/png": "[encoded data removed]",
      "text/plain": [
       "<Figure size 1440x720 with 1 Axes>"
      ]
     },
     "metadata": {
      "needs_background": "light"
     },
     "output_type": "display_data"
    }
   ],
   "source": [
    "plt.figure(figsize=(20, 10))\n",
    "plt.title('Продажи игр в актуальный период')\n",
    "plt.ylim([0,12])\n",
    "sns.boxplot(x = data_actual[\"platform\"], y = data_actual[\"total_sales\"])\n",
    "plt.xlabel('Платформы')\n",
    "plt.ylabel('Продажи, миллионов копий')"
   ]
  },
  {
   "cell_type": "markdown",
   "metadata": {},
   "source": [
    "Видно, что в актуальный период наибольшим тиражом продались игры на X360, PS3 и DS. А также, что PS4 уже на 4-м месте, хотя вышла позже всех конкурентов."
   ]
  },
  {
   "cell_type": "markdown",
   "metadata": {},
   "source": [
    "Посмотрим, как влияют на продажи внутри одной популярной платформы отзывы пользователей и критиков. Построим диаграмму рассеяния и посчитаем корреляцию между отзывами и продажами."
   ]
  },
  {
   "cell_type": "code",
   "execution_count": 29,
   "metadata": {},
   "outputs": [
    {
     "data": {
      "text/plain": [
       "0.3400969599051333"
      ]
     },
     "execution_count": 29,
     "metadata": {},
     "output_type": "execute_result"
    }
   ],
   "source": [
    "data_actual[data_actual['platform'] == 'X360']['critic_score'].astype('float16').corr(data_actual['total_sales'])"
   ]
  },
  {
   "cell_type": "code",
   "execution_count": 30,
   "metadata": {},
   "outputs": [
    {
     "data": {
      "image/png": "[encoded data removed]",
      "text/plain": [
       "<Figure size 720x720 with 1 Axes>"
      ]
     },
     "metadata": {
      "needs_background": "light"
     },
     "output_type": "display_data"
    }
   ],
   "source": [
    "data_actual[data_actual['platform'] == 'X360'].plot(x='critic_score', y='total_sales', kind='scatter', figsize = (10, 10))\n",
    "plt.ylim([0,10])\n",
    "plt.xlabel('Оценки критиков')\n",
    "plt.ylabel('Продажи, миллионов копий')\n",
    "plt.title('Зависимость продаж от оценок критиков для игр X360')\n",
    "plt.show()"
   ]
  },
  {
   "cell_type": "code",
   "execution_count": 31,
   "metadata": {},
   "outputs": [
    {
     "data": {
      "text/plain": [
       "0.06606338667002236"
      ]
     },
     "execution_count": 31,
     "metadata": {},
     "output_type": "execute_result"
    }
   ],
   "source": [
    "data_actual[data_actual['platform'] == 'X360']['user_score'].corr(data_actual['total_sales'])"
   ]
  },
  {
   "cell_type": "code",
   "execution_count": 32,
   "metadata": {},
   "outputs": [
    {
     "data": {
      "image/png": "[encoded data removed]",
      "text/plain": [
       "<Figure size 720x720 with 1 Axes>"
      ]
     },
     "metadata": {
      "needs_background": "light"
     },
     "output_type": "display_data"
    }
   ],
   "source": [
    "data_actual[data_actual['platform'] == 'X360'].plot(x='user_score', y='total_sales', kind='scatter', figsize = (10, 10))\n",
    "plt.xlabel('Оценки игроков')\n",
    "plt.ylim([0,10])\n",
    "plt.ylabel('Продажи, миллионов копий')\n",
    "plt.title('Зависимость продаж от оценок игроков для игр X360')\n",
    "plt.show()"
   ]
  },
  {
   "cell_type": "markdown",
   "metadata": {},
   "source": [
    "Интересные выводы. <br>\n",
    "Связь между оценками критиков и продажами всё-таки существует. А вот мнение игроков мало на это влияет. <br>\n",
    "Но стоит посмотреть, как обстоят дела с какой-нибудь другой платформой. Например, PS4."
   ]
  },
  {
   "cell_type": "code",
   "execution_count": 33,
   "metadata": {},
   "outputs": [
    {
     "data": {
      "text/plain": [
       "0.4065802406899804"
      ]
     },
     "execution_count": 33,
     "metadata": {},
     "output_type": "execute_result"
    }
   ],
   "source": [
    "data_actual[data_actual['platform'] == 'PS4']['critic_score'].astype('float16').corr(data_actual['total_sales'])"
   ]
  },
  {
   "cell_type": "code",
   "execution_count": 34,
   "metadata": {},
   "outputs": [
    {
     "data": {
      "text/plain": [
       "-0.03201493087451782"
      ]
     },
     "execution_count": 34,
     "metadata": {},
     "output_type": "execute_result"
    }
   ],
   "source": [
    "data_actual[data_actual['platform'] == 'PS4']['user_score'].astype('float16').corr(data_actual['total_sales'])"
   ]
  },
  {
   "cell_type": "markdown",
   "metadata": {},
   "source": [
    "С новым поколением тенденция не только сохраняется, но и немного усиливается. Оценки критиков всё больше влияют на продажи, а мнение игроков всё меньше, а негативный фон может даже принести дополнительные продажи."
   ]
  },
  {
   "cell_type": "markdown",
   "metadata": {},
   "source": [
    "Посмотрим на распределение игр по жанрам."
   ]
  },
  {
   "cell_type": "code",
   "execution_count": 35,
   "metadata": {},
   "outputs": [
    {
     "data": {
      "text/html": [
       "<div>\n",
       "<style scoped>\n",
       "    .dataframe tbody tr th:only-of-type {\n",
       "        vertical-align: middle;\n",
       "    }\n",
       "\n",
       "    .dataframe tbody tr th {\n",
       "        vertical-align: top;\n",
       "    }\n",
       "\n",
       "    .dataframe thead th {\n",
       "        text-align: right;\n",
       "    }\n",
       "</style>\n",
       "<table border=\"1\" class=\"dataframe\">\n",
       "  <thead>\n",
       "    <tr style=\"text-align: right;\">\n",
       "      <th></th>\n",
       "      <th>sum</th>\n",
       "      <th>count</th>\n",
       "      <th>median</th>\n",
       "    </tr>\n",
       "    <tr>\n",
       "      <th>genre</th>\n",
       "      <th></th>\n",
       "      <th></th>\n",
       "      <th></th>\n",
       "    </tr>\n",
       "  </thead>\n",
       "  <tbody>\n",
       "    <tr>\n",
       "      <th>Action</th>\n",
       "      <td>673.131126</td>\n",
       "      <td>1496</td>\n",
       "      <td>0.140015</td>\n",
       "    </tr>\n",
       "    <tr>\n",
       "      <th>Shooter</th>\n",
       "      <td>479.732307</td>\n",
       "      <td>410</td>\n",
       "      <td>0.385132</td>\n",
       "    </tr>\n",
       "    <tr>\n",
       "      <th>Sports</th>\n",
       "      <td>328.359108</td>\n",
       "      <td>574</td>\n",
       "      <td>0.199951</td>\n",
       "    </tr>\n",
       "    <tr>\n",
       "      <th>Role-Playing</th>\n",
       "      <td>315.271393</td>\n",
       "      <td>568</td>\n",
       "      <td>0.150024</td>\n",
       "    </tr>\n",
       "    <tr>\n",
       "      <th>Misc</th>\n",
       "      <td>234.566887</td>\n",
       "      <td>576</td>\n",
       "      <td>0.130005</td>\n",
       "    </tr>\n",
       "    <tr>\n",
       "      <th>Racing</th>\n",
       "      <td>122.681305</td>\n",
       "      <td>237</td>\n",
       "      <td>0.169922</td>\n",
       "    </tr>\n",
       "    <tr>\n",
       "      <th>Platform</th>\n",
       "      <td>119.733772</td>\n",
       "      <td>153</td>\n",
       "      <td>0.209961</td>\n",
       "    </tr>\n",
       "    <tr>\n",
       "      <th>Fighting</th>\n",
       "      <td>81.589104</td>\n",
       "      <td>199</td>\n",
       "      <td>0.180054</td>\n",
       "    </tr>\n",
       "    <tr>\n",
       "      <th>Simulation</th>\n",
       "      <td>71.747498</td>\n",
       "      <td>217</td>\n",
       "      <td>0.100037</td>\n",
       "    </tr>\n",
       "    <tr>\n",
       "      <th>Adventure</th>\n",
       "      <td>60.996506</td>\n",
       "      <td>563</td>\n",
       "      <td>0.029999</td>\n",
       "    </tr>\n",
       "    <tr>\n",
       "      <th>Strategy</th>\n",
       "      <td>35.839104</td>\n",
       "      <td>170</td>\n",
       "      <td>0.080017</td>\n",
       "    </tr>\n",
       "    <tr>\n",
       "      <th>Puzzle</th>\n",
       "      <td>20.600510</td>\n",
       "      <td>114</td>\n",
       "      <td>0.070007</td>\n",
       "    </tr>\n",
       "  </tbody>\n",
       "</table>\n",
       "</div>"
      ],
      "text/plain": [
       "                     sum  count    median\n",
       "genre                                    \n",
       "Action        673.131126   1496  0.140015\n",
       "Shooter       479.732307    410  0.385132\n",
       "Sports        328.359108    574  0.199951\n",
       "Role-Playing  315.271393    568  0.150024\n",
       "Misc          234.566887    576  0.130005\n",
       "Racing        122.681305    237  0.169922\n",
       "Platform      119.733772    153  0.209961\n",
       "Fighting       81.589104    199  0.180054\n",
       "Simulation     71.747498    217  0.100037\n",
       "Adventure      60.996506    563  0.029999\n",
       "Strategy       35.839104    170  0.080017\n",
       "Puzzle         20.600510    114  0.070007"
      ]
     },
     "execution_count": 35,
     "metadata": {},
     "output_type": "execute_result"
    }
   ],
   "source": [
    "data_actual.groupby('genre')['total_sales'].agg({'count', 'sum', 'median'}).sort_values(by='sum', ascending = False)"
   ]
  },
  {
   "cell_type": "markdown",
   "metadata": {},
   "source": [
    "Экшены и шутеры наше всё. А вот паззлы и стратегии мало интересуют публику. <br>\n",
    "Довольно правдоподобный результат. "
   ]
  },
  {
   "cell_type": "markdown",
   "metadata": {},
   "source": [
    "##  Региональные портреты геймеров"
   ]
  },
  {
   "cell_type": "markdown",
   "metadata": {},
   "source": [
    "Определим для пользователя каждого региона (NA, EU, JP) cамые популярные платформы:"
   ]
  },
  {
   "cell_type": "code",
   "execution_count": 36,
   "metadata": {},
   "outputs": [
    {
     "data": {
      "text/plain": [
       "platform\n",
       "X360    334.250000\n",
       "PS3     229.250000\n",
       "Wii     121.187500\n",
       "PS4     108.750000\n",
       "XOne     93.125000\n",
       "3DS      82.625000\n",
       "DS       59.656250\n",
       "PC       39.062500\n",
       "WiiU     38.093750\n",
       "PSV      12.468750\n",
       "PSP       9.648438\n",
       "PS2       2.320312\n",
       "Name: na_sales, dtype: float16"
      ]
     },
     "execution_count": 36,
     "metadata": {},
     "output_type": "execute_result"
    }
   ],
   "source": [
    "data_actual.groupby('platform')['na_sales'].agg('sum').sort_values(ascending = False)"
   ]
  },
  {
   "cell_type": "code",
   "execution_count": 37,
   "metadata": {},
   "outputs": [
    {
     "data": {
      "text/plain": [
       "platform\n",
       "PS3     213.625000\n",
       "X360    163.375000\n",
       "PS4     141.125000\n",
       "PC       68.812500\n",
       "Wii      65.937500\n",
       "3DS      61.281250\n",
       "XOne     51.593750\n",
       "DS       28.062500\n",
       "WiiU     25.125000\n",
       "PSV      13.070312\n",
       "PSP       7.589844\n",
       "PS2       1.669922\n",
       "Name: eu_sales, dtype: float16"
      ]
     },
     "execution_count": 37,
     "metadata": {},
     "output_type": "execute_result"
    }
   ],
   "source": [
    "data_actual.groupby('platform')['eu_sales'].agg('sum').sort_values(ascending = False)"
   ]
  },
  {
   "cell_type": "code",
   "execution_count": 38,
   "metadata": {},
   "outputs": [
    {
     "data": {
      "text/plain": [
       "platform\n",
       "3DS     100.625000\n",
       "PS3      59.250000\n",
       "PSP      42.187500\n",
       "DS       27.921875\n",
       "PSV      21.843750\n",
       "Wii      17.750000\n",
       "PS4      15.960938\n",
       "WiiU     13.007812\n",
       "X360      5.460938\n",
       "PS2       0.799805\n",
       "XOne      0.340088\n",
       "PC        0.000000\n",
       "Name: jp_sales, dtype: float16"
      ]
     },
     "execution_count": 38,
     "metadata": {},
     "output_type": "execute_result"
    }
   ],
   "source": [
    "data_actual.groupby('platform')['jp_sales'].agg('sum').sort_values(ascending = False)"
   ]
  },
  {
   "cell_type": "markdown",
   "metadata": {},
   "source": [
    "Похоже, американцы предпочитают Xbox, европейцы - PS, а японцы - портативные консоли от Nintendo. <br>\n",
    "Американские рынок самый большой, японский - самый маленький. Но доля геймеров в Японии явно выше, чем в США и Европе."
   ]
  },
  {
   "cell_type": "markdown",
   "metadata": {},
   "source": [
    "Определим самые популярные жанры для каждого региона."
   ]
  },
  {
   "cell_type": "code",
   "execution_count": 39,
   "metadata": {},
   "outputs": [
    {
     "data": {
      "text/plain": [
       "genre\n",
       "Action          290.750000\n",
       "Shooter         237.500000\n",
       "Sports          156.750000\n",
       "Misc            123.812500\n",
       "Role-Playing    112.062500\n",
       "Platform         54.906250\n",
       "Racing           46.125000\n",
       "Fighting         39.062500\n",
       "Simulation       26.390625\n",
       "Adventure        20.843750\n",
       "Strategy         13.250000\n",
       "Puzzle            9.101562\n",
       "Name: na_sales, dtype: float16"
      ]
     },
     "execution_count": 39,
     "metadata": {},
     "output_type": "execute_result"
    }
   ],
   "source": [
    "data_actual.groupby('genre')['na_sales'].agg('sum').sort_values(ascending = False)"
   ]
  },
  {
   "cell_type": "code",
   "execution_count": 40,
   "metadata": {},
   "outputs": [
    {
     "data": {
      "text/plain": [
       "genre\n",
       "Action          233.625000\n",
       "Shooter         171.500000\n",
       "Sports          116.812500\n",
       "Role-Playing     75.500000\n",
       "Misc             66.062500\n",
       "Racing           54.750000\n",
       "Platform         38.312500\n",
       "Simulation       26.390625\n",
       "Fighting         20.328125\n",
       "Adventure        18.875000\n",
       "Strategy         12.492188\n",
       "Puzzle            6.582031\n",
       "Name: eu_sales, dtype: float16"
      ]
     },
     "execution_count": 40,
     "metadata": {},
     "output_type": "execute_result"
    }
   ],
   "source": [
    "data_actual.groupby('genre')['eu_sales'].agg('sum').sort_values(ascending = False)"
   ]
  },
  {
   "cell_type": "code",
   "execution_count": 41,
   "metadata": {},
   "outputs": [
    {
     "data": {
      "text/plain": [
       "genre\n",
       "Role-Playing    103.562500\n",
       "Action           72.250000\n",
       "Misc             24.296875\n",
       "Platform         15.812500\n",
       "Adventure        15.671875\n",
       "Sports           15.507812\n",
       "Shooter          14.039062\n",
       "Fighting         13.898438\n",
       "Simulation       13.304688\n",
       "Strategy          6.800781\n",
       "Racing            6.679688\n",
       "Puzzle            3.400391\n",
       "Name: jp_sales, dtype: float16"
      ]
     },
     "execution_count": 41,
     "metadata": {},
     "output_type": "execute_result"
    }
   ],
   "source": [
    "data_actual.groupby('genre')['jp_sales'].agg('sum').sort_values(ascending = False)"
   ]
  },
  {
   "cell_type": "markdown",
   "metadata": {},
   "source": [
    "Здесь мы видим, что американцы и европейцы предпочитают шутеры и экшены, а вот японцы - РПГ."
   ]
  },
  {
   "cell_type": "markdown",
   "metadata": {},
   "source": [
    "Влияет ли рейтинг ESRB на продажи в отдельном регионе?"
   ]
  },
  {
   "cell_type": "code",
   "execution_count": 42,
   "metadata": {},
   "outputs": [
    {
     "data": {
      "text/plain": [
       "rating\n",
       "M          382.250000\n",
       "E          271.250000\n",
       "T          160.750000\n",
       "E10+       159.375000\n",
       "Unknown    155.750000\n",
       "EC           1.129883\n",
       "RP           0.000000\n",
       "Name: na_sales, dtype: float16"
      ]
     },
     "execution_count": 42,
     "metadata": {},
     "output_type": "execute_result"
    }
   ],
   "source": [
    "data_actual.groupby('rating')['na_sales'].agg('sum').sort_values(ascending = False)"
   ]
  },
  {
   "cell_type": "code",
   "execution_count": 43,
   "metadata": {},
   "outputs": [
    {
     "data": {
      "text/plain": [
       "rating\n",
       "M          292.000000\n",
       "E          197.375000\n",
       "Unknown    139.500000\n",
       "T          113.062500\n",
       "E10+        99.250000\n",
       "RP           0.029999\n",
       "EC           0.000000\n",
       "Name: eu_sales, dtype: float16"
      ]
     },
     "execution_count": 43,
     "metadata": {},
     "output_type": "execute_result"
    }
   ],
   "source": [
    "data_actual.groupby('rating')['eu_sales'].agg('sum').sort_values(ascending = False)"
   ]
  },
  {
   "cell_type": "code",
   "execution_count": 44,
   "metadata": {},
   "outputs": [
    {
     "data": {
      "text/plain": [
       "rating\n",
       "Unknown    171.500000\n",
       "E           47.875000\n",
       "T           42.125000\n",
       "M           30.453125\n",
       "E10+        13.218750\n",
       "EC           0.000000\n",
       "RP           0.000000\n",
       "Name: jp_sales, dtype: float16"
      ]
     },
     "execution_count": 44,
     "metadata": {},
     "output_type": "execute_result"
    }
   ],
   "source": [
    "data_actual.groupby('rating')['jp_sales'].agg('sum').sort_values(ascending = False)"
   ]
  },
  {
   "cell_type": "markdown",
   "metadata": {},
   "source": [
    "Вывод: пропущенных значений довольно много.<br>\n",
    "В случае с Европой и Японии, возможно, из-за того, что система ESRB - американская, а в этих регионах свои рейтинговые агентства."
   ]
  },
  {
   "cell_type": "markdown",
   "metadata": {},
   "source": [
    "И вновь мы видим схожесть рынка в Европе и США - предпочитают игры для взрослых (M), а Япония - игры для любого возраста (E)."
   ]
  },
  {
   "cell_type": "markdown",
   "metadata": {},
   "source": [
    "##  Проверка гипотез"
   ]
  },
  {
   "cell_type": "markdown",
   "metadata": {},
   "source": [
    "Проверим гипотезы согласно заданию.\n",
    "\n",
    "1) Средние пользовательские рейтинги платформ Xbox One и PC одинаковые.<br>\n",
    "Альтернативная гипотеза - средние пользовательские рейтинге платформ отличаются."
   ]
  },
  {
   "cell_type": "code",
   "execution_count": 45,
   "metadata": {},
   "outputs": [],
   "source": [
    "xbox_games = data_actual[(data_actual['platform'] == 'XOne') & (~data_actual['user_score'].isna())] #определяем выборки\n",
    "pc_games = data_actual[(data_actual['platform'] == 'PC') & (~data_actual['user_score'].isna())]"
   ]
  },
  {
   "cell_type": "code",
   "execution_count": 46,
   "metadata": {},
   "outputs": [
    {
     "data": {
      "text/plain": [
       "0.9771421555211608"
      ]
     },
     "execution_count": 46,
     "metadata": {},
     "output_type": "execute_result"
    }
   ],
   "source": [
    "alpha = 0.05 # примем стандартный уровень критической значимости\n",
    "results = st.ttest_ind(\n",
    "    xbox_games['user_score'], \n",
    "    pc_games['user_score']) # найдем p-значение\n",
    "results.pvalue"
   ]
  },
  {
   "cell_type": "code",
   "execution_count": 47,
   "metadata": {},
   "outputs": [
    {
     "name": "stdout",
     "output_type": "stream",
     "text": [
      "Не получилось отвергнуть нулевую гипотезу\n"
     ]
    }
   ],
   "source": [
    "if results.pvalue < alpha:\n",
    "    print(\"Отвергаем нулевую гипотезу\")\n",
    "else:\n",
    "    print(\"Не получилось отвергнуть нулевую гипотезу\") "
   ]
  },
  {
   "cell_type": "markdown",
   "metadata": {},
   "source": [
    "2) Средние пользовательские рейтинги жанров Action (англ. «действие», экшен-игры) и Sports (англ. «спортивные соревнования») одинаковые. <br>\n",
    "Альтернативная гипотеза: средние пользовательские рейтинги разные."
   ]
  },
  {
   "cell_type": "code",
   "execution_count": 48,
   "metadata": {},
   "outputs": [],
   "source": [
    "action_games = data_actual[(data_actual['genre'] == 'Action') & (~data_actual['user_score'].isna())] #определяем выборки\n",
    "sport_games = data_actual[(data_actual['genre'] == 'Sports') & (~data_actual['user_score'].isna())]"
   ]
  },
  {
   "cell_type": "code",
   "execution_count": 49,
   "metadata": {},
   "outputs": [
    {
     "data": {
      "text/plain": [
       "1.0001291442580678e-18"
      ]
     },
     "execution_count": 49,
     "metadata": {},
     "output_type": "execute_result"
    }
   ],
   "source": [
    "alpha = 0.05 # примем стандартный уровень критической значимости\n",
    "results2 = st.ttest_ind(\n",
    "    action_games['user_score'], \n",
    "    sport_games['user_score']) # найдем p-значение\n",
    "results2.pvalue"
   ]
  },
  {
   "cell_type": "code",
   "execution_count": 50,
   "metadata": {},
   "outputs": [
    {
     "name": "stdout",
     "output_type": "stream",
     "text": [
      "Отвергаем нулевую гипотезу\n"
     ]
    }
   ],
   "source": [
    "if results2.pvalue < alpha:\n",
    "    print(\"Отвергаем нулевую гипотезу\") \n",
    "else:\n",
    "    print(\"Не получилось отвергнуть нулевую гипотезу\")"
   ]
  },
  {
   "cell_type": "markdown",
   "metadata": {},
   "source": [
    "## Выводы"
   ]
  },
  {
   "cell_type": "markdown",
   "metadata": {},
   "source": [
    "В результате выполнения проекта произведена предобработка данных: оптимизированы типы, переименованы столбцы, проверено наличие дубликатов.\n",
    "\n",
    "Проведен анализ количества игр с 1980 по 2016, проанализированы продажи по платформам, построен график с распределением по годам. Определён полный жизненный цикл консоли - 10 лет и активный цикл - 7 лет.\n",
    "\n",
    "По данным 7-летнего среза определено, что 3DS, DS, PS2, PS3, PSP, Wii и X360 прошли пики своих популярностей. <br>\n",
    "Также выявлено, что WiiU и PSV не нашли своих аудиторий.<br>\n",
    "\n",
    "В 2017 году потенциально прибыльными платформами станут XOne и PS4. <br>\n",
    "\n",
    "Выяснено влияние отзывов на продажи игр. Отзывы критиков имеют свой вес и могут влиять на продажи, оценки пользователей влиянием не располагают.\n",
    "\n",
    "Определены самые прибыльные жанры: на долю экшенов , шутеров и спортивных игр приходится более половины рынка - около полутора миллиарда проданных коробок. <br>\n",
    "\n",
    "Проведен региональный анализ рынка. Американцы предпочитают Xbox (334 миллиона проданных игр), из игр - шутеры и экшены (237 млн. и 290 млн. соотв), европейцы - PS (213 млн.) и также шутеры (133 млн.) и экшены (231 млн.), а вот японцы - портативные консоли от Nintendo (100 млн.) и ролевые игры (103 млн.). <br>\n",
    "Американские рынок самый большой, японский - самый маленький. Но доля геймеров в Японии явно выше, чем в США и Европе.<br>\n",
    "\n",
    "В США и Европе больше популярны игры с рейтингом М, а Япония предпочитает игры для всех возрастов с рейтингом Е.<br>\n",
    "\n",
    "Проверены и принята гипотеза о равенстве cреднего пользовательского рейтинга платформ Xbox One и PC, отвергнута - о равенстве средних пользовательских рейтингов жанров Action и Sports. <br>"
   ]
  }
 ],
 "metadata": {
  "ExecuteTimeLog": [
   {
    "duration": 3223,
    "start_time": "2022-01-16T14:40:50.445Z"
   },
   {
    "duration": 60,
    "start_time": "2022-01-16T14:41:56.992Z"
   },
   {
    "duration": 25,
    "start_time": "2022-01-16T14:42:34.546Z"
   },
   {
    "duration": 127,
    "start_time": "2022-01-16T14:42:39.133Z"
   },
   {
    "duration": 22,
    "start_time": "2022-01-16T14:42:42.309Z"
   },
   {
    "duration": 70,
    "start_time": "2022-01-16T14:44:32.274Z"
   },
   {
    "duration": 182,
    "start_time": "2022-01-16T14:45:31.124Z"
   },
   {
    "duration": 127,
    "start_time": "2022-01-16T14:45:42.491Z"
   },
   {
    "duration": 559,
    "start_time": "2022-01-16T14:46:06.071Z"
   },
   {
    "duration": 447,
    "start_time": "2022-01-16T14:46:16.443Z"
   },
   {
    "duration": 442,
    "start_time": "2022-01-16T14:49:41.345Z"
   },
   {
    "duration": 4084,
    "start_time": "2022-01-16T14:50:33.395Z"
   },
   {
    "duration": 4,
    "start_time": "2022-01-16T14:52:09.960Z"
   },
   {
    "duration": 5032,
    "start_time": "2022-01-16T14:53:04.866Z"
   },
   {
    "duration": 3786,
    "start_time": "2022-01-16T14:53:37.925Z"
   },
   {
    "duration": 82,
    "start_time": "2022-01-16T14:57:07.887Z"
   },
   {
    "duration": 143,
    "start_time": "2022-01-16T15:43:48.448Z"
   },
   {
    "duration": 4,
    "start_time": "2022-01-16T15:45:16.201Z"
   },
   {
    "duration": 2771,
    "start_time": "2022-01-16T15:47:01.455Z"
   },
   {
    "duration": 11,
    "start_time": "2022-01-16T15:47:14.939Z"
   },
   {
    "duration": 139,
    "start_time": "2022-01-16T15:49:26.523Z"
   },
   {
    "duration": 14,
    "start_time": "2022-01-16T15:50:10.713Z"
   },
   {
    "duration": 434,
    "start_time": "2022-01-16T15:50:44.697Z"
   },
   {
    "duration": 15,
    "start_time": "2022-01-16T15:50:57.513Z"
   },
   {
    "duration": 416,
    "start_time": "2022-01-16T15:51:13.123Z"
   },
   {
    "duration": 15,
    "start_time": "2022-01-16T15:51:40.544Z"
   },
   {
    "duration": 11,
    "start_time": "2022-01-16T15:52:14.584Z"
   },
   {
    "duration": 9,
    "start_time": "2022-01-16T15:53:03.624Z"
   },
   {
    "duration": 20,
    "start_time": "2022-01-16T15:53:34.132Z"
   },
   {
    "duration": 17,
    "start_time": "2022-01-16T15:54:56.025Z"
   },
   {
    "duration": 19,
    "start_time": "2022-01-16T15:54:59.553Z"
   },
   {
    "duration": 1528,
    "start_time": "2022-01-16T15:55:30.350Z"
   },
   {
    "duration": 61,
    "start_time": "2022-01-16T15:55:31.881Z"
   },
   {
    "duration": 61,
    "start_time": "2022-01-16T15:55:31.946Z"
   },
   {
    "duration": 4,
    "start_time": "2022-01-16T15:55:32.010Z"
   },
   {
    "duration": 27,
    "start_time": "2022-01-16T15:55:32.017Z"
   },
   {
    "duration": 34,
    "start_time": "2022-01-16T15:55:32.047Z"
   },
   {
    "duration": 17,
    "start_time": "2022-01-16T15:55:42.948Z"
   },
   {
    "duration": 1897,
    "start_time": "2022-01-16T15:56:29.145Z"
   },
   {
    "duration": 72,
    "start_time": "2022-01-16T15:56:31.045Z"
   },
   {
    "duration": 33,
    "start_time": "2022-01-16T15:56:31.121Z"
   },
   {
    "duration": 8,
    "start_time": "2022-01-16T15:56:31.157Z"
   },
   {
    "duration": 62,
    "start_time": "2022-01-16T15:56:31.169Z"
   },
   {
    "duration": 31,
    "start_time": "2022-01-16T15:56:31.234Z"
   },
   {
    "duration": 8,
    "start_time": "2022-01-16T15:57:02.256Z"
   },
   {
    "duration": 26,
    "start_time": "2022-01-16T15:57:10.487Z"
   },
   {
    "duration": 35,
    "start_time": "2022-01-16T16:04:15.017Z"
   },
   {
    "duration": 10,
    "start_time": "2022-01-16T16:05:05.315Z"
   },
   {
    "duration": 13,
    "start_time": "2022-01-16T16:06:19.040Z"
   },
   {
    "duration": 10,
    "start_time": "2022-01-16T16:06:34.066Z"
   },
   {
    "duration": 12,
    "start_time": "2022-01-16T16:06:53.188Z"
   },
   {
    "duration": 11,
    "start_time": "2022-01-16T16:07:13.946Z"
   },
   {
    "duration": 9,
    "start_time": "2022-01-16T16:07:44.652Z"
   },
   {
    "duration": 192,
    "start_time": "2022-01-16T16:08:17.672Z"
   },
   {
    "duration": 34,
    "start_time": "2022-01-16T16:08:29.569Z"
   },
   {
    "duration": 8,
    "start_time": "2022-01-16T16:11:52.563Z"
   },
   {
    "duration": 21,
    "start_time": "2022-01-16T16:11:54.692Z"
   },
   {
    "duration": 22,
    "start_time": "2022-01-16T16:13:16.215Z"
   },
   {
    "duration": 513,
    "start_time": "2022-01-16T16:18:33.229Z"
   },
   {
    "duration": 398,
    "start_time": "2022-01-16T16:19:47.140Z"
   },
   {
    "duration": 390,
    "start_time": "2022-01-16T16:21:54.245Z"
   },
   {
    "duration": 379,
    "start_time": "2022-01-16T16:23:10.758Z"
   },
   {
    "duration": 391,
    "start_time": "2022-01-16T16:23:30.285Z"
   },
   {
    "duration": 1431,
    "start_time": "2022-01-16T16:23:48.443Z"
   },
   {
    "duration": 61,
    "start_time": "2022-01-16T16:23:49.877Z"
   },
   {
    "duration": 25,
    "start_time": "2022-01-16T16:23:49.942Z"
   },
   {
    "duration": 5,
    "start_time": "2022-01-16T16:23:49.970Z"
   },
   {
    "duration": 34,
    "start_time": "2022-01-16T16:23:49.978Z"
   },
   {
    "duration": 33,
    "start_time": "2022-01-16T16:23:50.014Z"
   },
   {
    "duration": 7,
    "start_time": "2022-01-16T16:23:50.050Z"
   },
   {
    "duration": 56,
    "start_time": "2022-01-16T16:23:50.060Z"
   },
   {
    "duration": 3,
    "start_time": "2022-01-16T16:23:50.120Z"
   },
   {
    "duration": 9,
    "start_time": "2022-01-16T16:23:56.149Z"
   },
   {
    "duration": 15,
    "start_time": "2022-01-16T16:24:04.159Z"
   },
   {
    "duration": 9771,
    "start_time": "2022-01-16T16:24:19.938Z"
   },
   {
    "duration": 9902,
    "start_time": "2022-01-16T16:24:54.936Z"
   },
   {
    "duration": 9651,
    "start_time": "2022-01-16T16:25:33.239Z"
   },
   {
    "duration": 465,
    "start_time": "2022-01-16T16:26:12.228Z"
   },
   {
    "duration": 29,
    "start_time": "2022-01-16T16:26:22.549Z"
   },
   {
    "duration": 479,
    "start_time": "2022-01-16T16:26:33.640Z"
   },
   {
    "duration": 1436,
    "start_time": "2022-01-16T16:26:55.854Z"
   },
   {
    "duration": 63,
    "start_time": "2022-01-16T16:26:57.293Z"
   },
   {
    "duration": 27,
    "start_time": "2022-01-16T16:26:57.359Z"
   },
   {
    "duration": 14,
    "start_time": "2022-01-16T16:26:57.388Z"
   },
   {
    "duration": 16,
    "start_time": "2022-01-16T16:26:57.405Z"
   },
   {
    "duration": 35,
    "start_time": "2022-01-16T16:26:57.424Z"
   },
   {
    "duration": 45,
    "start_time": "2022-01-16T16:26:57.462Z"
   },
   {
    "duration": 46,
    "start_time": "2022-01-16T16:26:57.509Z"
   },
   {
    "duration": 16,
    "start_time": "2022-01-16T16:26:57.558Z"
   },
   {
    "duration": 31,
    "start_time": "2022-01-16T16:27:04.910Z"
   },
   {
    "duration": 1653,
    "start_time": "2022-01-16T16:28:32.005Z"
   },
   {
    "duration": 61,
    "start_time": "2022-01-16T16:28:33.661Z"
   },
   {
    "duration": 25,
    "start_time": "2022-01-16T16:28:33.725Z"
   },
   {
    "duration": 5,
    "start_time": "2022-01-16T16:28:33.753Z"
   },
   {
    "duration": 41,
    "start_time": "2022-01-16T16:28:33.761Z"
   },
   {
    "duration": 32,
    "start_time": "2022-01-16T16:28:33.805Z"
   },
   {
    "duration": 7,
    "start_time": "2022-01-16T16:28:33.839Z"
   },
   {
    "duration": 51,
    "start_time": "2022-01-16T16:28:33.849Z"
   },
   {
    "duration": 10,
    "start_time": "2022-01-16T16:28:33.903Z"
   },
   {
    "duration": 20,
    "start_time": "2022-01-16T16:28:33.916Z"
   },
   {
    "duration": 7,
    "start_time": "2022-01-16T16:33:45.779Z"
   },
   {
    "duration": 1306,
    "start_time": "2022-01-16T16:33:52.800Z"
   },
   {
    "duration": 16,
    "start_time": "2022-01-16T16:34:16.661Z"
   },
   {
    "duration": 7,
    "start_time": "2022-01-16T16:34:59.701Z"
   },
   {
    "duration": 8,
    "start_time": "2022-01-16T16:37:00.001Z"
   },
   {
    "duration": 6,
    "start_time": "2022-01-16T16:37:06.669Z"
   },
   {
    "duration": 9,
    "start_time": "2022-01-16T16:37:29.133Z"
   },
   {
    "duration": 6,
    "start_time": "2022-01-16T16:37:34.259Z"
   },
   {
    "duration": 6,
    "start_time": "2022-01-16T16:37:39.499Z"
   },
   {
    "duration": 15,
    "start_time": "2022-01-16T16:43:32.392Z"
   },
   {
    "duration": 15,
    "start_time": "2022-01-16T16:44:53.149Z"
   },
   {
    "duration": 15,
    "start_time": "2022-01-16T16:45:08.090Z"
   },
   {
    "duration": 13,
    "start_time": "2022-01-16T16:45:31.846Z"
   },
   {
    "duration": 19,
    "start_time": "2022-01-16T16:45:41.420Z"
   },
   {
    "duration": 40,
    "start_time": "2022-01-16T16:50:22.043Z"
   },
   {
    "duration": 14,
    "start_time": "2022-01-16T16:53:50.587Z"
   },
   {
    "duration": 14,
    "start_time": "2022-01-16T17:02:02.340Z"
   },
   {
    "duration": 23,
    "start_time": "2022-01-16T17:02:10.867Z"
   },
   {
    "duration": 10,
    "start_time": "2022-01-16T17:03:47.505Z"
   },
   {
    "duration": 444,
    "start_time": "2022-01-16T17:13:34.198Z"
   },
   {
    "duration": 458,
    "start_time": "2022-01-16T17:14:45.917Z"
   },
   {
    "duration": 393,
    "start_time": "2022-01-16T17:16:28.012Z"
   },
   {
    "duration": 9737,
    "start_time": "2022-01-16T17:24:05.208Z"
   },
   {
    "duration": 470,
    "start_time": "2022-01-16T17:24:15.649Z"
   },
   {
    "duration": 24,
    "start_time": "2022-01-16T17:24:28.051Z"
   },
   {
    "duration": 23,
    "start_time": "2022-01-16T17:24:56.380Z"
   },
   {
    "duration": 26,
    "start_time": "2022-01-16T17:25:10.178Z"
   },
   {
    "duration": 8,
    "start_time": "2022-01-16T17:28:34.810Z"
   },
   {
    "duration": 24,
    "start_time": "2022-01-16T17:30:20.241Z"
   },
   {
    "duration": 35,
    "start_time": "2022-01-16T17:30:50.199Z"
   },
   {
    "duration": 34,
    "start_time": "2022-01-16T17:32:58.135Z"
   },
   {
    "duration": 28,
    "start_time": "2022-01-16T17:33:11.541Z"
   },
   {
    "duration": 513,
    "start_time": "2022-01-16T17:38:06.220Z"
   },
   {
    "duration": 384,
    "start_time": "2022-01-16T17:38:21.255Z"
   },
   {
    "duration": 10613,
    "start_time": "2022-01-16T17:39:00.995Z"
   },
   {
    "duration": 10557,
    "start_time": "2022-01-16T17:39:52.771Z"
   },
   {
    "duration": 10875,
    "start_time": "2022-01-16T17:40:57.642Z"
   },
   {
    "duration": 9,
    "start_time": "2022-01-16T17:41:23.719Z"
   },
   {
    "duration": 33,
    "start_time": "2022-01-16T17:43:18.476Z"
   },
   {
    "duration": 11,
    "start_time": "2022-01-16T17:44:42.934Z"
   },
   {
    "duration": 29,
    "start_time": "2022-01-16T17:44:53.096Z"
   },
   {
    "duration": 43,
    "start_time": "2022-01-16T17:47:54.862Z"
   },
   {
    "duration": 394,
    "start_time": "2022-01-16T17:48:13.218Z"
   },
   {
    "duration": 5,
    "start_time": "2022-01-16T17:48:19.146Z"
   },
   {
    "duration": 3,
    "start_time": "2022-01-16T17:48:57.095Z"
   },
   {
    "duration": 1491,
    "start_time": "2022-01-16T17:50:05.888Z"
   },
   {
    "duration": 61,
    "start_time": "2022-01-16T17:50:07.382Z"
   },
   {
    "duration": 26,
    "start_time": "2022-01-16T17:50:07.446Z"
   },
   {
    "duration": 3,
    "start_time": "2022-01-16T17:50:07.476Z"
   },
   {
    "duration": 30,
    "start_time": "2022-01-16T17:50:07.482Z"
   },
   {
    "duration": 34,
    "start_time": "2022-01-16T17:50:07.514Z"
   },
   {
    "duration": 8,
    "start_time": "2022-01-16T17:50:07.551Z"
   },
   {
    "duration": 58,
    "start_time": "2022-01-16T17:50:07.562Z"
   },
   {
    "duration": 10,
    "start_time": "2022-01-16T17:50:07.624Z"
   },
   {
    "duration": 7,
    "start_time": "2022-01-16T17:50:07.637Z"
   },
   {
    "duration": 15,
    "start_time": "2022-01-16T17:50:07.647Z"
   },
   {
    "duration": 11,
    "start_time": "2022-01-16T17:50:07.701Z"
   },
   {
    "duration": 416,
    "start_time": "2022-01-16T17:50:07.715Z"
   },
   {
    "duration": 24,
    "start_time": "2022-01-16T17:50:08.134Z"
   },
   {
    "duration": 443,
    "start_time": "2022-01-16T17:50:08.160Z"
   },
   {
    "duration": 26,
    "start_time": "2022-01-16T17:50:08.606Z"
   },
   {
    "duration": 460,
    "start_time": "2022-01-16T17:50:08.635Z"
   },
   {
    "duration": 24,
    "start_time": "2022-01-16T17:50:09.098Z"
   },
   {
    "duration": 7,
    "start_time": "2022-01-16T17:50:09.124Z"
   },
   {
    "duration": 32,
    "start_time": "2022-01-16T17:50:09.133Z"
   },
   {
    "duration": 503,
    "start_time": "2022-01-16T18:08:26.934Z"
   },
   {
    "duration": 438,
    "start_time": "2022-01-16T18:08:36.813Z"
   },
   {
    "duration": 134,
    "start_time": "2022-01-16T18:09:27.380Z"
   },
   {
    "duration": 539,
    "start_time": "2022-01-16T18:09:32.412Z"
   },
   {
    "duration": 559,
    "start_time": "2022-01-16T18:10:14.320Z"
   },
   {
    "duration": 938,
    "start_time": "2022-01-16T18:11:36.430Z"
   },
   {
    "duration": 536,
    "start_time": "2022-01-16T18:16:26.011Z"
   },
   {
    "duration": 543,
    "start_time": "2022-01-16T18:16:37.465Z"
   },
   {
    "duration": 545,
    "start_time": "2022-01-16T18:16:45.819Z"
   },
   {
    "duration": 553,
    "start_time": "2022-01-16T18:20:43.805Z"
   },
   {
    "duration": 727,
    "start_time": "2022-01-16T18:21:00.120Z"
   },
   {
    "duration": 2828,
    "start_time": "2022-01-16T18:21:17.993Z"
   },
   {
    "duration": 2510,
    "start_time": "2022-01-16T18:21:42.908Z"
   },
   {
    "duration": 1714,
    "start_time": "2022-01-16T18:22:08.506Z"
   },
   {
    "duration": 2910,
    "start_time": "2022-01-16T18:22:19.813Z"
   },
   {
    "duration": 1503,
    "start_time": "2022-01-16T18:22:34.009Z"
   },
   {
    "duration": 1048,
    "start_time": "2022-01-16T18:22:47.471Z"
   },
   {
    "duration": 849,
    "start_time": "2022-01-16T18:24:01.344Z"
   },
   {
    "duration": 442,
    "start_time": "2022-01-16T18:28:44.736Z"
   },
   {
    "duration": 396,
    "start_time": "2022-01-16T18:28:55.923Z"
   },
   {
    "duration": 1028,
    "start_time": "2022-01-16T18:29:24.792Z"
   },
   {
    "duration": 415,
    "start_time": "2022-01-16T18:29:47.432Z"
   },
   {
    "duration": 440,
    "start_time": "2022-01-16T18:30:03.460Z"
   },
   {
    "duration": 424,
    "start_time": "2022-01-16T18:30:13.012Z"
   },
   {
    "duration": 523,
    "start_time": "2022-01-16T18:31:24.935Z"
   },
   {
    "duration": 901,
    "start_time": "2022-01-16T18:31:54.682Z"
   },
   {
    "duration": 530,
    "start_time": "2022-01-16T18:32:17.230Z"
   },
   {
    "duration": 404,
    "start_time": "2022-01-16T18:32:48.406Z"
   },
   {
    "duration": 141,
    "start_time": "2022-01-16T18:33:59.731Z"
   },
   {
    "duration": 13,
    "start_time": "2022-01-16T18:34:05.778Z"
   },
   {
    "duration": 1664,
    "start_time": "2022-01-16T18:34:13.169Z"
   },
   {
    "duration": 63,
    "start_time": "2022-01-16T18:34:14.836Z"
   },
   {
    "duration": 26,
    "start_time": "2022-01-16T18:34:14.902Z"
   },
   {
    "duration": 4,
    "start_time": "2022-01-16T18:34:14.931Z"
   },
   {
    "duration": 670,
    "start_time": "2022-01-16T18:34:14.937Z"
   },
   {
    "duration": -2783,
    "start_time": "2022-01-16T18:34:18.394Z"
   },
   {
    "duration": -2789,
    "start_time": "2022-01-16T18:34:18.402Z"
   },
   {
    "duration": -2795,
    "start_time": "2022-01-16T18:34:18.409Z"
   },
   {
    "duration": -2800,
    "start_time": "2022-01-16T18:34:18.416Z"
   },
   {
    "duration": -2805,
    "start_time": "2022-01-16T18:34:18.422Z"
   },
   {
    "duration": -2810,
    "start_time": "2022-01-16T18:34:18.429Z"
   },
   {
    "duration": -2816,
    "start_time": "2022-01-16T18:34:18.436Z"
   },
   {
    "duration": -2822,
    "start_time": "2022-01-16T18:34:18.444Z"
   },
   {
    "duration": -2828,
    "start_time": "2022-01-16T18:34:18.451Z"
   },
   {
    "duration": -2832,
    "start_time": "2022-01-16T18:34:18.457Z"
   },
   {
    "duration": -2842,
    "start_time": "2022-01-16T18:34:18.468Z"
   },
   {
    "duration": -2850,
    "start_time": "2022-01-16T18:34:18.478Z"
   },
   {
    "duration": -2856,
    "start_time": "2022-01-16T18:34:18.485Z"
   },
   {
    "duration": -2869,
    "start_time": "2022-01-16T18:34:18.500Z"
   },
   {
    "duration": -2872,
    "start_time": "2022-01-16T18:34:18.504Z"
   },
   {
    "duration": -2873,
    "start_time": "2022-01-16T18:34:18.507Z"
   },
   {
    "duration": -2875,
    "start_time": "2022-01-16T18:34:18.510Z"
   },
   {
    "duration": -2877,
    "start_time": "2022-01-16T18:34:18.513Z"
   },
   {
    "duration": 188,
    "start_time": "2022-01-16T18:34:57.728Z"
   },
   {
    "duration": 135,
    "start_time": "2022-01-16T18:35:01.982Z"
   },
   {
    "duration": 1522,
    "start_time": "2022-01-16T18:35:38.608Z"
   },
   {
    "duration": 16,
    "start_time": "2022-01-16T18:36:01.851Z"
   },
   {
    "duration": 2016,
    "start_time": "2022-01-16T18:36:07.520Z"
   },
   {
    "duration": 84,
    "start_time": "2022-01-16T18:36:09.540Z"
   },
   {
    "duration": 37,
    "start_time": "2022-01-16T18:36:09.628Z"
   },
   {
    "duration": 5,
    "start_time": "2022-01-16T18:36:09.668Z"
   },
   {
    "duration": 35,
    "start_time": "2022-01-16T18:36:09.675Z"
   },
   {
    "duration": 35,
    "start_time": "2022-01-16T18:36:09.712Z"
   },
   {
    "duration": 13,
    "start_time": "2022-01-16T18:36:09.749Z"
   },
   {
    "duration": 51,
    "start_time": "2022-01-16T18:36:09.766Z"
   },
   {
    "duration": 9,
    "start_time": "2022-01-16T18:36:09.821Z"
   },
   {
    "duration": 13,
    "start_time": "2022-01-16T18:36:09.832Z"
   },
   {
    "duration": 14,
    "start_time": "2022-01-16T18:36:09.848Z"
   },
   {
    "duration": 43,
    "start_time": "2022-01-16T18:36:09.864Z"
   },
   {
    "duration": 514,
    "start_time": "2022-01-16T18:36:09.910Z"
   },
   {
    "duration": 23,
    "start_time": "2022-01-16T18:36:10.426Z"
   },
   {
    "duration": 477,
    "start_time": "2022-01-16T18:36:10.452Z"
   },
   {
    "duration": 25,
    "start_time": "2022-01-16T18:36:10.932Z"
   },
   {
    "duration": 461,
    "start_time": "2022-01-16T18:36:10.960Z"
   },
   {
    "duration": 27,
    "start_time": "2022-01-16T18:36:11.424Z"
   },
   {
    "duration": 8,
    "start_time": "2022-01-16T18:36:11.454Z"
   },
   {
    "duration": 59,
    "start_time": "2022-01-16T18:36:11.466Z"
   },
   {
    "duration": 867,
    "start_time": "2022-01-16T18:36:11.527Z"
   },
   {
    "duration": 551,
    "start_time": "2022-01-16T18:36:12.401Z"
   },
   {
    "duration": 628,
    "start_time": "2022-01-16T18:36:12.958Z"
   },
   {
    "duration": 1925,
    "start_time": "2022-01-16T18:37:16.466Z"
   },
   {
    "duration": 9,
    "start_time": "2022-01-16T18:37:54.869Z"
   },
   {
    "duration": 7,
    "start_time": "2022-01-16T18:38:13.299Z"
   },
   {
    "duration": 1184,
    "start_time": "2022-01-16T18:38:22.516Z"
   },
   {
    "duration": 8,
    "start_time": "2022-01-16T18:38:45.854Z"
   },
   {
    "duration": 12,
    "start_time": "2022-01-16T18:40:29.973Z"
   },
   {
    "duration": 13,
    "start_time": "2022-01-16T18:40:57.077Z"
   },
   {
    "duration": 10,
    "start_time": "2022-01-16T18:42:14.963Z"
   },
   {
    "duration": 12,
    "start_time": "2022-01-16T18:42:26.550Z"
   },
   {
    "duration": 19,
    "start_time": "2022-01-16T18:53:16.492Z"
   },
   {
    "duration": 3,
    "start_time": "2022-01-16T18:55:58.543Z"
   },
   {
    "duration": 789,
    "start_time": "2022-01-16T18:59:00.831Z"
   },
   {
    "duration": 568,
    "start_time": "2022-01-16T18:59:25.185Z"
   },
   {
    "duration": 553,
    "start_time": "2022-01-16T18:59:38.630Z"
   },
   {
    "duration": 12,
    "start_time": "2022-01-16T19:16:32.723Z"
   },
   {
    "duration": 11,
    "start_time": "2022-01-16T19:16:50.337Z"
   },
   {
    "duration": 12,
    "start_time": "2022-01-16T19:16:59.273Z"
   },
   {
    "duration": 14,
    "start_time": "2022-01-16T19:17:08.220Z"
   },
   {
    "duration": 14,
    "start_time": "2022-01-16T19:17:35.926Z"
   },
   {
    "duration": 11,
    "start_time": "2022-01-16T19:17:50.706Z"
   },
   {
    "duration": 23,
    "start_time": "2022-01-16T19:21:19.257Z"
   },
   {
    "duration": 13,
    "start_time": "2022-01-16T19:22:09.003Z"
   },
   {
    "duration": 12,
    "start_time": "2022-01-16T19:22:21.343Z"
   },
   {
    "duration": 123,
    "start_time": "2022-01-16T19:25:57.973Z"
   },
   {
    "duration": 135,
    "start_time": "2022-01-16T19:26:03.856Z"
   },
   {
    "duration": 643,
    "start_time": "2022-01-16T19:26:09.184Z"
   },
   {
    "duration": 128,
    "start_time": "2022-01-16T19:26:13.273Z"
   },
   {
    "duration": 518,
    "start_time": "2022-01-16T19:26:19.812Z"
   },
   {
    "duration": 867,
    "start_time": "2022-01-16T19:26:24.364Z"
   },
   {
    "duration": 428,
    "start_time": "2022-01-16T19:26:38.202Z"
   },
   {
    "duration": 37,
    "start_time": "2022-01-16T19:27:38.181Z"
   },
   {
    "duration": 26,
    "start_time": "2022-01-16T19:27:57.467Z"
   },
   {
    "duration": 765,
    "start_time": "2022-01-16T19:28:09.770Z"
   },
   {
    "duration": 399,
    "start_time": "2022-01-16T19:28:21.642Z"
   },
   {
    "duration": 29,
    "start_time": "2022-01-16T19:28:31.859Z"
   },
   {
    "duration": 10,
    "start_time": "2022-01-16T19:30:13.570Z"
   },
   {
    "duration": 11,
    "start_time": "2022-01-16T19:33:22.529Z"
   },
   {
    "duration": 12,
    "start_time": "2022-01-16T19:33:42.145Z"
   },
   {
    "duration": 390,
    "start_time": "2022-01-16T19:34:04.644Z"
   },
   {
    "duration": 409,
    "start_time": "2022-01-16T19:34:27.014Z"
   },
   {
    "duration": 17,
    "start_time": "2022-01-16T19:34:38.050Z"
   },
   {
    "duration": 25,
    "start_time": "2022-01-16T19:35:02.943Z"
   },
   {
    "duration": 16,
    "start_time": "2022-01-16T19:35:17.527Z"
   },
   {
    "duration": 125,
    "start_time": "2022-01-16T19:37:25.202Z"
   },
   {
    "duration": 3,
    "start_time": "2022-01-16T19:37:50.918Z"
   },
   {
    "duration": 3263,
    "start_time": "2022-01-17T12:35:46.105Z"
   },
   {
    "duration": 1874,
    "start_time": "2022-01-17T12:35:55.502Z"
   },
   {
    "duration": 62,
    "start_time": "2022-01-17T12:35:57.378Z"
   },
   {
    "duration": 26,
    "start_time": "2022-01-17T12:35:57.442Z"
   },
   {
    "duration": 4,
    "start_time": "2022-01-17T12:35:57.471Z"
   },
   {
    "duration": 15,
    "start_time": "2022-01-17T12:35:57.477Z"
   },
   {
    "duration": 32,
    "start_time": "2022-01-17T12:35:57.494Z"
   },
   {
    "duration": 13,
    "start_time": "2022-01-17T12:35:57.528Z"
   },
   {
    "duration": 33,
    "start_time": "2022-01-17T12:35:57.543Z"
   },
   {
    "duration": 9,
    "start_time": "2022-01-17T12:35:57.580Z"
   },
   {
    "duration": 9,
    "start_time": "2022-01-17T12:35:57.592Z"
   },
   {
    "duration": 17,
    "start_time": "2022-01-17T12:35:57.603Z"
   },
   {
    "duration": 9,
    "start_time": "2022-01-17T12:35:57.623Z"
   },
   {
    "duration": 465,
    "start_time": "2022-01-17T12:35:57.635Z"
   },
   {
    "duration": 23,
    "start_time": "2022-01-17T12:35:58.102Z"
   },
   {
    "duration": 443,
    "start_time": "2022-01-17T12:35:58.128Z"
   },
   {
    "duration": 23,
    "start_time": "2022-01-17T12:35:58.573Z"
   },
   {
    "duration": 412,
    "start_time": "2022-01-17T12:35:58.598Z"
   },
   {
    "duration": 22,
    "start_time": "2022-01-17T12:35:59.012Z"
   },
   {
    "duration": 6,
    "start_time": "2022-01-17T12:35:59.036Z"
   },
   {
    "duration": 39,
    "start_time": "2022-01-17T12:35:59.044Z"
   },
   {
    "duration": 810,
    "start_time": "2022-01-17T12:35:59.085Z"
   },
   {
    "duration": 11,
    "start_time": "2022-01-17T12:35:59.898Z"
   },
   {
    "duration": 612,
    "start_time": "2022-01-17T12:35:59.911Z"
   },
   {
    "duration": 11,
    "start_time": "2022-01-17T12:36:00.526Z"
   },
   {
    "duration": 837,
    "start_time": "2022-01-17T12:36:00.539Z"
   },
   {
    "duration": 11,
    "start_time": "2022-01-17T12:36:01.379Z"
   },
   {
    "duration": 11,
    "start_time": "2022-01-17T12:36:01.395Z"
   },
   {
    "duration": 51,
    "start_time": "2022-01-17T12:36:01.409Z"
   },
   {
    "duration": 11,
    "start_time": "2022-01-17T12:36:01.463Z"
   },
   {
    "duration": 22,
    "start_time": "2022-01-17T12:36:01.477Z"
   },
   {
    "duration": 12,
    "start_time": "2022-01-17T12:36:01.501Z"
   },
   {
    "duration": 43,
    "start_time": "2022-01-17T12:36:01.516Z"
   },
   {
    "duration": 13,
    "start_time": "2022-01-17T12:36:01.562Z"
   },
   {
    "duration": 16,
    "start_time": "2022-01-17T12:36:01.578Z"
   },
   {
    "duration": 1063,
    "start_time": "2022-01-17T12:36:01.597Z"
   },
   {
    "duration": -405,
    "start_time": "2022-01-17T12:36:03.069Z"
   },
   {
    "duration": -408,
    "start_time": "2022-01-17T12:36:03.074Z"
   },
   {
    "duration": -417,
    "start_time": "2022-01-17T12:36:03.085Z"
   },
   {
    "duration": 12,
    "start_time": "2022-01-17T12:36:13.682Z"
   },
   {
    "duration": 2636,
    "start_time": "2022-01-17T12:36:36.396Z"
   },
   {
    "duration": 59,
    "start_time": "2022-01-17T12:36:39.034Z"
   },
   {
    "duration": 25,
    "start_time": "2022-01-17T12:36:39.096Z"
   },
   {
    "duration": 9,
    "start_time": "2022-01-17T12:36:39.124Z"
   },
   {
    "duration": 33,
    "start_time": "2022-01-17T12:36:39.135Z"
   },
   {
    "duration": 32,
    "start_time": "2022-01-17T12:36:39.170Z"
   },
   {
    "duration": 13,
    "start_time": "2022-01-17T12:36:39.205Z"
   },
   {
    "duration": 52,
    "start_time": "2022-01-17T12:36:39.220Z"
   },
   {
    "duration": 11,
    "start_time": "2022-01-17T12:36:39.277Z"
   },
   {
    "duration": 10,
    "start_time": "2022-01-17T12:36:39.291Z"
   },
   {
    "duration": 17,
    "start_time": "2022-01-17T12:36:39.303Z"
   },
   {
    "duration": 12,
    "start_time": "2022-01-17T12:36:39.359Z"
   },
   {
    "duration": 403,
    "start_time": "2022-01-17T12:36:39.374Z"
   },
   {
    "duration": 25,
    "start_time": "2022-01-17T12:36:39.780Z"
   },
   {
    "duration": 464,
    "start_time": "2022-01-17T12:36:39.808Z"
   },
   {
    "duration": 22,
    "start_time": "2022-01-17T12:36:40.274Z"
   },
   {
    "duration": 462,
    "start_time": "2022-01-17T12:36:40.298Z"
   },
   {
    "duration": 24,
    "start_time": "2022-01-17T12:36:40.762Z"
   },
   {
    "duration": 7,
    "start_time": "2022-01-17T12:36:40.788Z"
   },
   {
    "duration": 31,
    "start_time": "2022-01-17T12:36:40.797Z"
   },
   {
    "duration": 816,
    "start_time": "2022-01-17T12:36:40.831Z"
   },
   {
    "duration": 15,
    "start_time": "2022-01-17T12:36:41.650Z"
   },
   {
    "duration": 534,
    "start_time": "2022-01-17T12:36:41.668Z"
   },
   {
    "duration": 12,
    "start_time": "2022-01-17T12:36:42.205Z"
   },
   {
    "duration": 610,
    "start_time": "2022-01-17T12:36:42.220Z"
   },
   {
    "duration": 12,
    "start_time": "2022-01-17T12:36:42.833Z"
   },
   {
    "duration": 12,
    "start_time": "2022-01-17T12:36:42.865Z"
   },
   {
    "duration": 18,
    "start_time": "2022-01-17T12:36:42.880Z"
   },
   {
    "duration": 11,
    "start_time": "2022-01-17T12:36:42.901Z"
   },
   {
    "duration": 13,
    "start_time": "2022-01-17T12:36:42.960Z"
   },
   {
    "duration": 12,
    "start_time": "2022-01-17T12:36:42.975Z"
   },
   {
    "duration": 11,
    "start_time": "2022-01-17T12:36:42.989Z"
   },
   {
    "duration": 56,
    "start_time": "2022-01-17T12:36:43.003Z"
   },
   {
    "duration": 9,
    "start_time": "2022-01-17T12:36:43.062Z"
   },
   {
    "duration": 9,
    "start_time": "2022-01-17T12:36:43.074Z"
   },
   {
    "duration": 9,
    "start_time": "2022-01-17T12:36:43.085Z"
   },
   {
    "duration": 9,
    "start_time": "2022-01-17T12:36:43.096Z"
   },
   {
    "duration": 56,
    "start_time": "2022-01-17T12:36:43.107Z"
   },
   {
    "duration": 8,
    "start_time": "2022-01-17T12:38:07.090Z"
   },
   {
    "duration": 29,
    "start_time": "2022-01-17T12:38:43.528Z"
   },
   {
    "duration": 10,
    "start_time": "2022-01-17T12:40:34.769Z"
   },
   {
    "duration": 13,
    "start_time": "2022-01-17T12:41:08.588Z"
   },
   {
    "duration": 7,
    "start_time": "2022-01-17T12:41:10.944Z"
   },
   {
    "duration": 28,
    "start_time": "2022-01-17T12:41:44.655Z"
   },
   {
    "duration": 5,
    "start_time": "2022-01-17T12:42:25.769Z"
   },
   {
    "duration": 12,
    "start_time": "2022-01-17T12:44:16.826Z"
   },
   {
    "duration": 8,
    "start_time": "2022-01-17T12:44:36.617Z"
   },
   {
    "duration": 5,
    "start_time": "2022-01-17T12:44:41.759Z"
   },
   {
    "duration": 5,
    "start_time": "2022-01-17T12:49:43.223Z"
   },
   {
    "duration": 133,
    "start_time": "2022-01-17T12:55:07.102Z"
   },
   {
    "duration": 62,
    "start_time": "2022-01-17T12:58:18.041Z"
   },
   {
    "duration": 1442,
    "start_time": "2022-01-17T14:12:14.284Z"
   },
   {
    "duration": 58,
    "start_time": "2022-01-17T14:12:15.729Z"
   },
   {
    "duration": 26,
    "start_time": "2022-01-17T14:12:15.790Z"
   },
   {
    "duration": 6,
    "start_time": "2022-01-17T14:12:15.819Z"
   },
   {
    "duration": 36,
    "start_time": "2022-01-17T14:12:15.827Z"
   },
   {
    "duration": 33,
    "start_time": "2022-01-17T14:12:15.867Z"
   },
   {
    "duration": 14,
    "start_time": "2022-01-17T14:12:15.903Z"
   },
   {
    "duration": 49,
    "start_time": "2022-01-17T14:12:15.920Z"
   },
   {
    "duration": 13,
    "start_time": "2022-01-17T14:12:15.972Z"
   },
   {
    "duration": 11,
    "start_time": "2022-01-17T14:12:15.988Z"
   },
   {
    "duration": 99,
    "start_time": "2022-01-17T14:12:16.001Z"
   },
   {
    "duration": 14,
    "start_time": "2022-01-17T14:12:16.104Z"
   },
   {
    "duration": 40,
    "start_time": "2022-01-17T14:12:16.122Z"
   },
   {
    "duration": 438,
    "start_time": "2022-01-17T14:12:16.165Z"
   },
   {
    "duration": 25,
    "start_time": "2022-01-17T14:12:16.607Z"
   },
   {
    "duration": 424,
    "start_time": "2022-01-17T14:12:16.635Z"
   },
   {
    "duration": 24,
    "start_time": "2022-01-17T14:12:17.062Z"
   },
   {
    "duration": 384,
    "start_time": "2022-01-17T14:12:17.088Z"
   },
   {
    "duration": 24,
    "start_time": "2022-01-17T14:12:17.474Z"
   },
   {
    "duration": 6,
    "start_time": "2022-01-17T14:12:17.500Z"
   },
   {
    "duration": 56,
    "start_time": "2022-01-17T14:12:17.508Z"
   },
   {
    "duration": 780,
    "start_time": "2022-01-17T14:12:17.566Z"
   },
   {
    "duration": 10,
    "start_time": "2022-01-17T14:12:18.361Z"
   },
   {
    "duration": 617,
    "start_time": "2022-01-17T14:12:18.374Z"
   },
   {
    "duration": 12,
    "start_time": "2022-01-17T14:12:18.994Z"
   },
   {
    "duration": 602,
    "start_time": "2022-01-17T14:12:19.008Z"
   },
   {
    "duration": 9,
    "start_time": "2022-01-17T14:12:19.613Z"
   },
   {
    "duration": 33,
    "start_time": "2022-01-17T14:12:19.625Z"
   },
   {
    "duration": 17,
    "start_time": "2022-01-17T14:12:19.660Z"
   },
   {
    "duration": 10,
    "start_time": "2022-01-17T14:12:19.679Z"
   },
   {
    "duration": 11,
    "start_time": "2022-01-17T14:12:19.691Z"
   },
   {
    "duration": 55,
    "start_time": "2022-01-17T14:12:19.704Z"
   },
   {
    "duration": 10,
    "start_time": "2022-01-17T14:12:19.762Z"
   },
   {
    "duration": 11,
    "start_time": "2022-01-17T14:12:19.774Z"
   },
   {
    "duration": 9,
    "start_time": "2022-01-17T14:12:19.788Z"
   },
   {
    "duration": 11,
    "start_time": "2022-01-17T14:12:19.799Z"
   },
   {
    "duration": 55,
    "start_time": "2022-01-17T14:12:19.812Z"
   },
   {
    "duration": 10,
    "start_time": "2022-01-17T14:12:19.869Z"
   },
   {
    "duration": 12,
    "start_time": "2022-01-17T14:12:19.882Z"
   },
   {
    "duration": 7,
    "start_time": "2022-01-17T14:12:19.896Z"
   },
   {
    "duration": 8,
    "start_time": "2022-01-17T14:12:19.906Z"
   },
   {
    "duration": 51,
    "start_time": "2022-01-17T14:12:19.916Z"
   },
   {
    "duration": 7,
    "start_time": "2022-01-17T14:12:19.971Z"
   },
   {
    "duration": 11,
    "start_time": "2022-01-17T14:12:19.981Z"
   },
   {
    "duration": 14,
    "start_time": "2022-01-20T13:26:06.878Z"
   },
   {
    "duration": 19,
    "start_time": "2022-01-20T13:26:12.832Z"
   },
   {
    "duration": 77,
    "start_time": "2022-01-20T13:26:12.854Z"
   },
   {
    "duration": 20,
    "start_time": "2022-01-20T13:26:12.933Z"
   },
   {
    "duration": 22,
    "start_time": "2022-01-20T13:26:12.956Z"
   },
   {
    "duration": 38,
    "start_time": "2022-01-20T13:26:12.980Z"
   },
   {
    "duration": 42,
    "start_time": "2022-01-20T13:26:13.020Z"
   },
   {
    "duration": 12,
    "start_time": "2022-01-20T13:26:13.065Z"
   },
   {
    "duration": 38,
    "start_time": "2022-01-20T13:26:13.080Z"
   },
   {
    "duration": 9,
    "start_time": "2022-01-20T13:26:13.120Z"
   },
   {
    "duration": 40,
    "start_time": "2022-01-20T13:26:13.131Z"
   },
   {
    "duration": 77,
    "start_time": "2022-01-20T13:26:13.173Z"
   },
   {
    "duration": 12,
    "start_time": "2022-01-20T13:26:13.252Z"
   },
   {
    "duration": 29,
    "start_time": "2022-01-20T13:26:13.266Z"
   },
   {
    "duration": 444,
    "start_time": "2022-01-20T13:26:13.298Z"
   },
   {
    "duration": 32,
    "start_time": "2022-01-20T13:26:13.746Z"
   },
   {
    "duration": 388,
    "start_time": "2022-01-20T13:26:13.781Z"
   },
   {
    "duration": 24,
    "start_time": "2022-01-20T13:26:14.172Z"
   },
   {
    "duration": 434,
    "start_time": "2022-01-20T13:26:14.199Z"
   },
   {
    "duration": 38,
    "start_time": "2022-01-20T13:26:14.636Z"
   },
   {
    "duration": 6,
    "start_time": "2022-01-20T13:26:14.677Z"
   },
   {
    "duration": 40,
    "start_time": "2022-01-20T13:26:14.685Z"
   },
   {
    "duration": 1004,
    "start_time": "2022-01-20T13:26:14.727Z"
   },
   {
    "duration": 10,
    "start_time": "2022-01-20T13:26:15.733Z"
   },
   {
    "duration": 649,
    "start_time": "2022-01-20T13:26:15.765Z"
   },
   {
    "duration": 9,
    "start_time": "2022-01-20T13:26:16.417Z"
   },
   {
    "duration": 552,
    "start_time": "2022-01-20T13:26:16.428Z"
   },
   {
    "duration": 10,
    "start_time": "2022-01-20T13:26:16.982Z"
   },
   {
    "duration": 16,
    "start_time": "2022-01-20T13:26:16.995Z"
   },
   {
    "duration": 34,
    "start_time": "2022-01-20T13:26:17.013Z"
   },
   {
    "duration": 17,
    "start_time": "2022-01-20T13:26:17.049Z"
   },
   {
    "duration": 9,
    "start_time": "2022-01-20T13:26:17.068Z"
   },
   {
    "duration": 28,
    "start_time": "2022-01-20T13:26:17.079Z"
   },
   {
    "duration": 9,
    "start_time": "2022-01-20T13:26:17.109Z"
   },
   {
    "duration": 39,
    "start_time": "2022-01-20T13:26:17.120Z"
   },
   {
    "duration": 10,
    "start_time": "2022-01-20T13:26:17.161Z"
   },
   {
    "duration": 19,
    "start_time": "2022-01-20T13:26:17.173Z"
   },
   {
    "duration": 8,
    "start_time": "2022-01-20T13:26:17.195Z"
   },
   {
    "duration": 11,
    "start_time": "2022-01-20T13:26:17.206Z"
   },
   {
    "duration": 47,
    "start_time": "2022-01-20T13:26:17.219Z"
   },
   {
    "duration": 11,
    "start_time": "2022-01-20T13:26:17.268Z"
   },
   {
    "duration": 15,
    "start_time": "2022-01-20T13:26:17.281Z"
   },
   {
    "duration": 23,
    "start_time": "2022-01-20T13:26:17.298Z"
   },
   {
    "duration": 7,
    "start_time": "2022-01-20T13:26:17.324Z"
   },
   {
    "duration": 26,
    "start_time": "2022-01-20T13:26:17.333Z"
   },
   {
    "duration": 5,
    "start_time": "2022-01-20T13:26:27.761Z"
   },
   {
    "duration": 93,
    "start_time": "2022-01-20T13:45:03.581Z"
   },
   {
    "duration": 10,
    "start_time": "2022-01-20T13:45:09.991Z"
   },
   {
    "duration": 11,
    "start_time": "2022-01-20T13:45:15.478Z"
   },
   {
    "duration": 418,
    "start_time": "2022-01-20T13:45:24.519Z"
   },
   {
    "duration": 10,
    "start_time": "2022-01-20T13:45:27.934Z"
   },
   {
    "duration": 10,
    "start_time": "2022-01-20T13:45:59.927Z"
   },
   {
    "duration": 329,
    "start_time": "2022-01-20T13:53:03.310Z"
   },
   {
    "duration": 47,
    "start_time": "2022-01-20T13:53:08.006Z"
   },
   {
    "duration": 338,
    "start_time": "2022-01-20T13:53:13.273Z"
   },
   {
    "duration": 11,
    "start_time": "2022-01-20T13:53:30.375Z"
   },
   {
    "duration": 8,
    "start_time": "2022-01-20T13:53:58.101Z"
   },
   {
    "duration": 293,
    "start_time": "2022-01-20T13:54:10.253Z"
   },
   {
    "duration": 297,
    "start_time": "2022-01-20T13:54:20.758Z"
   },
   {
    "duration": 355,
    "start_time": "2022-01-20T18:37:43.152Z"
   },
   {
    "duration": 1550,
    "start_time": "2022-01-20T18:37:51.598Z"
   },
   {
    "duration": 58,
    "start_time": "2022-01-20T18:37:53.151Z"
   },
   {
    "duration": 34,
    "start_time": "2022-01-20T18:37:53.212Z"
   },
   {
    "duration": 3,
    "start_time": "2022-01-20T18:37:53.249Z"
   },
   {
    "duration": 15,
    "start_time": "2022-01-20T18:37:53.254Z"
   },
   {
    "duration": 62,
    "start_time": "2022-01-20T18:37:53.272Z"
   },
   {
    "duration": 12,
    "start_time": "2022-01-20T18:37:53.337Z"
   },
   {
    "duration": 19,
    "start_time": "2022-01-20T18:37:53.352Z"
   },
   {
    "duration": 8,
    "start_time": "2022-01-20T18:37:53.374Z"
   },
   {
    "duration": 39,
    "start_time": "2022-01-20T18:37:53.385Z"
   },
   {
    "duration": 13,
    "start_time": "2022-01-20T18:37:53.427Z"
   },
   {
    "duration": 57,
    "start_time": "2022-01-20T18:37:53.442Z"
   },
   {
    "duration": 31,
    "start_time": "2022-01-20T18:37:53.502Z"
   },
   {
    "duration": 10,
    "start_time": "2022-01-20T18:37:53.536Z"
   },
   {
    "duration": 396,
    "start_time": "2022-01-20T18:37:53.548Z"
   },
   {
    "duration": 23,
    "start_time": "2022-01-20T18:37:53.947Z"
   },
   {
    "duration": 426,
    "start_time": "2022-01-20T18:37:53.972Z"
   },
   {
    "duration": 35,
    "start_time": "2022-01-20T18:37:54.401Z"
   },
   {
    "duration": 381,
    "start_time": "2022-01-20T18:37:54.439Z"
   },
   {
    "duration": 22,
    "start_time": "2022-01-20T18:37:54.824Z"
   },
   {
    "duration": 6,
    "start_time": "2022-01-20T18:37:54.848Z"
   },
   {
    "duration": 27,
    "start_time": "2022-01-20T18:37:54.857Z"
   },
   {
    "duration": 67,
    "start_time": "2022-01-20T18:37:54.889Z"
   },
   {
    "duration": 772,
    "start_time": "2022-01-20T18:37:54.959Z"
   },
   {
    "duration": 10,
    "start_time": "2022-01-20T18:37:55.734Z"
   },
   {
    "duration": 544,
    "start_time": "2022-01-20T18:37:55.746Z"
   },
   {
    "duration": 11,
    "start_time": "2022-01-20T18:37:56.294Z"
   },
   {
    "duration": 633,
    "start_time": "2022-01-20T18:37:56.307Z"
   },
   {
    "duration": 10,
    "start_time": "2022-01-20T18:37:56.943Z"
   },
   {
    "duration": 11,
    "start_time": "2022-01-20T18:37:56.955Z"
   },
   {
    "duration": 16,
    "start_time": "2022-01-20T18:37:56.969Z"
   },
   {
    "duration": 42,
    "start_time": "2022-01-20T18:37:56.987Z"
   },
   {
    "duration": 11,
    "start_time": "2022-01-20T18:37:57.031Z"
   },
   {
    "duration": 9,
    "start_time": "2022-01-20T18:37:57.044Z"
   },
   {
    "duration": 9,
    "start_time": "2022-01-20T18:37:57.056Z"
   },
   {
    "duration": 58,
    "start_time": "2022-01-20T18:37:57.067Z"
   },
   {
    "duration": 10,
    "start_time": "2022-01-20T18:37:57.127Z"
   },
   {
    "duration": 9,
    "start_time": "2022-01-20T18:37:57.140Z"
   },
   {
    "duration": 9,
    "start_time": "2022-01-20T18:37:57.151Z"
   },
   {
    "duration": 11,
    "start_time": "2022-01-20T18:37:57.162Z"
   },
   {
    "duration": 12,
    "start_time": "2022-01-20T18:37:57.224Z"
   },
   {
    "duration": 7,
    "start_time": "2022-01-20T18:37:57.239Z"
   },
   {
    "duration": 6,
    "start_time": "2022-01-20T18:37:57.248Z"
   },
   {
    "duration": 12,
    "start_time": "2022-01-20T18:37:57.256Z"
   },
   {
    "duration": 55,
    "start_time": "2022-01-20T18:37:57.270Z"
   },
   {
    "duration": 13,
    "start_time": "2022-01-20T18:37:57.327Z"
   },
   {
    "duration": 36,
    "start_time": "2022-01-20T18:39:29.361Z"
   },
   {
    "duration": 9,
    "start_time": "2022-01-20T18:40:36.159Z"
   },
   {
    "duration": 1481,
    "start_time": "2022-01-20T18:43:51.287Z"
   },
   {
    "duration": 56,
    "start_time": "2022-01-20T18:43:52.771Z"
   },
   {
    "duration": 27,
    "start_time": "2022-01-20T18:43:52.831Z"
   },
   {
    "duration": 5,
    "start_time": "2022-01-20T18:43:52.861Z"
   },
   {
    "duration": 13,
    "start_time": "2022-01-20T18:43:52.869Z"
   },
   {
    "duration": 32,
    "start_time": "2022-01-20T18:43:52.923Z"
   },
   {
    "duration": 15,
    "start_time": "2022-01-20T18:43:52.958Z"
   },
   {
    "duration": 50,
    "start_time": "2022-01-20T18:43:52.976Z"
   },
   {
    "duration": 9,
    "start_time": "2022-01-20T18:43:53.030Z"
   },
   {
    "duration": 8,
    "start_time": "2022-01-20T18:43:53.041Z"
   },
   {
    "duration": 7,
    "start_time": "2022-01-20T18:43:53.052Z"
   },
   {
    "duration": 3,
    "start_time": "2022-01-20T18:43:53.062Z"
   },
   {
    "duration": 58,
    "start_time": "2022-01-20T18:43:53.068Z"
   },
   {
    "duration": 18,
    "start_time": "2022-01-20T18:43:53.128Z"
   },
   {
    "duration": 448,
    "start_time": "2022-01-20T18:43:53.148Z"
   },
   {
    "duration": 34,
    "start_time": "2022-01-20T18:43:53.599Z"
   },
   {
    "duration": 402,
    "start_time": "2022-01-20T18:43:53.636Z"
   },
   {
    "duration": 30,
    "start_time": "2022-01-20T18:43:54.042Z"
   },
   {
    "duration": 538,
    "start_time": "2022-01-20T18:43:54.075Z"
   },
   {
    "duration": 25,
    "start_time": "2022-01-20T18:43:54.624Z"
   },
   {
    "duration": 7,
    "start_time": "2022-01-20T18:43:54.651Z"
   },
   {
    "duration": 31,
    "start_time": "2022-01-20T18:43:54.660Z"
   },
   {
    "duration": 33,
    "start_time": "2022-01-20T18:43:54.724Z"
   },
   {
    "duration": 824,
    "start_time": "2022-01-20T18:43:54.760Z"
   },
   {
    "duration": 10,
    "start_time": "2022-01-20T18:43:55.586Z"
   },
   {
    "duration": 554,
    "start_time": "2022-01-20T18:43:55.599Z"
   },
   {
    "duration": 10,
    "start_time": "2022-01-20T18:43:56.156Z"
   },
   {
    "duration": 559,
    "start_time": "2022-01-20T18:43:56.169Z"
   },
   {
    "duration": 10,
    "start_time": "2022-01-20T18:43:56.730Z"
   },
   {
    "duration": 8,
    "start_time": "2022-01-20T18:43:56.743Z"
   },
   {
    "duration": 15,
    "start_time": "2022-01-20T18:43:56.754Z"
   },
   {
    "duration": 9,
    "start_time": "2022-01-20T18:43:56.772Z"
   },
   {
    "duration": 47,
    "start_time": "2022-01-20T18:43:56.783Z"
   },
   {
    "duration": 13,
    "start_time": "2022-01-20T18:43:56.832Z"
   },
   {
    "duration": 10,
    "start_time": "2022-01-20T18:43:56.847Z"
   },
   {
    "duration": 8,
    "start_time": "2022-01-20T18:43:56.859Z"
   },
   {
    "duration": 54,
    "start_time": "2022-01-20T18:43:56.870Z"
   },
   {
    "duration": 9,
    "start_time": "2022-01-20T18:43:56.926Z"
   },
   {
    "duration": 9,
    "start_time": "2022-01-20T18:43:56.937Z"
   },
   {
    "duration": 9,
    "start_time": "2022-01-20T18:43:56.948Z"
   },
   {
    "duration": 11,
    "start_time": "2022-01-20T18:43:56.959Z"
   },
   {
    "duration": 7,
    "start_time": "2022-01-20T18:43:56.972Z"
   },
   {
    "duration": 5,
    "start_time": "2022-01-20T18:43:57.024Z"
   },
   {
    "duration": 12,
    "start_time": "2022-01-20T18:43:57.031Z"
   },
   {
    "duration": 8,
    "start_time": "2022-01-20T18:43:57.045Z"
   },
   {
    "duration": 5,
    "start_time": "2022-01-20T18:43:57.055Z"
   },
   {
    "duration": 33,
    "start_time": "2022-01-20T18:45:00.588Z"
   },
   {
    "duration": 28,
    "start_time": "2022-01-20T18:45:05.211Z"
   },
   {
    "duration": 33,
    "start_time": "2022-01-20T18:45:28.653Z"
   },
   {
    "duration": 35,
    "start_time": "2022-01-20T18:47:14.358Z"
   },
   {
    "duration": 34,
    "start_time": "2022-01-20T18:48:00.483Z"
   },
   {
    "duration": 37,
    "start_time": "2022-01-20T18:49:07.360Z"
   },
   {
    "duration": 4491,
    "start_time": "2022-01-20T18:49:31.127Z"
   },
   {
    "duration": 409,
    "start_time": "2022-01-20T18:52:00.701Z"
   },
   {
    "duration": 27,
    "start_time": "2022-01-20T18:52:07.836Z"
   },
   {
    "duration": 25,
    "start_time": "2022-01-20T18:53:39.678Z"
   },
   {
    "duration": 22,
    "start_time": "2022-01-20T18:54:04.089Z"
   },
   {
    "duration": 23,
    "start_time": "2022-01-20T18:54:37.499Z"
   },
   {
    "duration": 1434,
    "start_time": "2022-01-20T18:58:57.938Z"
   },
   {
    "duration": 53,
    "start_time": "2022-01-20T18:58:59.375Z"
   },
   {
    "duration": 24,
    "start_time": "2022-01-20T18:58:59.431Z"
   },
   {
    "duration": 4,
    "start_time": "2022-01-20T18:58:59.458Z"
   },
   {
    "duration": 12,
    "start_time": "2022-01-20T18:58:59.465Z"
   },
   {
    "duration": 60,
    "start_time": "2022-01-20T18:58:59.480Z"
   },
   {
    "duration": 12,
    "start_time": "2022-01-20T18:58:59.543Z"
   },
   {
    "duration": 20,
    "start_time": "2022-01-20T18:58:59.559Z"
   },
   {
    "duration": 41,
    "start_time": "2022-01-20T18:58:59.582Z"
   },
   {
    "duration": 8,
    "start_time": "2022-01-20T18:58:59.625Z"
   },
   {
    "duration": 11,
    "start_time": "2022-01-20T18:58:59.635Z"
   },
   {
    "duration": 35,
    "start_time": "2022-01-20T18:58:59.648Z"
   },
   {
    "duration": 57,
    "start_time": "2022-01-20T18:58:59.685Z"
   },
   {
    "duration": 12,
    "start_time": "2022-01-20T18:58:59.744Z"
   },
   {
    "duration": 9,
    "start_time": "2022-01-20T18:58:59.758Z"
   },
   {
    "duration": 447,
    "start_time": "2022-01-20T18:58:59.769Z"
   },
   {
    "duration": 23,
    "start_time": "2022-01-20T18:59:00.219Z"
   },
   {
    "duration": 395,
    "start_time": "2022-01-20T18:59:00.244Z"
   },
   {
    "duration": 23,
    "start_time": "2022-01-20T18:59:00.642Z"
   },
   {
    "duration": 439,
    "start_time": "2022-01-20T18:59:00.668Z"
   },
   {
    "duration": 31,
    "start_time": "2022-01-20T18:59:01.110Z"
   },
   {
    "duration": 6,
    "start_time": "2022-01-20T18:59:01.144Z"
   },
   {
    "duration": 29,
    "start_time": "2022-01-20T18:59:01.156Z"
   },
   {
    "duration": 68,
    "start_time": "2022-01-20T18:59:01.188Z"
   },
   {
    "duration": 903,
    "start_time": "2022-01-20T18:59:01.260Z"
   },
   {
    "duration": 12,
    "start_time": "2022-01-20T18:59:02.166Z"
   },
   {
    "duration": 589,
    "start_time": "2022-01-20T18:59:02.180Z"
   },
   {
    "duration": 11,
    "start_time": "2022-01-20T18:59:02.772Z"
   },
   {
    "duration": 604,
    "start_time": "2022-01-20T18:59:02.785Z"
   },
   {
    "duration": 13,
    "start_time": "2022-01-20T18:59:03.391Z"
   },
   {
    "duration": 12,
    "start_time": "2022-01-20T18:59:03.423Z"
   },
   {
    "duration": 18,
    "start_time": "2022-01-20T18:59:03.437Z"
   },
   {
    "duration": 8,
    "start_time": "2022-01-20T18:59:03.457Z"
   },
   {
    "duration": 8,
    "start_time": "2022-01-20T18:59:03.468Z"
   },
   {
    "duration": 8,
    "start_time": "2022-01-20T18:59:03.522Z"
   },
   {
    "duration": 9,
    "start_time": "2022-01-20T18:59:03.533Z"
   },
   {
    "duration": 9,
    "start_time": "2022-01-20T18:59:03.545Z"
   },
   {
    "duration": 9,
    "start_time": "2022-01-20T18:59:03.557Z"
   },
   {
    "duration": 57,
    "start_time": "2022-01-20T18:59:03.568Z"
   },
   {
    "duration": 10,
    "start_time": "2022-01-20T18:59:03.627Z"
   },
   {
    "duration": 9,
    "start_time": "2022-01-20T18:59:03.640Z"
   },
   {
    "duration": 11,
    "start_time": "2022-01-20T18:59:03.651Z"
   },
   {
    "duration": 7,
    "start_time": "2022-01-20T18:59:03.664Z"
   },
   {
    "duration": 5,
    "start_time": "2022-01-20T18:59:03.673Z"
   },
   {
    "duration": 12,
    "start_time": "2022-01-20T18:59:03.723Z"
   },
   {
    "duration": 11,
    "start_time": "2022-01-20T18:59:03.737Z"
   },
   {
    "duration": 5,
    "start_time": "2022-01-20T18:59:03.750Z"
   },
   {
    "duration": 1406,
    "start_time": "2022-01-20T19:00:43.877Z"
   },
   {
    "duration": 52,
    "start_time": "2022-01-20T19:00:46.684Z"
   },
   {
    "duration": 24,
    "start_time": "2022-01-20T19:00:50.111Z"
   },
   {
    "duration": 4,
    "start_time": "2022-01-20T19:00:57.321Z"
   },
   {
    "duration": 12,
    "start_time": "2022-01-20T19:01:00.405Z"
   },
   {
    "duration": 32,
    "start_time": "2022-01-20T19:01:04.663Z"
   },
   {
    "duration": 14,
    "start_time": "2022-01-20T19:01:14.225Z"
   },
   {
    "duration": 27,
    "start_time": "2022-01-20T19:01:33.263Z"
   },
   {
    "duration": 1456,
    "start_time": "2022-01-20T19:02:13.221Z"
   },
   {
    "duration": 52,
    "start_time": "2022-01-20T19:02:14.680Z"
   },
   {
    "duration": 23,
    "start_time": "2022-01-20T19:02:14.736Z"
   },
   {
    "duration": 4,
    "start_time": "2022-01-20T19:02:14.762Z"
   },
   {
    "duration": 13,
    "start_time": "2022-01-20T19:02:14.769Z"
   },
   {
    "duration": 61,
    "start_time": "2022-01-20T19:02:14.784Z"
   },
   {
    "duration": 14,
    "start_time": "2022-01-20T19:02:14.847Z"
   },
   {
    "duration": 21,
    "start_time": "2022-01-20T19:02:14.865Z"
   },
   {
    "duration": 35,
    "start_time": "2022-01-20T19:02:14.889Z"
   },
   {
    "duration": 11,
    "start_time": "2022-01-20T19:02:14.926Z"
   },
   {
    "duration": 9,
    "start_time": "2022-01-20T19:02:14.939Z"
   },
   {
    "duration": 38,
    "start_time": "2022-01-20T19:02:14.950Z"
   },
   {
    "duration": 56,
    "start_time": "2022-01-20T19:02:14.990Z"
   },
   {
    "duration": 12,
    "start_time": "2022-01-20T19:02:15.048Z"
   },
   {
    "duration": 15,
    "start_time": "2022-01-20T19:02:15.062Z"
   },
   {
    "duration": 450,
    "start_time": "2022-01-20T19:02:15.080Z"
   },
   {
    "duration": 24,
    "start_time": "2022-01-20T19:02:15.534Z"
   },
   {
    "duration": 457,
    "start_time": "2022-01-20T19:02:15.561Z"
   },
   {
    "duration": 24,
    "start_time": "2022-01-20T19:02:16.022Z"
   },
   {
    "duration": 367,
    "start_time": "2022-01-20T19:02:16.049Z"
   },
   {
    "duration": 22,
    "start_time": "2022-01-20T19:02:16.418Z"
   },
   {
    "duration": 8,
    "start_time": "2022-01-20T19:02:16.443Z"
   },
   {
    "duration": 67,
    "start_time": "2022-01-20T19:02:16.458Z"
   },
   {
    "duration": 33,
    "start_time": "2022-01-20T19:02:16.529Z"
   },
   {
    "duration": 792,
    "start_time": "2022-01-20T19:02:16.565Z"
   },
   {
    "duration": 11,
    "start_time": "2022-01-20T19:02:17.359Z"
   },
   {
    "duration": 555,
    "start_time": "2022-01-20T19:02:17.372Z"
   },
   {
    "duration": 10,
    "start_time": "2022-01-20T19:02:17.929Z"
   },
   {
    "duration": 589,
    "start_time": "2022-01-20T19:02:17.941Z"
   },
   {
    "duration": 11,
    "start_time": "2022-01-20T19:02:18.532Z"
   },
   {
    "duration": 15,
    "start_time": "2022-01-20T19:02:18.545Z"
   },
   {
    "duration": 31,
    "start_time": "2022-01-20T19:02:18.562Z"
   },
   {
    "duration": 29,
    "start_time": "2022-01-20T19:02:18.595Z"
   },
   {
    "duration": 9,
    "start_time": "2022-01-20T19:02:18.626Z"
   },
   {
    "duration": 12,
    "start_time": "2022-01-20T19:02:18.638Z"
   },
   {
    "duration": 15,
    "start_time": "2022-01-20T19:02:18.652Z"
   },
   {
    "duration": 21,
    "start_time": "2022-01-20T19:02:18.669Z"
   },
   {
    "duration": 31,
    "start_time": "2022-01-20T19:02:18.692Z"
   },
   {
    "duration": 16,
    "start_time": "2022-01-20T19:02:18.725Z"
   },
   {
    "duration": 21,
    "start_time": "2022-01-20T19:02:18.744Z"
   },
   {
    "duration": 24,
    "start_time": "2022-01-20T19:02:18.767Z"
   },
   {
    "duration": 35,
    "start_time": "2022-01-20T19:02:18.793Z"
   },
   {
    "duration": 17,
    "start_time": "2022-01-20T19:02:18.830Z"
   },
   {
    "duration": 35,
    "start_time": "2022-01-20T19:02:18.849Z"
   },
   {
    "duration": 41,
    "start_time": "2022-01-20T19:02:18.887Z"
   },
   {
    "duration": 23,
    "start_time": "2022-01-20T19:02:18.930Z"
   },
   {
    "duration": 18,
    "start_time": "2022-01-20T19:02:18.956Z"
   },
   {
    "duration": 263,
    "start_time": "2022-01-20T19:04:23.720Z"
   },
   {
    "duration": 273,
    "start_time": "2022-01-20T19:05:11.459Z"
   },
   {
    "duration": 274,
    "start_time": "2022-01-20T19:05:26.524Z"
   },
   {
    "duration": 293,
    "start_time": "2022-01-20T19:06:21.039Z"
   },
   {
    "duration": 419,
    "start_time": "2022-01-20T19:10:31.447Z"
   },
   {
    "duration": 27,
    "start_time": "2022-01-20T19:11:41.437Z"
   },
   {
    "duration": 37,
    "start_time": "2022-01-20T19:14:02.568Z"
   },
   {
    "duration": 36,
    "start_time": "2022-01-20T19:14:35.161Z"
   },
   {
    "duration": 21,
    "start_time": "2022-01-20T19:14:54.872Z"
   },
   {
    "duration": 11,
    "start_time": "2022-01-20T19:16:14.944Z"
   },
   {
    "duration": 24,
    "start_time": "2022-01-20T19:16:37.268Z"
   },
   {
    "duration": 459,
    "start_time": "2022-01-20T19:19:10.123Z"
   },
   {
    "duration": 284,
    "start_time": "2022-01-20T19:20:45.911Z"
   },
   {
    "duration": 311,
    "start_time": "2022-01-20T19:20:53.551Z"
   },
   {
    "duration": 1452,
    "start_time": "2022-01-20T19:21:08.064Z"
   },
   {
    "duration": 62,
    "start_time": "2022-01-20T19:21:09.519Z"
   },
   {
    "duration": 24,
    "start_time": "2022-01-20T19:21:09.584Z"
   },
   {
    "duration": 6,
    "start_time": "2022-01-20T19:21:09.623Z"
   },
   {
    "duration": 20,
    "start_time": "2022-01-20T19:21:09.632Z"
   },
   {
    "duration": 33,
    "start_time": "2022-01-20T19:21:09.654Z"
   },
   {
    "duration": 42,
    "start_time": "2022-01-20T19:21:09.689Z"
   },
   {
    "duration": 24,
    "start_time": "2022-01-20T19:21:09.735Z"
   },
   {
    "duration": 11,
    "start_time": "2022-01-20T19:21:09.762Z"
   },
   {
    "duration": 9,
    "start_time": "2022-01-20T19:21:09.775Z"
   },
   {
    "duration": 12,
    "start_time": "2022-01-20T19:21:09.824Z"
   },
   {
    "duration": 42,
    "start_time": "2022-01-20T19:21:09.839Z"
   },
   {
    "duration": 50,
    "start_time": "2022-01-20T19:21:09.883Z"
   },
   {
    "duration": 320,
    "start_time": "2022-01-20T19:21:09.936Z"
   },
   {
    "duration": 12,
    "start_time": "2022-01-20T19:21:10.259Z"
   },
   {
    "duration": 474,
    "start_time": "2022-01-20T19:21:10.274Z"
   },
   {
    "duration": 30,
    "start_time": "2022-01-20T19:21:10.751Z"
   },
   {
    "duration": 443,
    "start_time": "2022-01-20T19:21:10.784Z"
   },
   {
    "duration": 26,
    "start_time": "2022-01-20T19:21:11.230Z"
   },
   {
    "duration": 449,
    "start_time": "2022-01-20T19:21:11.259Z"
   },
   {
    "duration": 34,
    "start_time": "2022-01-20T19:21:11.711Z"
   },
   {
    "duration": 423,
    "start_time": "2022-01-20T19:21:11.748Z"
   },
   {
    "duration": 43,
    "start_time": "2022-01-20T19:21:12.179Z"
   },
   {
    "duration": 27,
    "start_time": "2022-01-20T19:21:12.228Z"
   },
   {
    "duration": 9,
    "start_time": "2022-01-20T19:21:12.258Z"
   },
   {
    "duration": 63,
    "start_time": "2022-01-20T19:21:12.269Z"
   },
   {
    "duration": 38,
    "start_time": "2022-01-20T19:21:12.335Z"
   },
   {
    "duration": 902,
    "start_time": "2022-01-20T19:21:12.375Z"
   },
   {
    "duration": 10,
    "start_time": "2022-01-20T19:21:13.280Z"
   },
   {
    "duration": 602,
    "start_time": "2022-01-20T19:21:13.292Z"
   },
   {
    "duration": 10,
    "start_time": "2022-01-20T19:21:13.897Z"
   },
   {
    "duration": 558,
    "start_time": "2022-01-20T19:21:13.909Z"
   },
   {
    "duration": 10,
    "start_time": "2022-01-20T19:21:14.469Z"
   },
   {
    "duration": 12,
    "start_time": "2022-01-20T19:21:14.481Z"
   },
   {
    "duration": 40,
    "start_time": "2022-01-20T19:21:14.495Z"
   },
   {
    "duration": 9,
    "start_time": "2022-01-20T19:21:14.538Z"
   },
   {
    "duration": 9,
    "start_time": "2022-01-20T19:21:14.549Z"
   },
   {
    "duration": 12,
    "start_time": "2022-01-20T19:21:14.561Z"
   },
   {
    "duration": 57,
    "start_time": "2022-01-20T19:21:14.575Z"
   },
   {
    "duration": 11,
    "start_time": "2022-01-20T19:21:14.635Z"
   },
   {
    "duration": 16,
    "start_time": "2022-01-20T19:21:14.649Z"
   },
   {
    "duration": 17,
    "start_time": "2022-01-20T19:21:14.668Z"
   },
   {
    "duration": 37,
    "start_time": "2022-01-20T19:21:14.688Z"
   },
   {
    "duration": 14,
    "start_time": "2022-01-20T19:21:14.728Z"
   },
   {
    "duration": 16,
    "start_time": "2022-01-20T19:21:14.745Z"
   },
   {
    "duration": 9,
    "start_time": "2022-01-20T19:21:14.764Z"
   },
   {
    "duration": 48,
    "start_time": "2022-01-20T19:21:14.778Z"
   },
   {
    "duration": 25,
    "start_time": "2022-01-20T19:21:14.829Z"
   },
   {
    "duration": 8,
    "start_time": "2022-01-20T19:21:14.857Z"
   },
   {
    "duration": 12,
    "start_time": "2022-01-20T19:21:14.867Z"
   },
   {
    "duration": 6,
    "start_time": "2022-01-20T19:22:02.829Z"
   },
   {
    "duration": 398,
    "start_time": "2022-01-20T19:25:25.468Z"
   },
   {
    "duration": 30,
    "start_time": "2022-01-20T19:25:39.395Z"
   },
   {
    "duration": 22,
    "start_time": "2022-01-20T19:26:24.925Z"
   },
   {
    "duration": 20,
    "start_time": "2022-01-20T19:26:33.094Z"
   },
   {
    "duration": 332,
    "start_time": "2022-01-20T19:27:06.863Z"
   },
   {
    "duration": 325,
    "start_time": "2022-01-20T19:27:12.252Z"
   },
   {
    "duration": 325,
    "start_time": "2022-01-20T19:27:30.063Z"
   },
   {
    "duration": 298,
    "start_time": "2022-01-20T19:28:23.952Z"
   },
   {
    "duration": 314,
    "start_time": "2022-01-20T19:28:31.347Z"
   },
   {
    "duration": -131,
    "start_time": "2022-01-20T19:29:27.026Z"
   },
   {
    "duration": -142,
    "start_time": "2022-01-20T19:29:27.039Z"
   },
   {
    "duration": -133,
    "start_time": "2022-01-20T19:29:27.055Z"
   },
   {
    "duration": -143,
    "start_time": "2022-01-20T19:29:27.066Z"
   },
   {
    "duration": -151,
    "start_time": "2022-01-20T19:29:27.076Z"
   },
   {
    "duration": -157,
    "start_time": "2022-01-20T19:29:27.083Z"
   },
   {
    "duration": -161,
    "start_time": "2022-01-20T19:29:27.089Z"
   },
   {
    "duration": -165,
    "start_time": "2022-01-20T19:29:27.094Z"
   },
   {
    "duration": -179,
    "start_time": "2022-01-20T19:29:27.110Z"
   },
   {
    "duration": -186,
    "start_time": "2022-01-20T19:29:27.118Z"
   },
   {
    "duration": -191,
    "start_time": "2022-01-20T19:29:27.124Z"
   },
   {
    "duration": -194,
    "start_time": "2022-01-20T19:29:27.129Z"
   },
   {
    "duration": -198,
    "start_time": "2022-01-20T19:29:27.135Z"
   },
   {
    "duration": -202,
    "start_time": "2022-01-20T19:29:27.140Z"
   },
   {
    "duration": -207,
    "start_time": "2022-01-20T19:29:27.146Z"
   },
   {
    "duration": -211,
    "start_time": "2022-01-20T19:29:27.151Z"
   },
   {
    "duration": -215,
    "start_time": "2022-01-20T19:29:27.157Z"
   },
   {
    "duration": -220,
    "start_time": "2022-01-20T19:29:27.163Z"
   },
   {
    "duration": -224,
    "start_time": "2022-01-20T19:29:27.168Z"
   },
   {
    "duration": -229,
    "start_time": "2022-01-20T19:29:27.174Z"
   },
   {
    "duration": -233,
    "start_time": "2022-01-20T19:29:27.179Z"
   },
   {
    "duration": -236,
    "start_time": "2022-01-20T19:29:27.184Z"
   },
   {
    "duration": -241,
    "start_time": "2022-01-20T19:29:27.190Z"
   },
   {
    "duration": -245,
    "start_time": "2022-01-20T19:29:27.195Z"
   },
   {
    "duration": -250,
    "start_time": "2022-01-20T19:29:27.201Z"
   },
   {
    "duration": -254,
    "start_time": "2022-01-20T19:29:27.207Z"
   },
   {
    "duration": -275,
    "start_time": "2022-01-20T19:29:27.229Z"
   },
   {
    "duration": -280,
    "start_time": "2022-01-20T19:29:27.235Z"
   },
   {
    "duration": -284,
    "start_time": "2022-01-20T19:29:27.241Z"
   },
   {
    "duration": -287,
    "start_time": "2022-01-20T19:29:27.246Z"
   },
   {
    "duration": -292,
    "start_time": "2022-01-20T19:29:27.252Z"
   },
   {
    "duration": -233,
    "start_time": "2022-01-20T19:29:27.258Z"
   },
   {
    "duration": -237,
    "start_time": "2022-01-20T19:29:27.264Z"
   },
   {
    "duration": -241,
    "start_time": "2022-01-20T19:29:27.269Z"
   },
   {
    "duration": -244,
    "start_time": "2022-01-20T19:29:27.274Z"
   },
   {
    "duration": -248,
    "start_time": "2022-01-20T19:29:27.279Z"
   },
   {
    "duration": -253,
    "start_time": "2022-01-20T19:29:27.285Z"
   },
   {
    "duration": -257,
    "start_time": "2022-01-20T19:29:27.290Z"
   },
   {
    "duration": -261,
    "start_time": "2022-01-20T19:29:27.296Z"
   },
   {
    "duration": -265,
    "start_time": "2022-01-20T19:29:27.301Z"
   },
   {
    "duration": -269,
    "start_time": "2022-01-20T19:29:27.306Z"
   },
   {
    "duration": -272,
    "start_time": "2022-01-20T19:29:27.310Z"
   },
   {
    "duration": -276,
    "start_time": "2022-01-20T19:29:27.315Z"
   },
   {
    "duration": -279,
    "start_time": "2022-01-20T19:29:27.320Z"
   },
   {
    "duration": -282,
    "start_time": "2022-01-20T19:29:27.324Z"
   },
   {
    "duration": -301,
    "start_time": "2022-01-20T19:29:27.344Z"
   },
   {
    "duration": -307,
    "start_time": "2022-01-20T19:29:27.352Z"
   },
   {
    "duration": -309,
    "start_time": "2022-01-20T19:29:27.356Z"
   },
   {
    "duration": -313,
    "start_time": "2022-01-20T19:29:27.361Z"
   },
   {
    "duration": -317,
    "start_time": "2022-01-20T19:29:27.366Z"
   },
   {
    "duration": 1443,
    "start_time": "2022-01-20T19:29:44.423Z"
   },
   {
    "duration": 55,
    "start_time": "2022-01-20T19:29:45.869Z"
   },
   {
    "duration": 27,
    "start_time": "2022-01-20T19:29:45.928Z"
   },
   {
    "duration": 5,
    "start_time": "2022-01-20T19:29:45.957Z"
   },
   {
    "duration": 14,
    "start_time": "2022-01-20T19:29:45.964Z"
   },
   {
    "duration": 74,
    "start_time": "2022-01-20T19:29:45.980Z"
   },
   {
    "duration": 14,
    "start_time": "2022-01-20T19:29:46.056Z"
   },
   {
    "duration": 20,
    "start_time": "2022-01-20T19:29:46.074Z"
   },
   {
    "duration": 33,
    "start_time": "2022-01-20T19:29:46.098Z"
   },
   {
    "duration": 9,
    "start_time": "2022-01-20T19:29:46.134Z"
   },
   {
    "duration": 12,
    "start_time": "2022-01-20T19:29:46.145Z"
   },
   {
    "duration": 66,
    "start_time": "2022-01-20T19:29:46.159Z"
   },
   {
    "duration": 26,
    "start_time": "2022-01-20T19:29:46.227Z"
   },
   {
    "duration": 298,
    "start_time": "2022-01-20T19:29:46.256Z"
   },
   {
    "duration": 10,
    "start_time": "2022-01-20T19:29:46.556Z"
   },
   {
    "duration": 436,
    "start_time": "2022-01-20T19:29:46.568Z"
   },
   {
    "duration": 30,
    "start_time": "2022-01-20T19:29:47.007Z"
   },
   {
    "duration": 381,
    "start_time": "2022-01-20T19:29:47.040Z"
   },
   {
    "duration": 22,
    "start_time": "2022-01-20T19:29:47.424Z"
   },
   {
    "duration": 366,
    "start_time": "2022-01-20T19:29:47.448Z"
   },
   {
    "duration": 27,
    "start_time": "2022-01-20T19:29:47.817Z"
   },
   {
    "duration": 407,
    "start_time": "2022-01-20T19:29:47.846Z"
   },
   {
    "duration": 23,
    "start_time": "2022-01-20T19:29:48.259Z"
   },
   {
    "duration": 4,
    "start_time": "2022-01-20T19:29:48.285Z"
   },
   {
    "duration": 37,
    "start_time": "2022-01-20T19:29:48.292Z"
   },
   {
    "duration": 445,
    "start_time": "2022-01-20T19:29:48.332Z"
   },
   {
    "duration": -3,
    "start_time": "2022-01-20T19:29:48.782Z"
   },
   {
    "duration": -37,
    "start_time": "2022-01-20T19:29:48.818Z"
   },
   {
    "duration": -56,
    "start_time": "2022-01-20T19:29:48.839Z"
   },
   {
    "duration": -61,
    "start_time": "2022-01-20T19:29:48.845Z"
   },
   {
    "duration": -71,
    "start_time": "2022-01-20T19:29:48.857Z"
   },
   {
    "duration": -85,
    "start_time": "2022-01-20T19:29:48.872Z"
   },
   {
    "duration": -90,
    "start_time": "2022-01-20T19:29:48.879Z"
   },
   {
    "duration": -94,
    "start_time": "2022-01-20T19:29:48.884Z"
   },
   {
    "duration": -97,
    "start_time": "2022-01-20T19:29:48.889Z"
   },
   {
    "duration": -102,
    "start_time": "2022-01-20T19:29:48.895Z"
   },
   {
    "duration": -106,
    "start_time": "2022-01-20T19:29:48.900Z"
   },
   {
    "duration": -110,
    "start_time": "2022-01-20T19:29:48.905Z"
   },
   {
    "duration": -133,
    "start_time": "2022-01-20T19:29:48.930Z"
   },
   {
    "duration": -146,
    "start_time": "2022-01-20T19:29:48.944Z"
   },
   {
    "duration": -157,
    "start_time": "2022-01-20T19:29:48.956Z"
   },
   {
    "duration": -168,
    "start_time": "2022-01-20T19:29:48.969Z"
   },
   {
    "duration": -173,
    "start_time": "2022-01-20T19:29:48.975Z"
   },
   {
    "duration": -185,
    "start_time": "2022-01-20T19:29:48.989Z"
   },
   {
    "duration": -190,
    "start_time": "2022-01-20T19:29:48.995Z"
   },
   {
    "duration": -202,
    "start_time": "2022-01-20T19:29:49.008Z"
   },
   {
    "duration": -213,
    "start_time": "2022-01-20T19:29:49.021Z"
   },
   {
    "duration": -219,
    "start_time": "2022-01-20T19:29:49.028Z"
   },
   {
    "duration": -223,
    "start_time": "2022-01-20T19:29:49.033Z"
   },
   {
    "duration": -226,
    "start_time": "2022-01-20T19:29:49.038Z"
   },
   {
    "duration": 21,
    "start_time": "2022-01-20T19:30:04.853Z"
   },
   {
    "duration": 310,
    "start_time": "2022-01-20T19:30:40.348Z"
   },
   {
    "duration": 21,
    "start_time": "2022-01-20T19:31:30.490Z"
   },
   {
    "duration": 355,
    "start_time": "2022-01-20T19:31:34.123Z"
   },
   {
    "duration": 291,
    "start_time": "2022-01-20T19:32:08.577Z"
   },
   {
    "duration": 303,
    "start_time": "2022-01-20T19:32:13.431Z"
   },
   {
    "duration": 327,
    "start_time": "2022-01-20T19:32:19.290Z"
   },
   {
    "duration": 15,
    "start_time": "2022-01-20T19:32:52.442Z"
   },
   {
    "duration": 347,
    "start_time": "2022-01-20T19:35:34.828Z"
   },
   {
    "duration": 355,
    "start_time": "2022-01-20T19:36:30.330Z"
   },
   {
    "duration": 363,
    "start_time": "2022-01-20T19:37:06.943Z"
   },
   {
    "duration": 311,
    "start_time": "2022-01-20T19:37:13.603Z"
   },
   {
    "duration": 24,
    "start_time": "2022-01-20T19:37:19.844Z"
   },
   {
    "duration": 29,
    "start_time": "2022-01-20T19:37:30.726Z"
   },
   {
    "duration": 26,
    "start_time": "2022-01-20T19:39:07.244Z"
   },
   {
    "duration": 10,
    "start_time": "2022-01-20T19:39:14.736Z"
   },
   {
    "duration": 14,
    "start_time": "2022-01-20T19:39:20.956Z"
   },
   {
    "duration": 14,
    "start_time": "2022-01-20T19:39:33.106Z"
   },
   {
    "duration": 32,
    "start_time": "2022-01-20T19:39:52.924Z"
   },
   {
    "duration": 17,
    "start_time": "2022-01-20T19:40:00.208Z"
   },
   {
    "duration": 27,
    "start_time": "2022-01-20T19:56:34.306Z"
   },
   {
    "duration": 739,
    "start_time": "2022-01-20T19:56:52.461Z"
   },
   {
    "duration": 24,
    "start_time": "2022-01-20T19:58:24.654Z"
   },
   {
    "duration": 340,
    "start_time": "2022-01-20T19:58:40.571Z"
   },
   {
    "duration": 12,
    "start_time": "2022-01-20T19:59:09.769Z"
   },
   {
    "duration": 40,
    "start_time": "2022-01-20T20:00:17.180Z"
   },
   {
    "duration": 286,
    "start_time": "2022-01-20T20:01:18.782Z"
   },
   {
    "duration": 340,
    "start_time": "2022-01-20T20:02:46.117Z"
   },
   {
    "duration": 301,
    "start_time": "2022-01-20T20:03:10.517Z"
   },
   {
    "duration": 806,
    "start_time": "2022-01-20T20:04:19.792Z"
   },
   {
    "duration": 621,
    "start_time": "2022-01-20T20:04:30.210Z"
   },
   {
    "duration": 824,
    "start_time": "2022-01-20T20:06:56.412Z"
   },
   {
    "duration": 811,
    "start_time": "2022-01-20T20:07:34.874Z"
   },
   {
    "duration": 873,
    "start_time": "2022-01-20T20:08:34.533Z"
   },
   {
    "duration": 607,
    "start_time": "2022-01-20T20:09:16.504Z"
   },
   {
    "duration": 848,
    "start_time": "2022-01-20T20:12:07.537Z"
   },
   {
    "duration": 876,
    "start_time": "2022-01-20T20:13:18.503Z"
   },
   {
    "duration": 747,
    "start_time": "2022-01-20T20:14:54.488Z"
   },
   {
    "duration": 1581,
    "start_time": "2022-01-20T20:15:07.017Z"
   },
   {
    "duration": 337,
    "start_time": "2022-01-20T20:15:57.027Z"
   },
   {
    "duration": 706,
    "start_time": "2022-01-20T20:18:26.061Z"
   },
   {
    "duration": 655,
    "start_time": "2022-01-20T20:18:52.190Z"
   },
   {
    "duration": 42,
    "start_time": "2022-01-20T20:20:08.786Z"
   },
   {
    "duration": 1199,
    "start_time": "2022-01-20T20:22:01.045Z"
   },
   {
    "duration": 890,
    "start_time": "2022-01-20T20:22:46.478Z"
   },
   {
    "duration": 887,
    "start_time": "2022-01-20T20:25:10.081Z"
   },
   {
    "duration": 1011,
    "start_time": "2022-01-20T20:30:12.944Z"
   },
   {
    "duration": 988,
    "start_time": "2022-01-20T20:30:27.535Z"
   },
   {
    "duration": 1230,
    "start_time": "2022-01-20T20:30:47.771Z"
   },
   {
    "duration": 723,
    "start_time": "2022-01-20T20:32:08.177Z"
   },
   {
    "duration": 785,
    "start_time": "2022-01-20T20:32:28.475Z"
   },
   {
    "duration": 845,
    "start_time": "2022-01-20T20:33:45.151Z"
   },
   {
    "duration": 583,
    "start_time": "2022-01-20T20:34:03.200Z"
   },
   {
    "duration": 1011,
    "start_time": "2022-01-20T20:37:42.125Z"
   },
   {
    "duration": 8649,
    "start_time": "2022-01-20T20:38:30.283Z"
   },
   {
    "duration": 580,
    "start_time": "2022-01-20T20:38:57.252Z"
   },
   {
    "duration": 651,
    "start_time": "2022-01-20T20:40:37.858Z"
   },
   {
    "duration": 645,
    "start_time": "2022-01-20T20:41:57.345Z"
   },
   {
    "duration": 710,
    "start_time": "2022-01-20T20:42:07.651Z"
   },
   {
    "duration": 1438,
    "start_time": "2022-01-20T20:45:22.385Z"
   },
   {
    "duration": 52,
    "start_time": "2022-01-20T20:45:23.825Z"
   },
   {
    "duration": 22,
    "start_time": "2022-01-20T20:45:23.880Z"
   },
   {
    "duration": 20,
    "start_time": "2022-01-20T20:45:23.905Z"
   },
   {
    "duration": 15,
    "start_time": "2022-01-20T20:45:23.928Z"
   },
   {
    "duration": 31,
    "start_time": "2022-01-20T20:45:23.945Z"
   },
   {
    "duration": 13,
    "start_time": "2022-01-20T20:45:23.978Z"
   },
   {
    "duration": 20,
    "start_time": "2022-01-20T20:45:24.023Z"
   },
   {
    "duration": 9,
    "start_time": "2022-01-20T20:45:24.046Z"
   },
   {
    "duration": 9,
    "start_time": "2022-01-20T20:45:24.058Z"
   },
   {
    "duration": 8,
    "start_time": "2022-01-20T20:45:24.069Z"
   },
   {
    "duration": 71,
    "start_time": "2022-01-20T20:45:24.080Z"
   },
   {
    "duration": 23,
    "start_time": "2022-01-20T20:45:24.153Z"
   },
   {
    "duration": 329,
    "start_time": "2022-01-20T20:45:24.178Z"
   },
   {
    "duration": 19,
    "start_time": "2022-01-20T20:45:24.511Z"
   },
   {
    "duration": 391,
    "start_time": "2022-01-20T20:45:24.532Z"
   },
   {
    "duration": 25,
    "start_time": "2022-01-20T20:45:24.925Z"
   },
   {
    "duration": 369,
    "start_time": "2022-01-20T20:45:24.952Z"
   },
   {
    "duration": 22,
    "start_time": "2022-01-20T20:45:25.324Z"
   },
   {
    "duration": 370,
    "start_time": "2022-01-20T20:45:25.349Z"
   },
   {
    "duration": 23,
    "start_time": "2022-01-20T20:45:25.723Z"
   },
   {
    "duration": 578,
    "start_time": "2022-01-20T20:45:25.748Z"
   },
   {
    "duration": 31,
    "start_time": "2022-01-20T20:45:26.333Z"
   },
   {
    "duration": 4,
    "start_time": "2022-01-20T20:45:26.367Z"
   },
   {
    "duration": 9,
    "start_time": "2022-01-20T20:45:26.373Z"
   },
   {
    "duration": 728,
    "start_time": "2022-01-20T20:45:26.384Z"
   },
   {
    "duration": 35,
    "start_time": "2022-01-20T20:45:27.115Z"
   },
   {
    "duration": 794,
    "start_time": "2022-01-20T20:45:27.153Z"
   },
   {
    "duration": 13,
    "start_time": "2022-01-20T20:45:27.950Z"
   },
   {
    "duration": 594,
    "start_time": "2022-01-20T20:45:27.966Z"
   },
   {
    "duration": 12,
    "start_time": "2022-01-20T20:45:28.563Z"
   },
   {
    "duration": 551,
    "start_time": "2022-01-20T20:45:28.578Z"
   },
   {
    "duration": 12,
    "start_time": "2022-01-20T20:45:29.132Z"
   },
   {
    "duration": 10,
    "start_time": "2022-01-20T20:45:29.147Z"
   },
   {
    "duration": 22,
    "start_time": "2022-01-20T20:45:29.160Z"
   },
   {
    "duration": 46,
    "start_time": "2022-01-20T20:45:29.185Z"
   },
   {
    "duration": 12,
    "start_time": "2022-01-20T20:45:29.233Z"
   },
   {
    "duration": 12,
    "start_time": "2022-01-20T20:45:29.247Z"
   },
   {
    "duration": 11,
    "start_time": "2022-01-20T20:45:29.262Z"
   },
   {
    "duration": 55,
    "start_time": "2022-01-20T20:45:29.276Z"
   },
   {
    "duration": 12,
    "start_time": "2022-01-20T20:45:29.334Z"
   },
   {
    "duration": 12,
    "start_time": "2022-01-20T20:45:29.348Z"
   },
   {
    "duration": 18,
    "start_time": "2022-01-20T20:45:29.363Z"
   },
   {
    "duration": 49,
    "start_time": "2022-01-20T20:45:29.384Z"
   },
   {
    "duration": 15,
    "start_time": "2022-01-20T20:45:29.436Z"
   },
   {
    "duration": 9,
    "start_time": "2022-01-20T20:45:29.453Z"
   },
   {
    "duration": 6,
    "start_time": "2022-01-20T20:45:29.464Z"
   },
   {
    "duration": 51,
    "start_time": "2022-01-20T20:45:29.472Z"
   },
   {
    "duration": 6,
    "start_time": "2022-01-20T20:45:29.526Z"
   },
   {
    "duration": 7,
    "start_time": "2022-01-20T20:45:29.534Z"
   },
   {
    "duration": 17,
    "start_time": "2022-01-20T20:49:45.365Z"
   },
   {
    "duration": 1448,
    "start_time": "2022-01-20T20:53:27.509Z"
   },
   {
    "duration": 55,
    "start_time": "2022-01-20T20:53:28.960Z"
   },
   {
    "duration": 26,
    "start_time": "2022-01-20T20:53:29.018Z"
   },
   {
    "duration": 4,
    "start_time": "2022-01-20T20:53:29.046Z"
   },
   {
    "duration": 17,
    "start_time": "2022-01-20T20:53:29.052Z"
   },
   {
    "duration": 54,
    "start_time": "2022-01-20T20:53:29.071Z"
   },
   {
    "duration": 14,
    "start_time": "2022-01-20T20:53:29.127Z"
   },
   {
    "duration": 19,
    "start_time": "2022-01-20T20:53:29.145Z"
   },
   {
    "duration": 9,
    "start_time": "2022-01-20T20:53:29.168Z"
   },
   {
    "duration": 6,
    "start_time": "2022-01-20T20:53:29.180Z"
   },
   {
    "duration": 42,
    "start_time": "2022-01-20T20:53:29.189Z"
   },
   {
    "duration": 53,
    "start_time": "2022-01-20T20:53:29.234Z"
   },
   {
    "duration": 60,
    "start_time": "2022-01-20T20:53:29.290Z"
   },
   {
    "duration": 309,
    "start_time": "2022-01-20T20:53:29.352Z"
   },
   {
    "duration": 9,
    "start_time": "2022-01-20T20:53:29.664Z"
   },
   {
    "duration": 431,
    "start_time": "2022-01-20T20:53:29.676Z"
   },
   {
    "duration": 31,
    "start_time": "2022-01-20T20:53:30.110Z"
   },
   {
    "duration": 380,
    "start_time": "2022-01-20T20:53:30.143Z"
   },
   {
    "duration": 23,
    "start_time": "2022-01-20T20:53:30.526Z"
   },
   {
    "duration": 561,
    "start_time": "2022-01-20T20:53:30.552Z"
   },
   {
    "duration": 28,
    "start_time": "2022-01-20T20:53:31.115Z"
   },
   {
    "duration": 414,
    "start_time": "2022-01-20T20:53:31.145Z"
   },
   {
    "duration": 23,
    "start_time": "2022-01-20T20:53:31.564Z"
   },
   {
    "duration": 5,
    "start_time": "2022-01-20T20:53:31.590Z"
   },
   {
    "duration": 28,
    "start_time": "2022-01-20T20:53:31.598Z"
   },
   {
    "duration": 700,
    "start_time": "2022-01-20T20:53:31.629Z"
   },
   {
    "duration": 34,
    "start_time": "2022-01-20T20:53:32.332Z"
   },
   {
    "duration": 834,
    "start_time": "2022-01-20T20:53:32.369Z"
   },
   {
    "duration": 24,
    "start_time": "2022-01-20T20:53:33.205Z"
   },
   {
    "duration": 541,
    "start_time": "2022-01-20T20:53:33.231Z"
   },
   {
    "duration": 10,
    "start_time": "2022-01-20T20:53:33.774Z"
   },
   {
    "duration": 526,
    "start_time": "2022-01-20T20:53:33.787Z"
   },
   {
    "duration": 15,
    "start_time": "2022-01-20T20:53:34.315Z"
   },
   {
    "duration": 13,
    "start_time": "2022-01-20T20:53:34.332Z"
   },
   {
    "duration": 21,
    "start_time": "2022-01-20T20:53:34.347Z"
   },
   {
    "duration": 9,
    "start_time": "2022-01-20T20:53:34.370Z"
   },
   {
    "duration": 9,
    "start_time": "2022-01-20T20:53:34.424Z"
   },
   {
    "duration": 11,
    "start_time": "2022-01-20T20:53:34.435Z"
   },
   {
    "duration": 8,
    "start_time": "2022-01-20T20:53:34.448Z"
   },
   {
    "duration": 14,
    "start_time": "2022-01-20T20:53:34.458Z"
   },
   {
    "duration": 52,
    "start_time": "2022-01-20T20:53:34.474Z"
   },
   {
    "duration": 11,
    "start_time": "2022-01-20T20:53:34.528Z"
   },
   {
    "duration": 12,
    "start_time": "2022-01-20T20:53:34.541Z"
   },
   {
    "duration": 13,
    "start_time": "2022-01-20T20:53:34.555Z"
   },
   {
    "duration": 57,
    "start_time": "2022-01-20T20:53:34.570Z"
   },
   {
    "duration": 7,
    "start_time": "2022-01-20T20:53:34.630Z"
   },
   {
    "duration": 7,
    "start_time": "2022-01-20T20:53:34.639Z"
   },
   {
    "duration": 11,
    "start_time": "2022-01-20T20:53:34.648Z"
   },
   {
    "duration": 7,
    "start_time": "2022-01-20T20:53:34.662Z"
   },
   {
    "duration": 52,
    "start_time": "2022-01-20T20:53:34.671Z"
   },
   {
    "duration": 102,
    "start_time": "2022-01-20T20:55:42.641Z"
   },
   {
    "duration": 4,
    "start_time": "2022-01-20T20:58:26.497Z"
   },
   {
    "duration": 1388,
    "start_time": "2022-01-20T21:00:48.361Z"
   },
   {
    "duration": 54,
    "start_time": "2022-01-20T21:00:49.751Z"
   },
   {
    "duration": 34,
    "start_time": "2022-01-20T21:00:49.808Z"
   },
   {
    "duration": 4,
    "start_time": "2022-01-20T21:00:49.846Z"
   },
   {
    "duration": 13,
    "start_time": "2022-01-20T21:00:49.853Z"
   },
   {
    "duration": 77,
    "start_time": "2022-01-20T21:00:49.868Z"
   },
   {
    "duration": 13,
    "start_time": "2022-01-20T21:00:49.948Z"
   },
   {
    "duration": 18,
    "start_time": "2022-01-20T21:00:49.964Z"
   },
   {
    "duration": 9,
    "start_time": "2022-01-20T21:00:49.985Z"
   },
   {
    "duration": 6,
    "start_time": "2022-01-20T21:00:49.996Z"
   },
   {
    "duration": 8,
    "start_time": "2022-01-20T21:00:50.024Z"
   },
   {
    "duration": 36,
    "start_time": "2022-01-20T21:00:50.034Z"
   },
   {
    "duration": 51,
    "start_time": "2022-01-20T21:00:50.073Z"
   },
   {
    "duration": 271,
    "start_time": "2022-01-20T21:00:50.126Z"
   },
   {
    "duration": 24,
    "start_time": "2022-01-20T21:00:50.399Z"
   },
   {
    "duration": 382,
    "start_time": "2022-01-20T21:00:50.425Z"
   },
   {
    "duration": 26,
    "start_time": "2022-01-20T21:00:50.810Z"
   },
   {
    "duration": 387,
    "start_time": "2022-01-20T21:00:50.839Z"
   },
   {
    "duration": 24,
    "start_time": "2022-01-20T21:00:51.228Z"
   },
   {
    "duration": 348,
    "start_time": "2022-01-20T21:00:51.254Z"
   },
   {
    "duration": 30,
    "start_time": "2022-01-20T21:00:51.605Z"
   },
   {
    "duration": 446,
    "start_time": "2022-01-20T21:00:51.637Z"
   },
   {
    "duration": 75,
    "start_time": "2022-01-20T21:00:52.091Z"
   },
   {
    "duration": 23,
    "start_time": "2022-01-20T21:00:52.183Z"
   },
   {
    "duration": 100,
    "start_time": "2022-01-20T21:00:52.220Z"
   },
   {
    "duration": 697,
    "start_time": "2022-01-20T21:00:52.332Z"
   },
   {
    "duration": 35,
    "start_time": "2022-01-20T21:00:53.032Z"
   },
   {
    "duration": 840,
    "start_time": "2022-01-20T21:00:53.069Z"
   },
   {
    "duration": 18,
    "start_time": "2022-01-20T21:00:53.912Z"
   },
   {
    "duration": 519,
    "start_time": "2022-01-20T21:00:53.932Z"
   },
   {
    "duration": 10,
    "start_time": "2022-01-20T21:00:54.453Z"
   },
   {
    "duration": 562,
    "start_time": "2022-01-20T21:00:54.465Z"
   },
   {
    "duration": 11,
    "start_time": "2022-01-20T21:00:55.029Z"
   },
   {
    "duration": 11,
    "start_time": "2022-01-20T21:00:55.043Z"
   },
   {
    "duration": 19,
    "start_time": "2022-01-20T21:00:55.056Z"
   },
   {
    "duration": 9,
    "start_time": "2022-01-20T21:00:55.077Z"
   },
   {
    "duration": 44,
    "start_time": "2022-01-20T21:00:55.088Z"
   },
   {
    "duration": 11,
    "start_time": "2022-01-20T21:00:55.134Z"
   },
   {
    "duration": 11,
    "start_time": "2022-01-20T21:00:55.148Z"
   },
   {
    "duration": 10,
    "start_time": "2022-01-20T21:00:55.161Z"
   },
   {
    "duration": 58,
    "start_time": "2022-01-20T21:00:55.174Z"
   },
   {
    "duration": 11,
    "start_time": "2022-01-20T21:00:55.234Z"
   },
   {
    "duration": 15,
    "start_time": "2022-01-20T21:00:55.248Z"
   },
   {
    "duration": 11,
    "start_time": "2022-01-20T21:00:55.266Z"
   },
   {
    "duration": 53,
    "start_time": "2022-01-20T21:00:55.279Z"
   },
   {
    "duration": 7,
    "start_time": "2022-01-20T21:00:55.334Z"
   },
   {
    "duration": 7,
    "start_time": "2022-01-20T21:00:55.343Z"
   },
   {
    "duration": 16,
    "start_time": "2022-01-20T21:00:55.353Z"
   },
   {
    "duration": 9,
    "start_time": "2022-01-20T21:00:55.372Z"
   },
   {
    "duration": 43,
    "start_time": "2022-01-20T21:00:55.383Z"
   },
   {
    "duration": 1473,
    "start_time": "2022-01-20T21:04:19.405Z"
   },
   {
    "duration": 54,
    "start_time": "2022-01-20T21:04:20.881Z"
   },
   {
    "duration": 24,
    "start_time": "2022-01-20T21:04:20.938Z"
   },
   {
    "duration": 9,
    "start_time": "2022-01-20T21:04:20.964Z"
   },
   {
    "duration": 14,
    "start_time": "2022-01-20T21:04:20.976Z"
   },
   {
    "duration": 48,
    "start_time": "2022-01-20T21:04:20.995Z"
   },
   {
    "duration": 18,
    "start_time": "2022-01-20T21:04:21.046Z"
   },
   {
    "duration": 54,
    "start_time": "2022-01-20T21:04:21.069Z"
   },
   {
    "duration": 10,
    "start_time": "2022-01-20T21:04:21.126Z"
   },
   {
    "duration": 5,
    "start_time": "2022-01-20T21:04:21.138Z"
   },
   {
    "duration": 11,
    "start_time": "2022-01-20T21:04:21.145Z"
   },
   {
    "duration": 65,
    "start_time": "2022-01-20T21:04:21.158Z"
   },
   {
    "duration": 26,
    "start_time": "2022-01-20T21:04:21.226Z"
   },
   {
    "duration": 309,
    "start_time": "2022-01-20T21:04:21.254Z"
   },
   {
    "duration": 10,
    "start_time": "2022-01-20T21:04:21.566Z"
   },
   {
    "duration": 466,
    "start_time": "2022-01-20T21:04:21.578Z"
   },
   {
    "duration": 30,
    "start_time": "2022-01-20T21:04:22.047Z"
   },
   {
    "duration": 531,
    "start_time": "2022-01-20T21:04:22.080Z"
   },
   {
    "duration": 27,
    "start_time": "2022-01-20T21:04:22.614Z"
   },
   {
    "duration": 382,
    "start_time": "2022-01-20T21:04:22.643Z"
   },
   {
    "duration": 24,
    "start_time": "2022-01-20T21:04:23.028Z"
   },
   {
    "duration": 559,
    "start_time": "2022-01-20T21:04:23.055Z"
   },
   {
    "duration": 28,
    "start_time": "2022-01-20T21:04:23.626Z"
   },
   {
    "duration": 5,
    "start_time": "2022-01-20T21:04:23.658Z"
   },
   {
    "duration": 8,
    "start_time": "2022-01-20T21:04:23.666Z"
   },
   {
    "duration": 954,
    "start_time": "2022-01-20T21:04:23.677Z"
   },
   {
    "duration": 47,
    "start_time": "2022-01-20T21:04:24.634Z"
   },
   {
    "duration": 1152,
    "start_time": "2022-01-20T21:04:24.684Z"
   },
   {
    "duration": 12,
    "start_time": "2022-01-20T21:04:25.839Z"
   },
   {
    "duration": 511,
    "start_time": "2022-01-20T21:04:25.853Z"
   },
   {
    "duration": 12,
    "start_time": "2022-01-20T21:04:26.367Z"
   },
   {
    "duration": 533,
    "start_time": "2022-01-20T21:04:26.381Z"
   },
   {
    "duration": 11,
    "start_time": "2022-01-20T21:04:26.924Z"
   },
   {
    "duration": 11,
    "start_time": "2022-01-20T21:04:26.937Z"
   },
   {
    "duration": 23,
    "start_time": "2022-01-20T21:04:26.951Z"
   },
   {
    "duration": 46,
    "start_time": "2022-01-20T21:04:26.977Z"
   },
   {
    "duration": 12,
    "start_time": "2022-01-20T21:04:27.026Z"
   },
   {
    "duration": 12,
    "start_time": "2022-01-20T21:04:27.041Z"
   },
   {
    "duration": 9,
    "start_time": "2022-01-20T21:04:27.056Z"
   },
   {
    "duration": 9,
    "start_time": "2022-01-20T21:04:27.068Z"
   },
   {
    "duration": 53,
    "start_time": "2022-01-20T21:04:27.079Z"
   },
   {
    "duration": 9,
    "start_time": "2022-01-20T21:04:27.134Z"
   },
   {
    "duration": 9,
    "start_time": "2022-01-20T21:04:27.145Z"
   },
   {
    "duration": 9,
    "start_time": "2022-01-20T21:04:27.157Z"
   },
   {
    "duration": 64,
    "start_time": "2022-01-20T21:04:27.168Z"
   },
   {
    "duration": 7,
    "start_time": "2022-01-20T21:04:27.235Z"
   },
   {
    "duration": 5,
    "start_time": "2022-01-20T21:04:27.244Z"
   },
   {
    "duration": 11,
    "start_time": "2022-01-20T21:04:27.251Z"
   },
   {
    "duration": 7,
    "start_time": "2022-01-20T21:04:27.264Z"
   },
   {
    "duration": 54,
    "start_time": "2022-01-20T21:04:27.274Z"
   },
   {
    "duration": 1063,
    "start_time": "2022-01-21T14:52:13.906Z"
   },
   {
    "duration": 42,
    "start_time": "2022-01-21T14:52:14.971Z"
   },
   {
    "duration": 15,
    "start_time": "2022-01-21T14:52:15.015Z"
   },
   {
    "duration": 4,
    "start_time": "2022-01-21T14:52:15.032Z"
   },
   {
    "duration": 10,
    "start_time": "2022-01-21T14:52:15.038Z"
   },
   {
    "duration": 30,
    "start_time": "2022-01-21T14:52:15.049Z"
   },
   {
    "duration": 9,
    "start_time": "2022-01-21T14:52:15.080Z"
   },
   {
    "duration": 12,
    "start_time": "2022-01-21T14:52:15.091Z"
   },
   {
    "duration": 5,
    "start_time": "2022-01-21T14:52:15.105Z"
   },
   {
    "duration": 3,
    "start_time": "2022-01-21T14:52:15.112Z"
   },
   {
    "duration": 8,
    "start_time": "2022-01-21T14:52:15.117Z"
   },
   {
    "duration": 46,
    "start_time": "2022-01-21T14:52:15.127Z"
   },
   {
    "duration": 16,
    "start_time": "2022-01-21T14:52:15.174Z"
   },
   {
    "duration": 187,
    "start_time": "2022-01-21T14:52:15.192Z"
   },
   {
    "duration": 7,
    "start_time": "2022-01-21T14:52:15.380Z"
   },
   {
    "duration": 290,
    "start_time": "2022-01-21T14:52:15.389Z"
   },
   {
    "duration": 14,
    "start_time": "2022-01-21T14:52:15.681Z"
   },
   {
    "duration": 276,
    "start_time": "2022-01-21T14:52:15.697Z"
   },
   {
    "duration": 17,
    "start_time": "2022-01-21T14:52:15.975Z"
   },
   {
    "duration": 288,
    "start_time": "2022-01-21T14:52:15.994Z"
   },
   {
    "duration": 14,
    "start_time": "2022-01-21T14:52:16.284Z"
   },
   {
    "duration": 306,
    "start_time": "2022-01-21T14:52:16.300Z"
   },
   {
    "duration": 14,
    "start_time": "2022-01-21T14:52:16.609Z"
   },
   {
    "duration": 15,
    "start_time": "2022-01-21T14:52:16.625Z"
   },
   {
    "duration": 27,
    "start_time": "2022-01-21T14:52:16.641Z"
   },
   {
    "duration": 412,
    "start_time": "2022-01-21T14:52:16.669Z"
   },
   {
    "duration": 19,
    "start_time": "2022-01-21T14:52:17.083Z"
   },
   {
    "duration": 484,
    "start_time": "2022-01-21T14:52:17.103Z"
   },
   {
    "duration": 6,
    "start_time": "2022-01-21T14:52:17.588Z"
   },
   {
    "duration": 366,
    "start_time": "2022-01-21T14:52:17.596Z"
   },
   {
    "duration": 13,
    "start_time": "2022-01-21T14:52:17.963Z"
   },
   {
    "duration": 358,
    "start_time": "2022-01-21T14:52:17.977Z"
   },
   {
    "duration": 7,
    "start_time": "2022-01-21T14:52:18.337Z"
   },
   {
    "duration": 32,
    "start_time": "2022-01-21T14:52:18.346Z"
   },
   {
    "duration": 46,
    "start_time": "2022-01-21T14:52:18.380Z"
   },
   {
    "duration": 15,
    "start_time": "2022-01-21T14:52:18.428Z"
   },
   {
    "duration": 28,
    "start_time": "2022-01-21T14:52:18.444Z"
   },
   {
    "duration": 25,
    "start_time": "2022-01-21T14:52:18.473Z"
   },
   {
    "duration": 22,
    "start_time": "2022-01-21T14:52:18.500Z"
   },
   {
    "duration": 31,
    "start_time": "2022-01-21T14:52:18.523Z"
   },
   {
    "duration": 25,
    "start_time": "2022-01-21T14:52:18.555Z"
   },
   {
    "duration": 30,
    "start_time": "2022-01-21T14:52:18.581Z"
   },
   {
    "duration": 21,
    "start_time": "2022-01-21T14:52:18.613Z"
   },
   {
    "duration": 24,
    "start_time": "2022-01-21T14:52:18.635Z"
   },
   {
    "duration": 26,
    "start_time": "2022-01-21T14:52:18.661Z"
   },
   {
    "duration": 20,
    "start_time": "2022-01-21T14:52:18.689Z"
   },
   {
    "duration": 22,
    "start_time": "2022-01-21T14:52:18.710Z"
   },
   {
    "duration": 13,
    "start_time": "2022-01-21T14:52:18.734Z"
   },
   {
    "duration": 15,
    "start_time": "2022-01-21T14:52:18.748Z"
   },
   {
    "duration": 12,
    "start_time": "2022-01-21T14:52:18.765Z"
   },
   {
    "duration": 188,
    "start_time": "2022-01-21T14:55:36.855Z"
   },
   {
    "duration": 296,
    "start_time": "2022-01-21T14:57:05.285Z"
   },
   {
    "duration": 255,
    "start_time": "2022-01-21T14:57:31.990Z"
   },
   {
    "duration": 552,
    "start_time": "2022-01-21T14:57:42.221Z"
   },
   {
    "duration": 426,
    "start_time": "2022-01-21T14:57:50.613Z"
   },
   {
    "duration": 522,
    "start_time": "2022-01-21T15:00:26.537Z"
   },
   {
    "duration": 65,
    "start_time": "2022-05-30T11:41:47.868Z"
   },
   {
    "duration": 1038,
    "start_time": "2022-05-30T11:45:20.307Z"
   },
   {
    "duration": 190,
    "start_time": "2022-05-30T11:45:21.346Z"
   },
   {
    "duration": 17,
    "start_time": "2022-05-30T11:45:21.538Z"
   },
   {
    "duration": 2,
    "start_time": "2022-05-30T11:45:21.557Z"
   },
   {
    "duration": 12,
    "start_time": "2022-05-30T11:45:21.561Z"
   },
   {
    "duration": 21,
    "start_time": "2022-05-30T11:45:21.574Z"
   },
   {
    "duration": 8,
    "start_time": "2022-05-30T11:45:21.596Z"
   },
   {
    "duration": 13,
    "start_time": "2022-05-30T11:45:21.605Z"
   },
   {
    "duration": 9,
    "start_time": "2022-05-30T11:45:21.619Z"
   },
   {
    "duration": 6,
    "start_time": "2022-05-30T11:45:21.629Z"
   },
   {
    "duration": 8,
    "start_time": "2022-05-30T11:45:21.636Z"
   },
   {
    "duration": 33,
    "start_time": "2022-05-30T11:45:21.645Z"
   },
   {
    "duration": 15,
    "start_time": "2022-05-30T11:45:21.679Z"
   },
   {
    "duration": 137,
    "start_time": "2022-05-30T11:45:21.697Z"
   },
   {
    "duration": 7,
    "start_time": "2022-05-30T11:45:21.835Z"
   },
   {
    "duration": 184,
    "start_time": "2022-05-30T11:45:21.843Z"
   },
   {
    "duration": 14,
    "start_time": "2022-05-30T11:45:22.028Z"
   },
   {
    "duration": 121,
    "start_time": "2022-05-30T11:45:22.044Z"
   },
   {
    "duration": 17,
    "start_time": "2022-05-30T11:45:22.167Z"
   },
   {
    "duration": 116,
    "start_time": "2022-05-30T11:45:22.186Z"
   },
   {
    "duration": 13,
    "start_time": "2022-05-30T11:45:22.303Z"
   },
   {
    "duration": 130,
    "start_time": "2022-05-30T11:45:22.317Z"
   },
   {
    "duration": 13,
    "start_time": "2022-05-30T11:45:22.449Z"
   },
   {
    "duration": 14,
    "start_time": "2022-05-30T11:45:22.463Z"
   },
   {
    "duration": 7,
    "start_time": "2022-05-30T11:45:22.478Z"
   },
   {
    "duration": 307,
    "start_time": "2022-05-30T11:45:22.486Z"
   },
   {
    "duration": 25,
    "start_time": "2022-05-30T11:45:22.795Z"
   },
   {
    "duration": 332,
    "start_time": "2022-05-30T11:45:22.821Z"
   },
   {
    "duration": 7,
    "start_time": "2022-05-30T11:45:23.155Z"
   },
   {
    "duration": 152,
    "start_time": "2022-05-30T11:45:23.163Z"
   },
   {
    "duration": 7,
    "start_time": "2022-05-30T11:45:23.316Z"
   },
   {
    "duration": 144,
    "start_time": "2022-05-30T11:45:23.324Z"
   },
   {
    "duration": 6,
    "start_time": "2022-05-30T11:45:23.474Z"
   },
   {
    "duration": 8,
    "start_time": "2022-05-30T11:45:23.481Z"
   },
   {
    "duration": 10,
    "start_time": "2022-05-30T11:45:23.490Z"
   },
   {
    "duration": 6,
    "start_time": "2022-05-30T11:45:23.501Z"
   },
   {
    "duration": 5,
    "start_time": "2022-05-30T11:45:23.508Z"
   },
   {
    "duration": 5,
    "start_time": "2022-05-30T11:45:23.515Z"
   },
   {
    "duration": 5,
    "start_time": "2022-05-30T11:45:23.521Z"
   },
   {
    "duration": 5,
    "start_time": "2022-05-30T11:45:23.527Z"
   },
   {
    "duration": 44,
    "start_time": "2022-05-30T11:45:23.535Z"
   },
   {
    "duration": 7,
    "start_time": "2022-05-30T11:45:23.580Z"
   },
   {
    "duration": 7,
    "start_time": "2022-05-30T11:45:23.588Z"
   },
   {
    "duration": 5,
    "start_time": "2022-05-30T11:45:23.596Z"
   },
   {
    "duration": 6,
    "start_time": "2022-05-30T11:45:23.603Z"
   },
   {
    "duration": 8,
    "start_time": "2022-05-30T11:45:23.610Z"
   },
   {
    "duration": 6,
    "start_time": "2022-05-30T11:45:23.619Z"
   },
   {
    "duration": 8,
    "start_time": "2022-05-30T11:45:23.626Z"
   },
   {
    "duration": 7,
    "start_time": "2022-05-30T11:45:23.635Z"
   },
   {
    "duration": 33,
    "start_time": "2022-05-30T11:45:23.643Z"
   }
  ],
  "kernelspec": {
   "display_name": "Python 3 (ipykernel)",
   "language": "python",
   "name": "python3"
  },
  "language_info": {
   "codemirror_mode": {
    "name": "ipython",
    "version": 3
   },
   "file_extension": ".py",
   "mimetype": "text/x-python",
   "name": "python",
   "nbconvert_exporter": "python",
   "pygments_lexer": "ipython3",
   "version": "3.9.7"
  },
  "toc": {
   "base_numbering": 1,
   "nav_menu": {},
   "number_sections": true,
   "sideBar": true,
   "skip_h1_title": true,
   "title_cell": "Table of Contents",
   "title_sidebar": "Contents",
   "toc_cell": false,
   "toc_position": {},
   "toc_section_display": true,
   "toc_window_display": false
  }
 },
 "nbformat": 4,
 "nbformat_minor": 2
}
