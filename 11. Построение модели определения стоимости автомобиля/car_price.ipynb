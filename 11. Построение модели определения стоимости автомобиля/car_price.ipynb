{
 "cells": [
  {
   "cell_type": "markdown",
   "metadata": {},
   "source": [
    "# Определение стоимости автомобилей"
   ]
  },
  {
   "cell_type": "markdown",
   "metadata": {},
   "source": [
    "Сервис по продаже автомобилей с пробегом «Не бит, не крашен» разрабатывает приложение для привлечения новых клиентов. В нём можно быстро узнать рыночную стоимость своего автомобиля. В вашем распоряжении исторические данные: технические характеристики, комплектации и цены автомобилей. Вам нужно построить модель для определения стоимости. \n",
    "\n",
    "Заказчику важны:\n",
    "\n",
    "- качество предсказания;\n",
    "- скорость предсказания;\n",
    "- время обучения."
   ]
  },
  {
   "cell_type": "markdown",
   "metadata": {},
   "source": [
    "Описание данных: <br>\n",
    "\n",
    "Признаки: <br>\n",
    "* DateCrawled — дата скачивания анкеты из базы<br>\n",
    "* VehicleType — тип автомобильного кузова<br>\n",
    "* RegistrationYear — год регистрации автомобиля<br>\n",
    "* Gearbox — тип коробки передач<br>\n",
    "* Power — мощность (л. с.)<br>\n",
    "* Model — модель автомобиля<br>\n",
    "* Kilometer — пробег (км)<br>\n",
    "* RegistrationMonth — месяц регистрации автомобиля<br>\n",
    "* FuelType — тип топлива<br>\n",
    "* Brand — марка автомобиля<br>\n",
    "* NotRepaired — была машина в ремонте или нет<br>\n",
    "* DateCreated — дата создания анкеты<br>\n",
    "* NumberOfPictures — количество фотографий автомобиля<br>\n",
    "* PostalCode — почтовый индекс владельца анкеты (пользователя)<br>\n",
    "* LastSeen — дата последней активности пользователя<br>\n",
    "\n",
    "Целевой признак:<br>\n",
    "* Price — цена (евро)<br>"
   ]
  },
  {
   "cell_type": "markdown",
   "metadata": {},
   "source": [
    "## Подготовка данных"
   ]
  },
  {
   "cell_type": "markdown",
   "metadata": {},
   "source": [
    "Начнём с импортов:"
   ]
  },
  {
   "cell_type": "code",
   "execution_count": 1,
   "metadata": {},
   "outputs": [],
   "source": [
    "import pandas as pd\n",
    "import numpy as np\n",
    "from sklearn.metrics import mean_squared_error\n",
    "from math import sqrt\n",
    "import lightgbm as lgb\n",
    "from sklearn.linear_model import LinearRegression\n",
    "from sklearn.tree import DecisionTreeRegressor\n",
    "from sklearn.ensemble import RandomForestRegressor\n",
    "from sklearn.model_selection import train_test_split\n",
    "from sklearn.model_selection import GridSearchCV\n",
    "from sklearn.preprocessing import StandardScaler\n",
    "import time\n",
    "from collections import defaultdict\n",
    "import matplotlib.pyplot as plt\n",
    "from sklearn.preprocessing import OrdinalEncoder "
   ]
  },
  {
   "cell_type": "code",
   "execution_count": 2,
   "metadata": {},
   "outputs": [],
   "source": [
    "date_columns = ['DateCrawled', 'DateCreated']\n",
    "data = pd.read_csv('/datasets/autos.csv', parse_dates=date_columns)"
   ]
  },
  {
   "cell_type": "code",
   "execution_count": 3,
   "metadata": {},
   "outputs": [
    {
     "name": "stdout",
     "output_type": "stream",
     "text": [
      "<class 'pandas.core.frame.DataFrame'>\n",
      "RangeIndex: 354369 entries, 0 to 354368\n",
      "Data columns (total 16 columns):\n",
      " #   Column             Non-Null Count   Dtype         \n",
      "---  ------             --------------   -----         \n",
      " 0   DateCrawled        354369 non-null  datetime64[ns]\n",
      " 1   Price              354369 non-null  int64         \n",
      " 2   VehicleType        316879 non-null  object        \n",
      " 3   RegistrationYear   354369 non-null  int64         \n",
      " 4   Gearbox            334536 non-null  object        \n",
      " 5   Power              354369 non-null  int64         \n",
      " 6   Model              334664 non-null  object        \n",
      " 7   Kilometer          354369 non-null  int64         \n",
      " 8   RegistrationMonth  354369 non-null  int64         \n",
      " 9   FuelType           321474 non-null  object        \n",
      " 10  Brand              354369 non-null  object        \n",
      " 11  NotRepaired        283215 non-null  object        \n",
      " 12  DateCreated        354369 non-null  datetime64[ns]\n",
      " 13  NumberOfPictures   354369 non-null  int64         \n",
      " 14  PostalCode         354369 non-null  int64         \n",
      " 15  LastSeen           354369 non-null  object        \n",
      "dtypes: datetime64[ns](2), int64(7), object(7)\n",
      "memory usage: 43.3+ MB\n"
     ]
    }
   ],
   "source": [
    "data.info()"
   ]
  },
  {
   "cell_type": "code",
   "execution_count": 4,
   "metadata": {},
   "outputs": [
    {
     "data": {
      "text/html": [
       "<div>\n",
       "<style scoped>\n",
       "    .dataframe tbody tr th:only-of-type {\n",
       "        vertical-align: middle;\n",
       "    }\n",
       "\n",
       "    .dataframe tbody tr th {\n",
       "        vertical-align: top;\n",
       "    }\n",
       "\n",
       "    .dataframe thead th {\n",
       "        text-align: right;\n",
       "    }\n",
       "</style>\n",
       "<table border=\"1\" class=\"dataframe\">\n",
       "  <thead>\n",
       "    <tr style=\"text-align: right;\">\n",
       "      <th></th>\n",
       "      <th>DateCrawled</th>\n",
       "      <th>Price</th>\n",
       "      <th>VehicleType</th>\n",
       "      <th>RegistrationYear</th>\n",
       "      <th>Gearbox</th>\n",
       "      <th>Power</th>\n",
       "      <th>Model</th>\n",
       "      <th>Kilometer</th>\n",
       "      <th>RegistrationMonth</th>\n",
       "      <th>FuelType</th>\n",
       "      <th>Brand</th>\n",
       "      <th>NotRepaired</th>\n",
       "      <th>DateCreated</th>\n",
       "      <th>NumberOfPictures</th>\n",
       "      <th>PostalCode</th>\n",
       "      <th>LastSeen</th>\n",
       "    </tr>\n",
       "  </thead>\n",
       "  <tbody>\n",
       "    <tr>\n",
       "      <th>0</th>\n",
       "      <td>2016-03-24 11:52:17</td>\n",
       "      <td>480</td>\n",
       "      <td>NaN</td>\n",
       "      <td>1993</td>\n",
       "      <td>manual</td>\n",
       "      <td>0</td>\n",
       "      <td>golf</td>\n",
       "      <td>150000</td>\n",
       "      <td>0</td>\n",
       "      <td>petrol</td>\n",
       "      <td>volkswagen</td>\n",
       "      <td>NaN</td>\n",
       "      <td>2016-03-24</td>\n",
       "      <td>0</td>\n",
       "      <td>70435</td>\n",
       "      <td>2016-04-07 03:16:57</td>\n",
       "    </tr>\n",
       "    <tr>\n",
       "      <th>1</th>\n",
       "      <td>2016-03-24 10:58:45</td>\n",
       "      <td>18300</td>\n",
       "      <td>coupe</td>\n",
       "      <td>2011</td>\n",
       "      <td>manual</td>\n",
       "      <td>190</td>\n",
       "      <td>NaN</td>\n",
       "      <td>125000</td>\n",
       "      <td>5</td>\n",
       "      <td>gasoline</td>\n",
       "      <td>audi</td>\n",
       "      <td>yes</td>\n",
       "      <td>2016-03-24</td>\n",
       "      <td>0</td>\n",
       "      <td>66954</td>\n",
       "      <td>2016-04-07 01:46:50</td>\n",
       "    </tr>\n",
       "    <tr>\n",
       "      <th>2</th>\n",
       "      <td>2016-03-14 12:52:21</td>\n",
       "      <td>9800</td>\n",
       "      <td>suv</td>\n",
       "      <td>2004</td>\n",
       "      <td>auto</td>\n",
       "      <td>163</td>\n",
       "      <td>grand</td>\n",
       "      <td>125000</td>\n",
       "      <td>8</td>\n",
       "      <td>gasoline</td>\n",
       "      <td>jeep</td>\n",
       "      <td>NaN</td>\n",
       "      <td>2016-03-14</td>\n",
       "      <td>0</td>\n",
       "      <td>90480</td>\n",
       "      <td>2016-04-05 12:47:46</td>\n",
       "    </tr>\n",
       "    <tr>\n",
       "      <th>3</th>\n",
       "      <td>2016-03-17 16:54:04</td>\n",
       "      <td>1500</td>\n",
       "      <td>small</td>\n",
       "      <td>2001</td>\n",
       "      <td>manual</td>\n",
       "      <td>75</td>\n",
       "      <td>golf</td>\n",
       "      <td>150000</td>\n",
       "      <td>6</td>\n",
       "      <td>petrol</td>\n",
       "      <td>volkswagen</td>\n",
       "      <td>no</td>\n",
       "      <td>2016-03-17</td>\n",
       "      <td>0</td>\n",
       "      <td>91074</td>\n",
       "      <td>2016-03-17 17:40:17</td>\n",
       "    </tr>\n",
       "    <tr>\n",
       "      <th>4</th>\n",
       "      <td>2016-03-31 17:25:20</td>\n",
       "      <td>3600</td>\n",
       "      <td>small</td>\n",
       "      <td>2008</td>\n",
       "      <td>manual</td>\n",
       "      <td>69</td>\n",
       "      <td>fabia</td>\n",
       "      <td>90000</td>\n",
       "      <td>7</td>\n",
       "      <td>gasoline</td>\n",
       "      <td>skoda</td>\n",
       "      <td>no</td>\n",
       "      <td>2016-03-31</td>\n",
       "      <td>0</td>\n",
       "      <td>60437</td>\n",
       "      <td>2016-04-06 10:17:21</td>\n",
       "    </tr>\n",
       "  </tbody>\n",
       "</table>\n",
       "</div>"
      ],
      "text/plain": [
       "          DateCrawled  Price VehicleType  RegistrationYear Gearbox  Power  \\\n",
       "0 2016-03-24 11:52:17    480         NaN              1993  manual      0   \n",
       "1 2016-03-24 10:58:45  18300       coupe              2011  manual    190   \n",
       "2 2016-03-14 12:52:21   9800         suv              2004    auto    163   \n",
       "3 2016-03-17 16:54:04   1500       small              2001  manual     75   \n",
       "4 2016-03-31 17:25:20   3600       small              2008  manual     69   \n",
       "\n",
       "   Model  Kilometer  RegistrationMonth  FuelType       Brand NotRepaired  \\\n",
       "0   golf     150000                  0    petrol  volkswagen         NaN   \n",
       "1    NaN     125000                  5  gasoline        audi         yes   \n",
       "2  grand     125000                  8  gasoline        jeep         NaN   \n",
       "3   golf     150000                  6    petrol  volkswagen          no   \n",
       "4  fabia      90000                  7  gasoline       skoda          no   \n",
       "\n",
       "  DateCreated  NumberOfPictures  PostalCode             LastSeen  \n",
       "0  2016-03-24                 0       70435  2016-04-07 03:16:57  \n",
       "1  2016-03-24                 0       66954  2016-04-07 01:46:50  \n",
       "2  2016-03-14                 0       90480  2016-04-05 12:47:46  \n",
       "3  2016-03-17                 0       91074  2016-03-17 17:40:17  \n",
       "4  2016-03-31                 0       60437  2016-04-06 10:17:21  "
      ]
     },
     "execution_count": 4,
     "metadata": {},
     "output_type": "execute_result"
    }
   ],
   "source": [
    "data.head()"
   ]
  },
  {
   "cell_type": "markdown",
   "metadata": {},
   "source": [
    "Пропусков относительно много, но они в категориальных переменных. Так и напрашивается заполнить их 'unknown'"
   ]
  },
  {
   "cell_type": "code",
   "execution_count": 5,
   "metadata": {},
   "outputs": [],
   "source": [
    "data = data.fillna('unknown')"
   ]
  },
  {
   "cell_type": "markdown",
   "metadata": {},
   "source": [
    "Проверим аномальные значения годов регистрации автомобиля. Они не могут быть новее даты скачивания анкеты."
   ]
  },
  {
   "cell_type": "code",
   "execution_count": 6,
   "metadata": {},
   "outputs": [
    {
     "data": {
      "text/html": [
       "<div>\n",
       "<style scoped>\n",
       "    .dataframe tbody tr th:only-of-type {\n",
       "        vertical-align: middle;\n",
       "    }\n",
       "\n",
       "    .dataframe tbody tr th {\n",
       "        vertical-align: top;\n",
       "    }\n",
       "\n",
       "    .dataframe thead th {\n",
       "        text-align: right;\n",
       "    }\n",
       "</style>\n",
       "<table border=\"1\" class=\"dataframe\">\n",
       "  <thead>\n",
       "    <tr style=\"text-align: right;\">\n",
       "      <th></th>\n",
       "      <th>DateCrawled</th>\n",
       "      <th>Price</th>\n",
       "      <th>VehicleType</th>\n",
       "      <th>RegistrationYear</th>\n",
       "      <th>Gearbox</th>\n",
       "      <th>Power</th>\n",
       "      <th>Model</th>\n",
       "      <th>Kilometer</th>\n",
       "      <th>RegistrationMonth</th>\n",
       "      <th>FuelType</th>\n",
       "      <th>Brand</th>\n",
       "      <th>NotRepaired</th>\n",
       "      <th>DateCreated</th>\n",
       "      <th>NumberOfPictures</th>\n",
       "      <th>PostalCode</th>\n",
       "      <th>LastSeen</th>\n",
       "    </tr>\n",
       "  </thead>\n",
       "  <tbody>\n",
       "    <tr>\n",
       "      <th>22</th>\n",
       "      <td>2016-03-23 14:52:51</td>\n",
       "      <td>2900</td>\n",
       "      <td>unknown</td>\n",
       "      <td>2018</td>\n",
       "      <td>manual</td>\n",
       "      <td>90</td>\n",
       "      <td>meriva</td>\n",
       "      <td>150000</td>\n",
       "      <td>5</td>\n",
       "      <td>petrol</td>\n",
       "      <td>opel</td>\n",
       "      <td>no</td>\n",
       "      <td>2016-03-23</td>\n",
       "      <td>0</td>\n",
       "      <td>49716</td>\n",
       "      <td>2016-03-31 01:16:33</td>\n",
       "    </tr>\n",
       "    <tr>\n",
       "      <th>26</th>\n",
       "      <td>2016-03-10 19:38:18</td>\n",
       "      <td>5555</td>\n",
       "      <td>unknown</td>\n",
       "      <td>2017</td>\n",
       "      <td>manual</td>\n",
       "      <td>125</td>\n",
       "      <td>c4</td>\n",
       "      <td>125000</td>\n",
       "      <td>4</td>\n",
       "      <td>unknown</td>\n",
       "      <td>citroen</td>\n",
       "      <td>no</td>\n",
       "      <td>2016-03-10</td>\n",
       "      <td>0</td>\n",
       "      <td>31139</td>\n",
       "      <td>2016-03-16 09:16:46</td>\n",
       "    </tr>\n",
       "    <tr>\n",
       "      <th>48</th>\n",
       "      <td>2016-03-25 14:40:12</td>\n",
       "      <td>7750</td>\n",
       "      <td>unknown</td>\n",
       "      <td>2017</td>\n",
       "      <td>manual</td>\n",
       "      <td>80</td>\n",
       "      <td>golf</td>\n",
       "      <td>100000</td>\n",
       "      <td>1</td>\n",
       "      <td>petrol</td>\n",
       "      <td>volkswagen</td>\n",
       "      <td>unknown</td>\n",
       "      <td>2016-03-25</td>\n",
       "      <td>0</td>\n",
       "      <td>48499</td>\n",
       "      <td>2016-03-31 21:47:44</td>\n",
       "    </tr>\n",
       "    <tr>\n",
       "      <th>51</th>\n",
       "      <td>2016-03-07 18:57:08</td>\n",
       "      <td>2000</td>\n",
       "      <td>unknown</td>\n",
       "      <td>2017</td>\n",
       "      <td>manual</td>\n",
       "      <td>90</td>\n",
       "      <td>punto</td>\n",
       "      <td>150000</td>\n",
       "      <td>11</td>\n",
       "      <td>gasoline</td>\n",
       "      <td>fiat</td>\n",
       "      <td>yes</td>\n",
       "      <td>2016-03-07</td>\n",
       "      <td>0</td>\n",
       "      <td>66115</td>\n",
       "      <td>2016-03-07 18:57:08</td>\n",
       "    </tr>\n",
       "    <tr>\n",
       "      <th>57</th>\n",
       "      <td>2016-03-10 20:53:19</td>\n",
       "      <td>2399</td>\n",
       "      <td>unknown</td>\n",
       "      <td>2018</td>\n",
       "      <td>manual</td>\n",
       "      <td>64</td>\n",
       "      <td>other</td>\n",
       "      <td>125000</td>\n",
       "      <td>3</td>\n",
       "      <td>unknown</td>\n",
       "      <td>seat</td>\n",
       "      <td>no</td>\n",
       "      <td>2016-03-10</td>\n",
       "      <td>0</td>\n",
       "      <td>33397</td>\n",
       "      <td>2016-03-25 10:17:37</td>\n",
       "    </tr>\n",
       "    <tr>\n",
       "      <th>...</th>\n",
       "      <td>...</td>\n",
       "      <td>...</td>\n",
       "      <td>...</td>\n",
       "      <td>...</td>\n",
       "      <td>...</td>\n",
       "      <td>...</td>\n",
       "      <td>...</td>\n",
       "      <td>...</td>\n",
       "      <td>...</td>\n",
       "      <td>...</td>\n",
       "      <td>...</td>\n",
       "      <td>...</td>\n",
       "      <td>...</td>\n",
       "      <td>...</td>\n",
       "      <td>...</td>\n",
       "      <td>...</td>\n",
       "    </tr>\n",
       "    <tr>\n",
       "      <th>354112</th>\n",
       "      <td>2016-03-11 15:49:51</td>\n",
       "      <td>3600</td>\n",
       "      <td>unknown</td>\n",
       "      <td>2017</td>\n",
       "      <td>manual</td>\n",
       "      <td>86</td>\n",
       "      <td>transit</td>\n",
       "      <td>150000</td>\n",
       "      <td>5</td>\n",
       "      <td>gasoline</td>\n",
       "      <td>ford</td>\n",
       "      <td>unknown</td>\n",
       "      <td>2016-03-11</td>\n",
       "      <td>0</td>\n",
       "      <td>32339</td>\n",
       "      <td>2016-03-12 05:45:02</td>\n",
       "    </tr>\n",
       "    <tr>\n",
       "      <th>354140</th>\n",
       "      <td>2016-03-29 16:47:29</td>\n",
       "      <td>1000</td>\n",
       "      <td>unknown</td>\n",
       "      <td>2017</td>\n",
       "      <td>manual</td>\n",
       "      <td>101</td>\n",
       "      <td>a4</td>\n",
       "      <td>150000</td>\n",
       "      <td>9</td>\n",
       "      <td>unknown</td>\n",
       "      <td>audi</td>\n",
       "      <td>unknown</td>\n",
       "      <td>2016-03-29</td>\n",
       "      <td>0</td>\n",
       "      <td>38315</td>\n",
       "      <td>2016-04-06 02:44:27</td>\n",
       "    </tr>\n",
       "    <tr>\n",
       "      <th>354203</th>\n",
       "      <td>2016-03-17 00:56:26</td>\n",
       "      <td>2140</td>\n",
       "      <td>unknown</td>\n",
       "      <td>2018</td>\n",
       "      <td>manual</td>\n",
       "      <td>80</td>\n",
       "      <td>fiesta</td>\n",
       "      <td>150000</td>\n",
       "      <td>6</td>\n",
       "      <td>unknown</td>\n",
       "      <td>ford</td>\n",
       "      <td>no</td>\n",
       "      <td>2016-03-17</td>\n",
       "      <td>0</td>\n",
       "      <td>44866</td>\n",
       "      <td>2016-03-29 15:45:04</td>\n",
       "    </tr>\n",
       "    <tr>\n",
       "      <th>354253</th>\n",
       "      <td>2016-03-25 09:37:59</td>\n",
       "      <td>1250</td>\n",
       "      <td>unknown</td>\n",
       "      <td>2018</td>\n",
       "      <td>unknown</td>\n",
       "      <td>0</td>\n",
       "      <td>corsa</td>\n",
       "      <td>150000</td>\n",
       "      <td>0</td>\n",
       "      <td>petrol</td>\n",
       "      <td>opel</td>\n",
       "      <td>unknown</td>\n",
       "      <td>2016-03-25</td>\n",
       "      <td>0</td>\n",
       "      <td>45527</td>\n",
       "      <td>2016-04-06 07:46:13</td>\n",
       "    </tr>\n",
       "    <tr>\n",
       "      <th>354289</th>\n",
       "      <td>2016-03-05 14:55:29</td>\n",
       "      <td>5000</td>\n",
       "      <td>unknown</td>\n",
       "      <td>2017</td>\n",
       "      <td>manual</td>\n",
       "      <td>120</td>\n",
       "      <td>other</td>\n",
       "      <td>150000</td>\n",
       "      <td>7</td>\n",
       "      <td>unknown</td>\n",
       "      <td>citroen</td>\n",
       "      <td>yes</td>\n",
       "      <td>2016-03-05</td>\n",
       "      <td>0</td>\n",
       "      <td>15518</td>\n",
       "      <td>2016-04-05 11:48:09</td>\n",
       "    </tr>\n",
       "  </tbody>\n",
       "</table>\n",
       "<p>14530 rows × 16 columns</p>\n",
       "</div>"
      ],
      "text/plain": [
       "               DateCrawled  Price VehicleType  RegistrationYear  Gearbox  \\\n",
       "22     2016-03-23 14:52:51   2900     unknown              2018   manual   \n",
       "26     2016-03-10 19:38:18   5555     unknown              2017   manual   \n",
       "48     2016-03-25 14:40:12   7750     unknown              2017   manual   \n",
       "51     2016-03-07 18:57:08   2000     unknown              2017   manual   \n",
       "57     2016-03-10 20:53:19   2399     unknown              2018   manual   \n",
       "...                    ...    ...         ...               ...      ...   \n",
       "354112 2016-03-11 15:49:51   3600     unknown              2017   manual   \n",
       "354140 2016-03-29 16:47:29   1000     unknown              2017   manual   \n",
       "354203 2016-03-17 00:56:26   2140     unknown              2018   manual   \n",
       "354253 2016-03-25 09:37:59   1250     unknown              2018  unknown   \n",
       "354289 2016-03-05 14:55:29   5000     unknown              2017   manual   \n",
       "\n",
       "        Power    Model  Kilometer  RegistrationMonth  FuelType       Brand  \\\n",
       "22         90   meriva     150000                  5    petrol        opel   \n",
       "26        125       c4     125000                  4   unknown     citroen   \n",
       "48         80     golf     100000                  1    petrol  volkswagen   \n",
       "51         90    punto     150000                 11  gasoline        fiat   \n",
       "57         64    other     125000                  3   unknown        seat   \n",
       "...       ...      ...        ...                ...       ...         ...   \n",
       "354112     86  transit     150000                  5  gasoline        ford   \n",
       "354140    101       a4     150000                  9   unknown        audi   \n",
       "354203     80   fiesta     150000                  6   unknown        ford   \n",
       "354253      0    corsa     150000                  0    petrol        opel   \n",
       "354289    120    other     150000                  7   unknown     citroen   \n",
       "\n",
       "       NotRepaired DateCreated  NumberOfPictures  PostalCode  \\\n",
       "22              no  2016-03-23                 0       49716   \n",
       "26              no  2016-03-10                 0       31139   \n",
       "48         unknown  2016-03-25                 0       48499   \n",
       "51             yes  2016-03-07                 0       66115   \n",
       "57              no  2016-03-10                 0       33397   \n",
       "...            ...         ...               ...         ...   \n",
       "354112     unknown  2016-03-11                 0       32339   \n",
       "354140     unknown  2016-03-29                 0       38315   \n",
       "354203          no  2016-03-17                 0       44866   \n",
       "354253     unknown  2016-03-25                 0       45527   \n",
       "354289         yes  2016-03-05                 0       15518   \n",
       "\n",
       "                   LastSeen  \n",
       "22      2016-03-31 01:16:33  \n",
       "26      2016-03-16 09:16:46  \n",
       "48      2016-03-31 21:47:44  \n",
       "51      2016-03-07 18:57:08  \n",
       "57      2016-03-25 10:17:37  \n",
       "...                     ...  \n",
       "354112  2016-03-12 05:45:02  \n",
       "354140  2016-04-06 02:44:27  \n",
       "354203  2016-03-29 15:45:04  \n",
       "354253  2016-04-06 07:46:13  \n",
       "354289  2016-04-05 11:48:09  \n",
       "\n",
       "[14530 rows x 16 columns]"
      ]
     },
     "execution_count": 6,
     "metadata": {},
     "output_type": "execute_result"
    }
   ],
   "source": [
    "data[data['RegistrationYear'] > data['DateCrawled'].dt.year]"
   ]
  },
  {
   "cell_type": "markdown",
   "metadata": {},
   "source": [
    "Избавимся от этих значений."
   ]
  },
  {
   "cell_type": "code",
   "execution_count": 7,
   "metadata": {},
   "outputs": [],
   "source": [
    "data = data[data['RegistrationYear'] <= data['DateCrawled'].dt.year]"
   ]
  },
  {
   "cell_type": "markdown",
   "metadata": {},
   "source": [
    "Удалим ненужные для решения задачи признаки."
   ]
  },
  {
   "cell_type": "code",
   "execution_count": 8,
   "metadata": {},
   "outputs": [],
   "source": [
    "data = data.drop(['DateCrawled','RegistrationMonth', 'DateCreated', 'NumberOfPictures', 'PostalCode', 'LastSeen'], axis = 1)"
   ]
  },
  {
   "cell_type": "markdown",
   "metadata": {},
   "source": [
    "Проверим и удалим дубликаты."
   ]
  },
  {
   "cell_type": "code",
   "execution_count": 9,
   "metadata": {},
   "outputs": [
    {
     "data": {
      "text/html": [
       "<div>\n",
       "<style scoped>\n",
       "    .dataframe tbody tr th:only-of-type {\n",
       "        vertical-align: middle;\n",
       "    }\n",
       "\n",
       "    .dataframe tbody tr th {\n",
       "        vertical-align: top;\n",
       "    }\n",
       "\n",
       "    .dataframe thead th {\n",
       "        text-align: right;\n",
       "    }\n",
       "</style>\n",
       "<table border=\"1\" class=\"dataframe\">\n",
       "  <thead>\n",
       "    <tr style=\"text-align: right;\">\n",
       "      <th></th>\n",
       "      <th>Price</th>\n",
       "      <th>VehicleType</th>\n",
       "      <th>RegistrationYear</th>\n",
       "      <th>Gearbox</th>\n",
       "      <th>Power</th>\n",
       "      <th>Model</th>\n",
       "      <th>Kilometer</th>\n",
       "      <th>FuelType</th>\n",
       "      <th>Brand</th>\n",
       "      <th>NotRepaired</th>\n",
       "    </tr>\n",
       "  </thead>\n",
       "  <tbody>\n",
       "    <tr>\n",
       "      <th>1117</th>\n",
       "      <td>950</td>\n",
       "      <td>small</td>\n",
       "      <td>1999</td>\n",
       "      <td>manual</td>\n",
       "      <td>60</td>\n",
       "      <td>polo</td>\n",
       "      <td>150000</td>\n",
       "      <td>petrol</td>\n",
       "      <td>volkswagen</td>\n",
       "      <td>no</td>\n",
       "    </tr>\n",
       "    <tr>\n",
       "      <th>1396</th>\n",
       "      <td>0</td>\n",
       "      <td>unknown</td>\n",
       "      <td>2000</td>\n",
       "      <td>unknown</td>\n",
       "      <td>0</td>\n",
       "      <td>unknown</td>\n",
       "      <td>150000</td>\n",
       "      <td>unknown</td>\n",
       "      <td>volvo</td>\n",
       "      <td>unknown</td>\n",
       "    </tr>\n",
       "    <tr>\n",
       "      <th>2169</th>\n",
       "      <td>0</td>\n",
       "      <td>coupe</td>\n",
       "      <td>2002</td>\n",
       "      <td>manual</td>\n",
       "      <td>129</td>\n",
       "      <td>c_klasse</td>\n",
       "      <td>150000</td>\n",
       "      <td>petrol</td>\n",
       "      <td>mercedes_benz</td>\n",
       "      <td>no</td>\n",
       "    </tr>\n",
       "    <tr>\n",
       "      <th>2833</th>\n",
       "      <td>1499</td>\n",
       "      <td>small</td>\n",
       "      <td>2001</td>\n",
       "      <td>manual</td>\n",
       "      <td>58</td>\n",
       "      <td>corsa</td>\n",
       "      <td>150000</td>\n",
       "      <td>petrol</td>\n",
       "      <td>opel</td>\n",
       "      <td>no</td>\n",
       "    </tr>\n",
       "    <tr>\n",
       "      <th>3025</th>\n",
       "      <td>2800</td>\n",
       "      <td>wagon</td>\n",
       "      <td>2005</td>\n",
       "      <td>unknown</td>\n",
       "      <td>0</td>\n",
       "      <td>touran</td>\n",
       "      <td>150000</td>\n",
       "      <td>gasoline</td>\n",
       "      <td>volkswagen</td>\n",
       "      <td>no</td>\n",
       "    </tr>\n",
       "    <tr>\n",
       "      <th>...</th>\n",
       "      <td>...</td>\n",
       "      <td>...</td>\n",
       "      <td>...</td>\n",
       "      <td>...</td>\n",
       "      <td>...</td>\n",
       "      <td>...</td>\n",
       "      <td>...</td>\n",
       "      <td>...</td>\n",
       "      <td>...</td>\n",
       "      <td>...</td>\n",
       "    </tr>\n",
       "    <tr>\n",
       "      <th>354352</th>\n",
       "      <td>6500</td>\n",
       "      <td>sedan</td>\n",
       "      <td>2003</td>\n",
       "      <td>auto</td>\n",
       "      <td>145</td>\n",
       "      <td>e_klasse</td>\n",
       "      <td>150000</td>\n",
       "      <td>gasoline</td>\n",
       "      <td>mercedes_benz</td>\n",
       "      <td>no</td>\n",
       "    </tr>\n",
       "    <tr>\n",
       "      <th>354355</th>\n",
       "      <td>4400</td>\n",
       "      <td>sedan</td>\n",
       "      <td>2008</td>\n",
       "      <td>manual</td>\n",
       "      <td>105</td>\n",
       "      <td>leon</td>\n",
       "      <td>150000</td>\n",
       "      <td>gasoline</td>\n",
       "      <td>seat</td>\n",
       "      <td>no</td>\n",
       "    </tr>\n",
       "    <tr>\n",
       "      <th>354358</th>\n",
       "      <td>1490</td>\n",
       "      <td>small</td>\n",
       "      <td>1998</td>\n",
       "      <td>manual</td>\n",
       "      <td>50</td>\n",
       "      <td>lupo</td>\n",
       "      <td>150000</td>\n",
       "      <td>petrol</td>\n",
       "      <td>volkswagen</td>\n",
       "      <td>no</td>\n",
       "    </tr>\n",
       "    <tr>\n",
       "      <th>354359</th>\n",
       "      <td>7900</td>\n",
       "      <td>sedan</td>\n",
       "      <td>2010</td>\n",
       "      <td>manual</td>\n",
       "      <td>140</td>\n",
       "      <td>golf</td>\n",
       "      <td>150000</td>\n",
       "      <td>gasoline</td>\n",
       "      <td>volkswagen</td>\n",
       "      <td>no</td>\n",
       "    </tr>\n",
       "    <tr>\n",
       "      <th>354363</th>\n",
       "      <td>1150</td>\n",
       "      <td>bus</td>\n",
       "      <td>2000</td>\n",
       "      <td>manual</td>\n",
       "      <td>0</td>\n",
       "      <td>zafira</td>\n",
       "      <td>150000</td>\n",
       "      <td>petrol</td>\n",
       "      <td>opel</td>\n",
       "      <td>no</td>\n",
       "    </tr>\n",
       "  </tbody>\n",
       "</table>\n",
       "<p>44101 rows × 10 columns</p>\n",
       "</div>"
      ],
      "text/plain": [
       "        Price VehicleType  RegistrationYear  Gearbox  Power     Model  \\\n",
       "1117      950       small              1999   manual     60      polo   \n",
       "1396        0     unknown              2000  unknown      0   unknown   \n",
       "2169        0       coupe              2002   manual    129  c_klasse   \n",
       "2833     1499       small              2001   manual     58     corsa   \n",
       "3025     2800       wagon              2005  unknown      0    touran   \n",
       "...       ...         ...               ...      ...    ...       ...   \n",
       "354352   6500       sedan              2003     auto    145  e_klasse   \n",
       "354355   4400       sedan              2008   manual    105      leon   \n",
       "354358   1490       small              1998   manual     50      lupo   \n",
       "354359   7900       sedan              2010   manual    140      golf   \n",
       "354363   1150         bus              2000   manual      0    zafira   \n",
       "\n",
       "        Kilometer  FuelType          Brand NotRepaired  \n",
       "1117       150000    petrol     volkswagen          no  \n",
       "1396       150000   unknown          volvo     unknown  \n",
       "2169       150000    petrol  mercedes_benz          no  \n",
       "2833       150000    petrol           opel          no  \n",
       "3025       150000  gasoline     volkswagen          no  \n",
       "...           ...       ...            ...         ...  \n",
       "354352     150000  gasoline  mercedes_benz          no  \n",
       "354355     150000  gasoline           seat          no  \n",
       "354358     150000    petrol     volkswagen          no  \n",
       "354359     150000  gasoline     volkswagen          no  \n",
       "354363     150000    petrol           opel          no  \n",
       "\n",
       "[44101 rows x 10 columns]"
      ]
     },
     "execution_count": 9,
     "metadata": {},
     "output_type": "execute_result"
    }
   ],
   "source": [
    "data[data.duplicated()]"
   ]
  },
  {
   "cell_type": "code",
   "execution_count": 10,
   "metadata": {},
   "outputs": [],
   "source": [
    "data = data.drop_duplicates().reset_index(drop=True)"
   ]
  },
  {
   "cell_type": "markdown",
   "metadata": {},
   "source": [
    "Теперь построим гистрограммы по 'Price', 'Power' и 'Kilometer'"
   ]
  },
  {
   "cell_type": "markdown",
   "metadata": {},
   "source": [
    "Поставим небольшой range, дорогие машины не есть аномалия, в отличие от бесплатных."
   ]
  },
  {
   "cell_type": "code",
   "execution_count": 11,
   "metadata": {},
   "outputs": [
    {
     "data": {
      "image/png": "[encoded data removed]",
      "text/plain": [
       "<Figure size 720x288 with 1 Axes>"
      ]
     },
     "metadata": {
      "needs_background": "light"
     },
     "output_type": "display_data"
    }
   ],
   "source": [
    "data['Price'].hist(bins = 100, density = 'True', label = 'Цена', alpha = 1, range = (0, 500), figsize = (10, 4))\n",
    "\n",
    "plt.xlabel('Цена на автомобиль')\n",
    "plt.ylabel('Плотность')\n",
    "plt.title('Гистограмма цен на автомобили')\n",
    "plt.legend()\n",
    "plt.show()"
   ]
  },
  {
   "cell_type": "markdown",
   "metadata": {},
   "source": [
    "Удалю машины стоимостью меньше 50 евро. Будем считать, что их отдают просто в добрые руки. Судя по пикам, цена в 50 и более осознонная и обосновывается состоянием машины."
   ]
  },
  {
   "cell_type": "code",
   "execution_count": 12,
   "metadata": {},
   "outputs": [],
   "source": [
    "data = data[data['Price'] >= 50]"
   ]
  },
  {
   "cell_type": "markdown",
   "metadata": {},
   "source": [
    "Проверим мощность."
   ]
  },
  {
   "cell_type": "code",
   "execution_count": 13,
   "metadata": {},
   "outputs": [
    {
     "data": {
      "image/png": "[encoded data removed]",
      "text/plain": [
       "<Figure size 720x288 with 1 Axes>"
      ]
     },
     "metadata": {
      "needs_background": "light"
     },
     "output_type": "display_data"
    }
   ],
   "source": [
    "data['Power'].hist(bins = 100, density = 'True', label = 'Мощность', range = (0, 500), alpha = 1, figsize = (10, 4))\n",
    "\n",
    "plt.xlabel('Лошадинные силы')\n",
    "plt.ylabel('Плотность')\n",
    "plt.title('Гистограмма мощностей автомобилей')\n",
    "plt.legend()\n",
    "plt.show()"
   ]
  },
  {
   "cell_type": "markdown",
   "metadata": {},
   "source": [
    "Не слишком разбираюсь в машинах, но, изучев вопрос, выяснил, что максимальная л.с. равна 1600. Как таковой минимальной нет, но \"нижний сегмент\" от 80 до 110 лошадей. Здесь ограничу данные промежутком от 50 до 1600."
   ]
  },
  {
   "cell_type": "code",
   "execution_count": 14,
   "metadata": {},
   "outputs": [],
   "source": [
    "data = data[(data['Power'] >= 50) & (data['Power'] <= 1600)]"
   ]
  },
  {
   "cell_type": "markdown",
   "metadata": {},
   "source": [
    "Теперь посмотрим на 'Kilometer' ."
   ]
  },
  {
   "cell_type": "code",
   "execution_count": 15,
   "metadata": {},
   "outputs": [
    {
     "data": {
      "image/png": "[encoded data removed]",
      "text/plain": [
       "<Figure size 720x288 with 1 Axes>"
      ]
     },
     "metadata": {
      "needs_background": "light"
     },
     "output_type": "display_data"
    }
   ],
   "source": [
    "data['Kilometer'].hist(bins = 10, density = 'True', label = 'Пробег', alpha = 1, figsize = (10, 4))\n",
    "\n",
    "plt.xlabel('Пробег')\n",
    "plt.ylabel('Плотность')\n",
    "plt.title('Гистограмма пробега автомобилей')\n",
    "plt.legend()\n",
    "plt.show()"
   ]
  },
  {
   "cell_type": "markdown",
   "metadata": {},
   "source": [
    "Похоже, без вбросов."
   ]
  },
  {
   "cell_type": "markdown",
   "metadata": {},
   "source": [
    "Скопируем наш датасет для подготовки данных к трём разным моделям."
   ]
  },
  {
   "cell_type": "code",
   "execution_count": 16,
   "metadata": {},
   "outputs": [],
   "source": [
    "data_linear = data.copy()\n",
    "data_tree = data.copy()"
   ]
  },
  {
   "cell_type": "markdown",
   "metadata": {},
   "source": [
    "### Данные для линейной модели"
   ]
  },
  {
   "cell_type": "markdown",
   "metadata": {},
   "source": [
    "Используем OHE."
   ]
  },
  {
   "cell_type": "code",
   "execution_count": 17,
   "metadata": {},
   "outputs": [],
   "source": [
    "data_linear = pd.get_dummies(data_linear, drop_first=True)"
   ]
  },
  {
   "cell_type": "markdown",
   "metadata": {},
   "source": [
    "Разделим данные в соотношении 60-20-20%"
   ]
  },
  {
   "cell_type": "code",
   "execution_count": 18,
   "metadata": {},
   "outputs": [],
   "source": [
    "features_linear = data_linear.drop('Price', axis = 1)\n",
    "target_linear = data_linear['Price']"
   ]
  },
  {
   "cell_type": "code",
   "execution_count": 19,
   "metadata": {
    "scrolled": false
   },
   "outputs": [
    {
     "name": "stdout",
     "output_type": "stream",
     "text": [
      "Обучающая выборка: (151276, 310) (151276,)\n",
      "Валидационная выборка: (50425, 310) (50425,)\n",
      "Тестовая выборка: (50426, 310) (50426,)\n"
     ]
    }
   ],
   "source": [
    "features_linear_train, features_linear_remaining, target_linear_train, target_linear_remaining = train_test_split(features_linear, target_linear, train_size=0.6, random_state = 123456)\n",
    "features_linear_valid, features_linear_test, target_linear_valid, target_linear_test = train_test_split(features_linear_remaining,target_linear_remaining, test_size=0.5, random_state = 123456)\n",
    "print(\"Обучающая выборка:\", features_linear_train.shape, target_linear_train.shape)\n",
    "print(\"Валидационная выборка:\", features_linear_valid.shape, target_linear_valid.shape)\n",
    "print(\"Тестовая выборка:\", features_linear_test.shape, target_linear_test.shape)"
   ]
  },
  {
   "cell_type": "markdown",
   "metadata": {},
   "source": [
    "Скалируем численные признаки"
   ]
  },
  {
   "cell_type": "code",
   "execution_count": 20,
   "metadata": {},
   "outputs": [],
   "source": [
    "numeric = ['Power', 'Kilometer'] #численные признаки\n",
    "\n",
    "pd.options.mode.chained_assignment = None\n",
    "scaler = StandardScaler()\n",
    "scaler.fit(features_linear_train[numeric]) \n",
    "features_linear_train[numeric] = scaler.transform(features_linear_train[numeric])\n",
    "features_linear_valid[numeric] = scaler.transform(features_linear_valid[numeric]) \n",
    "features_linear_test[numeric] = scaler.transform(features_linear_test[numeric])"
   ]
  },
  {
   "cell_type": "markdown",
   "metadata": {},
   "source": [
    "### Данные для дерева регресии"
   ]
  },
  {
   "cell_type": "markdown",
   "metadata": {},
   "source": [
    "Всё тоже самое, только используем OE и не производим скалирование"
   ]
  },
  {
   "cell_type": "code",
   "execution_count": 21,
   "metadata": {},
   "outputs": [],
   "source": [
    "encoder = OrdinalEncoder() "
   ]
  },
  {
   "cell_type": "code",
   "execution_count": 22,
   "metadata": {},
   "outputs": [],
   "source": [
    "data_tree = pd.DataFrame(encoder.fit_transform(data_tree),\n",
    "                            columns=data.columns)"
   ]
  },
  {
   "cell_type": "code",
   "execution_count": 23,
   "metadata": {},
   "outputs": [],
   "source": [
    "features_tree = data_tree.drop('Price', axis = 1)\n",
    "target_tree = data_tree['Price']"
   ]
  },
  {
   "cell_type": "code",
   "execution_count": 24,
   "metadata": {
    "scrolled": true
   },
   "outputs": [
    {
     "name": "stdout",
     "output_type": "stream",
     "text": [
      "Обучающая выборка: (151276, 9) (151276,)\n",
      "Валидационная выборка: (50425, 9) (50425,)\n",
      "Тестовая выборка: (50426, 9) (50426,)\n"
     ]
    }
   ],
   "source": [
    "features_tree_train, features_tree_remaining, target_tree_train, target_tree_remaining = train_test_split(features_tree,target_tree, train_size=0.6, random_state = 123456)\n",
    "features_tree_valid, features_tree_test, target_tree_valid, target_tree_test = train_test_split(features_tree_remaining,target_tree_remaining, test_size=0.5, random_state = 123456)\n",
    "print(\"Обучающая выборка:\", features_tree_train.shape, target_tree_train.shape)\n",
    "print(\"Валидационная выборка:\", features_tree_valid.shape, target_tree_valid.shape)\n",
    "print(\"Тестовая выборка:\", features_tree_test.shape, target_tree_test.shape)"
   ]
  },
  {
   "cell_type": "markdown",
   "metadata": {},
   "source": [
    "### Данные для LightGBM"
   ]
  },
  {
   "cell_type": "markdown",
   "metadata": {},
   "source": [
    "Здесь переводим категориальные признаки в тип данных 'category'."
   ]
  },
  {
   "cell_type": "code",
   "execution_count": 25,
   "metadata": {},
   "outputs": [],
   "source": [
    "data = data.astype({'VehicleType': 'category','RegistrationYear': 'category', 'Gearbox': 'category', \n",
    "                    'Model': 'category', 'FuelType': 'category', 'Brand': 'category', 'NotRepaired': 'category'})"
   ]
  },
  {
   "cell_type": "code",
   "execution_count": 26,
   "metadata": {},
   "outputs": [],
   "source": [
    "features = data.drop('Price', axis = 1)\n",
    "target = data['Price']"
   ]
  },
  {
   "cell_type": "code",
   "execution_count": 27,
   "metadata": {},
   "outputs": [
    {
     "name": "stdout",
     "output_type": "stream",
     "text": [
      "Обучающая выборка: (151276, 9) (151276,)\n",
      "Валидационная выборка: (50425, 9) (50425,)\n",
      "Тестовая выборка: (50426, 9) (50426,)\n"
     ]
    }
   ],
   "source": [
    "features_train, features_remaining, target_train, target_remaining = train_test_split(features,target, train_size=0.6, random_state = 123456)\n",
    "features_valid, features_test, target_valid, target_test = train_test_split(features_remaining,target_remaining, test_size=0.5, random_state = 123456)\n",
    "print(\"Обучающая выборка:\", features_train.shape, target_train.shape)\n",
    "print(\"Валидационная выборка:\", features_valid.shape, target_valid.shape)\n",
    "print(\"Тестовая выборка:\", features_test.shape, target_test.shape)"
   ]
  },
  {
   "cell_type": "code",
   "execution_count": 28,
   "metadata": {},
   "outputs": [],
   "source": [
    "numeric = ['Power', 'Kilometer'] #численные признаки\n",
    "\n",
    "pd.options.mode.chained_assignment = None\n",
    "scaler = StandardScaler()\n",
    "scaler.fit(features_train[numeric]) \n",
    "features_linear_train[numeric] = scaler.transform(features_train[numeric])\n",
    "features_linear_valid[numeric] = scaler.transform(features_valid[numeric]) \n",
    "features_linear_test[numeric] = scaler.transform(features_test[numeric])"
   ]
  },
  {
   "cell_type": "markdown",
   "metadata": {},
   "source": [
    "## Обучение моделей"
   ]
  },
  {
   "cell_type": "markdown",
   "metadata": {},
   "source": [
    "### Линейная регрессия"
   ]
  },
  {
   "cell_type": "markdown",
   "metadata": {},
   "source": [
    "Начнём со знакомых моделей и перейдём к градиентному бустингу в последнюю очередь."
   ]
  },
  {
   "cell_type": "code",
   "execution_count": 29,
   "metadata": {},
   "outputs": [
    {
     "name": "stdout",
     "output_type": "stream",
     "text": [
      "RMSE-модели: 2750.908532754182\n"
     ]
    }
   ],
   "source": [
    "linear_model = LinearRegression().fit(features_linear_train, target_linear_train)\n",
    "linear_predictions = linear_model.predict(features_linear_valid)\n",
    "print('RMSE-модели:', sqrt(mean_squared_error(target_linear_valid, linear_predictions)))"
   ]
  },
  {
   "cell_type": "markdown",
   "metadata": {},
   "source": [
    "### Дерево регресии"
   ]
  },
  {
   "cell_type": "code",
   "execution_count": 30,
   "metadata": {},
   "outputs": [],
   "source": [
    "tree_model = DecisionTreeRegressor().fit(features_tree_train, target_tree_train)"
   ]
  },
  {
   "cell_type": "code",
   "execution_count": 31,
   "metadata": {},
   "outputs": [
    {
     "name": "stdout",
     "output_type": "stream",
     "text": [
      "RMSE-модели: 400.23606345180264\n"
     ]
    }
   ],
   "source": [
    "print('RMSE-модели:', sqrt(mean_squared_error(target_tree_valid, tree_model.predict(features_tree_valid))))"
   ]
  },
  {
   "cell_type": "markdown",
   "metadata": {},
   "source": [
    "C помощью GridSearсh оптимизируем глубину дерева."
   ]
  },
  {
   "cell_type": "code",
   "execution_count": 32,
   "metadata": {},
   "outputs": [
    {
     "name": "stdout",
     "output_type": "stream",
     "text": [
      "CPU times: user 11.9 s, sys: 103 ms, total: 12 s\n",
      "Wall time: 12 s\n"
     ]
    },
    {
     "data": {
      "text/plain": [
       "GridSearchCV(estimator=DecisionTreeRegressor(),\n",
       "             param_grid={'max_depth': range(2, 21, 2)},\n",
       "             scoring='neg_root_mean_squared_error')"
      ]
     },
     "execution_count": 32,
     "metadata": {},
     "output_type": "execute_result"
    }
   ],
   "source": [
    "%%time\n",
    "parameters = {'max_depth': range(2, 21, 2)}\n",
    "tree_GS = GridSearchCV(tree_model, param_grid = parameters, scoring = 'neg_root_mean_squared_error')\n",
    "tree_GS.fit(features_tree_train, target_tree_train)"
   ]
  },
  {
   "cell_type": "code",
   "execution_count": 33,
   "metadata": {},
   "outputs": [
    {
     "data": {
      "text/plain": [
       "{'max_depth': 14}"
      ]
     },
     "execution_count": 33,
     "metadata": {},
     "output_type": "execute_result"
    }
   ],
   "source": [
    "tree_GS.best_params_"
   ]
  },
  {
   "cell_type": "markdown",
   "metadata": {},
   "source": [
    "### LightGBM "
   ]
  },
  {
   "cell_type": "code",
   "execution_count": 34,
   "metadata": {},
   "outputs": [],
   "source": [
    "light_model = lgb.LGBMRegressor().fit(features_train, target_train)"
   ]
  },
  {
   "cell_type": "code",
   "execution_count": 35,
   "metadata": {
    "scrolled": true
   },
   "outputs": [
    {
     "name": "stdout",
     "output_type": "stream",
     "text": [
      "RMSE-модели: 1626.353953115767\n"
     ]
    }
   ],
   "source": [
    "print('RMSE-модели:', sqrt(mean_squared_error(target_valid, light_model.predict(features_valid))))"
   ]
  },
  {
   "cell_type": "code",
   "execution_count": 36,
   "metadata": {},
   "outputs": [
    {
     "name": "stdout",
     "output_type": "stream",
     "text": [
      "CPU times: user 2min 43s, sys: 0 ns, total: 2min 43s\n",
      "Wall time: 2min 45s\n"
     ]
    },
    {
     "data": {
      "text/plain": [
       "GridSearchCV(estimator=LGBMRegressor(),\n",
       "             param_grid={'learning_rate': [0.5, 0.6, 0.7],\n",
       "                         'max_depth': [5, 7, 10]},\n",
       "             scoring='neg_root_mean_squared_error')"
      ]
     },
     "execution_count": 36,
     "metadata": {},
     "output_type": "execute_result"
    }
   ],
   "source": [
    "%%time\n",
    "parameters = {\n",
    "    'max_depth': [5, 7, 10],\n",
    "    'learning_rate': [0.5, 0.6, 0.7]}\n",
    "\n",
    "light_GS = GridSearchCV(light_model, param_grid = parameters, scoring = 'neg_root_mean_squared_error')\n",
    "light_GS.fit(features_train, target_train)"
   ]
  },
  {
   "cell_type": "code",
   "execution_count": 37,
   "metadata": {},
   "outputs": [
    {
     "data": {
      "text/plain": [
       "{'learning_rate': 0.5, 'max_depth': 5}"
      ]
     },
     "execution_count": 37,
     "metadata": {},
     "output_type": "execute_result"
    }
   ],
   "source": [
    "light_GS.best_params_"
   ]
  },
  {
   "cell_type": "markdown",
   "metadata": {},
   "source": [
    "Вычислили RMSE для каждой из моделей. Заодно нашли оптимальные гиперпараметры. <br>\n",
    "Уже на данном этапе можем сказать, что с LightGBM получаются более точные предсказания, но вот считает она долго. <br>\n",
    "\n",
    "В следующем шаге запустим все модели с оптимальными параметрами, посчитаем RMSE и время исполнения кода. Запишем результаты в итоговую таблицу."
   ]
  },
  {
   "cell_type": "markdown",
   "metadata": {},
   "source": [
    "## Анализ моделей"
   ]
  },
  {
   "cell_type": "markdown",
   "metadata": {},
   "source": [
    "Подготовим таблицу для результатов."
   ]
  },
  {
   "cell_type": "code",
   "execution_count": 38,
   "metadata": {},
   "outputs": [],
   "source": [
    "summary = defaultdict(list)"
   ]
  },
  {
   "cell_type": "markdown",
   "metadata": {},
   "source": [
    "Подозреваю, что предполагалось использование %%time, но т.к. мне нужно сохранить время в переменную, прибегнем к time.time()"
   ]
  },
  {
   "cell_type": "code",
   "execution_count": 39,
   "metadata": {},
   "outputs": [],
   "source": [
    "def check_models(model):\n",
    "    tic = time.time()\n",
    "    count = sqrt(mean_squared_error(target_test, model.predict(features_test)))\n",
    "    toc = time.time()\n",
    "    return count, toc-tic"
   ]
  },
  {
   "cell_type": "markdown",
   "metadata": {},
   "source": [
    "### Линейная регрессия"
   ]
  },
  {
   "cell_type": "code",
   "execution_count": 40,
   "metadata": {},
   "outputs": [],
   "source": [
    "tic = time.time()\n",
    "linear_model = LinearRegression().fit(features_linear_train, target_linear_train)\n",
    "toc = time.time()\n",
    "summary['Learning time'].append(toc - tic)"
   ]
  },
  {
   "cell_type": "code",
   "execution_count": 41,
   "metadata": {},
   "outputs": [],
   "source": [
    "tic = time.time()\n",
    "pred = linear_model.predict(features_linear_test)\n",
    "toc = time.time()\n",
    "summary['Predicting time'].append(toc - tic)\n",
    "summary['RMSE'].append(sqrt(mean_squared_error(target_linear_test, pred)))"
   ]
  },
  {
   "cell_type": "markdown",
   "metadata": {},
   "source": [
    "### Дерево регрессии"
   ]
  },
  {
   "cell_type": "code",
   "execution_count": 42,
   "metadata": {},
   "outputs": [],
   "source": [
    "tic = time.time()\n",
    "tree_model = DecisionTreeRegressor(random_state = 123456, max_depth = 14).fit(features_tree_train, target_tree_train)\n",
    "toc = time.time()\n",
    "summary['Learning time'].append(toc - tic)"
   ]
  },
  {
   "cell_type": "code",
   "execution_count": 43,
   "metadata": {},
   "outputs": [],
   "source": [
    "tic = time.time()\n",
    "pred = tree_model.predict(features_tree_test)\n",
    "toc = time.time()\n",
    "summary['Predicting time'].append(toc - tic)\n",
    "summary['RMSE'].append(sqrt(mean_squared_error(target_tree_test, pred)))"
   ]
  },
  {
   "cell_type": "markdown",
   "metadata": {},
   "source": [
    "### LightGBM"
   ]
  },
  {
   "cell_type": "code",
   "execution_count": 44,
   "metadata": {},
   "outputs": [],
   "source": [
    "tic = time.time()\n",
    "light_model = lgb.LGBMRegressor(learning_rate = 0.5, max_depth = 10, random_state = 123456).fit(features_train, target_train)\n",
    "toc = time.time()\n",
    "summary['Learning time'].append(toc - tic)"
   ]
  },
  {
   "cell_type": "code",
   "execution_count": 45,
   "metadata": {},
   "outputs": [],
   "source": [
    "tic = time.time()\n",
    "pred = light_model.predict(features_test)\n",
    "toc = time.time()\n",
    "summary['Predicting time'].append(toc - tic)\n",
    "summary['RMSE'].append(sqrt(mean_squared_error(target_test, light_model.predict(features_test))))"
   ]
  },
  {
   "cell_type": "markdown",
   "metadata": {},
   "source": [
    "Посмотрим, что у нас получилось:"
   ]
  },
  {
   "cell_type": "code",
   "execution_count": 46,
   "metadata": {
    "scrolled": true
   },
   "outputs": [
    {
     "data": {
      "text/html": [
       "<div>\n",
       "<style scoped>\n",
       "    .dataframe tbody tr th:only-of-type {\n",
       "        vertical-align: middle;\n",
       "    }\n",
       "\n",
       "    .dataframe tbody tr th {\n",
       "        vertical-align: top;\n",
       "    }\n",
       "\n",
       "    .dataframe thead th {\n",
       "        text-align: right;\n",
       "    }\n",
       "</style>\n",
       "<table border=\"1\" class=\"dataframe\">\n",
       "  <thead>\n",
       "    <tr style=\"text-align: right;\">\n",
       "      <th></th>\n",
       "      <th>Learning time</th>\n",
       "      <th>Predicting time</th>\n",
       "      <th>RMSE</th>\n",
       "    </tr>\n",
       "  </thead>\n",
       "  <tbody>\n",
       "    <tr>\n",
       "      <th>Линейная регрессия</th>\n",
       "      <td>14.175361</td>\n",
       "      <td>0.109849</td>\n",
       "      <td>2741.480933</td>\n",
       "    </tr>\n",
       "    <tr>\n",
       "      <th>Дерево регрессии</th>\n",
       "      <td>0.498018</td>\n",
       "      <td>0.010497</td>\n",
       "      <td>371.399659</td>\n",
       "    </tr>\n",
       "    <tr>\n",
       "      <th>LightGBM</th>\n",
       "      <td>3.965192</td>\n",
       "      <td>0.394816</td>\n",
       "      <td>1646.127205</td>\n",
       "    </tr>\n",
       "  </tbody>\n",
       "</table>\n",
       "</div>"
      ],
      "text/plain": [
       "                    Learning time  Predicting time         RMSE\n",
       "Линейная регрессия      14.175361         0.109849  2741.480933\n",
       "Дерево регрессии         0.498018         0.010497   371.399659\n",
       "LightGBM                 3.965192         0.394816  1646.127205"
      ]
     },
     "execution_count": 46,
     "metadata": {},
     "output_type": "execute_result"
    }
   ],
   "source": [
    "df_summary = pd.DataFrame(summary, index = ['Линейная регрессия', 'Дерево регрессии', 'LightGBM'])\n",
    "df_summary.head()"
   ]
  },
  {
   "cell_type": "markdown",
   "metadata": {},
   "source": [
    "Любопытные результаты, сравнивая с предыдущим шагом. Похоже, ход работы LightGBM не так уж продолжителен при заранее определенных параметрах, но вот их подбор занимает колоссальное время."
   ]
  },
  {
   "cell_type": "markdown",
   "metadata": {},
   "source": [
    "Проверил дерево регрессии, пока не понял, в чем ошибка. Но очень похоже, что что-то не так. Попробуем ещё и RandomForest."
   ]
  },
  {
   "cell_type": "code",
   "execution_count": 47,
   "metadata": {},
   "outputs": [
    {
     "name": "stdout",
     "output_type": "stream",
     "text": [
      "Проверка: 332.9953313163183\n"
     ]
    }
   ],
   "source": [
    "new_tree_model = RandomForestRegressor(random_state = 123456, n_estimators = 10, max_depth = 14).fit(features_tree_train, target_tree_train)\n",
    "result = sqrt(mean_squared_error(target_tree_test, new_tree_model.predict(features_tree_test)))\n",
    "print('Проверка:', result)"
   ]
  },
  {
   "cell_type": "markdown",
   "metadata": {},
   "source": [
    "Похоже, что-то с ОЕ."
   ]
  },
  {
   "cell_type": "markdown",
   "metadata": {},
   "source": [
    "## Чек-лист проверки"
   ]
  },
  {
   "cell_type": "markdown",
   "metadata": {},
   "source": [
    "Поставьте 'x' в выполненных пунктах. Далее нажмите Shift+Enter."
   ]
  },
  {
   "cell_type": "markdown",
   "metadata": {},
   "source": [
    "- [x]  Jupyter Notebook открыт\n",
    "- [x]  Весь код выполняется без ошибок\n",
    "- [x]  Ячейки с кодом расположены в порядке исполнения\n",
    "- [x]  Выполнена загрузка и подготовка данных\n",
    "- [x]  Выполнено обучение моделей\n",
    "- [x]  Есть анализ скорости работы и качества моделей"
   ]
  },
  {
   "cell_type": "markdown",
   "metadata": {},
   "source": [
    "## Выводы"
   ]
  },
  {
   "cell_type": "markdown",
   "metadata": {},
   "source": [
    "В результате выполнения проекта построена модель для определения стоимости автомобилей сервиса «Не бит, не крашен».<br>\n",
    "Обучены три модели - Линейная регрессия, Деревья регрессии и LightGBM. Вычислен RMSE для каждой и модели и посчитано время выполнения кода.<br>"
   ]
  },
  {
   "cell_type": "code",
   "execution_count": 48,
   "metadata": {
    "scrolled": true
   },
   "outputs": [
    {
     "data": {
      "text/html": [
       "<div>\n",
       "<style scoped>\n",
       "    .dataframe tbody tr th:only-of-type {\n",
       "        vertical-align: middle;\n",
       "    }\n",
       "\n",
       "    .dataframe tbody tr th {\n",
       "        vertical-align: top;\n",
       "    }\n",
       "\n",
       "    .dataframe thead th {\n",
       "        text-align: right;\n",
       "    }\n",
       "</style>\n",
       "<table border=\"1\" class=\"dataframe\">\n",
       "  <thead>\n",
       "    <tr style=\"text-align: right;\">\n",
       "      <th></th>\n",
       "      <th>Learning time</th>\n",
       "      <th>Predicting time</th>\n",
       "      <th>RMSE</th>\n",
       "    </tr>\n",
       "  </thead>\n",
       "  <tbody>\n",
       "    <tr>\n",
       "      <th>Линейная регрессия</th>\n",
       "      <td>14.175361</td>\n",
       "      <td>0.109849</td>\n",
       "      <td>2741.480933</td>\n",
       "    </tr>\n",
       "    <tr>\n",
       "      <th>Дерево регрессии</th>\n",
       "      <td>0.498018</td>\n",
       "      <td>0.010497</td>\n",
       "      <td>371.399659</td>\n",
       "    </tr>\n",
       "    <tr>\n",
       "      <th>LightGBM</th>\n",
       "      <td>3.965192</td>\n",
       "      <td>0.394816</td>\n",
       "      <td>1646.127205</td>\n",
       "    </tr>\n",
       "  </tbody>\n",
       "</table>\n",
       "</div>"
      ],
      "text/plain": [
       "                    Learning time  Predicting time         RMSE\n",
       "Линейная регрессия      14.175361         0.109849  2741.480933\n",
       "Дерево регрессии         0.498018         0.010497   371.399659\n",
       "LightGBM                 3.965192         0.394816  1646.127205"
      ]
     },
     "execution_count": 48,
     "metadata": {},
     "output_type": "execute_result"
    }
   ],
   "source": [
    "df_summary"
   ]
  },
  {
   "cell_type": "markdown",
   "metadata": {},
   "source": [
    "Несмотря на то, что LightGBM показала лучший RMSE и делала прогноз не сильно дольше Дерева регрессий, стоит заметить, что подбор оптимальных гиперпараметров занял наибольшее время, хотя менялись только параметры learning_rate и max_depth.  "
   ]
  }
 ],
 "metadata": {
  "ExecuteTimeLog": [
   {
    "duration": 1394,
    "start_time": "2022-04-25T08:57:01.586Z"
   },
   {
    "duration": 770,
    "start_time": "2022-04-25T08:57:36.498Z"
   },
   {
    "duration": 18,
    "start_time": "2022-04-25T08:57:44.773Z"
   },
   {
    "duration": 127,
    "start_time": "2022-04-25T08:58:21.533Z"
   },
   {
    "duration": 281,
    "start_time": "2022-04-25T09:01:23.105Z"
   },
   {
    "duration": 186,
    "start_time": "2022-04-25T09:01:50.274Z"
   },
   {
    "duration": 122,
    "start_time": "2022-04-25T09:02:03.954Z"
   },
   {
    "duration": 161,
    "start_time": "2022-04-25T09:02:12.622Z"
   },
   {
    "duration": 125,
    "start_time": "2022-04-25T09:02:14.888Z"
   },
   {
    "duration": 1359,
    "start_time": "2022-04-25T09:09:12.054Z"
   },
   {
    "duration": 843,
    "start_time": "2022-04-25T09:09:13.415Z"
   },
   {
    "duration": 102,
    "start_time": "2022-04-25T09:09:14.260Z"
   },
   {
    "duration": 18,
    "start_time": "2022-04-25T09:09:14.364Z"
   },
   {
    "duration": 142,
    "start_time": "2022-04-25T09:09:14.384Z"
   },
   {
    "duration": 10,
    "start_time": "2022-04-25T09:11:24.361Z"
   },
   {
    "duration": 14,
    "start_time": "2022-04-25T09:11:36.981Z"
   },
   {
    "duration": 100,
    "start_time": "2022-04-25T09:13:26.364Z"
   },
   {
    "duration": 90,
    "start_time": "2022-04-25T09:15:44.066Z"
   },
   {
    "duration": 178,
    "start_time": "2022-04-25T09:15:51.524Z"
   },
   {
    "duration": 12,
    "start_time": "2022-04-25T09:15:53.530Z"
   },
   {
    "duration": 194,
    "start_time": "2022-04-25T09:16:06.277Z"
   },
   {
    "duration": 222,
    "start_time": "2022-04-25T09:16:12.602Z"
   },
   {
    "duration": 14,
    "start_time": "2022-04-25T09:16:15.618Z"
   },
   {
    "duration": 2887,
    "start_time": "2022-04-25T09:20:41.135Z"
   },
   {
    "duration": 2667,
    "start_time": "2022-04-25T09:22:17.589Z"
   },
   {
    "duration": 1316,
    "start_time": "2022-04-25T09:22:49.452Z"
   },
   {
    "duration": 847,
    "start_time": "2022-04-25T09:22:50.769Z"
   },
   {
    "duration": 107,
    "start_time": "2022-04-25T09:22:51.617Z"
   },
   {
    "duration": 19,
    "start_time": "2022-04-25T09:22:51.726Z"
   },
   {
    "duration": 146,
    "start_time": "2022-04-25T09:22:51.747Z"
   },
   {
    "duration": 329,
    "start_time": "2022-04-25T09:22:51.895Z"
   },
   {
    "duration": 7,
    "start_time": "2022-04-25T09:23:33.478Z"
   },
   {
    "duration": 116,
    "start_time": "2022-04-25T09:41:36.506Z"
   },
   {
    "duration": 95,
    "start_time": "2022-04-25T09:42:01.405Z"
   },
   {
    "duration": 3,
    "start_time": "2022-04-25T09:42:19.616Z"
   },
   {
    "duration": 225,
    "start_time": "2022-04-25T09:42:23.048Z"
   },
   {
    "duration": 3,
    "start_time": "2022-04-25T09:43:57.183Z"
   },
   {
    "duration": 3,
    "start_time": "2022-04-25T09:47:15.565Z"
   },
   {
    "duration": 206,
    "start_time": "2022-04-25T09:47:42.773Z"
   },
   {
    "duration": 8,
    "start_time": "2022-04-25T09:50:57.165Z"
   },
   {
    "duration": 194,
    "start_time": "2022-04-25T09:51:05.678Z"
   },
   {
    "duration": 214,
    "start_time": "2022-04-25T09:53:22.730Z"
   },
   {
    "duration": 684,
    "start_time": "2022-04-25T09:57:30.021Z"
   },
   {
    "duration": 42,
    "start_time": "2022-04-25T10:08:19.077Z"
   },
   {
    "duration": 226,
    "start_time": "2022-04-25T10:08:24.501Z"
   },
   {
    "duration": 8,
    "start_time": "2022-04-25T10:09:01.424Z"
   },
   {
    "duration": 131,
    "start_time": "2022-04-25T10:09:11.623Z"
   },
   {
    "duration": 31,
    "start_time": "2022-04-25T10:10:09.359Z"
   },
   {
    "duration": 206,
    "start_time": "2022-04-25T10:10:10.695Z"
   },
   {
    "duration": 33,
    "start_time": "2022-04-25T10:10:45.695Z"
   },
   {
    "duration": 172,
    "start_time": "2022-04-25T10:10:49.304Z"
   },
   {
    "duration": 2271,
    "start_time": "2022-04-25T10:12:05.549Z"
   },
   {
    "duration": 1360,
    "start_time": "2022-04-25T10:20:57.785Z"
   },
   {
    "duration": 855,
    "start_time": "2022-04-25T10:20:59.146Z"
   },
   {
    "duration": 112,
    "start_time": "2022-04-25T10:21:00.003Z"
   },
   {
    "duration": 17,
    "start_time": "2022-04-25T10:21:00.117Z"
   },
   {
    "duration": 143,
    "start_time": "2022-04-25T10:21:00.136Z"
   },
   {
    "duration": 100,
    "start_time": "2022-04-25T10:21:00.281Z"
   },
   {
    "duration": 136,
    "start_time": "2022-04-25T10:21:00.382Z"
   },
   {
    "duration": 178,
    "start_time": "2022-04-25T10:21:00.520Z"
   },
   {
    "duration": 0,
    "start_time": "2022-04-25T10:21:00.700Z"
   },
   {
    "duration": 1298,
    "start_time": "2022-04-25T10:21:52.114Z"
   },
   {
    "duration": 3,
    "start_time": "2022-04-25T10:22:15.546Z"
   },
   {
    "duration": 1476,
    "start_time": "2022-04-25T10:22:19.324Z"
   },
   {
    "duration": 14,
    "start_time": "2022-04-25T10:22:41.732Z"
   },
   {
    "duration": 17,
    "start_time": "2022-04-25T10:23:15.017Z"
   },
   {
    "duration": 18942,
    "start_time": "2022-04-25T10:23:52.358Z"
   },
   {
    "duration": 183,
    "start_time": "2022-04-25T10:30:06.161Z"
   },
   {
    "duration": 17877,
    "start_time": "2022-04-25T10:30:15.642Z"
   },
   {
    "duration": 18000,
    "start_time": "2022-04-25T10:30:52.602Z"
   },
   {
    "duration": 20268,
    "start_time": "2022-04-25T10:31:52.647Z"
   },
   {
    "duration": 8206,
    "start_time": "2022-04-25T10:41:34.979Z"
   },
   {
    "duration": 24,
    "start_time": "2022-04-25T10:49:38.425Z"
   },
   {
    "duration": 23,
    "start_time": "2022-04-25T10:50:03.703Z"
   },
   {
    "duration": 24,
    "start_time": "2022-04-25T10:51:44.491Z"
   },
   {
    "duration": 24,
    "start_time": "2022-04-25T10:52:20.561Z"
   },
   {
    "duration": 23,
    "start_time": "2022-04-25T10:53:34.019Z"
   },
   {
    "duration": 8304,
    "start_time": "2022-04-25T10:58:11.386Z"
   },
   {
    "duration": 24,
    "start_time": "2022-04-25T10:58:21.956Z"
   },
   {
    "duration": 3,
    "start_time": "2022-04-25T10:58:58.436Z"
   },
   {
    "duration": 26,
    "start_time": "2022-04-25T10:59:00.217Z"
   },
   {
    "duration": 177552,
    "start_time": "2022-04-25T11:00:12.675Z"
   },
   {
    "duration": 3,
    "start_time": "2022-04-25T11:03:49.245Z"
   },
   {
    "duration": 11,
    "start_time": "2022-04-25T11:04:54.244Z"
   },
   {
    "duration": 9,
    "start_time": "2022-04-25T11:05:41.716Z"
   },
   {
    "duration": 8200,
    "start_time": "2022-04-25T11:05:49.935Z"
   },
   {
    "duration": 1334,
    "start_time": "2022-04-25T11:07:20.979Z"
   },
   {
    "duration": 914,
    "start_time": "2022-04-25T11:07:22.315Z"
   },
   {
    "duration": 110,
    "start_time": "2022-04-25T11:07:23.231Z"
   },
   {
    "duration": 18,
    "start_time": "2022-04-25T11:07:23.342Z"
   },
   {
    "duration": 145,
    "start_time": "2022-04-25T11:07:23.362Z"
   },
   {
    "duration": 98,
    "start_time": "2022-04-25T11:07:23.509Z"
   },
   {
    "duration": 129,
    "start_time": "2022-04-25T11:07:23.609Z"
   },
   {
    "duration": 1450,
    "start_time": "2022-04-25T11:07:23.739Z"
   },
   {
    "duration": 20609,
    "start_time": "2022-04-25T11:07:25.191Z"
   },
   {
    "duration": 5374,
    "start_time": "2022-04-25T11:07:45.803Z"
   },
   {
    "duration": 177581,
    "start_time": "2022-04-25T11:07:51.179Z"
   },
   {
    "duration": 3,
    "start_time": "2022-04-25T11:10:48.762Z"
   },
   {
    "duration": 132,
    "start_time": "2022-04-25T11:10:48.767Z"
   },
   {
    "duration": 2,
    "start_time": "2022-04-25T11:29:28.702Z"
   },
   {
    "duration": 90,
    "start_time": "2022-04-25T11:32:50.604Z"
   },
   {
    "duration": 2,
    "start_time": "2022-04-25T11:32:54.358Z"
   },
   {
    "duration": 7,
    "start_time": "2022-04-25T11:40:57.195Z"
   },
   {
    "duration": 1319,
    "start_time": "2022-04-25T11:41:55.447Z"
   },
   {
    "duration": 803,
    "start_time": "2022-04-25T11:41:56.768Z"
   },
   {
    "duration": 105,
    "start_time": "2022-04-25T11:41:57.572Z"
   },
   {
    "duration": 22,
    "start_time": "2022-04-25T11:41:57.679Z"
   },
   {
    "duration": 127,
    "start_time": "2022-04-25T11:41:57.703Z"
   },
   {
    "duration": 93,
    "start_time": "2022-04-25T11:41:57.832Z"
   },
   {
    "duration": 126,
    "start_time": "2022-04-25T11:41:57.927Z"
   },
   {
    "duration": 1474,
    "start_time": "2022-04-25T11:41:58.055Z"
   },
   {
    "duration": 20070,
    "start_time": "2022-04-25T11:41:59.530Z"
   },
   {
    "duration": 5309,
    "start_time": "2022-04-25T11:42:19.604Z"
   },
   {
    "duration": 173775,
    "start_time": "2022-04-25T11:42:24.915Z"
   },
   {
    "duration": 10,
    "start_time": "2022-04-25T11:45:18.691Z"
   },
   {
    "duration": 126,
    "start_time": "2022-04-25T11:45:18.702Z"
   },
   {
    "duration": 2,
    "start_time": "2022-04-25T11:45:18.830Z"
   },
   {
    "duration": 5,
    "start_time": "2022-04-25T11:45:18.834Z"
   },
   {
    "duration": 10664,
    "start_time": "2022-04-25T11:45:18.840Z"
   },
   {
    "duration": 8,
    "start_time": "2022-04-25T11:46:10.119Z"
   },
   {
    "duration": 8225,
    "start_time": "2022-04-25T11:46:55.309Z"
   },
   {
    "duration": 8,
    "start_time": "2022-04-25T11:47:34.096Z"
   },
   {
    "duration": 151,
    "start_time": "2022-04-25T11:47:39.475Z"
   },
   {
    "duration": 178269,
    "start_time": "2022-04-25T11:47:42.420Z"
   },
   {
    "duration": 4,
    "start_time": "2022-04-25T11:50:53.398Z"
   },
   {
    "duration": 2,
    "start_time": "2022-04-25T11:50:58.191Z"
   },
   {
    "duration": 2,
    "start_time": "2022-04-25T11:51:00.480Z"
   },
   {
    "duration": 81622,
    "start_time": "2022-04-25T11:51:02.584Z"
   },
   {
    "duration": 2,
    "start_time": "2022-04-25T11:52:38.641Z"
   },
   {
    "duration": 231,
    "start_time": "2022-04-25T11:52:42.770Z"
   },
   {
    "duration": 1043934,
    "start_time": "2022-04-25T11:52:50.092Z"
   },
   {
    "duration": 501281,
    "start_time": "2022-04-25T12:10:28.040Z"
   },
   {
    "duration": 337510,
    "start_time": "2022-04-25T12:19:02.195Z"
   },
   {
    "duration": 4,
    "start_time": "2022-04-25T12:26:34.697Z"
   },
   {
    "duration": 9,
    "start_time": "2022-04-25T12:27:17.320Z"
   },
   {
    "duration": 10209,
    "start_time": "2022-04-25T12:27:31.793Z"
   },
   {
    "duration": 858,
    "start_time": "2022-04-25T12:27:56.043Z"
   },
   {
    "duration": 1356,
    "start_time": "2022-04-25T12:32:44.060Z"
   },
   {
    "duration": 805,
    "start_time": "2022-04-25T12:32:45.418Z"
   },
   {
    "duration": 112,
    "start_time": "2022-04-25T12:32:46.225Z"
   },
   {
    "duration": 21,
    "start_time": "2022-04-25T12:32:46.339Z"
   },
   {
    "duration": 153,
    "start_time": "2022-04-25T12:32:46.362Z"
   },
   {
    "duration": 90,
    "start_time": "2022-04-25T12:32:46.517Z"
   },
   {
    "duration": 716,
    "start_time": "2022-04-25T12:32:46.609Z"
   },
   {
    "duration": 517,
    "start_time": "2022-04-25T12:32:47.327Z"
   },
   {
    "duration": 263,
    "start_time": "2022-04-25T12:32:47.846Z"
   },
   {
    "duration": 18500,
    "start_time": "2022-04-25T12:32:48.111Z"
   },
   {
    "duration": 8098,
    "start_time": "2022-04-25T12:33:06.614Z"
   },
   {
    "duration": 163,
    "start_time": "2022-04-25T12:33:14.714Z"
   },
   {
    "duration": 174488,
    "start_time": "2022-04-25T12:33:14.878Z"
   },
   {
    "duration": 3,
    "start_time": "2022-04-25T12:36:09.369Z"
   },
   {
    "duration": 6638,
    "start_time": "2022-04-25T12:36:09.373Z"
   },
   {
    "duration": 893,
    "start_time": "2022-04-25T12:36:16.012Z"
   },
   {
    "duration": 339906,
    "start_time": "2022-04-25T12:36:16.906Z"
   },
   {
    "duration": 88,
    "start_time": "2022-04-25T12:41:56.814Z"
   },
   {
    "duration": 188,
    "start_time": "2022-04-25T12:41:56.905Z"
   },
   {
    "duration": 3,
    "start_time": "2022-04-25T12:42:50.164Z"
   },
   {
    "duration": 3,
    "start_time": "2022-04-25T12:45:32.625Z"
   },
   {
    "duration": 2,
    "start_time": "2022-04-25T12:46:05.866Z"
   },
   {
    "duration": 19081,
    "start_time": "2022-04-25T12:50:02.236Z"
   },
   {
    "duration": 2,
    "start_time": "2022-04-25T12:50:48.391Z"
   },
   {
    "duration": 5419,
    "start_time": "2022-04-25T12:53:13.167Z"
   },
   {
    "duration": 6515,
    "start_time": "2022-04-25T12:55:18.200Z"
   },
   {
    "duration": 8,
    "start_time": "2022-04-25T12:56:17.478Z"
   },
   {
    "duration": 1310,
    "start_time": "2022-04-25T12:56:59.073Z"
   },
   {
    "duration": 973,
    "start_time": "2022-04-25T12:57:00.385Z"
   },
   {
    "duration": 106,
    "start_time": "2022-04-25T12:57:01.360Z"
   },
   {
    "duration": 16,
    "start_time": "2022-04-25T12:57:01.468Z"
   },
   {
    "duration": 141,
    "start_time": "2022-04-25T12:57:01.486Z"
   },
   {
    "duration": 90,
    "start_time": "2022-04-25T12:57:01.628Z"
   },
   {
    "duration": 733,
    "start_time": "2022-04-25T12:57:01.720Z"
   },
   {
    "duration": 518,
    "start_time": "2022-04-25T12:57:02.455Z"
   },
   {
    "duration": 278,
    "start_time": "2022-04-25T12:57:02.975Z"
   },
   {
    "duration": 20963,
    "start_time": "2022-04-25T12:57:03.254Z"
   },
   {
    "duration": 8198,
    "start_time": "2022-04-25T12:57:24.302Z"
   },
   {
    "duration": 157,
    "start_time": "2022-04-25T12:57:32.503Z"
   },
   {
    "duration": 177086,
    "start_time": "2022-04-25T12:57:32.662Z"
   },
   {
    "duration": 4,
    "start_time": "2022-04-25T13:00:29.750Z"
   },
   {
    "duration": 6856,
    "start_time": "2022-04-25T13:00:29.755Z"
   },
   {
    "duration": 890,
    "start_time": "2022-04-25T13:00:36.613Z"
   },
   {
    "duration": 321202,
    "start_time": "2022-04-25T13:00:37.505Z"
   },
   {
    "duration": 3,
    "start_time": "2022-04-25T13:05:58.709Z"
   },
   {
    "duration": 4,
    "start_time": "2022-04-25T13:05:58.713Z"
   },
   {
    "duration": 19409,
    "start_time": "2022-04-25T13:05:58.719Z"
   },
   {
    "duration": 5464,
    "start_time": "2022-04-25T13:06:18.130Z"
   },
   {
    "duration": 6812,
    "start_time": "2022-04-25T13:06:23.595Z"
   },
   {
    "duration": 8,
    "start_time": "2022-04-25T13:06:30.408Z"
   },
   {
    "duration": 7,
    "start_time": "2022-04-25T13:06:30.419Z"
   },
   {
    "duration": 6,
    "start_time": "2022-04-25T13:08:51.154Z"
   },
   {
    "duration": 2076,
    "start_time": "2022-04-25T13:16:26.836Z"
   },
   {
    "duration": 1108,
    "start_time": "2022-04-25T13:16:28.914Z"
   },
   {
    "duration": 113,
    "start_time": "2022-04-25T13:16:30.023Z"
   },
   {
    "duration": 17,
    "start_time": "2022-04-25T13:16:30.138Z"
   },
   {
    "duration": 146,
    "start_time": "2022-04-25T13:16:30.157Z"
   },
   {
    "duration": 85,
    "start_time": "2022-04-25T13:16:30.307Z"
   },
   {
    "duration": 730,
    "start_time": "2022-04-25T13:16:30.407Z"
   },
   {
    "duration": 517,
    "start_time": "2022-04-25T13:16:31.139Z"
   },
   {
    "duration": 282,
    "start_time": "2022-04-25T13:16:31.658Z"
   },
   {
    "duration": 28086,
    "start_time": "2022-04-25T13:16:31.942Z"
   },
   {
    "duration": 8382,
    "start_time": "2022-04-25T13:17:00.101Z"
   },
   {
    "duration": 157,
    "start_time": "2022-04-25T13:17:08.485Z"
   },
   {
    "duration": 180639,
    "start_time": "2022-04-25T13:17:08.644Z"
   },
   {
    "duration": 4,
    "start_time": "2022-04-25T13:20:09.285Z"
   },
   {
    "duration": 36014,
    "start_time": "2022-04-25T13:20:09.290Z"
   },
   {
    "duration": 817,
    "start_time": "2022-04-25T13:20:45.308Z"
   },
   {
    "duration": 1121526,
    "start_time": "2022-04-25T13:20:46.127Z"
   },
   {
    "duration": 9,
    "start_time": "2022-04-25T13:39:27.655Z"
   },
   {
    "duration": 0,
    "start_time": "2022-04-25T13:39:27.665Z"
   },
   {
    "duration": 0,
    "start_time": "2022-04-25T13:39:27.666Z"
   },
   {
    "duration": 0,
    "start_time": "2022-04-25T13:39:27.667Z"
   },
   {
    "duration": 0,
    "start_time": "2022-04-25T13:39:27.668Z"
   },
   {
    "duration": 0,
    "start_time": "2022-04-25T13:39:27.669Z"
   },
   {
    "duration": 0,
    "start_time": "2022-04-25T13:39:27.670Z"
   },
   {
    "duration": 0,
    "start_time": "2022-04-25T13:39:27.671Z"
   },
   {
    "duration": 1402,
    "start_time": "2022-04-25T13:39:34.307Z"
   },
   {
    "duration": 821,
    "start_time": "2022-04-25T13:39:35.711Z"
   },
   {
    "duration": 101,
    "start_time": "2022-04-25T13:39:36.534Z"
   },
   {
    "duration": 18,
    "start_time": "2022-04-25T13:39:36.637Z"
   },
   {
    "duration": 141,
    "start_time": "2022-04-25T13:39:36.657Z"
   },
   {
    "duration": 87,
    "start_time": "2022-04-25T13:39:36.800Z"
   },
   {
    "duration": 748,
    "start_time": "2022-04-25T13:39:36.888Z"
   },
   {
    "duration": 510,
    "start_time": "2022-04-25T13:39:37.637Z"
   },
   {
    "duration": 260,
    "start_time": "2022-04-25T13:39:38.148Z"
   },
   {
    "duration": 20589,
    "start_time": "2022-04-25T13:39:38.411Z"
   },
   {
    "duration": 8601,
    "start_time": "2022-04-25T13:39:59.003Z"
   },
   {
    "duration": 163,
    "start_time": "2022-04-25T13:40:07.606Z"
   },
   {
    "duration": 179384,
    "start_time": "2022-04-25T13:40:07.771Z"
   },
   {
    "duration": 4,
    "start_time": "2022-04-25T13:43:07.157Z"
   },
   {
    "duration": 11546,
    "start_time": "2022-04-25T13:43:07.163Z"
   },
   {
    "duration": 889,
    "start_time": "2022-04-25T13:43:18.711Z"
   },
   {
    "duration": 259504,
    "start_time": "2022-04-25T13:43:19.602Z"
   },
   {
    "duration": 3,
    "start_time": "2022-04-25T13:47:39.108Z"
   },
   {
    "duration": 5,
    "start_time": "2022-04-25T13:47:39.113Z"
   },
   {
    "duration": 6,
    "start_time": "2022-04-25T13:47:39.119Z"
   },
   {
    "duration": 18774,
    "start_time": "2022-04-25T13:47:39.126Z"
   },
   {
    "duration": 5682,
    "start_time": "2022-04-25T13:47:57.904Z"
   },
   {
    "duration": 0,
    "start_time": "2022-04-25T13:48:03.587Z"
   },
   {
    "duration": 0,
    "start_time": "2022-04-25T13:48:03.589Z"
   },
   {
    "duration": 0,
    "start_time": "2022-04-25T13:48:03.590Z"
   },
   {
    "duration": 9,
    "start_time": "2022-04-25T13:49:17.404Z"
   },
   {
    "duration": 5508,
    "start_time": "2022-04-25T13:49:38.162Z"
   },
   {
    "duration": 102389,
    "start_time": "2022-04-25T13:49:46.329Z"
   },
   {
    "duration": 1322,
    "start_time": "2022-04-25T13:54:55.376Z"
   },
   {
    "duration": 838,
    "start_time": "2022-04-25T13:54:56.700Z"
   },
   {
    "duration": 107,
    "start_time": "2022-04-25T13:54:57.539Z"
   },
   {
    "duration": 18,
    "start_time": "2022-04-25T13:54:57.648Z"
   },
   {
    "duration": 142,
    "start_time": "2022-04-25T13:54:57.667Z"
   },
   {
    "duration": 98,
    "start_time": "2022-04-25T13:54:57.811Z"
   },
   {
    "duration": 753,
    "start_time": "2022-04-25T13:54:57.910Z"
   },
   {
    "duration": 509,
    "start_time": "2022-04-25T13:54:58.665Z"
   },
   {
    "duration": 274,
    "start_time": "2022-04-25T13:54:59.176Z"
   },
   {
    "duration": 17853,
    "start_time": "2022-04-25T13:54:59.453Z"
   },
   {
    "duration": 8404,
    "start_time": "2022-04-25T13:55:17.308Z"
   },
   {
    "duration": 158,
    "start_time": "2022-04-25T13:55:25.714Z"
   },
   {
    "duration": 174027,
    "start_time": "2022-04-25T13:55:25.874Z"
   },
   {
    "duration": 4,
    "start_time": "2022-04-25T13:58:19.903Z"
   },
   {
    "duration": 6393,
    "start_time": "2022-04-25T13:58:19.908Z"
   },
   {
    "duration": 807,
    "start_time": "2022-04-25T13:58:26.303Z"
   },
   {
    "duration": 252700,
    "start_time": "2022-04-25T13:58:27.112Z"
   },
   {
    "duration": 88,
    "start_time": "2022-04-25T14:02:39.813Z"
   },
   {
    "duration": 2,
    "start_time": "2022-04-25T14:02:39.903Z"
   },
   {
    "duration": 4,
    "start_time": "2022-04-25T14:02:39.907Z"
   },
   {
    "duration": 18998,
    "start_time": "2022-04-25T14:02:39.913Z"
   },
   {
    "duration": 5528,
    "start_time": "2022-04-25T14:02:59.001Z"
   },
   {
    "duration": 5985,
    "start_time": "2022-04-25T14:03:04.531Z"
   },
   {
    "duration": 8,
    "start_time": "2022-04-25T14:03:10.517Z"
   },
   {
    "duration": 75,
    "start_time": "2022-04-25T14:03:10.526Z"
   },
   {
    "duration": 210,
    "start_time": "2022-04-26T11:31:51.667Z"
   },
   {
    "duration": 2924,
    "start_time": "2022-04-27T09:21:23.939Z"
   },
   {
    "duration": 2341,
    "start_time": "2022-04-27T09:21:28.086Z"
   },
   {
    "duration": 259,
    "start_time": "2022-04-27T09:21:30.431Z"
   },
   {
    "duration": 47,
    "start_time": "2022-04-27T09:21:33.123Z"
   },
   {
    "duration": 306,
    "start_time": "2022-04-27T09:21:36.697Z"
   },
   {
    "duration": 1973,
    "start_time": "2022-04-27T09:24:51.532Z"
   },
   {
    "duration": 15,
    "start_time": "2022-04-27T09:25:15.130Z"
   },
   {
    "duration": 31,
    "start_time": "2022-04-27T09:25:23.162Z"
   },
   {
    "duration": 14,
    "start_time": "2022-04-27T09:27:08.040Z"
   },
   {
    "duration": 14,
    "start_time": "2022-04-27T09:27:22.485Z"
   },
   {
    "duration": 197,
    "start_time": "2022-04-27T09:27:50.854Z"
   },
   {
    "duration": 879,
    "start_time": "2022-04-27T09:29:41.207Z"
   },
   {
    "duration": 118,
    "start_time": "2022-04-27T09:30:07.364Z"
   },
   {
    "duration": 98,
    "start_time": "2022-04-27T09:35:42.577Z"
   },
   {
    "duration": 47,
    "start_time": "2022-04-27T09:37:37.495Z"
   },
   {
    "duration": 26,
    "start_time": "2022-04-27T09:37:45.198Z"
   },
   {
    "duration": 259,
    "start_time": "2022-04-27T09:38:26.130Z"
   },
   {
    "duration": 102,
    "start_time": "2022-04-27T09:38:47.732Z"
   },
   {
    "duration": 264,
    "start_time": "2022-04-27T09:38:54.043Z"
   },
   {
    "duration": 323,
    "start_time": "2022-04-27T09:41:42.438Z"
   },
   {
    "duration": 207,
    "start_time": "2022-04-27T09:41:50.463Z"
   },
   {
    "duration": 88,
    "start_time": "2022-04-27T09:42:57.704Z"
   },
   {
    "duration": 1679,
    "start_time": "2022-04-27T09:46:03.205Z"
   },
   {
    "duration": 6,
    "start_time": "2022-04-27T09:46:57.451Z"
   },
   {
    "duration": 517,
    "start_time": "2022-04-27T09:47:28.249Z"
   },
   {
    "duration": 653,
    "start_time": "2022-04-27T09:49:20.077Z"
   },
   {
    "duration": 492,
    "start_time": "2022-04-27T09:49:55.532Z"
   },
   {
    "duration": 115,
    "start_time": "2022-04-27T09:53:19.409Z"
   },
   {
    "duration": 11,
    "start_time": "2022-04-27T09:53:44.958Z"
   },
   {
    "duration": 22,
    "start_time": "2022-04-27T09:54:24.458Z"
   },
   {
    "duration": 20,
    "start_time": "2022-04-27T09:55:08.065Z"
   },
   {
    "duration": 20,
    "start_time": "2022-04-27T09:55:48.489Z"
   },
   {
    "duration": 9,
    "start_time": "2022-04-27T09:55:57.315Z"
   },
   {
    "duration": 9,
    "start_time": "2022-04-27T09:56:01.805Z"
   },
   {
    "duration": 2828,
    "start_time": "2022-04-27T09:56:32.026Z"
   },
   {
    "duration": 1328,
    "start_time": "2022-04-27T09:56:34.858Z"
   },
   {
    "duration": 170,
    "start_time": "2022-04-27T09:56:36.188Z"
   },
   {
    "duration": 29,
    "start_time": "2022-04-27T09:56:36.360Z"
   },
   {
    "duration": 216,
    "start_time": "2022-04-27T09:56:36.392Z"
   },
   {
    "duration": 313,
    "start_time": "2022-04-27T09:56:36.611Z"
   },
   {
    "duration": 201,
    "start_time": "2022-04-27T09:56:36.927Z"
   },
   {
    "duration": 50,
    "start_time": "2022-04-27T09:56:37.130Z"
   },
   {
    "duration": 284,
    "start_time": "2022-04-27T09:56:37.183Z"
   },
   {
    "duration": 320,
    "start_time": "2022-04-27T09:56:37.469Z"
   },
   {
    "duration": 504,
    "start_time": "2022-04-27T09:56:37.791Z"
   },
   {
    "duration": 55,
    "start_time": "2022-04-27T09:56:38.297Z"
   },
   {
    "duration": 516,
    "start_time": "2022-04-27T09:56:38.354Z"
   },
   {
    "duration": 182,
    "start_time": "2022-04-27T09:56:38.874Z"
   },
   {
    "duration": 0,
    "start_time": "2022-04-27T09:56:39.059Z"
   },
   {
    "duration": 0,
    "start_time": "2022-04-27T09:56:39.060Z"
   },
   {
    "duration": 0,
    "start_time": "2022-04-27T09:56:39.062Z"
   },
   {
    "duration": 0,
    "start_time": "2022-04-27T09:56:39.063Z"
   },
   {
    "duration": 0,
    "start_time": "2022-04-27T09:56:39.065Z"
   },
   {
    "duration": 0,
    "start_time": "2022-04-27T09:56:39.066Z"
   },
   {
    "duration": 0,
    "start_time": "2022-04-27T09:56:39.068Z"
   },
   {
    "duration": 0,
    "start_time": "2022-04-27T09:56:39.069Z"
   },
   {
    "duration": 0,
    "start_time": "2022-04-27T09:56:39.070Z"
   },
   {
    "duration": 0,
    "start_time": "2022-04-27T09:56:39.072Z"
   },
   {
    "duration": 0,
    "start_time": "2022-04-27T09:56:39.074Z"
   },
   {
    "duration": 0,
    "start_time": "2022-04-27T09:56:39.075Z"
   },
   {
    "duration": 0,
    "start_time": "2022-04-27T09:56:39.076Z"
   },
   {
    "duration": 0,
    "start_time": "2022-04-27T09:56:39.078Z"
   },
   {
    "duration": 0,
    "start_time": "2022-04-27T09:56:39.079Z"
   },
   {
    "duration": 0,
    "start_time": "2022-04-27T09:56:39.081Z"
   },
   {
    "duration": 0,
    "start_time": "2022-04-27T09:56:39.083Z"
   },
   {
    "duration": 0,
    "start_time": "2022-04-27T09:56:39.084Z"
   },
   {
    "duration": 1001,
    "start_time": "2022-04-27T09:57:19.659Z"
   },
   {
    "duration": 966,
    "start_time": "2022-04-27T09:57:29.024Z"
   },
   {
    "duration": 23,
    "start_time": "2022-04-27T10:05:15.298Z"
   },
   {
    "duration": 95,
    "start_time": "2022-04-27T10:05:59.076Z"
   },
   {
    "duration": 37,
    "start_time": "2022-04-27T10:06:15.127Z"
   },
   {
    "duration": 495,
    "start_time": "2022-04-27T10:10:44.257Z"
   },
   {
    "duration": 504,
    "start_time": "2022-04-27T10:10:51.972Z"
   },
   {
    "duration": 309,
    "start_time": "2022-04-27T10:11:06.457Z"
   },
   {
    "duration": 306,
    "start_time": "2022-04-27T10:11:13.220Z"
   },
   {
    "duration": 278,
    "start_time": "2022-04-27T10:11:16.874Z"
   },
   {
    "duration": 274,
    "start_time": "2022-04-27T10:11:25.224Z"
   },
   {
    "duration": 27,
    "start_time": "2022-04-27T10:20:02.564Z"
   },
   {
    "duration": 99,
    "start_time": "2022-04-27T10:20:22.928Z"
   },
   {
    "duration": 156,
    "start_time": "2022-04-27T10:20:53.252Z"
   },
   {
    "duration": 73,
    "start_time": "2022-04-27T10:27:47.431Z"
   },
   {
    "duration": 4,
    "start_time": "2022-04-27T10:28:19.821Z"
   },
   {
    "duration": 794,
    "start_time": "2022-04-27T10:28:54.742Z"
   },
   {
    "duration": 160,
    "start_time": "2022-04-27T10:29:57.363Z"
   },
   {
    "duration": 431,
    "start_time": "2022-04-27T10:31:22.343Z"
   },
   {
    "duration": 3,
    "start_time": "2022-04-27T10:32:06.323Z"
   },
   {
    "duration": 6,
    "start_time": "2022-04-27T10:34:37.798Z"
   },
   {
    "duration": 4,
    "start_time": "2022-04-27T10:35:05.778Z"
   },
   {
    "duration": 877,
    "start_time": "2022-04-27T10:36:07.605Z"
   },
   {
    "duration": 33,
    "start_time": "2022-04-27T10:36:15.499Z"
   },
   {
    "duration": 14,
    "start_time": "2022-04-27T10:37:35.203Z"
   },
   {
    "duration": 127,
    "start_time": "2022-04-27T10:51:41.387Z"
   },
   {
    "duration": 92,
    "start_time": "2022-04-27T10:53:29.355Z"
   },
   {
    "duration": 8,
    "start_time": "2022-04-27T10:54:02.344Z"
   },
   {
    "duration": 27,
    "start_time": "2022-04-27T10:54:52.084Z"
   },
   {
    "duration": 17,
    "start_time": "2022-04-27T10:58:17.063Z"
   },
   {
    "duration": 234,
    "start_time": "2022-04-27T10:58:26.678Z"
   },
   {
    "duration": 20,
    "start_time": "2022-04-27T10:58:38.773Z"
   },
   {
    "duration": 9,
    "start_time": "2022-04-27T10:58:48.176Z"
   },
   {
    "duration": 2231,
    "start_time": "2022-04-27T11:00:10.793Z"
   },
   {
    "duration": 1977,
    "start_time": "2022-04-27T11:00:13.028Z"
   },
   {
    "duration": 263,
    "start_time": "2022-04-27T11:00:15.008Z"
   },
   {
    "duration": 29,
    "start_time": "2022-04-27T11:00:15.274Z"
   },
   {
    "duration": 299,
    "start_time": "2022-04-27T11:00:15.308Z"
   },
   {
    "duration": 208,
    "start_time": "2022-04-27T11:00:15.610Z"
   },
   {
    "duration": 151,
    "start_time": "2022-04-27T11:00:15.821Z"
   },
   {
    "duration": 44,
    "start_time": "2022-04-27T11:00:15.974Z"
   },
   {
    "duration": 412,
    "start_time": "2022-04-27T11:00:16.021Z"
   },
   {
    "duration": 431,
    "start_time": "2022-04-27T11:00:16.436Z"
   },
   {
    "duration": 509,
    "start_time": "2022-04-27T11:00:16.870Z"
   },
   {
    "duration": 38,
    "start_time": "2022-04-27T11:00:17.381Z"
   },
   {
    "duration": 544,
    "start_time": "2022-04-27T11:00:17.421Z"
   },
   {
    "duration": 36,
    "start_time": "2022-04-27T11:00:17.970Z"
   },
   {
    "duration": 302,
    "start_time": "2022-04-27T11:00:18.009Z"
   },
   {
    "duration": 21,
    "start_time": "2022-04-27T11:00:18.313Z"
   },
   {
    "duration": 610,
    "start_time": "2022-04-27T11:00:18.353Z"
   },
   {
    "duration": 166,
    "start_time": "2022-04-27T11:00:18.966Z"
   },
   {
    "duration": 425,
    "start_time": "2022-04-27T11:00:19.134Z"
   },
   {
    "duration": 219,
    "start_time": "2022-04-27T11:00:19.562Z"
   },
   {
    "duration": 4,
    "start_time": "2022-04-27T11:00:19.784Z"
   },
   {
    "duration": 868,
    "start_time": "2022-04-27T11:00:19.790Z"
   },
   {
    "duration": 16,
    "start_time": "2022-04-27T11:00:20.660Z"
   },
   {
    "duration": 115,
    "start_time": "2022-04-27T11:00:20.679Z"
   },
   {
    "duration": 64,
    "start_time": "2022-04-27T11:00:20.797Z"
   },
   {
    "duration": 173,
    "start_time": "2022-04-27T11:00:20.866Z"
   },
   {
    "duration": 45,
    "start_time": "2022-04-27T11:00:21.042Z"
   },
   {
    "duration": 196,
    "start_time": "2022-04-27T11:00:21.090Z"
   },
   {
    "duration": 0,
    "start_time": "2022-04-27T11:00:21.289Z"
   },
   {
    "duration": 0,
    "start_time": "2022-04-27T11:00:21.291Z"
   },
   {
    "duration": 0,
    "start_time": "2022-04-27T11:00:21.293Z"
   },
   {
    "duration": 0,
    "start_time": "2022-04-27T11:00:21.294Z"
   },
   {
    "duration": 0,
    "start_time": "2022-04-27T11:00:21.296Z"
   },
   {
    "duration": 0,
    "start_time": "2022-04-27T11:00:21.298Z"
   },
   {
    "duration": 0,
    "start_time": "2022-04-27T11:00:21.300Z"
   },
   {
    "duration": 0,
    "start_time": "2022-04-27T11:00:21.301Z"
   },
   {
    "duration": 0,
    "start_time": "2022-04-27T11:00:21.303Z"
   },
   {
    "duration": 0,
    "start_time": "2022-04-27T11:00:21.305Z"
   },
   {
    "duration": 0,
    "start_time": "2022-04-27T11:00:21.306Z"
   },
   {
    "duration": 0,
    "start_time": "2022-04-27T11:00:21.307Z"
   },
   {
    "duration": 0,
    "start_time": "2022-04-27T11:00:21.309Z"
   },
   {
    "duration": 0,
    "start_time": "2022-04-27T11:00:21.311Z"
   },
   {
    "duration": 0,
    "start_time": "2022-04-27T11:00:21.355Z"
   },
   {
    "duration": 6,
    "start_time": "2022-04-27T11:03:27.505Z"
   },
   {
    "duration": 62,
    "start_time": "2022-04-27T11:04:32.585Z"
   },
   {
    "duration": 121,
    "start_time": "2022-04-27T11:07:19.040Z"
   },
   {
    "duration": 107,
    "start_time": "2022-04-27T11:07:50.627Z"
   },
   {
    "duration": 56468,
    "start_time": "2022-04-27T11:09:24.488Z"
   },
   {
    "duration": 767,
    "start_time": "2022-04-27T11:10:34.420Z"
   },
   {
    "duration": 45,
    "start_time": "2022-04-27T11:10:45.310Z"
   },
   {
    "duration": 3480,
    "start_time": "2022-04-27T11:11:02.098Z"
   },
   {
    "duration": 19133,
    "start_time": "2022-04-27T11:11:27.383Z"
   },
   {
    "duration": 9,
    "start_time": "2022-04-27T11:11:52.878Z"
   },
   {
    "duration": 447766,
    "start_time": "2022-04-27T11:12:02.307Z"
   },
   {
    "duration": 132,
    "start_time": "2022-04-27T11:19:30.083Z"
   },
   {
    "duration": 902,
    "start_time": "2022-04-27T11:22:49.556Z"
   },
   {
    "duration": 1988021,
    "start_time": "2022-04-27T11:23:01.606Z"
   },
   {
    "duration": 123,
    "start_time": "2022-04-27T11:56:49.899Z"
   },
   {
    "duration": 4,
    "start_time": "2022-04-27T11:56:54.954Z"
   },
   {
    "duration": 12,
    "start_time": "2022-04-27T11:56:58.069Z"
   },
   {
    "duration": 4,
    "start_time": "2022-04-27T11:57:05.094Z"
   },
   {
    "duration": 4,
    "start_time": "2022-04-27T11:57:08.420Z"
   },
   {
    "duration": 4,
    "start_time": "2022-04-27T11:57:11.982Z"
   },
   {
    "duration": 68,
    "start_time": "2022-04-27T11:57:14.609Z"
   },
   {
    "duration": 42431,
    "start_time": "2022-04-27T11:57:34.844Z"
   },
   {
    "duration": 512,
    "start_time": "2022-04-27T11:58:32.725Z"
   },
   {
    "duration": 497,
    "start_time": "2022-04-27T11:58:42.358Z"
   },
   {
    "duration": 499,
    "start_time": "2022-04-27T11:58:48.073Z"
   },
   {
    "duration": 398506,
    "start_time": "2022-04-27T11:59:03.473Z"
   },
   {
    "duration": 14,
    "start_time": "2022-04-27T12:17:16.582Z"
   },
   {
    "duration": 2447,
    "start_time": "2022-04-27T12:17:46.024Z"
   },
   {
    "duration": 1389,
    "start_time": "2022-04-27T12:17:48.474Z"
   },
   {
    "duration": 167,
    "start_time": "2022-04-27T12:17:49.866Z"
   },
   {
    "duration": 44,
    "start_time": "2022-04-27T12:17:50.037Z"
   },
   {
    "duration": 210,
    "start_time": "2022-04-27T12:17:50.084Z"
   },
   {
    "duration": 204,
    "start_time": "2022-04-27T12:17:50.296Z"
   },
   {
    "duration": 132,
    "start_time": "2022-04-27T12:17:50.502Z"
   },
   {
    "duration": 54,
    "start_time": "2022-04-27T12:17:50.636Z"
   },
   {
    "duration": 398,
    "start_time": "2022-04-27T12:17:50.692Z"
   },
   {
    "duration": 435,
    "start_time": "2022-04-27T12:17:51.096Z"
   },
   {
    "duration": 537,
    "start_time": "2022-04-27T12:17:51.533Z"
   },
   {
    "duration": 38,
    "start_time": "2022-04-27T12:17:52.074Z"
   },
   {
    "duration": 561,
    "start_time": "2022-04-27T12:17:52.114Z"
   },
   {
    "duration": 39,
    "start_time": "2022-04-27T12:17:52.676Z"
   },
   {
    "duration": 312,
    "start_time": "2022-04-27T12:17:52.718Z"
   },
   {
    "duration": 36,
    "start_time": "2022-04-27T12:17:53.032Z"
   },
   {
    "duration": 741,
    "start_time": "2022-04-27T12:17:53.071Z"
   },
   {
    "duration": 177,
    "start_time": "2022-04-27T12:17:53.814Z"
   },
   {
    "duration": 463,
    "start_time": "2022-04-27T12:17:53.994Z"
   },
   {
    "duration": 237,
    "start_time": "2022-04-27T12:17:54.459Z"
   },
   {
    "duration": 4,
    "start_time": "2022-04-27T12:17:54.698Z"
   },
   {
    "duration": 813,
    "start_time": "2022-04-27T12:17:54.704Z"
   },
   {
    "duration": 15,
    "start_time": "2022-04-27T12:17:55.519Z"
   },
   {
    "duration": 82,
    "start_time": "2022-04-27T12:17:55.536Z"
   },
   {
    "duration": 196,
    "start_time": "2022-04-27T12:17:55.620Z"
   },
   {
    "duration": 7,
    "start_time": "2022-04-27T12:17:55.819Z"
   },
   {
    "duration": 76,
    "start_time": "2022-04-27T12:17:55.830Z"
   },
   {
    "duration": 54354,
    "start_time": "2022-04-27T12:17:55.913Z"
   },
   {
    "duration": 863,
    "start_time": "2022-04-27T12:18:50.271Z"
   },
   {
    "duration": 41,
    "start_time": "2022-04-27T12:18:51.136Z"
   },
   {
    "duration": 19923,
    "start_time": "2022-04-27T12:18:51.180Z"
   },
   {
    "duration": 6,
    "start_time": "2022-04-27T12:19:11.105Z"
   },
   {
    "duration": 444549,
    "start_time": "2022-04-27T12:19:11.113Z"
   },
   {
    "duration": 899,
    "start_time": "2022-04-27T12:26:35.668Z"
   },
   {
    "duration": 3,
    "start_time": "2022-04-27T12:26:36.570Z"
   },
   {
    "duration": 16,
    "start_time": "2022-04-27T12:26:36.576Z"
   },
   {
    "duration": 17,
    "start_time": "2022-04-27T12:26:36.594Z"
   },
   {
    "duration": 7,
    "start_time": "2022-04-27T12:26:36.614Z"
   },
   {
    "duration": 33941,
    "start_time": "2022-04-27T12:26:36.624Z"
   },
   {
    "duration": 765,
    "start_time": "2022-04-27T12:27:10.569Z"
   },
   {
    "duration": 526357,
    "start_time": "2022-04-27T12:27:11.336Z"
   },
   {
    "duration": 16,
    "start_time": "2022-04-27T12:35:57.697Z"
   },
   {
    "duration": 50,
    "start_time": "2022-04-27T12:35:57.715Z"
   },
   {
    "duration": 2302,
    "start_time": "2022-04-27T12:39:50.425Z"
   },
   {
    "duration": 2078,
    "start_time": "2022-04-27T12:39:52.731Z"
   },
   {
    "duration": 223,
    "start_time": "2022-04-27T12:39:54.811Z"
   },
   {
    "duration": 40,
    "start_time": "2022-04-27T12:39:55.038Z"
   },
   {
    "duration": 190,
    "start_time": "2022-04-27T12:39:55.080Z"
   },
   {
    "duration": 197,
    "start_time": "2022-04-27T12:39:55.272Z"
   },
   {
    "duration": 130,
    "start_time": "2022-04-27T12:39:55.471Z"
   },
   {
    "duration": 57,
    "start_time": "2022-04-27T12:39:55.604Z"
   },
   {
    "duration": 269,
    "start_time": "2022-04-27T12:39:55.663Z"
   },
   {
    "duration": 326,
    "start_time": "2022-04-27T12:39:55.938Z"
   },
   {
    "duration": 810,
    "start_time": "2022-04-27T12:39:56.267Z"
   },
   {
    "duration": 73,
    "start_time": "2022-04-27T12:39:57.080Z"
   },
   {
    "duration": 888,
    "start_time": "2022-04-27T12:39:57.156Z"
   },
   {
    "duration": 39,
    "start_time": "2022-04-27T12:39:58.051Z"
   },
   {
    "duration": 297,
    "start_time": "2022-04-27T12:39:58.093Z"
   },
   {
    "duration": 36,
    "start_time": "2022-04-27T12:39:58.392Z"
   },
   {
    "duration": 617,
    "start_time": "2022-04-27T12:39:58.430Z"
   },
   {
    "duration": 164,
    "start_time": "2022-04-27T12:39:59.052Z"
   },
   {
    "duration": 784,
    "start_time": "2022-04-27T12:39:59.218Z"
   },
   {
    "duration": 357,
    "start_time": "2022-04-27T12:40:00.005Z"
   },
   {
    "duration": 4,
    "start_time": "2022-04-27T12:40:00.365Z"
   },
   {
    "duration": 808,
    "start_time": "2022-04-27T12:40:00.373Z"
   },
   {
    "duration": 14,
    "start_time": "2022-04-27T12:40:01.183Z"
   },
   {
    "duration": 85,
    "start_time": "2022-04-27T12:40:01.200Z"
   },
   {
    "duration": 193,
    "start_time": "2022-04-27T12:40:01.288Z"
   },
   {
    "duration": 7,
    "start_time": "2022-04-27T12:40:01.483Z"
   },
   {
    "duration": 75,
    "start_time": "2022-04-27T12:40:01.493Z"
   },
   {
    "duration": 37197,
    "start_time": "2022-04-27T12:40:01.574Z"
   },
   {
    "duration": 863,
    "start_time": "2022-04-27T12:40:38.782Z"
   },
   {
    "duration": 44,
    "start_time": "2022-04-27T12:40:39.651Z"
   },
   {
    "duration": 17542,
    "start_time": "2022-04-27T12:40:39.698Z"
   },
   {
    "duration": 8,
    "start_time": "2022-04-27T12:40:57.251Z"
   },
   {
    "duration": 402339,
    "start_time": "2022-04-27T12:40:57.261Z"
   },
   {
    "duration": 0,
    "start_time": "2022-04-27T12:47:39.602Z"
   },
   {
    "duration": 0,
    "start_time": "2022-04-27T12:47:39.605Z"
   },
   {
    "duration": 0,
    "start_time": "2022-04-27T12:47:39.607Z"
   },
   {
    "duration": 0,
    "start_time": "2022-04-27T12:47:39.609Z"
   },
   {
    "duration": 0,
    "start_time": "2022-04-27T12:47:39.611Z"
   },
   {
    "duration": 0,
    "start_time": "2022-04-27T12:47:39.612Z"
   },
   {
    "duration": 0,
    "start_time": "2022-04-27T12:47:39.613Z"
   },
   {
    "duration": 0,
    "start_time": "2022-04-27T12:47:39.615Z"
   },
   {
    "duration": 0,
    "start_time": "2022-04-27T12:47:39.617Z"
   },
   {
    "duration": 0,
    "start_time": "2022-04-27T12:47:39.619Z"
   },
   {
    "duration": 57,
    "start_time": "2022-04-27T12:53:25.138Z"
   },
   {
    "duration": 2619,
    "start_time": "2022-04-27T12:53:32.053Z"
   },
   {
    "duration": 113,
    "start_time": "2022-04-27T12:53:37.426Z"
   },
   {
    "duration": 24,
    "start_time": "2022-04-27T12:53:40.153Z"
   },
   {
    "duration": 45,
    "start_time": "2022-04-27T12:53:43.872Z"
   },
   {
    "duration": 2718,
    "start_time": "2022-04-27T12:53:48.680Z"
   },
   {
    "duration": 11,
    "start_time": "2022-04-27T12:53:52.894Z"
   },
   {
    "duration": 140,
    "start_time": "2022-04-27T12:53:59.866Z"
   },
   {
    "duration": 20,
    "start_time": "2022-04-27T12:54:03.559Z"
   },
   {
    "duration": 26,
    "start_time": "2022-04-27T12:54:10.972Z"
   },
   {
    "duration": 29,
    "start_time": "2022-04-27T12:54:18.333Z"
   },
   {
    "duration": 20,
    "start_time": "2022-04-27T12:54:24.325Z"
   },
   {
    "duration": 14,
    "start_time": "2022-04-27T12:54:26.732Z"
   },
   {
    "duration": 43,
    "start_time": "2022-04-27T12:54:40.192Z"
   },
   {
    "duration": 189,
    "start_time": "2022-04-27T12:55:18.579Z"
   },
   {
    "duration": 122,
    "start_time": "2022-04-27T12:55:31.095Z"
   },
   {
    "duration": 176,
    "start_time": "2022-04-27T13:04:53.603Z"
   },
   {
    "duration": 427542,
    "start_time": "2022-04-27T13:05:08.321Z"
   },
   {
    "duration": 855,
    "start_time": "2022-04-27T13:12:31.622Z"
   },
   {
    "duration": 4,
    "start_time": "2022-04-27T13:12:52.245Z"
   },
   {
    "duration": 4,
    "start_time": "2022-04-27T13:12:53.640Z"
   },
   {
    "duration": 47673,
    "start_time": "2022-04-27T13:12:58.502Z"
   },
   {
    "duration": 7,
    "start_time": "2022-04-27T13:14:37.248Z"
   },
   {
    "duration": 2336,
    "start_time": "2022-04-27T13:15:50.890Z"
   },
   {
    "duration": 3442,
    "start_time": "2022-04-27T13:15:53.230Z"
   },
   {
    "duration": 157,
    "start_time": "2022-04-27T13:15:56.675Z"
   },
   {
    "duration": 38,
    "start_time": "2022-04-27T13:15:56.835Z"
   },
   {
    "duration": 202,
    "start_time": "2022-04-27T13:15:56.876Z"
   },
   {
    "duration": 200,
    "start_time": "2022-04-27T13:15:57.080Z"
   },
   {
    "duration": 128,
    "start_time": "2022-04-27T13:15:57.282Z"
   },
   {
    "duration": 52,
    "start_time": "2022-04-27T13:15:57.412Z"
   },
   {
    "duration": 294,
    "start_time": "2022-04-27T13:15:57.470Z"
   },
   {
    "duration": 321,
    "start_time": "2022-04-27T13:15:57.767Z"
   },
   {
    "duration": 518,
    "start_time": "2022-04-27T13:15:58.090Z"
   },
   {
    "duration": 48,
    "start_time": "2022-04-27T13:15:58.611Z"
   },
   {
    "duration": 716,
    "start_time": "2022-04-27T13:15:58.661Z"
   },
   {
    "duration": 41,
    "start_time": "2022-04-27T13:15:59.383Z"
   },
   {
    "duration": 313,
    "start_time": "2022-04-27T13:15:59.426Z"
   },
   {
    "duration": 63,
    "start_time": "2022-04-27T13:15:59.741Z"
   },
   {
    "duration": 1553,
    "start_time": "2022-04-27T13:15:59.808Z"
   },
   {
    "duration": 182,
    "start_time": "2022-04-27T13:16:01.364Z"
   },
   {
    "duration": 448,
    "start_time": "2022-04-27T13:16:01.548Z"
   },
   {
    "duration": 320,
    "start_time": "2022-04-27T13:16:01.999Z"
   },
   {
    "duration": 4,
    "start_time": "2022-04-27T13:16:02.322Z"
   },
   {
    "duration": 879,
    "start_time": "2022-04-27T13:16:02.328Z"
   },
   {
    "duration": 14,
    "start_time": "2022-04-27T13:16:03.210Z"
   },
   {
    "duration": 105,
    "start_time": "2022-04-27T13:16:03.227Z"
   },
   {
    "duration": 236,
    "start_time": "2022-04-27T13:16:03.335Z"
   },
   {
    "duration": 9,
    "start_time": "2022-04-27T13:16:03.574Z"
   },
   {
    "duration": 75,
    "start_time": "2022-04-27T13:16:03.586Z"
   },
   {
    "duration": 38002,
    "start_time": "2022-04-27T13:16:03.666Z"
   },
   {
    "duration": 852,
    "start_time": "2022-04-27T13:16:41.671Z"
   },
   {
    "duration": 51,
    "start_time": "2022-04-27T13:16:42.528Z"
   },
   {
    "duration": 18954,
    "start_time": "2022-04-27T13:16:42.581Z"
   },
   {
    "duration": 24,
    "start_time": "2022-04-27T13:17:01.538Z"
   },
   {
    "duration": 437989,
    "start_time": "2022-04-27T13:17:01.565Z"
   },
   {
    "duration": 901,
    "start_time": "2022-04-27T13:24:19.556Z"
   },
   {
    "duration": 9,
    "start_time": "2022-04-27T13:24:20.466Z"
   },
   {
    "duration": 31,
    "start_time": "2022-04-27T13:24:20.478Z"
   },
   {
    "duration": 8,
    "start_time": "2022-04-27T13:24:20.512Z"
   },
   {
    "duration": 7,
    "start_time": "2022-04-27T13:24:20.523Z"
   },
   {
    "duration": 37537,
    "start_time": "2022-04-27T13:24:20.533Z"
   },
   {
    "duration": 588,
    "start_time": "2022-04-27T13:24:58.073Z"
   },
   {
    "duration": 524341,
    "start_time": "2022-04-27T13:24:58.667Z"
   },
   {
    "duration": 51,
    "start_time": "2022-04-27T13:33:43.010Z"
   },
   {
    "duration": 23,
    "start_time": "2022-04-27T13:33:43.064Z"
   },
   {
    "duration": 3309,
    "start_time": "2022-04-27T21:16:35.029Z"
   },
   {
    "duration": 1940,
    "start_time": "2022-04-27T21:16:38.343Z"
   },
   {
    "duration": 254,
    "start_time": "2022-04-27T21:16:40.292Z"
   },
   {
    "duration": 47,
    "start_time": "2022-04-27T21:16:40.550Z"
   },
   {
    "duration": 199,
    "start_time": "2022-04-27T21:16:40.600Z"
   },
   {
    "duration": 199,
    "start_time": "2022-04-27T21:16:40.801Z"
   },
   {
    "duration": 131,
    "start_time": "2022-04-27T21:16:41.003Z"
   },
   {
    "duration": 57,
    "start_time": "2022-04-27T21:16:41.136Z"
   },
   {
    "duration": 375,
    "start_time": "2022-04-27T21:16:41.196Z"
   },
   {
    "duration": 415,
    "start_time": "2022-04-27T21:16:41.576Z"
   },
   {
    "duration": 494,
    "start_time": "2022-04-27T21:16:41.994Z"
   },
   {
    "duration": 42,
    "start_time": "2022-04-27T21:16:42.494Z"
   },
   {
    "duration": 514,
    "start_time": "2022-04-27T21:16:42.539Z"
   },
   {
    "duration": 58,
    "start_time": "2022-04-27T21:16:43.057Z"
   },
   {
    "duration": 380,
    "start_time": "2022-04-27T21:16:43.117Z"
   },
   {
    "duration": 50,
    "start_time": "2022-04-27T21:16:43.500Z"
   },
   {
    "duration": 1280,
    "start_time": "2022-04-27T21:16:43.553Z"
   },
   {
    "duration": 185,
    "start_time": "2022-04-27T21:16:44.836Z"
   },
   {
    "duration": 778,
    "start_time": "2022-04-27T21:16:45.024Z"
   },
   {
    "duration": 213,
    "start_time": "2022-04-27T21:16:45.805Z"
   },
   {
    "duration": 5,
    "start_time": "2022-04-27T21:16:46.020Z"
   },
   {
    "duration": 1144,
    "start_time": "2022-04-27T21:16:46.027Z"
   },
   {
    "duration": 23,
    "start_time": "2022-04-27T21:16:47.174Z"
   },
   {
    "duration": 66,
    "start_time": "2022-04-27T21:16:47.200Z"
   },
   {
    "duration": 265,
    "start_time": "2022-04-27T21:16:47.269Z"
   },
   {
    "duration": 7,
    "start_time": "2022-04-27T21:16:47.538Z"
   },
   {
    "duration": 76,
    "start_time": "2022-04-27T21:16:47.548Z"
   },
   {
    "duration": 197,
    "start_time": "2022-04-27T21:16:47.632Z"
   },
   {
    "duration": 20664,
    "start_time": "2022-04-27T21:16:47.833Z"
   },
   {
    "duration": 744,
    "start_time": "2022-04-27T21:17:08.501Z"
   },
   {
    "duration": 46,
    "start_time": "2022-04-27T21:17:09.247Z"
   },
   {
    "duration": 15310,
    "start_time": "2022-04-27T21:17:09.296Z"
   },
   {
    "duration": 5,
    "start_time": "2022-04-27T21:17:24.609Z"
   },
   {
    "duration": 360549,
    "start_time": "2022-04-27T21:17:24.617Z"
   },
   {
    "duration": 0,
    "start_time": "2022-04-27T21:23:25.170Z"
   },
   {
    "duration": 0,
    "start_time": "2022-04-27T21:23:25.173Z"
   },
   {
    "duration": 0,
    "start_time": "2022-04-27T21:23:25.175Z"
   },
   {
    "duration": 0,
    "start_time": "2022-04-27T21:23:25.176Z"
   },
   {
    "duration": 0,
    "start_time": "2022-04-27T21:23:25.194Z"
   },
   {
    "duration": 0,
    "start_time": "2022-04-27T21:23:25.195Z"
   },
   {
    "duration": 0,
    "start_time": "2022-04-27T21:23:25.197Z"
   },
   {
    "duration": 0,
    "start_time": "2022-04-27T21:23:25.199Z"
   },
   {
    "duration": 0,
    "start_time": "2022-04-27T21:23:25.200Z"
   },
   {
    "duration": 0,
    "start_time": "2022-04-27T21:23:25.202Z"
   },
   {
    "duration": 0,
    "start_time": "2022-04-27T21:23:25.209Z"
   },
   {
    "duration": 17,
    "start_time": "2022-04-27T21:23:29.694Z"
   },
   {
    "duration": 20,
    "start_time": "2022-04-27T21:23:43.597Z"
   },
   {
    "duration": 3093,
    "start_time": "2022-04-27T21:28:42.970Z"
   },
   {
    "duration": 3233,
    "start_time": "2022-04-27T21:28:59.247Z"
   },
   {
    "duration": 2136,
    "start_time": "2022-04-27T21:46:54.451Z"
   },
   {
    "duration": 1221,
    "start_time": "2022-04-27T21:46:56.590Z"
   },
   {
    "duration": 152,
    "start_time": "2022-04-27T21:46:57.814Z"
   },
   {
    "duration": 34,
    "start_time": "2022-04-27T21:46:57.970Z"
   },
   {
    "duration": 190,
    "start_time": "2022-04-27T21:46:58.006Z"
   },
   {
    "duration": 202,
    "start_time": "2022-04-27T21:46:58.199Z"
   },
   {
    "duration": 132,
    "start_time": "2022-04-27T21:46:58.404Z"
   },
   {
    "duration": 55,
    "start_time": "2022-04-27T21:46:58.539Z"
   },
   {
    "duration": 269,
    "start_time": "2022-04-27T21:46:58.597Z"
   },
   {
    "duration": 298,
    "start_time": "2022-04-27T21:46:58.872Z"
   },
   {
    "duration": 480,
    "start_time": "2022-04-27T21:46:59.173Z"
   },
   {
    "duration": 50,
    "start_time": "2022-04-27T21:46:59.656Z"
   },
   {
    "duration": 496,
    "start_time": "2022-04-27T21:46:59.709Z"
   },
   {
    "duration": 39,
    "start_time": "2022-04-27T21:47:00.208Z"
   },
   {
    "duration": 308,
    "start_time": "2022-04-27T21:47:00.249Z"
   },
   {
    "duration": 41,
    "start_time": "2022-04-27T21:47:00.560Z"
   },
   {
    "duration": 1038,
    "start_time": "2022-04-27T21:47:00.604Z"
   },
   {
    "duration": 274,
    "start_time": "2022-04-27T21:47:01.644Z"
   },
   {
    "duration": 413,
    "start_time": "2022-04-27T21:47:01.920Z"
   },
   {
    "duration": 215,
    "start_time": "2022-04-27T21:47:02.335Z"
   },
   {
    "duration": 4,
    "start_time": "2022-04-27T21:47:02.552Z"
   },
   {
    "duration": 705,
    "start_time": "2022-04-27T21:47:02.558Z"
   },
   {
    "duration": 14,
    "start_time": "2022-04-27T21:47:03.265Z"
   },
   {
    "duration": 62,
    "start_time": "2022-04-27T21:47:03.293Z"
   },
   {
    "duration": 263,
    "start_time": "2022-04-27T21:47:03.357Z"
   },
   {
    "duration": 10,
    "start_time": "2022-04-27T21:47:03.622Z"
   },
   {
    "duration": 70,
    "start_time": "2022-04-27T21:47:03.634Z"
   },
   {
    "duration": 131,
    "start_time": "2022-04-27T21:47:03.709Z"
   },
   {
    "duration": 24253,
    "start_time": "2022-04-27T21:47:03.842Z"
   },
   {
    "duration": 754,
    "start_time": "2022-04-27T21:47:28.099Z"
   },
   {
    "duration": 47,
    "start_time": "2022-04-27T21:47:28.855Z"
   },
   {
    "duration": 22869,
    "start_time": "2022-04-27T21:47:28.906Z"
   },
   {
    "duration": 15,
    "start_time": "2022-04-27T21:47:51.778Z"
   },
   {
    "duration": 184811,
    "start_time": "2022-04-27T21:47:51.795Z"
   },
   {
    "duration": 931,
    "start_time": "2022-04-27T21:50:56.609Z"
   },
   {
    "duration": 3,
    "start_time": "2022-04-27T21:50:57.543Z"
   },
   {
    "duration": 9,
    "start_time": "2022-04-27T21:50:57.548Z"
   },
   {
    "duration": 34,
    "start_time": "2022-04-27T21:50:57.559Z"
   },
   {
    "duration": 9,
    "start_time": "2022-04-27T21:50:57.595Z"
   },
   {
    "duration": 23791,
    "start_time": "2022-04-27T21:50:57.607Z"
   },
   {
    "duration": 200,
    "start_time": "2022-04-27T21:51:21.401Z"
   },
   {
    "duration": 519,
    "start_time": "2022-04-27T21:51:21.692Z"
   },
   {
    "duration": 19,
    "start_time": "2022-04-27T21:51:22.214Z"
   },
   {
    "duration": 298943,
    "start_time": "2022-04-27T21:51:22.235Z"
   },
   {
    "duration": 0,
    "start_time": "2022-04-27T21:56:21.180Z"
   },
   {
    "duration": 0,
    "start_time": "2022-04-27T21:56:21.182Z"
   },
   {
    "duration": 0,
    "start_time": "2022-04-27T21:56:21.183Z"
   },
   {
    "duration": 0,
    "start_time": "2022-04-27T21:56:21.193Z"
   },
   {
    "duration": 2111,
    "start_time": "2022-04-27T21:56:32.415Z"
   },
   {
    "duration": 1313,
    "start_time": "2022-04-27T21:56:34.528Z"
   },
   {
    "duration": 155,
    "start_time": "2022-04-27T21:56:35.844Z"
   },
   {
    "duration": 27,
    "start_time": "2022-04-27T21:56:36.002Z"
   },
   {
    "duration": 214,
    "start_time": "2022-04-27T21:56:36.031Z"
   },
   {
    "duration": 214,
    "start_time": "2022-04-27T21:56:36.247Z"
   },
   {
    "duration": 136,
    "start_time": "2022-04-27T21:56:36.463Z"
   },
   {
    "duration": 48,
    "start_time": "2022-04-27T21:56:36.602Z"
   },
   {
    "duration": 282,
    "start_time": "2022-04-27T21:56:36.653Z"
   },
   {
    "duration": 308,
    "start_time": "2022-04-27T21:56:36.939Z"
   },
   {
    "duration": 504,
    "start_time": "2022-04-27T21:56:37.249Z"
   },
   {
    "duration": 47,
    "start_time": "2022-04-27T21:56:37.756Z"
   },
   {
    "duration": 502,
    "start_time": "2022-04-27T21:56:37.805Z"
   },
   {
    "duration": 37,
    "start_time": "2022-04-27T21:56:38.309Z"
   },
   {
    "duration": 292,
    "start_time": "2022-04-27T21:56:38.349Z"
   },
   {
    "duration": 22,
    "start_time": "2022-04-27T21:56:38.643Z"
   },
   {
    "duration": 643,
    "start_time": "2022-04-27T21:56:38.667Z"
   },
   {
    "duration": 169,
    "start_time": "2022-04-27T21:56:39.312Z"
   },
   {
    "duration": 420,
    "start_time": "2022-04-27T21:56:39.483Z"
   },
   {
    "duration": 227,
    "start_time": "2022-04-27T21:56:39.905Z"
   },
   {
    "duration": 4,
    "start_time": "2022-04-27T21:56:40.134Z"
   },
   {
    "duration": 688,
    "start_time": "2022-04-27T21:56:40.140Z"
   },
   {
    "duration": 14,
    "start_time": "2022-04-27T21:56:40.831Z"
   },
   {
    "duration": 104,
    "start_time": "2022-04-27T21:56:40.847Z"
   },
   {
    "duration": 265,
    "start_time": "2022-04-27T21:56:40.954Z"
   },
   {
    "duration": 8,
    "start_time": "2022-04-27T21:56:41.222Z"
   },
   {
    "duration": 70,
    "start_time": "2022-04-27T21:56:41.233Z"
   },
   {
    "duration": 127,
    "start_time": "2022-04-27T21:56:41.309Z"
   },
   {
    "duration": 20154,
    "start_time": "2022-04-27T21:56:41.439Z"
   },
   {
    "duration": 753,
    "start_time": "2022-04-27T21:57:01.596Z"
   },
   {
    "duration": 45,
    "start_time": "2022-04-27T21:57:02.352Z"
   },
   {
    "duration": 23627,
    "start_time": "2022-04-27T21:57:02.399Z"
   },
   {
    "duration": 6,
    "start_time": "2022-04-27T21:57:26.029Z"
   },
   {
    "duration": 525065,
    "start_time": "2022-04-27T21:57:26.037Z"
   },
   {
    "duration": 889,
    "start_time": "2022-04-27T22:06:11.105Z"
   },
   {
    "duration": 4,
    "start_time": "2022-04-27T22:06:11.996Z"
   },
   {
    "duration": 23,
    "start_time": "2022-04-27T22:06:12.002Z"
   },
   {
    "duration": 19,
    "start_time": "2022-04-27T22:06:12.027Z"
   },
   {
    "duration": 11,
    "start_time": "2022-04-27T22:06:12.048Z"
   },
   {
    "duration": 24232,
    "start_time": "2022-04-27T22:06:12.062Z"
   },
   {
    "duration": 206,
    "start_time": "2022-04-27T22:06:36.296Z"
   },
   {
    "duration": 677,
    "start_time": "2022-04-27T22:06:36.594Z"
   },
   {
    "duration": 33,
    "start_time": "2022-04-27T22:06:37.274Z"
   },
   {
    "duration": 115495,
    "start_time": "2022-04-27T22:06:37.309Z"
   },
   {
    "duration": 242,
    "start_time": "2022-04-27T22:08:32.806Z"
   },
   {
    "duration": 0,
    "start_time": "2022-04-27T22:08:33.052Z"
   },
   {
    "duration": 0,
    "start_time": "2022-04-27T22:08:33.054Z"
   },
   {
    "duration": 0,
    "start_time": "2022-04-27T22:08:33.056Z"
   },
   {
    "duration": 1073,
    "start_time": "2022-04-27T22:30:33.121Z"
   },
   {
    "duration": 27,
    "start_time": "2022-04-27T22:30:37.372Z"
   },
   {
    "duration": 6,
    "start_time": "2022-04-27T22:31:05.130Z"
   },
   {
    "duration": 217,
    "start_time": "2022-04-27T22:32:24.851Z"
   },
   {
    "duration": 2203,
    "start_time": "2022-04-27T22:32:33.764Z"
   },
   {
    "duration": 1268,
    "start_time": "2022-04-27T22:32:35.970Z"
   },
   {
    "duration": 151,
    "start_time": "2022-04-27T22:32:37.240Z"
   },
   {
    "duration": 25,
    "start_time": "2022-04-27T22:32:37.395Z"
   },
   {
    "duration": 207,
    "start_time": "2022-04-27T22:32:37.422Z"
   },
   {
    "duration": 204,
    "start_time": "2022-04-27T22:32:37.631Z"
   },
   {
    "duration": 131,
    "start_time": "2022-04-27T22:32:37.838Z"
   },
   {
    "duration": 57,
    "start_time": "2022-04-27T22:32:37.971Z"
   },
   {
    "duration": 277,
    "start_time": "2022-04-27T22:32:38.030Z"
   },
   {
    "duration": 312,
    "start_time": "2022-04-27T22:32:38.311Z"
   },
   {
    "duration": 493,
    "start_time": "2022-04-27T22:32:38.625Z"
   },
   {
    "duration": 41,
    "start_time": "2022-04-27T22:32:39.120Z"
   },
   {
    "duration": 492,
    "start_time": "2022-04-27T22:32:39.164Z"
   },
   {
    "duration": 56,
    "start_time": "2022-04-27T22:32:39.658Z"
   },
   {
    "duration": 266,
    "start_time": "2022-04-27T22:32:39.717Z"
   },
   {
    "duration": 46,
    "start_time": "2022-04-27T22:32:39.985Z"
   },
   {
    "duration": 716,
    "start_time": "2022-04-27T22:32:40.033Z"
   },
   {
    "duration": 171,
    "start_time": "2022-04-27T22:32:40.751Z"
   },
   {
    "duration": 529,
    "start_time": "2022-04-27T22:32:40.924Z"
   },
   {
    "duration": 222,
    "start_time": "2022-04-27T22:32:41.455Z"
   },
   {
    "duration": 4,
    "start_time": "2022-04-27T22:32:41.679Z"
   },
   {
    "duration": 674,
    "start_time": "2022-04-27T22:32:41.693Z"
   },
   {
    "duration": 14,
    "start_time": "2022-04-27T22:32:42.369Z"
   },
   {
    "duration": 63,
    "start_time": "2022-04-27T22:32:42.394Z"
   },
   {
    "duration": 196,
    "start_time": "2022-04-27T22:32:42.459Z"
   },
   {
    "duration": 6,
    "start_time": "2022-04-27T22:32:42.658Z"
   },
   {
    "duration": 64,
    "start_time": "2022-04-27T22:32:42.666Z"
   },
   {
    "duration": 125,
    "start_time": "2022-04-27T22:32:42.735Z"
   },
   {
    "duration": 24335,
    "start_time": "2022-04-27T22:32:42.863Z"
   },
   {
    "duration": 754,
    "start_time": "2022-04-27T22:33:07.202Z"
   },
   {
    "duration": 45,
    "start_time": "2022-04-27T22:33:07.958Z"
   },
   {
    "duration": 15425,
    "start_time": "2022-04-27T22:33:08.005Z"
   },
   {
    "duration": 5,
    "start_time": "2022-04-27T22:33:23.432Z"
   },
   {
    "duration": 551981,
    "start_time": "2022-04-27T22:33:23.440Z"
   },
   {
    "duration": 1016,
    "start_time": "2022-04-27T22:42:35.423Z"
   },
   {
    "duration": 3,
    "start_time": "2022-04-27T22:42:36.442Z"
   },
   {
    "duration": 3,
    "start_time": "2022-04-27T22:42:36.493Z"
   },
   {
    "duration": 12,
    "start_time": "2022-04-27T22:42:36.499Z"
   },
   {
    "duration": 11,
    "start_time": "2022-04-27T22:42:36.513Z"
   },
   {
    "duration": 28073,
    "start_time": "2022-04-27T22:42:36.526Z"
   },
   {
    "duration": 290,
    "start_time": "2022-04-27T22:43:04.603Z"
   },
   {
    "duration": 548,
    "start_time": "2022-04-27T22:43:04.897Z"
   },
   {
    "duration": 20,
    "start_time": "2022-04-27T22:43:05.447Z"
   },
   {
    "duration": 412353,
    "start_time": "2022-04-27T22:43:05.469Z"
   },
   {
    "duration": 1191,
    "start_time": "2022-04-27T22:49:57.824Z"
   },
   {
    "duration": 5,
    "start_time": "2022-04-27T22:49:59.018Z"
   },
   {
    "duration": 3282,
    "start_time": "2022-04-27T22:49:59.026Z"
   },
   {
    "duration": 173,
    "start_time": "2022-04-27T22:50:02.310Z"
   },
   {
    "duration": 14,
    "start_time": "2022-04-27T22:50:14.645Z"
   },
   {
    "duration": 11,
    "start_time": "2022-04-27T22:50:44.366Z"
   },
   {
    "duration": 1492,
    "start_time": "2022-06-02T07:55:04.609Z"
   },
   {
    "duration": 1334,
    "start_time": "2022-06-02T07:55:06.103Z"
   },
   {
    "duration": 90,
    "start_time": "2022-06-02T07:55:07.439Z"
   },
   {
    "duration": 20,
    "start_time": "2022-06-02T07:55:07.531Z"
   },
   {
    "duration": 142,
    "start_time": "2022-06-02T07:55:07.553Z"
   },
   {
    "duration": 143,
    "start_time": "2022-06-02T07:55:07.697Z"
   },
   {
    "duration": 87,
    "start_time": "2022-06-02T07:55:07.842Z"
   },
   {
    "duration": 33,
    "start_time": "2022-06-02T07:55:07.931Z"
   },
   {
    "duration": 188,
    "start_time": "2022-06-02T07:55:07.966Z"
   },
   {
    "duration": 188,
    "start_time": "2022-06-02T07:55:08.155Z"
   },
   {
    "duration": 352,
    "start_time": "2022-06-02T07:55:08.345Z"
   },
   {
    "duration": 38,
    "start_time": "2022-06-02T07:55:08.698Z"
   },
   {
    "duration": 348,
    "start_time": "2022-06-02T07:55:08.738Z"
   },
   {
    "duration": 36,
    "start_time": "2022-06-02T07:55:09.090Z"
   },
   {
    "duration": 201,
    "start_time": "2022-06-02T07:55:09.128Z"
   },
   {
    "duration": 30,
    "start_time": "2022-06-02T07:55:09.331Z"
   },
   {
    "duration": 592,
    "start_time": "2022-06-02T07:55:09.362Z"
   },
   {
    "duration": 174,
    "start_time": "2022-06-02T07:55:09.956Z"
   },
   {
    "duration": 355,
    "start_time": "2022-06-02T07:55:10.132Z"
   },
   {
    "duration": 96,
    "start_time": "2022-06-02T07:55:10.489Z"
   },
   {
    "duration": 3,
    "start_time": "2022-06-02T07:55:10.586Z"
   },
   {
    "duration": 496,
    "start_time": "2022-06-02T07:55:10.590Z"
   },
   {
    "duration": 9,
    "start_time": "2022-06-02T07:55:11.087Z"
   },
   {
    "duration": 72,
    "start_time": "2022-06-02T07:55:11.097Z"
   },
   {
    "duration": 113,
    "start_time": "2022-06-02T07:55:11.171Z"
   },
   {
    "duration": 6,
    "start_time": "2022-06-02T07:55:11.286Z"
   },
   {
    "duration": 67,
    "start_time": "2022-06-02T07:55:11.293Z"
   },
   {
    "duration": 105,
    "start_time": "2022-06-02T07:55:11.362Z"
   },
   {
    "duration": 19962,
    "start_time": "2022-06-02T07:55:11.469Z"
   },
   {
    "duration": 671,
    "start_time": "2022-06-02T07:55:31.434Z"
   },
   {
    "duration": 44,
    "start_time": "2022-06-02T07:55:32.107Z"
   },
   {
    "duration": 12037,
    "start_time": "2022-06-02T07:55:32.153Z"
   },
   {
    "duration": 4,
    "start_time": "2022-06-02T07:55:44.191Z"
   },
   {
    "duration": 9533,
    "start_time": "2022-06-02T07:55:44.196Z"
   },
   {
    "duration": 518,
    "start_time": "2022-06-02T07:55:53.731Z"
   },
   {
    "duration": 165090,
    "start_time": "2022-06-02T07:55:54.251Z"
   },
   {
    "duration": 85,
    "start_time": "2022-06-02T07:58:39.343Z"
   },
   {
    "duration": 5,
    "start_time": "2022-06-02T07:58:39.430Z"
   },
   {
    "duration": 12,
    "start_time": "2022-06-02T07:58:39.437Z"
   },
   {
    "duration": 14182,
    "start_time": "2022-06-02T07:58:39.450Z"
   },
   {
    "duration": 201,
    "start_time": "2022-06-02T07:58:53.636Z"
   },
   {
    "duration": 502,
    "start_time": "2022-06-02T07:58:53.839Z"
   },
   {
    "duration": 15,
    "start_time": "2022-06-02T07:58:54.342Z"
   },
   {
    "duration": 3973,
    "start_time": "2022-06-02T07:58:54.358Z"
   },
   {
    "duration": 794,
    "start_time": "2022-06-02T07:58:58.332Z"
   },
   {
    "duration": 9,
    "start_time": "2022-06-02T07:58:59.128Z"
   },
   {
    "duration": 2367,
    "start_time": "2022-06-02T07:58:59.139Z"
   },
   {
    "duration": 9,
    "start_time": "2022-06-02T07:59:01.508Z"
   }
  ],
  "kernelspec": {
   "display_name": "Python 3 (ipykernel)",
   "language": "python",
   "name": "python3"
  },
  "language_info": {
   "codemirror_mode": {
    "name": "ipython",
    "version": 3
   },
   "file_extension": ".py",
   "mimetype": "text/x-python",
   "name": "python",
   "nbconvert_exporter": "python",
   "pygments_lexer": "ipython3",
   "version": "3.9.7"
  },
  "toc": {
   "base_numbering": 1,
   "nav_menu": {},
   "number_sections": true,
   "sideBar": true,
   "skip_h1_title": true,
   "title_cell": "Table of Contents",
   "title_sidebar": "Contents",
   "toc_cell": false,
   "toc_position": {},
   "toc_section_display": true,
   "toc_window_display": false
  }
 },
 "nbformat": 4,
 "nbformat_minor": 2
}
