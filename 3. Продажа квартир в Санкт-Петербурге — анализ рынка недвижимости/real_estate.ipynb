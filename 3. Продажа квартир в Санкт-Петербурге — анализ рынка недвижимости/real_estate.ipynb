{
 "cells": [
  {
   "cell_type": "markdown",
   "metadata": {
    "toc": true
   },
   "source": [
    "<h1>Содержание<span class=\"tocSkip\"></span></h1>\n",
    "<div class=\"toc\"><ul class=\"toc-item\"><li><span><a href=\"#Изучение-данных-из-файла\" data-toc-modified-id=\"Изучение-данных-из-файла-1\"><span class=\"toc-item-num\">1&nbsp;&nbsp;</span>Изучение данных из файла</a></span><ul class=\"toc-item\"><li><span><a href=\"#Вывод\" data-toc-modified-id=\"Вывод-1.1\"><span class=\"toc-item-num\">1.1&nbsp;&nbsp;</span>Вывод</a></span></li></ul></li><li><span><a href=\"#Предобработка-данных\" data-toc-modified-id=\"Предобработка-данных-2\"><span class=\"toc-item-num\">2&nbsp;&nbsp;</span>Предобработка данных</a></span></li><li><span><a href=\"#Расчёты-и-добавление-результатов-в-таблицу\" data-toc-modified-id=\"Расчёты-и-добавление-результатов-в-таблицу-3\"><span class=\"toc-item-num\">3&nbsp;&nbsp;</span>Расчёты и добавление результатов в таблицу</a></span></li><li><span><a href=\"#Исследовательский-анализ-данных\" data-toc-modified-id=\"Исследовательский-анализ-данных-4\"><span class=\"toc-item-num\">4&nbsp;&nbsp;</span>Исследовательский анализ данных</a></span></li><li><span><a href=\"#Общий-вывод\" data-toc-modified-id=\"Общий-вывод-5\"><span class=\"toc-item-num\">5&nbsp;&nbsp;</span>Общий вывод</a></span></li><li><span><a href=\"#Чек-лист-готовности-проекта\" data-toc-modified-id=\"Чек-лист-готовности-проекта-6\"><span class=\"toc-item-num\">6&nbsp;&nbsp;</span>Чек-лист готовности проекта</a></span></li></ul></div>"
   ]
  },
  {
   "cell_type": "markdown",
   "metadata": {},
   "source": [
    "# Исследование объявлений о продаже квартир\n",
    "\n",
    "В вашем распоряжении данные сервиса Яндекс.Недвижимость — архив объявлений о продаже квартир в Санкт-Петербурге и соседних населённых пунктах за несколько лет. Нужно научиться определять рыночную стоимость объектов недвижимости. Ваша задача — установить параметры. Это позволит построить автоматизированную систему: она отследит аномалии и мошенническую деятельность. \n",
    "\n",
    "По каждой квартире на продажу доступны два вида данных. Первые вписаны пользователем, вторые получены автоматически на основе картографических данных. Например, расстояние до центра, аэропорта, ближайшего парка и водоёма. "
   ]
  },
  {
   "cell_type": "markdown",
   "metadata": {},
   "source": [
    "<b>Описание данных:<b><br>\n",
    "* airports_nearest — расстояние до ближайшего аэропорта в метрах (м)<br>\n",
    "* balcony — число балконов<br>\n",
    "* ceiling_height — высота потолков (м)<br>\n",
    "* cityCenters_nearest — расстояние до центра города (м)<br>\n",
    "* days_exposition — сколько дней было размещено объявление (от публикации до снятия)<br>\n",
    "* first_day_exposition — дата публикации<br>\n",
    "* floor — этаж<br>\n",
    "* floors_total — всего этажей в доме<br>\n",
    "* is_apartment — апартаменты (булев тип)<br>\n",
    "* kitchen_area — площадь кухни в квадратных метрах (м²)<br>\n",
    "* last_price — цена на момент снятия с публикации<br>\n",
    "* living_area — жилая площадь в квадратных метрах (м²)<br>\n",
    "* locality_name — название населённого пункта<br>\n",
    "* open_plan — свободная планировка (булев тип)<br>\n",
    "* parks_around3000 — число парков в радиусе 3 км<br>\n",
    "* parks_nearest — расстояние до ближайшего парка (м)<br>\n",
    "* ponds_around3000 — число водоёмов в радиусе 3 км<br>\n",
    "* ponds_nearest — расстояние до ближайшего водоёма (м)<br>\n",
    "* rooms — число комнат<br>\n",
    "* studio — квартира-студия (булев тип)<br>\n",
    "* total_area — площадь квартиры в квадратных метрах (м²)<br>\n",
    "* total_images — число фотографий квартиры в объявлении<br>"
   ]
  },
  {
   "cell_type": "markdown",
   "metadata": {},
   "source": [
    "## Изучение данных из файла"
   ]
  },
  {
   "cell_type": "code",
   "execution_count": 1,
   "metadata": {},
   "outputs": [],
   "source": [
    "import pandas as pd\n",
    "import matplotlib.pyplot as plt"
   ]
  },
  {
   "cell_type": "code",
   "execution_count": 2,
   "metadata": {},
   "outputs": [
    {
     "data": {
      "text/html": [
       "<div>\n",
       "<style scoped>\n",
       "    .dataframe tbody tr th:only-of-type {\n",
       "        vertical-align: middle;\n",
       "    }\n",
       "\n",
       "    .dataframe tbody tr th {\n",
       "        vertical-align: top;\n",
       "    }\n",
       "\n",
       "    .dataframe thead th {\n",
       "        text-align: right;\n",
       "    }\n",
       "</style>\n",
       "<table border=\"1\" class=\"dataframe\">\n",
       "  <thead>\n",
       "    <tr style=\"text-align: right;\">\n",
       "      <th></th>\n",
       "      <th>total_images</th>\n",
       "      <th>last_price</th>\n",
       "      <th>total_area</th>\n",
       "      <th>first_day_exposition</th>\n",
       "      <th>rooms</th>\n",
       "      <th>ceiling_height</th>\n",
       "      <th>floors_total</th>\n",
       "      <th>living_area</th>\n",
       "      <th>floor</th>\n",
       "      <th>is_apartment</th>\n",
       "      <th>...</th>\n",
       "      <th>kitchen_area</th>\n",
       "      <th>balcony</th>\n",
       "      <th>locality_name</th>\n",
       "      <th>airports_nearest</th>\n",
       "      <th>cityCenters_nearest</th>\n",
       "      <th>parks_around3000</th>\n",
       "      <th>parks_nearest</th>\n",
       "      <th>ponds_around3000</th>\n",
       "      <th>ponds_nearest</th>\n",
       "      <th>days_exposition</th>\n",
       "    </tr>\n",
       "  </thead>\n",
       "  <tbody>\n",
       "    <tr>\n",
       "      <td>11717</td>\n",
       "      <td>13</td>\n",
       "      <td>3950000.0</td>\n",
       "      <td>62.3</td>\n",
       "      <td>2018-11-11T00:00:00</td>\n",
       "      <td>3</td>\n",
       "      <td>2.5</td>\n",
       "      <td>9.0</td>\n",
       "      <td>39.7</td>\n",
       "      <td>7</td>\n",
       "      <td>NaN</td>\n",
       "      <td>...</td>\n",
       "      <td>10.1</td>\n",
       "      <td>2.0</td>\n",
       "      <td>Колпино</td>\n",
       "      <td>25454.0</td>\n",
       "      <td>31240.0</td>\n",
       "      <td>0.0</td>\n",
       "      <td>NaN</td>\n",
       "      <td>0.0</td>\n",
       "      <td>NaN</td>\n",
       "      <td>5.0</td>\n",
       "    </tr>\n",
       "  </tbody>\n",
       "</table>\n",
       "<p>1 rows × 22 columns</p>\n",
       "</div>"
      ],
      "text/plain": [
       "       total_images  last_price  total_area first_day_exposition  rooms  \\\n",
       "11717            13   3950000.0        62.3  2018-11-11T00:00:00      3   \n",
       "\n",
       "       ceiling_height  floors_total  living_area  floor is_apartment  ...  \\\n",
       "11717             2.5           9.0         39.7      7          NaN  ...   \n",
       "\n",
       "       kitchen_area  balcony  locality_name  airports_nearest  \\\n",
       "11717          10.1      2.0        Колпино           25454.0   \n",
       "\n",
       "      cityCenters_nearest  parks_around3000  parks_nearest  ponds_around3000  \\\n",
       "11717             31240.0               0.0            NaN               0.0   \n",
       "\n",
       "       ponds_nearest  days_exposition  \n",
       "11717            NaN              5.0  \n",
       "\n",
       "[1 rows x 22 columns]"
      ]
     },
     "execution_count": 2,
     "metadata": {},
     "output_type": "execute_result"
    }
   ],
   "source": [
    "data = pd.read_csv('/datasets/real_estate_data.csv', sep = '\\t')\n",
    "data.sample()"
   ]
  },
  {
   "cell_type": "code",
   "execution_count": 3,
   "metadata": {},
   "outputs": [
    {
     "data": {
      "text/html": [
       "<div>\n",
       "<style scoped>\n",
       "    .dataframe tbody tr th:only-of-type {\n",
       "        vertical-align: middle;\n",
       "    }\n",
       "\n",
       "    .dataframe tbody tr th {\n",
       "        vertical-align: top;\n",
       "    }\n",
       "\n",
       "    .dataframe thead th {\n",
       "        text-align: right;\n",
       "    }\n",
       "</style>\n",
       "<table border=\"1\" class=\"dataframe\">\n",
       "  <thead>\n",
       "    <tr style=\"text-align: right;\">\n",
       "      <th></th>\n",
       "      <th>count</th>\n",
       "      <th>mean</th>\n",
       "      <th>std</th>\n",
       "      <th>min</th>\n",
       "      <th>25%</th>\n",
       "      <th>50%</th>\n",
       "      <th>75%</th>\n",
       "      <th>max</th>\n",
       "    </tr>\n",
       "  </thead>\n",
       "  <tbody>\n",
       "    <tr>\n",
       "      <td>total_images</td>\n",
       "      <td>23699.0</td>\n",
       "      <td>9.858475e+00</td>\n",
       "      <td>5.682529e+00</td>\n",
       "      <td>0.0</td>\n",
       "      <td>6.00</td>\n",
       "      <td>9.00</td>\n",
       "      <td>14.0</td>\n",
       "      <td>50.0</td>\n",
       "    </tr>\n",
       "    <tr>\n",
       "      <td>last_price</td>\n",
       "      <td>23699.0</td>\n",
       "      <td>6.541549e+06</td>\n",
       "      <td>1.088701e+07</td>\n",
       "      <td>12190.0</td>\n",
       "      <td>3400000.00</td>\n",
       "      <td>4650000.00</td>\n",
       "      <td>6800000.0</td>\n",
       "      <td>763000000.0</td>\n",
       "    </tr>\n",
       "    <tr>\n",
       "      <td>total_area</td>\n",
       "      <td>23699.0</td>\n",
       "      <td>6.034865e+01</td>\n",
       "      <td>3.565408e+01</td>\n",
       "      <td>12.0</td>\n",
       "      <td>40.00</td>\n",
       "      <td>52.00</td>\n",
       "      <td>69.9</td>\n",
       "      <td>900.0</td>\n",
       "    </tr>\n",
       "    <tr>\n",
       "      <td>rooms</td>\n",
       "      <td>23699.0</td>\n",
       "      <td>2.070636e+00</td>\n",
       "      <td>1.078405e+00</td>\n",
       "      <td>0.0</td>\n",
       "      <td>1.00</td>\n",
       "      <td>2.00</td>\n",
       "      <td>3.0</td>\n",
       "      <td>19.0</td>\n",
       "    </tr>\n",
       "    <tr>\n",
       "      <td>ceiling_height</td>\n",
       "      <td>14504.0</td>\n",
       "      <td>2.771499e+00</td>\n",
       "      <td>1.261056e+00</td>\n",
       "      <td>1.0</td>\n",
       "      <td>2.52</td>\n",
       "      <td>2.65</td>\n",
       "      <td>2.8</td>\n",
       "      <td>100.0</td>\n",
       "    </tr>\n",
       "    <tr>\n",
       "      <td>floors_total</td>\n",
       "      <td>23613.0</td>\n",
       "      <td>1.067382e+01</td>\n",
       "      <td>6.597173e+00</td>\n",
       "      <td>1.0</td>\n",
       "      <td>5.00</td>\n",
       "      <td>9.00</td>\n",
       "      <td>16.0</td>\n",
       "      <td>60.0</td>\n",
       "    </tr>\n",
       "    <tr>\n",
       "      <td>living_area</td>\n",
       "      <td>21796.0</td>\n",
       "      <td>3.445785e+01</td>\n",
       "      <td>2.203045e+01</td>\n",
       "      <td>2.0</td>\n",
       "      <td>18.60</td>\n",
       "      <td>30.00</td>\n",
       "      <td>42.3</td>\n",
       "      <td>409.7</td>\n",
       "    </tr>\n",
       "    <tr>\n",
       "      <td>floor</td>\n",
       "      <td>23699.0</td>\n",
       "      <td>5.892358e+00</td>\n",
       "      <td>4.885249e+00</td>\n",
       "      <td>1.0</td>\n",
       "      <td>2.00</td>\n",
       "      <td>4.00</td>\n",
       "      <td>8.0</td>\n",
       "      <td>33.0</td>\n",
       "    </tr>\n",
       "    <tr>\n",
       "      <td>kitchen_area</td>\n",
       "      <td>21421.0</td>\n",
       "      <td>1.056981e+01</td>\n",
       "      <td>5.905438e+00</td>\n",
       "      <td>1.3</td>\n",
       "      <td>7.00</td>\n",
       "      <td>9.10</td>\n",
       "      <td>12.0</td>\n",
       "      <td>112.0</td>\n",
       "    </tr>\n",
       "    <tr>\n",
       "      <td>balcony</td>\n",
       "      <td>12180.0</td>\n",
       "      <td>1.150082e+00</td>\n",
       "      <td>1.071300e+00</td>\n",
       "      <td>0.0</td>\n",
       "      <td>0.00</td>\n",
       "      <td>1.00</td>\n",
       "      <td>2.0</td>\n",
       "      <td>5.0</td>\n",
       "    </tr>\n",
       "    <tr>\n",
       "      <td>airports_nearest</td>\n",
       "      <td>18157.0</td>\n",
       "      <td>2.879367e+04</td>\n",
       "      <td>1.263088e+04</td>\n",
       "      <td>0.0</td>\n",
       "      <td>18585.00</td>\n",
       "      <td>26726.00</td>\n",
       "      <td>37273.0</td>\n",
       "      <td>84869.0</td>\n",
       "    </tr>\n",
       "    <tr>\n",
       "      <td>cityCenters_nearest</td>\n",
       "      <td>18180.0</td>\n",
       "      <td>1.419128e+04</td>\n",
       "      <td>8.608386e+03</td>\n",
       "      <td>181.0</td>\n",
       "      <td>9238.00</td>\n",
       "      <td>13098.50</td>\n",
       "      <td>16293.0</td>\n",
       "      <td>65968.0</td>\n",
       "    </tr>\n",
       "    <tr>\n",
       "      <td>parks_around3000</td>\n",
       "      <td>18181.0</td>\n",
       "      <td>6.114075e-01</td>\n",
       "      <td>8.020736e-01</td>\n",
       "      <td>0.0</td>\n",
       "      <td>0.00</td>\n",
       "      <td>0.00</td>\n",
       "      <td>1.0</td>\n",
       "      <td>3.0</td>\n",
       "    </tr>\n",
       "    <tr>\n",
       "      <td>parks_nearest</td>\n",
       "      <td>8079.0</td>\n",
       "      <td>4.908046e+02</td>\n",
       "      <td>3.423180e+02</td>\n",
       "      <td>1.0</td>\n",
       "      <td>288.00</td>\n",
       "      <td>455.00</td>\n",
       "      <td>612.0</td>\n",
       "      <td>3190.0</td>\n",
       "    </tr>\n",
       "    <tr>\n",
       "      <td>ponds_around3000</td>\n",
       "      <td>18181.0</td>\n",
       "      <td>7.702547e-01</td>\n",
       "      <td>9.383456e-01</td>\n",
       "      <td>0.0</td>\n",
       "      <td>0.00</td>\n",
       "      <td>1.00</td>\n",
       "      <td>1.0</td>\n",
       "      <td>3.0</td>\n",
       "    </tr>\n",
       "    <tr>\n",
       "      <td>ponds_nearest</td>\n",
       "      <td>9110.0</td>\n",
       "      <td>5.179809e+02</td>\n",
       "      <td>2.777206e+02</td>\n",
       "      <td>13.0</td>\n",
       "      <td>294.00</td>\n",
       "      <td>502.00</td>\n",
       "      <td>729.0</td>\n",
       "      <td>1344.0</td>\n",
       "    </tr>\n",
       "    <tr>\n",
       "      <td>days_exposition</td>\n",
       "      <td>20518.0</td>\n",
       "      <td>1.808886e+02</td>\n",
       "      <td>2.197280e+02</td>\n",
       "      <td>1.0</td>\n",
       "      <td>45.00</td>\n",
       "      <td>95.00</td>\n",
       "      <td>232.0</td>\n",
       "      <td>1580.0</td>\n",
       "    </tr>\n",
       "  </tbody>\n",
       "</table>\n",
       "</div>"
      ],
      "text/plain": [
       "                       count          mean           std      min         25%  \\\n",
       "total_images         23699.0  9.858475e+00  5.682529e+00      0.0        6.00   \n",
       "last_price           23699.0  6.541549e+06  1.088701e+07  12190.0  3400000.00   \n",
       "total_area           23699.0  6.034865e+01  3.565408e+01     12.0       40.00   \n",
       "rooms                23699.0  2.070636e+00  1.078405e+00      0.0        1.00   \n",
       "ceiling_height       14504.0  2.771499e+00  1.261056e+00      1.0        2.52   \n",
       "floors_total         23613.0  1.067382e+01  6.597173e+00      1.0        5.00   \n",
       "living_area          21796.0  3.445785e+01  2.203045e+01      2.0       18.60   \n",
       "floor                23699.0  5.892358e+00  4.885249e+00      1.0        2.00   \n",
       "kitchen_area         21421.0  1.056981e+01  5.905438e+00      1.3        7.00   \n",
       "balcony              12180.0  1.150082e+00  1.071300e+00      0.0        0.00   \n",
       "airports_nearest     18157.0  2.879367e+04  1.263088e+04      0.0    18585.00   \n",
       "cityCenters_nearest  18180.0  1.419128e+04  8.608386e+03    181.0     9238.00   \n",
       "parks_around3000     18181.0  6.114075e-01  8.020736e-01      0.0        0.00   \n",
       "parks_nearest         8079.0  4.908046e+02  3.423180e+02      1.0      288.00   \n",
       "ponds_around3000     18181.0  7.702547e-01  9.383456e-01      0.0        0.00   \n",
       "ponds_nearest         9110.0  5.179809e+02  2.777206e+02     13.0      294.00   \n",
       "days_exposition      20518.0  1.808886e+02  2.197280e+02      1.0       45.00   \n",
       "\n",
       "                            50%        75%          max  \n",
       "total_images               9.00       14.0         50.0  \n",
       "last_price           4650000.00  6800000.0  763000000.0  \n",
       "total_area                52.00       69.9        900.0  \n",
       "rooms                      2.00        3.0         19.0  \n",
       "ceiling_height             2.65        2.8        100.0  \n",
       "floors_total               9.00       16.0         60.0  \n",
       "living_area               30.00       42.3        409.7  \n",
       "floor                      4.00        8.0         33.0  \n",
       "kitchen_area               9.10       12.0        112.0  \n",
       "balcony                    1.00        2.0          5.0  \n",
       "airports_nearest       26726.00    37273.0      84869.0  \n",
       "cityCenters_nearest    13098.50    16293.0      65968.0  \n",
       "parks_around3000           0.00        1.0          3.0  \n",
       "parks_nearest            455.00      612.0       3190.0  \n",
       "ponds_around3000           1.00        1.0          3.0  \n",
       "ponds_nearest            502.00      729.0       1344.0  \n",
       "days_exposition           95.00      232.0       1580.0  "
      ]
     },
     "execution_count": 3,
     "metadata": {},
     "output_type": "execute_result"
    }
   ],
   "source": [
    "data.describe().T"
   ]
  },
  {
   "cell_type": "markdown",
   "metadata": {},
   "source": [
    "### Вывод"
   ]
  },
  {
   "cell_type": "markdown",
   "metadata": {},
   "source": [
    "Не уверен, что они все столбцы датафрейма нужны для решения задачи.\n",
    "Часть колонок описывает саму квартиру, часть - район.\n",
    "\n",
    "Есть пропущенные данные - какие-то мы сможем заполнить, какие-то стоит оставить как есть.\n",
    "Имеет смысл переименовать cityCenters_nearest в соответствии со стилем.\n",
    "\n",
    "Исправим для начала все проблемы с данными."
   ]
  },
  {
   "cell_type": "markdown",
   "metadata": {},
   "source": [
    "## Предобработка данных"
   ]
  },
  {
   "cell_type": "markdown",
   "metadata": {},
   "source": [
    "Количество фотографий квартиры, балконы, парки - это всё здорово, но для решения поставленной задачи они не понадобятся, так что первым делом отсечём излишние данные. "
   ]
  },
  {
   "cell_type": "code",
   "execution_count": 4,
   "metadata": {},
   "outputs": [],
   "source": [
    "data = data.drop([\"total_images\", \"airports_nearest\", \"balcony\", \"open_plan\", \"parks_around3000\", \"parks_nearest\", \"ponds_around3000\", \"ponds_nearest\"], axis = 1)"
   ]
  },
  {
   "cell_type": "markdown",
   "metadata": {},
   "source": [
    "Посмотрим, что со столбцом is_apartment. Многовато пропусков. В рамках проекта принимаем решение, что пропуск = \"не апартаменты\". \n",
    "В реальных условиях запросил бы корректировку данных у источника."
   ]
  },
  {
   "cell_type": "code",
   "execution_count": 5,
   "metadata": {},
   "outputs": [],
   "source": [
    "data['is_apartment'] = data['is_apartment'].fillna(False)"
   ]
  },
  {
   "cell_type": "markdown",
   "metadata": {},
   "source": [
    "У аппартаментов и студий ценообразование отличается от стандартных квартир, что повлияет на наши результаты.\n",
    "Уберем из массива данных эти типы недвижимости."
   ]
  },
  {
   "cell_type": "code",
   "execution_count": 6,
   "metadata": {},
   "outputs": [],
   "source": [
    "data = data.loc[~data['is_apartment'] == True]\n",
    "data = data.loc[~data['studio'] == True]\n",
    "data = data.drop(['is_apartment', 'studio'], axis = 1)"
   ]
  },
  {
   "cell_type": "markdown",
   "metadata": {},
   "source": [
    "Пройдёмся по оставишмся столбцам:<br>\n",
    "last_price - присутствует подозрительно дешёвая (12190 рублей) квартира в Питере площадью в 109 квадратных метров. Сделаем отсечение по цене в 400000.<br>\n",
    "total_area - 12 метров на комнату, туалет, ванну и кухню. Не верю. Отсечем площади < 29м. Считаю, что это на самом деле аппартаменты и студии.<br>\n",
    "rooms - 0 комнат? Хочется, конечно, избавиться от подобных записей, но остальные столбцы выглядят правдоподобно. Оставим всё как есть, но будем аккуратны с анализом.<br>\n",
    "ceiling_height - много пропусков. Здесь имеет смысл использовать медианное значение для заполнения.<br>\n",
    "floors_total - всё хорошо, кроме 60-этажного здания в Кронштадте.<br>\n",
    "living_area, floor, kitchen_area, locality_name, cityCenters_nearest, days_exposition - аномалии не обнаружены.<br>"
   ]
  },
  {
   "cell_type": "code",
   "execution_count": 7,
   "metadata": {},
   "outputs": [],
   "source": [
    "data = data.loc[data['last_price'] > 400000]\n",
    "data = data.loc[data['total_area'] > 29]\n",
    "data = data.loc[data['floors_total'] < 50]"
   ]
  },
  {
   "cell_type": "markdown",
   "metadata": {},
   "source": [
    "Переименуем столбец с расстоянием до центра города."
   ]
  },
  {
   "cell_type": "code",
   "execution_count": 8,
   "metadata": {},
   "outputs": [],
   "source": [
    "data.rename(columns={'cityCenters_nearest': 'center_distance'}, inplace=True)"
   ]
  },
  {
   "cell_type": "markdown",
   "metadata": {},
   "source": [
    "Посмотрим, что у нас с дубликатами."
   ]
  },
  {
   "cell_type": "code",
   "execution_count": 9,
   "metadata": {},
   "outputs": [
    {
     "data": {
      "text/html": [
       "<div>\n",
       "<style scoped>\n",
       "    .dataframe tbody tr th:only-of-type {\n",
       "        vertical-align: middle;\n",
       "    }\n",
       "\n",
       "    .dataframe tbody tr th {\n",
       "        vertical-align: top;\n",
       "    }\n",
       "\n",
       "    .dataframe thead th {\n",
       "        text-align: right;\n",
       "    }\n",
       "</style>\n",
       "<table border=\"1\" class=\"dataframe\">\n",
       "  <thead>\n",
       "    <tr style=\"text-align: right;\">\n",
       "      <th></th>\n",
       "      <th>last_price</th>\n",
       "      <th>total_area</th>\n",
       "      <th>first_day_exposition</th>\n",
       "      <th>rooms</th>\n",
       "      <th>ceiling_height</th>\n",
       "      <th>floors_total</th>\n",
       "      <th>living_area</th>\n",
       "      <th>floor</th>\n",
       "      <th>kitchen_area</th>\n",
       "      <th>locality_name</th>\n",
       "      <th>center_distance</th>\n",
       "      <th>days_exposition</th>\n",
       "    </tr>\n",
       "  </thead>\n",
       "  <tbody>\n",
       "    <tr>\n",
       "      <td>0</td>\n",
       "      <td>13000000.0</td>\n",
       "      <td>108.00</td>\n",
       "      <td>2019-03-07T00:00:00</td>\n",
       "      <td>3</td>\n",
       "      <td>2.70</td>\n",
       "      <td>16.0</td>\n",
       "      <td>51.0</td>\n",
       "      <td>8</td>\n",
       "      <td>25.00</td>\n",
       "      <td>Санкт-Петербург</td>\n",
       "      <td>16028.0</td>\n",
       "      <td>NaN</td>\n",
       "    </tr>\n",
       "    <tr>\n",
       "      <td>1</td>\n",
       "      <td>3350000.0</td>\n",
       "      <td>40.40</td>\n",
       "      <td>2018-12-04T00:00:00</td>\n",
       "      <td>1</td>\n",
       "      <td>NaN</td>\n",
       "      <td>11.0</td>\n",
       "      <td>18.6</td>\n",
       "      <td>1</td>\n",
       "      <td>11.00</td>\n",
       "      <td>посёлок Шушары</td>\n",
       "      <td>18603.0</td>\n",
       "      <td>81.0</td>\n",
       "    </tr>\n",
       "    <tr>\n",
       "      <td>2</td>\n",
       "      <td>5196000.0</td>\n",
       "      <td>56.00</td>\n",
       "      <td>2015-08-20T00:00:00</td>\n",
       "      <td>2</td>\n",
       "      <td>NaN</td>\n",
       "      <td>5.0</td>\n",
       "      <td>34.3</td>\n",
       "      <td>4</td>\n",
       "      <td>8.30</td>\n",
       "      <td>Санкт-Петербург</td>\n",
       "      <td>13933.0</td>\n",
       "      <td>558.0</td>\n",
       "    </tr>\n",
       "    <tr>\n",
       "      <td>3</td>\n",
       "      <td>64900000.0</td>\n",
       "      <td>159.00</td>\n",
       "      <td>2015-07-24T00:00:00</td>\n",
       "      <td>3</td>\n",
       "      <td>NaN</td>\n",
       "      <td>14.0</td>\n",
       "      <td>NaN</td>\n",
       "      <td>9</td>\n",
       "      <td>NaN</td>\n",
       "      <td>Санкт-Петербург</td>\n",
       "      <td>6800.0</td>\n",
       "      <td>424.0</td>\n",
       "    </tr>\n",
       "    <tr>\n",
       "      <td>4</td>\n",
       "      <td>10000000.0</td>\n",
       "      <td>100.00</td>\n",
       "      <td>2018-06-19T00:00:00</td>\n",
       "      <td>2</td>\n",
       "      <td>3.03</td>\n",
       "      <td>14.0</td>\n",
       "      <td>32.0</td>\n",
       "      <td>13</td>\n",
       "      <td>41.00</td>\n",
       "      <td>Санкт-Петербург</td>\n",
       "      <td>8098.0</td>\n",
       "      <td>121.0</td>\n",
       "    </tr>\n",
       "    <tr>\n",
       "      <td>...</td>\n",
       "      <td>...</td>\n",
       "      <td>...</td>\n",
       "      <td>...</td>\n",
       "      <td>...</td>\n",
       "      <td>...</td>\n",
       "      <td>...</td>\n",
       "      <td>...</td>\n",
       "      <td>...</td>\n",
       "      <td>...</td>\n",
       "      <td>...</td>\n",
       "      <td>...</td>\n",
       "      <td>...</td>\n",
       "    </tr>\n",
       "    <tr>\n",
       "      <td>22941</td>\n",
       "      <td>9700000.0</td>\n",
       "      <td>133.81</td>\n",
       "      <td>2017-03-21T00:00:00</td>\n",
       "      <td>3</td>\n",
       "      <td>3.70</td>\n",
       "      <td>5.0</td>\n",
       "      <td>73.3</td>\n",
       "      <td>3</td>\n",
       "      <td>13.83</td>\n",
       "      <td>Санкт-Петербург</td>\n",
       "      <td>4232.0</td>\n",
       "      <td>NaN</td>\n",
       "    </tr>\n",
       "    <tr>\n",
       "      <td>22942</td>\n",
       "      <td>3100000.0</td>\n",
       "      <td>59.00</td>\n",
       "      <td>2018-01-15T00:00:00</td>\n",
       "      <td>3</td>\n",
       "      <td>NaN</td>\n",
       "      <td>5.0</td>\n",
       "      <td>38.0</td>\n",
       "      <td>4</td>\n",
       "      <td>8.50</td>\n",
       "      <td>Тосно</td>\n",
       "      <td>NaN</td>\n",
       "      <td>45.0</td>\n",
       "    </tr>\n",
       "    <tr>\n",
       "      <td>22943</td>\n",
       "      <td>2500000.0</td>\n",
       "      <td>56.70</td>\n",
       "      <td>2018-02-11T00:00:00</td>\n",
       "      <td>2</td>\n",
       "      <td>NaN</td>\n",
       "      <td>3.0</td>\n",
       "      <td>29.7</td>\n",
       "      <td>1</td>\n",
       "      <td>NaN</td>\n",
       "      <td>село Рождествено</td>\n",
       "      <td>NaN</td>\n",
       "      <td>NaN</td>\n",
       "    </tr>\n",
       "    <tr>\n",
       "      <td>22944</td>\n",
       "      <td>11475000.0</td>\n",
       "      <td>76.75</td>\n",
       "      <td>2017-03-28T00:00:00</td>\n",
       "      <td>2</td>\n",
       "      <td>3.00</td>\n",
       "      <td>17.0</td>\n",
       "      <td>NaN</td>\n",
       "      <td>12</td>\n",
       "      <td>23.30</td>\n",
       "      <td>Санкт-Петербург</td>\n",
       "      <td>10364.0</td>\n",
       "      <td>602.0</td>\n",
       "    </tr>\n",
       "    <tr>\n",
       "      <td>22945</td>\n",
       "      <td>1350000.0</td>\n",
       "      <td>32.30</td>\n",
       "      <td>2017-07-21T00:00:00</td>\n",
       "      <td>1</td>\n",
       "      <td>2.50</td>\n",
       "      <td>5.0</td>\n",
       "      <td>12.3</td>\n",
       "      <td>1</td>\n",
       "      <td>9.00</td>\n",
       "      <td>поселок Новый Учхоз</td>\n",
       "      <td>NaN</td>\n",
       "      <td>NaN</td>\n",
       "    </tr>\n",
       "  </tbody>\n",
       "</table>\n",
       "<p>22946 rows × 12 columns</p>\n",
       "</div>"
      ],
      "text/plain": [
       "       last_price  total_area first_day_exposition  rooms  ceiling_height  \\\n",
       "0      13000000.0      108.00  2019-03-07T00:00:00      3            2.70   \n",
       "1       3350000.0       40.40  2018-12-04T00:00:00      1             NaN   \n",
       "2       5196000.0       56.00  2015-08-20T00:00:00      2             NaN   \n",
       "3      64900000.0      159.00  2015-07-24T00:00:00      3             NaN   \n",
       "4      10000000.0      100.00  2018-06-19T00:00:00      2            3.03   \n",
       "...           ...         ...                  ...    ...             ...   \n",
       "22941   9700000.0      133.81  2017-03-21T00:00:00      3            3.70   \n",
       "22942   3100000.0       59.00  2018-01-15T00:00:00      3             NaN   \n",
       "22943   2500000.0       56.70  2018-02-11T00:00:00      2             NaN   \n",
       "22944  11475000.0       76.75  2017-03-28T00:00:00      2            3.00   \n",
       "22945   1350000.0       32.30  2017-07-21T00:00:00      1            2.50   \n",
       "\n",
       "       floors_total  living_area  floor  kitchen_area        locality_name  \\\n",
       "0              16.0         51.0      8         25.00      Санкт-Петербург   \n",
       "1              11.0         18.6      1         11.00       посёлок Шушары   \n",
       "2               5.0         34.3      4          8.30      Санкт-Петербург   \n",
       "3              14.0          NaN      9           NaN      Санкт-Петербург   \n",
       "4              14.0         32.0     13         41.00      Санкт-Петербург   \n",
       "...             ...          ...    ...           ...                  ...   \n",
       "22941           5.0         73.3      3         13.83      Санкт-Петербург   \n",
       "22942           5.0         38.0      4          8.50                Тосно   \n",
       "22943           3.0         29.7      1           NaN     село Рождествено   \n",
       "22944          17.0          NaN     12         23.30      Санкт-Петербург   \n",
       "22945           5.0         12.3      1          9.00  поселок Новый Учхоз   \n",
       "\n",
       "       center_distance  days_exposition  \n",
       "0              16028.0              NaN  \n",
       "1              18603.0             81.0  \n",
       "2              13933.0            558.0  \n",
       "3               6800.0            424.0  \n",
       "4               8098.0            121.0  \n",
       "...                ...              ...  \n",
       "22941           4232.0              NaN  \n",
       "22942              NaN             45.0  \n",
       "22943              NaN              NaN  \n",
       "22944          10364.0            602.0  \n",
       "22945              NaN              NaN  \n",
       "\n",
       "[22946 rows x 12 columns]"
      ]
     },
     "execution_count": 9,
     "metadata": {},
     "output_type": "execute_result"
    }
   ],
   "source": [
    "data.drop_duplicates().reset_index(drop = True)"
   ]
  },
  {
   "cell_type": "markdown",
   "metadata": {},
   "source": [
    "Исправим типы данных. Цена, этажи, расстояние до центра и количество дней на продаже должны быть целочисленными.<br>\n",
    "days_exposition перевести в Int64 получилось только после конвертации в float32. Посему отдельной строкой. Чёрная магия."
   ]
  },
  {
   "cell_type": "code",
   "execution_count": 10,
   "metadata": {},
   "outputs": [],
   "source": [
    "data = data.astype({\"last_price\": \"Int64\", 'floors_total': 'Int64', 'center_distance': 'Int64'}, errors = 'ignore')\n",
    "data['days_exposition'] = data['days_exposition'].astype('float32').astype('Int64')"
   ]
  },
  {
   "cell_type": "markdown",
   "metadata": {},
   "source": [
    "Заполняем высоту комнаты медианным значением."
   ]
  },
  {
   "cell_type": "code",
   "execution_count": 11,
   "metadata": {},
   "outputs": [],
   "source": [
    "data['ceiling_height'] = data['ceiling_height'].fillna(data['ceiling_height'].median())"
   ]
  },
  {
   "cell_type": "markdown",
   "metadata": {},
   "source": [
    "Изменяем формат даты на читабельный."
   ]
  },
  {
   "cell_type": "code",
   "execution_count": 12,
   "metadata": {},
   "outputs": [],
   "source": [
    "data['first_day_exposition'] = pd.to_datetime(data['first_day_exposition'], format='%Y-%m-%dT%H:%M:%S')"
   ]
  },
  {
   "cell_type": "code",
   "execution_count": 13,
   "metadata": {},
   "outputs": [
    {
     "data": {
      "text/plain": [
       "'4.60 MB'"
      ]
     },
     "execution_count": 13,
     "metadata": {},
     "output_type": "execute_result"
    }
   ],
   "source": [
    "def mem_usage(pandas_obj):\n",
    "    if isinstance(pandas_obj,pd.DataFrame):\n",
    "        usage_b = pandas_obj.memory_usage(deep=True).sum()\n",
    "    else: # исходим из предположения о том, что если это не DataFrame, то это Series\n",
    "        usage_b = pandas_obj.memory_usage(deep=True)\n",
    "    usage_mb = usage_b / 1024 ** 2 # преобразуем байты в мегабайты\n",
    "    return \"{:03.2f} MB\".format(usage_mb)\n",
    "\n",
    "mem_usage(data)"
   ]
  },
  {
   "cell_type": "code",
   "execution_count": 14,
   "metadata": {},
   "outputs": [
    {
     "data": {
      "text/plain": [
       "'3.38 MB'"
      ]
     },
     "execution_count": 14,
     "metadata": {},
     "output_type": "execute_result"
    }
   ],
   "source": [
    "data['total_area'] = data['total_area'].astype('float16')\n",
    "data['rooms'] = data['rooms'].astype('uint8')\n",
    "data['floors_total'] = data['floors_total'].astype('uint8')\n",
    "data['living_area'] = data['living_area'].astype('float16')\n",
    "data['floor'] = data['floor'].astype('uint8')\n",
    "data['kitchen_area'] = data['kitchen_area'].astype('float16')\n",
    "data['ceiling_height'] = data['ceiling_height'].astype('float16')\n",
    "data['center_distance'] = data['center_distance'].astype('Int32')\n",
    "data['days_exposition'] = data['days_exposition'].astype('Int16')\n",
    "mem_usage(data)"
   ]
  },
  {
   "cell_type": "markdown",
   "metadata": {},
   "source": [
    "## Расчёты и добавление результатов в таблицу"
   ]
  },
  {
   "cell_type": "markdown",
   "metadata": {},
   "source": [
    "В соответствии с первым пунктом задачи рассчитаем цену квадратного метра."
   ]
  },
  {
   "cell_type": "code",
   "execution_count": 15,
   "metadata": {},
   "outputs": [],
   "source": [
    "data['meter_price'] = data['last_price'] // data['total_area']\n",
    "data['meter_price'] = data['meter_price'].astype('Int32')"
   ]
  },
  {
   "cell_type": "markdown",
   "metadata": {},
   "source": [
    "Добавим день, неделю и месяц публикации объявления в отдельные столбцы."
   ]
  },
  {
   "cell_type": "code",
   "execution_count": 16,
   "metadata": {},
   "outputs": [],
   "source": [
    "data['weekday'] = data['first_day_exposition'].dt.weekday\n",
    "data['month'] = data['first_day_exposition'].dt.month\n",
    "data['year'] = data['first_day_exposition'].dt.year"
   ]
  },
  {
   "cell_type": "markdown",
   "metadata": {},
   "source": [
    "Проведем категоризацию этажа квартиры; варианты — первый, последний, другой."
   ]
  },
  {
   "cell_type": "code",
   "execution_count": 17,
   "metadata": {},
   "outputs": [],
   "source": [
    "def check_category(row):\n",
    "    floor = row['floor']\n",
    "    last_floor = row['floors_total']\n",
    "    if floor == 1:\n",
    "        return 'Первый'\n",
    "    elif floor == last_floor:\n",
    "        return 'Последний'\n",
    "    return 'Другой'\n",
    "data['floor_category'] = data.apply(check_category, axis = 1)"
   ]
  },
  {
   "cell_type": "markdown",
   "metadata": {},
   "source": [
    "Посчитаем соотношение жилой и общей площади, а также отношение площади кухни к общей."
   ]
  },
  {
   "cell_type": "code",
   "execution_count": 18,
   "metadata": {},
   "outputs": [],
   "source": [
    "data['living_to_overall'] = data['living_area'] / data['total_area']\n",
    "data['kitchen_to_overall'] = data['kitchen_area'] / data['total_area']"
   ]
  },
  {
   "cell_type": "markdown",
   "metadata": {},
   "source": [
    "Итоговый результат перед следующим этапом:"
   ]
  },
  {
   "cell_type": "code",
   "execution_count": 19,
   "metadata": {},
   "outputs": [
    {
     "name": "stdout",
     "output_type": "stream",
     "text": [
      "<class 'pandas.core.frame.DataFrame'>\n",
      "Int64Index: 22946 entries, 0 to 23698\n",
      "Data columns (total 19 columns):\n",
      "last_price              22946 non-null Int64\n",
      "total_area              22946 non-null float16\n",
      "first_day_exposition    22946 non-null datetime64[ns]\n",
      "rooms                   22946 non-null uint8\n",
      "ceiling_height          22946 non-null float16\n",
      "floors_total            22946 non-null uint8\n",
      "living_area             21153 non-null float16\n",
      "floor                   22946 non-null uint8\n",
      "kitchen_area            21110 non-null float16\n",
      "locality_name           22898 non-null object\n",
      "center_distance         17687 non-null Int32\n",
      "days_exposition         19847 non-null Int16\n",
      "meter_price             22946 non-null Int32\n",
      "weekday                 22946 non-null int64\n",
      "month                   22946 non-null int64\n",
      "year                    22946 non-null int64\n",
      "floor_category          22946 non-null object\n",
      "living_to_overall       21153 non-null float16\n",
      "kitchen_to_overall      21110 non-null float16\n",
      "dtypes: Int16(1), Int32(2), Int64(1), datetime64[ns](1), float16(6), int64(3), object(2), uint8(3)\n",
      "memory usage: 2.0+ MB\n"
     ]
    },
    {
     "data": {
      "text/html": [
       "<div>\n",
       "<style scoped>\n",
       "    .dataframe tbody tr th:only-of-type {\n",
       "        vertical-align: middle;\n",
       "    }\n",
       "\n",
       "    .dataframe tbody tr th {\n",
       "        vertical-align: top;\n",
       "    }\n",
       "\n",
       "    .dataframe thead th {\n",
       "        text-align: right;\n",
       "    }\n",
       "</style>\n",
       "<table border=\"1\" class=\"dataframe\">\n",
       "  <thead>\n",
       "    <tr style=\"text-align: right;\">\n",
       "      <th></th>\n",
       "      <th>last_price</th>\n",
       "      <th>total_area</th>\n",
       "      <th>first_day_exposition</th>\n",
       "      <th>rooms</th>\n",
       "      <th>ceiling_height</th>\n",
       "      <th>floors_total</th>\n",
       "      <th>living_area</th>\n",
       "      <th>floor</th>\n",
       "      <th>kitchen_area</th>\n",
       "      <th>locality_name</th>\n",
       "      <th>center_distance</th>\n",
       "      <th>days_exposition</th>\n",
       "      <th>meter_price</th>\n",
       "      <th>weekday</th>\n",
       "      <th>month</th>\n",
       "      <th>year</th>\n",
       "      <th>floor_category</th>\n",
       "      <th>living_to_overall</th>\n",
       "      <th>kitchen_to_overall</th>\n",
       "    </tr>\n",
       "  </thead>\n",
       "  <tbody>\n",
       "    <tr>\n",
       "      <td>0</td>\n",
       "      <td>13000000</td>\n",
       "      <td>108.00000</td>\n",
       "      <td>2019-03-07</td>\n",
       "      <td>3</td>\n",
       "      <td>2.699219</td>\n",
       "      <td>16</td>\n",
       "      <td>51.000000</td>\n",
       "      <td>8</td>\n",
       "      <td>25.000000</td>\n",
       "      <td>Санкт-Петербург</td>\n",
       "      <td>16028</td>\n",
       "      <td>NaN</td>\n",
       "      <td>120370</td>\n",
       "      <td>3</td>\n",
       "      <td>3</td>\n",
       "      <td>2019</td>\n",
       "      <td>Другой</td>\n",
       "      <td>0.472168</td>\n",
       "      <td>0.231445</td>\n",
       "    </tr>\n",
       "    <tr>\n",
       "      <td>1</td>\n",
       "      <td>3350000</td>\n",
       "      <td>40.40625</td>\n",
       "      <td>2018-12-04</td>\n",
       "      <td>1</td>\n",
       "      <td>2.650391</td>\n",
       "      <td>11</td>\n",
       "      <td>18.593750</td>\n",
       "      <td>1</td>\n",
       "      <td>11.000000</td>\n",
       "      <td>посёлок Шушары</td>\n",
       "      <td>18603</td>\n",
       "      <td>81</td>\n",
       "      <td>82907</td>\n",
       "      <td>1</td>\n",
       "      <td>12</td>\n",
       "      <td>2018</td>\n",
       "      <td>Первый</td>\n",
       "      <td>0.460205</td>\n",
       "      <td>0.272217</td>\n",
       "    </tr>\n",
       "    <tr>\n",
       "      <td>2</td>\n",
       "      <td>5196000</td>\n",
       "      <td>56.00000</td>\n",
       "      <td>2015-08-20</td>\n",
       "      <td>2</td>\n",
       "      <td>2.650391</td>\n",
       "      <td>5</td>\n",
       "      <td>34.312500</td>\n",
       "      <td>4</td>\n",
       "      <td>8.296875</td>\n",
       "      <td>Санкт-Петербург</td>\n",
       "      <td>13933</td>\n",
       "      <td>558</td>\n",
       "      <td>92785</td>\n",
       "      <td>3</td>\n",
       "      <td>8</td>\n",
       "      <td>2015</td>\n",
       "      <td>Другой</td>\n",
       "      <td>0.612793</td>\n",
       "      <td>0.148193</td>\n",
       "    </tr>\n",
       "    <tr>\n",
       "      <td>3</td>\n",
       "      <td>64900000</td>\n",
       "      <td>159.00000</td>\n",
       "      <td>2015-07-24</td>\n",
       "      <td>3</td>\n",
       "      <td>2.650391</td>\n",
       "      <td>14</td>\n",
       "      <td>NaN</td>\n",
       "      <td>9</td>\n",
       "      <td>NaN</td>\n",
       "      <td>Санкт-Петербург</td>\n",
       "      <td>6800</td>\n",
       "      <td>424</td>\n",
       "      <td>408176</td>\n",
       "      <td>4</td>\n",
       "      <td>7</td>\n",
       "      <td>2015</td>\n",
       "      <td>Другой</td>\n",
       "      <td>NaN</td>\n",
       "      <td>NaN</td>\n",
       "    </tr>\n",
       "    <tr>\n",
       "      <td>4</td>\n",
       "      <td>10000000</td>\n",
       "      <td>100.00000</td>\n",
       "      <td>2018-06-19</td>\n",
       "      <td>2</td>\n",
       "      <td>3.029297</td>\n",
       "      <td>14</td>\n",
       "      <td>32.000000</td>\n",
       "      <td>13</td>\n",
       "      <td>41.000000</td>\n",
       "      <td>Санкт-Петербург</td>\n",
       "      <td>8098</td>\n",
       "      <td>121</td>\n",
       "      <td>100000</td>\n",
       "      <td>1</td>\n",
       "      <td>6</td>\n",
       "      <td>2018</td>\n",
       "      <td>Другой</td>\n",
       "      <td>0.320068</td>\n",
       "      <td>0.409912</td>\n",
       "    </tr>\n",
       "    <tr>\n",
       "      <td>5</td>\n",
       "      <td>2890000</td>\n",
       "      <td>30.40625</td>\n",
       "      <td>2018-09-10</td>\n",
       "      <td>1</td>\n",
       "      <td>2.650391</td>\n",
       "      <td>12</td>\n",
       "      <td>14.398438</td>\n",
       "      <td>5</td>\n",
       "      <td>9.101562</td>\n",
       "      <td>городской посёлок Янино-1</td>\n",
       "      <td>NaN</td>\n",
       "      <td>55</td>\n",
       "      <td>95046</td>\n",
       "      <td>0</td>\n",
       "      <td>9</td>\n",
       "      <td>2018</td>\n",
       "      <td>Другой</td>\n",
       "      <td>0.473633</td>\n",
       "      <td>0.299316</td>\n",
       "    </tr>\n",
       "    <tr>\n",
       "      <td>6</td>\n",
       "      <td>3700000</td>\n",
       "      <td>37.31250</td>\n",
       "      <td>2017-11-02</td>\n",
       "      <td>1</td>\n",
       "      <td>2.650391</td>\n",
       "      <td>26</td>\n",
       "      <td>10.601562</td>\n",
       "      <td>6</td>\n",
       "      <td>14.398438</td>\n",
       "      <td>посёлок Парголово</td>\n",
       "      <td>19143</td>\n",
       "      <td>155</td>\n",
       "      <td>99162</td>\n",
       "      <td>3</td>\n",
       "      <td>11</td>\n",
       "      <td>2017</td>\n",
       "      <td>Другой</td>\n",
       "      <td>0.284180</td>\n",
       "      <td>0.385986</td>\n",
       "    </tr>\n",
       "    <tr>\n",
       "      <td>7</td>\n",
       "      <td>7915000</td>\n",
       "      <td>71.62500</td>\n",
       "      <td>2019-04-18</td>\n",
       "      <td>2</td>\n",
       "      <td>2.650391</td>\n",
       "      <td>24</td>\n",
       "      <td>NaN</td>\n",
       "      <td>22</td>\n",
       "      <td>18.906250</td>\n",
       "      <td>Санкт-Петербург</td>\n",
       "      <td>11634</td>\n",
       "      <td>NaN</td>\n",
       "      <td>110506</td>\n",
       "      <td>3</td>\n",
       "      <td>4</td>\n",
       "      <td>2019</td>\n",
       "      <td>Другой</td>\n",
       "      <td>NaN</td>\n",
       "      <td>0.263916</td>\n",
       "    </tr>\n",
       "    <tr>\n",
       "      <td>8</td>\n",
       "      <td>2900000</td>\n",
       "      <td>33.15625</td>\n",
       "      <td>2018-05-23</td>\n",
       "      <td>1</td>\n",
       "      <td>2.650391</td>\n",
       "      <td>27</td>\n",
       "      <td>15.429688</td>\n",
       "      <td>26</td>\n",
       "      <td>8.812500</td>\n",
       "      <td>посёлок Мурино</td>\n",
       "      <td>NaN</td>\n",
       "      <td>189</td>\n",
       "      <td>87464</td>\n",
       "      <td>2</td>\n",
       "      <td>5</td>\n",
       "      <td>2018</td>\n",
       "      <td>Другой</td>\n",
       "      <td>0.465332</td>\n",
       "      <td>0.265869</td>\n",
       "    </tr>\n",
       "    <tr>\n",
       "      <td>9</td>\n",
       "      <td>5400000</td>\n",
       "      <td>61.00000</td>\n",
       "      <td>2017-02-26</td>\n",
       "      <td>3</td>\n",
       "      <td>2.500000</td>\n",
       "      <td>9</td>\n",
       "      <td>43.593750</td>\n",
       "      <td>7</td>\n",
       "      <td>6.500000</td>\n",
       "      <td>Санкт-Петербург</td>\n",
       "      <td>15008</td>\n",
       "      <td>289</td>\n",
       "      <td>88524</td>\n",
       "      <td>6</td>\n",
       "      <td>2</td>\n",
       "      <td>2017</td>\n",
       "      <td>Другой</td>\n",
       "      <td>0.714844</td>\n",
       "      <td>0.106567</td>\n",
       "    </tr>\n",
       "    <tr>\n",
       "      <td>10</td>\n",
       "      <td>5050000</td>\n",
       "      <td>39.59375</td>\n",
       "      <td>2017-11-16</td>\n",
       "      <td>1</td>\n",
       "      <td>2.669922</td>\n",
       "      <td>12</td>\n",
       "      <td>20.296875</td>\n",
       "      <td>3</td>\n",
       "      <td>8.500000</td>\n",
       "      <td>Санкт-Петербург</td>\n",
       "      <td>13878</td>\n",
       "      <td>137</td>\n",
       "      <td>127545</td>\n",
       "      <td>3</td>\n",
       "      <td>11</td>\n",
       "      <td>2017</td>\n",
       "      <td>Другой</td>\n",
       "      <td>0.512695</td>\n",
       "      <td>0.214722</td>\n",
       "    </tr>\n",
       "    <tr>\n",
       "      <td>11</td>\n",
       "      <td>3300000</td>\n",
       "      <td>44.00000</td>\n",
       "      <td>2018-08-27</td>\n",
       "      <td>2</td>\n",
       "      <td>2.650391</td>\n",
       "      <td>5</td>\n",
       "      <td>31.000000</td>\n",
       "      <td>4</td>\n",
       "      <td>6.000000</td>\n",
       "      <td>Ломоносов</td>\n",
       "      <td>51677</td>\n",
       "      <td>7</td>\n",
       "      <td>75000</td>\n",
       "      <td>0</td>\n",
       "      <td>8</td>\n",
       "      <td>2018</td>\n",
       "      <td>Другой</td>\n",
       "      <td>0.704590</td>\n",
       "      <td>0.136353</td>\n",
       "    </tr>\n",
       "    <tr>\n",
       "      <td>12</td>\n",
       "      <td>3890000</td>\n",
       "      <td>54.00000</td>\n",
       "      <td>2016-06-30</td>\n",
       "      <td>2</td>\n",
       "      <td>2.650391</td>\n",
       "      <td>5</td>\n",
       "      <td>30.000000</td>\n",
       "      <td>5</td>\n",
       "      <td>9.000000</td>\n",
       "      <td>Сертолово</td>\n",
       "      <td>NaN</td>\n",
       "      <td>90</td>\n",
       "      <td>72037</td>\n",
       "      <td>3</td>\n",
       "      <td>6</td>\n",
       "      <td>2016</td>\n",
       "      <td>Последний</td>\n",
       "      <td>0.555664</td>\n",
       "      <td>0.166626</td>\n",
       "    </tr>\n",
       "    <tr>\n",
       "      <td>13</td>\n",
       "      <td>3550000</td>\n",
       "      <td>42.81250</td>\n",
       "      <td>2017-07-01</td>\n",
       "      <td>2</td>\n",
       "      <td>2.560547</td>\n",
       "      <td>5</td>\n",
       "      <td>27.000000</td>\n",
       "      <td>5</td>\n",
       "      <td>5.199219</td>\n",
       "      <td>Петергоф</td>\n",
       "      <td>33058</td>\n",
       "      <td>366</td>\n",
       "      <td>82919</td>\n",
       "      <td>5</td>\n",
       "      <td>7</td>\n",
       "      <td>2017</td>\n",
       "      <td>Последний</td>\n",
       "      <td>0.630859</td>\n",
       "      <td>0.121460</td>\n",
       "    </tr>\n",
       "    <tr>\n",
       "      <td>14</td>\n",
       "      <td>4400000</td>\n",
       "      <td>36.00000</td>\n",
       "      <td>2016-06-23</td>\n",
       "      <td>1</td>\n",
       "      <td>2.650391</td>\n",
       "      <td>6</td>\n",
       "      <td>17.000000</td>\n",
       "      <td>1</td>\n",
       "      <td>8.000000</td>\n",
       "      <td>Пушкин</td>\n",
       "      <td>30759</td>\n",
       "      <td>203</td>\n",
       "      <td>122222</td>\n",
       "      <td>3</td>\n",
       "      <td>6</td>\n",
       "      <td>2016</td>\n",
       "      <td>Первый</td>\n",
       "      <td>0.472168</td>\n",
       "      <td>0.222168</td>\n",
       "    </tr>\n",
       "    <tr>\n",
       "      <td>15</td>\n",
       "      <td>4650000</td>\n",
       "      <td>39.00000</td>\n",
       "      <td>2017-11-18</td>\n",
       "      <td>1</td>\n",
       "      <td>2.650391</td>\n",
       "      <td>14</td>\n",
       "      <td>20.500000</td>\n",
       "      <td>5</td>\n",
       "      <td>7.601562</td>\n",
       "      <td>Санкт-Петербург</td>\n",
       "      <td>14259</td>\n",
       "      <td>19</td>\n",
       "      <td>119230</td>\n",
       "      <td>5</td>\n",
       "      <td>11</td>\n",
       "      <td>2017</td>\n",
       "      <td>Другой</td>\n",
       "      <td>0.525879</td>\n",
       "      <td>0.194946</td>\n",
       "    </tr>\n",
       "    <tr>\n",
       "      <td>16</td>\n",
       "      <td>6700000</td>\n",
       "      <td>82.00000</td>\n",
       "      <td>2017-11-23</td>\n",
       "      <td>3</td>\n",
       "      <td>3.050781</td>\n",
       "      <td>5</td>\n",
       "      <td>55.593750</td>\n",
       "      <td>1</td>\n",
       "      <td>9.000000</td>\n",
       "      <td>Санкт-Петербург</td>\n",
       "      <td>10698</td>\n",
       "      <td>397</td>\n",
       "      <td>81707</td>\n",
       "      <td>3</td>\n",
       "      <td>11</td>\n",
       "      <td>2017</td>\n",
       "      <td>Первый</td>\n",
       "      <td>0.677734</td>\n",
       "      <td>0.109741</td>\n",
       "    </tr>\n",
       "    <tr>\n",
       "      <td>17</td>\n",
       "      <td>4180000</td>\n",
       "      <td>36.00000</td>\n",
       "      <td>2016-09-09</td>\n",
       "      <td>1</td>\n",
       "      <td>2.650391</td>\n",
       "      <td>17</td>\n",
       "      <td>16.500000</td>\n",
       "      <td>7</td>\n",
       "      <td>11.000000</td>\n",
       "      <td>Санкт-Петербург</td>\n",
       "      <td>14616</td>\n",
       "      <td>571</td>\n",
       "      <td>116111</td>\n",
       "      <td>4</td>\n",
       "      <td>9</td>\n",
       "      <td>2016</td>\n",
       "      <td>Другой</td>\n",
       "      <td>0.458252</td>\n",
       "      <td>0.305664</td>\n",
       "    </tr>\n",
       "    <tr>\n",
       "      <td>18</td>\n",
       "      <td>3250000</td>\n",
       "      <td>31.00000</td>\n",
       "      <td>2017-01-27</td>\n",
       "      <td>1</td>\n",
       "      <td>2.500000</td>\n",
       "      <td>5</td>\n",
       "      <td>19.406250</td>\n",
       "      <td>2</td>\n",
       "      <td>5.601562</td>\n",
       "      <td>Санкт-Петербург</td>\n",
       "      <td>10842</td>\n",
       "      <td>168</td>\n",
       "      <td>104838</td>\n",
       "      <td>4</td>\n",
       "      <td>1</td>\n",
       "      <td>2017</td>\n",
       "      <td>Другой</td>\n",
       "      <td>0.625977</td>\n",
       "      <td>0.180664</td>\n",
       "    </tr>\n",
       "    <tr>\n",
       "      <td>19</td>\n",
       "      <td>14200000</td>\n",
       "      <td>121.00000</td>\n",
       "      <td>2019-01-09</td>\n",
       "      <td>3</td>\n",
       "      <td>2.750000</td>\n",
       "      <td>16</td>\n",
       "      <td>76.000000</td>\n",
       "      <td>8</td>\n",
       "      <td>12.000000</td>\n",
       "      <td>Санкт-Петербург</td>\n",
       "      <td>12843</td>\n",
       "      <td>97</td>\n",
       "      <td>117355</td>\n",
       "      <td>2</td>\n",
       "      <td>1</td>\n",
       "      <td>2019</td>\n",
       "      <td>Другой</td>\n",
       "      <td>0.627930</td>\n",
       "      <td>0.099182</td>\n",
       "    </tr>\n",
       "  </tbody>\n",
       "</table>\n",
       "</div>"
      ],
      "text/plain": [
       "    last_price  total_area first_day_exposition  rooms  ceiling_height  \\\n",
       "0     13000000   108.00000           2019-03-07      3        2.699219   \n",
       "1      3350000    40.40625           2018-12-04      1        2.650391   \n",
       "2      5196000    56.00000           2015-08-20      2        2.650391   \n",
       "3     64900000   159.00000           2015-07-24      3        2.650391   \n",
       "4     10000000   100.00000           2018-06-19      2        3.029297   \n",
       "5      2890000    30.40625           2018-09-10      1        2.650391   \n",
       "6      3700000    37.31250           2017-11-02      1        2.650391   \n",
       "7      7915000    71.62500           2019-04-18      2        2.650391   \n",
       "8      2900000    33.15625           2018-05-23      1        2.650391   \n",
       "9      5400000    61.00000           2017-02-26      3        2.500000   \n",
       "10     5050000    39.59375           2017-11-16      1        2.669922   \n",
       "11     3300000    44.00000           2018-08-27      2        2.650391   \n",
       "12     3890000    54.00000           2016-06-30      2        2.650391   \n",
       "13     3550000    42.81250           2017-07-01      2        2.560547   \n",
       "14     4400000    36.00000           2016-06-23      1        2.650391   \n",
       "15     4650000    39.00000           2017-11-18      1        2.650391   \n",
       "16     6700000    82.00000           2017-11-23      3        3.050781   \n",
       "17     4180000    36.00000           2016-09-09      1        2.650391   \n",
       "18     3250000    31.00000           2017-01-27      1        2.500000   \n",
       "19    14200000   121.00000           2019-01-09      3        2.750000   \n",
       "\n",
       "    floors_total  living_area  floor  kitchen_area              locality_name  \\\n",
       "0             16    51.000000      8     25.000000            Санкт-Петербург   \n",
       "1             11    18.593750      1     11.000000             посёлок Шушары   \n",
       "2              5    34.312500      4      8.296875            Санкт-Петербург   \n",
       "3             14          NaN      9           NaN            Санкт-Петербург   \n",
       "4             14    32.000000     13     41.000000            Санкт-Петербург   \n",
       "5             12    14.398438      5      9.101562  городской посёлок Янино-1   \n",
       "6             26    10.601562      6     14.398438          посёлок Парголово   \n",
       "7             24          NaN     22     18.906250            Санкт-Петербург   \n",
       "8             27    15.429688     26      8.812500             посёлок Мурино   \n",
       "9              9    43.593750      7      6.500000            Санкт-Петербург   \n",
       "10            12    20.296875      3      8.500000            Санкт-Петербург   \n",
       "11             5    31.000000      4      6.000000                  Ломоносов   \n",
       "12             5    30.000000      5      9.000000                  Сертолово   \n",
       "13             5    27.000000      5      5.199219                   Петергоф   \n",
       "14             6    17.000000      1      8.000000                     Пушкин   \n",
       "15            14    20.500000      5      7.601562            Санкт-Петербург   \n",
       "16             5    55.593750      1      9.000000            Санкт-Петербург   \n",
       "17            17    16.500000      7     11.000000            Санкт-Петербург   \n",
       "18             5    19.406250      2      5.601562            Санкт-Петербург   \n",
       "19            16    76.000000      8     12.000000            Санкт-Петербург   \n",
       "\n",
       "    center_distance  days_exposition  meter_price  weekday  month  year  \\\n",
       "0             16028              NaN       120370        3      3  2019   \n",
       "1             18603               81        82907        1     12  2018   \n",
       "2             13933              558        92785        3      8  2015   \n",
       "3              6800              424       408176        4      7  2015   \n",
       "4              8098              121       100000        1      6  2018   \n",
       "5               NaN               55        95046        0      9  2018   \n",
       "6             19143              155        99162        3     11  2017   \n",
       "7             11634              NaN       110506        3      4  2019   \n",
       "8               NaN              189        87464        2      5  2018   \n",
       "9             15008              289        88524        6      2  2017   \n",
       "10            13878              137       127545        3     11  2017   \n",
       "11            51677                7        75000        0      8  2018   \n",
       "12              NaN               90        72037        3      6  2016   \n",
       "13            33058              366        82919        5      7  2017   \n",
       "14            30759              203       122222        3      6  2016   \n",
       "15            14259               19       119230        5     11  2017   \n",
       "16            10698              397        81707        3     11  2017   \n",
       "17            14616              571       116111        4      9  2016   \n",
       "18            10842              168       104838        4      1  2017   \n",
       "19            12843               97       117355        2      1  2019   \n",
       "\n",
       "   floor_category  living_to_overall  kitchen_to_overall  \n",
       "0          Другой           0.472168            0.231445  \n",
       "1          Первый           0.460205            0.272217  \n",
       "2          Другой           0.612793            0.148193  \n",
       "3          Другой                NaN                 NaN  \n",
       "4          Другой           0.320068            0.409912  \n",
       "5          Другой           0.473633            0.299316  \n",
       "6          Другой           0.284180            0.385986  \n",
       "7          Другой                NaN            0.263916  \n",
       "8          Другой           0.465332            0.265869  \n",
       "9          Другой           0.714844            0.106567  \n",
       "10         Другой           0.512695            0.214722  \n",
       "11         Другой           0.704590            0.136353  \n",
       "12      Последний           0.555664            0.166626  \n",
       "13      Последний           0.630859            0.121460  \n",
       "14         Первый           0.472168            0.222168  \n",
       "15         Другой           0.525879            0.194946  \n",
       "16         Первый           0.677734            0.109741  \n",
       "17         Другой           0.458252            0.305664  \n",
       "18         Другой           0.625977            0.180664  \n",
       "19         Другой           0.627930            0.099182  "
      ]
     },
     "execution_count": 19,
     "metadata": {},
     "output_type": "execute_result"
    }
   ],
   "source": [
    "data.info()\n",
    "data.head(20)"
   ]
  },
  {
   "cell_type": "markdown",
   "metadata": {},
   "source": [
    "## Исследовательский анализ данных"
   ]
  },
  {
   "cell_type": "markdown",
   "metadata": {},
   "source": [
    "Изучим следующие параметры: площадь, цена, число комнат, высота потолков. Построим гистограмму для каждого параметра."
   ]
  },
  {
   "cell_type": "markdown",
   "metadata": {},
   "source": [
    "Площадь:"
   ]
  },
  {
   "cell_type": "code",
   "execution_count": 20,
   "metadata": {},
   "outputs": [
    {
     "data": {
      "text/plain": [
       "count    22946.00000\n",
       "mean             inf\n",
       "std              inf\n",
       "min         29.09375\n",
       "25%         41.00000\n",
       "50%         53.00000\n",
       "75%         70.00000\n",
       "max        900.00000\n",
       "Name: total_area, dtype: float64"
      ]
     },
     "execution_count": 20,
     "metadata": {},
     "output_type": "execute_result"
    }
   ],
   "source": [
    "data['total_area'].describe()"
   ]
  },
  {
   "cell_type": "code",
   "execution_count": 21,
   "metadata": {},
   "outputs": [
    {
     "data": {
      "image/png": "[encoded data removed]",
      "text/plain": [
       "<Figure size 432x288 with 1 Axes>"
      ]
     },
     "metadata": {
      "needs_background": "light"
     },
     "output_type": "display_data"
    }
   ],
   "source": [
    "data['total_area'].hist()\n",
    "plt.xlabel('Общая площадь, квадратных метров')\n",
    "plt.ylabel('Количество вхождений, штук')\n",
    "plt.title('Гистограмма общей площади')\n",
    "plt.show()"
   ]
  },
  {
   "cell_type": "markdown",
   "metadata": {},
   "source": [
    "Ага, большинство квартир площадью от 30 до 200 метров.<br>\n",
    "Построим две отдельные гистограммы для квартир меньше и больше 200 метров, также посмотрим на гигантские квартиры, всё ли там в порядке.<br> Отмечу сразу, что ничего в глаза не бросилось."
   ]
  },
  {
   "cell_type": "code",
   "execution_count": 22,
   "metadata": {},
   "outputs": [
    {
     "data": {
      "image/png": "[encoded data removed]",
      "text/plain": [
       "<Figure size 432x288 with 1 Axes>"
      ]
     },
     "metadata": {
      "needs_background": "light"
     },
     "output_type": "display_data"
    }
   ],
   "source": [
    "data['total_area'].hist(bins = 20, range=(29, 200))\n",
    "plt.xlabel('Общая площадь, квадратных метров')\n",
    "plt.ylabel('Количество вхождений, штук')\n",
    "plt.title('Гистограмма общей площади')\n",
    "plt.show()"
   ]
  },
  {
   "cell_type": "code",
   "execution_count": 23,
   "metadata": {},
   "outputs": [
    {
     "data": {
      "image/png": "[encoded data removed]",
      "text/plain": [
       "<Figure size 432x288 with 1 Axes>"
      ]
     },
     "metadata": {
      "needs_background": "light"
     },
     "output_type": "display_data"
    },
    {
     "data": {
      "text/html": [
       "<div>\n",
       "<style scoped>\n",
       "    .dataframe tbody tr th:only-of-type {\n",
       "        vertical-align: middle;\n",
       "    }\n",
       "\n",
       "    .dataframe tbody tr th {\n",
       "        vertical-align: top;\n",
       "    }\n",
       "\n",
       "    .dataframe thead th {\n",
       "        text-align: right;\n",
       "    }\n",
       "</style>\n",
       "<table border=\"1\" class=\"dataframe\">\n",
       "  <thead>\n",
       "    <tr style=\"text-align: right;\">\n",
       "      <th></th>\n",
       "      <th>last_price</th>\n",
       "      <th>total_area</th>\n",
       "      <th>first_day_exposition</th>\n",
       "      <th>rooms</th>\n",
       "      <th>ceiling_height</th>\n",
       "      <th>floors_total</th>\n",
       "      <th>living_area</th>\n",
       "      <th>floor</th>\n",
       "      <th>kitchen_area</th>\n",
       "      <th>locality_name</th>\n",
       "      <th>center_distance</th>\n",
       "      <th>days_exposition</th>\n",
       "      <th>meter_price</th>\n",
       "      <th>weekday</th>\n",
       "      <th>month</th>\n",
       "      <th>year</th>\n",
       "      <th>floor_category</th>\n",
       "      <th>living_to_overall</th>\n",
       "      <th>kitchen_to_overall</th>\n",
       "    </tr>\n",
       "  </thead>\n",
       "  <tbody>\n",
       "    <tr>\n",
       "      <td>2462</td>\n",
       "      <td>7900000</td>\n",
       "      <td>201.50</td>\n",
       "      <td>2018-08-17</td>\n",
       "      <td>7</td>\n",
       "      <td>2.650391</td>\n",
       "      <td>2</td>\n",
       "      <td>NaN</td>\n",
       "      <td>2</td>\n",
       "      <td>NaN</td>\n",
       "      <td>посёлок Парголово</td>\n",
       "      <td>20665</td>\n",
       "      <td>35</td>\n",
       "      <td>39205</td>\n",
       "      <td>4</td>\n",
       "      <td>8</td>\n",
       "      <td>2018</td>\n",
       "      <td>Последний</td>\n",
       "      <td>NaN</td>\n",
       "      <td>NaN</td>\n",
       "    </tr>\n",
       "    <tr>\n",
       "      <td>7399</td>\n",
       "      <td>11000000</td>\n",
       "      <td>230.00</td>\n",
       "      <td>2018-03-01</td>\n",
       "      <td>5</td>\n",
       "      <td>2.500000</td>\n",
       "      <td>2</td>\n",
       "      <td>NaN</td>\n",
       "      <td>2</td>\n",
       "      <td>NaN</td>\n",
       "      <td>деревня Хязельки</td>\n",
       "      <td>NaN</td>\n",
       "      <td>419</td>\n",
       "      <td>47826</td>\n",
       "      <td>3</td>\n",
       "      <td>3</td>\n",
       "      <td>2018</td>\n",
       "      <td>Последний</td>\n",
       "      <td>NaN</td>\n",
       "      <td>NaN</td>\n",
       "    </tr>\n",
       "    <tr>\n",
       "      <td>22038</td>\n",
       "      <td>11940000</td>\n",
       "      <td>206.00</td>\n",
       "      <td>2018-12-12</td>\n",
       "      <td>5</td>\n",
       "      <td>3.500000</td>\n",
       "      <td>6</td>\n",
       "      <td>160.000</td>\n",
       "      <td>3</td>\n",
       "      <td>26.000000</td>\n",
       "      <td>Санкт-Петербург</td>\n",
       "      <td>1852</td>\n",
       "      <td>90</td>\n",
       "      <td>57961</td>\n",
       "      <td>2</td>\n",
       "      <td>12</td>\n",
       "      <td>2018</td>\n",
       "      <td>Другой</td>\n",
       "      <td>0.776855</td>\n",
       "      <td>0.126221</td>\n",
       "    </tr>\n",
       "    <tr>\n",
       "      <td>2489</td>\n",
       "      <td>12500000</td>\n",
       "      <td>255.00</td>\n",
       "      <td>2017-04-21</td>\n",
       "      <td>3</td>\n",
       "      <td>2.650391</td>\n",
       "      <td>2</td>\n",
       "      <td>153.875</td>\n",
       "      <td>2</td>\n",
       "      <td>100.687500</td>\n",
       "      <td>Санкт-Петербург</td>\n",
       "      <td>6916</td>\n",
       "      <td>102</td>\n",
       "      <td>49019</td>\n",
       "      <td>4</td>\n",
       "      <td>4</td>\n",
       "      <td>2017</td>\n",
       "      <td>Последний</td>\n",
       "      <td>0.603516</td>\n",
       "      <td>0.394775</td>\n",
       "    </tr>\n",
       "    <tr>\n",
       "      <td>6107</td>\n",
       "      <td>13200000</td>\n",
       "      <td>236.00</td>\n",
       "      <td>2018-07-20</td>\n",
       "      <td>4</td>\n",
       "      <td>2.800781</td>\n",
       "      <td>3</td>\n",
       "      <td>78.000</td>\n",
       "      <td>3</td>\n",
       "      <td>19.000000</td>\n",
       "      <td>Сертолово</td>\n",
       "      <td>NaN</td>\n",
       "      <td>42</td>\n",
       "      <td>55932</td>\n",
       "      <td>4</td>\n",
       "      <td>7</td>\n",
       "      <td>2018</td>\n",
       "      <td>Последний</td>\n",
       "      <td>0.330566</td>\n",
       "      <td>0.080505</td>\n",
       "    </tr>\n",
       "    <tr>\n",
       "      <td>...</td>\n",
       "      <td>...</td>\n",
       "      <td>...</td>\n",
       "      <td>...</td>\n",
       "      <td>...</td>\n",
       "      <td>...</td>\n",
       "      <td>...</td>\n",
       "      <td>...</td>\n",
       "      <td>...</td>\n",
       "      <td>...</td>\n",
       "      <td>...</td>\n",
       "      <td>...</td>\n",
       "      <td>...</td>\n",
       "      <td>...</td>\n",
       "      <td>...</td>\n",
       "      <td>...</td>\n",
       "      <td>...</td>\n",
       "      <td>...</td>\n",
       "      <td>...</td>\n",
       "      <td>...</td>\n",
       "    </tr>\n",
       "    <tr>\n",
       "      <td>16461</td>\n",
       "      <td>245000000</td>\n",
       "      <td>285.75</td>\n",
       "      <td>2017-04-10</td>\n",
       "      <td>6</td>\n",
       "      <td>3.349609</td>\n",
       "      <td>7</td>\n",
       "      <td>182.750</td>\n",
       "      <td>4</td>\n",
       "      <td>29.796875</td>\n",
       "      <td>Санкт-Петербург</td>\n",
       "      <td>6235</td>\n",
       "      <td>249</td>\n",
       "      <td>857392</td>\n",
       "      <td>0</td>\n",
       "      <td>4</td>\n",
       "      <td>2017</td>\n",
       "      <td>Другой</td>\n",
       "      <td>0.639648</td>\n",
       "      <td>0.104248</td>\n",
       "    </tr>\n",
       "    <tr>\n",
       "      <td>15651</td>\n",
       "      <td>300000000</td>\n",
       "      <td>618.00</td>\n",
       "      <td>2017-12-18</td>\n",
       "      <td>7</td>\n",
       "      <td>3.400391</td>\n",
       "      <td>7</td>\n",
       "      <td>258.000</td>\n",
       "      <td>5</td>\n",
       "      <td>70.000000</td>\n",
       "      <td>Санкт-Петербург</td>\n",
       "      <td>5297</td>\n",
       "      <td>111</td>\n",
       "      <td>485436</td>\n",
       "      <td>0</td>\n",
       "      <td>12</td>\n",
       "      <td>2017</td>\n",
       "      <td>Другой</td>\n",
       "      <td>0.417480</td>\n",
       "      <td>0.113281</td>\n",
       "    </tr>\n",
       "    <tr>\n",
       "      <td>14706</td>\n",
       "      <td>401300000</td>\n",
       "      <td>401.00</td>\n",
       "      <td>2016-02-20</td>\n",
       "      <td>5</td>\n",
       "      <td>2.650391</td>\n",
       "      <td>9</td>\n",
       "      <td>204.000</td>\n",
       "      <td>9</td>\n",
       "      <td>24.000000</td>\n",
       "      <td>Санкт-Петербург</td>\n",
       "      <td>2389</td>\n",
       "      <td>393</td>\n",
       "      <td>1000748</td>\n",
       "      <td>5</td>\n",
       "      <td>2</td>\n",
       "      <td>2016</td>\n",
       "      <td>Последний</td>\n",
       "      <td>0.508789</td>\n",
       "      <td>0.059845</td>\n",
       "    </tr>\n",
       "    <tr>\n",
       "      <td>19540</td>\n",
       "      <td>420000000</td>\n",
       "      <td>900.00</td>\n",
       "      <td>2017-12-06</td>\n",
       "      <td>12</td>\n",
       "      <td>2.800781</td>\n",
       "      <td>25</td>\n",
       "      <td>409.750</td>\n",
       "      <td>25</td>\n",
       "      <td>112.000000</td>\n",
       "      <td>Санкт-Петербург</td>\n",
       "      <td>7877</td>\n",
       "      <td>106</td>\n",
       "      <td>466666</td>\n",
       "      <td>2</td>\n",
       "      <td>12</td>\n",
       "      <td>2017</td>\n",
       "      <td>Последний</td>\n",
       "      <td>0.455322</td>\n",
       "      <td>0.124451</td>\n",
       "    </tr>\n",
       "    <tr>\n",
       "      <td>12971</td>\n",
       "      <td>763000000</td>\n",
       "      <td>400.00</td>\n",
       "      <td>2017-09-30</td>\n",
       "      <td>7</td>\n",
       "      <td>2.650391</td>\n",
       "      <td>10</td>\n",
       "      <td>250.000</td>\n",
       "      <td>10</td>\n",
       "      <td>NaN</td>\n",
       "      <td>Санкт-Петербург</td>\n",
       "      <td>3956</td>\n",
       "      <td>33</td>\n",
       "      <td>1907500</td>\n",
       "      <td>5</td>\n",
       "      <td>9</td>\n",
       "      <td>2017</td>\n",
       "      <td>Последний</td>\n",
       "      <td>0.625000</td>\n",
       "      <td>NaN</td>\n",
       "    </tr>\n",
       "  </tbody>\n",
       "</table>\n",
       "<p>224 rows × 19 columns</p>\n",
       "</div>"
      ],
      "text/plain": [
       "       last_price  total_area first_day_exposition  rooms  ceiling_height  \\\n",
       "2462      7900000      201.50           2018-08-17      7        2.650391   \n",
       "7399     11000000      230.00           2018-03-01      5        2.500000   \n",
       "22038    11940000      206.00           2018-12-12      5        3.500000   \n",
       "2489     12500000      255.00           2017-04-21      3        2.650391   \n",
       "6107     13200000      236.00           2018-07-20      4        2.800781   \n",
       "...           ...         ...                  ...    ...             ...   \n",
       "16461   245000000      285.75           2017-04-10      6        3.349609   \n",
       "15651   300000000      618.00           2017-12-18      7        3.400391   \n",
       "14706   401300000      401.00           2016-02-20      5        2.650391   \n",
       "19540   420000000      900.00           2017-12-06     12        2.800781   \n",
       "12971   763000000      400.00           2017-09-30      7        2.650391   \n",
       "\n",
       "       floors_total  living_area  floor  kitchen_area      locality_name  \\\n",
       "2462              2          NaN      2           NaN  посёлок Парголово   \n",
       "7399              2          NaN      2           NaN   деревня Хязельки   \n",
       "22038             6      160.000      3     26.000000    Санкт-Петербург   \n",
       "2489              2      153.875      2    100.687500    Санкт-Петербург   \n",
       "6107              3       78.000      3     19.000000          Сертолово   \n",
       "...             ...          ...    ...           ...                ...   \n",
       "16461             7      182.750      4     29.796875    Санкт-Петербург   \n",
       "15651             7      258.000      5     70.000000    Санкт-Петербург   \n",
       "14706             9      204.000      9     24.000000    Санкт-Петербург   \n",
       "19540            25      409.750     25    112.000000    Санкт-Петербург   \n",
       "12971            10      250.000     10           NaN    Санкт-Петербург   \n",
       "\n",
       "       center_distance  days_exposition  meter_price  weekday  month  year  \\\n",
       "2462             20665               35        39205        4      8  2018   \n",
       "7399               NaN              419        47826        3      3  2018   \n",
       "22038             1852               90        57961        2     12  2018   \n",
       "2489              6916              102        49019        4      4  2017   \n",
       "6107               NaN               42        55932        4      7  2018   \n",
       "...                ...              ...          ...      ...    ...   ...   \n",
       "16461             6235              249       857392        0      4  2017   \n",
       "15651             5297              111       485436        0     12  2017   \n",
       "14706             2389              393      1000748        5      2  2016   \n",
       "19540             7877              106       466666        2     12  2017   \n",
       "12971             3956               33      1907500        5      9  2017   \n",
       "\n",
       "      floor_category  living_to_overall  kitchen_to_overall  \n",
       "2462       Последний                NaN                 NaN  \n",
       "7399       Последний                NaN                 NaN  \n",
       "22038         Другой           0.776855            0.126221  \n",
       "2489       Последний           0.603516            0.394775  \n",
       "6107       Последний           0.330566            0.080505  \n",
       "...              ...                ...                 ...  \n",
       "16461         Другой           0.639648            0.104248  \n",
       "15651         Другой           0.417480            0.113281  \n",
       "14706      Последний           0.508789            0.059845  \n",
       "19540      Последний           0.455322            0.124451  \n",
       "12971      Последний           0.625000                 NaN  \n",
       "\n",
       "[224 rows x 19 columns]"
      ]
     },
     "execution_count": 23,
     "metadata": {},
     "output_type": "execute_result"
    }
   ],
   "source": [
    "data['total_area'].hist(bins = 20, range=(200, 900))\n",
    "plt.xlabel('Общая площадь, квадратных метров')\n",
    "plt.ylabel('Количество вхождений, штук')\n",
    "plt.title('Гистограмма общей площади')\n",
    "plt.show()\n",
    "data[data['total_area'] > 200].sort_values(by='last_price', ascending=True)"
   ]
  },
  {
   "cell_type": "markdown",
   "metadata": {},
   "source": [
    "Теперь посмотрим на цену. Ожидаю увидеть схожую картину с площадью. Данные разделю на миллион, чтобы уйти от экспоненты."
   ]
  },
  {
   "cell_type": "code",
   "execution_count": 24,
   "metadata": {},
   "outputs": [
    {
     "data": {
      "text/plain": [
       "count    22946.000000\n",
       "mean         6.061492\n",
       "std          8.696130\n",
       "min          0.000000\n",
       "25%          3.000000\n",
       "50%          4.000000\n",
       "75%          6.000000\n",
       "max        251.000000\n",
       "Name: last_price_millions, dtype: float64"
      ]
     },
     "execution_count": 24,
     "metadata": {},
     "output_type": "execute_result"
    }
   ],
   "source": [
    "data[\"last_price_millions\"] = data['last_price'] / 1000000\n",
    "data['last_price_millions'] = data['last_price_millions'].astype('uint8')\n",
    "data['last_price_millions'].describe()"
   ]
  },
  {
   "cell_type": "code",
   "execution_count": 25,
   "metadata": {},
   "outputs": [
    {
     "data": {
      "image/png": "[encoded data removed]",
      "text/plain": [
       "<Figure size 432x288 with 1 Axes>"
      ]
     },
     "metadata": {
      "needs_background": "light"
     },
     "output_type": "display_data"
    }
   ],
   "source": [
    "data['last_price_millions'].hist()\n",
    "plt.xlabel('Цена, миллионов рублей')\n",
    "plt.ylabel('Количество вхождений, штук')\n",
    "plt.title('Гистограмма цены')\n",
    "plt.show()"
   ]
  },
  {
   "cell_type": "code",
   "execution_count": 26,
   "metadata": {},
   "outputs": [
    {
     "data": {
      "image/png": "[encoded data removed]",
      "text/plain": [
       "<Figure size 432x288 with 1 Axes>"
      ]
     },
     "metadata": {
      "needs_background": "light"
     },
     "output_type": "display_data"
    }
   ],
   "source": [
    "data['last_price_millions'].hist(bins = 20, range=(0, 40))\n",
    "plt.xlabel('Цена, миллионов рублей')\n",
    "plt.ylabel('Количество вхождений, штук')\n",
    "plt.title('Гистограмма цены')\n",
    "plt.show()"
   ]
  },
  {
   "cell_type": "markdown",
   "metadata": {},
   "source": [
    "По этим двум параметрам видно, что гигантские квартиры стоят огромных денег. Ставим квартиры площадью > 200 метров и ценой > 40 миллионов как кандидаты на отсечение."
   ]
  },
  {
   "cell_type": "markdown",
   "metadata": {},
   "source": [
    "Посмотрим информацию по числу комнат. Вспомним, что у нас есть квартиры с 0 комнатами."
   ]
  },
  {
   "cell_type": "code",
   "execution_count": 27,
   "metadata": {},
   "outputs": [
    {
     "data": {
      "text/plain": [
       "count    22946.000000\n",
       "mean         2.107557\n",
       "std          1.066181\n",
       "min          0.000000\n",
       "25%          1.000000\n",
       "50%          2.000000\n",
       "75%          3.000000\n",
       "max         19.000000\n",
       "Name: rooms, dtype: float64"
      ]
     },
     "execution_count": 27,
     "metadata": {},
     "output_type": "execute_result"
    }
   ],
   "source": [
    "data['rooms'].describe()"
   ]
  },
  {
   "cell_type": "code",
   "execution_count": 28,
   "metadata": {},
   "outputs": [
    {
     "data": {
      "image/png": "[encoded data removed]",
      "text/plain": [
       "<Figure size 432x288 with 1 Axes>"
      ]
     },
     "metadata": {
      "needs_background": "light"
     },
     "output_type": "display_data"
    }
   ],
   "source": [
    "data['rooms'].hist(range=(1,19), bins = 19)\n",
    "plt.xlabel('Количество комнат, штук')\n",
    "plt.ylabel('Количество вхождений, штук')\n",
    "plt.title('Гистограмма количества комнат')\n",
    "plt.show()"
   ]
  },
  {
   "cell_type": "code",
   "execution_count": 29,
   "metadata": {},
   "outputs": [
    {
     "data": {
      "image/png": "[encoded data removed]",
      "text/plain": [
       "<Figure size 432x288 with 1 Axes>"
      ]
     },
     "metadata": {
      "needs_background": "light"
     },
     "output_type": "display_data"
    }
   ],
   "source": [
    "data['rooms'].hist(range=(1,7), bins = 7)\n",
    "plt.xlabel('Количество комнат, штук')\n",
    "plt.ylabel('Количество вхождений, штук')\n",
    "plt.title('Гистограмма количества комнат')\n",
    "plt.show()"
   ]
  },
  {
   "cell_type": "markdown",
   "metadata": {},
   "source": [
    "Похоже, имеет смысл отсечь квартиры с 8+ комнат."
   ]
  },
  {
   "cell_type": "markdown",
   "metadata": {},
   "source": [
    "Высота потолка:"
   ]
  },
  {
   "cell_type": "code",
   "execution_count": 30,
   "metadata": {},
   "outputs": [
    {
     "data": {
      "text/plain": [
       "count    22946.000000\n",
       "mean         2.718750\n",
       "std          0.723633\n",
       "min          1.000000\n",
       "25%          2.599609\n",
       "50%          2.650391\n",
       "75%          2.699219\n",
       "max         32.000000\n",
       "Name: ceiling_height, dtype: float64"
      ]
     },
     "execution_count": 30,
     "metadata": {},
     "output_type": "execute_result"
    }
   ],
   "source": [
    "data['ceiling_height'].describe()"
   ]
  },
  {
   "cell_type": "code",
   "execution_count": 31,
   "metadata": {},
   "outputs": [
    {
     "data": {
      "image/png": "[encoded data removed]",
      "text/plain": [
       "<Figure size 432x288 with 1 Axes>"
      ]
     },
     "metadata": {
      "needs_background": "light"
     },
     "output_type": "display_data"
    }
   ],
   "source": [
    "data['ceiling_height'].hist()\n",
    "plt.xlabel('Высота потолка, метров')\n",
    "plt.ylabel('Количество вхождений, штук')\n",
    "plt.title('Гистограмма высоты потолков')\n",
    "plt.show()"
   ]
  },
  {
   "cell_type": "code",
   "execution_count": 32,
   "metadata": {},
   "outputs": [
    {
     "data": {
      "image/png": "[encoded data removed]",
      "text/plain": [
       "<Figure size 432x288 with 1 Axes>"
      ]
     },
     "metadata": {
      "needs_background": "light"
     },
     "output_type": "display_data"
    }
   ],
   "source": [
    "data['ceiling_height'].hist(bins = 10, range= (2.5,4))\n",
    "plt.xlabel('Высота потолка, метров')\n",
    "plt.ylabel('Количество вхождений, штук')\n",
    "plt.title('Гистограмма высоты потолков')\n",
    "plt.show()"
   ]
  },
  {
   "cell_type": "markdown",
   "metadata": {},
   "source": [
    "Гугл говорит, что минимальная высота потолка должна быть 2.5м. Гуглу мы верим.<br>\n",
    "Также нам мало интересны потолки > 4м."
   ]
  },
  {
   "cell_type": "markdown",
   "metadata": {},
   "source": [
    "Изучим время продажи квартиры."
   ]
  },
  {
   "cell_type": "code",
   "execution_count": 33,
   "metadata": {},
   "outputs": [
    {
     "data": {
      "text/plain": [
       "count    19847.000000\n",
       "mean       182.220084\n",
       "std        220.351605\n",
       "min          1.000000\n",
       "25%         45.000000\n",
       "50%         97.000000\n",
       "75%        233.000000\n",
       "max       1580.000000\n",
       "Name: days_exposition, dtype: float64"
      ]
     },
     "execution_count": 33,
     "metadata": {},
     "output_type": "execute_result"
    }
   ],
   "source": [
    "data['days_exposition'].describe()"
   ]
  },
  {
   "cell_type": "code",
   "execution_count": 34,
   "metadata": {},
   "outputs": [
    {
     "data": {
      "image/png": "[encoded data removed]",
      "text/plain": [
       "<Figure size 432x288 with 1 Axes>"
      ]
     },
     "metadata": {
      "needs_background": "light"
     },
     "output_type": "display_data"
    }
   ],
   "source": [
    "data['days_exposition'].hist()\n",
    "plt.xlabel('Дней до снятия объявления')\n",
    "plt.ylabel('Количество вхождений, штук')\n",
    "plt.title('Гистограмма времени продажи квартиры')\n",
    "plt.show()"
   ]
  },
  {
   "cell_type": "markdown",
   "metadata": {},
   "source": [
    "Необязательно считать среднее и медиану - всё же есть в describe.<br>\n",
    "Среднее - 182 дня, медиана - 97 дней.<br>\n",
    "Очень быстро и очень долго здесь понятия растяжимые. На мой взгляд: меньше месяца - это быстро, больше года - долго.<br>\n",
    "За \"обычно\" я бы принял значение между месяцем и полугодом."
   ]
  },
  {
   "cell_type": "code",
   "execution_count": 35,
   "metadata": {},
   "outputs": [
    {
     "data": {
      "image/png": "[encoded data removed]",
      "text/plain": [
       "<Figure size 432x288 with 1 Axes>"
      ]
     },
     "metadata": {
      "needs_background": "light"
     },
     "output_type": "display_data"
    }
   ],
   "source": [
    "data['days_exposition'].hist(bins = 20, range = (0, 100))\n",
    "plt.xlabel('Дней до снятия объявления')\n",
    "plt.ylabel('Количество вхождений, штук')\n",
    "plt.title('Гистограмма времени продажи квартиры')\n",
    "plt.show()"
   ]
  },
  {
   "cell_type": "markdown",
   "metadata": {},
   "source": [
    "Уберём редкие и выбивающиеся значения исходя из наблюдений, полученных при анализе."
   ]
  },
  {
   "cell_type": "code",
   "execution_count": 36,
   "metadata": {},
   "outputs": [],
   "source": [
    "data = data.query('(total_area < 201) & (last_price < 40000000) & (0 < rooms <= 7) & (2.5 < ceiling_height < 4)')"
   ]
  },
  {
   "cell_type": "markdown",
   "metadata": {},
   "source": [
    "Изучаем зависимость цены от площади."
   ]
  },
  {
   "cell_type": "code",
   "execution_count": 37,
   "metadata": {},
   "outputs": [
    {
     "data": {
      "image/png": "[encoded data removed]",
      "text/plain": [
       "<Figure size 432x288 with 1 Axes>"
      ]
     },
     "metadata": {
      "needs_background": "light"
     },
     "output_type": "display_data"
    }
   ],
   "source": [
    "data.plot(x='total_area', y='last_price_millions', kind='scatter')\n",
    "plt.xlabel('Общая площадь, квадратных метров')\n",
    "plt.ylabel('Цена, миллионов рублей')\n",
    "plt.title('Зависимость цены от общей площади')\n",
    "plt.show()"
   ]
  },
  {
   "cell_type": "code",
   "execution_count": 38,
   "metadata": {},
   "outputs": [
    {
     "data": {
      "text/plain": [
       "0.7715483342430675"
      ]
     },
     "execution_count": 38,
     "metadata": {},
     "output_type": "execute_result"
    }
   ],
   "source": [
    "data['total_area'].corr(data['last_price_millions'])"
   ]
  },
  {
   "cell_type": "markdown",
   "metadata": {},
   "source": [
    "Изучаем зависимость цены от количества комнат."
   ]
  },
  {
   "cell_type": "code",
   "execution_count": 39,
   "metadata": {},
   "outputs": [
    {
     "data": {
      "image/png": "[encoded data removed]",
      "text/plain": [
       "<Figure size 432x288 with 1 Axes>"
      ]
     },
     "metadata": {
      "needs_background": "light"
     },
     "output_type": "display_data"
    }
   ],
   "source": [
    "data.plot(x='rooms', y='last_price', kind='scatter')\n",
    "plt.xlabel('Количество комнат, штук')\n",
    "plt.ylabel('Цена, миллионов рублей')\n",
    "plt.title('Зависимость цены от количества комнат')\n",
    "plt.show()"
   ]
  },
  {
   "cell_type": "code",
   "execution_count": 40,
   "metadata": {},
   "outputs": [
    {
     "data": {
      "text/plain": [
       "0.4913807696004535"
      ]
     },
     "execution_count": 40,
     "metadata": {},
     "output_type": "execute_result"
    }
   ],
   "source": [
    "data['rooms'].astype('float64').corr(data['last_price_millions']) #без astype выдает ошибку"
   ]
  },
  {
   "cell_type": "markdown",
   "metadata": {},
   "source": [
    "Изучаем зависимость цены от удалённости от центра."
   ]
  },
  {
   "cell_type": "code",
   "execution_count": 41,
   "metadata": {},
   "outputs": [
    {
     "data": {
      "image/png": "[encoded data removed]",
      "text/plain": [
       "<Figure size 432x288 with 1 Axes>"
      ]
     },
     "metadata": {
      "needs_background": "light"
     },
     "output_type": "display_data"
    }
   ],
   "source": [
    "data.plot(x='center_distance', y='last_price', kind='scatter')\n",
    "plt.xlabel('Расстояние до центра города, метров')\n",
    "plt.ylabel('Цена, миллионов рублей')\n",
    "plt.title('Зависимость цены от расстояния до центра города')\n",
    "plt.show()"
   ]
  },
  {
   "cell_type": "code",
   "execution_count": 42,
   "metadata": {},
   "outputs": [
    {
     "data": {
      "text/plain": [
       "-0.34582789057477265"
      ]
     },
     "execution_count": 42,
     "metadata": {},
     "output_type": "execute_result"
    }
   ],
   "source": [
    "data['center_distance_km'] = data['center_distance'] / 1000\n",
    "data['center_distance_km'].corr(data['last_price_millions'])"
   ]
  },
  {
   "cell_type": "markdown",
   "metadata": {},
   "source": [
    "Изучаем зависимость цены от этажа."
   ]
  },
  {
   "cell_type": "code",
   "execution_count": 43,
   "metadata": {},
   "outputs": [
    {
     "data": {
      "image/png": "[encoded data removed]",
      "text/plain": [
       "<Figure size 432x288 with 1 Axes>"
      ]
     },
     "metadata": {
      "needs_background": "light"
     },
     "output_type": "display_data"
    }
   ],
   "source": [
    "categories = data.pivot_table(index = 'floor_category', values = 'last_price', aggfunc = 'median')\n",
    "categories.plot(y='last_price', kind='bar', label='Медианная цена')\n",
    "plt.xlabel('Категория этажа')\n",
    "plt.ylabel('Медианная цена, рублей')\n",
    "plt.title('Зависимость цены от категории этажей')\n",
    "plt.show()"
   ]
  },
  {
   "cell_type": "markdown",
   "metadata": {},
   "source": [
    "От дня, месяца и года."
   ]
  },
  {
   "cell_type": "code",
   "execution_count": 44,
   "metadata": {},
   "outputs": [
    {
     "data": {
      "image/png": "[encoded data removed]",
      "text/plain": [
       "<Figure size 432x288 with 1 Axes>"
      ]
     },
     "metadata": {
      "needs_background": "light"
     },
     "output_type": "display_data"
    }
   ],
   "source": [
    "day = data.pivot_table(index = 'weekday', values = 'last_price', aggfunc = 'median')\n",
    "day.plot(y='last_price', kind='bar', label = 'Медианная цена')\n",
    "plt.xlabel('День недели')\n",
    "plt.ylabel('Медианная цена, рублей')\n",
    "plt.title('Зависимость цены от дня недели')\n",
    "plt.show()"
   ]
  },
  {
   "cell_type": "code",
   "execution_count": 45,
   "metadata": {},
   "outputs": [
    {
     "data": {
      "image/png": "[encoded data removed]",
      "text/plain": [
       "<Figure size 432x288 with 1 Axes>"
      ]
     },
     "metadata": {
      "needs_background": "light"
     },
     "output_type": "display_data"
    }
   ],
   "source": [
    "month = data.pivot_table(index = 'month', values = 'last_price', aggfunc = 'median')\n",
    "month.plot(y='last_price', kind='bar', label='Медианная цена')\n",
    "plt.xlabel('Месяц')\n",
    "plt.ylabel('Медианная цена, рублей')\n",
    "plt.title('Зависимость цены от месяца')\n",
    "plt.show()"
   ]
  },
  {
   "cell_type": "code",
   "execution_count": 46,
   "metadata": {},
   "outputs": [
    {
     "data": {
      "image/png": "[encoded data removed]",
      "text/plain": [
       "<Figure size 432x288 with 1 Axes>"
      ]
     },
     "metadata": {
      "needs_background": "light"
     },
     "output_type": "display_data"
    }
   ],
   "source": [
    "year = data.pivot_table(index = 'year', values = 'last_price', aggfunc = 'median')\n",
    "year.plot(y='last_price', kind='bar', label = 'Медианная цена')\n",
    "plt.xlabel('Год')\n",
    "plt.ylabel('Медианная цена, рублей')\n",
    "plt.title('Зависимость цены от года')\n",
    "plt.show()"
   ]
  },
  {
   "cell_type": "markdown",
   "metadata": {},
   "source": [
    "Определим 10 населённых пунктов с наибольшим числом объявлений и заодно посчитаем среднюю цену квадратного метра в этих населённых пунктах."
   ]
  },
  {
   "cell_type": "code",
   "execution_count": 47,
   "metadata": {},
   "outputs": [
    {
     "data": {
      "text/html": [
       "<div>\n",
       "<style scoped>\n",
       "    .dataframe tbody tr th:only-of-type {\n",
       "        vertical-align: middle;\n",
       "    }\n",
       "\n",
       "    .dataframe tbody tr th {\n",
       "        vertical-align: top;\n",
       "    }\n",
       "\n",
       "    .dataframe thead th {\n",
       "        text-align: right;\n",
       "    }\n",
       "</style>\n",
       "<table border=\"1\" class=\"dataframe\">\n",
       "  <thead>\n",
       "    <tr style=\"text-align: right;\">\n",
       "      <th></th>\n",
       "      <th>median_price</th>\n",
       "      <th>count</th>\n",
       "    </tr>\n",
       "    <tr>\n",
       "      <th>locality_name</th>\n",
       "      <th></th>\n",
       "      <th></th>\n",
       "    </tr>\n",
       "  </thead>\n",
       "  <tbody>\n",
       "    <tr>\n",
       "      <td>Санкт-Петербург</td>\n",
       "      <td>105523.0</td>\n",
       "      <td>12810</td>\n",
       "    </tr>\n",
       "    <tr>\n",
       "      <td>посёлок Мурино</td>\n",
       "      <td>83082.5</td>\n",
       "      <td>448</td>\n",
       "    </tr>\n",
       "    <tr>\n",
       "      <td>посёлок Шушары</td>\n",
       "      <td>76125.0</td>\n",
       "      <td>397</td>\n",
       "    </tr>\n",
       "    <tr>\n",
       "      <td>Всеволожск</td>\n",
       "      <td>65862.5</td>\n",
       "      <td>354</td>\n",
       "    </tr>\n",
       "    <tr>\n",
       "      <td>посёлок Парголово</td>\n",
       "      <td>92051.0</td>\n",
       "      <td>305</td>\n",
       "    </tr>\n",
       "    <tr>\n",
       "      <td>Пушкин</td>\n",
       "      <td>100000.0</td>\n",
       "      <td>280</td>\n",
       "    </tr>\n",
       "    <tr>\n",
       "      <td>деревня Кудрово</td>\n",
       "      <td>91095.0</td>\n",
       "      <td>264</td>\n",
       "    </tr>\n",
       "    <tr>\n",
       "      <td>Гатчина</td>\n",
       "      <td>68547.0</td>\n",
       "      <td>233</td>\n",
       "    </tr>\n",
       "    <tr>\n",
       "      <td>Колпино</td>\n",
       "      <td>74689.5</td>\n",
       "      <td>230</td>\n",
       "    </tr>\n",
       "    <tr>\n",
       "      <td>Выборг</td>\n",
       "      <td>57620.0</td>\n",
       "      <td>183</td>\n",
       "    </tr>\n",
       "  </tbody>\n",
       "</table>\n",
       "</div>"
      ],
      "text/plain": [
       "                   median_price  count\n",
       "locality_name                         \n",
       "Санкт-Петербург        105523.0  12810\n",
       "посёлок Мурино          83082.5    448\n",
       "посёлок Шушары          76125.0    397\n",
       "Всеволожск              65862.5    354\n",
       "посёлок Парголово       92051.0    305\n",
       "Пушкин                 100000.0    280\n",
       "деревня Кудрово         91095.0    264\n",
       "Гатчина                 68547.0    233\n",
       "Колпино                 74689.5    230\n",
       "Выборг                  57620.0    183"
      ]
     },
     "execution_count": 47,
     "metadata": {},
     "output_type": "execute_result"
    }
   ],
   "source": [
    "city = data.pivot_table(index = 'locality_name', values = 'meter_price', aggfunc = ['median', 'count'])\n",
    "city.columns = ['median_price', 'count']\n",
    "city.sort_values(by='count', ascending = False).head(10)"
   ]
  },
  {
   "cell_type": "markdown",
   "metadata": {},
   "source": [
    "Выделим населённые пункты с самой высокой и низкой стоимостью жилья и условием количество объявлений - 20 и больше. Иначе населённые пункты с одним объявлением могут испортить статистику."
   ]
  },
  {
   "cell_type": "code",
   "execution_count": 48,
   "metadata": {},
   "outputs": [
    {
     "data": {
      "text/html": [
       "<div>\n",
       "<style scoped>\n",
       "    .dataframe tbody tr th:only-of-type {\n",
       "        vertical-align: middle;\n",
       "    }\n",
       "\n",
       "    .dataframe tbody tr th {\n",
       "        vertical-align: top;\n",
       "    }\n",
       "\n",
       "    .dataframe thead th {\n",
       "        text-align: right;\n",
       "    }\n",
       "</style>\n",
       "<table border=\"1\" class=\"dataframe\">\n",
       "  <thead>\n",
       "    <tr style=\"text-align: right;\">\n",
       "      <th></th>\n",
       "      <th>median_price</th>\n",
       "      <th>count</th>\n",
       "    </tr>\n",
       "    <tr>\n",
       "      <th>locality_name</th>\n",
       "      <th></th>\n",
       "      <th></th>\n",
       "    </tr>\n",
       "  </thead>\n",
       "  <tbody>\n",
       "    <tr>\n",
       "      <td>Санкт-Петербург</td>\n",
       "      <td>105523.0</td>\n",
       "      <td>12810</td>\n",
       "    </tr>\n",
       "  </tbody>\n",
       "</table>\n",
       "</div>"
      ],
      "text/plain": [
       "                 median_price  count\n",
       "locality_name                       \n",
       "Санкт-Петербург      105523.0  12810"
      ]
     },
     "execution_count": 48,
     "metadata": {},
     "output_type": "execute_result"
    }
   ],
   "source": [
    "city20 = city.query('count > 19')\n",
    "city20[city20['median_price'] == city20['median_price'].max()]"
   ]
  },
  {
   "cell_type": "code",
   "execution_count": 49,
   "metadata": {},
   "outputs": [
    {
     "data": {
      "text/html": [
       "<div>\n",
       "<style scoped>\n",
       "    .dataframe tbody tr th:only-of-type {\n",
       "        vertical-align: middle;\n",
       "    }\n",
       "\n",
       "    .dataframe tbody tr th {\n",
       "        vertical-align: top;\n",
       "    }\n",
       "\n",
       "    .dataframe thead th {\n",
       "        text-align: right;\n",
       "    }\n",
       "</style>\n",
       "<table border=\"1\" class=\"dataframe\">\n",
       "  <thead>\n",
       "    <tr style=\"text-align: right;\">\n",
       "      <th></th>\n",
       "      <th>median_price</th>\n",
       "      <th>count</th>\n",
       "    </tr>\n",
       "    <tr>\n",
       "      <th>locality_name</th>\n",
       "      <th></th>\n",
       "      <th></th>\n",
       "    </tr>\n",
       "  </thead>\n",
       "  <tbody>\n",
       "    <tr>\n",
       "      <td>Сланцы</td>\n",
       "      <td>17635.0</td>\n",
       "      <td>80</td>\n",
       "    </tr>\n",
       "  </tbody>\n",
       "</table>\n",
       "</div>"
      ],
      "text/plain": [
       "               median_price  count\n",
       "locality_name                     \n",
       "Сланцы              17635.0     80"
      ]
     },
     "execution_count": 49,
     "metadata": {},
     "output_type": "execute_result"
    }
   ],
   "source": [
    "city20[city20['median_price'] == city20['median_price'].min()]"
   ]
  },
  {
   "cell_type": "markdown",
   "metadata": {},
   "source": [
    "Определим какая область входит в центр Питера. Для начала округлим center_distance_km до целых значений. Здесь у меня astype наотрез отказался работать, воспользовался round."
   ]
  },
  {
   "cell_type": "code",
   "execution_count": 50,
   "metadata": {},
   "outputs": [],
   "source": [
    "data['center_distance_km'] = data['center_distance_km'].round()\n",
    "spb_center = data[data['locality_name'] == \"Санкт-Петербург\"]"
   ]
  },
  {
   "cell_type": "markdown",
   "metadata": {},
   "source": [
    "Посчитаем среднюю цену для каждого километра."
   ]
  },
  {
   "cell_type": "code",
   "execution_count": 51,
   "metadata": {},
   "outputs": [],
   "source": [
    "spb_area = spb_center.pivot_table(index = 'center_distance_km', values = 'last_price_millions', aggfunc = 'median')"
   ]
  },
  {
   "cell_type": "markdown",
   "metadata": {},
   "source": [
    "И построим график."
   ]
  },
  {
   "cell_type": "code",
   "execution_count": 52,
   "metadata": {},
   "outputs": [
    {
     "data": {
      "image/png": "[encoded data removed]",
      "text/plain": [
       "<Figure size 432x288 with 1 Axes>"
      ]
     },
     "metadata": {
      "needs_background": "light"
     },
     "output_type": "display_data"
    }
   ],
   "source": [
    "spb_area.plot(y = 'last_price_millions', label='Медианная цена')\n",
    "plt.xlabel('Расстояние до центра, киллометров')\n",
    "plt.ylabel('Медианная цена, миллионов рублей')\n",
    "plt.title('Зависимость цены от расстояния до центра')\n",
    "plt.show()"
   ]
  },
  {
   "cell_type": "markdown",
   "metadata": {},
   "source": [
    "Интересно. <br>\n",
    "В случае с 27 километрами только два кейса, оттого медиана аномально отклонена.<br>\n",
    "Две сильные просадки цены - 3 км и 9 км."
   ]
  },
  {
   "cell_type": "markdown",
   "metadata": {},
   "source": [
    "Теперь проведем анализ квартир в центре по площади:"
   ]
  },
  {
   "cell_type": "code",
   "execution_count": 53,
   "metadata": {},
   "outputs": [
    {
     "data": {
      "text/plain": [
       "count    3550.00000\n",
       "mean            inf\n",
       "std        34.46875\n",
       "min        29.40625\n",
       "25%        55.71875\n",
       "50%        75.00000\n",
       "75%       100.00000\n",
       "max       200.00000\n",
       "Name: total_area, dtype: float64"
      ]
     },
     "execution_count": 53,
     "metadata": {},
     "output_type": "execute_result"
    }
   ],
   "source": [
    "spb_good = spb_center.query('center_distance_km < 9')\n",
    "spb_good['total_area'].describe()"
   ]
  },
  {
   "cell_type": "code",
   "execution_count": 54,
   "metadata": {},
   "outputs": [
    {
     "data": {
      "image/png": "[encoded data removed]",
      "text/plain": [
       "<Figure size 432x288 with 1 Axes>"
      ]
     },
     "metadata": {
      "needs_background": "light"
     },
     "output_type": "display_data"
    }
   ],
   "source": [
    "spb_good['total_area'].hist()\n",
    "plt.xlabel('Общая площадь, квадратных метров')\n",
    "plt.ylabel('Количество вхождений, штук')\n",
    "plt.title('Гистограмма общей площади')\n",
    "plt.show()"
   ]
  },
  {
   "cell_type": "markdown",
   "metadata": {},
   "source": [
    "Если сравнивать график по всем квартирам и квартирам в центре видно, что размер квартир в центре в среднем больше, чем за его пределами."
   ]
  },
  {
   "cell_type": "markdown",
   "metadata": {},
   "source": [
    "Цене:"
   ]
  },
  {
   "cell_type": "code",
   "execution_count": 55,
   "metadata": {},
   "outputs": [
    {
     "data": {
      "text/plain": [
       "count    3550.000000\n",
       "mean       10.238310\n",
       "std         6.455832\n",
       "min         1.000000\n",
       "25%         6.000000\n",
       "50%         8.000000\n",
       "75%        12.000000\n",
       "max        39.000000\n",
       "Name: last_price_millions, dtype: float64"
      ]
     },
     "execution_count": 55,
     "metadata": {},
     "output_type": "execute_result"
    }
   ],
   "source": [
    "spb_good['last_price_millions'].describe()"
   ]
  },
  {
   "cell_type": "code",
   "execution_count": 56,
   "metadata": {},
   "outputs": [
    {
     "data": {
      "image/png": "[encoded data removed]",
      "text/plain": [
       "<Figure size 432x288 with 1 Axes>"
      ]
     },
     "metadata": {
      "needs_background": "light"
     },
     "output_type": "display_data"
    }
   ],
   "source": [
    "spb_good['last_price_millions'].hist()\n",
    "plt.xlabel('Цена, миллионов рублей')\n",
    "plt.ylabel('Количество вхождений, штук')\n",
    "plt.title('Гистограмма цены квартиры')\n",
    "plt.show()"
   ]
  },
  {
   "cell_type": "markdown",
   "metadata": {},
   "source": [
    "Аналогично с ценами. В центре - более дорогие квартиры. (Шок)"
   ]
  },
  {
   "cell_type": "markdown",
   "metadata": {},
   "source": [
    "Количеству комнат:"
   ]
  },
  {
   "cell_type": "code",
   "execution_count": 57,
   "metadata": {},
   "outputs": [
    {
     "data": {
      "text/plain": [
       "count    3550.000000\n",
       "mean        2.649859\n",
       "std         1.154429\n",
       "min         1.000000\n",
       "25%         2.000000\n",
       "50%         3.000000\n",
       "75%         3.000000\n",
       "max         7.000000\n",
       "Name: rooms, dtype: float64"
      ]
     },
     "execution_count": 57,
     "metadata": {},
     "output_type": "execute_result"
    }
   ],
   "source": [
    "spb_good['rooms'].describe()"
   ]
  },
  {
   "cell_type": "code",
   "execution_count": 58,
   "metadata": {},
   "outputs": [
    {
     "data": {
      "image/png": "[encoded data removed]",
      "text/plain": [
       "<Figure size 432x288 with 1 Axes>"
      ]
     },
     "metadata": {
      "needs_background": "light"
     },
     "output_type": "display_data"
    }
   ],
   "source": [
    "spb_good['rooms'].hist(bins = 7)\n",
    "plt.xlabel('Количество комнат, штук')\n",
    "plt.ylabel('Количество вхождений, штук')\n",
    "plt.title('Гистограмма количества комнат')\n",
    "plt.show()"
   ]
  },
  {
   "cell_type": "markdown",
   "metadata": {},
   "source": [
    "Многокомнатных квартир также больше. (Снова шок)"
   ]
  },
  {
   "cell_type": "markdown",
   "metadata": {},
   "source": [
    "Высоте потолков:"
   ]
  },
  {
   "cell_type": "code",
   "execution_count": 59,
   "metadata": {},
   "outputs": [
    {
     "data": {
      "text/plain": [
       "count    3550.000000\n",
       "mean        2.904297\n",
       "std         0.298828\n",
       "min         2.509766\n",
       "25%         2.650391\n",
       "50%         2.800781\n",
       "75%         3.099609\n",
       "max         3.980469\n",
       "Name: ceiling_height, dtype: float64"
      ]
     },
     "execution_count": 59,
     "metadata": {},
     "output_type": "execute_result"
    }
   ],
   "source": [
    "spb_good['ceiling_height'].describe()"
   ]
  },
  {
   "cell_type": "code",
   "execution_count": 60,
   "metadata": {},
   "outputs": [
    {
     "data": {
      "image/png": "[encoded data removed]",
      "text/plain": [
       "<Figure size 432x288 with 1 Axes>"
      ]
     },
     "metadata": {
      "needs_background": "light"
     },
     "output_type": "display_data"
    }
   ],
   "source": [
    "spb_good['ceiling_height'].hist(bins=10)\n",
    "plt.xlabel('Высота потолков, метров')\n",
    "plt.ylabel('Количество вхождений, штук')\n",
    "plt.title('Гистограмма высоты потолков')\n",
    "plt.show()"
   ]
  },
  {
   "cell_type": "markdown",
   "metadata": {},
   "source": [
    "В центре, судя по всему, больше квартир с минимальным размером потолка, меньше - с 2.8м и больше - с 3.0. "
   ]
  },
  {
   "cell_type": "markdown",
   "metadata": {},
   "source": [
    "Рассмотрим факторы, влияющие на стоимость квартиры: <br>\n",
    "Число комнат:"
   ]
  },
  {
   "cell_type": "code",
   "execution_count": 61,
   "metadata": {},
   "outputs": [
    {
     "data": {
      "image/png": "[encoded data removed]",
      "text/plain": [
       "<Figure size 432x288 with 1 Axes>"
      ]
     },
     "metadata": {
      "needs_background": "light"
     },
     "output_type": "display_data"
    },
    {
     "data": {
      "text/plain": [
       "0.40390263541204113"
      ]
     },
     "execution_count": 61,
     "metadata": {},
     "output_type": "execute_result"
    }
   ],
   "source": [
    "spb_good.plot(x='rooms', y='last_price_millions', kind='scatter')\n",
    "plt.xlabel('Количество комнат, штук')\n",
    "plt.ylabel('Цена, миллионов рублей')\n",
    "plt.title('Зависимость цены квартиры от количества комнат')\n",
    "plt.show()\n",
    "spb_good['rooms'].astype('float64').corr(spb_good['last_price_millions'])"
   ]
  },
  {
   "cell_type": "markdown",
   "metadata": {},
   "source": [
    "Здесь мы видим, что коэффициент Пуассона уменьшился с 0.49 до 0.4"
   ]
  },
  {
   "cell_type": "markdown",
   "metadata": {},
   "source": [
    "Этаж:"
   ]
  },
  {
   "cell_type": "code",
   "execution_count": 62,
   "metadata": {},
   "outputs": [
    {
     "data": {
      "image/png": "[encoded data removed]",
      "text/plain": [
       "<Figure size 432x288 with 1 Axes>"
      ]
     },
     "metadata": {
      "needs_background": "light"
     },
     "output_type": "display_data"
    }
   ],
   "source": [
    "categories2 = spb_good.pivot_table(index = 'floor_category', values = 'last_price', aggfunc = 'median')\n",
    "categories2.plot(y='last_price', kind='bar', label=\"Медианная цена\")\n",
    "plt.xlabel('Категория этажа')\n",
    "plt.ylabel('Медианная цена, рублей')\n",
    "plt.title('Зависимость цены от категории этажей')\n",
    "plt.show()"
   ]
  },
  {
   "cell_type": "markdown",
   "metadata": {},
   "source": [
    "Тенденция сохранилась.<br>\n",
    "Эх, Не видят питерцы романтики в жизни на первом этаже на лиговском."
   ]
  },
  {
   "cell_type": "markdown",
   "metadata": {},
   "source": [
    "Удаленность от центра:"
   ]
  },
  {
   "cell_type": "code",
   "execution_count": 63,
   "metadata": {},
   "outputs": [
    {
     "data": {
      "image/png": "[encoded data removed]",
      "text/plain": [
       "<Figure size 432x288 with 1 Axes>"
      ]
     },
     "metadata": {
      "needs_background": "light"
     },
     "output_type": "display_data"
    },
    {
     "data": {
      "text/plain": [
       "-0.07139538107427434"
      ]
     },
     "execution_count": 63,
     "metadata": {},
     "output_type": "execute_result"
    }
   ],
   "source": [
    "spb_good.plot(x='center_distance', y='last_price_millions', kind='scatter')\n",
    "plt.xlabel('Расстояние до центра, метров')\n",
    "plt.ylabel('Цена, миллионов рублей')\n",
    "plt.title('Зависимость цены от расстояния до центра')\n",
    "plt.show()\n",
    "spb_good['center_distance_km'].corr(spb_good['last_price_millions'])"
   ]
  },
  {
   "cell_type": "markdown",
   "metadata": {},
   "source": [
    "Самый сильно изменившийся граффик. С учётом ужатия радиуса исследования резонно, что коэфициент Пуассона приблизился к нулю."
   ]
  },
  {
   "cell_type": "markdown",
   "metadata": {},
   "source": [
    "Дата размещения объявления.<br>\n",
    "День недели:"
   ]
  },
  {
   "cell_type": "code",
   "execution_count": 64,
   "metadata": {},
   "outputs": [
    {
     "data": {
      "image/png": "[encoded data removed]",
      "text/plain": [
       "<Figure size 432x288 with 1 Axes>"
      ]
     },
     "metadata": {
      "needs_background": "light"
     },
     "output_type": "display_data"
    }
   ],
   "source": [
    "day2 = spb_good.pivot_table(index = 'weekday', values = 'last_price', aggfunc = 'median')\n",
    "day2.plot(y='last_price', kind='bar', label='Медианная цена')\n",
    "plt.xlabel('День недели')\n",
    "plt.ylabel('Медианная цена, рублей')\n",
    "plt.title('Зависимость цены от дня недели')\n",
    "plt.show()"
   ]
  },
  {
   "cell_type": "markdown",
   "metadata": {},
   "source": [
    "Месяц:"
   ]
  },
  {
   "cell_type": "code",
   "execution_count": 65,
   "metadata": {},
   "outputs": [
    {
     "data": {
      "image/png": "[encoded data removed]",
      "text/plain": [
       "<Figure size 432x288 with 1 Axes>"
      ]
     },
     "metadata": {
      "needs_background": "light"
     },
     "output_type": "display_data"
    }
   ],
   "source": [
    "month2 = spb_good.pivot_table(index = 'month', values = 'last_price', aggfunc = 'median')\n",
    "month2.plot(y='last_price', kind='bar', label='Медианная цена')\n",
    "plt.xlabel('Месяц')\n",
    "plt.ylabel('Медианная цена, рублей')\n",
    "plt.title('Зависимость цены от месяца')\n",
    "plt.show()"
   ]
  },
  {
   "cell_type": "markdown",
   "metadata": {},
   "source": [
    "Год:"
   ]
  },
  {
   "cell_type": "code",
   "execution_count": 66,
   "metadata": {},
   "outputs": [
    {
     "data": {
      "image/png": "[encoded data removed]",
      "text/plain": [
       "<Figure size 432x288 with 1 Axes>"
      ]
     },
     "metadata": {
      "needs_background": "light"
     },
     "output_type": "display_data"
    }
   ],
   "source": [
    "year2 = spb_good.pivot_table(index = 'year', values = 'last_price', aggfunc = 'median')\n",
    "year2.plot(y='last_price', kind='bar', label = 'Медианная цена')\n",
    "plt.xlabel('Год')\n",
    "plt.ylabel('Медианная цена, рублей')\n",
    "plt.title('Зависимость цены от года')\n",
    "plt.show()"
   ]
  },
  {
   "cell_type": "markdown",
   "metadata": {},
   "source": [
    "До сих пор не очень понимаю, чем ценен этот анализ."
   ]
  },
  {
   "cell_type": "markdown",
   "metadata": {},
   "source": [
    "## Общий вывод"
   ]
  },
  {
   "cell_type": "markdown",
   "metadata": {},
   "source": [
    "Произведена предобработка данных: заполнены пробелы, где это имело смысл, изменены типы данных, отброшены аномальные значения некоторых столбцов, а в некоторых случаях и столбцы целиком, переименован столбец для соблюдения стиля. Аппартаменты и студии выставлены за дверь. Квартиры. Шутка.<br>\n",
    "\n",
    "Добавлены новые столбцы с ценой квадратного метра, днём недели, месяца и год публикации объявления (нет, серьёзно, зачем?), соотношением жилой и общей площади, кухни к общей площади, категорирована этажность.<br>\n",
    "\n",
    "Изучены следующие параметры: площадь, цена, число комнат, высота потолков. Построены гистограммы для каждого параметра.<br>\n",
    "\n",
    "Изучено время продажи квартиры. Среднее время - 182 дня, медиана - 97 дней.<br>\n",
    "Определено, что быстрая продажа - меньше месяца, долгая - больше года, обычная - между месяцем и полугодом.<br>\n",
    "\n",
    "Изучено зависит ли цена от: \n",
    "1) Площади - коэфициент Пуассона составил 0.77, что говорит о высокой зависимости \n",
    "2) Числа комнат - коэфициент Пуассона - 0.49, также логичный результат, зависимость есть \n",
    "3) Удалённости от центра - чем дальше квартира, тем в среднем она меньше стоит\n",
    "4) От того, на каком этаже расположена квартира: первом, последнем или другом - также выявлен закономерный результат, квартины на первом и последних этажах стоят меньше, чем на других\n",
    "5) Также изучена зависимость от даты размещения: дня недели, месяца и года. <br>\n",
    "\n",
    "Выбраны 10 населённых пунктов с наибольшим числом объявлений. На первом месте, очевидно, северная столица с 12810 объявлениями. <br> Посчитана средняя цена квадратного метра в этих населённых пунктах. Выделены населённые пункты с самой высокой и низкой стоимостью жилья - Санкт-Петербург с 105523 рублями за квадратный метр и Сланцы, соответственно, с 17635 рублей за квадратный метр.<br>\n",
    "\n",
    "Определен радиус \"центра\" Питербурга - 9 киллометров. Высчитана средняя цена жилья для каждого километра, построен график.<br>\n",
    "\n",
    "Вышеописанные изучения применены к центру Питера, произведено сравнение. Например, средняя (медианная) цена квартиры во всей области - около 4 миллионов, в случае с центром Питера - в два раза больше, около 8 миллионов. <br>\n",
    "\n",
    "Резюмируя произведенный анализ можно сказать, что чем ближе к центру Питера и чем ближе площадь жилья, тем больше стоит квартира. Квартиры на первых этажах стоят меньше чем на последних, а последние (ловко я?) меньше, чем \"другие\". В регионе стоимость жилья на порядок ниже.<br>\n",
    "\n",
    "Я уже говорил про граффики? Так вот, много графиков..."
   ]
  },
  {
   "cell_type": "markdown",
   "metadata": {},
   "source": [
    "## Чек-лист готовности проекта\n",
    "\n",
    "Поставьте 'x' в выполненных пунктах. Далее нажмите Shift+Enter."
   ]
  },
  {
   "cell_type": "markdown",
   "metadata": {},
   "source": [
    "- [x]  открыт файл\n",
    "- [x]  файлы изучены (выведены первые строки, метод info())\n",
    "- [x]  определены пропущенные значения\n",
    "- [x]  заполнены пропущенные значения\n",
    "- [x]  есть пояснение, какие пропущенные значения обнаружены\n",
    "- [x]  изменены типы данных\n",
    "- [x]  есть пояснение, в каких столбцах изменены типы и почему\n",
    "- [x]  посчитано и добавлено в таблицу: цена квадратного метра\n",
    "- [x]  посчитано и добавлено в таблицу: день недели, месяц и год публикации объявления\n",
    "- [x]  посчитано и добавлено в таблицу: этаж квартиры; варианты — первый, последний, другой\n",
    "- [x]  посчитано и добавлено в таблицу: соотношение жилой и общей площади, а также отношение площади кухни к общей\n",
    "- [x]  изучены следующие параметры: площадь, цена, число комнат, высота потолков\n",
    "- [x]  построены гистограммы для каждого параметра\n",
    "- [x]  выполнено задание: \"Изучите время продажи квартиры. Постройте гистограмму. Посчитайте среднее и медиану. Опишите, сколько обычно занимает продажа. Когда можно считать, что продажи прошли очень быстро, а когда необычно долго?\"\n",
    "- [x]  выполнено задание: \"Уберите редкие и выбивающиеся значения. Опишите, какие особенности обнаружили.\"\n",
    "- [x]  выполнено задание: \"Какие факторы больше всего влияют на стоимость квартиры? Изучите, зависит ли цена от квадратного метра, числа комнат, этажа (первого или последнего), удалённости от центра. Также изучите зависимость от даты размещения: дня недели, месяца и года. \"Выберите 10 населённых пунктов с наибольшим числом объявлений. Посчитайте среднюю цену квадратного метра в этих населённых пунктах. Выделите населённые пункты с самой высокой и низкой стоимостью жилья. Эти данные можно найти по имени в столбце '*locality_name'*. \"\n",
    "- [x]  выполнено задание: \"Изучите предложения квартир: для каждой квартиры есть информация о расстоянии до центра. Выделите квартиры в Санкт-Петербурге (*'locality_name'*). Ваша задача — выяснить, какая область входит в центр. Создайте столбец с расстоянием до центра в километрах: округлите до целых значений. После этого посчитайте среднюю цену для каждого километра. Постройте график: он должен показывать, как цена зависит от удалённости от центра. Определите границу, где график сильно меняется — это и будет центральная зона. \"\n",
    "- [x]  выполнено задание: \"Выделите сегмент квартир в центре. Проанализируйте эту территорию и изучите следующие параметры: площадь, цена, число комнат, высота потолков. Также выделите факторы, которые влияют на стоимость квартиры (число комнат, этаж, удалённость от центра, дата размещения объявления). Сделайте выводы. Отличаются ли они от общих выводов по всему городу?\"\n",
    "- [x]  в каждом этапе есть выводы\n",
    "- [x]  есть общий вывод"
   ]
  }
 ],
 "metadata": {
  "ExecuteTimeLog": [
   {
    "duration": 693,
    "start_time": "2021-12-18T11:47:05.595Z"
   },
   {
    "duration": 64,
    "start_time": "2021-12-18T11:47:24.260Z"
   },
   {
    "duration": 82,
    "start_time": "2021-12-18T11:51:04.667Z"
   },
   {
    "duration": 75,
    "start_time": "2021-12-18T11:51:24.633Z"
   },
   {
    "duration": 76,
    "start_time": "2021-12-18T11:59:09.128Z"
   },
   {
    "duration": 4764,
    "start_time": "2021-12-18T11:59:49.205Z"
   },
   {
    "duration": 96,
    "start_time": "2021-12-18T12:00:01.388Z"
   },
   {
    "duration": 74,
    "start_time": "2021-12-18T12:00:22.569Z"
   },
   {
    "duration": 69,
    "start_time": "2021-12-18T12:00:50.142Z"
   },
   {
    "duration": 72,
    "start_time": "2021-12-18T12:01:10.771Z"
   },
   {
    "duration": 190,
    "start_time": "2021-12-18T17:05:33.579Z"
   },
   {
    "duration": 203,
    "start_time": "2021-12-18T17:06:09.627Z"
   },
   {
    "duration": 12,
    "start_time": "2021-12-18T17:06:21.522Z"
   },
   {
    "duration": 167,
    "start_time": "2021-12-18T17:08:43.254Z"
   },
   {
    "duration": 185,
    "start_time": "2021-12-18T17:09:07.620Z"
   },
   {
    "duration": 168,
    "start_time": "2021-12-18T17:09:27.181Z"
   },
   {
    "duration": 5,
    "start_time": "2021-12-18T17:09:52.533Z"
   },
   {
    "duration": 56,
    "start_time": "2021-12-18T17:12:09.406Z"
   },
   {
    "duration": 4665,
    "start_time": "2021-12-18T17:12:17.635Z"
   },
   {
    "duration": 14,
    "start_time": "2021-12-18T17:12:42.400Z"
   },
   {
    "duration": 709,
    "start_time": "2021-12-18T17:13:18.388Z"
   },
   {
    "duration": 5,
    "start_time": "2021-12-18T17:13:19.099Z"
   },
   {
    "duration": 250,
    "start_time": "2021-12-18T17:13:19.106Z"
   },
   {
    "duration": 183,
    "start_time": "2021-12-18T17:13:41.037Z"
   },
   {
    "duration": 716,
    "start_time": "2021-12-18T17:14:20.846Z"
   },
   {
    "duration": 6,
    "start_time": "2021-12-18T17:14:21.564Z"
   },
   {
    "duration": 265,
    "start_time": "2021-12-18T17:14:21.572Z"
   },
   {
    "duration": 7,
    "start_time": "2021-12-18T17:15:24.525Z"
   },
   {
    "duration": 14,
    "start_time": "2021-12-18T17:15:26.656Z"
   },
   {
    "duration": 227,
    "start_time": "2021-12-18T17:15:53.270Z"
   },
   {
    "duration": 19,
    "start_time": "2021-12-18T17:16:01.581Z"
   },
   {
    "duration": 143,
    "start_time": "2021-12-18T17:19:20.395Z"
   },
   {
    "duration": 4514,
    "start_time": "2021-12-18T17:19:30.860Z"
   },
   {
    "duration": 11,
    "start_time": "2021-12-18T17:19:58.767Z"
   },
   {
    "duration": 9,
    "start_time": "2021-12-18T17:21:11.879Z"
   },
   {
    "duration": 57,
    "start_time": "2021-12-18T17:21:53.110Z"
   },
   {
    "duration": 17,
    "start_time": "2021-12-18T17:21:57.206Z"
   },
   {
    "duration": 9,
    "start_time": "2021-12-18T17:23:01.283Z"
   },
   {
    "duration": 16,
    "start_time": "2021-12-18T17:23:12.515Z"
   },
   {
    "duration": 4848,
    "start_time": "2021-12-18T17:28:39.855Z"
   },
   {
    "duration": 178,
    "start_time": "2021-12-18T17:29:17.492Z"
   },
   {
    "duration": 18,
    "start_time": "2021-12-18T17:29:38.144Z"
   },
   {
    "duration": 16,
    "start_time": "2021-12-18T17:29:51.307Z"
   },
   {
    "duration": 27,
    "start_time": "2021-12-18T17:30:06.337Z"
   },
   {
    "duration": 21,
    "start_time": "2021-12-18T17:34:06.937Z"
   },
   {
    "duration": 19,
    "start_time": "2021-12-18T17:34:14.793Z"
   },
   {
    "duration": 21,
    "start_time": "2021-12-18T17:34:32.791Z"
   },
   {
    "duration": 14,
    "start_time": "2021-12-18T17:34:45.179Z"
   },
   {
    "duration": 36,
    "start_time": "2021-12-18T17:35:08.316Z"
   },
   {
    "duration": 28,
    "start_time": "2021-12-18T17:35:31.962Z"
   },
   {
    "duration": 224,
    "start_time": "2021-12-18T17:38:39.074Z"
   },
   {
    "duration": 17,
    "start_time": "2021-12-18T17:38:50.651Z"
   },
   {
    "duration": 16,
    "start_time": "2021-12-18T17:40:27.570Z"
   },
   {
    "duration": 21,
    "start_time": "2021-12-18T17:43:48.027Z"
   },
   {
    "duration": 18,
    "start_time": "2021-12-18T17:46:43.601Z"
   },
   {
    "duration": 26,
    "start_time": "2021-12-18T17:47:48.155Z"
   },
   {
    "duration": 17,
    "start_time": "2021-12-18T17:48:58.622Z"
   },
   {
    "duration": 18,
    "start_time": "2021-12-18T17:49:29.344Z"
   },
   {
    "duration": 18,
    "start_time": "2021-12-18T17:50:23.429Z"
   },
   {
    "duration": 19,
    "start_time": "2021-12-18T17:50:37.754Z"
   },
   {
    "duration": 201,
    "start_time": "2021-12-18T17:50:45.014Z"
   },
   {
    "duration": 29,
    "start_time": "2021-12-18T17:50:56.482Z"
   },
   {
    "duration": 202,
    "start_time": "2021-12-18T17:51:42.369Z"
   },
   {
    "duration": 21,
    "start_time": "2021-12-18T17:52:10.927Z"
   },
   {
    "duration": 37,
    "start_time": "2021-12-18T17:53:42.215Z"
   },
   {
    "duration": 53,
    "start_time": "2021-12-18T17:54:10.032Z"
   },
   {
    "duration": 186,
    "start_time": "2021-12-18T17:56:53.329Z"
   },
   {
    "duration": 4,
    "start_time": "2021-12-18T17:57:02.471Z"
   },
   {
    "duration": 23,
    "start_time": "2021-12-18T17:58:14.225Z"
   },
   {
    "duration": 20,
    "start_time": "2021-12-18T18:01:48.598Z"
   },
   {
    "duration": 21,
    "start_time": "2021-12-18T18:02:21.829Z"
   },
   {
    "duration": 189,
    "start_time": "2021-12-18T18:05:16.900Z"
   },
   {
    "duration": 208,
    "start_time": "2021-12-18T18:06:23.925Z"
   },
   {
    "duration": 190,
    "start_time": "2021-12-18T18:07:52.889Z"
   },
   {
    "duration": 27,
    "start_time": "2021-12-18T18:08:06.306Z"
   },
   {
    "duration": 646,
    "start_time": "2021-12-18T18:08:33.947Z"
   },
   {
    "duration": 5,
    "start_time": "2021-12-18T18:08:34.595Z"
   },
   {
    "duration": 8,
    "start_time": "2021-12-18T18:08:34.602Z"
   },
   {
    "duration": 13,
    "start_time": "2021-12-18T18:08:34.612Z"
   },
   {
    "duration": 9,
    "start_time": "2021-12-18T18:08:34.626Z"
   },
   {
    "duration": 4,
    "start_time": "2021-12-18T18:08:34.636Z"
   },
   {
    "duration": 57,
    "start_time": "2021-12-18T18:08:34.641Z"
   },
   {
    "duration": 251,
    "start_time": "2021-12-18T18:08:34.700Z"
   },
   {
    "duration": 62,
    "start_time": "2021-12-18T18:22:12.001Z"
   },
   {
    "duration": 189,
    "start_time": "2021-12-18T18:24:00.265Z"
   },
   {
    "duration": 201,
    "start_time": "2021-12-18T18:24:33.563Z"
   },
   {
    "duration": 35,
    "start_time": "2021-12-18T18:26:22.393Z"
   },
   {
    "duration": 36,
    "start_time": "2021-12-18T18:27:29.394Z"
   },
   {
    "duration": 196,
    "start_time": "2021-12-18T18:28:17.385Z"
   },
   {
    "duration": 200,
    "start_time": "2021-12-18T18:28:28.792Z"
   },
   {
    "duration": 39,
    "start_time": "2021-12-18T18:30:03.364Z"
   },
   {
    "duration": 28,
    "start_time": "2021-12-18T18:31:09.611Z"
   },
   {
    "duration": 12,
    "start_time": "2021-12-18T18:31:41.503Z"
   },
   {
    "duration": 29,
    "start_time": "2021-12-18T18:32:09.616Z"
   },
   {
    "duration": 27,
    "start_time": "2021-12-18T18:33:47.204Z"
   },
   {
    "duration": 197,
    "start_time": "2021-12-18T18:34:43.136Z"
   },
   {
    "duration": 175,
    "start_time": "2021-12-18T18:35:33.635Z"
   },
   {
    "duration": 25,
    "start_time": "2021-12-18T18:35:41.727Z"
   },
   {
    "duration": 28,
    "start_time": "2021-12-18T18:36:13.915Z"
   },
   {
    "duration": 5,
    "start_time": "2021-12-18T18:44:06.540Z"
   },
   {
    "duration": 1169,
    "start_time": "2021-12-18T18:47:49.929Z"
   },
   {
    "duration": 1669,
    "start_time": "2021-12-18T18:48:07.213Z"
   },
   {
    "duration": 11,
    "start_time": "2021-12-18T18:48:26.247Z"
   },
   {
    "duration": 28,
    "start_time": "2021-12-18T18:48:38.810Z"
   },
   {
    "duration": 21,
    "start_time": "2021-12-18T18:49:06.780Z"
   },
   {
    "duration": 701,
    "start_time": "2021-12-18T18:55:06.924Z"
   },
   {
    "duration": 5,
    "start_time": "2021-12-18T18:55:07.626Z"
   },
   {
    "duration": 9,
    "start_time": "2021-12-18T18:55:07.633Z"
   },
   {
    "duration": 11,
    "start_time": "2021-12-18T18:55:07.644Z"
   },
   {
    "duration": 10,
    "start_time": "2021-12-18T18:55:07.656Z"
   },
   {
    "duration": 3,
    "start_time": "2021-12-18T18:55:07.668Z"
   },
   {
    "duration": 55,
    "start_time": "2021-12-18T18:55:07.672Z"
   },
   {
    "duration": 27,
    "start_time": "2021-12-18T18:55:07.729Z"
   },
   {
    "duration": 4,
    "start_time": "2021-12-18T18:55:07.758Z"
   },
   {
    "duration": 47,
    "start_time": "2021-12-18T18:55:07.763Z"
   },
   {
    "duration": 255,
    "start_time": "2021-12-18T18:56:29.849Z"
   },
   {
    "duration": 27,
    "start_time": "2021-12-18T18:56:52.752Z"
   },
   {
    "duration": 28,
    "start_time": "2021-12-18T18:57:20.662Z"
   },
   {
    "duration": 179,
    "start_time": "2021-12-18T18:58:12.139Z"
   },
   {
    "duration": 31,
    "start_time": "2021-12-18T19:00:17.297Z"
   },
   {
    "duration": 13,
    "start_time": "2021-12-18T19:00:37.826Z"
   },
   {
    "duration": 17,
    "start_time": "2021-12-18T19:01:01.448Z"
   },
   {
    "duration": 11,
    "start_time": "2021-12-18T19:01:09.863Z"
   },
   {
    "duration": 13,
    "start_time": "2021-12-18T19:01:28.478Z"
   },
   {
    "duration": 5,
    "start_time": "2021-12-18T19:01:30.115Z"
   },
   {
    "duration": 10,
    "start_time": "2021-12-18T19:02:14.307Z"
   },
   {
    "duration": 20,
    "start_time": "2021-12-18T19:02:33.585Z"
   },
   {
    "duration": 20,
    "start_time": "2021-12-18T19:02:42.101Z"
   },
   {
    "duration": 15,
    "start_time": "2021-12-18T19:02:57.802Z"
   },
   {
    "duration": 11,
    "start_time": "2021-12-18T19:07:25.779Z"
   },
   {
    "duration": 186,
    "start_time": "2021-12-18T19:07:36.379Z"
   },
   {
    "duration": 13,
    "start_time": "2021-12-18T19:07:45.013Z"
   },
   {
    "duration": 707,
    "start_time": "2021-12-18T19:08:10.689Z"
   },
   {
    "duration": 6,
    "start_time": "2021-12-18T19:08:11.397Z"
   },
   {
    "duration": 8,
    "start_time": "2021-12-18T19:08:11.407Z"
   },
   {
    "duration": 19,
    "start_time": "2021-12-18T19:08:11.416Z"
   },
   {
    "duration": 9,
    "start_time": "2021-12-18T19:08:11.437Z"
   },
   {
    "duration": 9,
    "start_time": "2021-12-18T19:08:11.447Z"
   },
   {
    "duration": 53,
    "start_time": "2021-12-18T19:08:11.458Z"
   },
   {
    "duration": 8,
    "start_time": "2021-12-18T19:08:11.513Z"
   },
   {
    "duration": 22,
    "start_time": "2021-12-18T19:08:11.523Z"
   },
   {
    "duration": 32,
    "start_time": "2021-12-18T19:08:11.547Z"
   },
   {
    "duration": 18,
    "start_time": "2021-12-18T19:09:26.743Z"
   },
   {
    "duration": 27,
    "start_time": "2021-12-18T19:09:38.907Z"
   },
   {
    "duration": 8,
    "start_time": "2021-12-18T19:09:58.808Z"
   },
   {
    "duration": 822,
    "start_time": "2021-12-18T19:11:19.815Z"
   },
   {
    "duration": 187,
    "start_time": "2021-12-18T19:13:08.292Z"
   },
   {
    "duration": 10,
    "start_time": "2021-12-18T19:17:06.181Z"
   },
   {
    "duration": 251,
    "start_time": "2021-12-18T19:17:19.513Z"
   },
   {
    "duration": 75,
    "start_time": "2021-12-18T19:20:37.472Z"
   },
   {
    "duration": 192,
    "start_time": "2021-12-18T19:21:16.768Z"
   },
   {
    "duration": 174,
    "start_time": "2021-12-18T19:22:22.984Z"
   },
   {
    "duration": 264,
    "start_time": "2021-12-18T19:22:28.003Z"
   },
   {
    "duration": 723,
    "start_time": "2021-12-18T19:29:24.472Z"
   },
   {
    "duration": 5,
    "start_time": "2021-12-18T19:29:25.197Z"
   },
   {
    "duration": 7,
    "start_time": "2021-12-18T19:29:25.204Z"
   },
   {
    "duration": 14,
    "start_time": "2021-12-18T19:29:25.213Z"
   },
   {
    "duration": 9,
    "start_time": "2021-12-18T19:29:25.228Z"
   },
   {
    "duration": 3,
    "start_time": "2021-12-18T19:29:25.239Z"
   },
   {
    "duration": 49,
    "start_time": "2021-12-18T19:29:25.244Z"
   },
   {
    "duration": 250,
    "start_time": "2021-12-18T19:29:25.295Z"
   },
   {
    "duration": 126,
    "start_time": "2021-12-18T19:29:25.421Z"
   },
   {
    "duration": 123,
    "start_time": "2021-12-18T19:29:25.425Z"
   },
   {
    "duration": 9,
    "start_time": "2021-12-18T19:29:52.799Z"
   },
   {
    "duration": 15,
    "start_time": "2021-12-18T19:29:59.940Z"
   },
   {
    "duration": 193,
    "start_time": "2021-12-18T19:32:36.691Z"
   },
   {
    "duration": 14,
    "start_time": "2021-12-18T19:33:17.621Z"
   },
   {
    "duration": 191,
    "start_time": "2021-12-18T19:34:34.068Z"
   },
   {
    "duration": 11,
    "start_time": "2021-12-18T19:34:44.548Z"
   },
   {
    "duration": 13,
    "start_time": "2021-12-18T19:34:58.906Z"
   },
   {
    "duration": 722,
    "start_time": "2021-12-18T19:35:18.058Z"
   },
   {
    "duration": 5,
    "start_time": "2021-12-18T19:35:18.782Z"
   },
   {
    "duration": 8,
    "start_time": "2021-12-18T19:35:18.789Z"
   },
   {
    "duration": 13,
    "start_time": "2021-12-18T19:35:18.798Z"
   },
   {
    "duration": 8,
    "start_time": "2021-12-18T19:35:18.812Z"
   },
   {
    "duration": 4,
    "start_time": "2021-12-18T19:35:18.821Z"
   },
   {
    "duration": 37,
    "start_time": "2021-12-18T19:35:18.826Z"
   },
   {
    "duration": 36,
    "start_time": "2021-12-18T19:35:18.865Z"
   },
   {
    "duration": 5,
    "start_time": "2021-12-18T19:35:18.903Z"
   },
   {
    "duration": 21,
    "start_time": "2021-12-18T19:35:18.909Z"
   },
   {
    "duration": 15,
    "start_time": "2021-12-18T19:36:06.818Z"
   },
   {
    "duration": 17,
    "start_time": "2021-12-18T19:38:01.611Z"
   },
   {
    "duration": 25,
    "start_time": "2021-12-18T19:38:20.491Z"
   },
   {
    "duration": 56,
    "start_time": "2021-12-18T19:55:47.569Z"
   },
   {
    "duration": 61,
    "start_time": "2021-12-18T20:05:46.778Z"
   },
   {
    "duration": 59,
    "start_time": "2021-12-18T20:09:32.807Z"
   },
   {
    "duration": 328,
    "start_time": "2021-12-19T14:53:57.596Z"
   },
   {
    "duration": 895,
    "start_time": "2021-12-19T14:54:38.160Z"
   },
   {
    "duration": 7,
    "start_time": "2021-12-19T14:54:39.057Z"
   },
   {
    "duration": 11,
    "start_time": "2021-12-19T14:54:39.067Z"
   },
   {
    "duration": 16,
    "start_time": "2021-12-19T14:54:39.080Z"
   },
   {
    "duration": 31,
    "start_time": "2021-12-19T14:54:39.098Z"
   },
   {
    "duration": 6,
    "start_time": "2021-12-19T14:54:39.131Z"
   },
   {
    "duration": 54,
    "start_time": "2021-12-19T14:54:39.139Z"
   },
   {
    "duration": 32,
    "start_time": "2021-12-19T14:54:39.197Z"
   },
   {
    "duration": 6,
    "start_time": "2021-12-19T14:54:39.231Z"
   },
   {
    "duration": 11,
    "start_time": "2021-12-19T14:54:39.240Z"
   },
   {
    "duration": 26,
    "start_time": "2021-12-19T14:54:39.253Z"
   },
   {
    "duration": 25,
    "start_time": "2021-12-19T14:55:05.028Z"
   },
   {
    "duration": 920,
    "start_time": "2021-12-19T14:55:25.923Z"
   },
   {
    "duration": 8,
    "start_time": "2021-12-19T14:55:26.846Z"
   },
   {
    "duration": 13,
    "start_time": "2021-12-19T14:55:26.856Z"
   },
   {
    "duration": 14,
    "start_time": "2021-12-19T14:55:26.872Z"
   },
   {
    "duration": 35,
    "start_time": "2021-12-19T14:55:26.888Z"
   },
   {
    "duration": 6,
    "start_time": "2021-12-19T14:55:26.926Z"
   },
   {
    "duration": 58,
    "start_time": "2021-12-19T14:55:26.934Z"
   },
   {
    "duration": 35,
    "start_time": "2021-12-19T14:55:26.995Z"
   },
   {
    "duration": 6,
    "start_time": "2021-12-19T14:55:27.032Z"
   },
   {
    "duration": 14,
    "start_time": "2021-12-19T14:55:27.040Z"
   },
   {
    "duration": 30,
    "start_time": "2021-12-19T14:55:27.057Z"
   },
   {
    "duration": 355,
    "start_time": "2021-12-19T14:55:40.884Z"
   },
   {
    "duration": 31,
    "start_time": "2021-12-19T14:56:19.004Z"
   },
   {
    "duration": 102,
    "start_time": "2021-12-19T14:59:37.723Z"
   },
   {
    "duration": 36,
    "start_time": "2021-12-19T15:02:19.755Z"
   },
   {
    "duration": 15,
    "start_time": "2021-12-19T15:02:58.963Z"
   },
   {
    "duration": 21,
    "start_time": "2021-12-19T15:06:37.153Z"
   },
   {
    "duration": 16,
    "start_time": "2021-12-19T15:06:55.650Z"
   },
   {
    "duration": 105,
    "start_time": "2021-12-19T16:13:09.543Z"
   },
   {
    "duration": 98,
    "start_time": "2021-12-19T16:13:18.698Z"
   },
   {
    "duration": 5742,
    "start_time": "2021-12-19T16:13:24.290Z"
   },
   {
    "duration": 831,
    "start_time": "2021-12-19T16:53:07.178Z"
   },
   {
    "duration": 700,
    "start_time": "2021-12-19T16:53:38.927Z"
   },
   {
    "duration": 724,
    "start_time": "2021-12-19T16:54:00.129Z"
   },
   {
    "duration": 701,
    "start_time": "2021-12-19T16:54:50.297Z"
   },
   {
    "duration": 99,
    "start_time": "2021-12-19T16:55:12.155Z"
   },
   {
    "duration": 829,
    "start_time": "2021-12-19T16:55:18.545Z"
   },
   {
    "duration": 733,
    "start_time": "2021-12-19T16:55:38.753Z"
   },
   {
    "duration": 724,
    "start_time": "2021-12-19T16:55:56.605Z"
   },
   {
    "duration": 725,
    "start_time": "2021-12-19T16:56:14.807Z"
   },
   {
    "duration": 985,
    "start_time": "2021-12-19T16:57:38.475Z"
   },
   {
    "duration": 7,
    "start_time": "2021-12-19T16:57:39.463Z"
   },
   {
    "duration": 21,
    "start_time": "2021-12-19T16:57:39.473Z"
   },
   {
    "duration": 30,
    "start_time": "2021-12-19T16:57:39.498Z"
   },
   {
    "duration": 11,
    "start_time": "2021-12-19T16:57:39.531Z"
   },
   {
    "duration": 5,
    "start_time": "2021-12-19T16:57:39.545Z"
   },
   {
    "duration": 80,
    "start_time": "2021-12-19T16:57:39.552Z"
   },
   {
    "duration": 13,
    "start_time": "2021-12-19T16:57:39.635Z"
   },
   {
    "duration": 5,
    "start_time": "2021-12-19T16:57:39.652Z"
   },
   {
    "duration": 12,
    "start_time": "2021-12-19T16:57:39.660Z"
   },
   {
    "duration": 11,
    "start_time": "2021-12-19T16:57:39.674Z"
   },
   {
    "duration": 17,
    "start_time": "2021-12-19T16:57:39.723Z"
   },
   {
    "duration": 770,
    "start_time": "2021-12-19T16:57:39.743Z"
   },
   {
    "duration": 882,
    "start_time": "2021-12-19T16:58:35.257Z"
   },
   {
    "duration": 7,
    "start_time": "2021-12-19T16:58:36.143Z"
   },
   {
    "duration": 19,
    "start_time": "2021-12-19T16:58:36.152Z"
   },
   {
    "duration": 15,
    "start_time": "2021-12-19T16:58:36.174Z"
   },
   {
    "duration": 18,
    "start_time": "2021-12-19T16:58:36.191Z"
   },
   {
    "duration": 6,
    "start_time": "2021-12-19T16:58:36.224Z"
   },
   {
    "duration": 32,
    "start_time": "2021-12-19T16:58:36.233Z"
   },
   {
    "duration": 12,
    "start_time": "2021-12-19T16:58:36.270Z"
   },
   {
    "duration": 6,
    "start_time": "2021-12-19T16:58:36.284Z"
   },
   {
    "duration": 11,
    "start_time": "2021-12-19T16:58:36.323Z"
   },
   {
    "duration": 11,
    "start_time": "2021-12-19T16:58:36.336Z"
   },
   {
    "duration": 17,
    "start_time": "2021-12-19T16:58:36.350Z"
   },
   {
    "duration": 782,
    "start_time": "2021-12-19T16:58:36.369Z"
   },
   {
    "duration": 933,
    "start_time": "2021-12-19T16:59:48.895Z"
   },
   {
    "duration": 6,
    "start_time": "2021-12-19T16:59:49.831Z"
   },
   {
    "duration": 12,
    "start_time": "2021-12-19T16:59:49.840Z"
   },
   {
    "duration": 13,
    "start_time": "2021-12-19T16:59:49.855Z"
   },
   {
    "duration": 20,
    "start_time": "2021-12-19T16:59:49.871Z"
   },
   {
    "duration": 10,
    "start_time": "2021-12-19T16:59:49.893Z"
   },
   {
    "duration": 70,
    "start_time": "2021-12-19T16:59:49.905Z"
   },
   {
    "duration": 14,
    "start_time": "2021-12-19T16:59:49.979Z"
   },
   {
    "duration": 28,
    "start_time": "2021-12-19T16:59:49.996Z"
   },
   {
    "duration": 34,
    "start_time": "2021-12-19T16:59:50.026Z"
   },
   {
    "duration": 15,
    "start_time": "2021-12-19T16:59:50.062Z"
   },
   {
    "duration": 35,
    "start_time": "2021-12-19T16:59:50.080Z"
   },
   {
    "duration": 748,
    "start_time": "2021-12-19T16:59:50.117Z"
   },
   {
    "duration": 44,
    "start_time": "2021-12-19T17:04:53.485Z"
   },
   {
    "duration": 11,
    "start_time": "2021-12-19T17:05:29.110Z"
   },
   {
    "duration": 46,
    "start_time": "2021-12-19T17:05:32.153Z"
   },
   {
    "duration": 610,
    "start_time": "2021-12-19T18:22:26.465Z"
   },
   {
    "duration": 255,
    "start_time": "2021-12-19T18:22:38.882Z"
   },
   {
    "duration": 12,
    "start_time": "2021-12-19T18:24:34.645Z"
   },
   {
    "duration": 392,
    "start_time": "2021-12-19T18:25:26.407Z"
   },
   {
    "duration": 259,
    "start_time": "2021-12-19T18:29:27.712Z"
   },
   {
    "duration": 2865,
    "start_time": "2021-12-19T18:29:57.527Z"
   },
   {
    "duration": 302,
    "start_time": "2021-12-19T18:36:54.662Z"
   },
   {
    "duration": 307,
    "start_time": "2021-12-19T18:37:54.365Z"
   },
   {
    "duration": 356,
    "start_time": "2021-12-19T18:38:07.915Z"
   },
   {
    "duration": 498,
    "start_time": "2021-12-19T18:38:18.908Z"
   },
   {
    "duration": 309,
    "start_time": "2021-12-19T18:38:52.686Z"
   },
   {
    "duration": 765,
    "start_time": "2021-12-19T18:39:00.356Z"
   },
   {
    "duration": 323,
    "start_time": "2021-12-19T18:39:08.653Z"
   },
   {
    "duration": 377,
    "start_time": "2021-12-19T18:39:44.224Z"
   },
   {
    "duration": 377,
    "start_time": "2021-12-19T18:41:05.967Z"
   },
   {
    "duration": 26,
    "start_time": "2021-12-19T18:45:22.934Z"
   },
   {
    "duration": 250,
    "start_time": "2021-12-19T18:47:31.141Z"
   },
   {
    "duration": 277,
    "start_time": "2021-12-19T18:47:39.172Z"
   },
   {
    "duration": 17,
    "start_time": "2021-12-19T18:53:15.265Z"
   },
   {
    "duration": 278,
    "start_time": "2021-12-19T18:53:25.906Z"
   },
   {
    "duration": 293,
    "start_time": "2021-12-19T18:54:27.172Z"
   },
   {
    "duration": 320,
    "start_time": "2021-12-19T18:54:40.871Z"
   },
   {
    "duration": 473,
    "start_time": "2021-12-19T18:54:53.699Z"
   },
   {
    "duration": 320,
    "start_time": "2021-12-19T18:55:05.348Z"
   },
   {
    "duration": 308,
    "start_time": "2021-12-19T18:56:58.473Z"
   },
   {
    "duration": 13,
    "start_time": "2021-12-19T19:03:13.082Z"
   },
   {
    "duration": 22,
    "start_time": "2021-12-19T19:03:24.189Z"
   },
   {
    "duration": 31,
    "start_time": "2021-12-19T19:03:35.823Z"
   },
   {
    "duration": 37,
    "start_time": "2021-12-19T19:03:45.142Z"
   },
   {
    "duration": 12,
    "start_time": "2021-12-19T19:04:16.332Z"
   },
   {
    "duration": 393,
    "start_time": "2021-12-19T19:05:01.577Z"
   },
   {
    "duration": 347,
    "start_time": "2021-12-19T19:05:10.379Z"
   },
   {
    "duration": 344,
    "start_time": "2021-12-19T19:05:18.960Z"
   },
   {
    "duration": 14,
    "start_time": "2021-12-19T19:05:45.322Z"
   },
   {
    "duration": 311,
    "start_time": "2021-12-19T19:06:23.989Z"
   },
   {
    "duration": 13,
    "start_time": "2021-12-19T19:08:22.457Z"
   },
   {
    "duration": 15,
    "start_time": "2021-12-19T19:08:49.071Z"
   },
   {
    "duration": 9756,
    "start_time": "2021-12-19T19:10:05.011Z"
   },
   {
    "duration": 276,
    "start_time": "2021-12-19T19:10:17.289Z"
   },
   {
    "duration": 16,
    "start_time": "2021-12-19T19:10:28.744Z"
   },
   {
    "duration": 316,
    "start_time": "2021-12-19T19:11:03.082Z"
   },
   {
    "duration": 308,
    "start_time": "2021-12-19T19:11:10.584Z"
   },
   {
    "duration": 327,
    "start_time": "2021-12-19T19:11:21.202Z"
   },
   {
    "duration": 324,
    "start_time": "2021-12-19T19:11:26.566Z"
   },
   {
    "duration": 314,
    "start_time": "2021-12-19T19:11:43.723Z"
   },
   {
    "duration": 401,
    "start_time": "2021-12-19T19:11:50.325Z"
   },
   {
    "duration": 408,
    "start_time": "2021-12-19T19:12:01.755Z"
   },
   {
    "duration": 372,
    "start_time": "2021-12-19T19:13:22.216Z"
   },
   {
    "duration": 26,
    "start_time": "2021-12-19T19:20:13.814Z"
   },
   {
    "duration": 24,
    "start_time": "2021-12-19T19:20:27.693Z"
   },
   {
    "duration": 394,
    "start_time": "2021-12-19T19:20:53.029Z"
   },
   {
    "duration": 7,
    "start_time": "2021-12-19T19:21:53.775Z"
   },
   {
    "duration": 18,
    "start_time": "2021-12-19T19:36:20.685Z"
   },
   {
    "duration": 30,
    "start_time": "2021-12-19T19:36:28.338Z"
   },
   {
    "duration": 675,
    "start_time": "2021-12-19T19:41:00.877Z"
   },
   {
    "duration": 671,
    "start_time": "2021-12-19T19:41:42.009Z"
   },
   {
    "duration": 7798,
    "start_time": "2021-12-19T19:42:05.871Z"
   },
   {
    "duration": 1071,
    "start_time": "2021-12-19T19:42:26.377Z"
   },
   {
    "duration": 7,
    "start_time": "2021-12-19T19:43:36.571Z"
   },
   {
    "duration": 682,
    "start_time": "2021-12-19T19:45:12.141Z"
   },
   {
    "duration": 648,
    "start_time": "2021-12-19T19:45:25.803Z"
   },
   {
    "duration": 7,
    "start_time": "2021-12-19T19:46:02.009Z"
   },
   {
    "duration": 859,
    "start_time": "2021-12-19T19:47:55.245Z"
   },
   {
    "duration": 648,
    "start_time": "2021-12-19T19:48:39.198Z"
   },
   {
    "duration": 927,
    "start_time": "2021-12-19T19:49:12.983Z"
   },
   {
    "duration": 9,
    "start_time": "2021-12-19T19:52:42.452Z"
   },
   {
    "duration": 304,
    "start_time": "2021-12-19T19:55:01.909Z"
   },
   {
    "duration": 8319,
    "start_time": "2021-12-19T20:02:44.163Z"
   },
   {
    "duration": 8356,
    "start_time": "2021-12-19T20:03:03.728Z"
   },
   {
    "duration": 1930,
    "start_time": "2021-12-19T20:03:16.358Z"
   },
   {
    "duration": 1759,
    "start_time": "2021-12-19T20:03:26.853Z"
   },
   {
    "duration": 1405,
    "start_time": "2021-12-19T20:05:57.642Z"
   },
   {
    "duration": 1936,
    "start_time": "2021-12-19T20:06:41.745Z"
   },
   {
    "duration": 22,
    "start_time": "2021-12-19T20:12:18.667Z"
   },
   {
    "duration": 3,
    "start_time": "2021-12-19T20:12:45.163Z"
   },
   {
    "duration": 19,
    "start_time": "2021-12-19T20:12:50.409Z"
   },
   {
    "duration": 10,
    "start_time": "2021-12-19T20:12:59.303Z"
   },
   {
    "duration": 15,
    "start_time": "2021-12-19T20:16:28.501Z"
   },
   {
    "duration": 18,
    "start_time": "2021-12-19T20:16:38.601Z"
   },
   {
    "duration": 228,
    "start_time": "2021-12-19T20:17:18.260Z"
   },
   {
    "duration": 237,
    "start_time": "2021-12-19T20:18:13.426Z"
   },
   {
    "duration": 415,
    "start_time": "2021-12-19T20:21:10.047Z"
   },
   {
    "duration": 333,
    "start_time": "2021-12-19T20:21:43.187Z"
   },
   {
    "duration": 306,
    "start_time": "2021-12-19T20:22:38.386Z"
   },
   {
    "duration": 1040,
    "start_time": "2021-12-19T20:23:05.204Z"
   },
   {
    "duration": 10,
    "start_time": "2021-12-19T20:23:06.248Z"
   },
   {
    "duration": 15,
    "start_time": "2021-12-19T20:23:06.262Z"
   },
   {
    "duration": 14,
    "start_time": "2021-12-19T20:23:06.280Z"
   },
   {
    "duration": 38,
    "start_time": "2021-12-19T20:23:06.297Z"
   },
   {
    "duration": 5,
    "start_time": "2021-12-19T20:23:06.337Z"
   },
   {
    "duration": 97,
    "start_time": "2021-12-19T20:23:06.344Z"
   },
   {
    "duration": 18,
    "start_time": "2021-12-19T20:23:06.447Z"
   },
   {
    "duration": 7,
    "start_time": "2021-12-19T20:23:06.468Z"
   },
   {
    "duration": 46,
    "start_time": "2021-12-19T20:23:06.478Z"
   },
   {
    "duration": 9,
    "start_time": "2021-12-19T20:23:06.527Z"
   },
   {
    "duration": 20,
    "start_time": "2021-12-19T20:23:06.538Z"
   },
   {
    "duration": 875,
    "start_time": "2021-12-19T20:23:06.561Z"
   },
   {
    "duration": 25,
    "start_time": "2021-12-19T20:23:07.439Z"
   },
   {
    "duration": 46,
    "start_time": "2021-12-19T20:23:07.467Z"
   },
   {
    "duration": 12,
    "start_time": "2021-12-19T20:23:07.515Z"
   },
   {
    "duration": 384,
    "start_time": "2021-12-19T20:23:07.529Z"
   },
   {
    "duration": 516,
    "start_time": "2021-12-19T20:23:07.915Z"
   },
   {
    "duration": 436,
    "start_time": "2021-12-19T20:23:08.434Z"
   },
   {
    "duration": 13,
    "start_time": "2021-12-19T20:23:08.872Z"
   },
   {
    "duration": 329,
    "start_time": "2021-12-19T20:23:08.887Z"
   },
   {
    "duration": 409,
    "start_time": "2021-12-19T20:23:09.222Z"
   },
   {
    "duration": 13,
    "start_time": "2021-12-19T20:23:09.639Z"
   },
   {
    "duration": 360,
    "start_time": "2021-12-19T20:23:09.656Z"
   },
   {
    "duration": 12,
    "start_time": "2021-12-19T20:23:10.023Z"
   },
   {
    "duration": 435,
    "start_time": "2021-12-19T20:23:10.038Z"
   },
   {
    "duration": 93,
    "start_time": "2021-12-19T20:23:10.383Z"
   },
   {
    "duration": 86,
    "start_time": "2021-12-19T20:23:10.392Z"
   },
   {
    "duration": 81,
    "start_time": "2021-12-19T20:23:10.398Z"
   },
   {
    "duration": 76,
    "start_time": "2021-12-19T20:23:10.405Z"
   },
   {
    "duration": 61,
    "start_time": "2021-12-19T20:23:10.421Z"
   },
   {
    "duration": 59,
    "start_time": "2021-12-19T20:23:10.425Z"
   },
   {
    "duration": 56,
    "start_time": "2021-12-19T20:23:10.430Z"
   },
   {
    "duration": 53,
    "start_time": "2021-12-19T20:23:10.434Z"
   },
   {
    "duration": 50,
    "start_time": "2021-12-19T20:23:10.438Z"
   },
   {
    "duration": 48,
    "start_time": "2021-12-19T20:23:10.442Z"
   },
   {
    "duration": 45,
    "start_time": "2021-12-19T20:23:10.446Z"
   },
   {
    "duration": 44,
    "start_time": "2021-12-19T20:23:10.449Z"
   },
   {
    "duration": 41,
    "start_time": "2021-12-19T20:23:10.453Z"
   },
   {
    "duration": 38,
    "start_time": "2021-12-19T20:23:10.457Z"
   },
   {
    "duration": 333,
    "start_time": "2021-12-19T20:24:14.096Z"
   },
   {
    "duration": 363,
    "start_time": "2021-12-19T20:24:25.281Z"
   },
   {
    "duration": 24,
    "start_time": "2021-12-19T20:24:34.120Z"
   },
   {
    "duration": 379,
    "start_time": "2021-12-19T20:24:37.151Z"
   },
   {
    "duration": 21,
    "start_time": "2021-12-19T20:25:12.991Z"
   },
   {
    "duration": 779,
    "start_time": "2021-12-19T20:25:15.869Z"
   },
   {
    "duration": 1054,
    "start_time": "2021-12-19T20:25:22.135Z"
   },
   {
    "duration": 9,
    "start_time": "2021-12-19T20:25:23.192Z"
   },
   {
    "duration": 26,
    "start_time": "2021-12-19T20:25:23.204Z"
   },
   {
    "duration": 29,
    "start_time": "2021-12-19T20:25:23.233Z"
   },
   {
    "duration": 28,
    "start_time": "2021-12-19T20:25:23.265Z"
   },
   {
    "duration": 23,
    "start_time": "2021-12-19T20:25:23.295Z"
   },
   {
    "duration": 87,
    "start_time": "2021-12-19T20:25:23.321Z"
   },
   {
    "duration": 12,
    "start_time": "2021-12-19T20:25:23.410Z"
   },
   {
    "duration": 12,
    "start_time": "2021-12-19T20:25:23.428Z"
   },
   {
    "duration": 33,
    "start_time": "2021-12-19T20:25:23.444Z"
   },
   {
    "duration": 43,
    "start_time": "2021-12-19T20:25:23.480Z"
   },
   {
    "duration": 47,
    "start_time": "2021-12-19T20:25:23.525Z"
   },
   {
    "duration": 802,
    "start_time": "2021-12-19T20:25:23.575Z"
   },
   {
    "duration": 16,
    "start_time": "2021-12-19T20:25:24.380Z"
   },
   {
    "duration": 76,
    "start_time": "2021-12-19T20:25:24.399Z"
   },
   {
    "duration": 13,
    "start_time": "2021-12-19T20:25:24.478Z"
   },
   {
    "duration": 333,
    "start_time": "2021-12-19T20:25:24.494Z"
   },
   {
    "duration": 411,
    "start_time": "2021-12-19T20:25:24.830Z"
   },
   {
    "duration": 479,
    "start_time": "2021-12-19T20:25:25.244Z"
   },
   {
    "duration": 14,
    "start_time": "2021-12-19T20:25:25.726Z"
   },
   {
    "duration": 373,
    "start_time": "2021-12-19T20:25:25.743Z"
   },
   {
    "duration": 375,
    "start_time": "2021-12-19T20:25:26.122Z"
   },
   {
    "duration": 24,
    "start_time": "2021-12-19T20:25:26.499Z"
   },
   {
    "duration": 383,
    "start_time": "2021-12-19T20:25:26.526Z"
   },
   {
    "duration": 23,
    "start_time": "2021-12-19T20:25:26.912Z"
   },
   {
    "duration": 314,
    "start_time": "2021-12-19T20:25:26.937Z"
   },
   {
    "duration": 348,
    "start_time": "2021-12-19T20:25:27.258Z"
   },
   {
    "duration": 36,
    "start_time": "2021-12-19T20:25:27.608Z"
   },
   {
    "duration": 363,
    "start_time": "2021-12-19T20:25:27.647Z"
   },
   {
    "duration": 26,
    "start_time": "2021-12-19T20:25:28.012Z"
   },
   {
    "duration": 790,
    "start_time": "2021-12-19T20:25:28.040Z"
   },
   {
    "duration": 8,
    "start_time": "2021-12-19T20:25:28.832Z"
   },
   {
    "duration": 744,
    "start_time": "2021-12-19T20:25:28.842Z"
   },
   {
    "duration": 7,
    "start_time": "2021-12-19T20:25:29.590Z"
   },
   {
    "duration": 766,
    "start_time": "2021-12-19T20:25:29.600Z"
   },
   {
    "duration": 10,
    "start_time": "2021-12-19T20:25:30.369Z"
   },
   {
    "duration": 365,
    "start_time": "2021-12-19T20:25:30.381Z"
   },
   {
    "duration": 300,
    "start_time": "2021-12-19T20:25:30.749Z"
   },
   {
    "duration": 349,
    "start_time": "2021-12-19T20:25:31.052Z"
   },
   {
    "duration": 343,
    "start_time": "2021-12-19T20:25:31.404Z"
   },
   {
    "duration": 474,
    "start_time": "2021-12-20T19:02:35.078Z"
   },
   {
    "duration": 1082,
    "start_time": "2021-12-20T19:02:43.220Z"
   },
   {
    "duration": 8,
    "start_time": "2021-12-20T19:02:44.305Z"
   },
   {
    "duration": 13,
    "start_time": "2021-12-20T19:02:44.316Z"
   },
   {
    "duration": 29,
    "start_time": "2021-12-20T19:02:44.332Z"
   },
   {
    "duration": 12,
    "start_time": "2021-12-20T19:02:44.363Z"
   },
   {
    "duration": 5,
    "start_time": "2021-12-20T19:02:44.378Z"
   },
   {
    "duration": 77,
    "start_time": "2021-12-20T19:02:44.386Z"
   },
   {
    "duration": 15,
    "start_time": "2021-12-20T19:02:44.467Z"
   },
   {
    "duration": 6,
    "start_time": "2021-12-20T19:02:44.485Z"
   },
   {
    "duration": 23,
    "start_time": "2021-12-20T19:02:44.493Z"
   },
   {
    "duration": 44,
    "start_time": "2021-12-20T19:02:44.519Z"
   },
   {
    "duration": 18,
    "start_time": "2021-12-20T19:02:44.566Z"
   },
   {
    "duration": 904,
    "start_time": "2021-12-20T19:02:44.586Z"
   },
   {
    "duration": 14,
    "start_time": "2021-12-20T19:02:45.492Z"
   },
   {
    "duration": 79,
    "start_time": "2021-12-20T19:02:45.509Z"
   },
   {
    "duration": 15,
    "start_time": "2021-12-20T19:02:45.591Z"
   },
   {
    "duration": 367,
    "start_time": "2021-12-20T19:02:45.608Z"
   },
   {
    "duration": 501,
    "start_time": "2021-12-20T19:02:45.978Z"
   },
   {
    "duration": 483,
    "start_time": "2021-12-20T19:02:46.485Z"
   },
   {
    "duration": 16,
    "start_time": "2021-12-20T19:02:46.971Z"
   },
   {
    "duration": 381,
    "start_time": "2021-12-20T19:02:46.989Z"
   },
   {
    "duration": 440,
    "start_time": "2021-12-20T19:02:47.373Z"
   },
   {
    "duration": 13,
    "start_time": "2021-12-20T19:02:47.820Z"
   },
   {
    "duration": 402,
    "start_time": "2021-12-20T19:02:47.837Z"
   },
   {
    "duration": 22,
    "start_time": "2021-12-20T19:02:48.242Z"
   },
   {
    "duration": 479,
    "start_time": "2021-12-20T19:02:48.266Z"
   },
   {
    "duration": 372,
    "start_time": "2021-12-20T19:02:48.747Z"
   },
   {
    "duration": 43,
    "start_time": "2021-12-20T19:02:49.121Z"
   },
   {
    "duration": 380,
    "start_time": "2021-12-20T19:02:49.167Z"
   },
   {
    "duration": 29,
    "start_time": "2021-12-20T19:02:49.558Z"
   },
   {
    "duration": 815,
    "start_time": "2021-12-20T19:02:49.589Z"
   },
   {
    "duration": 7,
    "start_time": "2021-12-20T19:02:50.408Z"
   },
   {
    "duration": 819,
    "start_time": "2021-12-20T19:02:50.417Z"
   },
   {
    "duration": 20,
    "start_time": "2021-12-20T19:02:51.239Z"
   },
   {
    "duration": 894,
    "start_time": "2021-12-20T19:02:51.265Z"
   },
   {
    "duration": 13,
    "start_time": "2021-12-20T19:02:52.162Z"
   },
   {
    "duration": 342,
    "start_time": "2021-12-20T19:02:52.178Z"
   },
   {
    "duration": 325,
    "start_time": "2021-12-20T19:02:52.522Z"
   },
   {
    "duration": 360,
    "start_time": "2021-12-20T19:02:52.850Z"
   },
   {
    "duration": 339,
    "start_time": "2021-12-20T19:02:53.213Z"
   },
   {
    "duration": 346,
    "start_time": "2021-12-20T19:03:12.554Z"
   },
   {
    "duration": 331,
    "start_time": "2021-12-20T19:03:18.430Z"
   },
   {
    "duration": 392,
    "start_time": "2021-12-20T19:03:24.155Z"
   },
   {
    "duration": 458,
    "start_time": "2021-12-20T19:12:21.148Z"
   },
   {
    "duration": 216,
    "start_time": "2021-12-20T19:15:12.676Z"
   },
   {
    "duration": 207,
    "start_time": "2021-12-20T19:17:14.820Z"
   },
   {
    "duration": 228,
    "start_time": "2021-12-20T19:17:30.822Z"
   },
   {
    "duration": 201,
    "start_time": "2021-12-20T19:17:39.478Z"
   },
   {
    "duration": 6,
    "start_time": "2021-12-20T19:19:17.730Z"
   },
   {
    "duration": 11765,
    "start_time": "2021-12-20T19:19:42.272Z"
   },
   {
    "duration": 193,
    "start_time": "2021-12-20T19:20:04.082Z"
   },
   {
    "duration": 11,
    "start_time": "2021-12-20T19:20:14.451Z"
   },
   {
    "duration": 12,
    "start_time": "2021-12-20T19:21:01.468Z"
   },
   {
    "duration": 8,
    "start_time": "2021-12-20T19:21:22.286Z"
   },
   {
    "duration": 17,
    "start_time": "2021-12-20T19:22:46.495Z"
   },
   {
    "duration": 16,
    "start_time": "2021-12-20T19:22:52.536Z"
   },
   {
    "duration": 210,
    "start_time": "2021-12-20T19:23:36.370Z"
   },
   {
    "duration": 141,
    "start_time": "2021-12-20T19:23:43.696Z"
   },
   {
    "duration": 13,
    "start_time": "2021-12-20T19:23:52.808Z"
   },
   {
    "duration": 13,
    "start_time": "2021-12-20T19:25:02.881Z"
   },
   {
    "duration": 11,
    "start_time": "2021-12-20T19:25:19.008Z"
   },
   {
    "duration": 13,
    "start_time": "2021-12-20T19:25:28.175Z"
   },
   {
    "duration": 11,
    "start_time": "2021-12-20T19:25:33.162Z"
   },
   {
    "duration": 13,
    "start_time": "2021-12-20T19:26:08.149Z"
   },
   {
    "duration": 14,
    "start_time": "2021-12-20T19:26:12.318Z"
   },
   {
    "duration": 377,
    "start_time": "2021-12-20T19:28:23.742Z"
   },
   {
    "duration": 48,
    "start_time": "2021-12-20T19:29:21.386Z"
   },
   {
    "duration": 496,
    "start_time": "2021-12-20T19:30:19.753Z"
   },
   {
    "duration": 50,
    "start_time": "2021-12-20T19:30:41.878Z"
   },
   {
    "duration": 28,
    "start_time": "2021-12-20T19:31:16.731Z"
   },
   {
    "duration": 47,
    "start_time": "2021-12-20T19:32:04.760Z"
   },
   {
    "duration": 70,
    "start_time": "2021-12-20T19:32:31.187Z"
   },
   {
    "duration": 50,
    "start_time": "2021-12-20T19:32:52.752Z"
   },
   {
    "duration": 982,
    "start_time": "2021-12-20T19:33:41.504Z"
   },
   {
    "duration": 7,
    "start_time": "2021-12-20T19:33:42.489Z"
   },
   {
    "duration": 9,
    "start_time": "2021-12-20T19:33:42.499Z"
   },
   {
    "duration": 15,
    "start_time": "2021-12-20T19:33:42.511Z"
   },
   {
    "duration": 40,
    "start_time": "2021-12-20T19:33:42.528Z"
   },
   {
    "duration": 5,
    "start_time": "2021-12-20T19:33:42.570Z"
   },
   {
    "duration": 61,
    "start_time": "2021-12-20T19:33:42.577Z"
   },
   {
    "duration": 14,
    "start_time": "2021-12-20T19:33:42.661Z"
   },
   {
    "duration": 5,
    "start_time": "2021-12-20T19:33:42.678Z"
   },
   {
    "duration": 10,
    "start_time": "2021-12-20T19:33:42.686Z"
   },
   {
    "duration": 8,
    "start_time": "2021-12-20T19:33:42.699Z"
   },
   {
    "duration": 52,
    "start_time": "2021-12-20T19:33:42.710Z"
   },
   {
    "duration": 740,
    "start_time": "2021-12-20T19:33:42.764Z"
   },
   {
    "duration": 12,
    "start_time": "2021-12-20T19:33:43.507Z"
   },
   {
    "duration": 58,
    "start_time": "2021-12-20T19:33:43.521Z"
   },
   {
    "duration": 12,
    "start_time": "2021-12-20T19:33:43.582Z"
   },
   {
    "duration": 324,
    "start_time": "2021-12-20T19:33:43.597Z"
   },
   {
    "duration": 372,
    "start_time": "2021-12-20T19:33:43.924Z"
   },
   {
    "duration": 397,
    "start_time": "2021-12-20T19:33:44.299Z"
   },
   {
    "duration": 13,
    "start_time": "2021-12-20T19:33:44.699Z"
   },
   {
    "duration": 327,
    "start_time": "2021-12-20T19:33:44.714Z"
   },
   {
    "duration": 455,
    "start_time": "2021-12-20T19:33:45.043Z"
   },
   {
    "duration": 11,
    "start_time": "2021-12-20T19:33:45.503Z"
   },
   {
    "duration": 332,
    "start_time": "2021-12-20T19:33:45.517Z"
   },
   {
    "duration": 15,
    "start_time": "2021-12-20T19:33:45.853Z"
   },
   {
    "duration": 308,
    "start_time": "2021-12-20T19:33:45.870Z"
   },
   {
    "duration": 332,
    "start_time": "2021-12-20T19:33:46.180Z"
   },
   {
    "duration": 26,
    "start_time": "2021-12-20T19:33:46.514Z"
   },
   {
    "duration": 329,
    "start_time": "2021-12-20T19:33:46.559Z"
   },
   {
    "duration": 24,
    "start_time": "2021-12-20T19:33:46.891Z"
   },
   {
    "duration": 709,
    "start_time": "2021-12-20T19:33:46.917Z"
   },
   {
    "duration": 9,
    "start_time": "2021-12-20T19:33:47.629Z"
   },
   {
    "duration": 727,
    "start_time": "2021-12-20T19:33:47.641Z"
   },
   {
    "duration": 7,
    "start_time": "2021-12-20T19:33:48.371Z"
   },
   {
    "duration": 688,
    "start_time": "2021-12-20T19:33:48.380Z"
   },
   {
    "duration": 9,
    "start_time": "2021-12-20T19:33:49.071Z"
   },
   {
    "duration": 331,
    "start_time": "2021-12-20T19:33:49.082Z"
   },
   {
    "duration": 283,
    "start_time": "2021-12-20T19:33:49.416Z"
   },
   {
    "duration": 332,
    "start_time": "2021-12-20T19:33:49.701Z"
   },
   {
    "duration": 308,
    "start_time": "2021-12-20T19:33:50.036Z"
   },
   {
    "duration": 215,
    "start_time": "2021-12-20T19:33:50.347Z"
   },
   {
    "duration": 12,
    "start_time": "2021-12-20T19:33:50.564Z"
   },
   {
    "duration": 12,
    "start_time": "2021-12-20T19:33:50.579Z"
   },
   {
    "duration": 514,
    "start_time": "2021-12-20T19:33:50.593Z"
   },
   {
    "duration": 50,
    "start_time": "2021-12-20T19:34:16.737Z"
   },
   {
    "duration": 428,
    "start_time": "2021-12-20T19:34:30.730Z"
   },
   {
    "duration": 750,
    "start_time": "2021-12-20T19:34:53.951Z"
   },
   {
    "duration": 657,
    "start_time": "2021-12-20T19:35:14.544Z"
   },
   {
    "duration": 973,
    "start_time": "2021-12-20T19:35:28.695Z"
   },
   {
    "duration": 7,
    "start_time": "2021-12-20T19:35:29.672Z"
   },
   {
    "duration": 10,
    "start_time": "2021-12-20T19:35:29.682Z"
   },
   {
    "duration": 13,
    "start_time": "2021-12-20T19:35:29.695Z"
   },
   {
    "duration": 12,
    "start_time": "2021-12-20T19:35:29.711Z"
   },
   {
    "duration": 33,
    "start_time": "2021-12-20T19:35:29.726Z"
   },
   {
    "duration": 54,
    "start_time": "2021-12-20T19:35:29.762Z"
   },
   {
    "duration": 40,
    "start_time": "2021-12-20T19:35:29.820Z"
   },
   {
    "duration": 6,
    "start_time": "2021-12-20T19:35:29.863Z"
   },
   {
    "duration": 11,
    "start_time": "2021-12-20T19:35:29.871Z"
   },
   {
    "duration": 11,
    "start_time": "2021-12-20T19:35:29.884Z"
   },
   {
    "duration": 16,
    "start_time": "2021-12-20T19:35:29.897Z"
   },
   {
    "duration": 1309,
    "start_time": "2021-12-20T19:35:29.915Z"
   },
   {
    "duration": 15,
    "start_time": "2021-12-20T19:35:31.228Z"
   },
   {
    "duration": 57,
    "start_time": "2021-12-20T19:35:31.246Z"
   },
   {
    "duration": 12,
    "start_time": "2021-12-20T19:35:31.306Z"
   },
   {
    "duration": 312,
    "start_time": "2021-12-20T19:35:31.322Z"
   },
   {
    "duration": 389,
    "start_time": "2021-12-20T19:35:31.636Z"
   },
   {
    "duration": 410,
    "start_time": "2021-12-20T19:35:32.028Z"
   },
   {
    "duration": 23,
    "start_time": "2021-12-20T19:35:32.440Z"
   },
   {
    "duration": 311,
    "start_time": "2021-12-20T19:35:32.465Z"
   },
   {
    "duration": 357,
    "start_time": "2021-12-20T19:35:32.778Z"
   },
   {
    "duration": 23,
    "start_time": "2021-12-20T19:35:33.140Z"
   },
   {
    "duration": 317,
    "start_time": "2021-12-20T19:35:33.166Z"
   },
   {
    "duration": 11,
    "start_time": "2021-12-20T19:35:33.485Z"
   },
   {
    "duration": 290,
    "start_time": "2021-12-20T19:35:33.498Z"
   },
   {
    "duration": 319,
    "start_time": "2021-12-20T19:35:33.791Z"
   },
   {
    "duration": 24,
    "start_time": "2021-12-20T19:35:34.112Z"
   },
   {
    "duration": 426,
    "start_time": "2021-12-20T19:35:34.138Z"
   },
   {
    "duration": 21,
    "start_time": "2021-12-20T19:35:34.567Z"
   },
   {
    "duration": 728,
    "start_time": "2021-12-20T19:35:34.590Z"
   },
   {
    "duration": 7,
    "start_time": "2021-12-20T19:35:35.320Z"
   },
   {
    "duration": 671,
    "start_time": "2021-12-20T19:35:35.329Z"
   },
   {
    "duration": 7,
    "start_time": "2021-12-20T19:35:36.003Z"
   },
   {
    "duration": 669,
    "start_time": "2021-12-20T19:35:36.012Z"
   },
   {
    "duration": 9,
    "start_time": "2021-12-20T19:35:36.683Z"
   },
   {
    "duration": 333,
    "start_time": "2021-12-20T19:35:36.694Z"
   },
   {
    "duration": 301,
    "start_time": "2021-12-20T19:35:37.029Z"
   },
   {
    "duration": 431,
    "start_time": "2021-12-20T19:35:37.333Z"
   },
   {
    "duration": 306,
    "start_time": "2021-12-20T19:35:37.768Z"
   },
   {
    "duration": 224,
    "start_time": "2021-12-20T19:35:38.076Z"
   },
   {
    "duration": 13,
    "start_time": "2021-12-20T19:35:38.302Z"
   },
   {
    "duration": 13,
    "start_time": "2021-12-20T19:35:38.318Z"
   },
   {
    "duration": 501,
    "start_time": "2021-12-20T19:35:38.360Z"
   },
   {
    "duration": 45,
    "start_time": "2021-12-20T19:36:50.511Z"
   },
   {
    "duration": 50,
    "start_time": "2021-12-20T19:37:06.124Z"
   },
   {
    "duration": 11,
    "start_time": "2021-12-20T19:40:07.896Z"
   },
   {
    "duration": 42,
    "start_time": "2021-12-20T19:42:41.550Z"
   },
   {
    "duration": 42,
    "start_time": "2021-12-20T19:43:02.357Z"
   },
   {
    "duration": 160,
    "start_time": "2021-12-20T19:46:21.666Z"
   },
   {
    "duration": 298,
    "start_time": "2021-12-20T19:47:34.649Z"
   },
   {
    "duration": 61,
    "start_time": "2021-12-20T19:49:51.024Z"
   },
   {
    "duration": 12,
    "start_time": "2021-12-20T19:50:06.141Z"
   },
   {
    "duration": 66,
    "start_time": "2021-12-20T19:51:08.274Z"
   },
   {
    "duration": 43,
    "start_time": "2021-12-20T19:51:57.134Z"
   },
   {
    "duration": 67,
    "start_time": "2021-12-20T19:52:28.636Z"
   },
   {
    "duration": 33,
    "start_time": "2021-12-20T19:52:42.833Z"
   },
   {
    "duration": 18,
    "start_time": "2021-12-20T19:53:05.434Z"
   },
   {
    "duration": 11,
    "start_time": "2021-12-20T19:53:15.375Z"
   },
   {
    "duration": 913,
    "start_time": "2021-12-21T08:50:16.060Z"
   },
   {
    "duration": 6,
    "start_time": "2021-12-21T08:50:16.976Z"
   },
   {
    "duration": 9,
    "start_time": "2021-12-21T08:50:16.985Z"
   },
   {
    "duration": 30,
    "start_time": "2021-12-21T08:50:16.996Z"
   },
   {
    "duration": 12,
    "start_time": "2021-12-21T08:50:17.028Z"
   },
   {
    "duration": 9,
    "start_time": "2021-12-21T08:50:17.042Z"
   },
   {
    "duration": 78,
    "start_time": "2021-12-21T08:50:17.053Z"
   },
   {
    "duration": 13,
    "start_time": "2021-12-21T08:50:17.133Z"
   },
   {
    "duration": 6,
    "start_time": "2021-12-21T08:50:17.149Z"
   },
   {
    "duration": 11,
    "start_time": "2021-12-21T08:50:17.157Z"
   },
   {
    "duration": 8,
    "start_time": "2021-12-21T08:50:17.170Z"
   },
   {
    "duration": 53,
    "start_time": "2021-12-21T08:50:17.180Z"
   },
   {
    "duration": 749,
    "start_time": "2021-12-21T08:50:17.235Z"
   },
   {
    "duration": 11,
    "start_time": "2021-12-21T08:50:17.986Z"
   },
   {
    "duration": 59,
    "start_time": "2021-12-21T08:50:18.000Z"
   },
   {
    "duration": 13,
    "start_time": "2021-12-21T08:50:18.062Z"
   },
   {
    "duration": 325,
    "start_time": "2021-12-21T08:50:18.078Z"
   },
   {
    "duration": 386,
    "start_time": "2021-12-21T08:50:18.405Z"
   },
   {
    "duration": 391,
    "start_time": "2021-12-21T08:50:18.794Z"
   },
   {
    "duration": 12,
    "start_time": "2021-12-21T08:50:19.187Z"
   },
   {
    "duration": 321,
    "start_time": "2021-12-21T08:50:19.218Z"
   },
   {
    "duration": 356,
    "start_time": "2021-12-21T08:50:19.542Z"
   },
   {
    "duration": 19,
    "start_time": "2021-12-21T08:50:19.900Z"
   },
   {
    "duration": 325,
    "start_time": "2021-12-21T08:50:19.922Z"
   },
   {
    "duration": 11,
    "start_time": "2021-12-21T08:50:20.249Z"
   },
   {
    "duration": 312,
    "start_time": "2021-12-21T08:50:20.263Z"
   },
   {
    "duration": 337,
    "start_time": "2021-12-21T08:50:20.580Z"
   },
   {
    "duration": 23,
    "start_time": "2021-12-21T08:50:20.919Z"
   },
   {
    "duration": 337,
    "start_time": "2021-12-21T08:50:20.944Z"
   },
   {
    "duration": 39,
    "start_time": "2021-12-21T08:50:21.283Z"
   },
   {
    "duration": 802,
    "start_time": "2021-12-21T08:50:21.325Z"
   },
   {
    "duration": 6,
    "start_time": "2021-12-21T08:50:22.130Z"
   },
   {
    "duration": 704,
    "start_time": "2021-12-21T08:50:22.138Z"
   },
   {
    "duration": 7,
    "start_time": "2021-12-21T08:50:22.844Z"
   },
   {
    "duration": 657,
    "start_time": "2021-12-21T08:50:22.853Z"
   },
   {
    "duration": 11,
    "start_time": "2021-12-21T08:50:23.512Z"
   },
   {
    "duration": 328,
    "start_time": "2021-12-21T08:50:23.526Z"
   },
   {
    "duration": 287,
    "start_time": "2021-12-21T08:50:23.856Z"
   },
   {
    "duration": 313,
    "start_time": "2021-12-21T08:50:24.145Z"
   },
   {
    "duration": 303,
    "start_time": "2021-12-21T08:50:24.461Z"
   },
   {
    "duration": 214,
    "start_time": "2021-12-21T08:50:24.766Z"
   },
   {
    "duration": 12,
    "start_time": "2021-12-21T08:50:24.982Z"
   },
   {
    "duration": 26,
    "start_time": "2021-12-21T08:50:24.996Z"
   },
   {
    "duration": 9,
    "start_time": "2021-12-21T08:50:25.025Z"
   },
   {
    "duration": 36,
    "start_time": "2021-12-21T08:50:25.036Z"
   },
   {
    "duration": 323,
    "start_time": "2021-12-21T08:50:25.074Z"
   },
   {
    "duration": 17,
    "start_time": "2021-12-21T08:51:30.586Z"
   },
   {
    "duration": 270,
    "start_time": "2021-12-21T08:51:34.536Z"
   },
   {
    "duration": 14,
    "start_time": "2021-12-21T08:52:33.969Z"
   },
   {
    "duration": 278,
    "start_time": "2021-12-21T08:52:36.866Z"
   },
   {
    "duration": 20,
    "start_time": "2021-12-21T09:02:18.442Z"
   },
   {
    "duration": 12,
    "start_time": "2021-12-21T09:02:28.202Z"
   },
   {
    "duration": 1381,
    "start_time": "2021-12-21T10:24:36.247Z"
   },
   {
    "duration": 969,
    "start_time": "2021-12-21T10:25:14.055Z"
   },
   {
    "duration": 1697,
    "start_time": "2021-12-21T10:25:37.205Z"
   },
   {
    "duration": 603,
    "start_time": "2021-12-21T10:33:18.248Z"
   },
   {
    "duration": 8,
    "start_time": "2021-12-21T10:33:47.817Z"
   },
   {
    "duration": 7,
    "start_time": "2021-12-21T10:34:29.562Z"
   },
   {
    "duration": 16,
    "start_time": "2021-12-21T10:39:17.468Z"
   },
   {
    "duration": 310,
    "start_time": "2021-12-21T10:39:19.568Z"
   },
   {
    "duration": 12,
    "start_time": "2021-12-21T10:50:52.834Z"
   },
   {
    "duration": 385,
    "start_time": "2021-12-21T10:51:06.807Z"
   },
   {
    "duration": 294,
    "start_time": "2021-12-21T11:03:17.088Z"
   },
   {
    "duration": 9,
    "start_time": "2021-12-21T11:03:29.675Z"
   },
   {
    "duration": 9,
    "start_time": "2021-12-21T11:03:42.556Z"
   },
   {
    "duration": 5,
    "start_time": "2021-12-21T11:03:49.606Z"
   },
   {
    "duration": 403,
    "start_time": "2021-12-21T11:04:00.188Z"
   },
   {
    "duration": 317,
    "start_time": "2021-12-21T11:04:16.758Z"
   },
   {
    "duration": 303,
    "start_time": "2021-12-21T11:04:30.140Z"
   },
   {
    "duration": 11,
    "start_time": "2021-12-21T11:06:32.533Z"
   },
   {
    "duration": 287,
    "start_time": "2021-12-21T11:06:43.303Z"
   },
   {
    "duration": 275,
    "start_time": "2021-12-21T11:07:02.645Z"
   },
   {
    "duration": 421,
    "start_time": "2021-12-21T11:09:21.213Z"
   },
   {
    "duration": 307,
    "start_time": "2021-12-21T11:09:31.067Z"
   },
   {
    "duration": 13,
    "start_time": "2021-12-21T11:09:37.607Z"
   },
   {
    "duration": 310,
    "start_time": "2021-12-21T11:11:08.721Z"
   },
   {
    "duration": 679,
    "start_time": "2021-12-21T11:19:06.377Z"
   },
   {
    "duration": 648,
    "start_time": "2021-12-21T11:19:50.765Z"
   },
   {
    "duration": 468,
    "start_time": "2021-12-21T11:21:54.367Z"
   },
   {
    "duration": 256,
    "start_time": "2021-12-21T11:22:42.787Z"
   },
   {
    "duration": 246,
    "start_time": "2021-12-21T11:22:59.032Z"
   },
   {
    "duration": 488,
    "start_time": "2021-12-21T11:25:01.368Z"
   },
   {
    "duration": 272,
    "start_time": "2021-12-21T11:29:29.569Z"
   },
   {
    "duration": 323,
    "start_time": "2021-12-21T11:30:27.485Z"
   },
   {
    "duration": 268,
    "start_time": "2021-12-21T11:31:50.348Z"
   },
   {
    "duration": 283,
    "start_time": "2021-12-21T11:44:58.944Z"
   },
   {
    "duration": 284,
    "start_time": "2021-12-21T11:45:03.649Z"
   },
   {
    "duration": 331,
    "start_time": "2021-12-21T11:47:06.565Z"
   },
   {
    "duration": 385,
    "start_time": "2021-12-26T18:32:38.923Z"
   },
   {
    "duration": 910,
    "start_time": "2021-12-26T18:32:49.632Z"
   },
   {
    "duration": 449,
    "start_time": "2021-12-26T18:32:50.545Z"
   },
   {
    "duration": -801,
    "start_time": "2021-12-26T18:32:51.800Z"
   },
   {
    "duration": -815,
    "start_time": "2021-12-26T18:32:51.816Z"
   },
   {
    "duration": -847,
    "start_time": "2021-12-26T18:32:51.850Z"
   },
   {
    "duration": -863,
    "start_time": "2021-12-26T18:32:51.867Z"
   },
   {
    "duration": -875,
    "start_time": "2021-12-26T18:32:51.881Z"
   },
   {
    "duration": -885,
    "start_time": "2021-12-26T18:32:51.892Z"
   },
   {
    "duration": -889,
    "start_time": "2021-12-26T18:32:51.898Z"
   },
   {
    "duration": -894,
    "start_time": "2021-12-26T18:32:51.905Z"
   },
   {
    "duration": -898,
    "start_time": "2021-12-26T18:32:51.910Z"
   },
   {
    "duration": -902,
    "start_time": "2021-12-26T18:32:51.916Z"
   },
   {
    "duration": -906,
    "start_time": "2021-12-26T18:32:51.921Z"
   },
   {
    "duration": -910,
    "start_time": "2021-12-26T18:32:51.926Z"
   },
   {
    "duration": -913,
    "start_time": "2021-12-26T18:32:51.931Z"
   },
   {
    "duration": -918,
    "start_time": "2021-12-26T18:32:51.937Z"
   },
   {
    "duration": -931,
    "start_time": "2021-12-26T18:32:51.952Z"
   },
   {
    "duration": -937,
    "start_time": "2021-12-26T18:32:51.959Z"
   },
   {
    "duration": -941,
    "start_time": "2021-12-26T18:32:51.964Z"
   },
   {
    "duration": -946,
    "start_time": "2021-12-26T18:32:51.970Z"
   },
   {
    "duration": -949,
    "start_time": "2021-12-26T18:32:51.975Z"
   },
   {
    "duration": -954,
    "start_time": "2021-12-26T18:32:51.981Z"
   },
   {
    "duration": -959,
    "start_time": "2021-12-26T18:32:51.987Z"
   },
   {
    "duration": -963,
    "start_time": "2021-12-26T18:32:51.993Z"
   },
   {
    "duration": -975,
    "start_time": "2021-12-26T18:32:52.006Z"
   },
   {
    "duration": -980,
    "start_time": "2021-12-26T18:32:52.012Z"
   },
   {
    "duration": -984,
    "start_time": "2021-12-26T18:32:52.018Z"
   },
   {
    "duration": -988,
    "start_time": "2021-12-26T18:32:52.023Z"
   },
   {
    "duration": -993,
    "start_time": "2021-12-26T18:32:52.030Z"
   },
   {
    "duration": -999,
    "start_time": "2021-12-26T18:32:52.037Z"
   },
   {
    "duration": -1003,
    "start_time": "2021-12-26T18:32:52.043Z"
   },
   {
    "duration": -1008,
    "start_time": "2021-12-26T18:32:52.049Z"
   },
   {
    "duration": -1020,
    "start_time": "2021-12-26T18:32:52.063Z"
   },
   {
    "duration": -1025,
    "start_time": "2021-12-26T18:32:52.069Z"
   },
   {
    "duration": -1028,
    "start_time": "2021-12-26T18:32:52.074Z"
   },
   {
    "duration": -1034,
    "start_time": "2021-12-26T18:32:52.082Z"
   },
   {
    "duration": -1038,
    "start_time": "2021-12-26T18:32:52.088Z"
   },
   {
    "duration": -1042,
    "start_time": "2021-12-26T18:32:52.094Z"
   },
   {
    "duration": -1047,
    "start_time": "2021-12-26T18:32:52.100Z"
   },
   {
    "duration": -1050,
    "start_time": "2021-12-26T18:32:52.105Z"
   },
   {
    "duration": -1055,
    "start_time": "2021-12-26T18:32:52.111Z"
   },
   {
    "duration": -1058,
    "start_time": "2021-12-26T18:32:52.116Z"
   },
   {
    "duration": -1061,
    "start_time": "2021-12-26T18:32:52.121Z"
   },
   {
    "duration": -1068,
    "start_time": "2021-12-26T18:32:52.129Z"
   },
   {
    "duration": -1071,
    "start_time": "2021-12-26T18:32:52.134Z"
   },
   {
    "duration": -1075,
    "start_time": "2021-12-26T18:32:52.139Z"
   },
   {
    "duration": -1114,
    "start_time": "2021-12-26T18:32:52.242Z"
   },
   {
    "duration": -1118,
    "start_time": "2021-12-26T18:32:52.248Z"
   },
   {
    "duration": -1123,
    "start_time": "2021-12-26T18:32:52.254Z"
   },
   {
    "duration": -1171,
    "start_time": "2021-12-26T18:32:52.304Z"
   },
   {
    "duration": -1175,
    "start_time": "2021-12-26T18:32:52.310Z"
   },
   {
    "duration": -1179,
    "start_time": "2021-12-26T18:32:52.316Z"
   },
   {
    "duration": -1184,
    "start_time": "2021-12-26T18:32:52.322Z"
   },
   {
    "duration": -1188,
    "start_time": "2021-12-26T18:32:52.328Z"
   },
   {
    "duration": -1193,
    "start_time": "2021-12-26T18:32:52.334Z"
   },
   {
    "duration": -1198,
    "start_time": "2021-12-26T18:32:52.341Z"
   },
   {
    "duration": -1202,
    "start_time": "2021-12-26T18:32:52.347Z"
   },
   {
    "duration": -1207,
    "start_time": "2021-12-26T18:32:52.353Z"
   },
   {
    "duration": -1211,
    "start_time": "2021-12-26T18:32:52.359Z"
   },
   {
    "duration": -1221,
    "start_time": "2021-12-26T18:32:52.370Z"
   },
   {
    "duration": -1225,
    "start_time": "2021-12-26T18:32:52.376Z"
   },
   {
    "duration": -1234,
    "start_time": "2021-12-26T18:32:52.386Z"
   },
   {
    "duration": 112,
    "start_time": "2021-12-26T18:33:02.302Z"
   },
   {
    "duration": 173,
    "start_time": "2021-12-26T18:33:15.139Z"
   },
   {
    "duration": 104,
    "start_time": "2021-12-26T18:33:44.305Z"
   },
   {
    "duration": 105,
    "start_time": "2021-12-26T18:33:46.997Z"
   },
   {
    "duration": 909,
    "start_time": "2021-12-26T18:37:38.729Z"
   },
   {
    "duration": 116,
    "start_time": "2021-12-26T18:37:39.641Z"
   },
   {
    "duration": 120,
    "start_time": "2021-12-26T18:37:39.761Z"
   },
   {
    "duration": 9,
    "start_time": "2021-12-26T18:37:39.885Z"
   },
   {
    "duration": 30,
    "start_time": "2021-12-26T18:37:39.896Z"
   },
   {
    "duration": 16,
    "start_time": "2021-12-26T18:37:39.928Z"
   },
   {
    "duration": 14,
    "start_time": "2021-12-26T18:37:39.946Z"
   },
   {
    "duration": 7,
    "start_time": "2021-12-26T18:37:39.964Z"
   },
   {
    "duration": 92,
    "start_time": "2021-12-26T18:37:39.974Z"
   },
   {
    "duration": 15,
    "start_time": "2021-12-26T18:37:40.069Z"
   },
   {
    "duration": 7,
    "start_time": "2021-12-26T18:37:40.087Z"
   },
   {
    "duration": 11,
    "start_time": "2021-12-26T18:37:40.124Z"
   },
   {
    "duration": 368,
    "start_time": "2021-12-26T18:37:40.137Z"
   },
   {
    "duration": -766,
    "start_time": "2021-12-26T18:37:41.276Z"
   },
   {
    "duration": -770,
    "start_time": "2021-12-26T18:37:41.281Z"
   },
   {
    "duration": -775,
    "start_time": "2021-12-26T18:37:41.287Z"
   },
   {
    "duration": -778,
    "start_time": "2021-12-26T18:37:41.292Z"
   },
   {
    "duration": -784,
    "start_time": "2021-12-26T18:37:41.299Z"
   },
   {
    "duration": -788,
    "start_time": "2021-12-26T18:37:41.304Z"
   },
   {
    "duration": -791,
    "start_time": "2021-12-26T18:37:41.309Z"
   },
   {
    "duration": -795,
    "start_time": "2021-12-26T18:37:41.314Z"
   },
   {
    "duration": -799,
    "start_time": "2021-12-26T18:37:41.320Z"
   },
   {
    "duration": -802,
    "start_time": "2021-12-26T18:37:41.324Z"
   },
   {
    "duration": -805,
    "start_time": "2021-12-26T18:37:41.329Z"
   },
   {
    "duration": -809,
    "start_time": "2021-12-26T18:37:41.334Z"
   },
   {
    "duration": -814,
    "start_time": "2021-12-26T18:37:41.340Z"
   },
   {
    "duration": -817,
    "start_time": "2021-12-26T18:37:41.345Z"
   },
   {
    "duration": -822,
    "start_time": "2021-12-26T18:37:41.351Z"
   },
   {
    "duration": -839,
    "start_time": "2021-12-26T18:37:41.369Z"
   },
   {
    "duration": -842,
    "start_time": "2021-12-26T18:37:41.374Z"
   },
   {
    "duration": -846,
    "start_time": "2021-12-26T18:37:41.379Z"
   },
   {
    "duration": -852,
    "start_time": "2021-12-26T18:37:41.387Z"
   },
   {
    "duration": -856,
    "start_time": "2021-12-26T18:37:41.392Z"
   },
   {
    "duration": -860,
    "start_time": "2021-12-26T18:37:41.397Z"
   },
   {
    "duration": -863,
    "start_time": "2021-12-26T18:37:41.402Z"
   },
   {
    "duration": -868,
    "start_time": "2021-12-26T18:37:41.408Z"
   },
   {
    "duration": -872,
    "start_time": "2021-12-26T18:37:41.413Z"
   },
   {
    "duration": -877,
    "start_time": "2021-12-26T18:37:41.419Z"
   },
   {
    "duration": -880,
    "start_time": "2021-12-26T18:37:41.424Z"
   },
   {
    "duration": -885,
    "start_time": "2021-12-26T18:37:41.430Z"
   },
   {
    "duration": -889,
    "start_time": "2021-12-26T18:37:41.435Z"
   },
   {
    "duration": -893,
    "start_time": "2021-12-26T18:37:41.441Z"
   },
   {
    "duration": -897,
    "start_time": "2021-12-26T18:37:41.446Z"
   },
   {
    "duration": -901,
    "start_time": "2021-12-26T18:37:41.451Z"
   },
   {
    "duration": -904,
    "start_time": "2021-12-26T18:37:41.456Z"
   },
   {
    "duration": -909,
    "start_time": "2021-12-26T18:37:41.462Z"
   },
   {
    "duration": -923,
    "start_time": "2021-12-26T18:37:41.478Z"
   },
   {
    "duration": -928,
    "start_time": "2021-12-26T18:37:41.484Z"
   },
   {
    "duration": -933,
    "start_time": "2021-12-26T18:37:41.490Z"
   },
   {
    "duration": -936,
    "start_time": "2021-12-26T18:37:41.495Z"
   },
   {
    "duration": -940,
    "start_time": "2021-12-26T18:37:41.500Z"
   },
   {
    "duration": -944,
    "start_time": "2021-12-26T18:37:41.506Z"
   },
   {
    "duration": -948,
    "start_time": "2021-12-26T18:37:41.511Z"
   },
   {
    "duration": -952,
    "start_time": "2021-12-26T18:37:41.516Z"
   },
   {
    "duration": -955,
    "start_time": "2021-12-26T18:37:41.521Z"
   },
   {
    "duration": -904,
    "start_time": "2021-12-26T18:37:41.527Z"
   },
   {
    "duration": -913,
    "start_time": "2021-12-26T18:37:41.538Z"
   },
   {
    "duration": -917,
    "start_time": "2021-12-26T18:37:41.543Z"
   },
   {
    "duration": -920,
    "start_time": "2021-12-26T18:37:41.548Z"
   },
   {
    "duration": -928,
    "start_time": "2021-12-26T18:37:41.557Z"
   },
   {
    "duration": -932,
    "start_time": "2021-12-26T18:37:41.562Z"
   },
   {
    "duration": -938,
    "start_time": "2021-12-26T18:37:41.570Z"
   },
   {
    "duration": -942,
    "start_time": "2021-12-26T18:37:41.575Z"
   },
   {
    "duration": -959,
    "start_time": "2021-12-26T18:37:41.594Z"
   },
   {
    "duration": 26,
    "start_time": "2021-12-26T18:38:34.602Z"
   },
   {
    "duration": 13,
    "start_time": "2021-12-26T18:40:37.479Z"
   },
   {
    "duration": 35,
    "start_time": "2021-12-26T18:50:16.076Z"
   },
   {
    "duration": 134,
    "start_time": "2021-12-26T18:51:47.142Z"
   },
   {
    "duration": 365,
    "start_time": "2021-12-26T18:53:04.423Z"
   },
   {
    "duration": 8,
    "start_time": "2021-12-26T18:53:33.180Z"
   },
   {
    "duration": 18,
    "start_time": "2021-12-26T18:53:46.360Z"
   },
   {
    "duration": 18,
    "start_time": "2021-12-26T18:54:03.698Z"
   },
   {
    "duration": 9,
    "start_time": "2021-12-26T18:54:10.704Z"
   },
   {
    "duration": 18,
    "start_time": "2021-12-26T18:54:17.630Z"
   },
   {
    "duration": 892,
    "start_time": "2021-12-26T18:56:52.708Z"
   },
   {
    "duration": 116,
    "start_time": "2021-12-26T18:56:53.603Z"
   },
   {
    "duration": 106,
    "start_time": "2021-12-26T18:56:53.723Z"
   },
   {
    "duration": 8,
    "start_time": "2021-12-26T18:56:53.832Z"
   },
   {
    "duration": 16,
    "start_time": "2021-12-26T18:56:53.843Z"
   },
   {
    "duration": 18,
    "start_time": "2021-12-26T18:56:53.861Z"
   },
   {
    "duration": 12,
    "start_time": "2021-12-26T18:56:53.882Z"
   },
   {
    "duration": 5,
    "start_time": "2021-12-26T18:56:53.923Z"
   },
   {
    "duration": 57,
    "start_time": "2021-12-26T18:56:53.932Z"
   },
   {
    "duration": 39,
    "start_time": "2021-12-26T18:56:53.992Z"
   },
   {
    "duration": 6,
    "start_time": "2021-12-26T18:56:54.033Z"
   },
   {
    "duration": 11,
    "start_time": "2021-12-26T18:56:54.042Z"
   },
   {
    "duration": 27,
    "start_time": "2021-12-26T18:56:54.055Z"
   },
   {
    "duration": 64,
    "start_time": "2021-12-26T18:56:54.084Z"
   },
   {
    "duration": 8,
    "start_time": "2021-12-26T18:56:54.150Z"
   },
   {
    "duration": 17,
    "start_time": "2021-12-26T18:56:54.161Z"
   },
   {
    "duration": 749,
    "start_time": "2021-12-26T18:56:54.180Z"
   },
   {
    "duration": 13,
    "start_time": "2021-12-26T18:56:54.931Z"
   },
   {
    "duration": 47,
    "start_time": "2021-12-26T18:56:54.947Z"
   },
   {
    "duration": 37,
    "start_time": "2021-12-26T18:56:54.996Z"
   },
   {
    "duration": 302,
    "start_time": "2021-12-26T18:56:55.035Z"
   },
   {
    "duration": 354,
    "start_time": "2021-12-26T18:56:55.340Z"
   },
   {
    "duration": 385,
    "start_time": "2021-12-26T18:56:55.700Z"
   },
   {
    "duration": 14,
    "start_time": "2021-12-26T18:56:56.089Z"
   },
   {
    "duration": 318,
    "start_time": "2021-12-26T18:56:56.105Z"
   },
   {
    "duration": 333,
    "start_time": "2021-12-26T18:56:56.425Z"
   },
   {
    "duration": 21,
    "start_time": "2021-12-26T18:56:56.761Z"
   },
   {
    "duration": 315,
    "start_time": "2021-12-26T18:56:56.784Z"
   },
   {
    "duration": 327,
    "start_time": "2021-12-26T18:56:57.101Z"
   },
   {
    "duration": 12,
    "start_time": "2021-12-26T18:56:57.430Z"
   },
   {
    "duration": 290,
    "start_time": "2021-12-26T18:56:57.444Z"
   },
   {
    "duration": 310,
    "start_time": "2021-12-26T18:56:57.736Z"
   },
   {
    "duration": 23,
    "start_time": "2021-12-26T18:56:58.049Z"
   },
   {
    "duration": 377,
    "start_time": "2021-12-26T18:56:58.074Z"
   },
   {
    "duration": 22,
    "start_time": "2021-12-26T18:56:58.453Z"
   },
   {
    "duration": 686,
    "start_time": "2021-12-26T18:56:58.477Z"
   },
   {
    "duration": 7,
    "start_time": "2021-12-26T18:56:59.166Z"
   },
   {
    "duration": 658,
    "start_time": "2021-12-26T18:56:59.176Z"
   },
   {
    "duration": 1027,
    "start_time": "2021-12-26T18:56:59.836Z"
   },
   {
    "duration": -766,
    "start_time": "2021-12-26T18:57:01.632Z"
   },
   {
    "duration": -780,
    "start_time": "2021-12-26T18:57:01.647Z"
   },
   {
    "duration": -793,
    "start_time": "2021-12-26T18:57:01.662Z"
   },
   {
    "duration": -805,
    "start_time": "2021-12-26T18:57:01.675Z"
   },
   {
    "duration": -855,
    "start_time": "2021-12-26T18:57:01.726Z"
   },
   {
    "duration": -869,
    "start_time": "2021-12-26T18:57:01.742Z"
   },
   {
    "duration": -883,
    "start_time": "2021-12-26T18:57:01.757Z"
   },
   {
    "duration": -894,
    "start_time": "2021-12-26T18:57:01.770Z"
   },
   {
    "duration": -908,
    "start_time": "2021-12-26T18:57:01.785Z"
   },
   {
    "duration": -930,
    "start_time": "2021-12-26T18:57:01.809Z"
   },
   {
    "duration": -946,
    "start_time": "2021-12-26T18:57:01.826Z"
   },
   {
    "duration": -963,
    "start_time": "2021-12-26T18:57:01.844Z"
   },
   {
    "duration": -980,
    "start_time": "2021-12-26T18:57:01.863Z"
   },
   {
    "duration": -992,
    "start_time": "2021-12-26T18:57:01.876Z"
   },
   {
    "duration": -1006,
    "start_time": "2021-12-26T18:57:01.891Z"
   },
   {
    "duration": -1018,
    "start_time": "2021-12-26T18:57:01.904Z"
   },
   {
    "duration": -1031,
    "start_time": "2021-12-26T18:57:01.919Z"
   },
   {
    "duration": -1043,
    "start_time": "2021-12-26T18:57:01.932Z"
   },
   {
    "duration": -1056,
    "start_time": "2021-12-26T18:57:01.946Z"
   },
   {
    "duration": -1066,
    "start_time": "2021-12-26T18:57:01.958Z"
   },
   {
    "duration": -1080,
    "start_time": "2021-12-26T18:57:01.973Z"
   },
   {
    "duration": -1095,
    "start_time": "2021-12-26T18:57:01.989Z"
   },
   {
    "duration": -1108,
    "start_time": "2021-12-26T18:57:02.003Z"
   },
   {
    "duration": -1120,
    "start_time": "2021-12-26T18:57:02.016Z"
   },
   {
    "duration": -1130,
    "start_time": "2021-12-26T18:57:02.028Z"
   },
   {
    "duration": -1141,
    "start_time": "2021-12-26T18:57:02.040Z"
   },
   {
    "duration": 468,
    "start_time": "2021-12-26T19:08:08.278Z"
   },
   {
    "duration": 871,
    "start_time": "2021-12-26T19:08:35.272Z"
   },
   {
    "duration": 107,
    "start_time": "2021-12-26T19:08:36.146Z"
   },
   {
    "duration": 107,
    "start_time": "2021-12-26T19:08:36.256Z"
   },
   {
    "duration": 8,
    "start_time": "2021-12-26T19:08:36.366Z"
   },
   {
    "duration": 15,
    "start_time": "2021-12-26T19:08:36.376Z"
   },
   {
    "duration": 30,
    "start_time": "2021-12-26T19:08:36.393Z"
   },
   {
    "duration": 11,
    "start_time": "2021-12-26T19:08:36.426Z"
   },
   {
    "duration": 7,
    "start_time": "2021-12-26T19:08:36.441Z"
   },
   {
    "duration": 72,
    "start_time": "2021-12-26T19:08:36.451Z"
   },
   {
    "duration": 13,
    "start_time": "2021-12-26T19:08:36.526Z"
   },
   {
    "duration": 6,
    "start_time": "2021-12-26T19:08:36.541Z"
   },
   {
    "duration": 10,
    "start_time": "2021-12-26T19:08:36.549Z"
   },
   {
    "duration": 62,
    "start_time": "2021-12-26T19:08:36.561Z"
   },
   {
    "duration": 37,
    "start_time": "2021-12-26T19:08:36.626Z"
   },
   {
    "duration": 11,
    "start_time": "2021-12-26T19:08:36.665Z"
   },
   {
    "duration": 51,
    "start_time": "2021-12-26T19:08:36.678Z"
   },
   {
    "duration": 721,
    "start_time": "2021-12-26T19:08:36.732Z"
   },
   {
    "duration": 14,
    "start_time": "2021-12-26T19:08:37.456Z"
   },
   {
    "duration": 61,
    "start_time": "2021-12-26T19:08:37.472Z"
   },
   {
    "duration": 14,
    "start_time": "2021-12-26T19:08:37.536Z"
   },
   {
    "duration": 309,
    "start_time": "2021-12-26T19:08:37.553Z"
   },
   {
    "duration": 541,
    "start_time": "2021-12-26T19:08:37.864Z"
   },
   {
    "duration": 604,
    "start_time": "2021-12-26T19:08:38.423Z"
   },
   {
    "duration": 18,
    "start_time": "2021-12-26T19:08:39.032Z"
   },
   {
    "duration": 417,
    "start_time": "2021-12-26T19:08:39.053Z"
   },
   {
    "duration": 548,
    "start_time": "2021-12-26T19:08:39.473Z"
   },
   {
    "duration": 36,
    "start_time": "2021-12-26T19:08:40.024Z"
   },
   {
    "duration": 487,
    "start_time": "2021-12-26T19:08:40.064Z"
   },
   {
    "duration": 499,
    "start_time": "2021-12-26T19:08:40.554Z"
   },
   {
    "duration": 16,
    "start_time": "2021-12-26T19:08:41.056Z"
   },
   {
    "duration": 466,
    "start_time": "2021-12-26T19:08:41.075Z"
   },
   {
    "duration": 899,
    "start_time": "2021-12-26T19:08:41.544Z"
   },
   {
    "duration": 78,
    "start_time": "2021-12-26T19:08:42.446Z"
   },
   {
    "duration": 342,
    "start_time": "2021-12-26T19:08:42.527Z"
   },
   {
    "duration": 19,
    "start_time": "2021-12-26T19:08:42.872Z"
   },
   {
    "duration": 834,
    "start_time": "2021-12-26T19:08:42.893Z"
   },
   {
    "duration": 7,
    "start_time": "2021-12-26T19:08:43.729Z"
   },
   {
    "duration": 680,
    "start_time": "2021-12-26T19:08:43.738Z"
   },
   {
    "duration": 998,
    "start_time": "2021-12-26T19:08:44.424Z"
   },
   {
    "duration": -847,
    "start_time": "2021-12-26T19:08:46.273Z"
   },
   {
    "duration": -866,
    "start_time": "2021-12-26T19:08:46.294Z"
   },
   {
    "duration": -891,
    "start_time": "2021-12-26T19:08:46.321Z"
   },
   {
    "duration": -916,
    "start_time": "2021-12-26T19:08:46.348Z"
   },
   {
    "duration": -929,
    "start_time": "2021-12-26T19:08:46.363Z"
   },
   {
    "duration": -936,
    "start_time": "2021-12-26T19:08:46.372Z"
   },
   {
    "duration": -950,
    "start_time": "2021-12-26T19:08:46.388Z"
   },
   {
    "duration": -965,
    "start_time": "2021-12-26T19:08:46.405Z"
   },
   {
    "duration": -978,
    "start_time": "2021-12-26T19:08:46.420Z"
   },
   {
    "duration": -992,
    "start_time": "2021-12-26T19:08:46.436Z"
   },
   {
    "duration": -1003,
    "start_time": "2021-12-26T19:08:46.449Z"
   },
   {
    "duration": -1014,
    "start_time": "2021-12-26T19:08:46.462Z"
   },
   {
    "duration": -1018,
    "start_time": "2021-12-26T19:08:46.469Z"
   },
   {
    "duration": -1029,
    "start_time": "2021-12-26T19:08:46.482Z"
   },
   {
    "duration": -1033,
    "start_time": "2021-12-26T19:08:46.488Z"
   },
   {
    "duration": -1038,
    "start_time": "2021-12-26T19:08:46.495Z"
   },
   {
    "duration": -1045,
    "start_time": "2021-12-26T19:08:46.504Z"
   },
   {
    "duration": -1050,
    "start_time": "2021-12-26T19:08:46.511Z"
   },
   {
    "duration": -1053,
    "start_time": "2021-12-26T19:08:46.516Z"
   },
   {
    "duration": -1057,
    "start_time": "2021-12-26T19:08:46.523Z"
   },
   {
    "duration": -1006,
    "start_time": "2021-12-26T19:08:46.529Z"
   },
   {
    "duration": -1009,
    "start_time": "2021-12-26T19:08:46.535Z"
   },
   {
    "duration": -1013,
    "start_time": "2021-12-26T19:08:46.541Z"
   },
   {
    "duration": -1017,
    "start_time": "2021-12-26T19:08:46.547Z"
   },
   {
    "duration": -1020,
    "start_time": "2021-12-26T19:08:46.552Z"
   },
   {
    "duration": -1025,
    "start_time": "2021-12-26T19:08:46.559Z"
   },
   {
    "duration": 526,
    "start_time": "2021-12-26T19:09:02.640Z"
   },
   {
    "duration": 646,
    "start_time": "2021-12-26T19:10:07.687Z"
   },
   {
    "duration": 833,
    "start_time": "2021-12-26T19:10:20.860Z"
   },
   {
    "duration": 110,
    "start_time": "2021-12-26T19:10:21.696Z"
   },
   {
    "duration": 105,
    "start_time": "2021-12-26T19:10:21.809Z"
   },
   {
    "duration": 7,
    "start_time": "2021-12-26T19:10:21.924Z"
   },
   {
    "duration": 34,
    "start_time": "2021-12-26T19:10:21.933Z"
   },
   {
    "duration": 37,
    "start_time": "2021-12-26T19:10:21.969Z"
   },
   {
    "duration": 27,
    "start_time": "2021-12-26T19:10:22.009Z"
   },
   {
    "duration": 17,
    "start_time": "2021-12-26T19:10:22.040Z"
   },
   {
    "duration": 87,
    "start_time": "2021-12-26T19:10:22.060Z"
   },
   {
    "duration": 14,
    "start_time": "2021-12-26T19:10:22.149Z"
   },
   {
    "duration": 10,
    "start_time": "2021-12-26T19:10:22.165Z"
   },
   {
    "duration": 11,
    "start_time": "2021-12-26T19:10:22.178Z"
   },
   {
    "duration": 52,
    "start_time": "2021-12-26T19:10:22.191Z"
   },
   {
    "duration": 44,
    "start_time": "2021-12-26T19:10:22.245Z"
   },
   {
    "duration": 32,
    "start_time": "2021-12-26T19:10:22.291Z"
   },
   {
    "duration": 16,
    "start_time": "2021-12-26T19:10:22.325Z"
   },
   {
    "duration": 765,
    "start_time": "2021-12-26T19:10:22.343Z"
   },
   {
    "duration": 14,
    "start_time": "2021-12-26T19:10:23.111Z"
   },
   {
    "duration": 48,
    "start_time": "2021-12-26T19:10:23.128Z"
   },
   {
    "duration": 46,
    "start_time": "2021-12-26T19:10:23.179Z"
   },
   {
    "duration": 322,
    "start_time": "2021-12-26T19:10:23.228Z"
   },
   {
    "duration": 389,
    "start_time": "2021-12-26T19:10:23.552Z"
   },
   {
    "duration": 432,
    "start_time": "2021-12-26T19:10:23.947Z"
   },
   {
    "duration": 14,
    "start_time": "2021-12-26T19:10:24.383Z"
   },
   {
    "duration": 329,
    "start_time": "2021-12-26T19:10:24.400Z"
   },
   {
    "duration": 369,
    "start_time": "2021-12-26T19:10:24.732Z"
   },
   {
    "duration": 36,
    "start_time": "2021-12-26T19:10:25.103Z"
   },
   {
    "duration": 336,
    "start_time": "2021-12-26T19:10:25.142Z"
   },
   {
    "duration": 343,
    "start_time": "2021-12-26T19:10:25.480Z"
   },
   {
    "duration": 16,
    "start_time": "2021-12-26T19:10:25.826Z"
   },
   {
    "duration": 409,
    "start_time": "2021-12-26T19:10:25.845Z"
   },
   {
    "duration": 321,
    "start_time": "2021-12-26T19:10:26.256Z"
   },
   {
    "duration": 24,
    "start_time": "2021-12-26T19:10:26.580Z"
   },
   {
    "duration": 340,
    "start_time": "2021-12-26T19:10:26.606Z"
   },
   {
    "duration": 21,
    "start_time": "2021-12-26T19:10:26.949Z"
   },
   {
    "duration": 697,
    "start_time": "2021-12-26T19:10:26.972Z"
   },
   {
    "duration": 7,
    "start_time": "2021-12-26T19:10:27.671Z"
   },
   {
    "duration": 695,
    "start_time": "2021-12-26T19:10:27.680Z"
   },
   {
    "duration": 973,
    "start_time": "2021-12-26T19:10:28.378Z"
   },
   {
    "duration": -926,
    "start_time": "2021-12-26T19:10:30.279Z"
   },
   {
    "duration": -934,
    "start_time": "2021-12-26T19:10:30.289Z"
   },
   {
    "duration": -939,
    "start_time": "2021-12-26T19:10:30.296Z"
   },
   {
    "duration": -944,
    "start_time": "2021-12-26T19:10:30.302Z"
   },
   {
    "duration": -950,
    "start_time": "2021-12-26T19:10:30.309Z"
   },
   {
    "duration": -955,
    "start_time": "2021-12-26T19:10:30.316Z"
   },
   {
    "duration": -960,
    "start_time": "2021-12-26T19:10:30.322Z"
   },
   {
    "duration": -964,
    "start_time": "2021-12-26T19:10:30.328Z"
   },
   {
    "duration": -970,
    "start_time": "2021-12-26T19:10:30.335Z"
   },
   {
    "duration": -976,
    "start_time": "2021-12-26T19:10:30.342Z"
   },
   {
    "duration": -980,
    "start_time": "2021-12-26T19:10:30.348Z"
   },
   {
    "duration": -985,
    "start_time": "2021-12-26T19:10:30.354Z"
   },
   {
    "duration": -1000,
    "start_time": "2021-12-26T19:10:30.371Z"
   },
   {
    "duration": -1006,
    "start_time": "2021-12-26T19:10:30.378Z"
   },
   {
    "duration": -1010,
    "start_time": "2021-12-26T19:10:30.384Z"
   },
   {
    "duration": -1016,
    "start_time": "2021-12-26T19:10:30.391Z"
   },
   {
    "duration": -1021,
    "start_time": "2021-12-26T19:10:30.397Z"
   },
   {
    "duration": -1026,
    "start_time": "2021-12-26T19:10:30.403Z"
   },
   {
    "duration": -1032,
    "start_time": "2021-12-26T19:10:30.411Z"
   },
   {
    "duration": -1036,
    "start_time": "2021-12-26T19:10:30.416Z"
   },
   {
    "duration": -1041,
    "start_time": "2021-12-26T19:10:30.423Z"
   },
   {
    "duration": -1046,
    "start_time": "2021-12-26T19:10:30.429Z"
   },
   {
    "duration": -1050,
    "start_time": "2021-12-26T19:10:30.435Z"
   },
   {
    "duration": -1056,
    "start_time": "2021-12-26T19:10:30.442Z"
   },
   {
    "duration": -1025,
    "start_time": "2021-12-26T19:10:30.448Z"
   },
   {
    "duration": -1029,
    "start_time": "2021-12-26T19:10:30.454Z"
   },
   {
    "duration": 345,
    "start_time": "2021-12-26T19:12:46.521Z"
   },
   {
    "duration": 310,
    "start_time": "2021-12-26T19:12:55.724Z"
   },
   {
    "duration": 421,
    "start_time": "2021-12-26T19:13:02.388Z"
   },
   {
    "duration": 300,
    "start_time": "2021-12-26T19:13:19.380Z"
   },
   {
    "duration": 368,
    "start_time": "2021-12-26T19:13:32.416Z"
   },
   {
    "duration": 277,
    "start_time": "2021-12-26T19:13:47.386Z"
   },
   {
    "duration": 311,
    "start_time": "2021-12-26T19:16:45.593Z"
   },
   {
    "duration": 328,
    "start_time": "2021-12-26T19:17:43.419Z"
   },
   {
    "duration": 326,
    "start_time": "2021-12-26T19:18:07.023Z"
   },
   {
    "duration": 7245,
    "start_time": "2021-12-26T19:21:48.705Z"
   },
   {
    "duration": 689,
    "start_time": "2021-12-26T19:22:00.343Z"
   },
   {
    "duration": 1137,
    "start_time": "2021-12-26T19:23:29.959Z"
   },
   {
    "duration": 166,
    "start_time": "2021-12-26T19:23:31.100Z"
   },
   {
    "duration": 158,
    "start_time": "2021-12-26T19:23:31.269Z"
   },
   {
    "duration": 9,
    "start_time": "2021-12-26T19:23:31.431Z"
   },
   {
    "duration": 12,
    "start_time": "2021-12-26T19:23:31.443Z"
   },
   {
    "duration": 20,
    "start_time": "2021-12-26T19:23:31.457Z"
   },
   {
    "duration": 14,
    "start_time": "2021-12-26T19:23:31.480Z"
   },
   {
    "duration": 30,
    "start_time": "2021-12-26T19:23:31.498Z"
   },
   {
    "duration": 55,
    "start_time": "2021-12-26T19:23:31.531Z"
   },
   {
    "duration": 38,
    "start_time": "2021-12-26T19:23:31.589Z"
   },
   {
    "duration": 6,
    "start_time": "2021-12-26T19:23:31.629Z"
   },
   {
    "duration": 10,
    "start_time": "2021-12-26T19:23:31.637Z"
   },
   {
    "duration": 27,
    "start_time": "2021-12-26T19:23:31.650Z"
   },
   {
    "duration": 86,
    "start_time": "2021-12-26T19:23:31.679Z"
   },
   {
    "duration": 11,
    "start_time": "2021-12-26T19:23:31.768Z"
   },
   {
    "duration": 21,
    "start_time": "2021-12-26T19:23:31.782Z"
   },
   {
    "duration": 1228,
    "start_time": "2021-12-26T19:23:31.805Z"
   },
   {
    "duration": 14,
    "start_time": "2021-12-26T19:23:33.036Z"
   },
   {
    "duration": 83,
    "start_time": "2021-12-26T19:23:33.053Z"
   },
   {
    "duration": 14,
    "start_time": "2021-12-26T19:23:33.138Z"
   },
   {
    "duration": 322,
    "start_time": "2021-12-26T19:23:33.154Z"
   },
   {
    "duration": 390,
    "start_time": "2021-12-26T19:23:33.478Z"
   },
   {
    "duration": 606,
    "start_time": "2021-12-26T19:23:33.877Z"
   },
   {
    "duration": 16,
    "start_time": "2021-12-26T19:23:34.488Z"
   },
   {
    "duration": 462,
    "start_time": "2021-12-26T19:23:34.507Z"
   },
   {
    "duration": 388,
    "start_time": "2021-12-26T19:23:34.972Z"
   },
   {
    "duration": 24,
    "start_time": "2021-12-26T19:23:35.362Z"
   },
   {
    "duration": 353,
    "start_time": "2021-12-26T19:23:35.389Z"
   },
   {
    "duration": 327,
    "start_time": "2021-12-26T19:23:35.744Z"
   },
   {
    "duration": 12,
    "start_time": "2021-12-26T19:23:36.074Z"
   },
   {
    "duration": 306,
    "start_time": "2021-12-26T19:23:36.089Z"
   },
   {
    "duration": 326,
    "start_time": "2021-12-26T19:23:36.397Z"
   },
   {
    "duration": 24,
    "start_time": "2021-12-26T19:23:36.725Z"
   },
   {
    "duration": 343,
    "start_time": "2021-12-26T19:23:36.751Z"
   },
   {
    "duration": 380,
    "start_time": "2021-12-26T19:23:37.096Z"
   },
   {
    "duration": 21,
    "start_time": "2021-12-26T19:23:37.478Z"
   },
   {
    "duration": 726,
    "start_time": "2021-12-26T19:23:37.501Z"
   },
   {
    "duration": 7,
    "start_time": "2021-12-26T19:23:38.229Z"
   },
   {
    "duration": 1017,
    "start_time": "2021-12-26T19:23:38.239Z"
   },
   {
    "duration": 993,
    "start_time": "2021-12-26T19:23:39.258Z"
   },
   {
    "duration": -812,
    "start_time": "2021-12-26T19:23:41.066Z"
   },
   {
    "duration": -819,
    "start_time": "2021-12-26T19:23:41.075Z"
   },
   {
    "duration": -828,
    "start_time": "2021-12-26T19:23:41.085Z"
   },
   {
    "duration": -837,
    "start_time": "2021-12-26T19:23:41.096Z"
   },
   {
    "duration": -844,
    "start_time": "2021-12-26T19:23:41.105Z"
   },
   {
    "duration": -853,
    "start_time": "2021-12-26T19:23:41.115Z"
   },
   {
    "duration": -860,
    "start_time": "2021-12-26T19:23:41.124Z"
   },
   {
    "duration": -868,
    "start_time": "2021-12-26T19:23:41.134Z"
   },
   {
    "duration": -876,
    "start_time": "2021-12-26T19:23:41.144Z"
   },
   {
    "duration": -881,
    "start_time": "2021-12-26T19:23:41.151Z"
   },
   {
    "duration": -898,
    "start_time": "2021-12-26T19:23:41.169Z"
   },
   {
    "duration": -903,
    "start_time": "2021-12-26T19:23:41.176Z"
   },
   {
    "duration": -907,
    "start_time": "2021-12-26T19:23:41.183Z"
   },
   {
    "duration": -917,
    "start_time": "2021-12-26T19:23:41.194Z"
   },
   {
    "duration": -920,
    "start_time": "2021-12-26T19:23:41.200Z"
   },
   {
    "duration": -925,
    "start_time": "2021-12-26T19:23:41.207Z"
   },
   {
    "duration": -929,
    "start_time": "2021-12-26T19:23:41.213Z"
   },
   {
    "duration": -935,
    "start_time": "2021-12-26T19:23:41.221Z"
   },
   {
    "duration": -940,
    "start_time": "2021-12-26T19:23:41.227Z"
   },
   {
    "duration": -945,
    "start_time": "2021-12-26T19:23:41.234Z"
   },
   {
    "duration": -951,
    "start_time": "2021-12-26T19:23:41.241Z"
   },
   {
    "duration": -957,
    "start_time": "2021-12-26T19:23:41.248Z"
   },
   {
    "duration": -962,
    "start_time": "2021-12-26T19:23:41.254Z"
   },
   {
    "duration": -968,
    "start_time": "2021-12-26T19:23:41.261Z"
   },
   {
    "duration": -956,
    "start_time": "2021-12-26T19:23:41.279Z"
   },
   {
    "duration": -962,
    "start_time": "2021-12-26T19:23:41.287Z"
   },
   {
    "duration": 15,
    "start_time": "2021-12-26T19:25:44.118Z"
   },
   {
    "duration": 13,
    "start_time": "2021-12-26T19:28:05.954Z"
   },
   {
    "duration": 15,
    "start_time": "2021-12-26T19:28:21.938Z"
   },
   {
    "duration": 20,
    "start_time": "2021-12-26T19:29:07.655Z"
   },
   {
    "duration": 900,
    "start_time": "2021-12-26T19:29:26.798Z"
   },
   {
    "duration": 117,
    "start_time": "2021-12-26T19:29:27.701Z"
   },
   {
    "duration": 106,
    "start_time": "2021-12-26T19:29:27.824Z"
   },
   {
    "duration": 7,
    "start_time": "2021-12-26T19:29:27.933Z"
   },
   {
    "duration": 9,
    "start_time": "2021-12-26T19:29:27.943Z"
   },
   {
    "duration": 14,
    "start_time": "2021-12-26T19:29:27.954Z"
   },
   {
    "duration": 14,
    "start_time": "2021-12-26T19:29:27.970Z"
   },
   {
    "duration": 42,
    "start_time": "2021-12-26T19:29:27.986Z"
   },
   {
    "duration": 51,
    "start_time": "2021-12-26T19:29:28.032Z"
   },
   {
    "duration": 39,
    "start_time": "2021-12-26T19:29:28.085Z"
   },
   {
    "duration": 5,
    "start_time": "2021-12-26T19:29:28.127Z"
   },
   {
    "duration": 19,
    "start_time": "2021-12-26T19:29:28.134Z"
   },
   {
    "duration": 40,
    "start_time": "2021-12-26T19:29:28.156Z"
   },
   {
    "duration": 61,
    "start_time": "2021-12-26T19:29:28.199Z"
   },
   {
    "duration": 11,
    "start_time": "2021-12-26T19:29:28.263Z"
   },
   {
    "duration": 55,
    "start_time": "2021-12-26T19:29:28.277Z"
   },
   {
    "duration": 746,
    "start_time": "2021-12-26T19:29:28.335Z"
   },
   {
    "duration": 14,
    "start_time": "2021-12-26T19:29:29.083Z"
   },
   {
    "duration": 61,
    "start_time": "2021-12-26T19:29:29.099Z"
   },
   {
    "duration": 14,
    "start_time": "2021-12-26T19:29:29.162Z"
   },
   {
    "duration": 316,
    "start_time": "2021-12-26T19:29:29.179Z"
   },
   {
    "duration": 388,
    "start_time": "2021-12-26T19:29:29.498Z"
   },
   {
    "duration": 408,
    "start_time": "2021-12-26T19:29:29.888Z"
   },
   {
    "duration": 198,
    "start_time": "2021-12-26T19:29:30.299Z"
   },
   {
    "duration": 291,
    "start_time": "2021-12-26T19:29:30.499Z"
   },
   {
    "duration": 365,
    "start_time": "2021-12-26T19:29:30.793Z"
   },
   {
    "duration": 25,
    "start_time": "2021-12-26T19:29:31.165Z"
   },
   {
    "duration": 486,
    "start_time": "2021-12-26T19:29:31.193Z"
   },
   {
    "duration": 346,
    "start_time": "2021-12-26T19:29:31.681Z"
   },
   {
    "duration": 13,
    "start_time": "2021-12-26T19:29:32.029Z"
   },
   {
    "duration": 605,
    "start_time": "2021-12-26T19:29:32.046Z"
   },
   {
    "duration": 450,
    "start_time": "2021-12-26T19:29:32.653Z"
   },
   {
    "duration": 32,
    "start_time": "2021-12-26T19:29:33.106Z"
   },
   {
    "duration": 407,
    "start_time": "2021-12-26T19:29:33.141Z"
   },
   {
    "duration": 359,
    "start_time": "2021-12-26T19:29:33.551Z"
   },
   {
    "duration": 30,
    "start_time": "2021-12-26T19:29:33.913Z"
   },
   {
    "duration": 699,
    "start_time": "2021-12-26T19:29:33.946Z"
   },
   {
    "duration": 14,
    "start_time": "2021-12-26T19:29:34.648Z"
   },
   {
    "duration": 759,
    "start_time": "2021-12-26T19:29:34.664Z"
   },
   {
    "duration": 13,
    "start_time": "2021-12-26T19:29:35.426Z"
   },
   {
    "duration": 655,
    "start_time": "2021-12-26T19:29:35.442Z"
   },
   {
    "duration": 9,
    "start_time": "2021-12-26T19:29:36.101Z"
   },
   {
    "duration": 270,
    "start_time": "2021-12-26T19:29:36.123Z"
   },
   {
    "duration": 288,
    "start_time": "2021-12-26T19:29:36.395Z"
   },
   {
    "duration": 340,
    "start_time": "2021-12-26T19:29:36.686Z"
   },
   {
    "duration": 310,
    "start_time": "2021-12-26T19:29:37.029Z"
   },
   {
    "duration": 298,
    "start_time": "2021-12-26T19:29:37.342Z"
   },
   {
    "duration": 13,
    "start_time": "2021-12-26T19:29:37.642Z"
   },
   {
    "duration": 11,
    "start_time": "2021-12-26T19:29:37.658Z"
   },
   {
    "duration": 12,
    "start_time": "2021-12-26T19:29:37.671Z"
   },
   {
    "duration": 14,
    "start_time": "2021-12-26T19:29:37.685Z"
   },
   {
    "duration": 273,
    "start_time": "2021-12-26T19:29:37.702Z"
   },
   {
    "duration": 18,
    "start_time": "2021-12-26T19:29:37.977Z"
   },
   {
    "duration": 375,
    "start_time": "2021-12-26T19:29:37.997Z"
   },
   {
    "duration": 10,
    "start_time": "2021-12-26T19:29:38.375Z"
   },
   {
    "duration": 304,
    "start_time": "2021-12-26T19:29:38.387Z"
   },
   {
    "duration": 12,
    "start_time": "2021-12-26T19:29:38.694Z"
   },
   {
    "duration": 418,
    "start_time": "2021-12-26T19:29:38.708Z"
   },
   {
    "duration": 11,
    "start_time": "2021-12-26T19:29:39.128Z"
   },
   {
    "duration": 653,
    "start_time": "2021-12-26T19:29:39.142Z"
   },
   {
    "duration": 1663,
    "start_time": "2021-12-26T19:29:39.798Z"
   },
   {
    "duration": -753,
    "start_time": "2021-12-26T19:29:42.217Z"
   },
   {
    "duration": -766,
    "start_time": "2021-12-26T19:29:42.232Z"
   },
   {
    "duration": -779,
    "start_time": "2021-12-26T19:29:42.247Z"
   },
   {
    "duration": -790,
    "start_time": "2021-12-26T19:29:42.259Z"
   },
   {
    "duration": -801,
    "start_time": "2021-12-26T19:29:42.272Z"
   },
   {
    "duration": 903,
    "start_time": "2021-12-26T19:30:12.281Z"
   },
   {
    "duration": 133,
    "start_time": "2021-12-26T19:30:13.186Z"
   },
   {
    "duration": 115,
    "start_time": "2021-12-26T19:30:13.324Z"
   },
   {
    "duration": 7,
    "start_time": "2021-12-26T19:30:13.442Z"
   },
   {
    "duration": 13,
    "start_time": "2021-12-26T19:30:13.451Z"
   },
   {
    "duration": 17,
    "start_time": "2021-12-26T19:30:13.466Z"
   },
   {
    "duration": 37,
    "start_time": "2021-12-26T19:30:13.486Z"
   },
   {
    "duration": 5,
    "start_time": "2021-12-26T19:30:13.527Z"
   },
   {
    "duration": 51,
    "start_time": "2021-12-26T19:30:13.535Z"
   },
   {
    "duration": 13,
    "start_time": "2021-12-26T19:30:13.588Z"
   },
   {
    "duration": 6,
    "start_time": "2021-12-26T19:30:13.624Z"
   },
   {
    "duration": 14,
    "start_time": "2021-12-26T19:30:13.632Z"
   },
   {
    "duration": 27,
    "start_time": "2021-12-26T19:30:13.648Z"
   },
   {
    "duration": 65,
    "start_time": "2021-12-26T19:30:13.677Z"
   },
   {
    "duration": 9,
    "start_time": "2021-12-26T19:30:13.745Z"
   },
   {
    "duration": 18,
    "start_time": "2021-12-26T19:30:13.756Z"
   },
   {
    "duration": 746,
    "start_time": "2021-12-26T19:30:13.777Z"
   },
   {
    "duration": 14,
    "start_time": "2021-12-26T19:30:14.526Z"
   },
   {
    "duration": 47,
    "start_time": "2021-12-26T19:30:14.543Z"
   },
   {
    "duration": 38,
    "start_time": "2021-12-26T19:30:14.593Z"
   },
   {
    "duration": 315,
    "start_time": "2021-12-26T19:30:14.633Z"
   },
   {
    "duration": 400,
    "start_time": "2021-12-26T19:30:14.950Z"
   },
   {
    "duration": 414,
    "start_time": "2021-12-26T19:30:15.356Z"
   },
   {
    "duration": 205,
    "start_time": "2021-12-26T19:30:15.773Z"
   },
   {
    "duration": 307,
    "start_time": "2021-12-26T19:30:15.980Z"
   },
   {
    "duration": 373,
    "start_time": "2021-12-26T19:30:16.289Z"
   },
   {
    "duration": 22,
    "start_time": "2021-12-26T19:30:16.665Z"
   },
   {
    "duration": 392,
    "start_time": "2021-12-26T19:30:16.690Z"
   },
   {
    "duration": 357,
    "start_time": "2021-12-26T19:30:17.085Z"
   },
   {
    "duration": 17,
    "start_time": "2021-12-26T19:30:17.445Z"
   },
   {
    "duration": 340,
    "start_time": "2021-12-26T19:30:17.464Z"
   },
   {
    "duration": 392,
    "start_time": "2021-12-26T19:30:17.806Z"
   },
   {
    "duration": 34,
    "start_time": "2021-12-26T19:30:18.200Z"
   },
   {
    "duration": 370,
    "start_time": "2021-12-26T19:30:18.237Z"
   },
   {
    "duration": 370,
    "start_time": "2021-12-26T19:30:18.610Z"
   },
   {
    "duration": 21,
    "start_time": "2021-12-26T19:30:18.982Z"
   },
   {
    "duration": 1018,
    "start_time": "2021-12-26T19:30:19.005Z"
   },
   {
    "duration": 7,
    "start_time": "2021-12-26T19:30:20.025Z"
   },
   {
    "duration": 805,
    "start_time": "2021-12-26T19:30:20.034Z"
   },
   {
    "duration": 13,
    "start_time": "2021-12-26T19:30:20.841Z"
   },
   {
    "duration": 673,
    "start_time": "2021-12-26T19:30:20.856Z"
   },
   {
    "duration": 8,
    "start_time": "2021-12-26T19:30:21.532Z"
   },
   {
    "duration": 270,
    "start_time": "2021-12-26T19:30:21.542Z"
   },
   {
    "duration": 306,
    "start_time": "2021-12-26T19:30:21.814Z"
   },
   {
    "duration": 347,
    "start_time": "2021-12-26T19:30:22.123Z"
   },
   {
    "duration": 318,
    "start_time": "2021-12-26T19:30:22.474Z"
   },
   {
    "duration": 222,
    "start_time": "2021-12-26T19:30:22.795Z"
   },
   {
    "duration": 15,
    "start_time": "2021-12-26T19:30:23.024Z"
   },
   {
    "duration": 13,
    "start_time": "2021-12-26T19:30:23.042Z"
   },
   {
    "duration": 12,
    "start_time": "2021-12-26T19:30:23.058Z"
   },
   {
    "duration": 61,
    "start_time": "2021-12-26T19:30:23.072Z"
   },
   {
    "duration": 293,
    "start_time": "2021-12-26T19:30:23.135Z"
   },
   {
    "duration": 17,
    "start_time": "2021-12-26T19:30:23.431Z"
   },
   {
    "duration": 326,
    "start_time": "2021-12-26T19:30:23.450Z"
   },
   {
    "duration": 11,
    "start_time": "2021-12-26T19:30:23.778Z"
   },
   {
    "duration": 341,
    "start_time": "2021-12-26T19:30:23.791Z"
   },
   {
    "duration": 12,
    "start_time": "2021-12-26T19:30:24.134Z"
   },
   {
    "duration": 316,
    "start_time": "2021-12-26T19:30:24.149Z"
   },
   {
    "duration": 12,
    "start_time": "2021-12-26T19:30:24.467Z"
   },
   {
    "duration": 372,
    "start_time": "2021-12-26T19:30:24.481Z"
   },
   {
    "duration": 1856,
    "start_time": "2021-12-26T19:30:24.856Z"
   },
   {
    "duration": -756,
    "start_time": "2021-12-26T19:30:27.471Z"
   },
   {
    "duration": -760,
    "start_time": "2021-12-26T19:30:27.483Z"
   },
   {
    "duration": -772,
    "start_time": "2021-12-26T19:30:27.496Z"
   },
   {
    "duration": -782,
    "start_time": "2021-12-26T19:30:27.508Z"
   },
   {
    "duration": -792,
    "start_time": "2021-12-26T19:30:27.519Z"
   },
   {
    "duration": 15,
    "start_time": "2021-12-26T19:30:54.700Z"
   },
   {
    "duration": 853,
    "start_time": "2021-12-26T19:32:02.515Z"
   },
   {
    "duration": 15,
    "start_time": "2021-12-26T19:32:40.610Z"
   },
   {
    "duration": 869,
    "start_time": "2021-12-26T19:33:27.772Z"
   },
   {
    "duration": 878,
    "start_time": "2021-12-26T19:34:43.296Z"
   },
   {
    "duration": 9,
    "start_time": "2021-12-26T19:35:41.556Z"
   },
   {
    "duration": 283,
    "start_time": "2021-12-26T19:39:26.696Z"
   },
   {
    "duration": 558,
    "start_time": "2021-12-26T19:43:57.103Z"
   },
   {
    "duration": 281,
    "start_time": "2021-12-26T19:44:56.029Z"
   },
   {
    "duration": 285,
    "start_time": "2021-12-26T19:45:16.885Z"
   },
   {
    "duration": 338,
    "start_time": "2021-12-26T19:46:28.168Z"
   },
   {
    "duration": 304,
    "start_time": "2021-12-26T19:49:05.467Z"
   },
   {
    "duration": 339,
    "start_time": "2021-12-26T19:49:50.496Z"
   },
   {
    "duration": 325,
    "start_time": "2021-12-26T19:50:14.310Z"
   },
   {
    "duration": 307,
    "start_time": "2021-12-26T19:50:22.036Z"
   },
   {
    "duration": 454,
    "start_time": "2021-12-26T19:53:21.619Z"
   },
   {
    "duration": 467,
    "start_time": "2021-12-26T19:54:25.356Z"
   },
   {
    "duration": 886,
    "start_time": "2021-12-26T19:54:40.518Z"
   },
   {
    "duration": 118,
    "start_time": "2021-12-26T19:54:41.407Z"
   },
   {
    "duration": 101,
    "start_time": "2021-12-26T19:54:41.528Z"
   },
   {
    "duration": 8,
    "start_time": "2021-12-26T19:54:41.632Z"
   },
   {
    "duration": 11,
    "start_time": "2021-12-26T19:54:41.643Z"
   },
   {
    "duration": 16,
    "start_time": "2021-12-26T19:54:41.656Z"
   },
   {
    "duration": 54,
    "start_time": "2021-12-26T19:54:41.675Z"
   },
   {
    "duration": 6,
    "start_time": "2021-12-26T19:54:41.732Z"
   },
   {
    "duration": 49,
    "start_time": "2021-12-26T19:54:41.744Z"
   },
   {
    "duration": 15,
    "start_time": "2021-12-26T19:54:41.825Z"
   },
   {
    "duration": 7,
    "start_time": "2021-12-26T19:54:41.842Z"
   },
   {
    "duration": 12,
    "start_time": "2021-12-26T19:54:41.851Z"
   },
   {
    "duration": 62,
    "start_time": "2021-12-26T19:54:41.866Z"
   },
   {
    "duration": 36,
    "start_time": "2021-12-26T19:54:41.931Z"
   },
   {
    "duration": 8,
    "start_time": "2021-12-26T19:54:41.969Z"
   },
   {
    "duration": 44,
    "start_time": "2021-12-26T19:54:41.980Z"
   },
   {
    "duration": 717,
    "start_time": "2021-12-26T19:54:42.026Z"
   },
   {
    "duration": 13,
    "start_time": "2021-12-26T19:54:42.745Z"
   },
   {
    "duration": 48,
    "start_time": "2021-12-26T19:54:42.760Z"
   },
   {
    "duration": 24,
    "start_time": "2021-12-26T19:54:42.810Z"
   },
   {
    "duration": 302,
    "start_time": "2021-12-26T19:54:42.836Z"
   },
   {
    "duration": 423,
    "start_time": "2021-12-26T19:54:43.141Z"
   },
   {
    "duration": 397,
    "start_time": "2021-12-26T19:54:43.567Z"
   },
   {
    "duration": 13,
    "start_time": "2021-12-26T19:54:43.967Z"
   },
   {
    "duration": 303,
    "start_time": "2021-12-26T19:54:43.983Z"
   },
   {
    "duration": 352,
    "start_time": "2021-12-26T19:54:44.289Z"
   },
   {
    "duration": 23,
    "start_time": "2021-12-26T19:54:44.646Z"
   },
   {
    "duration": 364,
    "start_time": "2021-12-26T19:54:44.672Z"
   },
   {
    "duration": 321,
    "start_time": "2021-12-26T19:54:45.039Z"
   },
   {
    "duration": 13,
    "start_time": "2021-12-26T19:54:45.363Z"
   },
   {
    "duration": 305,
    "start_time": "2021-12-26T19:54:45.378Z"
   },
   {
    "duration": 321,
    "start_time": "2021-12-26T19:54:45.686Z"
   },
   {
    "duration": 35,
    "start_time": "2021-12-26T19:54:46.009Z"
   },
   {
    "duration": 344,
    "start_time": "2021-12-26T19:54:46.046Z"
   },
   {
    "duration": 346,
    "start_time": "2021-12-26T19:54:46.392Z"
   },
   {
    "duration": 22,
    "start_time": "2021-12-26T19:54:46.740Z"
   },
   {
    "duration": 652,
    "start_time": "2021-12-26T19:54:46.764Z"
   },
   {
    "duration": 9,
    "start_time": "2021-12-26T19:54:47.418Z"
   },
   {
    "duration": 729,
    "start_time": "2021-12-26T19:54:47.429Z"
   },
   {
    "duration": 9,
    "start_time": "2021-12-26T19:54:48.160Z"
   },
   {
    "duration": 690,
    "start_time": "2021-12-26T19:54:48.172Z"
   },
   {
    "duration": 8,
    "start_time": "2021-12-26T19:54:48.864Z"
   },
   {
    "duration": 277,
    "start_time": "2021-12-26T19:54:48.874Z"
   },
   {
    "duration": 285,
    "start_time": "2021-12-26T19:54:49.153Z"
   },
   {
    "duration": 322,
    "start_time": "2021-12-26T19:54:49.441Z"
   },
   {
    "duration": 295,
    "start_time": "2021-12-26T19:54:49.765Z"
   },
   {
    "duration": 206,
    "start_time": "2021-12-26T19:54:50.063Z"
   },
   {
    "duration": 13,
    "start_time": "2021-12-26T19:54:50.272Z"
   },
   {
    "duration": 17,
    "start_time": "2021-12-26T19:54:50.288Z"
   },
   {
    "duration": 24,
    "start_time": "2021-12-26T19:54:50.324Z"
   },
   {
    "duration": 24,
    "start_time": "2021-12-26T19:54:50.351Z"
   },
   {
    "duration": 299,
    "start_time": "2021-12-26T19:54:50.378Z"
   },
   {
    "duration": 18,
    "start_time": "2021-12-26T19:54:50.680Z"
   },
   {
    "duration": 341,
    "start_time": "2021-12-26T19:54:50.700Z"
   },
   {
    "duration": 12,
    "start_time": "2021-12-26T19:54:51.044Z"
   },
   {
    "duration": 352,
    "start_time": "2021-12-26T19:54:51.059Z"
   },
   {
    "duration": 20,
    "start_time": "2021-12-26T19:54:51.415Z"
   },
   {
    "duration": 305,
    "start_time": "2021-12-26T19:54:51.437Z"
   },
   {
    "duration": 11,
    "start_time": "2021-12-26T19:54:51.745Z"
   },
   {
    "duration": 340,
    "start_time": "2021-12-26T19:54:51.759Z"
   },
   {
    "duration": 571,
    "start_time": "2021-12-26T19:54:52.102Z"
   },
   {
    "duration": 255,
    "start_time": "2021-12-26T19:54:52.676Z"
   },
   {
    "duration": 429,
    "start_time": "2021-12-26T19:54:52.933Z"
   },
   {
    "duration": 283,
    "start_time": "2021-12-26T19:54:53.364Z"
   },
   {
    "duration": 339,
    "start_time": "2021-12-26T19:54:53.649Z"
   },
   {
    "duration": 282,
    "start_time": "2021-12-26T19:54:53.990Z"
   },
   {
    "duration": 464,
    "start_time": "2021-12-26T19:57:58.760Z"
   },
   {
    "duration": 876,
    "start_time": "2021-12-26T20:00:19.937Z"
   },
   {
    "duration": 118,
    "start_time": "2021-12-26T20:00:20.816Z"
   },
   {
    "duration": 112,
    "start_time": "2021-12-26T20:00:20.937Z"
   },
   {
    "duration": 8,
    "start_time": "2021-12-26T20:00:21.052Z"
   },
   {
    "duration": 14,
    "start_time": "2021-12-26T20:00:21.062Z"
   },
   {
    "duration": 22,
    "start_time": "2021-12-26T20:00:21.079Z"
   },
   {
    "duration": 28,
    "start_time": "2021-12-26T20:00:21.104Z"
   },
   {
    "duration": 5,
    "start_time": "2021-12-26T20:00:21.136Z"
   },
   {
    "duration": 65,
    "start_time": "2021-12-26T20:00:21.144Z"
   },
   {
    "duration": 13,
    "start_time": "2021-12-26T20:00:21.223Z"
   },
   {
    "duration": 19,
    "start_time": "2021-12-26T20:00:21.238Z"
   },
   {
    "duration": 13,
    "start_time": "2021-12-26T20:00:21.260Z"
   },
   {
    "duration": 31,
    "start_time": "2021-12-26T20:00:21.275Z"
   },
   {
    "duration": 1286,
    "start_time": "2021-12-26T20:00:21.308Z"
   },
   {
    "duration": -798,
    "start_time": "2021-12-26T20:00:23.397Z"
   },
   {
    "duration": -802,
    "start_time": "2021-12-26T20:00:23.403Z"
   },
   {
    "duration": -808,
    "start_time": "2021-12-26T20:00:23.410Z"
   },
   {
    "duration": -814,
    "start_time": "2021-12-26T20:00:23.417Z"
   },
   {
    "duration": -828,
    "start_time": "2021-12-26T20:00:23.433Z"
   },
   {
    "duration": -835,
    "start_time": "2021-12-26T20:00:23.441Z"
   },
   {
    "duration": -838,
    "start_time": "2021-12-26T20:00:23.446Z"
   },
   {
    "duration": -843,
    "start_time": "2021-12-26T20:00:23.452Z"
   },
   {
    "duration": -847,
    "start_time": "2021-12-26T20:00:23.458Z"
   },
   {
    "duration": -852,
    "start_time": "2021-12-26T20:00:23.464Z"
   },
   {
    "duration": -856,
    "start_time": "2021-12-26T20:00:23.469Z"
   },
   {
    "duration": -860,
    "start_time": "2021-12-26T20:00:23.475Z"
   },
   {
    "duration": -865,
    "start_time": "2021-12-26T20:00:23.481Z"
   },
   {
    "duration": -868,
    "start_time": "2021-12-26T20:00:23.486Z"
   },
   {
    "duration": -873,
    "start_time": "2021-12-26T20:00:23.492Z"
   },
   {
    "duration": -877,
    "start_time": "2021-12-26T20:00:23.498Z"
   },
   {
    "duration": -881,
    "start_time": "2021-12-26T20:00:23.503Z"
   },
   {
    "duration": -885,
    "start_time": "2021-12-26T20:00:23.509Z"
   },
   {
    "duration": -889,
    "start_time": "2021-12-26T20:00:23.514Z"
   },
   {
    "duration": -894,
    "start_time": "2021-12-26T20:00:23.520Z"
   },
   {
    "duration": -898,
    "start_time": "2021-12-26T20:00:23.526Z"
   },
   {
    "duration": -915,
    "start_time": "2021-12-26T20:00:23.544Z"
   },
   {
    "duration": -919,
    "start_time": "2021-12-26T20:00:23.550Z"
   },
   {
    "duration": -926,
    "start_time": "2021-12-26T20:00:23.558Z"
   },
   {
    "duration": -931,
    "start_time": "2021-12-26T20:00:23.565Z"
   },
   {
    "duration": -937,
    "start_time": "2021-12-26T20:00:23.572Z"
   },
   {
    "duration": -942,
    "start_time": "2021-12-26T20:00:23.578Z"
   },
   {
    "duration": -947,
    "start_time": "2021-12-26T20:00:23.585Z"
   },
   {
    "duration": -952,
    "start_time": "2021-12-26T20:00:23.591Z"
   },
   {
    "duration": -958,
    "start_time": "2021-12-26T20:00:23.598Z"
   },
   {
    "duration": -963,
    "start_time": "2021-12-26T20:00:23.605Z"
   },
   {
    "duration": -969,
    "start_time": "2021-12-26T20:00:23.612Z"
   },
   {
    "duration": -974,
    "start_time": "2021-12-26T20:00:23.618Z"
   },
   {
    "duration": -979,
    "start_time": "2021-12-26T20:00:23.625Z"
   },
   {
    "duration": -984,
    "start_time": "2021-12-26T20:00:23.631Z"
   },
   {
    "duration": -989,
    "start_time": "2021-12-26T20:00:23.638Z"
   },
   {
    "duration": -1008,
    "start_time": "2021-12-26T20:00:23.658Z"
   },
   {
    "duration": -1014,
    "start_time": "2021-12-26T20:00:23.665Z"
   },
   {
    "duration": -1020,
    "start_time": "2021-12-26T20:00:23.672Z"
   },
   {
    "duration": -1025,
    "start_time": "2021-12-26T20:00:23.679Z"
   },
   {
    "duration": -1028,
    "start_time": "2021-12-26T20:00:23.684Z"
   },
   {
    "duration": -1034,
    "start_time": "2021-12-26T20:00:23.691Z"
   },
   {
    "duration": -1038,
    "start_time": "2021-12-26T20:00:23.697Z"
   },
   {
    "duration": -1042,
    "start_time": "2021-12-26T20:00:23.704Z"
   },
   {
    "duration": -1045,
    "start_time": "2021-12-26T20:00:23.709Z"
   },
   {
    "duration": -1050,
    "start_time": "2021-12-26T20:00:23.716Z"
   },
   {
    "duration": -998,
    "start_time": "2021-12-26T20:00:23.722Z"
   },
   {
    "duration": -1003,
    "start_time": "2021-12-26T20:00:23.729Z"
   },
   {
    "duration": -1006,
    "start_time": "2021-12-26T20:00:23.734Z"
   },
   {
    "duration": -1009,
    "start_time": "2021-12-26T20:00:23.740Z"
   },
   {
    "duration": -1013,
    "start_time": "2021-12-26T20:00:23.746Z"
   },
   {
    "duration": -1016,
    "start_time": "2021-12-26T20:00:23.751Z"
   },
   {
    "duration": 36,
    "start_time": "2021-12-26T20:01:17.434Z"
   },
   {
    "duration": 481,
    "start_time": "2021-12-26T20:01:30.408Z"
   },
   {
    "duration": 32,
    "start_time": "2021-12-26T20:01:38.762Z"
   },
   {
    "duration": 1158,
    "start_time": "2021-12-26T20:01:58.342Z"
   },
   {
    "duration": 2206,
    "start_time": "2021-12-26T20:02:13.431Z"
   },
   {
    "duration": 35,
    "start_time": "2021-12-26T20:02:22.365Z"
   },
   {
    "duration": 815,
    "start_time": "2021-12-26T20:02:54.267Z"
   },
   {
    "duration": 119,
    "start_time": "2021-12-26T20:02:55.085Z"
   },
   {
    "duration": 109,
    "start_time": "2021-12-26T20:02:55.207Z"
   },
   {
    "duration": 7,
    "start_time": "2021-12-26T20:02:55.323Z"
   },
   {
    "duration": 10,
    "start_time": "2021-12-26T20:02:55.332Z"
   },
   {
    "duration": 14,
    "start_time": "2021-12-26T20:02:55.344Z"
   },
   {
    "duration": 11,
    "start_time": "2021-12-26T20:02:55.360Z"
   },
   {
    "duration": 5,
    "start_time": "2021-12-26T20:02:55.375Z"
   },
   {
    "duration": 82,
    "start_time": "2021-12-26T20:02:55.383Z"
   },
   {
    "duration": 13,
    "start_time": "2021-12-26T20:02:55.467Z"
   },
   {
    "duration": 7,
    "start_time": "2021-12-26T20:02:55.482Z"
   },
   {
    "duration": 37,
    "start_time": "2021-12-26T20:02:55.492Z"
   },
   {
    "duration": 26,
    "start_time": "2021-12-26T20:02:55.531Z"
   },
   {
    "duration": 42,
    "start_time": "2021-12-26T20:02:55.559Z"
   },
   {
    "duration": 24,
    "start_time": "2021-12-26T20:02:55.604Z"
   },
   {
    "duration": 16,
    "start_time": "2021-12-26T20:02:55.630Z"
   },
   {
    "duration": 714,
    "start_time": "2021-12-26T20:02:55.648Z"
   },
   {
    "duration": 12,
    "start_time": "2021-12-26T20:02:56.364Z"
   },
   {
    "duration": 60,
    "start_time": "2021-12-26T20:02:56.379Z"
   },
   {
    "duration": 13,
    "start_time": "2021-12-26T20:02:56.441Z"
   },
   {
    "duration": 305,
    "start_time": "2021-12-26T20:02:56.456Z"
   },
   {
    "duration": 377,
    "start_time": "2021-12-26T20:02:56.763Z"
   },
   {
    "duration": 392,
    "start_time": "2021-12-26T20:02:57.146Z"
   },
   {
    "duration": 14,
    "start_time": "2021-12-26T20:02:57.542Z"
   },
   {
    "duration": 292,
    "start_time": "2021-12-26T20:02:57.558Z"
   },
   {
    "duration": 371,
    "start_time": "2021-12-26T20:02:57.853Z"
   },
   {
    "duration": 13,
    "start_time": "2021-12-26T20:02:58.227Z"
   },
   {
    "duration": 357,
    "start_time": "2021-12-26T20:02:58.243Z"
   },
   {
    "duration": 313,
    "start_time": "2021-12-26T20:02:58.603Z"
   },
   {
    "duration": 15,
    "start_time": "2021-12-26T20:02:58.918Z"
   },
   {
    "duration": 302,
    "start_time": "2021-12-26T20:02:58.936Z"
   },
   {
    "duration": 327,
    "start_time": "2021-12-26T20:02:59.240Z"
   },
   {
    "duration": 23,
    "start_time": "2021-12-26T20:02:59.570Z"
   },
   {
    "duration": 362,
    "start_time": "2021-12-26T20:02:59.596Z"
   },
   {
    "duration": 352,
    "start_time": "2021-12-26T20:02:59.960Z"
   },
   {
    "duration": 24,
    "start_time": "2021-12-26T20:03:00.314Z"
   },
   {
    "duration": 686,
    "start_time": "2021-12-26T20:03:00.340Z"
   },
   {
    "duration": 7,
    "start_time": "2021-12-26T20:03:01.028Z"
   },
   {
    "duration": 771,
    "start_time": "2021-12-26T20:03:01.037Z"
   },
   {
    "duration": 14,
    "start_time": "2021-12-26T20:03:01.810Z"
   },
   {
    "duration": 672,
    "start_time": "2021-12-26T20:03:01.827Z"
   },
   {
    "duration": 9,
    "start_time": "2021-12-26T20:03:02.502Z"
   },
   {
    "duration": 265,
    "start_time": "2021-12-26T20:03:02.524Z"
   },
   {
    "duration": 287,
    "start_time": "2021-12-26T20:03:02.792Z"
   },
   {
    "duration": 320,
    "start_time": "2021-12-26T20:03:03.082Z"
   },
   {
    "duration": 296,
    "start_time": "2021-12-26T20:03:03.405Z"
   },
   {
    "duration": 208,
    "start_time": "2021-12-26T20:03:03.704Z"
   },
   {
    "duration": 16,
    "start_time": "2021-12-26T20:03:03.914Z"
   },
   {
    "duration": 30,
    "start_time": "2021-12-26T20:03:03.932Z"
   },
   {
    "duration": 22,
    "start_time": "2021-12-26T20:03:03.964Z"
   },
   {
    "duration": 18,
    "start_time": "2021-12-26T20:03:03.988Z"
   },
   {
    "duration": 277,
    "start_time": "2021-12-26T20:03:04.009Z"
   },
   {
    "duration": 16,
    "start_time": "2021-12-26T20:03:04.288Z"
   },
   {
    "duration": 325,
    "start_time": "2021-12-26T20:03:04.323Z"
   },
   {
    "duration": 10,
    "start_time": "2021-12-26T20:03:04.651Z"
   },
   {
    "duration": 330,
    "start_time": "2021-12-26T20:03:04.663Z"
   },
   {
    "duration": 28,
    "start_time": "2021-12-26T20:03:04.995Z"
   },
   {
    "duration": 318,
    "start_time": "2021-12-26T20:03:05.026Z"
   },
   {
    "duration": 13,
    "start_time": "2021-12-26T20:03:05.348Z"
   },
   {
    "duration": 334,
    "start_time": "2021-12-26T20:03:05.363Z"
   },
   {
    "duration": 538,
    "start_time": "2021-12-26T20:03:05.700Z"
   },
   {
    "duration": 267,
    "start_time": "2021-12-26T20:03:06.242Z"
   },
   {
    "duration": 465,
    "start_time": "2021-12-26T20:03:06.511Z"
   },
   {
    "duration": 287,
    "start_time": "2021-12-26T20:03:06.979Z"
   },
   {
    "duration": 320,
    "start_time": "2021-12-26T20:03:07.268Z"
   },
   {
    "duration": 292,
    "start_time": "2021-12-26T20:03:07.590Z"
   }
  ],
  "kernelspec": {
   "display_name": "Python 3 (ipykernel)",
   "language": "python",
   "name": "python3"
  },
  "language_info": {
   "codemirror_mode": {
    "name": "ipython",
    "version": 3
   },
   "file_extension": ".py",
   "mimetype": "text/x-python",
   "name": "python",
   "nbconvert_exporter": "python",
   "pygments_lexer": "ipython3",
   "version": "3.9.7"
  },
  "toc": {
   "base_numbering": 1,
   "nav_menu": {},
   "number_sections": true,
   "sideBar": true,
   "skip_h1_title": true,
   "title_cell": "Содержание",
   "title_sidebar": "Contents",
   "toc_cell": true,
   "toc_position": {
    "height": "calc(100% - 180px)",
    "left": "10px",
    "top": "150px",
    "width": "289.6px"
   },
   "toc_section_display": true,
   "toc_window_display": true
  }
 },
 "nbformat": 4,
 "nbformat_minor": 2
}
