{
 "cells": [
  {
   "cell_type": "markdown",
   "metadata": {},
   "source": [
    "# Исследование тарифных планов оператора \"Мегалайн\"\n",
    "\n",
    "Вы аналитик компании «Мегалайн» — федерального оператора сотовой связи. Клиентам предлагают два тарифных плана: «Смарт» и «Ультра». Чтобы скорректировать рекламный бюджет, коммерческий департамент хочет понять, какой тариф приносит больше денег.\n",
    "\n",
    "Вам предстоит сделать предварительный анализ тарифов на небольшой выборке клиентов. В вашем распоряжении данные 500 пользователей «Мегалайна»: кто они, откуда, каким тарифом пользуются, сколько звонков и сообщений каждый отправил за 2018 год. Нужно проанализировать поведение клиентов и сделать вывод — какой тариф лучше."
   ]
  },
  {
   "cell_type": "markdown",
   "metadata": {},
   "source": [
    "Описание данных:<br>\n",
    "\n",
    "Таблица users (информация о пользователях):<br>\n",
    "* user_id — уникальный идентификатор пользователя <br>\n",
    "* first_name — имя пользователя <br>\n",
    "* last_name — фамилия пользователя<br>\n",
    "* age — возраст пользователя (годы)<br>\n",
    "* reg_date — дата подключения тарифа (день, месяц, год)<br>\n",
    "* churn_date — дата прекращения пользования тарифом (если значение пропущено, то тариф ещё действовал на момент выгрузки данных)<br>\n",
    "* city — город проживания пользователя<br>\n",
    "* tarif — название тарифного плана<br>\n",
    "\n",
    "Таблица calls (информация о звонках):<br>\n",
    "* id — уникальный номер звонка<br>\n",
    "* call_date — дата звонка<br>\n",
    "* duration — длительность звонка в минутах<br>\n",
    "* user_id — идентификатор пользователя, сделавшего звонок<br>\n",
    "\n",
    "Таблица messages (информация о сообщениях):<br>\n",
    "* id — уникальный номер сообщения<br>\n",
    "message_date — дата сообщения<br>\n",
    "* user_id — идентификатор пользователя, отправившего сообщение<br>\n",
    "\n",
    "Таблица internet (информация об интернет-сессиях):<br>\n",
    "* id — уникальный номер сессии<br>\n",
    "* mb_used — объём потраченного за сессию интернет-трафика (в мегабайтах)<br>\n",
    "* session_date — дата интернет-сессии<br>\n",
    "* user_id — идентификатор пользователя<br>\n",
    "\n",
    "Таблица tariffs (информация о тарифах):<br>\n",
    "* tariff_name — название тарифа<br>\n",
    "* rub_monthly_fee — ежемесячная абонентская плата в рублях<br>\n",
    "* minutes_included — количество минут разговора в месяц, включённых в абонентскую плату<br>\n",
    "* messages_included — количество сообщений в месяц, включённых в абонентскую плату<br>\n",
    "* mb_per_month_included — объём интернет-трафика, включённого в абонентскую плату (в мегабайтах)<br>\n",
    "* rub_per_minute — стоимость минуты разговора сверх тарифного пакета (например, если в тарифе 100 минут разговора в месяц, то со 101 минуты будет взиматься плата)<br>\n",
    "* rub_per_message — стоимость отправки сообщения сверх тарифного пакета<br>\n",
    "* rub_per_gb — стоимость дополнительного гигабайта интернет-трафика сверх тарифного пакета (1 гигабайт = 1024 мегабайта)<br>"
   ]
  },
  {
   "cell_type": "markdown",
   "metadata": {},
   "source": [
    "## Изучение данных из файла"
   ]
  },
  {
   "cell_type": "code",
   "execution_count": 1,
   "metadata": {},
   "outputs": [],
   "source": [
    "import pandas as pd\n",
    "import matplotlib.pyplot as plt\n",
    "import numpy as np\n",
    "from scipy import stats as st"
   ]
  },
  {
   "cell_type": "markdown",
   "metadata": {},
   "source": [
    "Изучим первую таблицу - информацию о пользователях"
   ]
  },
  {
   "cell_type": "code",
   "execution_count": 2,
   "metadata": {
    "scrolled": false
   },
   "outputs": [
    {
     "name": "stdout",
     "output_type": "stream",
     "text": [
      "<class 'pandas.core.frame.DataFrame'>\n",
      "RangeIndex: 500 entries, 0 to 499\n",
      "Data columns (total 8 columns):\n",
      " #   Column      Non-Null Count  Dtype \n",
      "---  ------      --------------  ----- \n",
      " 0   user_id     500 non-null    int64 \n",
      " 1   age         500 non-null    int64 \n",
      " 2   churn_date  38 non-null     object\n",
      " 3   city        500 non-null    object\n",
      " 4   first_name  500 non-null    object\n",
      " 5   last_name   500 non-null    object\n",
      " 6   reg_date    500 non-null    object\n",
      " 7   tariff      500 non-null    object\n",
      "dtypes: int64(2), object(6)\n",
      "memory usage: 31.4+ KB\n"
     ]
    }
   ],
   "source": [
    "users = pd.read_csv('/datasets/users.csv')\n",
    "users.info()"
   ]
  },
  {
   "cell_type": "code",
   "execution_count": 3,
   "metadata": {},
   "outputs": [
    {
     "data": {
      "text/html": [
       "<div>\n",
       "<style scoped>\n",
       "    .dataframe tbody tr th:only-of-type {\n",
       "        vertical-align: middle;\n",
       "    }\n",
       "\n",
       "    .dataframe tbody tr th {\n",
       "        vertical-align: top;\n",
       "    }\n",
       "\n",
       "    .dataframe thead th {\n",
       "        text-align: right;\n",
       "    }\n",
       "</style>\n",
       "<table border=\"1\" class=\"dataframe\">\n",
       "  <thead>\n",
       "    <tr style=\"text-align: right;\">\n",
       "      <th></th>\n",
       "      <th>user_id</th>\n",
       "      <th>age</th>\n",
       "      <th>churn_date</th>\n",
       "      <th>city</th>\n",
       "      <th>first_name</th>\n",
       "      <th>last_name</th>\n",
       "      <th>reg_date</th>\n",
       "      <th>tariff</th>\n",
       "    </tr>\n",
       "  </thead>\n",
       "  <tbody>\n",
       "    <tr>\n",
       "      <th>0</th>\n",
       "      <td>1000</td>\n",
       "      <td>52</td>\n",
       "      <td>NaN</td>\n",
       "      <td>Краснодар</td>\n",
       "      <td>Рафаил</td>\n",
       "      <td>Верещагин</td>\n",
       "      <td>2018-05-25</td>\n",
       "      <td>ultra</td>\n",
       "    </tr>\n",
       "    <tr>\n",
       "      <th>1</th>\n",
       "      <td>1001</td>\n",
       "      <td>41</td>\n",
       "      <td>NaN</td>\n",
       "      <td>Москва</td>\n",
       "      <td>Иван</td>\n",
       "      <td>Ежов</td>\n",
       "      <td>2018-11-01</td>\n",
       "      <td>smart</td>\n",
       "    </tr>\n",
       "    <tr>\n",
       "      <th>2</th>\n",
       "      <td>1002</td>\n",
       "      <td>59</td>\n",
       "      <td>NaN</td>\n",
       "      <td>Стерлитамак</td>\n",
       "      <td>Евгений</td>\n",
       "      <td>Абрамович</td>\n",
       "      <td>2018-06-17</td>\n",
       "      <td>smart</td>\n",
       "    </tr>\n",
       "    <tr>\n",
       "      <th>3</th>\n",
       "      <td>1003</td>\n",
       "      <td>23</td>\n",
       "      <td>NaN</td>\n",
       "      <td>Москва</td>\n",
       "      <td>Белла</td>\n",
       "      <td>Белякова</td>\n",
       "      <td>2018-08-17</td>\n",
       "      <td>ultra</td>\n",
       "    </tr>\n",
       "    <tr>\n",
       "      <th>4</th>\n",
       "      <td>1004</td>\n",
       "      <td>68</td>\n",
       "      <td>NaN</td>\n",
       "      <td>Новокузнецк</td>\n",
       "      <td>Татьяна</td>\n",
       "      <td>Авдеенко</td>\n",
       "      <td>2018-05-14</td>\n",
       "      <td>ultra</td>\n",
       "    </tr>\n",
       "    <tr>\n",
       "      <th>5</th>\n",
       "      <td>1005</td>\n",
       "      <td>67</td>\n",
       "      <td>NaN</td>\n",
       "      <td>Набережные Челны</td>\n",
       "      <td>Афанасий</td>\n",
       "      <td>Горлов</td>\n",
       "      <td>2018-01-25</td>\n",
       "      <td>smart</td>\n",
       "    </tr>\n",
       "    <tr>\n",
       "      <th>6</th>\n",
       "      <td>1006</td>\n",
       "      <td>21</td>\n",
       "      <td>NaN</td>\n",
       "      <td>Ульяновск</td>\n",
       "      <td>Леонид</td>\n",
       "      <td>Ермолаев</td>\n",
       "      <td>2018-02-26</td>\n",
       "      <td>smart</td>\n",
       "    </tr>\n",
       "    <tr>\n",
       "      <th>7</th>\n",
       "      <td>1007</td>\n",
       "      <td>65</td>\n",
       "      <td>NaN</td>\n",
       "      <td>Москва</td>\n",
       "      <td>Юна</td>\n",
       "      <td>Березина</td>\n",
       "      <td>2018-04-19</td>\n",
       "      <td>smart</td>\n",
       "    </tr>\n",
       "    <tr>\n",
       "      <th>8</th>\n",
       "      <td>1008</td>\n",
       "      <td>63</td>\n",
       "      <td>NaN</td>\n",
       "      <td>Челябинск</td>\n",
       "      <td>Рустэм</td>\n",
       "      <td>Пономарёв</td>\n",
       "      <td>2018-12-19</td>\n",
       "      <td>smart</td>\n",
       "    </tr>\n",
       "    <tr>\n",
       "      <th>9</th>\n",
       "      <td>1009</td>\n",
       "      <td>24</td>\n",
       "      <td>NaN</td>\n",
       "      <td>Пермь</td>\n",
       "      <td>Василиса</td>\n",
       "      <td>Блинова</td>\n",
       "      <td>2018-03-22</td>\n",
       "      <td>smart</td>\n",
       "    </tr>\n",
       "  </tbody>\n",
       "</table>\n",
       "</div>"
      ],
      "text/plain": [
       "   user_id  age churn_date              city first_name  last_name  \\\n",
       "0     1000   52        NaN         Краснодар     Рафаил  Верещагин   \n",
       "1     1001   41        NaN            Москва       Иван       Ежов   \n",
       "2     1002   59        NaN       Стерлитамак    Евгений  Абрамович   \n",
       "3     1003   23        NaN            Москва      Белла   Белякова   \n",
       "4     1004   68        NaN       Новокузнецк    Татьяна   Авдеенко   \n",
       "5     1005   67        NaN  Набережные Челны   Афанасий     Горлов   \n",
       "6     1006   21        NaN         Ульяновск     Леонид   Ермолаев   \n",
       "7     1007   65        NaN            Москва        Юна   Березина   \n",
       "8     1008   63        NaN         Челябинск     Рустэм  Пономарёв   \n",
       "9     1009   24        NaN             Пермь   Василиса    Блинова   \n",
       "\n",
       "     reg_date tariff  \n",
       "0  2018-05-25  ultra  \n",
       "1  2018-11-01  smart  \n",
       "2  2018-06-17  smart  \n",
       "3  2018-08-17  ultra  \n",
       "4  2018-05-14  ultra  \n",
       "5  2018-01-25  smart  \n",
       "6  2018-02-26  smart  \n",
       "7  2018-04-19  smart  \n",
       "8  2018-12-19  smart  \n",
       "9  2018-03-22  smart  "
      ]
     },
     "execution_count": 3,
     "metadata": {},
     "output_type": "execute_result"
    }
   ],
   "source": [
    "users.head(10)"
   ]
  },
  {
   "cell_type": "code",
   "execution_count": 4,
   "metadata": {},
   "outputs": [],
   "source": [
    "users = users.drop_duplicates().reset_index(drop = True) #на всякий случай проверяем дубликаты"
   ]
  },
  {
   "cell_type": "markdown",
   "metadata": {},
   "source": [
    "Изучим вторую таблицу - информацию о звонках."
   ]
  },
  {
   "cell_type": "code",
   "execution_count": 5,
   "metadata": {
    "scrolled": false
   },
   "outputs": [
    {
     "name": "stdout",
     "output_type": "stream",
     "text": [
      "<class 'pandas.core.frame.DataFrame'>\n",
      "RangeIndex: 202607 entries, 0 to 202606\n",
      "Data columns (total 4 columns):\n",
      " #   Column     Non-Null Count   Dtype  \n",
      "---  ------     --------------   -----  \n",
      " 0   id         202607 non-null  object \n",
      " 1   call_date  202607 non-null  object \n",
      " 2   duration   202607 non-null  float64\n",
      " 3   user_id    202607 non-null  int64  \n",
      "dtypes: float64(1), int64(1), object(2)\n",
      "memory usage: 6.2+ MB\n"
     ]
    }
   ],
   "source": [
    "calls = pd.read_csv('/datasets/calls.csv')\n",
    "calls.info()"
   ]
  },
  {
   "cell_type": "code",
   "execution_count": 6,
   "metadata": {},
   "outputs": [
    {
     "data": {
      "text/html": [
       "<div>\n",
       "<style scoped>\n",
       "    .dataframe tbody tr th:only-of-type {\n",
       "        vertical-align: middle;\n",
       "    }\n",
       "\n",
       "    .dataframe tbody tr th {\n",
       "        vertical-align: top;\n",
       "    }\n",
       "\n",
       "    .dataframe thead th {\n",
       "        text-align: right;\n",
       "    }\n",
       "</style>\n",
       "<table border=\"1\" class=\"dataframe\">\n",
       "  <thead>\n",
       "    <tr style=\"text-align: right;\">\n",
       "      <th></th>\n",
       "      <th>id</th>\n",
       "      <th>call_date</th>\n",
       "      <th>duration</th>\n",
       "      <th>user_id</th>\n",
       "    </tr>\n",
       "  </thead>\n",
       "  <tbody>\n",
       "    <tr>\n",
       "      <th>0</th>\n",
       "      <td>1000_0</td>\n",
       "      <td>2018-07-25</td>\n",
       "      <td>0.00</td>\n",
       "      <td>1000</td>\n",
       "    </tr>\n",
       "    <tr>\n",
       "      <th>1</th>\n",
       "      <td>1000_1</td>\n",
       "      <td>2018-08-17</td>\n",
       "      <td>0.00</td>\n",
       "      <td>1000</td>\n",
       "    </tr>\n",
       "    <tr>\n",
       "      <th>2</th>\n",
       "      <td>1000_2</td>\n",
       "      <td>2018-06-11</td>\n",
       "      <td>2.85</td>\n",
       "      <td>1000</td>\n",
       "    </tr>\n",
       "    <tr>\n",
       "      <th>3</th>\n",
       "      <td>1000_3</td>\n",
       "      <td>2018-09-21</td>\n",
       "      <td>13.80</td>\n",
       "      <td>1000</td>\n",
       "    </tr>\n",
       "    <tr>\n",
       "      <th>4</th>\n",
       "      <td>1000_4</td>\n",
       "      <td>2018-12-15</td>\n",
       "      <td>5.18</td>\n",
       "      <td>1000</td>\n",
       "    </tr>\n",
       "    <tr>\n",
       "      <th>5</th>\n",
       "      <td>1000_5</td>\n",
       "      <td>2018-11-02</td>\n",
       "      <td>0.00</td>\n",
       "      <td>1000</td>\n",
       "    </tr>\n",
       "    <tr>\n",
       "      <th>6</th>\n",
       "      <td>1000_6</td>\n",
       "      <td>2018-10-18</td>\n",
       "      <td>0.00</td>\n",
       "      <td>1000</td>\n",
       "    </tr>\n",
       "    <tr>\n",
       "      <th>7</th>\n",
       "      <td>1000_7</td>\n",
       "      <td>2018-08-22</td>\n",
       "      <td>18.31</td>\n",
       "      <td>1000</td>\n",
       "    </tr>\n",
       "    <tr>\n",
       "      <th>8</th>\n",
       "      <td>1000_8</td>\n",
       "      <td>2018-09-15</td>\n",
       "      <td>18.44</td>\n",
       "      <td>1000</td>\n",
       "    </tr>\n",
       "    <tr>\n",
       "      <th>9</th>\n",
       "      <td>1000_9</td>\n",
       "      <td>2018-08-15</td>\n",
       "      <td>0.00</td>\n",
       "      <td>1000</td>\n",
       "    </tr>\n",
       "    <tr>\n",
       "      <th>10</th>\n",
       "      <td>1000_10</td>\n",
       "      <td>2018-08-22</td>\n",
       "      <td>5.03</td>\n",
       "      <td>1000</td>\n",
       "    </tr>\n",
       "    <tr>\n",
       "      <th>11</th>\n",
       "      <td>1000_11</td>\n",
       "      <td>2018-05-28</td>\n",
       "      <td>18.82</td>\n",
       "      <td>1000</td>\n",
       "    </tr>\n",
       "    <tr>\n",
       "      <th>12</th>\n",
       "      <td>1000_12</td>\n",
       "      <td>2018-07-05</td>\n",
       "      <td>2.02</td>\n",
       "      <td>1000</td>\n",
       "    </tr>\n",
       "    <tr>\n",
       "      <th>13</th>\n",
       "      <td>1000_13</td>\n",
       "      <td>2018-09-29</td>\n",
       "      <td>7.15</td>\n",
       "      <td>1000</td>\n",
       "    </tr>\n",
       "    <tr>\n",
       "      <th>14</th>\n",
       "      <td>1000_14</td>\n",
       "      <td>2018-12-11</td>\n",
       "      <td>9.13</td>\n",
       "      <td>1000</td>\n",
       "    </tr>\n",
       "    <tr>\n",
       "      <th>15</th>\n",
       "      <td>1000_15</td>\n",
       "      <td>2018-07-27</td>\n",
       "      <td>9.36</td>\n",
       "      <td>1000</td>\n",
       "    </tr>\n",
       "    <tr>\n",
       "      <th>16</th>\n",
       "      <td>1000_16</td>\n",
       "      <td>2018-08-11</td>\n",
       "      <td>4.08</td>\n",
       "      <td>1000</td>\n",
       "    </tr>\n",
       "    <tr>\n",
       "      <th>17</th>\n",
       "      <td>1000_17</td>\n",
       "      <td>2018-08-02</td>\n",
       "      <td>12.63</td>\n",
       "      <td>1000</td>\n",
       "    </tr>\n",
       "    <tr>\n",
       "      <th>18</th>\n",
       "      <td>1000_18</td>\n",
       "      <td>2018-06-15</td>\n",
       "      <td>4.46</td>\n",
       "      <td>1000</td>\n",
       "    </tr>\n",
       "    <tr>\n",
       "      <th>19</th>\n",
       "      <td>1000_19</td>\n",
       "      <td>2018-11-02</td>\n",
       "      <td>15.08</td>\n",
       "      <td>1000</td>\n",
       "    </tr>\n",
       "  </tbody>\n",
       "</table>\n",
       "</div>"
      ],
      "text/plain": [
       "         id   call_date  duration  user_id\n",
       "0    1000_0  2018-07-25      0.00     1000\n",
       "1    1000_1  2018-08-17      0.00     1000\n",
       "2    1000_2  2018-06-11      2.85     1000\n",
       "3    1000_3  2018-09-21     13.80     1000\n",
       "4    1000_4  2018-12-15      5.18     1000\n",
       "5    1000_5  2018-11-02      0.00     1000\n",
       "6    1000_6  2018-10-18      0.00     1000\n",
       "7    1000_7  2018-08-22     18.31     1000\n",
       "8    1000_8  2018-09-15     18.44     1000\n",
       "9    1000_9  2018-08-15      0.00     1000\n",
       "10  1000_10  2018-08-22      5.03     1000\n",
       "11  1000_11  2018-05-28     18.82     1000\n",
       "12  1000_12  2018-07-05      2.02     1000\n",
       "13  1000_13  2018-09-29      7.15     1000\n",
       "14  1000_14  2018-12-11      9.13     1000\n",
       "15  1000_15  2018-07-27      9.36     1000\n",
       "16  1000_16  2018-08-11      4.08     1000\n",
       "17  1000_17  2018-08-02     12.63     1000\n",
       "18  1000_18  2018-06-15      4.46     1000\n",
       "19  1000_19  2018-11-02     15.08     1000"
      ]
     },
     "execution_count": 6,
     "metadata": {},
     "output_type": "execute_result"
    }
   ],
   "source": [
    "calls.head(20)"
   ]
  },
  {
   "cell_type": "code",
   "execution_count": 7,
   "metadata": {},
   "outputs": [],
   "source": [
    "calls = calls.drop_duplicates().reset_index(drop = True)"
   ]
  },
  {
   "cell_type": "markdown",
   "metadata": {},
   "source": [
    "Изучим третью таблицу - информацию о сообщениях."
   ]
  },
  {
   "cell_type": "code",
   "execution_count": 8,
   "metadata": {
    "scrolled": false
   },
   "outputs": [
    {
     "name": "stdout",
     "output_type": "stream",
     "text": [
      "<class 'pandas.core.frame.DataFrame'>\n",
      "RangeIndex: 123036 entries, 0 to 123035\n",
      "Data columns (total 3 columns):\n",
      " #   Column        Non-Null Count   Dtype \n",
      "---  ------        --------------   ----- \n",
      " 0   id            123036 non-null  object\n",
      " 1   message_date  123036 non-null  object\n",
      " 2   user_id       123036 non-null  int64 \n",
      "dtypes: int64(1), object(2)\n",
      "memory usage: 2.8+ MB\n"
     ]
    }
   ],
   "source": [
    "messages = pd.read_csv('/datasets/messages.csv')\n",
    "messages.info()"
   ]
  },
  {
   "cell_type": "code",
   "execution_count": 9,
   "metadata": {
    "scrolled": true
   },
   "outputs": [
    {
     "data": {
      "text/html": [
       "<div>\n",
       "<style scoped>\n",
       "    .dataframe tbody tr th:only-of-type {\n",
       "        vertical-align: middle;\n",
       "    }\n",
       "\n",
       "    .dataframe tbody tr th {\n",
       "        vertical-align: top;\n",
       "    }\n",
       "\n",
       "    .dataframe thead th {\n",
       "        text-align: right;\n",
       "    }\n",
       "</style>\n",
       "<table border=\"1\" class=\"dataframe\">\n",
       "  <thead>\n",
       "    <tr style=\"text-align: right;\">\n",
       "      <th></th>\n",
       "      <th>id</th>\n",
       "      <th>message_date</th>\n",
       "      <th>user_id</th>\n",
       "    </tr>\n",
       "  </thead>\n",
       "  <tbody>\n",
       "    <tr>\n",
       "      <th>0</th>\n",
       "      <td>1000_0</td>\n",
       "      <td>2018-06-27</td>\n",
       "      <td>1000</td>\n",
       "    </tr>\n",
       "    <tr>\n",
       "      <th>1</th>\n",
       "      <td>1000_1</td>\n",
       "      <td>2018-10-08</td>\n",
       "      <td>1000</td>\n",
       "    </tr>\n",
       "    <tr>\n",
       "      <th>2</th>\n",
       "      <td>1000_2</td>\n",
       "      <td>2018-08-04</td>\n",
       "      <td>1000</td>\n",
       "    </tr>\n",
       "    <tr>\n",
       "      <th>3</th>\n",
       "      <td>1000_3</td>\n",
       "      <td>2018-06-16</td>\n",
       "      <td>1000</td>\n",
       "    </tr>\n",
       "    <tr>\n",
       "      <th>4</th>\n",
       "      <td>1000_4</td>\n",
       "      <td>2018-12-05</td>\n",
       "      <td>1000</td>\n",
       "    </tr>\n",
       "    <tr>\n",
       "      <th>5</th>\n",
       "      <td>1000_5</td>\n",
       "      <td>2018-06-20</td>\n",
       "      <td>1000</td>\n",
       "    </tr>\n",
       "    <tr>\n",
       "      <th>6</th>\n",
       "      <td>1000_6</td>\n",
       "      <td>2018-11-19</td>\n",
       "      <td>1000</td>\n",
       "    </tr>\n",
       "    <tr>\n",
       "      <th>7</th>\n",
       "      <td>1000_7</td>\n",
       "      <td>2018-10-29</td>\n",
       "      <td>1000</td>\n",
       "    </tr>\n",
       "    <tr>\n",
       "      <th>8</th>\n",
       "      <td>1000_8</td>\n",
       "      <td>2018-06-25</td>\n",
       "      <td>1000</td>\n",
       "    </tr>\n",
       "    <tr>\n",
       "      <th>9</th>\n",
       "      <td>1000_9</td>\n",
       "      <td>2018-12-18</td>\n",
       "      <td>1000</td>\n",
       "    </tr>\n",
       "    <tr>\n",
       "      <th>10</th>\n",
       "      <td>1000_10</td>\n",
       "      <td>2018-05-30</td>\n",
       "      <td>1000</td>\n",
       "    </tr>\n",
       "    <tr>\n",
       "      <th>11</th>\n",
       "      <td>1000_11</td>\n",
       "      <td>2018-07-06</td>\n",
       "      <td>1000</td>\n",
       "    </tr>\n",
       "    <tr>\n",
       "      <th>12</th>\n",
       "      <td>1000_12</td>\n",
       "      <td>2018-08-20</td>\n",
       "      <td>1000</td>\n",
       "    </tr>\n",
       "    <tr>\n",
       "      <th>13</th>\n",
       "      <td>1000_13</td>\n",
       "      <td>2018-10-30</td>\n",
       "      <td>1000</td>\n",
       "    </tr>\n",
       "    <tr>\n",
       "      <th>14</th>\n",
       "      <td>1000_14</td>\n",
       "      <td>2018-09-14</td>\n",
       "      <td>1000</td>\n",
       "    </tr>\n",
       "    <tr>\n",
       "      <th>15</th>\n",
       "      <td>1000_15</td>\n",
       "      <td>2018-08-28</td>\n",
       "      <td>1000</td>\n",
       "    </tr>\n",
       "    <tr>\n",
       "      <th>16</th>\n",
       "      <td>1000_16</td>\n",
       "      <td>2018-06-25</td>\n",
       "      <td>1000</td>\n",
       "    </tr>\n",
       "    <tr>\n",
       "      <th>17</th>\n",
       "      <td>1000_17</td>\n",
       "      <td>2018-06-29</td>\n",
       "      <td>1000</td>\n",
       "    </tr>\n",
       "    <tr>\n",
       "      <th>18</th>\n",
       "      <td>1000_18</td>\n",
       "      <td>2018-07-07</td>\n",
       "      <td>1000</td>\n",
       "    </tr>\n",
       "    <tr>\n",
       "      <th>19</th>\n",
       "      <td>1000_19</td>\n",
       "      <td>2018-05-29</td>\n",
       "      <td>1000</td>\n",
       "    </tr>\n",
       "  </tbody>\n",
       "</table>\n",
       "</div>"
      ],
      "text/plain": [
       "         id message_date  user_id\n",
       "0    1000_0   2018-06-27     1000\n",
       "1    1000_1   2018-10-08     1000\n",
       "2    1000_2   2018-08-04     1000\n",
       "3    1000_3   2018-06-16     1000\n",
       "4    1000_4   2018-12-05     1000\n",
       "5    1000_5   2018-06-20     1000\n",
       "6    1000_6   2018-11-19     1000\n",
       "7    1000_7   2018-10-29     1000\n",
       "8    1000_8   2018-06-25     1000\n",
       "9    1000_9   2018-12-18     1000\n",
       "10  1000_10   2018-05-30     1000\n",
       "11  1000_11   2018-07-06     1000\n",
       "12  1000_12   2018-08-20     1000\n",
       "13  1000_13   2018-10-30     1000\n",
       "14  1000_14   2018-09-14     1000\n",
       "15  1000_15   2018-08-28     1000\n",
       "16  1000_16   2018-06-25     1000\n",
       "17  1000_17   2018-06-29     1000\n",
       "18  1000_18   2018-07-07     1000\n",
       "19  1000_19   2018-05-29     1000"
      ]
     },
     "execution_count": 9,
     "metadata": {},
     "output_type": "execute_result"
    }
   ],
   "source": [
    "messages.head(20)"
   ]
  },
  {
   "cell_type": "code",
   "execution_count": 10,
   "metadata": {},
   "outputs": [],
   "source": [
    "messages = messages.drop_duplicates().reset_index(drop = True)"
   ]
  },
  {
   "cell_type": "markdown",
   "metadata": {},
   "source": [
    "Изучим четвертую таблицу - информацию об интернет-сессиях."
   ]
  },
  {
   "cell_type": "code",
   "execution_count": 11,
   "metadata": {
    "scrolled": false
   },
   "outputs": [
    {
     "name": "stdout",
     "output_type": "stream",
     "text": [
      "<class 'pandas.core.frame.DataFrame'>\n",
      "RangeIndex: 149396 entries, 0 to 149395\n",
      "Data columns (total 5 columns):\n",
      " #   Column        Non-Null Count   Dtype  \n",
      "---  ------        --------------   -----  \n",
      " 0   Unnamed: 0    149396 non-null  int64  \n",
      " 1   id            149396 non-null  object \n",
      " 2   mb_used       149396 non-null  float64\n",
      " 3   session_date  149396 non-null  object \n",
      " 4   user_id       149396 non-null  int64  \n",
      "dtypes: float64(1), int64(2), object(2)\n",
      "memory usage: 5.7+ MB\n"
     ]
    }
   ],
   "source": [
    "internet = pd.read_csv('/datasets/internet.csv')\n",
    "internet.info()"
   ]
  },
  {
   "cell_type": "code",
   "execution_count": 12,
   "metadata": {
    "scrolled": false
   },
   "outputs": [
    {
     "data": {
      "text/html": [
       "<div>\n",
       "<style scoped>\n",
       "    .dataframe tbody tr th:only-of-type {\n",
       "        vertical-align: middle;\n",
       "    }\n",
       "\n",
       "    .dataframe tbody tr th {\n",
       "        vertical-align: top;\n",
       "    }\n",
       "\n",
       "    .dataframe thead th {\n",
       "        text-align: right;\n",
       "    }\n",
       "</style>\n",
       "<table border=\"1\" class=\"dataframe\">\n",
       "  <thead>\n",
       "    <tr style=\"text-align: right;\">\n",
       "      <th></th>\n",
       "      <th>Unnamed: 0</th>\n",
       "      <th>id</th>\n",
       "      <th>mb_used</th>\n",
       "      <th>session_date</th>\n",
       "      <th>user_id</th>\n",
       "    </tr>\n",
       "  </thead>\n",
       "  <tbody>\n",
       "    <tr>\n",
       "      <th>0</th>\n",
       "      <td>0</td>\n",
       "      <td>1000_0</td>\n",
       "      <td>112.95</td>\n",
       "      <td>2018-11-25</td>\n",
       "      <td>1000</td>\n",
       "    </tr>\n",
       "    <tr>\n",
       "      <th>1</th>\n",
       "      <td>1</td>\n",
       "      <td>1000_1</td>\n",
       "      <td>1052.81</td>\n",
       "      <td>2018-09-07</td>\n",
       "      <td>1000</td>\n",
       "    </tr>\n",
       "    <tr>\n",
       "      <th>2</th>\n",
       "      <td>2</td>\n",
       "      <td>1000_2</td>\n",
       "      <td>1197.26</td>\n",
       "      <td>2018-06-25</td>\n",
       "      <td>1000</td>\n",
       "    </tr>\n",
       "    <tr>\n",
       "      <th>3</th>\n",
       "      <td>3</td>\n",
       "      <td>1000_3</td>\n",
       "      <td>550.27</td>\n",
       "      <td>2018-08-22</td>\n",
       "      <td>1000</td>\n",
       "    </tr>\n",
       "    <tr>\n",
       "      <th>4</th>\n",
       "      <td>4</td>\n",
       "      <td>1000_4</td>\n",
       "      <td>302.56</td>\n",
       "      <td>2018-09-24</td>\n",
       "      <td>1000</td>\n",
       "    </tr>\n",
       "    <tr>\n",
       "      <th>5</th>\n",
       "      <td>5</td>\n",
       "      <td>1000_5</td>\n",
       "      <td>399.97</td>\n",
       "      <td>2018-10-02</td>\n",
       "      <td>1000</td>\n",
       "    </tr>\n",
       "    <tr>\n",
       "      <th>6</th>\n",
       "      <td>6</td>\n",
       "      <td>1000_6</td>\n",
       "      <td>540.08</td>\n",
       "      <td>2018-09-07</td>\n",
       "      <td>1000</td>\n",
       "    </tr>\n",
       "    <tr>\n",
       "      <th>7</th>\n",
       "      <td>7</td>\n",
       "      <td>1000_7</td>\n",
       "      <td>415.70</td>\n",
       "      <td>2018-07-11</td>\n",
       "      <td>1000</td>\n",
       "    </tr>\n",
       "    <tr>\n",
       "      <th>8</th>\n",
       "      <td>8</td>\n",
       "      <td>1000_8</td>\n",
       "      <td>505.40</td>\n",
       "      <td>2018-10-08</td>\n",
       "      <td>1000</td>\n",
       "    </tr>\n",
       "    <tr>\n",
       "      <th>9</th>\n",
       "      <td>9</td>\n",
       "      <td>1000_9</td>\n",
       "      <td>345.54</td>\n",
       "      <td>2018-09-03</td>\n",
       "      <td>1000</td>\n",
       "    </tr>\n",
       "    <tr>\n",
       "      <th>10</th>\n",
       "      <td>10</td>\n",
       "      <td>1000_10</td>\n",
       "      <td>385.14</td>\n",
       "      <td>2018-09-27</td>\n",
       "      <td>1000</td>\n",
       "    </tr>\n",
       "    <tr>\n",
       "      <th>11</th>\n",
       "      <td>11</td>\n",
       "      <td>1000_11</td>\n",
       "      <td>0.00</td>\n",
       "      <td>2018-08-28</td>\n",
       "      <td>1000</td>\n",
       "    </tr>\n",
       "    <tr>\n",
       "      <th>12</th>\n",
       "      <td>12</td>\n",
       "      <td>1000_12</td>\n",
       "      <td>375.87</td>\n",
       "      <td>2018-06-20</td>\n",
       "      <td>1000</td>\n",
       "    </tr>\n",
       "    <tr>\n",
       "      <th>13</th>\n",
       "      <td>13</td>\n",
       "      <td>1000_13</td>\n",
       "      <td>393.83</td>\n",
       "      <td>2018-08-09</td>\n",
       "      <td>1000</td>\n",
       "    </tr>\n",
       "    <tr>\n",
       "      <th>14</th>\n",
       "      <td>14</td>\n",
       "      <td>1000_14</td>\n",
       "      <td>180.64</td>\n",
       "      <td>2018-08-11</td>\n",
       "      <td>1000</td>\n",
       "    </tr>\n",
       "    <tr>\n",
       "      <th>15</th>\n",
       "      <td>15</td>\n",
       "      <td>1000_15</td>\n",
       "      <td>337.71</td>\n",
       "      <td>2018-07-21</td>\n",
       "      <td>1000</td>\n",
       "    </tr>\n",
       "    <tr>\n",
       "      <th>16</th>\n",
       "      <td>16</td>\n",
       "      <td>1000_16</td>\n",
       "      <td>459.28</td>\n",
       "      <td>2018-06-09</td>\n",
       "      <td>1000</td>\n",
       "    </tr>\n",
       "    <tr>\n",
       "      <th>17</th>\n",
       "      <td>17</td>\n",
       "      <td>1000_17</td>\n",
       "      <td>204.14</td>\n",
       "      <td>2018-06-03</td>\n",
       "      <td>1000</td>\n",
       "    </tr>\n",
       "    <tr>\n",
       "      <th>18</th>\n",
       "      <td>18</td>\n",
       "      <td>1000_18</td>\n",
       "      <td>658.10</td>\n",
       "      <td>2018-11-01</td>\n",
       "      <td>1000</td>\n",
       "    </tr>\n",
       "    <tr>\n",
       "      <th>19</th>\n",
       "      <td>19</td>\n",
       "      <td>1000_19</td>\n",
       "      <td>452.73</td>\n",
       "      <td>2018-11-28</td>\n",
       "      <td>1000</td>\n",
       "    </tr>\n",
       "  </tbody>\n",
       "</table>\n",
       "</div>"
      ],
      "text/plain": [
       "    Unnamed: 0       id  mb_used session_date  user_id\n",
       "0            0   1000_0   112.95   2018-11-25     1000\n",
       "1            1   1000_1  1052.81   2018-09-07     1000\n",
       "2            2   1000_2  1197.26   2018-06-25     1000\n",
       "3            3   1000_3   550.27   2018-08-22     1000\n",
       "4            4   1000_4   302.56   2018-09-24     1000\n",
       "5            5   1000_5   399.97   2018-10-02     1000\n",
       "6            6   1000_6   540.08   2018-09-07     1000\n",
       "7            7   1000_7   415.70   2018-07-11     1000\n",
       "8            8   1000_8   505.40   2018-10-08     1000\n",
       "9            9   1000_9   345.54   2018-09-03     1000\n",
       "10          10  1000_10   385.14   2018-09-27     1000\n",
       "11          11  1000_11     0.00   2018-08-28     1000\n",
       "12          12  1000_12   375.87   2018-06-20     1000\n",
       "13          13  1000_13   393.83   2018-08-09     1000\n",
       "14          14  1000_14   180.64   2018-08-11     1000\n",
       "15          15  1000_15   337.71   2018-07-21     1000\n",
       "16          16  1000_16   459.28   2018-06-09     1000\n",
       "17          17  1000_17   204.14   2018-06-03     1000\n",
       "18          18  1000_18   658.10   2018-11-01     1000\n",
       "19          19  1000_19   452.73   2018-11-28     1000"
      ]
     },
     "execution_count": 12,
     "metadata": {},
     "output_type": "execute_result"
    }
   ],
   "source": [
    "internet.head(20)"
   ]
  },
  {
   "cell_type": "code",
   "execution_count": 13,
   "metadata": {},
   "outputs": [],
   "source": [
    "internet = internet.drop_duplicates().reset_index(drop = True)"
   ]
  },
  {
   "cell_type": "markdown",
   "metadata": {},
   "source": [
    "Изучим последнюю таблицу - информацию о тарифах."
   ]
  },
  {
   "cell_type": "code",
   "execution_count": 14,
   "metadata": {
    "scrolled": false
   },
   "outputs": [
    {
     "name": "stdout",
     "output_type": "stream",
     "text": [
      "<class 'pandas.core.frame.DataFrame'>\n",
      "RangeIndex: 2 entries, 0 to 1\n",
      "Data columns (total 8 columns):\n",
      " #   Column                 Non-Null Count  Dtype \n",
      "---  ------                 --------------  ----- \n",
      " 0   messages_included      2 non-null      int64 \n",
      " 1   mb_per_month_included  2 non-null      int64 \n",
      " 2   minutes_included       2 non-null      int64 \n",
      " 3   rub_monthly_fee        2 non-null      int64 \n",
      " 4   rub_per_gb             2 non-null      int64 \n",
      " 5   rub_per_message        2 non-null      int64 \n",
      " 6   rub_per_minute         2 non-null      int64 \n",
      " 7   tariff_name            2 non-null      object\n",
      "dtypes: int64(7), object(1)\n",
      "memory usage: 256.0+ bytes\n"
     ]
    }
   ],
   "source": [
    "tariffs = pd.read_csv('/datasets/tariffs.csv')\n",
    "tariffs.info()"
   ]
  },
  {
   "cell_type": "code",
   "execution_count": 15,
   "metadata": {},
   "outputs": [
    {
     "data": {
      "text/html": [
       "<div>\n",
       "<style scoped>\n",
       "    .dataframe tbody tr th:only-of-type {\n",
       "        vertical-align: middle;\n",
       "    }\n",
       "\n",
       "    .dataframe tbody tr th {\n",
       "        vertical-align: top;\n",
       "    }\n",
       "\n",
       "    .dataframe thead th {\n",
       "        text-align: right;\n",
       "    }\n",
       "</style>\n",
       "<table border=\"1\" class=\"dataframe\">\n",
       "  <thead>\n",
       "    <tr style=\"text-align: right;\">\n",
       "      <th></th>\n",
       "      <th>messages_included</th>\n",
       "      <th>mb_per_month_included</th>\n",
       "      <th>minutes_included</th>\n",
       "      <th>rub_monthly_fee</th>\n",
       "      <th>rub_per_gb</th>\n",
       "      <th>rub_per_message</th>\n",
       "      <th>rub_per_minute</th>\n",
       "      <th>tariff_name</th>\n",
       "    </tr>\n",
       "  </thead>\n",
       "  <tbody>\n",
       "    <tr>\n",
       "      <th>0</th>\n",
       "      <td>50</td>\n",
       "      <td>15360</td>\n",
       "      <td>500</td>\n",
       "      <td>550</td>\n",
       "      <td>200</td>\n",
       "      <td>3</td>\n",
       "      <td>3</td>\n",
       "      <td>smart</td>\n",
       "    </tr>\n",
       "    <tr>\n",
       "      <th>1</th>\n",
       "      <td>1000</td>\n",
       "      <td>30720</td>\n",
       "      <td>3000</td>\n",
       "      <td>1950</td>\n",
       "      <td>150</td>\n",
       "      <td>1</td>\n",
       "      <td>1</td>\n",
       "      <td>ultra</td>\n",
       "    </tr>\n",
       "  </tbody>\n",
       "</table>\n",
       "</div>"
      ],
      "text/plain": [
       "   messages_included  mb_per_month_included  minutes_included  \\\n",
       "0                 50                  15360               500   \n",
       "1               1000                  30720              3000   \n",
       "\n",
       "   rub_monthly_fee  rub_per_gb  rub_per_message  rub_per_minute tariff_name  \n",
       "0              550         200                3               3       smart  \n",
       "1             1950         150                1               1       ultra  "
      ]
     },
     "execution_count": 15,
     "metadata": {},
     "output_type": "execute_result"
    }
   ],
   "source": [
    "tariffs.head()"
   ]
  },
  {
   "cell_type": "markdown",
   "metadata": {},
   "source": [
    "### Вывод"
   ]
  },
  {
   "cell_type": "markdown",
   "metadata": {},
   "source": [
    "Исходные данные выглядят довольно чисто.<br>\n",
    "Есть простор для оптимизации типов данных. Также не вижу смысла держать личную информацию о пользователях, в рамках решения задачи она нам не пригодится. Из странностей - в таблицу с сессиями попал некий столбец \"Unnamed: 0\", не несущий в себе смысловой назгрузки."
   ]
  },
  {
   "cell_type": "markdown",
   "metadata": {},
   "source": [
    "## Предобработка данных"
   ]
  },
  {
   "cell_type": "markdown",
   "metadata": {},
   "source": [
    "Первым делом отсечем лишние столбцы в таблицах."
   ]
  },
  {
   "cell_type": "code",
   "execution_count": 16,
   "metadata": {},
   "outputs": [],
   "source": [
    "users = users.drop(['age', \"first_name\", \"last_name\"], axis = 1)\n",
    "internet = internet.drop([\"Unnamed: 0\"], axis = 1)"
   ]
  },
  {
   "cell_type": "markdown",
   "metadata": {},
   "source": [
    "Оптимизируем типы данных."
   ]
  },
  {
   "cell_type": "code",
   "execution_count": 17,
   "metadata": {},
   "outputs": [],
   "source": [
    "users = users.astype({\"user_id\": \"uint16\"})\n",
    "users['churn_date'] = pd.to_datetime(users['churn_date'], format='%Y-%m-%d')\n",
    "users['reg_date'] = pd.to_datetime(users['reg_date'], format='%Y-%m-%d')\n",
    "\n",
    "calls['call_date'] = pd.to_datetime(calls['call_date'], format='%Y-%m-%d')\n",
    "calls['duration'] = calls['duration'].apply(np.ceil) #округлим длительность звонка в большую сторону в соответствии с условием задачи\n",
    "calls = calls.astype({\"user_id\": \"uint16\", \"duration\": \"uint8\"})\n",
    "\n",
    "messages['message_date'] = pd.to_datetime(messages['message_date'], format='%Y-%m-%d')\n",
    "messages = messages.astype({\"user_id\": \"uint16\"})\n",
    "\n",
    "internet['session_date'] = pd.to_datetime(internet['session_date'], format='%Y-%m-%d')\n",
    "internet = internet.astype({\"user_id\": \"uint16\"})\n",
    "\n",
    "tariffs = tariffs.astype({'messages_included': 'uint8', 'mb_per_month_included': \"uint16\", 'minutes_included': 'uint16', \n",
    "                          'rub_monthly_fee': 'uint16', 'rub_per_gb': 'uint8', 'rub_per_message': 'uint8', 'rub_per_minute':'uint8'})"
   ]
  },
  {
   "cell_type": "markdown",
   "metadata": {},
   "source": [
    "Цитирую условие задачи:\n",
    "\"В данных вы найдёте звонки с нулевой продолжительностью. Это не ошибка: нулями обозначены пропущенные звонки, поэтому их не нужно удалять.\"<br>\n",
    "Исходя из этого оперировал, что пропуск звонка - это пропущенные звонки.\n",
    "\n",
    "Пропуск в трафике это подозрительно, согласен. Однако при расчёте выручки эти нули не испортят нам картину никак. Плюс ноль есть плюс ноль. Поэтому я не стал их трогать.\n"
   ]
  },
  {
   "cell_type": "markdown",
   "metadata": {},
   "source": [
    "Посчитаем для каждого пользователя\n",
    "количество сделанных звонков и израсходованных минут разговора по месяцам:"
   ]
  },
  {
   "cell_type": "code",
   "execution_count": 18,
   "metadata": {},
   "outputs": [],
   "source": [
    "calls['call_date'] = calls['call_date'].dt.month #оставляем только месяц"
   ]
  },
  {
   "cell_type": "code",
   "execution_count": 19,
   "metadata": {},
   "outputs": [],
   "source": [
    "grouped_calls = calls.groupby(['user_id', 'call_date']).agg({'duration': ['sum','count']}) # группируем данные по пользователю и месяцу\n",
    "grouped_calls = grouped_calls.droplevel(level = 0, axis = 1)\n",
    "grouped_calls = grouped_calls.reset_index()\n",
    "grouped_calls.rename(columns={'call_date': 'month', 'sum': 'total_duration', 'count': 'number_of_calls'}, inplace=True)"
   ]
  },
  {
   "cell_type": "code",
   "execution_count": 20,
   "metadata": {},
   "outputs": [
    {
     "data": {
      "text/html": [
       "<div>\n",
       "<style scoped>\n",
       "    .dataframe tbody tr th:only-of-type {\n",
       "        vertical-align: middle;\n",
       "    }\n",
       "\n",
       "    .dataframe tbody tr th {\n",
       "        vertical-align: top;\n",
       "    }\n",
       "\n",
       "    .dataframe thead th {\n",
       "        text-align: right;\n",
       "    }\n",
       "</style>\n",
       "<table border=\"1\" class=\"dataframe\">\n",
       "  <thead>\n",
       "    <tr style=\"text-align: right;\">\n",
       "      <th></th>\n",
       "      <th>user_id</th>\n",
       "      <th>month</th>\n",
       "      <th>total_duration</th>\n",
       "      <th>number_of_calls</th>\n",
       "    </tr>\n",
       "  </thead>\n",
       "  <tbody>\n",
       "    <tr>\n",
       "      <th>0</th>\n",
       "      <td>1000</td>\n",
       "      <td>5</td>\n",
       "      <td>159.0</td>\n",
       "      <td>22</td>\n",
       "    </tr>\n",
       "    <tr>\n",
       "      <th>1</th>\n",
       "      <td>1000</td>\n",
       "      <td>6</td>\n",
       "      <td>172.0</td>\n",
       "      <td>43</td>\n",
       "    </tr>\n",
       "    <tr>\n",
       "      <th>2</th>\n",
       "      <td>1000</td>\n",
       "      <td>7</td>\n",
       "      <td>340.0</td>\n",
       "      <td>47</td>\n",
       "    </tr>\n",
       "    <tr>\n",
       "      <th>3</th>\n",
       "      <td>1000</td>\n",
       "      <td>8</td>\n",
       "      <td>408.0</td>\n",
       "      <td>52</td>\n",
       "    </tr>\n",
       "    <tr>\n",
       "      <th>4</th>\n",
       "      <td>1000</td>\n",
       "      <td>9</td>\n",
       "      <td>466.0</td>\n",
       "      <td>58</td>\n",
       "    </tr>\n",
       "    <tr>\n",
       "      <th>5</th>\n",
       "      <td>1000</td>\n",
       "      <td>10</td>\n",
       "      <td>350.0</td>\n",
       "      <td>57</td>\n",
       "    </tr>\n",
       "    <tr>\n",
       "      <th>6</th>\n",
       "      <td>1000</td>\n",
       "      <td>11</td>\n",
       "      <td>338.0</td>\n",
       "      <td>43</td>\n",
       "    </tr>\n",
       "    <tr>\n",
       "      <th>7</th>\n",
       "      <td>1000</td>\n",
       "      <td>12</td>\n",
       "      <td>333.0</td>\n",
       "      <td>46</td>\n",
       "    </tr>\n",
       "    <tr>\n",
       "      <th>8</th>\n",
       "      <td>1001</td>\n",
       "      <td>11</td>\n",
       "      <td>430.0</td>\n",
       "      <td>59</td>\n",
       "    </tr>\n",
       "    <tr>\n",
       "      <th>9</th>\n",
       "      <td>1001</td>\n",
       "      <td>12</td>\n",
       "      <td>414.0</td>\n",
       "      <td>63</td>\n",
       "    </tr>\n",
       "  </tbody>\n",
       "</table>\n",
       "</div>"
      ],
      "text/plain": [
       "   user_id  month  total_duration  number_of_calls\n",
       "0     1000      5           159.0               22\n",
       "1     1000      6           172.0               43\n",
       "2     1000      7           340.0               47\n",
       "3     1000      8           408.0               52\n",
       "4     1000      9           466.0               58\n",
       "5     1000     10           350.0               57\n",
       "6     1000     11           338.0               43\n",
       "7     1000     12           333.0               46\n",
       "8     1001     11           430.0               59\n",
       "9     1001     12           414.0               63"
      ]
     },
     "execution_count": 20,
     "metadata": {},
     "output_type": "execute_result"
    }
   ],
   "source": [
    "grouped_calls.head(10)"
   ]
  },
  {
   "cell_type": "markdown",
   "metadata": {},
   "source": [
    "Количество отправленных сообщений по месяцам:"
   ]
  },
  {
   "cell_type": "code",
   "execution_count": 21,
   "metadata": {},
   "outputs": [],
   "source": [
    "messages['message_date'] = messages['message_date'].dt.month #оставляем только месяц"
   ]
  },
  {
   "cell_type": "code",
   "execution_count": 22,
   "metadata": {},
   "outputs": [],
   "source": [
    "grouped_messages = messages.groupby(['user_id', 'message_date']).agg('count') # группируем данные по пользователю и месяцу\n",
    "grouped_messages = grouped_messages.reset_index()\n",
    "grouped_messages.rename(columns={'message_date': 'month', 'id': 'number_of_messages'}, inplace=True)"
   ]
  },
  {
   "cell_type": "code",
   "execution_count": 23,
   "metadata": {},
   "outputs": [
    {
     "data": {
      "text/html": [
       "<div>\n",
       "<style scoped>\n",
       "    .dataframe tbody tr th:only-of-type {\n",
       "        vertical-align: middle;\n",
       "    }\n",
       "\n",
       "    .dataframe tbody tr th {\n",
       "        vertical-align: top;\n",
       "    }\n",
       "\n",
       "    .dataframe thead th {\n",
       "        text-align: right;\n",
       "    }\n",
       "</style>\n",
       "<table border=\"1\" class=\"dataframe\">\n",
       "  <thead>\n",
       "    <tr style=\"text-align: right;\">\n",
       "      <th></th>\n",
       "      <th>user_id</th>\n",
       "      <th>month</th>\n",
       "      <th>number_of_messages</th>\n",
       "    </tr>\n",
       "  </thead>\n",
       "  <tbody>\n",
       "    <tr>\n",
       "      <th>0</th>\n",
       "      <td>1000</td>\n",
       "      <td>5</td>\n",
       "      <td>22</td>\n",
       "    </tr>\n",
       "    <tr>\n",
       "      <th>1</th>\n",
       "      <td>1000</td>\n",
       "      <td>6</td>\n",
       "      <td>60</td>\n",
       "    </tr>\n",
       "    <tr>\n",
       "      <th>2</th>\n",
       "      <td>1000</td>\n",
       "      <td>7</td>\n",
       "      <td>75</td>\n",
       "    </tr>\n",
       "    <tr>\n",
       "      <th>3</th>\n",
       "      <td>1000</td>\n",
       "      <td>8</td>\n",
       "      <td>81</td>\n",
       "    </tr>\n",
       "    <tr>\n",
       "      <th>4</th>\n",
       "      <td>1000</td>\n",
       "      <td>9</td>\n",
       "      <td>57</td>\n",
       "    </tr>\n",
       "    <tr>\n",
       "      <th>5</th>\n",
       "      <td>1000</td>\n",
       "      <td>10</td>\n",
       "      <td>73</td>\n",
       "    </tr>\n",
       "    <tr>\n",
       "      <th>6</th>\n",
       "      <td>1000</td>\n",
       "      <td>11</td>\n",
       "      <td>58</td>\n",
       "    </tr>\n",
       "    <tr>\n",
       "      <th>7</th>\n",
       "      <td>1000</td>\n",
       "      <td>12</td>\n",
       "      <td>70</td>\n",
       "    </tr>\n",
       "    <tr>\n",
       "      <th>8</th>\n",
       "      <td>1002</td>\n",
       "      <td>6</td>\n",
       "      <td>4</td>\n",
       "    </tr>\n",
       "    <tr>\n",
       "      <th>9</th>\n",
       "      <td>1002</td>\n",
       "      <td>7</td>\n",
       "      <td>11</td>\n",
       "    </tr>\n",
       "  </tbody>\n",
       "</table>\n",
       "</div>"
      ],
      "text/plain": [
       "   user_id  month  number_of_messages\n",
       "0     1000      5                  22\n",
       "1     1000      6                  60\n",
       "2     1000      7                  75\n",
       "3     1000      8                  81\n",
       "4     1000      9                  57\n",
       "5     1000     10                  73\n",
       "6     1000     11                  58\n",
       "7     1000     12                  70\n",
       "8     1002      6                   4\n",
       "9     1002      7                  11"
      ]
     },
     "execution_count": 23,
     "metadata": {},
     "output_type": "execute_result"
    }
   ],
   "source": [
    "grouped_messages.head(10)"
   ]
  },
  {
   "cell_type": "markdown",
   "metadata": {},
   "source": [
    "Объем израсходованного интернет-трафика по месяцам:"
   ]
  },
  {
   "cell_type": "code",
   "execution_count": 24,
   "metadata": {},
   "outputs": [],
   "source": [
    "internet['session_date'] = internet['session_date'].dt.month #оставляем только месяц"
   ]
  },
  {
   "cell_type": "code",
   "execution_count": 25,
   "metadata": {},
   "outputs": [],
   "source": [
    "grouped_internet = internet.groupby(['user_id', 'session_date']).agg('sum') # группируем данные по пользователю и месяцу\n",
    "grouped_internet = grouped_internet.reset_index()\n",
    "grouped_internet.rename(columns={'session_date': 'month', 'mb_used': \"gb_used\"}, inplace=True)\n",
    "grouped_internet['gb_used'] = grouped_internet['gb_used'] / 1024\n",
    "grouped_internet['gb_used'] = grouped_internet['gb_used'].apply(np.ceil)"
   ]
  },
  {
   "cell_type": "code",
   "execution_count": 26,
   "metadata": {},
   "outputs": [
    {
     "data": {
      "text/html": [
       "<div>\n",
       "<style scoped>\n",
       "    .dataframe tbody tr th:only-of-type {\n",
       "        vertical-align: middle;\n",
       "    }\n",
       "\n",
       "    .dataframe tbody tr th {\n",
       "        vertical-align: top;\n",
       "    }\n",
       "\n",
       "    .dataframe thead th {\n",
       "        text-align: right;\n",
       "    }\n",
       "</style>\n",
       "<table border=\"1\" class=\"dataframe\">\n",
       "  <thead>\n",
       "    <tr style=\"text-align: right;\">\n",
       "      <th></th>\n",
       "      <th>user_id</th>\n",
       "      <th>month</th>\n",
       "      <th>gb_used</th>\n",
       "    </tr>\n",
       "  </thead>\n",
       "  <tbody>\n",
       "    <tr>\n",
       "      <th>0</th>\n",
       "      <td>1000</td>\n",
       "      <td>5</td>\n",
       "      <td>3.0</td>\n",
       "    </tr>\n",
       "    <tr>\n",
       "      <th>1</th>\n",
       "      <td>1000</td>\n",
       "      <td>6</td>\n",
       "      <td>23.0</td>\n",
       "    </tr>\n",
       "    <tr>\n",
       "      <th>2</th>\n",
       "      <td>1000</td>\n",
       "      <td>7</td>\n",
       "      <td>14.0</td>\n",
       "    </tr>\n",
       "    <tr>\n",
       "      <th>3</th>\n",
       "      <td>1000</td>\n",
       "      <td>8</td>\n",
       "      <td>14.0</td>\n",
       "    </tr>\n",
       "    <tr>\n",
       "      <th>4</th>\n",
       "      <td>1000</td>\n",
       "      <td>9</td>\n",
       "      <td>15.0</td>\n",
       "    </tr>\n",
       "    <tr>\n",
       "      <th>5</th>\n",
       "      <td>1000</td>\n",
       "      <td>10</td>\n",
       "      <td>15.0</td>\n",
       "    </tr>\n",
       "    <tr>\n",
       "      <th>6</th>\n",
       "      <td>1000</td>\n",
       "      <td>11</td>\n",
       "      <td>15.0</td>\n",
       "    </tr>\n",
       "    <tr>\n",
       "      <th>7</th>\n",
       "      <td>1000</td>\n",
       "      <td>12</td>\n",
       "      <td>10.0</td>\n",
       "    </tr>\n",
       "    <tr>\n",
       "      <th>8</th>\n",
       "      <td>1001</td>\n",
       "      <td>11</td>\n",
       "      <td>18.0</td>\n",
       "    </tr>\n",
       "    <tr>\n",
       "      <th>9</th>\n",
       "      <td>1001</td>\n",
       "      <td>12</td>\n",
       "      <td>14.0</td>\n",
       "    </tr>\n",
       "  </tbody>\n",
       "</table>\n",
       "</div>"
      ],
      "text/plain": [
       "   user_id  month  gb_used\n",
       "0     1000      5      3.0\n",
       "1     1000      6     23.0\n",
       "2     1000      7     14.0\n",
       "3     1000      8     14.0\n",
       "4     1000      9     15.0\n",
       "5     1000     10     15.0\n",
       "6     1000     11     15.0\n",
       "7     1000     12     10.0\n",
       "8     1001     11     18.0\n",
       "9     1001     12     14.0"
      ]
     },
     "execution_count": 26,
     "metadata": {},
     "output_type": "execute_result"
    }
   ],
   "source": [
    "grouped_internet.head(10)"
   ]
  },
  {
   "cell_type": "markdown",
   "metadata": {},
   "source": [
    "Объединим полученные таблицы."
   ]
  },
  {
   "cell_type": "code",
   "execution_count": 27,
   "metadata": {},
   "outputs": [],
   "source": [
    "data = grouped_calls.merge(grouped_messages, how='outer', on=['user_id', 'month'])\n",
    "data = data.merge(grouped_internet, how='outer', on=['user_id', 'month'])"
   ]
  },
  {
   "cell_type": "markdown",
   "metadata": {},
   "source": [
    "Здесь я понимаю, что в таблицу нужно добавить city и tariff из таблицы users, соответственно остальные данные из неё нам больше не нужны."
   ]
  },
  {
   "cell_type": "code",
   "execution_count": 28,
   "metadata": {},
   "outputs": [],
   "source": [
    "users = users.drop(['reg_date', \"churn_date\"], axis = 1)\n",
    "data = data.merge(users, how='outer', on=['user_id'])"
   ]
  },
  {
   "cell_type": "code",
   "execution_count": 29,
   "metadata": {},
   "outputs": [],
   "source": [
    "data = data.astype({'month': 'Int8', 'total_duration': \"Int16\", 'number_of_calls': 'Int16', \n",
    "                    'number_of_messages': 'Int16', 'gb_used': 'Int16'})"
   ]
  },
  {
   "cell_type": "code",
   "execution_count": 30,
   "metadata": {},
   "outputs": [
    {
     "data": {
      "text/html": [
       "<div>\n",
       "<style scoped>\n",
       "    .dataframe tbody tr th:only-of-type {\n",
       "        vertical-align: middle;\n",
       "    }\n",
       "\n",
       "    .dataframe tbody tr th {\n",
       "        vertical-align: top;\n",
       "    }\n",
       "\n",
       "    .dataframe thead th {\n",
       "        text-align: right;\n",
       "    }\n",
       "</style>\n",
       "<table border=\"1\" class=\"dataframe\">\n",
       "  <thead>\n",
       "    <tr style=\"text-align: right;\">\n",
       "      <th></th>\n",
       "      <th>user_id</th>\n",
       "      <th>month</th>\n",
       "      <th>total_duration</th>\n",
       "      <th>number_of_calls</th>\n",
       "      <th>number_of_messages</th>\n",
       "      <th>gb_used</th>\n",
       "      <th>city</th>\n",
       "      <th>tariff</th>\n",
       "    </tr>\n",
       "  </thead>\n",
       "  <tbody>\n",
       "    <tr>\n",
       "      <th>0</th>\n",
       "      <td>1000</td>\n",
       "      <td>5</td>\n",
       "      <td>159</td>\n",
       "      <td>22</td>\n",
       "      <td>22</td>\n",
       "      <td>3</td>\n",
       "      <td>Краснодар</td>\n",
       "      <td>ultra</td>\n",
       "    </tr>\n",
       "    <tr>\n",
       "      <th>1</th>\n",
       "      <td>1000</td>\n",
       "      <td>6</td>\n",
       "      <td>172</td>\n",
       "      <td>43</td>\n",
       "      <td>60</td>\n",
       "      <td>23</td>\n",
       "      <td>Краснодар</td>\n",
       "      <td>ultra</td>\n",
       "    </tr>\n",
       "    <tr>\n",
       "      <th>2</th>\n",
       "      <td>1000</td>\n",
       "      <td>7</td>\n",
       "      <td>340</td>\n",
       "      <td>47</td>\n",
       "      <td>75</td>\n",
       "      <td>14</td>\n",
       "      <td>Краснодар</td>\n",
       "      <td>ultra</td>\n",
       "    </tr>\n",
       "    <tr>\n",
       "      <th>3</th>\n",
       "      <td>1000</td>\n",
       "      <td>8</td>\n",
       "      <td>408</td>\n",
       "      <td>52</td>\n",
       "      <td>81</td>\n",
       "      <td>14</td>\n",
       "      <td>Краснодар</td>\n",
       "      <td>ultra</td>\n",
       "    </tr>\n",
       "    <tr>\n",
       "      <th>4</th>\n",
       "      <td>1000</td>\n",
       "      <td>9</td>\n",
       "      <td>466</td>\n",
       "      <td>58</td>\n",
       "      <td>57</td>\n",
       "      <td>15</td>\n",
       "      <td>Краснодар</td>\n",
       "      <td>ultra</td>\n",
       "    </tr>\n",
       "  </tbody>\n",
       "</table>\n",
       "</div>"
      ],
      "text/plain": [
       "   user_id  month  total_duration  number_of_calls  number_of_messages  \\\n",
       "0     1000      5             159               22                  22   \n",
       "1     1000      6             172               43                  60   \n",
       "2     1000      7             340               47                  75   \n",
       "3     1000      8             408               52                  81   \n",
       "4     1000      9             466               58                  57   \n",
       "\n",
       "   gb_used       city tariff  \n",
       "0        3  Краснодар  ultra  \n",
       "1       23  Краснодар  ultra  \n",
       "2       14  Краснодар  ultra  \n",
       "3       14  Краснодар  ultra  \n",
       "4       15  Краснодар  ultra  "
      ]
     },
     "execution_count": 30,
     "metadata": {},
     "output_type": "execute_result"
    }
   ],
   "source": [
    "data.head()"
   ]
  },
  {
   "cell_type": "code",
   "execution_count": 31,
   "metadata": {
    "scrolled": false
   },
   "outputs": [
    {
     "name": "stdout",
     "output_type": "stream",
     "text": [
      "<class 'pandas.core.frame.DataFrame'>\n",
      "Int64Index: 3216 entries, 0 to 3215\n",
      "Data columns (total 8 columns):\n",
      " #   Column              Non-Null Count  Dtype \n",
      "---  ------              --------------  ----- \n",
      " 0   user_id             3216 non-null   uint64\n",
      " 1   month               3214 non-null   Int8  \n",
      " 2   total_duration      3174 non-null   Int16 \n",
      " 3   number_of_calls     3174 non-null   Int16 \n",
      " 4   number_of_messages  2717 non-null   Int16 \n",
      " 5   gb_used             3203 non-null   Int16 \n",
      " 6   city                3216 non-null   object\n",
      " 7   tariff              3216 non-null   object\n",
      "dtypes: Int16(4), Int8(1), object(2), uint64(1)\n",
      "memory usage: 144.5+ KB\n"
     ]
    }
   ],
   "source": [
    "data.info()"
   ]
  },
  {
   "cell_type": "code",
   "execution_count": 32,
   "metadata": {},
   "outputs": [],
   "source": [
    "data['month'][3214] = 12 \n",
    "data['month'][3215] = 12\n",
    "data = data.fillna(0)"
   ]
  },
  {
   "cell_type": "markdown",
   "metadata": {},
   "source": [
    "Для начала посмотрел пропуски с месяцем. Оказалось, у этих клиентов пропуски и в total_duration, number_of_calls, number_of_messages, gb_used.<br>\n",
    "Данные клиенты купили тариф, но не пользовались им и через несколько дней отказались от симки. Тем не менее деньги заплачены.<br>\n",
    "Так как month у них был заполнен только в одной из объединяемых таблиц, то в результирующей оказался NaN.\n",
    "Заполнил эти два пробела вручную. А можно было сделать так, чтоб он эти месяцы подцепил при объединении?\n",
    "\n",
    "Остальные значение это действительно неиспользуемые услуги, т.е. нули, тут кроме fillna(0) не вижу другого решения."
   ]
  },
  {
   "cell_type": "markdown",
   "metadata": {},
   "source": [
    "Посчитаем выручку с каждого клиента по месяцам. Напишем функцию и применим к таблице."
   ]
  },
  {
   "cell_type": "code",
   "execution_count": 33,
   "metadata": {},
   "outputs": [],
   "source": [
    "def revenue_check(row):\n",
    "    revenue = 0\n",
    "    \n",
    "    revenue_ultra = 1950\n",
    "    duration_ultra = 3000\n",
    "    duration_ultra_price = 1\n",
    "    gb_ultra = 30\n",
    "    gb_ultra_price = 150\n",
    "    messages_ultra = 1000\n",
    "    messages_ultra_price = 1\n",
    "    \n",
    "    \n",
    "    revenue_smart = 550\n",
    "    duration_smart = 500\n",
    "    duration_smart_price = 3\n",
    "    gb_smart = 15\n",
    "    gb_smart_price = 200\n",
    "    messages_smart = 50\n",
    "    messages_smart_price = 3\n",
    "    \n",
    "    \n",
    "    \n",
    "    tariff = row['tariff']\n",
    "    gb = row['gb_used']\n",
    "    duration = row['total_duration']\n",
    "    messages = row['number_of_messages']\n",
    "    if tariff == 'ultra':\n",
    "        revenue += revenue_ultra #включаем ежемесячную плату\n",
    "        if duration > duration_ultra:\n",
    "            revenue += (duration - duration_ultra) * duration_ultra_price\n",
    "        if gb > gb_ultra:\n",
    "            revenue += (gb - gb_ultra) * gb_ultra_price\n",
    "        if messages > messages_ultra:\n",
    "            revenue += (messages - messages_ultra) * messages_ultra_price\n",
    "        return revenue\n",
    "    else:\n",
    "        revenue += revenue_smart #включаем ежемесячную плату\n",
    "        if duration > duration_smart:\n",
    "            revenue += (duration - duration_smart) * duration_smart_price\n",
    "        if gb > gb_smart:\n",
    "            revenue += (gb - gb_smart) * gb_smart_price\n",
    "        if messages > messages_smart:\n",
    "            revenue += (messages - messages_smart) * messages_smart_price\n",
    "    return revenue\n",
    "data['revenue'] = data.apply(revenue_check, axis = 1)"
   ]
  },
  {
   "cell_type": "code",
   "execution_count": 34,
   "metadata": {},
   "outputs": [
    {
     "data": {
      "text/html": [
       "<div>\n",
       "<style scoped>\n",
       "    .dataframe tbody tr th:only-of-type {\n",
       "        vertical-align: middle;\n",
       "    }\n",
       "\n",
       "    .dataframe tbody tr th {\n",
       "        vertical-align: top;\n",
       "    }\n",
       "\n",
       "    .dataframe thead th {\n",
       "        text-align: right;\n",
       "    }\n",
       "</style>\n",
       "<table border=\"1\" class=\"dataframe\">\n",
       "  <thead>\n",
       "    <tr style=\"text-align: right;\">\n",
       "      <th></th>\n",
       "      <th>user_id</th>\n",
       "      <th>month</th>\n",
       "      <th>total_duration</th>\n",
       "      <th>number_of_calls</th>\n",
       "      <th>number_of_messages</th>\n",
       "      <th>gb_used</th>\n",
       "      <th>city</th>\n",
       "      <th>tariff</th>\n",
       "      <th>revenue</th>\n",
       "    </tr>\n",
       "  </thead>\n",
       "  <tbody>\n",
       "    <tr>\n",
       "      <th>0</th>\n",
       "      <td>1000</td>\n",
       "      <td>5</td>\n",
       "      <td>159</td>\n",
       "      <td>22</td>\n",
       "      <td>22</td>\n",
       "      <td>3</td>\n",
       "      <td>Краснодар</td>\n",
       "      <td>ultra</td>\n",
       "      <td>1950</td>\n",
       "    </tr>\n",
       "    <tr>\n",
       "      <th>1</th>\n",
       "      <td>1000</td>\n",
       "      <td>6</td>\n",
       "      <td>172</td>\n",
       "      <td>43</td>\n",
       "      <td>60</td>\n",
       "      <td>23</td>\n",
       "      <td>Краснодар</td>\n",
       "      <td>ultra</td>\n",
       "      <td>1950</td>\n",
       "    </tr>\n",
       "    <tr>\n",
       "      <th>2</th>\n",
       "      <td>1000</td>\n",
       "      <td>7</td>\n",
       "      <td>340</td>\n",
       "      <td>47</td>\n",
       "      <td>75</td>\n",
       "      <td>14</td>\n",
       "      <td>Краснодар</td>\n",
       "      <td>ultra</td>\n",
       "      <td>1950</td>\n",
       "    </tr>\n",
       "    <tr>\n",
       "      <th>3</th>\n",
       "      <td>1000</td>\n",
       "      <td>8</td>\n",
       "      <td>408</td>\n",
       "      <td>52</td>\n",
       "      <td>81</td>\n",
       "      <td>14</td>\n",
       "      <td>Краснодар</td>\n",
       "      <td>ultra</td>\n",
       "      <td>1950</td>\n",
       "    </tr>\n",
       "    <tr>\n",
       "      <th>4</th>\n",
       "      <td>1000</td>\n",
       "      <td>9</td>\n",
       "      <td>466</td>\n",
       "      <td>58</td>\n",
       "      <td>57</td>\n",
       "      <td>15</td>\n",
       "      <td>Краснодар</td>\n",
       "      <td>ultra</td>\n",
       "      <td>1950</td>\n",
       "    </tr>\n",
       "    <tr>\n",
       "      <th>...</th>\n",
       "      <td>...</td>\n",
       "      <td>...</td>\n",
       "      <td>...</td>\n",
       "      <td>...</td>\n",
       "      <td>...</td>\n",
       "      <td>...</td>\n",
       "      <td>...</td>\n",
       "      <td>...</td>\n",
       "      <td>...</td>\n",
       "    </tr>\n",
       "    <tr>\n",
       "      <th>3211</th>\n",
       "      <td>1489</td>\n",
       "      <td>10</td>\n",
       "      <td>0</td>\n",
       "      <td>0</td>\n",
       "      <td>21</td>\n",
       "      <td>20</td>\n",
       "      <td>Санкт-Петербург</td>\n",
       "      <td>smart</td>\n",
       "      <td>1550</td>\n",
       "    </tr>\n",
       "    <tr>\n",
       "      <th>3212</th>\n",
       "      <td>1489</td>\n",
       "      <td>11</td>\n",
       "      <td>0</td>\n",
       "      <td>0</td>\n",
       "      <td>20</td>\n",
       "      <td>18</td>\n",
       "      <td>Санкт-Петербург</td>\n",
       "      <td>smart</td>\n",
       "      <td>1150</td>\n",
       "    </tr>\n",
       "    <tr>\n",
       "      <th>3213</th>\n",
       "      <td>1489</td>\n",
       "      <td>12</td>\n",
       "      <td>0</td>\n",
       "      <td>0</td>\n",
       "      <td>35</td>\n",
       "      <td>17</td>\n",
       "      <td>Санкт-Петербург</td>\n",
       "      <td>smart</td>\n",
       "      <td>950</td>\n",
       "    </tr>\n",
       "    <tr>\n",
       "      <th>3214</th>\n",
       "      <td>1128</td>\n",
       "      <td>12</td>\n",
       "      <td>0</td>\n",
       "      <td>0</td>\n",
       "      <td>0</td>\n",
       "      <td>0</td>\n",
       "      <td>Волжский</td>\n",
       "      <td>ultra</td>\n",
       "      <td>1950</td>\n",
       "    </tr>\n",
       "    <tr>\n",
       "      <th>3215</th>\n",
       "      <td>1371</td>\n",
       "      <td>12</td>\n",
       "      <td>0</td>\n",
       "      <td>0</td>\n",
       "      <td>0</td>\n",
       "      <td>0</td>\n",
       "      <td>Омск</td>\n",
       "      <td>smart</td>\n",
       "      <td>550</td>\n",
       "    </tr>\n",
       "  </tbody>\n",
       "</table>\n",
       "<p>3216 rows × 9 columns</p>\n",
       "</div>"
      ],
      "text/plain": [
       "      user_id  month  total_duration  number_of_calls  number_of_messages  \\\n",
       "0        1000      5             159               22                  22   \n",
       "1        1000      6             172               43                  60   \n",
       "2        1000      7             340               47                  75   \n",
       "3        1000      8             408               52                  81   \n",
       "4        1000      9             466               58                  57   \n",
       "...       ...    ...             ...              ...                 ...   \n",
       "3211     1489     10               0                0                  21   \n",
       "3212     1489     11               0                0                  20   \n",
       "3213     1489     12               0                0                  35   \n",
       "3214     1128     12               0                0                   0   \n",
       "3215     1371     12               0                0                   0   \n",
       "\n",
       "      gb_used             city tariff  revenue  \n",
       "0           3        Краснодар  ultra     1950  \n",
       "1          23        Краснодар  ultra     1950  \n",
       "2          14        Краснодар  ultra     1950  \n",
       "3          14        Краснодар  ultra     1950  \n",
       "4          15        Краснодар  ultra     1950  \n",
       "...       ...              ...    ...      ...  \n",
       "3211       20  Санкт-Петербург  smart     1550  \n",
       "3212       18  Санкт-Петербург  smart     1150  \n",
       "3213       17  Санкт-Петербург  smart      950  \n",
       "3214        0         Волжский  ultra     1950  \n",
       "3215        0             Омск  smart      550  \n",
       "\n",
       "[3216 rows x 9 columns]"
      ]
     },
     "execution_count": 34,
     "metadata": {},
     "output_type": "execute_result"
    }
   ],
   "source": [
    "data"
   ]
  },
  {
   "cell_type": "markdown",
   "metadata": {},
   "source": [
    "## Анализ данных"
   ]
  },
  {
   "cell_type": "markdown",
   "metadata": {},
   "source": [
    "### Тариф \"Ультра\""
   ]
  },
  {
   "cell_type": "markdown",
   "metadata": {},
   "source": [
    "Посчитаем среднее количество минут, сообщений и гигабайт трафика пользователей тарифа."
   ]
  },
  {
   "cell_type": "markdown",
   "metadata": {},
   "source": [
    "Найдём дисперсию и среднее отклонение этих величин."
   ]
  },
  {
   "cell_type": "code",
   "execution_count": 35,
   "metadata": {},
   "outputs": [
    {
     "data": {
      "text/html": [
       "<div>\n",
       "<style scoped>\n",
       "    .dataframe tbody tr th:only-of-type {\n",
       "        vertical-align: middle;\n",
       "    }\n",
       "\n",
       "    .dataframe tbody tr th {\n",
       "        vertical-align: top;\n",
       "    }\n",
       "\n",
       "    .dataframe thead tr th {\n",
       "        text-align: left;\n",
       "    }\n",
       "\n",
       "    .dataframe thead tr:last-of-type th {\n",
       "        text-align: right;\n",
       "    }\n",
       "</style>\n",
       "<table border=\"1\" class=\"dataframe\">\n",
       "  <thead>\n",
       "    <tr>\n",
       "      <th></th>\n",
       "      <th colspan=\"3\" halign=\"left\">total_duration</th>\n",
       "      <th colspan=\"3\" halign=\"left\">number_of_calls</th>\n",
       "      <th colspan=\"3\" halign=\"left\">number_of_messages</th>\n",
       "      <th colspan=\"3\" halign=\"left\">gb_used</th>\n",
       "    </tr>\n",
       "    <tr>\n",
       "      <th></th>\n",
       "      <th>mean</th>\n",
       "      <th>var</th>\n",
       "      <th>std</th>\n",
       "      <th>mean</th>\n",
       "      <th>var</th>\n",
       "      <th>std</th>\n",
       "      <th>mean</th>\n",
       "      <th>var</th>\n",
       "      <th>std</th>\n",
       "      <th>mean</th>\n",
       "      <th>var</th>\n",
       "      <th>std</th>\n",
       "    </tr>\n",
       "    <tr>\n",
       "      <th>tariff</th>\n",
       "      <th></th>\n",
       "      <th></th>\n",
       "      <th></th>\n",
       "      <th></th>\n",
       "      <th></th>\n",
       "      <th></th>\n",
       "      <th></th>\n",
       "      <th></th>\n",
       "      <th></th>\n",
       "      <th></th>\n",
       "      <th></th>\n",
       "      <th></th>\n",
       "    </tr>\n",
       "  </thead>\n",
       "  <tbody>\n",
       "    <tr>\n",
       "      <th>smart</th>\n",
       "      <td>417.747534</td>\n",
       "      <td>36281.393836</td>\n",
       "      <td>190.476754</td>\n",
       "      <td>58.43722</td>\n",
       "      <td>674.107093</td>\n",
       "      <td>25.963572</td>\n",
       "      <td>33.369058</td>\n",
       "      <td>796.955256</td>\n",
       "      <td>28.230396</td>\n",
       "      <td>16.321525</td>\n",
       "      <td>33.133453</td>\n",
       "      <td>5.756167</td>\n",
       "    </tr>\n",
       "    <tr>\n",
       "      <th>ultra</th>\n",
       "      <td>526.089249</td>\n",
       "      <td>101052.493549</td>\n",
       "      <td>317.887549</td>\n",
       "      <td>73.318458</td>\n",
       "      <td>1932.194928</td>\n",
       "      <td>43.956739</td>\n",
       "      <td>49.313387</td>\n",
       "      <td>2285.417425</td>\n",
       "      <td>47.806040</td>\n",
       "      <td>19.474645</td>\n",
       "      <td>97.378544</td>\n",
       "      <td>9.868057</td>\n",
       "    </tr>\n",
       "  </tbody>\n",
       "</table>\n",
       "</div>"
      ],
      "text/plain": [
       "       total_duration                            number_of_calls               \\\n",
       "                 mean            var         std            mean          var   \n",
       "tariff                                                                          \n",
       "smart      417.747534   36281.393836  190.476754        58.43722   674.107093   \n",
       "ultra      526.089249  101052.493549  317.887549       73.318458  1932.194928   \n",
       "\n",
       "                  number_of_messages                            gb_used  \\\n",
       "              std               mean          var        std       mean   \n",
       "tariff                                                                    \n",
       "smart   25.963572          33.369058   796.955256  28.230396  16.321525   \n",
       "ultra   43.956739          49.313387  2285.417425  47.806040  19.474645   \n",
       "\n",
       "                             \n",
       "              var       std  \n",
       "tariff                       \n",
       "smart   33.133453  5.756167  \n",
       "ultra   97.378544  9.868057  "
      ]
     },
     "execution_count": 35,
     "metadata": {},
     "output_type": "execute_result"
    }
   ],
   "source": [
    "data.groupby('tariff')[['total_duration', 'number_of_calls', 'number_of_messages', 'gb_used']].\\\n",
    "        agg(['mean', 'var', 'std'])"
   ]
  },
  {
   "cell_type": "markdown",
   "metadata": {},
   "source": [
    "Построим гистограммы плотностей"
   ]
  },
  {
   "cell_type": "code",
   "execution_count": 36,
   "metadata": {},
   "outputs": [
    {
     "data": {
      "image/png": "[encoded data removed]",
      "text/plain": [
       "<Figure size 432x288 with 1 Axes>"
      ]
     },
     "metadata": {
      "needs_background": "light"
     },
     "output_type": "display_data"
    }
   ],
   "source": [
    "data[data['tariff'] == 'ultra']['total_duration'].hist(bins = 30, density = 'True')\n",
    "plt.xlabel('Количество минут')\n",
    "plt.ylabel('Плотность')\n",
    "plt.title('Гистограмма количества минут')\n",
    "plt.show()"
   ]
  },
  {
   "cell_type": "code",
   "execution_count": 37,
   "metadata": {},
   "outputs": [
    {
     "data": {
      "image/png": "[encoded data removed]",
      "text/plain": [
       "<Figure size 432x288 with 1 Axes>"
      ]
     },
     "metadata": {
      "needs_background": "light"
     },
     "output_type": "display_data"
    }
   ],
   "source": [
    "data[data['tariff'] == 'ultra']['number_of_messages'].hist(bins = 30, density = 'True')\n",
    "plt.xlabel('Количество сообщений')\n",
    "plt.ylabel('Плотность')\n",
    "plt.title('Гистограмма количества сообщений')\n",
    "plt.show()"
   ]
  },
  {
   "cell_type": "code",
   "execution_count": 38,
   "metadata": {},
   "outputs": [
    {
     "data": {
      "image/png": "[encoded data removed]",
      "text/plain": [
       "<Figure size 432x288 with 1 Axes>"
      ]
     },
     "metadata": {
      "needs_background": "light"
     },
     "output_type": "display_data"
    }
   ],
   "source": [
    "data[data['tariff'] == 'ultra']['gb_used'].hist(bins = 30, density = 'True')\n",
    "plt.xlabel('Количество гигабайт')\n",
    "plt.ylabel('Плотность')\n",
    "plt.title('Гистограмма количества гигабайт')\n",
    "plt.show()"
   ]
  },
  {
   "cell_type": "markdown",
   "metadata": {},
   "source": [
    "Гистограмма количества минут и гигабайт имеют чёткие признаки нормального распределения (в случае с минутами - скошенная вправо). Гистограмма количества сообщений больше похоже на экспоненциальное распределение."
   ]
  },
  {
   "cell_type": "markdown",
   "metadata": {},
   "source": [
    "### Тариф \"Смарт\""
   ]
  },
  {
   "cell_type": "markdown",
   "metadata": {},
   "source": [
    "Посчитаем среднее количество минут, сообщений и гигабайт трафика пользователей тарифа."
   ]
  },
  {
   "cell_type": "code",
   "execution_count": 39,
   "metadata": {},
   "outputs": [
    {
     "data": {
      "text/html": [
       "<div>\n",
       "<style scoped>\n",
       "    .dataframe tbody tr th:only-of-type {\n",
       "        vertical-align: middle;\n",
       "    }\n",
       "\n",
       "    .dataframe tbody tr th {\n",
       "        vertical-align: top;\n",
       "    }\n",
       "\n",
       "    .dataframe thead tr th {\n",
       "        text-align: left;\n",
       "    }\n",
       "\n",
       "    .dataframe thead tr:last-of-type th {\n",
       "        text-align: right;\n",
       "    }\n",
       "</style>\n",
       "<table border=\"1\" class=\"dataframe\">\n",
       "  <thead>\n",
       "    <tr>\n",
       "      <th></th>\n",
       "      <th colspan=\"3\" halign=\"left\">total_duration</th>\n",
       "      <th colspan=\"3\" halign=\"left\">number_of_calls</th>\n",
       "      <th colspan=\"3\" halign=\"left\">number_of_messages</th>\n",
       "      <th colspan=\"3\" halign=\"left\">gb_used</th>\n",
       "    </tr>\n",
       "    <tr>\n",
       "      <th></th>\n",
       "      <th>mean</th>\n",
       "      <th>var</th>\n",
       "      <th>std</th>\n",
       "      <th>mean</th>\n",
       "      <th>var</th>\n",
       "      <th>std</th>\n",
       "      <th>mean</th>\n",
       "      <th>var</th>\n",
       "      <th>std</th>\n",
       "      <th>mean</th>\n",
       "      <th>var</th>\n",
       "      <th>std</th>\n",
       "    </tr>\n",
       "    <tr>\n",
       "      <th>tariff</th>\n",
       "      <th></th>\n",
       "      <th></th>\n",
       "      <th></th>\n",
       "      <th></th>\n",
       "      <th></th>\n",
       "      <th></th>\n",
       "      <th></th>\n",
       "      <th></th>\n",
       "      <th></th>\n",
       "      <th></th>\n",
       "      <th></th>\n",
       "      <th></th>\n",
       "    </tr>\n",
       "  </thead>\n",
       "  <tbody>\n",
       "    <tr>\n",
       "      <th>smart</th>\n",
       "      <td>417.747534</td>\n",
       "      <td>36281.393836</td>\n",
       "      <td>190.476754</td>\n",
       "      <td>58.43722</td>\n",
       "      <td>674.107093</td>\n",
       "      <td>25.963572</td>\n",
       "      <td>33.369058</td>\n",
       "      <td>796.955256</td>\n",
       "      <td>28.230396</td>\n",
       "      <td>16.321525</td>\n",
       "      <td>33.133453</td>\n",
       "      <td>5.756167</td>\n",
       "    </tr>\n",
       "    <tr>\n",
       "      <th>ultra</th>\n",
       "      <td>526.089249</td>\n",
       "      <td>101052.493549</td>\n",
       "      <td>317.887549</td>\n",
       "      <td>73.318458</td>\n",
       "      <td>1932.194928</td>\n",
       "      <td>43.956739</td>\n",
       "      <td>49.313387</td>\n",
       "      <td>2285.417425</td>\n",
       "      <td>47.806040</td>\n",
       "      <td>19.474645</td>\n",
       "      <td>97.378544</td>\n",
       "      <td>9.868057</td>\n",
       "    </tr>\n",
       "  </tbody>\n",
       "</table>\n",
       "</div>"
      ],
      "text/plain": [
       "       total_duration                            number_of_calls               \\\n",
       "                 mean            var         std            mean          var   \n",
       "tariff                                                                          \n",
       "smart      417.747534   36281.393836  190.476754        58.43722   674.107093   \n",
       "ultra      526.089249  101052.493549  317.887549       73.318458  1932.194928   \n",
       "\n",
       "                  number_of_messages                            gb_used  \\\n",
       "              std               mean          var        std       mean   \n",
       "tariff                                                                    \n",
       "smart   25.963572          33.369058   796.955256  28.230396  16.321525   \n",
       "ultra   43.956739          49.313387  2285.417425  47.806040  19.474645   \n",
       "\n",
       "                             \n",
       "              var       std  \n",
       "tariff                       \n",
       "smart   33.133453  5.756167  \n",
       "ultra   97.378544  9.868057  "
      ]
     },
     "execution_count": 39,
     "metadata": {},
     "output_type": "execute_result"
    }
   ],
   "source": [
    "data.groupby('tariff')[['total_duration', 'number_of_calls', 'number_of_messages', 'gb_used']].\\\n",
    "        agg(['mean', 'var', 'std'])"
   ]
  },
  {
   "cell_type": "markdown",
   "metadata": {},
   "source": [
    "Построим гистограммы плотностей"
   ]
  },
  {
   "cell_type": "code",
   "execution_count": 40,
   "metadata": {},
   "outputs": [
    {
     "data": {
      "image/png": "[encoded data removed]",
      "text/plain": [
       "<Figure size 432x288 with 1 Axes>"
      ]
     },
     "metadata": {
      "needs_background": "light"
     },
     "output_type": "display_data"
    }
   ],
   "source": [
    "data[data['tariff'] != 'ultra']['total_duration'].hist(bins = 30, density = 'True', label = 'Смарт')\n",
    "data[data['tariff'] == 'ultra']['total_duration'].hist(bins = 30, density = 'True', label = 'Ультра')\n",
    "plt.xlabel('Количество минут')\n",
    "plt.ylabel('Плотность')\n",
    "plt.title('Гистограмма количества минут')\n",
    "plt.legend()\n",
    "plt.show()"
   ]
  },
  {
   "cell_type": "code",
   "execution_count": 41,
   "metadata": {},
   "outputs": [
    {
     "data": {
      "image/png": "[encoded data removed]",
      "text/plain": [
       "<Figure size 432x288 with 1 Axes>"
      ]
     },
     "metadata": {
      "needs_background": "light"
     },
     "output_type": "display_data"
    }
   ],
   "source": [
    "data[data['tariff'] != 'ultra']['number_of_messages'].hist(bins = 30, density = 'True', label = 'Смарт')\n",
    "data[data['tariff'] == 'ultra']['number_of_messages'].hist(bins = 30, density = 'True', label = 'Ультра')\n",
    "plt.xlabel('Количество сообщений')\n",
    "plt.ylabel('Плотность')\n",
    "plt.title('Гистограмма количества сообщений')\n",
    "plt.legend()\n",
    "plt.show()"
   ]
  },
  {
   "cell_type": "code",
   "execution_count": 42,
   "metadata": {},
   "outputs": [
    {
     "data": {
      "image/png": "[encoded data removed]",
      "text/plain": [
       "<Figure size 432x288 with 1 Axes>"
      ]
     },
     "metadata": {
      "needs_background": "light"
     },
     "output_type": "display_data"
    }
   ],
   "source": [
    "data[data['tariff'] != 'ultra']['gb_used'].hist(bins = 30, density = 'True', label = 'Смарт')\n",
    "data[data['tariff'] == 'ultra']['gb_used'].hist(bins = 30, density = 'True', label = \"Ультра\")\n",
    "plt.xlabel('Количество гигабайт')\n",
    "plt.ylabel('Плотность')\n",
    "plt.title('Гистограмма количества гигабайт')\n",
    "plt.legend()\n",
    "plt.show()"
   ]
  },
  {
   "cell_type": "code",
   "execution_count": 43,
   "metadata": {},
   "outputs": [
    {
     "data": {
      "image/png": "[encoded data removed]",
      "text/plain": [
       "<Figure size 432x288 with 1 Axes>"
      ]
     },
     "metadata": {
      "needs_background": "light"
     },
     "output_type": "display_data"
    }
   ],
   "source": [
    "data[data['tariff'] != 'ultra']['revenue'].hist(bins = 30, density = 'True', label = 'Смарт', range = (500, 4000))\n",
    "data[data['tariff'] == 'ultra']['revenue'].hist(bins = 30, density = 'True', label = \"Ультра\", range = (500, 4000))\n",
    "plt.xlabel('Выручка')\n",
    "plt.ylabel('Плотность')\n",
    "plt.title('Гистограмма выручки')\n",
    "plt.legend()\n",
    "plt.show()"
   ]
  },
  {
   "cell_type": "markdown",
   "metadata": {},
   "source": [
    "В случае с тарифом \"Смарт\" получены схожие выводы о распределениях, только график количества минут практически не скошен вправо."
   ]
  },
  {
   "cell_type": "markdown",
   "metadata": {},
   "source": [
    "## Проверка гипотез"
   ]
  },
  {
   "cell_type": "markdown",
   "metadata": {},
   "source": [
    "Проверим две гипотезы согласно задаче. <br>\n",
    "Начнём со средней выручки пользователей тарифов «Ультра» и «Смарт».<br>\n",
    "За нулевую гипотезу примем следующее утверждение: выручка пользователей тарифов равна.<br>\n",
    "За альтернативную - выручка пользователей тарифа «Ультра» выше.\n",
    "\n",
    "Обозначим выборки, определимся с альфа и проверим гипотезу методом ttest_ind:"
   ]
  },
  {
   "cell_type": "code",
   "execution_count": 44,
   "metadata": {},
   "outputs": [],
   "source": [
    "sample_ultra = data[data['tariff'] == 'ultra']\n",
    "sample_smart = data[data['tariff'] == 'smart']"
   ]
  },
  {
   "cell_type": "code",
   "execution_count": 45,
   "metadata": {},
   "outputs": [
    {
     "data": {
      "text/plain": [
       "8.081909555489933e-161"
      ]
     },
     "execution_count": 45,
     "metadata": {},
     "output_type": "execute_result"
    }
   ],
   "source": [
    "alpha = 0.05 # примем стандартный уровень критической значимости\n",
    "results = st.ttest_ind(\n",
    "    sample_ultra['revenue'], \n",
    "    sample_smart['revenue']) # найдем p-значение\n",
    "results.pvalue"
   ]
  },
  {
   "cell_type": "code",
   "execution_count": 46,
   "metadata": {},
   "outputs": [
    {
     "name": "stdout",
     "output_type": "stream",
     "text": [
      "Отвергаем нулевую гипотезу\n"
     ]
    }
   ],
   "source": [
    "if (results.pvalue < alpha) and (sample_ultra['revenue'].mean() > sample_smart['revenue'].mean()):\n",
    "    print(\"Отвергаем нулевую гипотезу\")\n",
    "else:\n",
    "    print(\"Не получилось отвергнуть нулевую гипотезу\") "
   ]
  },
  {
   "cell_type": "markdown",
   "metadata": {},
   "source": [
    "Аналогично проверим вторую гипотезу о средней выручке с жителей Москвы и других городов.\n",
    "За нулевую гипотезу принимаем следующее утверждение: выручка пользователей Москвы отличается от выручки пользователей других регионов.\n",
    "За альтернативную - выручка равны."
   ]
  },
  {
   "cell_type": "code",
   "execution_count": 47,
   "metadata": {},
   "outputs": [],
   "source": [
    "sample_moscow = data[data['city'] == 'Москва']\n",
    "sample_regions = data[data['city'] != 'Москва']"
   ]
  },
  {
   "cell_type": "code",
   "execution_count": 48,
   "metadata": {},
   "outputs": [
    {
     "data": {
      "text/plain": [
       "0.5400751614511182"
      ]
     },
     "execution_count": 48,
     "metadata": {},
     "output_type": "execute_result"
    }
   ],
   "source": [
    "alpha = 0.05 # примем стандартный уровень критической значимости\n",
    "results2 = st.ttest_ind(\n",
    "    sample_moscow['revenue'], \n",
    "    sample_regions['revenue']) # найдем p-значение\n",
    "results2.pvalue"
   ]
  },
  {
   "cell_type": "code",
   "execution_count": 49,
   "metadata": {},
   "outputs": [
    {
     "name": "stdout",
     "output_type": "stream",
     "text": [
      "Принимаем нулевую гипотезу\n"
     ]
    }
   ],
   "source": [
    "if (results2.pvalue > alpha):\n",
    "    print(\"Принимаем нулевую гипотезу\")\n",
    "else:\n",
    "    print(\"Отвергаем нулевую гипотезу\") "
   ]
  },
  {
   "cell_type": "markdown",
   "metadata": {},
   "source": [
    "## Выводы"
   ]
  },
  {
   "cell_type": "markdown",
   "metadata": {},
   "source": [
    "В результате выполнения проекта произведена предобработка данных: оптимизированы типы, удаленные неиспользуемые столбцы, проверено наличие дубликатов.\n",
    "\n",
    "Создана результирующая таблица для каждого пользователя с разбивкой по месяцам, где подсчитано количество сделанных звонков, израсходованных минут, отправленных сообщений, объём трафика, выручка.\n",
    "\n",
    "Произведён анализ поведения пользователей разных тарифных планов: <br>\n",
    "Смарт: в среднем используется 423 минут, 34 сообщения и 7 гигибайт.<br>\n",
    "Ультра: в среднем используется 528 минут, 51 сообщение и 19 гигабайт.\n",
    "\n",
    "Посчитаны дисперсии данных величин и стандартные отклонения, построены гистограммы."
   ]
  },
  {
   "cell_type": "code",
   "execution_count": 50,
   "metadata": {},
   "outputs": [
    {
     "data": {
      "text/html": [
       "<div>\n",
       "<style scoped>\n",
       "    .dataframe tbody tr th:only-of-type {\n",
       "        vertical-align: middle;\n",
       "    }\n",
       "\n",
       "    .dataframe tbody tr th {\n",
       "        vertical-align: top;\n",
       "    }\n",
       "\n",
       "    .dataframe thead th {\n",
       "        text-align: right;\n",
       "    }\n",
       "</style>\n",
       "<table border=\"1\" class=\"dataframe\">\n",
       "  <thead>\n",
       "    <tr style=\"text-align: right;\">\n",
       "      <th></th>\n",
       "      <th>messages_included</th>\n",
       "      <th>mb_per_month_included</th>\n",
       "      <th>minutes_included</th>\n",
       "      <th>rub_monthly_fee</th>\n",
       "      <th>rub_per_gb</th>\n",
       "      <th>rub_per_message</th>\n",
       "      <th>rub_per_minute</th>\n",
       "      <th>tariff_name</th>\n",
       "    </tr>\n",
       "  </thead>\n",
       "  <tbody>\n",
       "    <tr>\n",
       "      <th>0</th>\n",
       "      <td>50</td>\n",
       "      <td>15360</td>\n",
       "      <td>500</td>\n",
       "      <td>550</td>\n",
       "      <td>200</td>\n",
       "      <td>3</td>\n",
       "      <td>3</td>\n",
       "      <td>smart</td>\n",
       "    </tr>\n",
       "    <tr>\n",
       "      <th>1</th>\n",
       "      <td>232</td>\n",
       "      <td>30720</td>\n",
       "      <td>3000</td>\n",
       "      <td>1950</td>\n",
       "      <td>150</td>\n",
       "      <td>1</td>\n",
       "      <td>1</td>\n",
       "      <td>ultra</td>\n",
       "    </tr>\n",
       "  </tbody>\n",
       "</table>\n",
       "</div>"
      ],
      "text/plain": [
       "   messages_included  mb_per_month_included  minutes_included  \\\n",
       "0                 50                  15360               500   \n",
       "1                232                  30720              3000   \n",
       "\n",
       "   rub_monthly_fee  rub_per_gb  rub_per_message  rub_per_minute tariff_name  \n",
       "0              550         200                3               3       smart  \n",
       "1             1950         150                1               1       ultra  "
      ]
     },
     "execution_count": 50,
     "metadata": {},
     "output_type": "execute_result"
    }
   ],
   "source": [
    "tariffs.head()"
   ]
  },
  {
   "cell_type": "markdown",
   "metadata": {},
   "source": [
    "Проверены гипотезы о средней выручке пользователей тарифов «Ультра» и «Смарт», а также о средней выручке пользователей из Москвы и регионов. Принятые нулевые гипотезы о равенстве соответствующих средних значений отвергнуты в результате применения метода scipy.stats.ttest_ind. <br>\n",
    "Резюмируя выше сказанное, тариф \"Ультра\" в большинстве случаев приносит больше денег, чем тариф \"Смарт\"."
   ]
  }
 ],
 "metadata": {
  "ExecuteTimeLog": [
   {
    "duration": 101,
    "start_time": "2022-01-05T18:21:03.563Z"
   },
   {
    "duration": 1236,
    "start_time": "2022-01-05T18:24:32.409Z"
   },
   {
    "duration": 5,
    "start_time": "2022-01-05T18:24:36.048Z"
   },
   {
    "duration": 88,
    "start_time": "2022-01-05T18:26:14.014Z"
   },
   {
    "duration": 55,
    "start_time": "2022-01-05T18:27:32.278Z"
   },
   {
    "duration": 34,
    "start_time": "2022-01-05T18:27:51.908Z"
   },
   {
    "duration": 15,
    "start_time": "2022-01-05T18:28:18.239Z"
   },
   {
    "duration": 379,
    "start_time": "2022-01-05T18:29:19.507Z"
   },
   {
    "duration": 9,
    "start_time": "2022-01-05T18:29:48.417Z"
   },
   {
    "duration": 18,
    "start_time": "2022-01-05T18:30:07.693Z"
   },
   {
    "duration": 10,
    "start_time": "2022-01-05T18:30:58.230Z"
   },
   {
    "duration": 16,
    "start_time": "2022-01-05T18:31:08.780Z"
   },
   {
    "duration": 22,
    "start_time": "2022-01-05T18:31:22.674Z"
   },
   {
    "duration": 223,
    "start_time": "2022-01-05T18:32:40.410Z"
   },
   {
    "duration": 15,
    "start_time": "2022-01-05T18:33:01.940Z"
   },
   {
    "duration": 274,
    "start_time": "2022-01-05T18:35:16.509Z"
   },
   {
    "duration": 138,
    "start_time": "2022-01-05T18:35:19.933Z"
   },
   {
    "duration": 12,
    "start_time": "2022-01-05T18:35:21.852Z"
   },
   {
    "duration": 203,
    "start_time": "2022-01-05T18:37:37.093Z"
   },
   {
    "duration": 16,
    "start_time": "2022-01-05T18:37:39.137Z"
   },
   {
    "duration": 1855,
    "start_time": "2022-01-05T18:39:50.856Z"
   },
   {
    "duration": 1940,
    "start_time": "2022-01-05T18:40:16.479Z"
   },
   {
    "duration": 23,
    "start_time": "2022-01-05T18:40:28.501Z"
   },
   {
    "duration": 15,
    "start_time": "2022-01-05T18:40:33.237Z"
   },
   {
    "duration": 12,
    "start_time": "2022-01-05T18:40:46.407Z"
   },
   {
    "duration": 192,
    "start_time": "2022-01-05T18:46:25.368Z"
   },
   {
    "duration": 15,
    "start_time": "2022-01-05T19:03:22.984Z"
   },
   {
    "duration": 7,
    "start_time": "2022-01-05T19:09:19.477Z"
   },
   {
    "duration": 12,
    "start_time": "2022-01-05T19:11:07.735Z"
   },
   {
    "duration": 3,
    "start_time": "2022-01-05T19:15:42.326Z"
   },
   {
    "duration": 39,
    "start_time": "2022-01-05T19:18:19.553Z"
   },
   {
    "duration": 13,
    "start_time": "2022-01-05T19:18:27.944Z"
   },
   {
    "duration": 90,
    "start_time": "2022-01-05T19:20:44.992Z"
   },
   {
    "duration": 7131,
    "start_time": "2022-01-05T19:21:38.985Z"
   },
   {
    "duration": 93,
    "start_time": "2022-01-05T19:22:03.256Z"
   },
   {
    "duration": 6975,
    "start_time": "2022-01-05T19:23:23.802Z"
   },
   {
    "duration": 94,
    "start_time": "2022-01-05T19:23:32.036Z"
   },
   {
    "duration": 69,
    "start_time": "2022-01-05T19:27:59.770Z"
   },
   {
    "duration": 17,
    "start_time": "2022-01-05T19:28:16.243Z"
   },
   {
    "duration": 59,
    "start_time": "2022-01-05T19:36:52.196Z"
   },
   {
    "duration": 39,
    "start_time": "2022-01-05T19:36:56.014Z"
   },
   {
    "duration": 678,
    "start_time": "2022-01-05T19:39:03.919Z"
   },
   {
    "duration": 281,
    "start_time": "2022-01-05T19:39:31.217Z"
   },
   {
    "duration": 289,
    "start_time": "2022-01-05T19:40:48.119Z"
   },
   {
    "duration": 63,
    "start_time": "2022-01-05T19:41:16.759Z"
   },
   {
    "duration": 84,
    "start_time": "2022-01-05T19:41:24.469Z"
   },
   {
    "duration": 21,
    "start_time": "2022-01-05T19:46:26.562Z"
   },
   {
    "duration": 12,
    "start_time": "2022-01-05T19:49:41.954Z"
   },
   {
    "duration": 850,
    "start_time": "2022-01-05T19:53:09.526Z"
   },
   {
    "duration": 33,
    "start_time": "2022-01-05T19:53:10.379Z"
   },
   {
    "duration": 22,
    "start_time": "2022-01-05T19:53:10.415Z"
   },
   {
    "duration": 234,
    "start_time": "2022-01-05T19:53:10.440Z"
   },
   {
    "duration": 14,
    "start_time": "2022-01-05T19:53:10.676Z"
   },
   {
    "duration": 151,
    "start_time": "2022-01-05T19:53:10.692Z"
   },
   {
    "duration": 20,
    "start_time": "2022-01-05T19:53:10.846Z"
   },
   {
    "duration": 216,
    "start_time": "2022-01-05T19:53:10.869Z"
   },
   {
    "duration": 14,
    "start_time": "2022-01-05T19:53:11.089Z"
   },
   {
    "duration": 22,
    "start_time": "2022-01-05T19:53:11.106Z"
   },
   {
    "duration": 37,
    "start_time": "2022-01-05T19:53:11.131Z"
   },
   {
    "duration": 14,
    "start_time": "2022-01-05T19:53:11.171Z"
   },
   {
    "duration": 160,
    "start_time": "2022-01-05T19:53:11.188Z"
   },
   {
    "duration": 41,
    "start_time": "2022-01-05T19:53:11.350Z"
   },
   {
    "duration": 87,
    "start_time": "2022-01-05T19:53:11.394Z"
   },
   {
    "duration": 65,
    "start_time": "2022-01-05T19:53:11.419Z"
   },
   {
    "duration": 6670,
    "start_time": "2022-01-05T19:53:28.776Z"
   },
   {
    "duration": 45,
    "start_time": "2022-01-05T19:59:39.299Z"
   },
   {
    "duration": 11,
    "start_time": "2022-01-05T19:59:54.109Z"
   },
   {
    "duration": 263,
    "start_time": "2022-01-05T20:02:24.684Z"
   },
   {
    "duration": 4,
    "start_time": "2022-01-05T20:02:32.792Z"
   },
   {
    "duration": 260,
    "start_time": "2022-01-05T20:02:39.795Z"
   },
   {
    "duration": 283,
    "start_time": "2022-01-05T20:02:50.829Z"
   },
   {
    "duration": 350,
    "start_time": "2022-01-05T20:03:03.206Z"
   },
   {
    "duration": 6,
    "start_time": "2022-01-05T20:03:08.852Z"
   },
   {
    "duration": 277,
    "start_time": "2022-01-05T20:03:30.660Z"
   },
   {
    "duration": 842,
    "start_time": "2022-01-05T20:06:35.797Z"
   },
   {
    "duration": 34,
    "start_time": "2022-01-05T20:06:36.642Z"
   },
   {
    "duration": 20,
    "start_time": "2022-01-05T20:06:36.679Z"
   },
   {
    "duration": 258,
    "start_time": "2022-01-05T20:06:36.702Z"
   },
   {
    "duration": 14,
    "start_time": "2022-01-05T20:06:36.967Z"
   },
   {
    "duration": 165,
    "start_time": "2022-01-05T20:06:36.984Z"
   },
   {
    "duration": 17,
    "start_time": "2022-01-05T20:06:37.152Z"
   },
   {
    "duration": 216,
    "start_time": "2022-01-05T20:06:37.172Z"
   },
   {
    "duration": 16,
    "start_time": "2022-01-05T20:06:37.390Z"
   },
   {
    "duration": 28,
    "start_time": "2022-01-05T20:06:37.408Z"
   },
   {
    "duration": 29,
    "start_time": "2022-01-05T20:06:37.439Z"
   },
   {
    "duration": 13,
    "start_time": "2022-01-05T20:06:37.470Z"
   },
   {
    "duration": 170,
    "start_time": "2022-01-05T20:06:37.486Z"
   },
   {
    "duration": 37,
    "start_time": "2022-01-05T20:06:37.658Z"
   },
   {
    "duration": 49,
    "start_time": "2022-01-05T20:06:37.698Z"
   },
   {
    "duration": 20,
    "start_time": "2022-01-05T20:06:48.423Z"
   },
   {
    "duration": 21,
    "start_time": "2022-01-05T20:07:02.241Z"
   },
   {
    "duration": 103,
    "start_time": "2022-01-05T20:09:19.012Z"
   },
   {
    "duration": 5,
    "start_time": "2022-01-05T20:09:27.570Z"
   },
   {
    "duration": 14,
    "start_time": "2022-01-05T20:09:38.292Z"
   },
   {
    "duration": 936,
    "start_time": "2022-01-05T20:10:40.517Z"
   },
   {
    "duration": 35,
    "start_time": "2022-01-05T20:10:41.456Z"
   },
   {
    "duration": 22,
    "start_time": "2022-01-05T20:10:41.495Z"
   },
   {
    "duration": 253,
    "start_time": "2022-01-05T20:10:41.520Z"
   },
   {
    "duration": 14,
    "start_time": "2022-01-05T20:10:41.775Z"
   },
   {
    "duration": 164,
    "start_time": "2022-01-05T20:10:41.792Z"
   },
   {
    "duration": 18,
    "start_time": "2022-01-05T20:10:41.959Z"
   },
   {
    "duration": 310,
    "start_time": "2022-01-05T20:10:41.981Z"
   },
   {
    "duration": 21,
    "start_time": "2022-01-05T20:10:42.294Z"
   },
   {
    "duration": 31,
    "start_time": "2022-01-05T20:10:42.317Z"
   },
   {
    "duration": 26,
    "start_time": "2022-01-05T20:10:42.351Z"
   },
   {
    "duration": 23,
    "start_time": "2022-01-05T20:10:42.379Z"
   },
   {
    "duration": 163,
    "start_time": "2022-01-05T20:10:42.405Z"
   },
   {
    "duration": 32,
    "start_time": "2022-01-05T20:10:42.570Z"
   },
   {
    "duration": 31,
    "start_time": "2022-01-05T20:10:42.604Z"
   },
   {
    "duration": 32,
    "start_time": "2022-01-05T20:10:42.638Z"
   },
   {
    "duration": 337,
    "start_time": "2022-01-06T18:50:02.503Z"
   },
   {
    "duration": 818,
    "start_time": "2022-01-06T18:50:09.461Z"
   },
   {
    "duration": 33,
    "start_time": "2022-01-06T18:50:10.282Z"
   },
   {
    "duration": 21,
    "start_time": "2022-01-06T18:50:10.319Z"
   },
   {
    "duration": 239,
    "start_time": "2022-01-06T18:50:10.344Z"
   },
   {
    "duration": 14,
    "start_time": "2022-01-06T18:50:10.586Z"
   },
   {
    "duration": 133,
    "start_time": "2022-01-06T18:50:10.618Z"
   },
   {
    "duration": 11,
    "start_time": "2022-01-06T18:50:10.753Z"
   },
   {
    "duration": 207,
    "start_time": "2022-01-06T18:50:10.767Z"
   },
   {
    "duration": 14,
    "start_time": "2022-01-06T18:50:10.976Z"
   },
   {
    "duration": 33,
    "start_time": "2022-01-06T18:50:10.993Z"
   },
   {
    "duration": 14,
    "start_time": "2022-01-06T18:50:11.029Z"
   },
   {
    "duration": 14,
    "start_time": "2022-01-06T18:50:11.046Z"
   },
   {
    "duration": 174,
    "start_time": "2022-01-06T18:50:11.063Z"
   },
   {
    "duration": 32,
    "start_time": "2022-01-06T18:50:11.240Z"
   },
   {
    "duration": 53,
    "start_time": "2022-01-06T18:50:11.275Z"
   },
   {
    "duration": 10,
    "start_time": "2022-01-06T18:50:11.331Z"
   },
   {
    "duration": 7159,
    "start_time": "2022-01-06T18:50:11.344Z"
   },
   {
    "duration": 20,
    "start_time": "2022-01-06T18:50:36.009Z"
   },
   {
    "duration": 103,
    "start_time": "2022-01-06T18:52:50.509Z"
   },
   {
    "duration": 294,
    "start_time": "2022-01-06T18:53:44.451Z"
   },
   {
    "duration": 36,
    "start_time": "2022-01-06T18:54:02.164Z"
   },
   {
    "duration": 322,
    "start_time": "2022-01-06T18:54:14.092Z"
   },
   {
    "duration": 10,
    "start_time": "2022-01-06T18:54:21.720Z"
   },
   {
    "duration": 26,
    "start_time": "2022-01-06T18:54:55.525Z"
   },
   {
    "duration": 10,
    "start_time": "2022-01-06T18:54:59.312Z"
   },
   {
    "duration": 23,
    "start_time": "2022-01-06T18:56:32.183Z"
   },
   {
    "duration": 24,
    "start_time": "2022-01-06T18:57:58.126Z"
   },
   {
    "duration": 13,
    "start_time": "2022-01-06T18:58:07.242Z"
   },
   {
    "duration": 23,
    "start_time": "2022-01-06T18:58:19.184Z"
   },
   {
    "duration": 10,
    "start_time": "2022-01-06T18:58:22.302Z"
   },
   {
    "duration": 30,
    "start_time": "2022-01-06T19:00:57.713Z"
   },
   {
    "duration": 10,
    "start_time": "2022-01-06T19:00:59.753Z"
   },
   {
    "duration": 837,
    "start_time": "2022-01-06T19:02:09.868Z"
   },
   {
    "duration": 32,
    "start_time": "2022-01-06T19:02:10.708Z"
   },
   {
    "duration": 19,
    "start_time": "2022-01-06T19:02:10.743Z"
   },
   {
    "duration": 238,
    "start_time": "2022-01-06T19:02:10.765Z"
   },
   {
    "duration": 19,
    "start_time": "2022-01-06T19:02:11.005Z"
   },
   {
    "duration": 139,
    "start_time": "2022-01-06T19:02:11.026Z"
   },
   {
    "duration": 13,
    "start_time": "2022-01-06T19:02:11.168Z"
   },
   {
    "duration": 210,
    "start_time": "2022-01-06T19:02:11.187Z"
   },
   {
    "duration": 25,
    "start_time": "2022-01-06T19:02:11.401Z"
   },
   {
    "duration": 21,
    "start_time": "2022-01-06T19:02:11.429Z"
   },
   {
    "duration": 13,
    "start_time": "2022-01-06T19:02:11.453Z"
   },
   {
    "duration": 14,
    "start_time": "2022-01-06T19:02:11.468Z"
   },
   {
    "duration": 173,
    "start_time": "2022-01-06T19:02:11.485Z"
   },
   {
    "duration": 32,
    "start_time": "2022-01-06T19:02:11.660Z"
   },
   {
    "duration": 48,
    "start_time": "2022-01-06T19:02:11.695Z"
   },
   {
    "duration": 12,
    "start_time": "2022-01-06T19:02:11.745Z"
   },
   {
    "duration": 22,
    "start_time": "2022-01-06T19:02:11.759Z"
   },
   {
    "duration": 49,
    "start_time": "2022-01-06T19:02:11.783Z"
   },
   {
    "duration": 11,
    "start_time": "2022-01-06T19:02:11.835Z"
   },
   {
    "duration": 39,
    "start_time": "2022-01-06T19:02:11.849Z"
   },
   {
    "duration": 7846,
    "start_time": "2022-01-06T19:02:11.891Z"
   },
   {
    "duration": -1566,
    "start_time": "2022-01-06T19:02:21.305Z"
   },
   {
    "duration": 29,
    "start_time": "2022-01-06T19:02:42.581Z"
   },
   {
    "duration": 11,
    "start_time": "2022-01-06T19:02:45.838Z"
   },
   {
    "duration": 17,
    "start_time": "2022-01-06T19:06:44.239Z"
   },
   {
    "duration": 15,
    "start_time": "2022-01-06T19:06:53.455Z"
   },
   {
    "duration": 21,
    "start_time": "2022-01-06T19:07:52.678Z"
   },
   {
    "duration": 15,
    "start_time": "2022-01-06T19:07:56.667Z"
   },
   {
    "duration": 15,
    "start_time": "2022-01-06T19:15:08.351Z"
   },
   {
    "duration": 18,
    "start_time": "2022-01-06T19:15:13.340Z"
   },
   {
    "duration": 10,
    "start_time": "2022-01-06T19:16:12.589Z"
   },
   {
    "duration": 289,
    "start_time": "2022-01-06T19:18:19.996Z"
   },
   {
    "duration": 9,
    "start_time": "2022-01-06T19:18:53.240Z"
   },
   {
    "duration": 295,
    "start_time": "2022-01-06T19:19:46.061Z"
   },
   {
    "duration": 301,
    "start_time": "2022-01-06T19:20:27.165Z"
   },
   {
    "duration": 710,
    "start_time": "2022-01-06T19:20:39.816Z"
   },
   {
    "duration": 8,
    "start_time": "2022-01-06T19:21:02.426Z"
   },
   {
    "duration": 10,
    "start_time": "2022-01-06T19:21:05.375Z"
   },
   {
    "duration": 332,
    "start_time": "2022-01-06T19:21:17.029Z"
   },
   {
    "duration": 306,
    "start_time": "2022-01-06T19:21:41.333Z"
   },
   {
    "duration": 11,
    "start_time": "2022-01-06T19:22:03.678Z"
   },
   {
    "duration": 24,
    "start_time": "2022-01-06T19:22:14.232Z"
   },
   {
    "duration": 9,
    "start_time": "2022-01-06T19:23:02.129Z"
   },
   {
    "duration": 11,
    "start_time": "2022-01-06T19:23:09.219Z"
   },
   {
    "duration": 23,
    "start_time": "2022-01-06T19:23:17.737Z"
   },
   {
    "duration": 102,
    "start_time": "2022-01-06T19:24:08.471Z"
   },
   {
    "duration": 16,
    "start_time": "2022-01-06T19:27:38.914Z"
   },
   {
    "duration": 27,
    "start_time": "2022-01-06T19:34:19.361Z"
   },
   {
    "duration": 10,
    "start_time": "2022-01-06T19:34:22.645Z"
   },
   {
    "duration": 21,
    "start_time": "2022-01-06T19:34:32.317Z"
   },
   {
    "duration": 298,
    "start_time": "2022-01-06T19:34:34.306Z"
   },
   {
    "duration": 9,
    "start_time": "2022-01-06T19:34:54.087Z"
   },
   {
    "duration": 14,
    "start_time": "2022-01-06T19:34:56.410Z"
   },
   {
    "duration": 856,
    "start_time": "2022-01-06T19:35:20.832Z"
   },
   {
    "duration": 32,
    "start_time": "2022-01-06T19:35:21.691Z"
   },
   {
    "duration": 20,
    "start_time": "2022-01-06T19:35:21.726Z"
   },
   {
    "duration": 230,
    "start_time": "2022-01-06T19:35:21.748Z"
   },
   {
    "duration": 13,
    "start_time": "2022-01-06T19:35:21.980Z"
   },
   {
    "duration": 151,
    "start_time": "2022-01-06T19:35:21.996Z"
   },
   {
    "duration": 11,
    "start_time": "2022-01-06T19:35:22.149Z"
   },
   {
    "duration": 202,
    "start_time": "2022-01-06T19:35:22.163Z"
   },
   {
    "duration": 14,
    "start_time": "2022-01-06T19:35:22.369Z"
   },
   {
    "duration": 37,
    "start_time": "2022-01-06T19:35:22.387Z"
   },
   {
    "duration": 11,
    "start_time": "2022-01-06T19:35:22.427Z"
   },
   {
    "duration": 12,
    "start_time": "2022-01-06T19:35:22.440Z"
   },
   {
    "duration": 173,
    "start_time": "2022-01-06T19:35:22.454Z"
   },
   {
    "duration": 31,
    "start_time": "2022-01-06T19:35:22.629Z"
   },
   {
    "duration": 30,
    "start_time": "2022-01-06T19:35:22.662Z"
   },
   {
    "duration": 33,
    "start_time": "2022-01-06T19:35:22.694Z"
   },
   {
    "duration": 22,
    "start_time": "2022-01-06T19:35:22.729Z"
   },
   {
    "duration": 26,
    "start_time": "2022-01-06T19:35:22.753Z"
   },
   {
    "duration": 39,
    "start_time": "2022-01-06T19:35:22.781Z"
   },
   {
    "duration": 29,
    "start_time": "2022-01-06T19:35:22.823Z"
   },
   {
    "duration": 34,
    "start_time": "2022-01-06T19:35:22.855Z"
   },
   {
    "duration": 33,
    "start_time": "2022-01-06T19:35:22.892Z"
   },
   {
    "duration": 22,
    "start_time": "2022-01-06T19:35:22.927Z"
   },
   {
    "duration": 13,
    "start_time": "2022-01-06T19:35:22.951Z"
   },
   {
    "duration": 11,
    "start_time": "2022-01-06T19:35:22.966Z"
   },
   {
    "duration": 51,
    "start_time": "2022-01-06T19:35:22.980Z"
   },
   {
    "duration": 6,
    "start_time": "2022-01-06T19:35:23.035Z"
   },
   {
    "duration": 157,
    "start_time": "2022-01-06T19:39:56.187Z"
   },
   {
    "duration": 18,
    "start_time": "2022-01-06T19:40:02.647Z"
   },
   {
    "duration": 3,
    "start_time": "2022-01-06T19:56:12.090Z"
   },
   {
    "duration": 85,
    "start_time": "2022-01-06T19:58:16.139Z"
   },
   {
    "duration": 415,
    "start_time": "2022-01-06T19:59:35.040Z"
   },
   {
    "duration": 11,
    "start_time": "2022-01-06T19:59:42.947Z"
   },
   {
    "duration": 11,
    "start_time": "2022-01-06T20:00:07.516Z"
   },
   {
    "duration": 15,
    "start_time": "2022-01-06T20:00:34.960Z"
   },
   {
    "duration": 11,
    "start_time": "2022-01-06T20:00:48.535Z"
   },
   {
    "duration": 10,
    "start_time": "2022-01-06T20:00:57.287Z"
   },
   {
    "duration": 10,
    "start_time": "2022-01-06T20:01:07.931Z"
   },
   {
    "duration": 93,
    "start_time": "2022-01-06T20:02:15.980Z"
   },
   {
    "duration": 329,
    "start_time": "2022-01-06T20:03:32.093Z"
   },
   {
    "duration": 10,
    "start_time": "2022-01-06T20:05:12.975Z"
   },
   {
    "duration": 7,
    "start_time": "2022-01-06T20:05:52.260Z"
   },
   {
    "duration": 7,
    "start_time": "2022-01-06T20:05:57.814Z"
   },
   {
    "duration": 885,
    "start_time": "2022-01-06T20:07:36.482Z"
   },
   {
    "duration": 33,
    "start_time": "2022-01-06T20:07:37.370Z"
   },
   {
    "duration": 20,
    "start_time": "2022-01-06T20:07:37.406Z"
   },
   {
    "duration": 237,
    "start_time": "2022-01-06T20:07:37.429Z"
   },
   {
    "duration": 14,
    "start_time": "2022-01-06T20:07:37.668Z"
   },
   {
    "duration": 149,
    "start_time": "2022-01-06T20:07:37.684Z"
   },
   {
    "duration": 12,
    "start_time": "2022-01-06T20:07:37.836Z"
   },
   {
    "duration": 211,
    "start_time": "2022-01-06T20:07:37.851Z"
   },
   {
    "duration": 14,
    "start_time": "2022-01-06T20:07:38.066Z"
   },
   {
    "duration": 35,
    "start_time": "2022-01-06T20:07:38.083Z"
   },
   {
    "duration": 14,
    "start_time": "2022-01-06T20:07:38.121Z"
   },
   {
    "duration": 14,
    "start_time": "2022-01-06T20:07:38.137Z"
   },
   {
    "duration": 157,
    "start_time": "2022-01-06T20:07:38.153Z"
   },
   {
    "duration": 30,
    "start_time": "2022-01-06T20:07:38.316Z"
   },
   {
    "duration": 30,
    "start_time": "2022-01-06T20:07:38.349Z"
   },
   {
    "duration": 12,
    "start_time": "2022-01-06T20:07:38.381Z"
   },
   {
    "duration": 42,
    "start_time": "2022-01-06T20:07:38.395Z"
   },
   {
    "duration": 25,
    "start_time": "2022-01-06T20:07:38.440Z"
   },
   {
    "duration": 8,
    "start_time": "2022-01-06T20:07:38.467Z"
   },
   {
    "duration": 56,
    "start_time": "2022-01-06T20:07:38.478Z"
   },
   {
    "duration": 30,
    "start_time": "2022-01-06T20:07:38.536Z"
   },
   {
    "duration": 10,
    "start_time": "2022-01-06T20:07:38.568Z"
   },
   {
    "duration": 48,
    "start_time": "2022-01-06T20:07:38.580Z"
   },
   {
    "duration": 12,
    "start_time": "2022-01-06T20:07:38.630Z"
   },
   {
    "duration": 9,
    "start_time": "2022-01-06T20:07:38.644Z"
   },
   {
    "duration": 17,
    "start_time": "2022-01-06T20:07:38.655Z"
   },
   {
    "duration": 198,
    "start_time": "2022-01-06T20:07:38.676Z"
   },
   {
    "duration": 10,
    "start_time": "2022-01-06T20:07:38.877Z"
   },
   {
    "duration": 27,
    "start_time": "2022-01-06T20:07:38.889Z"
   },
   {
    "duration": 10,
    "start_time": "2022-01-06T20:07:38.919Z"
   },
   {
    "duration": 6,
    "start_time": "2022-01-06T20:07:38.931Z"
   },
   {
    "duration": 23,
    "start_time": "2022-01-06T20:07:57.035Z"
   },
   {
    "duration": 10,
    "start_time": "2022-01-06T20:08:44.411Z"
   },
   {
    "duration": 10,
    "start_time": "2022-01-06T20:08:50.933Z"
   },
   {
    "duration": 15,
    "start_time": "2022-01-06T20:10:13.151Z"
   },
   {
    "duration": 11,
    "start_time": "2022-01-06T20:10:23.989Z"
   },
   {
    "duration": 11,
    "start_time": "2022-01-06T20:11:08.574Z"
   },
   {
    "duration": 13,
    "start_time": "2022-01-06T20:11:24.162Z"
   },
   {
    "duration": 11,
    "start_time": "2022-01-06T20:11:49.228Z"
   },
   {
    "duration": 396,
    "start_time": "2022-01-06T20:13:40.728Z"
   },
   {
    "duration": 13,
    "start_time": "2022-01-06T20:13:55.320Z"
   },
   {
    "duration": 12,
    "start_time": "2022-01-06T20:15:01.863Z"
   },
   {
    "duration": 10,
    "start_time": "2022-01-06T20:15:10.976Z"
   },
   {
    "duration": 9,
    "start_time": "2022-01-06T20:15:27.115Z"
   },
   {
    "duration": 9,
    "start_time": "2022-01-06T20:15:38.245Z"
   },
   {
    "duration": 23,
    "start_time": "2022-01-06T20:19:40.069Z"
   },
   {
    "duration": 50,
    "start_time": "2022-01-06T20:20:11.022Z"
   },
   {
    "duration": 6,
    "start_time": "2022-01-06T20:21:11.338Z"
   },
   {
    "duration": 323,
    "start_time": "2022-01-06T20:21:27.827Z"
   },
   {
    "duration": 9,
    "start_time": "2022-01-06T20:21:32.666Z"
   },
   {
    "duration": 8,
    "start_time": "2022-01-06T20:22:00.369Z"
   },
   {
    "duration": 7,
    "start_time": "2022-01-06T20:23:57.079Z"
   },
   {
    "duration": 6,
    "start_time": "2022-01-06T20:24:29.540Z"
   },
   {
    "duration": 282,
    "start_time": "2022-01-06T20:25:04.600Z"
   },
   {
    "duration": 7,
    "start_time": "2022-01-06T20:25:06.998Z"
   },
   {
    "duration": 6,
    "start_time": "2022-01-06T20:25:08.338Z"
   },
   {
    "duration": 5,
    "start_time": "2022-01-06T20:25:28.545Z"
   },
   {
    "duration": 5,
    "start_time": "2022-01-06T20:25:29.801Z"
   },
   {
    "duration": 355,
    "start_time": "2022-01-06T20:26:09.559Z"
   },
   {
    "duration": 299,
    "start_time": "2022-01-06T20:26:21.178Z"
   },
   {
    "duration": 12,
    "start_time": "2022-01-06T20:26:32.655Z"
   },
   {
    "duration": 10,
    "start_time": "2022-01-06T20:26:34.514Z"
   },
   {
    "duration": 10,
    "start_time": "2022-01-06T20:27:55.694Z"
   },
   {
    "duration": 13,
    "start_time": "2022-01-06T20:27:57.467Z"
   },
   {
    "duration": 12,
    "start_time": "2022-01-06T20:28:28.414Z"
   },
   {
    "duration": 10,
    "start_time": "2022-01-06T20:29:27.678Z"
   },
   {
    "duration": 12,
    "start_time": "2022-01-06T20:29:29.982Z"
   },
   {
    "duration": 619,
    "start_time": "2022-01-06T20:33:35.672Z"
   },
   {
    "duration": 104,
    "start_time": "2022-01-06T20:33:56.670Z"
   },
   {
    "duration": 3,
    "start_time": "2022-01-06T20:35:49.506Z"
   },
   {
    "duration": 619,
    "start_time": "2022-01-06T20:36:28.301Z"
   },
   {
    "duration": 335,
    "start_time": "2022-01-06T20:39:20.838Z"
   },
   {
    "duration": 341,
    "start_time": "2022-01-06T20:39:35.838Z"
   },
   {
    "duration": 4,
    "start_time": "2022-01-06T20:39:47.278Z"
   },
   {
    "duration": 545,
    "start_time": "2022-01-06T20:41:47.274Z"
   },
   {
    "duration": 533,
    "start_time": "2022-01-06T20:41:59.674Z"
   },
   {
    "duration": 325,
    "start_time": "2022-01-06T20:42:06.148Z"
   },
   {
    "duration": 353,
    "start_time": "2022-01-06T20:42:22.017Z"
   },
   {
    "duration": 482,
    "start_time": "2022-01-06T20:42:34.865Z"
   },
   {
    "duration": 396,
    "start_time": "2022-01-06T20:42:41.848Z"
   },
   {
    "duration": 372,
    "start_time": "2022-01-06T20:43:26.328Z"
   },
   {
    "duration": 356,
    "start_time": "2022-01-06T20:45:09.154Z"
   },
   {
    "duration": 431,
    "start_time": "2022-01-06T20:57:59.194Z"
   },
   {
    "duration": 379,
    "start_time": "2022-01-06T20:58:07.494Z"
   },
   {
    "duration": 10,
    "start_time": "2022-01-06T20:59:37.085Z"
   },
   {
    "duration": 12,
    "start_time": "2022-01-06T20:59:41.072Z"
   },
   {
    "duration": 11,
    "start_time": "2022-01-06T20:59:44.653Z"
   },
   {
    "duration": 11,
    "start_time": "2022-01-06T20:59:59.385Z"
   },
   {
    "duration": 10,
    "start_time": "2022-01-06T21:00:03.066Z"
   },
   {
    "duration": 11,
    "start_time": "2022-01-06T21:00:07.035Z"
   },
   {
    "duration": 10,
    "start_time": "2022-01-06T21:00:10.915Z"
   },
   {
    "duration": 10,
    "start_time": "2022-01-06T21:00:15.626Z"
   },
   {
    "duration": 11,
    "start_time": "2022-01-06T21:00:22.082Z"
   },
   {
    "duration": 372,
    "start_time": "2022-01-06T21:00:27.469Z"
   },
   {
    "duration": 387,
    "start_time": "2022-01-06T21:00:35.922Z"
   },
   {
    "duration": 377,
    "start_time": "2022-01-06T21:00:44.601Z"
   },
   {
    "duration": 12,
    "start_time": "2022-01-06T21:04:08.947Z"
   },
   {
    "duration": 328,
    "start_time": "2022-01-06T21:04:18.990Z"
   },
   {
    "duration": 486,
    "start_time": "2022-01-06T21:04:36.919Z"
   },
   {
    "duration": 12,
    "start_time": "2022-01-06T21:04:53.690Z"
   },
   {
    "duration": 10,
    "start_time": "2022-01-06T21:05:02.815Z"
   },
   {
    "duration": 12,
    "start_time": "2022-01-06T21:05:09.409Z"
   },
   {
    "duration": 862,
    "start_time": "2022-01-08T17:58:50.604Z"
   },
   {
    "duration": 57,
    "start_time": "2022-01-08T17:58:51.468Z"
   },
   {
    "duration": 22,
    "start_time": "2022-01-08T17:58:51.528Z"
   },
   {
    "duration": 229,
    "start_time": "2022-01-08T17:58:51.553Z"
   },
   {
    "duration": 14,
    "start_time": "2022-01-08T17:58:51.785Z"
   },
   {
    "duration": 142,
    "start_time": "2022-01-08T17:58:51.801Z"
   },
   {
    "duration": 20,
    "start_time": "2022-01-08T17:58:51.946Z"
   },
   {
    "duration": 202,
    "start_time": "2022-01-08T17:58:51.970Z"
   },
   {
    "duration": 15,
    "start_time": "2022-01-08T17:58:52.175Z"
   },
   {
    "duration": 24,
    "start_time": "2022-01-08T17:58:52.192Z"
   },
   {
    "duration": 13,
    "start_time": "2022-01-08T17:58:52.219Z"
   },
   {
    "duration": 37,
    "start_time": "2022-01-08T17:58:52.235Z"
   },
   {
    "duration": 153,
    "start_time": "2022-01-08T17:58:52.274Z"
   },
   {
    "duration": 39,
    "start_time": "2022-01-08T17:58:52.429Z"
   },
   {
    "duration": 32,
    "start_time": "2022-01-08T17:58:52.470Z"
   },
   {
    "duration": 11,
    "start_time": "2022-01-08T17:58:52.504Z"
   },
   {
    "duration": 49,
    "start_time": "2022-01-08T17:58:52.517Z"
   },
   {
    "duration": 25,
    "start_time": "2022-01-08T17:58:52.568Z"
   },
   {
    "duration": 10,
    "start_time": "2022-01-08T17:58:52.595Z"
   },
   {
    "duration": 52,
    "start_time": "2022-01-08T17:58:52.607Z"
   },
   {
    "duration": 32,
    "start_time": "2022-01-08T17:58:52.662Z"
   },
   {
    "duration": 10,
    "start_time": "2022-01-08T17:58:52.696Z"
   },
   {
    "duration": 20,
    "start_time": "2022-01-08T17:58:52.711Z"
   },
   {
    "duration": 34,
    "start_time": "2022-01-08T17:58:52.734Z"
   },
   {
    "duration": 9,
    "start_time": "2022-01-08T17:58:52.770Z"
   },
   {
    "duration": 16,
    "start_time": "2022-01-08T17:58:52.781Z"
   },
   {
    "duration": 196,
    "start_time": "2022-01-08T17:58:52.800Z"
   },
   {
    "duration": 10,
    "start_time": "2022-01-08T17:58:52.998Z"
   },
   {
    "duration": 9,
    "start_time": "2022-01-08T17:58:53.010Z"
   },
   {
    "duration": 39,
    "start_time": "2022-01-08T17:58:53.021Z"
   },
   {
    "duration": 10,
    "start_time": "2022-01-08T17:58:53.062Z"
   },
   {
    "duration": 9,
    "start_time": "2022-01-08T17:58:53.074Z"
   },
   {
    "duration": 9,
    "start_time": "2022-01-08T17:58:53.086Z"
   },
   {
    "duration": 10,
    "start_time": "2022-01-08T17:58:53.097Z"
   },
   {
    "duration": 57,
    "start_time": "2022-01-08T17:58:53.110Z"
   },
   {
    "duration": 9,
    "start_time": "2022-01-08T17:58:53.170Z"
   },
   {
    "duration": 414,
    "start_time": "2022-01-08T17:58:53.181Z"
   },
   {
    "duration": 374,
    "start_time": "2022-01-08T17:58:53.598Z"
   },
   {
    "duration": 367,
    "start_time": "2022-01-08T17:58:53.974Z"
   },
   {
    "duration": 20,
    "start_time": "2022-01-08T17:58:54.343Z"
   },
   {
    "duration": 10,
    "start_time": "2022-01-08T17:58:54.365Z"
   },
   {
    "duration": 11,
    "start_time": "2022-01-08T17:58:54.378Z"
   },
   {
    "duration": 9,
    "start_time": "2022-01-08T17:58:54.392Z"
   },
   {
    "duration": 57,
    "start_time": "2022-01-08T17:58:54.404Z"
   },
   {
    "duration": 11,
    "start_time": "2022-01-08T17:58:54.463Z"
   },
   {
    "duration": 10,
    "start_time": "2022-01-08T17:58:54.476Z"
   },
   {
    "duration": 13,
    "start_time": "2022-01-08T17:58:54.489Z"
   },
   {
    "duration": 10,
    "start_time": "2022-01-08T17:58:54.504Z"
   },
   {
    "duration": 440,
    "start_time": "2022-01-08T17:58:54.560Z"
   },
   {
    "duration": 376,
    "start_time": "2022-01-08T17:58:55.003Z"
   },
   {
    "duration": 377,
    "start_time": "2022-01-08T17:58:55.382Z"
   },
   {
    "duration": 142,
    "start_time": "2022-01-08T18:03:40.827Z"
   },
   {
    "duration": 11,
    "start_time": "2022-01-08T18:03:51.052Z"
   },
   {
    "duration": 27,
    "start_time": "2022-01-08T18:03:56.948Z"
   },
   {
    "duration": 453,
    "start_time": "2022-01-08T18:06:21.919Z"
   },
   {
    "duration": 461,
    "start_time": "2022-01-08T18:06:40.919Z"
   },
   {
    "duration": 628,
    "start_time": "2022-01-08T18:06:47.654Z"
   },
   {
    "duration": 7,
    "start_time": "2022-01-08T18:07:10.936Z"
   },
   {
    "duration": 6,
    "start_time": "2022-01-08T18:10:35.816Z"
   },
   {
    "duration": 11,
    "start_time": "2022-01-08T18:13:00.359Z"
   },
   {
    "duration": 10,
    "start_time": "2022-01-08T18:16:47.188Z"
   },
   {
    "duration": 11,
    "start_time": "2022-01-08T18:16:55.063Z"
   },
   {
    "duration": 18,
    "start_time": "2022-01-08T18:18:17.336Z"
   },
   {
    "duration": 134,
    "start_time": "2022-01-08T18:18:48.843Z"
   },
   {
    "duration": 68,
    "start_time": "2022-01-08T18:19:10.919Z"
   },
   {
    "duration": 87,
    "start_time": "2022-01-08T18:19:29.084Z"
   },
   {
    "duration": 10,
    "start_time": "2022-01-08T18:19:38.780Z"
   },
   {
    "duration": 7,
    "start_time": "2022-01-08T18:19:54.824Z"
   },
   {
    "duration": 7,
    "start_time": "2022-01-08T18:20:03.294Z"
   },
   {
    "duration": 6,
    "start_time": "2022-01-08T18:20:29.098Z"
   },
   {
    "duration": 1382,
    "start_time": "2022-01-10T06:48:29.188Z"
   },
   {
    "duration": 34,
    "start_time": "2022-01-10T06:48:30.572Z"
   },
   {
    "duration": 21,
    "start_time": "2022-01-10T06:48:30.610Z"
   },
   {
    "duration": 23,
    "start_time": "2022-01-10T06:48:30.634Z"
   },
   {
    "duration": 234,
    "start_time": "2022-01-10T06:48:30.659Z"
   },
   {
    "duration": 13,
    "start_time": "2022-01-10T06:48:30.895Z"
   },
   {
    "duration": 180,
    "start_time": "2022-01-10T06:48:30.910Z"
   },
   {
    "duration": 119,
    "start_time": "2022-01-10T06:48:31.092Z"
   },
   {
    "duration": 17,
    "start_time": "2022-01-10T06:48:31.215Z"
   },
   {
    "duration": 77,
    "start_time": "2022-01-10T06:48:31.235Z"
   },
   {
    "duration": 177,
    "start_time": "2022-01-10T06:48:31.324Z"
   },
   {
    "duration": 22,
    "start_time": "2022-01-10T06:48:31.503Z"
   },
   {
    "duration": 138,
    "start_time": "2022-01-10T06:48:31.527Z"
   },
   {
    "duration": 20,
    "start_time": "2022-01-10T06:48:31.668Z"
   },
   {
    "duration": 13,
    "start_time": "2022-01-10T06:48:31.691Z"
   },
   {
    "duration": 20,
    "start_time": "2022-01-10T06:48:31.706Z"
   },
   {
    "duration": 136,
    "start_time": "2022-01-10T06:48:31.728Z"
   },
   {
    "duration": 30,
    "start_time": "2022-01-10T06:48:31.866Z"
   },
   {
    "duration": 45,
    "start_time": "2022-01-10T06:48:31.899Z"
   },
   {
    "duration": 10,
    "start_time": "2022-01-10T06:48:31.947Z"
   },
   {
    "duration": 22,
    "start_time": "2022-01-10T06:48:31.959Z"
   },
   {
    "duration": 43,
    "start_time": "2022-01-10T06:48:31.983Z"
   },
   {
    "duration": 9,
    "start_time": "2022-01-10T06:48:32.029Z"
   },
   {
    "duration": 42,
    "start_time": "2022-01-10T06:48:32.040Z"
   },
   {
    "duration": 29,
    "start_time": "2022-01-10T06:48:32.084Z"
   },
   {
    "duration": 10,
    "start_time": "2022-01-10T06:48:32.122Z"
   },
   {
    "duration": 36,
    "start_time": "2022-01-10T06:48:32.138Z"
   },
   {
    "duration": 17,
    "start_time": "2022-01-10T06:48:32.177Z"
   },
   {
    "duration": 26,
    "start_time": "2022-01-10T06:48:32.197Z"
   },
   {
    "duration": 23,
    "start_time": "2022-01-10T06:48:32.225Z"
   },
   {
    "duration": 163,
    "start_time": "2022-01-10T06:48:32.251Z"
   },
   {
    "duration": 13,
    "start_time": "2022-01-10T06:48:32.417Z"
   },
   {
    "duration": 9,
    "start_time": "2022-01-10T06:48:32.432Z"
   },
   {
    "duration": 12,
    "start_time": "2022-01-10T06:48:32.444Z"
   },
   {
    "duration": 11,
    "start_time": "2022-01-10T06:48:32.458Z"
   },
   {
    "duration": 59,
    "start_time": "2022-01-10T06:48:32.472Z"
   },
   {
    "duration": 12,
    "start_time": "2022-01-10T06:48:32.533Z"
   },
   {
    "duration": 11,
    "start_time": "2022-01-10T06:48:32.548Z"
   },
   {
    "duration": 11,
    "start_time": "2022-01-10T06:48:32.562Z"
   },
   {
    "duration": 12,
    "start_time": "2022-01-10T06:48:32.624Z"
   },
   {
    "duration": 387,
    "start_time": "2022-01-10T06:48:32.638Z"
   },
   {
    "duration": 350,
    "start_time": "2022-01-10T06:48:33.027Z"
   },
   {
    "duration": 350,
    "start_time": "2022-01-10T06:48:33.380Z"
   },
   {
    "duration": 10,
    "start_time": "2022-01-10T06:48:33.732Z"
   },
   {
    "duration": 13,
    "start_time": "2022-01-10T06:48:33.744Z"
   },
   {
    "duration": 21,
    "start_time": "2022-01-10T06:48:33.759Z"
   },
   {
    "duration": 30,
    "start_time": "2022-01-10T06:48:33.782Z"
   },
   {
    "duration": 14,
    "start_time": "2022-01-10T06:48:33.815Z"
   },
   {
    "duration": 13,
    "start_time": "2022-01-10T06:48:33.831Z"
   },
   {
    "duration": 17,
    "start_time": "2022-01-10T06:48:33.846Z"
   },
   {
    "duration": 14,
    "start_time": "2022-01-10T06:48:33.865Z"
   },
   {
    "duration": 24,
    "start_time": "2022-01-10T06:48:33.882Z"
   },
   {
    "duration": 345,
    "start_time": "2022-01-10T06:48:33.908Z"
   },
   {
    "duration": 384,
    "start_time": "2022-01-10T06:48:34.256Z"
   },
   {
    "duration": 345,
    "start_time": "2022-01-10T06:48:34.643Z"
   },
   {
    "duration": 10,
    "start_time": "2022-01-10T06:48:34.990Z"
   },
   {
    "duration": 22,
    "start_time": "2022-01-10T06:48:35.002Z"
   },
   {
    "duration": 21,
    "start_time": "2022-01-10T06:48:35.027Z"
   },
   {
    "duration": 18,
    "start_time": "2022-01-10T06:48:35.050Z"
   },
   {
    "duration": 27,
    "start_time": "2022-01-10T06:48:35.070Z"
   },
   {
    "duration": 18,
    "start_time": "2022-01-10T06:48:35.099Z"
   },
   {
    "duration": 25,
    "start_time": "2022-01-10T06:50:27.260Z"
   },
   {
    "duration": 9,
    "start_time": "2022-01-10T06:51:46.573Z"
   },
   {
    "duration": 352,
    "start_time": "2022-01-10T18:47:42.468Z"
   },
   {
    "duration": 6,
    "start_time": "2022-01-10T18:47:59.867Z"
   },
   {
    "duration": 43,
    "start_time": "2022-01-10T18:47:59.876Z"
   },
   {
    "duration": 41,
    "start_time": "2022-01-10T18:47:59.922Z"
   },
   {
    "duration": 25,
    "start_time": "2022-01-10T18:47:59.965Z"
   },
   {
    "duration": 249,
    "start_time": "2022-01-10T18:48:00.003Z"
   },
   {
    "duration": 15,
    "start_time": "2022-01-10T18:48:00.256Z"
   },
   {
    "duration": 261,
    "start_time": "2022-01-10T18:48:00.275Z"
   },
   {
    "duration": 146,
    "start_time": "2022-01-10T18:48:00.539Z"
   },
   {
    "duration": 13,
    "start_time": "2022-01-10T18:48:00.688Z"
   },
   {
    "duration": 113,
    "start_time": "2022-01-10T18:48:00.703Z"
   },
   {
    "duration": 203,
    "start_time": "2022-01-10T18:48:00.818Z"
   },
   {
    "duration": 16,
    "start_time": "2022-01-10T18:48:01.023Z"
   },
   {
    "duration": 180,
    "start_time": "2022-01-10T18:48:01.042Z"
   },
   {
    "duration": 26,
    "start_time": "2022-01-10T18:48:01.224Z"
   },
   {
    "duration": 41,
    "start_time": "2022-01-10T18:48:01.252Z"
   },
   {
    "duration": 45,
    "start_time": "2022-01-10T18:48:01.296Z"
   },
   {
    "duration": 156,
    "start_time": "2022-01-10T18:48:01.344Z"
   },
   {
    "duration": 32,
    "start_time": "2022-01-10T18:48:01.503Z"
   },
   {
    "duration": 51,
    "start_time": "2022-01-10T18:48:01.537Z"
   },
   {
    "duration": 11,
    "start_time": "2022-01-10T18:48:01.591Z"
   },
   {
    "duration": 32,
    "start_time": "2022-01-10T18:48:01.605Z"
   },
   {
    "duration": 45,
    "start_time": "2022-01-10T18:48:01.640Z"
   },
   {
    "duration": 22,
    "start_time": "2022-01-10T18:48:01.687Z"
   },
   {
    "duration": 51,
    "start_time": "2022-01-10T18:48:01.712Z"
   },
   {
    "duration": 27,
    "start_time": "2022-01-10T18:48:01.765Z"
   },
   {
    "duration": 10,
    "start_time": "2022-01-10T18:48:01.795Z"
   },
   {
    "duration": 58,
    "start_time": "2022-01-10T18:48:01.808Z"
   },
   {
    "duration": 14,
    "start_time": "2022-01-10T18:48:01.869Z"
   },
   {
    "duration": 11,
    "start_time": "2022-01-10T18:48:01.885Z"
   },
   {
    "duration": 25,
    "start_time": "2022-01-10T18:48:01.899Z"
   },
   {
    "duration": 41,
    "start_time": "2022-01-10T18:48:01.928Z"
   },
   {
    "duration": 183,
    "start_time": "2022-01-10T18:48:01.971Z"
   },
   {
    "duration": 31,
    "start_time": "2022-01-10T18:48:02.156Z"
   },
   {
    "duration": 12,
    "start_time": "2022-01-10T18:48:02.190Z"
   },
   {
    "duration": 11,
    "start_time": "2022-01-10T18:48:02.205Z"
   },
   {
    "duration": 47,
    "start_time": "2022-01-10T18:48:02.218Z"
   },
   {
    "duration": 11,
    "start_time": "2022-01-10T18:48:02.267Z"
   },
   {
    "duration": 10,
    "start_time": "2022-01-10T18:48:02.280Z"
   },
   {
    "duration": 9,
    "start_time": "2022-01-10T18:48:02.293Z"
   },
   {
    "duration": 68,
    "start_time": "2022-01-10T18:48:02.305Z"
   },
   {
    "duration": 11,
    "start_time": "2022-01-10T18:48:02.375Z"
   },
   {
    "duration": 10,
    "start_time": "2022-01-10T18:48:02.389Z"
   },
   {
    "duration": 431,
    "start_time": "2022-01-10T18:48:02.402Z"
   },
   {
    "duration": 469,
    "start_time": "2022-01-10T18:48:02.836Z"
   },
   {
    "duration": 370,
    "start_time": "2022-01-10T18:48:03.308Z"
   },
   {
    "duration": 13,
    "start_time": "2022-01-10T18:48:03.682Z"
   },
   {
    "duration": 13,
    "start_time": "2022-01-10T18:48:03.698Z"
   },
   {
    "duration": 11,
    "start_time": "2022-01-10T18:48:03.714Z"
   },
   {
    "duration": 10,
    "start_time": "2022-01-10T18:48:03.763Z"
   },
   {
    "duration": 11,
    "start_time": "2022-01-10T18:48:03.776Z"
   },
   {
    "duration": 10,
    "start_time": "2022-01-10T18:48:03.789Z"
   },
   {
    "duration": 60,
    "start_time": "2022-01-10T18:48:03.803Z"
   },
   {
    "duration": 10,
    "start_time": "2022-01-10T18:48:03.866Z"
   },
   {
    "duration": 10,
    "start_time": "2022-01-10T18:48:03.879Z"
   },
   {
    "duration": 412,
    "start_time": "2022-01-10T18:48:03.891Z"
   },
   {
    "duration": 403,
    "start_time": "2022-01-10T18:48:04.306Z"
   },
   {
    "duration": 386,
    "start_time": "2022-01-10T18:48:04.711Z"
   },
   {
    "duration": 12,
    "start_time": "2022-01-10T18:48:05.099Z"
   },
   {
    "duration": 8,
    "start_time": "2022-01-10T18:48:05.113Z"
   },
   {
    "duration": 6,
    "start_time": "2022-01-10T18:48:05.124Z"
   },
   {
    "duration": 41,
    "start_time": "2022-01-10T18:48:05.133Z"
   },
   {
    "duration": 8,
    "start_time": "2022-01-10T18:48:05.176Z"
   },
   {
    "duration": 14,
    "start_time": "2022-01-10T18:48:05.187Z"
   },
   {
    "duration": 22,
    "start_time": "2022-01-10T18:48:26.292Z"
   },
   {
    "duration": 1909,
    "start_time": "2022-01-10T18:48:59.984Z"
   },
   {
    "duration": 42,
    "start_time": "2022-01-10T18:49:01.896Z"
   },
   {
    "duration": 29,
    "start_time": "2022-01-10T18:49:01.941Z"
   },
   {
    "duration": 27,
    "start_time": "2022-01-10T18:49:01.974Z"
   },
   {
    "duration": 259,
    "start_time": "2022-01-10T18:49:02.004Z"
   },
   {
    "duration": 25,
    "start_time": "2022-01-10T18:49:02.265Z"
   },
   {
    "duration": 226,
    "start_time": "2022-01-10T18:49:02.293Z"
   },
   {
    "duration": 141,
    "start_time": "2022-01-10T18:49:02.522Z"
   },
   {
    "duration": 14,
    "start_time": "2022-01-10T18:49:02.669Z"
   },
   {
    "duration": 109,
    "start_time": "2022-01-10T18:49:02.687Z"
   },
   {
    "duration": 204,
    "start_time": "2022-01-10T18:49:02.799Z"
   },
   {
    "duration": 17,
    "start_time": "2022-01-10T18:49:03.006Z"
   },
   {
    "duration": 186,
    "start_time": "2022-01-10T18:49:03.026Z"
   },
   {
    "duration": 26,
    "start_time": "2022-01-10T18:49:03.215Z"
   },
   {
    "duration": 27,
    "start_time": "2022-01-10T18:49:03.244Z"
   },
   {
    "duration": 24,
    "start_time": "2022-01-10T18:49:03.274Z"
   },
   {
    "duration": 230,
    "start_time": "2022-01-10T18:49:03.301Z"
   },
   {
    "duration": 51,
    "start_time": "2022-01-10T18:49:03.535Z"
   },
   {
    "duration": 45,
    "start_time": "2022-01-10T18:49:03.590Z"
   },
   {
    "duration": 34,
    "start_time": "2022-01-10T18:49:03.638Z"
   },
   {
    "duration": 27,
    "start_time": "2022-01-10T18:49:03.675Z"
   },
   {
    "duration": 58,
    "start_time": "2022-01-10T18:49:03.705Z"
   },
   {
    "duration": 12,
    "start_time": "2022-01-10T18:49:03.766Z"
   },
   {
    "duration": 37,
    "start_time": "2022-01-10T18:49:03.781Z"
   },
   {
    "duration": 57,
    "start_time": "2022-01-10T18:49:03.821Z"
   },
   {
    "duration": 14,
    "start_time": "2022-01-10T18:49:03.880Z"
   },
   {
    "duration": 31,
    "start_time": "2022-01-10T18:49:03.900Z"
   },
   {
    "duration": 38,
    "start_time": "2022-01-10T18:49:03.935Z"
   },
   {
    "duration": 10,
    "start_time": "2022-01-10T18:49:03.975Z"
   },
   {
    "duration": 17,
    "start_time": "2022-01-10T18:49:03.988Z"
   },
   {
    "duration": 13,
    "start_time": "2022-01-10T18:49:04.008Z"
   },
   {
    "duration": 279,
    "start_time": "2022-01-10T18:49:04.024Z"
   },
   {
    "duration": 36,
    "start_time": "2022-01-10T18:49:04.307Z"
   },
   {
    "duration": 27,
    "start_time": "2022-01-10T18:49:04.346Z"
   },
   {
    "duration": 14,
    "start_time": "2022-01-10T18:49:04.376Z"
   },
   {
    "duration": 13,
    "start_time": "2022-01-10T18:49:04.393Z"
   },
   {
    "duration": 55,
    "start_time": "2022-01-10T18:49:04.410Z"
   },
   {
    "duration": 14,
    "start_time": "2022-01-10T18:49:04.468Z"
   },
   {
    "duration": 13,
    "start_time": "2022-01-10T18:49:04.485Z"
   },
   {
    "duration": 11,
    "start_time": "2022-01-10T18:49:04.501Z"
   },
   {
    "duration": 11,
    "start_time": "2022-01-10T18:49:04.562Z"
   },
   {
    "duration": 13,
    "start_time": "2022-01-10T18:49:04.575Z"
   },
   {
    "duration": 447,
    "start_time": "2022-01-10T18:49:04.591Z"
   },
   {
    "duration": 393,
    "start_time": "2022-01-10T18:49:05.041Z"
   },
   {
    "duration": 393,
    "start_time": "2022-01-10T18:49:05.437Z"
   },
   {
    "duration": 13,
    "start_time": "2022-01-10T18:49:05.833Z"
   },
   {
    "duration": 26,
    "start_time": "2022-01-10T18:49:05.849Z"
   },
   {
    "duration": 12,
    "start_time": "2022-01-10T18:49:05.878Z"
   },
   {
    "duration": 13,
    "start_time": "2022-01-10T18:49:05.893Z"
   },
   {
    "duration": 56,
    "start_time": "2022-01-10T18:49:05.909Z"
   },
   {
    "duration": 13,
    "start_time": "2022-01-10T18:49:05.968Z"
   },
   {
    "duration": 12,
    "start_time": "2022-01-10T18:49:05.983Z"
   },
   {
    "duration": 11,
    "start_time": "2022-01-10T18:49:05.998Z"
   },
   {
    "duration": 61,
    "start_time": "2022-01-10T18:49:06.012Z"
   },
   {
    "duration": 428,
    "start_time": "2022-01-10T18:49:06.075Z"
   },
   {
    "duration": 463,
    "start_time": "2022-01-10T18:49:06.507Z"
   },
   {
    "duration": 393,
    "start_time": "2022-01-10T18:49:06.973Z"
   },
   {
    "duration": 13,
    "start_time": "2022-01-10T18:49:07.368Z"
   },
   {
    "duration": 11,
    "start_time": "2022-01-10T18:49:07.383Z"
   },
   {
    "duration": 7,
    "start_time": "2022-01-10T18:49:07.396Z"
   },
   {
    "duration": 10,
    "start_time": "2022-01-10T18:49:07.406Z"
   },
   {
    "duration": 49,
    "start_time": "2022-01-10T18:49:07.419Z"
   },
   {
    "duration": 8,
    "start_time": "2022-01-10T18:49:07.471Z"
   },
   {
    "duration": 22,
    "start_time": "2022-01-10T18:50:11.304Z"
   },
   {
    "duration": 1613,
    "start_time": "2022-01-10T18:50:26.604Z"
   },
   {
    "duration": 40,
    "start_time": "2022-01-10T18:50:28.219Z"
   },
   {
    "duration": 21,
    "start_time": "2022-01-10T18:50:28.262Z"
   },
   {
    "duration": 26,
    "start_time": "2022-01-10T18:50:28.286Z"
   },
   {
    "duration": 251,
    "start_time": "2022-01-10T18:50:28.314Z"
   },
   {
    "duration": 15,
    "start_time": "2022-01-10T18:50:28.567Z"
   },
   {
    "duration": 178,
    "start_time": "2022-01-10T18:50:28.584Z"
   },
   {
    "duration": 134,
    "start_time": "2022-01-10T18:50:28.768Z"
   },
   {
    "duration": 12,
    "start_time": "2022-01-10T18:50:28.905Z"
   },
   {
    "duration": 107,
    "start_time": "2022-01-10T18:50:28.920Z"
   },
   {
    "duration": 199,
    "start_time": "2022-01-10T18:50:29.029Z"
   },
   {
    "duration": 39,
    "start_time": "2022-01-10T18:50:29.231Z"
   },
   {
    "duration": 165,
    "start_time": "2022-01-10T18:50:29.272Z"
   },
   {
    "duration": 27,
    "start_time": "2022-01-10T18:50:29.439Z"
   },
   {
    "duration": 20,
    "start_time": "2022-01-10T18:50:29.469Z"
   },
   {
    "duration": 17,
    "start_time": "2022-01-10T18:50:29.492Z"
   },
   {
    "duration": 226,
    "start_time": "2022-01-10T18:50:29.512Z"
   },
   {
    "duration": 44,
    "start_time": "2022-01-10T18:50:29.740Z"
   },
   {
    "duration": 49,
    "start_time": "2022-01-10T18:50:29.787Z"
   },
   {
    "duration": 27,
    "start_time": "2022-01-10T18:50:29.839Z"
   },
   {
    "duration": 21,
    "start_time": "2022-01-10T18:50:29.869Z"
   },
   {
    "duration": 29,
    "start_time": "2022-01-10T18:50:29.893Z"
   },
   {
    "duration": 42,
    "start_time": "2022-01-10T18:50:29.928Z"
   },
   {
    "duration": 26,
    "start_time": "2022-01-10T18:50:29.975Z"
   },
   {
    "duration": 68,
    "start_time": "2022-01-10T18:50:30.004Z"
   },
   {
    "duration": 13,
    "start_time": "2022-01-10T18:50:30.075Z"
   },
   {
    "duration": 41,
    "start_time": "2022-01-10T18:50:30.091Z"
   },
   {
    "duration": 13,
    "start_time": "2022-01-10T18:50:30.135Z"
   },
   {
    "duration": 25,
    "start_time": "2022-01-10T18:50:30.152Z"
   },
   {
    "duration": 22,
    "start_time": "2022-01-10T18:50:30.180Z"
   },
   {
    "duration": 17,
    "start_time": "2022-01-10T18:50:30.206Z"
   },
   {
    "duration": 326,
    "start_time": "2022-01-10T18:50:30.227Z"
   },
   {
    "duration": 39,
    "start_time": "2022-01-10T18:50:30.556Z"
   },
   {
    "duration": 14,
    "start_time": "2022-01-10T18:50:30.598Z"
   },
   {
    "duration": 16,
    "start_time": "2022-01-10T18:50:30.614Z"
   },
   {
    "duration": 22,
    "start_time": "2022-01-10T18:50:30.664Z"
   },
   {
    "duration": 12,
    "start_time": "2022-01-10T18:50:30.688Z"
   },
   {
    "duration": 13,
    "start_time": "2022-01-10T18:50:30.702Z"
   },
   {
    "duration": 47,
    "start_time": "2022-01-10T18:50:30.717Z"
   },
   {
    "duration": 11,
    "start_time": "2022-01-10T18:50:30.767Z"
   },
   {
    "duration": 23,
    "start_time": "2022-01-10T18:50:30.781Z"
   },
   {
    "duration": 31,
    "start_time": "2022-01-10T18:50:30.806Z"
   },
   {
    "duration": 432,
    "start_time": "2022-01-10T18:50:30.839Z"
   },
   {
    "duration": 393,
    "start_time": "2022-01-10T18:50:31.273Z"
   },
   {
    "duration": 374,
    "start_time": "2022-01-10T18:50:31.669Z"
   },
   {
    "duration": 19,
    "start_time": "2022-01-10T18:50:32.045Z"
   },
   {
    "duration": 14,
    "start_time": "2022-01-10T18:50:32.067Z"
   },
   {
    "duration": 9,
    "start_time": "2022-01-10T18:50:32.084Z"
   },
   {
    "duration": 10,
    "start_time": "2022-01-10T18:50:32.096Z"
   },
   {
    "duration": 53,
    "start_time": "2022-01-10T18:50:32.109Z"
   },
   {
    "duration": 11,
    "start_time": "2022-01-10T18:50:32.165Z"
   },
   {
    "duration": 13,
    "start_time": "2022-01-10T18:50:32.179Z"
   },
   {
    "duration": 12,
    "start_time": "2022-01-10T18:50:32.195Z"
   },
   {
    "duration": 57,
    "start_time": "2022-01-10T18:50:32.210Z"
   },
   {
    "duration": 380,
    "start_time": "2022-01-10T18:50:32.270Z"
   },
   {
    "duration": 398,
    "start_time": "2022-01-10T18:50:32.652Z"
   },
   {
    "duration": 382,
    "start_time": "2022-01-10T18:50:33.053Z"
   },
   {
    "duration": 25,
    "start_time": "2022-01-10T18:50:33.438Z"
   },
   {
    "duration": 7,
    "start_time": "2022-01-10T18:50:33.466Z"
   },
   {
    "duration": 13,
    "start_time": "2022-01-10T18:50:33.475Z"
   },
   {
    "duration": 20,
    "start_time": "2022-01-10T18:50:33.490Z"
   },
   {
    "duration": 8,
    "start_time": "2022-01-10T18:50:33.512Z"
   },
   {
    "duration": 42,
    "start_time": "2022-01-10T18:50:33.523Z"
   },
   {
    "duration": 14,
    "start_time": "2022-01-10T18:51:25.240Z"
   },
   {
    "duration": 493,
    "start_time": "2022-01-10T18:59:39.728Z"
   },
   {
    "duration": 8208,
    "start_time": "2022-01-10T18:59:48.769Z"
   },
   {
    "duration": 9,
    "start_time": "2022-01-10T18:59:56.971Z"
   },
   {
    "duration": 11,
    "start_time": "2022-01-10T19:00:39.004Z"
   },
   {
    "duration": 948,
    "start_time": "2022-01-10T19:01:01.618Z"
   },
   {
    "duration": 303,
    "start_time": "2022-01-10T19:01:07.920Z"
   },
   {
    "duration": 14,
    "start_time": "2022-01-10T19:01:12.612Z"
   },
   {
    "duration": 11,
    "start_time": "2022-01-10T19:02:56.052Z"
   },
   {
    "duration": 13,
    "start_time": "2022-01-10T19:03:47.407Z"
   },
   {
    "duration": 11,
    "start_time": "2022-01-10T19:09:02.115Z"
   },
   {
    "duration": 11,
    "start_time": "2022-01-10T19:11:36.102Z"
   },
   {
    "duration": 11,
    "start_time": "2022-01-10T19:11:41.006Z"
   },
   {
    "duration": 12,
    "start_time": "2022-01-10T19:12:39.604Z"
   },
   {
    "duration": 368,
    "start_time": "2022-01-10T19:13:16.281Z"
   },
   {
    "duration": 10,
    "start_time": "2022-01-10T19:13:39.138Z"
   },
   {
    "duration": 11,
    "start_time": "2022-01-10T19:14:35.000Z"
   },
   {
    "duration": 12,
    "start_time": "2022-01-10T19:15:41.581Z"
   },
   {
    "duration": 8838,
    "start_time": "2022-01-10T19:16:53.101Z"
   },
   {
    "duration": 1575,
    "start_time": "2022-01-10T19:17:17.378Z"
   },
   {
    "duration": 43,
    "start_time": "2022-01-10T19:17:18.956Z"
   },
   {
    "duration": 22,
    "start_time": "2022-01-10T19:17:19.002Z"
   },
   {
    "duration": 28,
    "start_time": "2022-01-10T19:17:19.027Z"
   },
   {
    "duration": 248,
    "start_time": "2022-01-10T19:17:19.057Z"
   },
   {
    "duration": 16,
    "start_time": "2022-01-10T19:17:19.308Z"
   },
   {
    "duration": 218,
    "start_time": "2022-01-10T19:17:19.326Z"
   },
   {
    "duration": 139,
    "start_time": "2022-01-10T19:17:19.547Z"
   },
   {
    "duration": 11,
    "start_time": "2022-01-10T19:17:19.689Z"
   },
   {
    "duration": 105,
    "start_time": "2022-01-10T19:17:19.703Z"
   },
   {
    "duration": 199,
    "start_time": "2022-01-10T19:17:19.811Z"
   },
   {
    "duration": 15,
    "start_time": "2022-01-10T19:17:20.013Z"
   },
   {
    "duration": 165,
    "start_time": "2022-01-10T19:17:20.031Z"
   },
   {
    "duration": 25,
    "start_time": "2022-01-10T19:17:20.199Z"
   },
   {
    "duration": 12,
    "start_time": "2022-01-10T19:17:20.227Z"
   },
   {
    "duration": 25,
    "start_time": "2022-01-10T19:17:20.242Z"
   },
   {
    "duration": 153,
    "start_time": "2022-01-10T19:17:20.269Z"
   },
   {
    "duration": 44,
    "start_time": "2022-01-10T19:17:20.424Z"
   },
   {
    "duration": 32,
    "start_time": "2022-01-10T19:17:20.471Z"
   },
   {
    "duration": 11,
    "start_time": "2022-01-10T19:17:20.506Z"
   },
   {
    "duration": 50,
    "start_time": "2022-01-10T19:17:20.520Z"
   },
   {
    "duration": 27,
    "start_time": "2022-01-10T19:17:20.573Z"
   },
   {
    "duration": 11,
    "start_time": "2022-01-10T19:17:20.608Z"
   },
   {
    "duration": 54,
    "start_time": "2022-01-10T19:17:20.623Z"
   },
   {
    "duration": 33,
    "start_time": "2022-01-10T19:17:20.680Z"
   },
   {
    "duration": 12,
    "start_time": "2022-01-10T19:17:20.715Z"
   },
   {
    "duration": 50,
    "start_time": "2022-01-10T19:17:20.730Z"
   },
   {
    "duration": 16,
    "start_time": "2022-01-10T19:17:20.782Z"
   },
   {
    "duration": 16,
    "start_time": "2022-01-10T19:17:20.802Z"
   },
   {
    "duration": 55,
    "start_time": "2022-01-10T19:17:20.821Z"
   },
   {
    "duration": 11,
    "start_time": "2022-01-10T19:17:20.879Z"
   },
   {
    "duration": 198,
    "start_time": "2022-01-10T19:17:20.893Z"
   },
   {
    "duration": 29,
    "start_time": "2022-01-10T19:17:21.094Z"
   },
   {
    "duration": 42,
    "start_time": "2022-01-10T19:17:21.125Z"
   },
   {
    "duration": 12,
    "start_time": "2022-01-10T19:17:21.170Z"
   },
   {
    "duration": 11,
    "start_time": "2022-01-10T19:17:21.185Z"
   },
   {
    "duration": 11,
    "start_time": "2022-01-10T19:17:21.199Z"
   },
   {
    "duration": 55,
    "start_time": "2022-01-10T19:17:21.212Z"
   },
   {
    "duration": 10,
    "start_time": "2022-01-10T19:17:21.270Z"
   },
   {
    "duration": 16,
    "start_time": "2022-01-10T19:17:21.282Z"
   },
   {
    "duration": 9,
    "start_time": "2022-01-10T19:17:21.301Z"
   },
   {
    "duration": 51,
    "start_time": "2022-01-10T19:17:21.313Z"
   },
   {
    "duration": 519,
    "start_time": "2022-01-10T19:17:21.367Z"
   },
   {
    "duration": 394,
    "start_time": "2022-01-10T19:17:21.889Z"
   },
   {
    "duration": 395,
    "start_time": "2022-01-10T19:17:22.286Z"
   },
   {
    "duration": 13,
    "start_time": "2022-01-10T19:17:22.683Z"
   },
   {
    "duration": 11,
    "start_time": "2022-01-10T19:17:22.699Z"
   },
   {
    "duration": 11,
    "start_time": "2022-01-10T19:17:22.713Z"
   },
   {
    "duration": 13,
    "start_time": "2022-01-10T19:17:22.764Z"
   },
   {
    "duration": 10,
    "start_time": "2022-01-10T19:17:22.779Z"
   },
   {
    "duration": 10,
    "start_time": "2022-01-10T19:17:22.791Z"
   },
   {
    "duration": 10,
    "start_time": "2022-01-10T19:17:22.803Z"
   },
   {
    "duration": 55,
    "start_time": "2022-01-10T19:17:22.816Z"
   },
   {
    "duration": 14,
    "start_time": "2022-01-10T19:17:22.873Z"
   },
   {
    "duration": 400,
    "start_time": "2022-01-10T19:17:22.890Z"
   },
   {
    "duration": 416,
    "start_time": "2022-01-10T19:17:23.293Z"
   },
   {
    "duration": 384,
    "start_time": "2022-01-10T19:17:23.712Z"
   },
   {
    "duration": 10,
    "start_time": "2022-01-10T19:17:24.099Z"
   },
   {
    "duration": 19,
    "start_time": "2022-01-10T19:17:24.111Z"
   },
   {
    "duration": 7,
    "start_time": "2022-01-10T19:17:24.132Z"
   },
   {
    "duration": 42,
    "start_time": "2022-01-10T19:17:24.141Z"
   },
   {
    "duration": 11,
    "start_time": "2022-01-10T19:17:24.185Z"
   },
   {
    "duration": 12,
    "start_time": "2022-01-10T19:17:24.199Z"
   },
   {
    "duration": 414,
    "start_time": "2022-01-10T19:18:17.134Z"
   },
   {
    "duration": 21,
    "start_time": "2022-01-10T19:18:20.798Z"
   },
   {
    "duration": 11,
    "start_time": "2022-01-10T19:20:04.976Z"
   },
   {
    "duration": 11,
    "start_time": "2022-01-10T19:20:55.520Z"
   },
   {
    "duration": 15,
    "start_time": "2022-01-10T19:21:47.732Z"
   },
   {
    "duration": 10,
    "start_time": "2022-01-10T19:22:40.430Z"
   },
   {
    "duration": 11,
    "start_time": "2022-01-10T19:23:15.135Z"
   },
   {
    "duration": 10,
    "start_time": "2022-01-10T19:23:23.427Z"
   },
   {
    "duration": 11,
    "start_time": "2022-01-10T19:24:22.692Z"
   },
   {
    "duration": 12,
    "start_time": "2022-01-10T19:25:04.307Z"
   },
   {
    "duration": 11,
    "start_time": "2022-01-10T19:25:47.261Z"
   },
   {
    "duration": 11,
    "start_time": "2022-01-10T19:26:17.589Z"
   },
   {
    "duration": 469,
    "start_time": "2022-01-10T19:27:07.356Z"
   },
   {
    "duration": 568,
    "start_time": "2022-01-10T19:28:01.030Z"
   },
   {
    "duration": 467,
    "start_time": "2022-01-10T19:28:17.308Z"
   },
   {
    "duration": 474,
    "start_time": "2022-01-10T19:30:53.226Z"
   },
   {
    "duration": 474,
    "start_time": "2022-01-10T19:31:15.272Z"
   },
   {
    "duration": 558,
    "start_time": "2022-01-10T19:32:25.960Z"
   },
   {
    "duration": 629,
    "start_time": "2022-01-10T19:33:16.037Z"
   },
   {
    "duration": 519,
    "start_time": "2022-01-10T19:33:58.419Z"
   },
   {
    "duration": 313,
    "start_time": "2022-01-10T19:45:47.836Z"
   },
   {
    "duration": 27,
    "start_time": "2022-01-10T19:45:52.923Z"
   },
   {
    "duration": 122,
    "start_time": "2022-01-10T19:45:58.915Z"
   },
   {
    "duration": 22,
    "start_time": "2022-01-10T19:46:02.686Z"
   },
   {
    "duration": 1454,
    "start_time": "2022-01-10T19:50:18.377Z"
   },
   {
    "duration": 40,
    "start_time": "2022-01-10T19:50:19.834Z"
   },
   {
    "duration": 21,
    "start_time": "2022-01-10T19:50:19.881Z"
   },
   {
    "duration": 26,
    "start_time": "2022-01-10T19:50:19.904Z"
   },
   {
    "duration": 263,
    "start_time": "2022-01-10T19:50:19.932Z"
   },
   {
    "duration": 14,
    "start_time": "2022-01-10T19:50:20.198Z"
   },
   {
    "duration": 208,
    "start_time": "2022-01-10T19:50:20.215Z"
   },
   {
    "duration": 205,
    "start_time": "2022-01-10T19:50:20.426Z"
   },
   {
    "duration": 28,
    "start_time": "2022-01-10T19:50:20.634Z"
   },
   {
    "duration": 99,
    "start_time": "2022-01-10T19:50:20.665Z"
   },
   {
    "duration": 198,
    "start_time": "2022-01-10T19:50:20.767Z"
   },
   {
    "duration": 14,
    "start_time": "2022-01-10T19:50:20.968Z"
   },
   {
    "duration": 162,
    "start_time": "2022-01-10T19:50:20.985Z"
   },
   {
    "duration": 25,
    "start_time": "2022-01-10T19:50:21.149Z"
   },
   {
    "duration": 13,
    "start_time": "2022-01-10T19:50:21.178Z"
   },
   {
    "duration": 11,
    "start_time": "2022-01-10T19:50:21.194Z"
   },
   {
    "duration": 175,
    "start_time": "2022-01-10T19:50:21.208Z"
   },
   {
    "duration": 31,
    "start_time": "2022-01-10T19:50:21.386Z"
   },
   {
    "duration": 57,
    "start_time": "2022-01-10T19:50:21.420Z"
   },
   {
    "duration": 12,
    "start_time": "2022-01-10T19:50:21.479Z"
   },
   {
    "duration": 27,
    "start_time": "2022-01-10T19:50:21.494Z"
   },
   {
    "duration": 53,
    "start_time": "2022-01-10T19:50:21.528Z"
   },
   {
    "duration": 11,
    "start_time": "2022-01-10T19:50:21.585Z"
   },
   {
    "duration": 30,
    "start_time": "2022-01-10T19:50:21.598Z"
   },
   {
    "duration": 60,
    "start_time": "2022-01-10T19:50:21.635Z"
   },
   {
    "duration": 16,
    "start_time": "2022-01-10T19:50:21.698Z"
   },
   {
    "duration": 52,
    "start_time": "2022-01-10T19:50:21.717Z"
   },
   {
    "duration": 15,
    "start_time": "2022-01-10T19:50:21.772Z"
   },
   {
    "duration": 10,
    "start_time": "2022-01-10T19:50:21.789Z"
   },
   {
    "duration": 17,
    "start_time": "2022-01-10T19:50:21.802Z"
   },
   {
    "duration": 47,
    "start_time": "2022-01-10T19:50:21.822Z"
   },
   {
    "duration": 324,
    "start_time": "2022-01-10T19:50:21.873Z"
   },
   {
    "duration": 40,
    "start_time": "2022-01-10T19:50:22.200Z"
   },
   {
    "duration": 15,
    "start_time": "2022-01-10T19:50:22.262Z"
   },
   {
    "duration": 15,
    "start_time": "2022-01-10T19:50:22.280Z"
   },
   {
    "duration": 13,
    "start_time": "2022-01-10T19:50:22.298Z"
   },
   {
    "duration": 54,
    "start_time": "2022-01-10T19:50:22.315Z"
   },
   {
    "duration": 14,
    "start_time": "2022-01-10T19:50:22.372Z"
   },
   {
    "duration": 13,
    "start_time": "2022-01-10T19:50:22.389Z"
   },
   {
    "duration": 15,
    "start_time": "2022-01-10T19:50:22.405Z"
   },
   {
    "duration": 48,
    "start_time": "2022-01-10T19:50:22.422Z"
   },
   {
    "duration": 12,
    "start_time": "2022-01-10T19:50:22.473Z"
   },
   {
    "duration": 434,
    "start_time": "2022-01-10T19:50:22.488Z"
   },
   {
    "duration": 422,
    "start_time": "2022-01-10T19:50:22.925Z"
   },
   {
    "duration": 475,
    "start_time": "2022-01-10T19:50:23.350Z"
   },
   {
    "duration": 13,
    "start_time": "2022-01-10T19:50:23.828Z"
   },
   {
    "duration": 12,
    "start_time": "2022-01-10T19:50:23.863Z"
   },
   {
    "duration": 12,
    "start_time": "2022-01-10T19:50:23.878Z"
   },
   {
    "duration": 14,
    "start_time": "2022-01-10T19:50:23.893Z"
   },
   {
    "duration": 54,
    "start_time": "2022-01-10T19:50:23.911Z"
   },
   {
    "duration": 13,
    "start_time": "2022-01-10T19:50:23.967Z"
   },
   {
    "duration": 13,
    "start_time": "2022-01-10T19:50:23.983Z"
   },
   {
    "duration": 66,
    "start_time": "2022-01-10T19:50:23.999Z"
   },
   {
    "duration": 11,
    "start_time": "2022-01-10T19:50:24.067Z"
   },
   {
    "duration": 589,
    "start_time": "2022-01-10T19:50:24.081Z"
   },
   {
    "duration": 545,
    "start_time": "2022-01-10T19:50:24.673Z"
   },
   {
    "duration": 603,
    "start_time": "2022-01-10T19:50:25.220Z"
   },
   {
    "duration": 12,
    "start_time": "2022-01-10T19:50:25.826Z"
   },
   {
    "duration": 26,
    "start_time": "2022-01-10T19:50:25.841Z"
   },
   {
    "duration": 7,
    "start_time": "2022-01-10T19:50:25.870Z"
   },
   {
    "duration": 11,
    "start_time": "2022-01-10T19:50:25.880Z"
   },
   {
    "duration": 7,
    "start_time": "2022-01-10T19:50:25.894Z"
   },
   {
    "duration": 6,
    "start_time": "2022-01-10T19:50:25.904Z"
   },
   {
    "duration": 21,
    "start_time": "2022-01-10T19:50:25.964Z"
   },
   {
    "duration": 1157,
    "start_time": "2022-01-11T12:39:29.433Z"
   },
   {
    "duration": 34,
    "start_time": "2022-01-11T12:39:30.592Z"
   },
   {
    "duration": 36,
    "start_time": "2022-01-11T12:39:30.628Z"
   },
   {
    "duration": 58,
    "start_time": "2022-01-11T12:39:30.666Z"
   },
   {
    "duration": 187,
    "start_time": "2022-01-11T12:39:30.726Z"
   },
   {
    "duration": 9,
    "start_time": "2022-01-11T12:39:30.915Z"
   },
   {
    "duration": 154,
    "start_time": "2022-01-11T12:39:30.925Z"
   },
   {
    "duration": 107,
    "start_time": "2022-01-11T12:39:31.080Z"
   },
   {
    "duration": 9,
    "start_time": "2022-01-11T12:39:31.190Z"
   },
   {
    "duration": 76,
    "start_time": "2022-01-11T12:39:31.201Z"
   },
   {
    "duration": 143,
    "start_time": "2022-01-11T12:39:31.279Z"
   },
   {
    "duration": 13,
    "start_time": "2022-01-11T12:39:31.424Z"
   },
   {
    "duration": 84,
    "start_time": "2022-01-11T12:39:31.441Z"
   },
   {
    "duration": 22,
    "start_time": "2022-01-11T12:39:31.527Z"
   },
   {
    "duration": 23,
    "start_time": "2022-01-11T12:39:31.551Z"
   },
   {
    "duration": 16,
    "start_time": "2022-01-11T12:39:31.586Z"
   },
   {
    "duration": 99,
    "start_time": "2022-01-11T12:39:31.604Z"
   },
   {
    "duration": 23,
    "start_time": "2022-01-11T12:39:31.705Z"
   },
   {
    "duration": 27,
    "start_time": "2022-01-11T12:39:31.729Z"
   },
   {
    "duration": 8,
    "start_time": "2022-01-11T12:39:31.757Z"
   },
   {
    "duration": 28,
    "start_time": "2022-01-11T12:39:31.766Z"
   },
   {
    "duration": 19,
    "start_time": "2022-01-11T12:39:31.796Z"
   },
   {
    "duration": 6,
    "start_time": "2022-01-11T12:39:31.817Z"
   },
   {
    "duration": 32,
    "start_time": "2022-01-11T12:39:31.824Z"
   },
   {
    "duration": 26,
    "start_time": "2022-01-11T12:39:31.858Z"
   },
   {
    "duration": 7,
    "start_time": "2022-01-11T12:39:31.885Z"
   },
   {
    "duration": 21,
    "start_time": "2022-01-11T12:39:31.896Z"
   },
   {
    "duration": 22,
    "start_time": "2022-01-11T12:39:31.919Z"
   },
   {
    "duration": 13,
    "start_time": "2022-01-11T12:39:31.943Z"
   },
   {
    "duration": 16,
    "start_time": "2022-01-11T12:39:31.958Z"
   },
   {
    "duration": 10,
    "start_time": "2022-01-11T12:39:31.975Z"
   },
   {
    "duration": 97,
    "start_time": "2022-01-11T12:39:31.987Z"
   },
   {
    "duration": 16,
    "start_time": "2022-01-11T12:39:32.086Z"
   },
   {
    "duration": 11,
    "start_time": "2022-01-11T12:39:32.103Z"
   },
   {
    "duration": 11,
    "start_time": "2022-01-11T12:39:32.115Z"
   },
   {
    "duration": 7,
    "start_time": "2022-01-11T12:39:32.141Z"
   },
   {
    "duration": 18,
    "start_time": "2022-01-11T12:39:32.150Z"
   },
   {
    "duration": 13,
    "start_time": "2022-01-11T12:39:32.170Z"
   },
   {
    "duration": 13,
    "start_time": "2022-01-11T12:39:32.185Z"
   },
   {
    "duration": 13,
    "start_time": "2022-01-11T12:39:32.199Z"
   },
   {
    "duration": 10,
    "start_time": "2022-01-11T12:39:32.214Z"
   },
   {
    "duration": 15,
    "start_time": "2022-01-11T12:39:32.226Z"
   },
   {
    "duration": 247,
    "start_time": "2022-01-11T12:39:32.243Z"
   },
   {
    "duration": 238,
    "start_time": "2022-01-11T12:39:32.492Z"
   },
   {
    "duration": 220,
    "start_time": "2022-01-11T12:39:32.732Z"
   },
   {
    "duration": 9,
    "start_time": "2022-01-11T12:39:32.954Z"
   },
   {
    "duration": 11,
    "start_time": "2022-01-11T12:39:32.965Z"
   },
   {
    "duration": 8,
    "start_time": "2022-01-11T12:39:32.978Z"
   },
   {
    "duration": 8,
    "start_time": "2022-01-11T12:39:32.988Z"
   },
   {
    "duration": 45,
    "start_time": "2022-01-11T12:39:32.998Z"
   },
   {
    "duration": 9,
    "start_time": "2022-01-11T12:39:33.045Z"
   },
   {
    "duration": 8,
    "start_time": "2022-01-11T12:39:33.056Z"
   },
   {
    "duration": 7,
    "start_time": "2022-01-11T12:39:33.066Z"
   },
   {
    "duration": 7,
    "start_time": "2022-01-11T12:39:33.075Z"
   },
   {
    "duration": 363,
    "start_time": "2022-01-11T12:39:33.084Z"
   },
   {
    "duration": 345,
    "start_time": "2022-01-11T12:39:33.449Z"
   },
   {
    "duration": 422,
    "start_time": "2022-01-11T12:39:33.796Z"
   },
   {
    "duration": 7,
    "start_time": "2022-01-11T12:39:34.220Z"
   },
   {
    "duration": 16,
    "start_time": "2022-01-11T12:39:34.229Z"
   },
   {
    "duration": 8,
    "start_time": "2022-01-11T12:39:34.247Z"
   },
   {
    "duration": 15,
    "start_time": "2022-01-11T12:39:34.256Z"
   },
   {
    "duration": 8,
    "start_time": "2022-01-11T12:39:34.272Z"
   },
   {
    "duration": 7,
    "start_time": "2022-01-11T12:39:34.282Z"
   },
   {
    "duration": 17,
    "start_time": "2022-01-11T12:39:34.290Z"
   },
   {
    "duration": 18,
    "start_time": "2022-01-11T12:39:53.576Z"
   },
   {
    "duration": 30,
    "start_time": "2022-01-11T12:40:42.242Z"
   },
   {
    "duration": 30,
    "start_time": "2022-01-11T12:40:55.987Z"
   },
   {
    "duration": 423,
    "start_time": "2022-01-11T19:05:18.757Z"
   },
   {
    "duration": 1518,
    "start_time": "2022-01-11T19:05:27.083Z"
   },
   {
    "duration": 68,
    "start_time": "2022-01-11T19:05:28.604Z"
   },
   {
    "duration": 23,
    "start_time": "2022-01-11T19:05:28.676Z"
   },
   {
    "duration": 29,
    "start_time": "2022-01-11T19:05:28.702Z"
   },
   {
    "duration": 220,
    "start_time": "2022-01-11T19:05:28.733Z"
   },
   {
    "duration": 13,
    "start_time": "2022-01-11T19:05:28.956Z"
   },
   {
    "duration": 190,
    "start_time": "2022-01-11T19:05:28.971Z"
   },
   {
    "duration": 129,
    "start_time": "2022-01-11T19:05:29.165Z"
   },
   {
    "duration": 12,
    "start_time": "2022-01-11T19:05:29.297Z"
   },
   {
    "duration": 84,
    "start_time": "2022-01-11T19:05:29.311Z"
   },
   {
    "duration": 201,
    "start_time": "2022-01-11T19:05:29.398Z"
   },
   {
    "duration": 27,
    "start_time": "2022-01-11T19:05:29.602Z"
   },
   {
    "duration": 137,
    "start_time": "2022-01-11T19:05:29.632Z"
   },
   {
    "duration": 22,
    "start_time": "2022-01-11T19:05:29.773Z"
   },
   {
    "duration": 26,
    "start_time": "2022-01-11T19:05:29.797Z"
   },
   {
    "duration": 11,
    "start_time": "2022-01-11T19:05:29.825Z"
   },
   {
    "duration": 146,
    "start_time": "2022-01-11T19:05:29.839Z"
   },
   {
    "duration": 45,
    "start_time": "2022-01-11T19:05:29.988Z"
   },
   {
    "duration": 34,
    "start_time": "2022-01-11T19:05:30.035Z"
   },
   {
    "duration": 13,
    "start_time": "2022-01-11T19:05:30.072Z"
   },
   {
    "duration": 52,
    "start_time": "2022-01-11T19:05:30.088Z"
   },
   {
    "duration": 27,
    "start_time": "2022-01-11T19:05:30.142Z"
   },
   {
    "duration": 9,
    "start_time": "2022-01-11T19:05:30.175Z"
   },
   {
    "duration": 54,
    "start_time": "2022-01-11T19:05:30.188Z"
   },
   {
    "duration": 33,
    "start_time": "2022-01-11T19:05:30.244Z"
   },
   {
    "duration": 15,
    "start_time": "2022-01-11T19:05:30.279Z"
   },
   {
    "duration": 52,
    "start_time": "2022-01-11T19:05:30.297Z"
   },
   {
    "duration": 22,
    "start_time": "2022-01-11T19:05:30.352Z"
   },
   {
    "duration": 34,
    "start_time": "2022-01-11T19:05:30.376Z"
   },
   {
    "duration": 23,
    "start_time": "2022-01-11T19:05:30.412Z"
   },
   {
    "duration": 47,
    "start_time": "2022-01-11T19:05:30.437Z"
   },
   {
    "duration": 21,
    "start_time": "2022-01-11T19:05:30.486Z"
   },
   {
    "duration": 160,
    "start_time": "2022-01-11T19:05:30.509Z"
   },
   {
    "duration": 38,
    "start_time": "2022-01-11T19:05:30.672Z"
   },
   {
    "duration": 14,
    "start_time": "2022-01-11T19:05:30.725Z"
   },
   {
    "duration": 36,
    "start_time": "2022-01-11T19:05:30.743Z"
   },
   {
    "duration": 16,
    "start_time": "2022-01-11T19:05:30.782Z"
   },
   {
    "duration": 34,
    "start_time": "2022-01-11T19:05:30.801Z"
   },
   {
    "duration": 14,
    "start_time": "2022-01-11T19:05:30.837Z"
   },
   {
    "duration": 21,
    "start_time": "2022-01-11T19:05:30.854Z"
   },
   {
    "duration": 29,
    "start_time": "2022-01-11T19:05:30.877Z"
   },
   {
    "duration": 22,
    "start_time": "2022-01-11T19:05:30.909Z"
   },
   {
    "duration": 19,
    "start_time": "2022-01-11T19:05:30.934Z"
   },
   {
    "duration": 62,
    "start_time": "2022-01-11T19:05:30.956Z"
   },
   {
    "duration": 402,
    "start_time": "2022-01-11T19:05:31.024Z"
   },
   {
    "duration": 366,
    "start_time": "2022-01-11T19:05:31.429Z"
   },
   {
    "duration": 363,
    "start_time": "2022-01-11T19:05:31.797Z"
   },
   {
    "duration": 11,
    "start_time": "2022-01-11T19:05:32.162Z"
   },
   {
    "duration": 10,
    "start_time": "2022-01-11T19:05:32.175Z"
   },
   {
    "duration": 13,
    "start_time": "2022-01-11T19:05:32.224Z"
   },
   {
    "duration": 15,
    "start_time": "2022-01-11T19:05:32.240Z"
   },
   {
    "duration": 10,
    "start_time": "2022-01-11T19:05:32.258Z"
   },
   {
    "duration": 54,
    "start_time": "2022-01-11T19:05:32.270Z"
   },
   {
    "duration": 10,
    "start_time": "2022-01-11T19:05:32.327Z"
   },
   {
    "duration": 9,
    "start_time": "2022-01-11T19:05:32.339Z"
   },
   {
    "duration": 9,
    "start_time": "2022-01-11T19:05:32.351Z"
   },
   {
    "duration": 574,
    "start_time": "2022-01-11T19:05:32.362Z"
   },
   {
    "duration": 532,
    "start_time": "2022-01-11T19:05:32.938Z"
   },
   {
    "duration": 603,
    "start_time": "2022-01-11T19:05:33.473Z"
   },
   {
    "duration": 13,
    "start_time": "2022-01-11T19:05:34.079Z"
   },
   {
    "duration": 32,
    "start_time": "2022-01-11T19:05:34.094Z"
   },
   {
    "duration": 7,
    "start_time": "2022-01-11T19:05:34.128Z"
   },
   {
    "duration": 14,
    "start_time": "2022-01-11T19:05:34.137Z"
   },
   {
    "duration": 10,
    "start_time": "2022-01-11T19:05:34.154Z"
   },
   {
    "duration": 7,
    "start_time": "2022-01-11T19:05:34.167Z"
   },
   {
    "duration": 73,
    "start_time": "2022-01-11T19:05:34.178Z"
   },
   {
    "duration": 18,
    "start_time": "2022-01-11T19:05:52.419Z"
   },
   {
    "duration": 78,
    "start_time": "2022-01-11T19:06:43.082Z"
   },
   {
    "duration": 54,
    "start_time": "2022-01-11T19:08:39.499Z"
   },
   {
    "duration": 40,
    "start_time": "2022-01-11T19:09:43.039Z"
   },
   {
    "duration": 108,
    "start_time": "2022-01-11T19:09:57.765Z"
   },
   {
    "duration": 43,
    "start_time": "2022-01-11T19:10:07.596Z"
   },
   {
    "duration": 30,
    "start_time": "2022-01-11T19:16:41.947Z"
   },
   {
    "duration": 103,
    "start_time": "2022-01-11T19:22:42.808Z"
   },
   {
    "duration": 20,
    "start_time": "2022-01-11T19:23:45.568Z"
   },
   {
    "duration": 541,
    "start_time": "2022-01-11T19:24:29.211Z"
   },
   {
    "duration": 407,
    "start_time": "2022-01-11T19:24:41.145Z"
   },
   {
    "duration": 32,
    "start_time": "2022-01-11T19:24:48.057Z"
   },
   {
    "duration": 12,
    "start_time": "2022-01-11T19:25:08.650Z"
   },
   {
    "duration": 93,
    "start_time": "2022-01-11T19:28:26.217Z"
   },
   {
    "duration": 539,
    "start_time": "2022-01-11T19:28:35.242Z"
   },
   {
    "duration": 503,
    "start_time": "2022-01-11T19:29:35.778Z"
   },
   {
    "duration": 530,
    "start_time": "2022-01-11T19:29:46.496Z"
   },
   {
    "duration": 1469,
    "start_time": "2022-01-11T19:30:03.588Z"
   },
   {
    "duration": 82,
    "start_time": "2022-01-11T19:30:05.061Z"
   },
   {
    "duration": 30,
    "start_time": "2022-01-11T19:30:05.147Z"
   },
   {
    "duration": 62,
    "start_time": "2022-01-11T19:30:05.180Z"
   },
   {
    "duration": 340,
    "start_time": "2022-01-11T19:30:05.246Z"
   },
   {
    "duration": 15,
    "start_time": "2022-01-11T19:30:05.589Z"
   },
   {
    "duration": 190,
    "start_time": "2022-01-11T19:30:05.607Z"
   },
   {
    "duration": 145,
    "start_time": "2022-01-11T19:30:05.804Z"
   },
   {
    "duration": 12,
    "start_time": "2022-01-11T19:30:05.952Z"
   },
   {
    "duration": 99,
    "start_time": "2022-01-11T19:30:05.967Z"
   },
   {
    "duration": 216,
    "start_time": "2022-01-11T19:30:06.069Z"
   },
   {
    "duration": 14,
    "start_time": "2022-01-11T19:30:06.288Z"
   },
   {
    "duration": 160,
    "start_time": "2022-01-11T19:30:06.305Z"
   },
   {
    "duration": 23,
    "start_time": "2022-01-11T19:30:06.468Z"
   },
   {
    "duration": 15,
    "start_time": "2022-01-11T19:30:06.493Z"
   },
   {
    "duration": 14,
    "start_time": "2022-01-11T19:30:06.510Z"
   },
   {
    "duration": 151,
    "start_time": "2022-01-11T19:30:06.527Z"
   },
   {
    "duration": 31,
    "start_time": "2022-01-11T19:30:06.681Z"
   },
   {
    "duration": 35,
    "start_time": "2022-01-11T19:30:06.715Z"
   },
   {
    "duration": 12,
    "start_time": "2022-01-11T19:30:06.753Z"
   },
   {
    "duration": 26,
    "start_time": "2022-01-11T19:30:06.767Z"
   },
   {
    "duration": 33,
    "start_time": "2022-01-11T19:30:06.795Z"
   },
   {
    "duration": 15,
    "start_time": "2022-01-11T19:30:06.838Z"
   },
   {
    "duration": 32,
    "start_time": "2022-01-11T19:30:06.858Z"
   },
   {
    "duration": 34,
    "start_time": "2022-01-11T19:30:06.892Z"
   },
   {
    "duration": 11,
    "start_time": "2022-01-11T19:30:06.928Z"
   },
   {
    "duration": 22,
    "start_time": "2022-01-11T19:30:06.942Z"
   },
   {
    "duration": 13,
    "start_time": "2022-01-11T19:30:06.967Z"
   },
   {
    "duration": 10,
    "start_time": "2022-01-11T19:30:06.982Z"
   },
   {
    "duration": 30,
    "start_time": "2022-01-11T19:30:06.994Z"
   },
   {
    "duration": 10,
    "start_time": "2022-01-11T19:30:07.027Z"
   },
   {
    "duration": 28,
    "start_time": "2022-01-11T19:30:07.039Z"
   },
   {
    "duration": 193,
    "start_time": "2022-01-11T19:30:07.070Z"
   },
   {
    "duration": 78,
    "start_time": "2022-01-11T19:30:07.265Z"
   },
   {
    "duration": 15,
    "start_time": "2022-01-11T19:30:07.345Z"
   },
   {
    "duration": 13,
    "start_time": "2022-01-11T19:30:07.362Z"
   },
   {
    "duration": 24,
    "start_time": "2022-01-11T19:30:07.377Z"
   },
   {
    "duration": 26,
    "start_time": "2022-01-11T19:30:07.404Z"
   },
   {
    "duration": 15,
    "start_time": "2022-01-11T19:30:07.432Z"
   },
   {
    "duration": 45,
    "start_time": "2022-01-11T19:30:07.449Z"
   },
   {
    "duration": 17,
    "start_time": "2022-01-11T19:30:07.497Z"
   },
   {
    "duration": 14,
    "start_time": "2022-01-11T19:30:07.517Z"
   },
   {
    "duration": 13,
    "start_time": "2022-01-11T19:30:07.534Z"
   },
   {
    "duration": 111,
    "start_time": "2022-01-11T19:30:07.550Z"
   },
   {
    "duration": 635,
    "start_time": "2022-01-11T19:30:07.664Z"
   },
   {
    "duration": 386,
    "start_time": "2022-01-11T19:30:08.301Z"
   },
   {
    "duration": 410,
    "start_time": "2022-01-11T19:30:08.690Z"
   },
   {
    "duration": 26,
    "start_time": "2022-01-11T19:30:09.103Z"
   },
   {
    "duration": 11,
    "start_time": "2022-01-11T19:30:09.132Z"
   },
   {
    "duration": 11,
    "start_time": "2022-01-11T19:30:09.145Z"
   },
   {
    "duration": 10,
    "start_time": "2022-01-11T19:30:09.159Z"
   },
   {
    "duration": 67,
    "start_time": "2022-01-11T19:30:09.171Z"
   },
   {
    "duration": 17,
    "start_time": "2022-01-11T19:30:09.241Z"
   },
   {
    "duration": 14,
    "start_time": "2022-01-11T19:30:09.261Z"
   },
   {
    "duration": 52,
    "start_time": "2022-01-11T19:30:09.279Z"
   },
   {
    "duration": 13,
    "start_time": "2022-01-11T19:30:09.333Z"
   },
   {
    "duration": 896,
    "start_time": "2022-01-11T19:30:09.349Z"
   },
   {
    "duration": 558,
    "start_time": "2022-01-11T19:30:10.249Z"
   },
   {
    "duration": 630,
    "start_time": "2022-01-11T19:30:10.810Z"
   },
   {
    "duration": 540,
    "start_time": "2022-01-11T19:30:11.444Z"
   },
   {
    "duration": 11,
    "start_time": "2022-01-11T19:30:11.987Z"
   },
   {
    "duration": 25,
    "start_time": "2022-01-11T19:30:12.000Z"
   },
   {
    "duration": 9,
    "start_time": "2022-01-11T19:30:12.028Z"
   },
   {
    "duration": 17,
    "start_time": "2022-01-11T19:30:12.039Z"
   },
   {
    "duration": 8,
    "start_time": "2022-01-11T19:30:12.059Z"
   },
   {
    "duration": 10,
    "start_time": "2022-01-11T19:30:12.070Z"
   },
   {
    "duration": 52,
    "start_time": "2022-01-11T19:30:12.082Z"
   },
   {
    "duration": 1087,
    "start_time": "2022-01-12T06:06:02.283Z"
   },
   {
    "duration": 34,
    "start_time": "2022-01-12T06:06:03.373Z"
   },
   {
    "duration": 77,
    "start_time": "2022-01-12T06:06:03.409Z"
   },
   {
    "duration": 43,
    "start_time": "2022-01-12T06:06:03.488Z"
   },
   {
    "duration": 184,
    "start_time": "2022-01-12T06:06:03.533Z"
   },
   {
    "duration": 9,
    "start_time": "2022-01-12T06:06:03.719Z"
   },
   {
    "duration": 155,
    "start_time": "2022-01-12T06:06:03.729Z"
   },
   {
    "duration": 151,
    "start_time": "2022-01-12T06:06:03.887Z"
   },
   {
    "duration": 12,
    "start_time": "2022-01-12T06:06:04.042Z"
   },
   {
    "duration": 96,
    "start_time": "2022-01-12T06:06:04.055Z"
   },
   {
    "duration": 215,
    "start_time": "2022-01-12T06:06:04.153Z"
   },
   {
    "duration": 15,
    "start_time": "2022-01-12T06:06:04.371Z"
   },
   {
    "duration": 141,
    "start_time": "2022-01-12T06:06:04.388Z"
   },
   {
    "duration": 23,
    "start_time": "2022-01-12T06:06:04.531Z"
   },
   {
    "duration": 40,
    "start_time": "2022-01-12T06:06:04.556Z"
   },
   {
    "duration": 25,
    "start_time": "2022-01-12T06:06:04.598Z"
   },
   {
    "duration": 160,
    "start_time": "2022-01-12T06:06:04.625Z"
   },
   {
    "duration": 27,
    "start_time": "2022-01-12T06:06:04.787Z"
   },
   {
    "duration": 56,
    "start_time": "2022-01-12T06:06:04.816Z"
   },
   {
    "duration": 13,
    "start_time": "2022-01-12T06:06:04.874Z"
   },
   {
    "duration": 46,
    "start_time": "2022-01-12T06:06:04.889Z"
   },
   {
    "duration": 25,
    "start_time": "2022-01-12T06:06:04.937Z"
   },
   {
    "duration": 14,
    "start_time": "2022-01-12T06:06:04.965Z"
   },
   {
    "duration": 33,
    "start_time": "2022-01-12T06:06:04.982Z"
   },
   {
    "duration": 30,
    "start_time": "2022-01-12T06:06:05.017Z"
   },
   {
    "duration": 22,
    "start_time": "2022-01-12T06:06:05.049Z"
   },
   {
    "duration": 33,
    "start_time": "2022-01-12T06:06:05.073Z"
   },
   {
    "duration": 36,
    "start_time": "2022-01-12T06:06:05.108Z"
   },
   {
    "duration": 41,
    "start_time": "2022-01-12T06:06:05.146Z"
   },
   {
    "duration": 49,
    "start_time": "2022-01-12T06:06:05.189Z"
   },
   {
    "duration": 38,
    "start_time": "2022-01-12T06:06:05.240Z"
   },
   {
    "duration": 23,
    "start_time": "2022-01-12T06:06:05.280Z"
   },
   {
    "duration": 114,
    "start_time": "2022-01-12T06:06:05.305Z"
   },
   {
    "duration": 21,
    "start_time": "2022-01-12T06:06:05.421Z"
   },
   {
    "duration": 39,
    "start_time": "2022-01-12T06:06:05.444Z"
   },
   {
    "duration": 35,
    "start_time": "2022-01-12T06:06:05.484Z"
   },
   {
    "duration": 38,
    "start_time": "2022-01-12T06:06:05.521Z"
   },
   {
    "duration": 39,
    "start_time": "2022-01-12T06:06:05.561Z"
   },
   {
    "duration": 33,
    "start_time": "2022-01-12T06:06:05.602Z"
   },
   {
    "duration": 39,
    "start_time": "2022-01-12T06:06:05.637Z"
   },
   {
    "duration": 37,
    "start_time": "2022-01-12T06:06:05.677Z"
   },
   {
    "duration": 24,
    "start_time": "2022-01-12T06:06:05.716Z"
   },
   {
    "duration": 27,
    "start_time": "2022-01-12T06:06:05.742Z"
   },
   {
    "duration": 51,
    "start_time": "2022-01-12T06:06:05.770Z"
   },
   {
    "duration": 226,
    "start_time": "2022-01-12T06:06:05.823Z"
   },
   {
    "duration": 212,
    "start_time": "2022-01-12T06:06:06.050Z"
   },
   {
    "duration": 204,
    "start_time": "2022-01-12T06:06:06.264Z"
   },
   {
    "duration": 8,
    "start_time": "2022-01-12T06:06:06.470Z"
   },
   {
    "duration": 26,
    "start_time": "2022-01-12T06:06:06.479Z"
   },
   {
    "duration": 25,
    "start_time": "2022-01-12T06:06:06.506Z"
   },
   {
    "duration": 18,
    "start_time": "2022-01-12T06:06:06.532Z"
   },
   {
    "duration": 17,
    "start_time": "2022-01-12T06:06:06.552Z"
   },
   {
    "duration": 27,
    "start_time": "2022-01-12T06:06:06.570Z"
   },
   {
    "duration": 35,
    "start_time": "2022-01-12T06:06:06.599Z"
   },
   {
    "duration": 15,
    "start_time": "2022-01-12T06:06:06.635Z"
   },
   {
    "duration": 25,
    "start_time": "2022-01-12T06:06:06.651Z"
   },
   {
    "duration": 300,
    "start_time": "2022-01-12T06:06:06.678Z"
   },
   {
    "duration": 289,
    "start_time": "2022-01-12T06:06:06.980Z"
   },
   {
    "duration": 454,
    "start_time": "2022-01-12T06:06:07.270Z"
   },
   {
    "duration": 295,
    "start_time": "2022-01-12T06:06:07.726Z"
   },
   {
    "duration": 6,
    "start_time": "2022-01-12T06:06:08.023Z"
   },
   {
    "duration": 24,
    "start_time": "2022-01-12T06:06:08.030Z"
   },
   {
    "duration": 26,
    "start_time": "2022-01-12T06:06:08.056Z"
   },
   {
    "duration": 19,
    "start_time": "2022-01-12T06:06:08.083Z"
   },
   {
    "duration": 19,
    "start_time": "2022-01-12T06:06:08.104Z"
   },
   {
    "duration": 17,
    "start_time": "2022-01-12T06:06:08.124Z"
   },
   {
    "duration": 35,
    "start_time": "2022-01-12T06:06:08.142Z"
   },
   {
    "duration": 1663,
    "start_time": "2022-05-30T10:58:43.980Z"
   },
   {
    "duration": 118,
    "start_time": "2022-05-30T10:58:47.547Z"
   },
   {
    "duration": 14,
    "start_time": "2022-05-30T10:58:50.487Z"
   },
   {
    "duration": 5,
    "start_time": "2022-05-30T10:58:53.689Z"
   },
   {
    "duration": 493,
    "start_time": "2022-05-30T10:58:58.398Z"
   },
   {
    "duration": 11,
    "start_time": "2022-05-30T10:59:00.993Z"
   },
   {
    "duration": 95,
    "start_time": "2022-05-30T10:59:03.799Z"
   },
   {
    "duration": 151,
    "start_time": "2022-05-30T10:59:06.019Z"
   },
   {
    "duration": 7,
    "start_time": "2022-05-30T10:59:09.479Z"
   },
   {
    "duration": 40,
    "start_time": "2022-05-30T10:59:13.621Z"
   },
   {
    "duration": 639,
    "start_time": "2022-05-30T10:59:16.859Z"
   },
   {
    "duration": 992,
    "start_time": "2022-05-30T11:27:45.359Z"
   },
   {
    "duration": 45,
    "start_time": "2022-05-30T11:27:46.352Z"
   },
   {
    "duration": 11,
    "start_time": "2022-05-30T11:27:46.398Z"
   },
   {
    "duration": 5,
    "start_time": "2022-05-30T11:27:46.411Z"
   },
   {
    "duration": 158,
    "start_time": "2022-05-30T11:27:46.417Z"
   },
   {
    "duration": 9,
    "start_time": "2022-05-30T11:27:46.577Z"
   },
   {
    "duration": 114,
    "start_time": "2022-05-30T11:27:46.587Z"
   },
   {
    "duration": 95,
    "start_time": "2022-05-30T11:27:46.703Z"
   },
   {
    "duration": 7,
    "start_time": "2022-05-30T11:27:46.800Z"
   },
   {
    "duration": 43,
    "start_time": "2022-05-30T11:27:46.810Z"
   },
   {
    "duration": 134,
    "start_time": "2022-05-30T11:27:46.854Z"
   },
   {
    "duration": 9,
    "start_time": "2022-05-30T11:27:46.990Z"
   },
   {
    "duration": 80,
    "start_time": "2022-05-30T11:27:47.000Z"
   },
   {
    "duration": 55,
    "start_time": "2022-05-30T11:27:47.082Z"
   },
   {
    "duration": 8,
    "start_time": "2022-05-30T11:27:47.138Z"
   },
   {
    "duration": 9,
    "start_time": "2022-05-30T11:27:47.147Z"
   },
   {
    "duration": 82,
    "start_time": "2022-05-30T11:27:47.158Z"
   },
   {
    "duration": 20,
    "start_time": "2022-05-30T11:27:47.242Z"
   },
   {
    "duration": 27,
    "start_time": "2022-05-30T11:27:47.264Z"
   },
   {
    "duration": 8,
    "start_time": "2022-05-30T11:27:47.293Z"
   },
   {
    "duration": 14,
    "start_time": "2022-05-30T11:27:47.302Z"
   },
   {
    "duration": 14,
    "start_time": "2022-05-30T11:27:47.318Z"
   },
   {
    "duration": 6,
    "start_time": "2022-05-30T11:27:47.334Z"
   },
   {
    "duration": 43,
    "start_time": "2022-05-30T11:27:47.341Z"
   },
   {
    "duration": 17,
    "start_time": "2022-05-30T11:27:47.385Z"
   },
   {
    "duration": 6,
    "start_time": "2022-05-30T11:27:47.403Z"
   },
   {
    "duration": 14,
    "start_time": "2022-05-30T11:27:47.410Z"
   },
   {
    "duration": 7,
    "start_time": "2022-05-30T11:27:47.426Z"
   },
   {
    "duration": 42,
    "start_time": "2022-05-30T11:27:47.435Z"
   },
   {
    "duration": 10,
    "start_time": "2022-05-30T11:27:47.478Z"
   },
   {
    "duration": 12,
    "start_time": "2022-05-30T11:27:47.489Z"
   },
   {
    "duration": 5,
    "start_time": "2022-05-30T11:27:47.503Z"
   },
   {
    "duration": 79,
    "start_time": "2022-05-30T11:27:47.510Z"
   },
   {
    "duration": 13,
    "start_time": "2022-05-30T11:27:47.590Z"
   },
   {
    "duration": 23,
    "start_time": "2022-05-30T11:27:47.605Z"
   },
   {
    "duration": 181,
    "start_time": "2022-05-30T11:27:47.629Z"
   },
   {
    "duration": 145,
    "start_time": "2022-05-30T11:27:47.812Z"
   },
   {
    "duration": 205,
    "start_time": "2022-05-30T11:27:47.958Z"
   },
   {
    "duration": 32,
    "start_time": "2022-05-30T11:27:48.164Z"
   },
   {
    "duration": 237,
    "start_time": "2022-05-30T11:27:48.197Z"
   },
   {
    "duration": 216,
    "start_time": "2022-05-30T11:27:48.436Z"
   },
   {
    "duration": 201,
    "start_time": "2022-05-30T11:27:48.654Z"
   },
   {
    "duration": 229,
    "start_time": "2022-05-30T11:27:48.857Z"
   },
   {
    "duration": 7,
    "start_time": "2022-05-30T11:27:49.087Z"
   },
   {
    "duration": 7,
    "start_time": "2022-05-30T11:27:49.095Z"
   },
   {
    "duration": 5,
    "start_time": "2022-05-30T11:27:49.105Z"
   },
   {
    "duration": 8,
    "start_time": "2022-05-30T11:27:49.111Z"
   },
   {
    "duration": 7,
    "start_time": "2022-05-30T11:27:49.120Z"
   },
   {
    "duration": 4,
    "start_time": "2022-05-30T11:27:49.129Z"
   },
   {
    "duration": 8,
    "start_time": "2022-05-30T11:27:49.175Z"
   },
   {
    "duration": 3,
    "start_time": "2022-05-30T11:32:17.408Z"
   },
   {
    "duration": 942,
    "start_time": "2022-05-30T11:32:27.211Z"
   },
   {
    "duration": 45,
    "start_time": "2022-05-30T11:32:28.155Z"
   },
   {
    "duration": 13,
    "start_time": "2022-05-30T11:32:28.202Z"
   },
   {
    "duration": 6,
    "start_time": "2022-05-30T11:32:28.216Z"
   },
   {
    "duration": 171,
    "start_time": "2022-05-30T11:32:28.224Z"
   },
   {
    "duration": 10,
    "start_time": "2022-05-30T11:32:28.397Z"
   },
   {
    "duration": 133,
    "start_time": "2022-05-30T11:32:28.409Z"
   },
   {
    "duration": 92,
    "start_time": "2022-05-30T11:32:28.544Z"
   },
   {
    "duration": 7,
    "start_time": "2022-05-30T11:32:28.638Z"
   },
   {
    "duration": 59,
    "start_time": "2022-05-30T11:32:28.646Z"
   },
   {
    "duration": 136,
    "start_time": "2022-05-30T11:32:28.707Z"
   },
   {
    "duration": 9,
    "start_time": "2022-05-30T11:32:28.844Z"
   },
   {
    "duration": 76,
    "start_time": "2022-05-30T11:32:28.854Z"
   },
   {
    "duration": 20,
    "start_time": "2022-05-30T11:32:28.933Z"
   },
   {
    "duration": 6,
    "start_time": "2022-05-30T11:32:28.955Z"
   },
   {
    "duration": 16,
    "start_time": "2022-05-30T11:32:28.962Z"
   },
   {
    "duration": 82,
    "start_time": "2022-05-30T11:32:28.979Z"
   },
   {
    "duration": 31,
    "start_time": "2022-05-30T11:32:29.062Z"
   },
   {
    "duration": 22,
    "start_time": "2022-05-30T11:32:29.094Z"
   },
   {
    "duration": 7,
    "start_time": "2022-05-30T11:32:29.117Z"
   },
   {
    "duration": 17,
    "start_time": "2022-05-30T11:32:29.126Z"
   },
   {
    "duration": 41,
    "start_time": "2022-05-30T11:32:29.145Z"
   },
   {
    "duration": 7,
    "start_time": "2022-05-30T11:32:29.187Z"
   },
   {
    "duration": 22,
    "start_time": "2022-05-30T11:32:29.195Z"
   },
   {
    "duration": 18,
    "start_time": "2022-05-30T11:32:29.218Z"
   },
   {
    "duration": 7,
    "start_time": "2022-05-30T11:32:29.237Z"
   },
   {
    "duration": 38,
    "start_time": "2022-05-30T11:32:29.245Z"
   },
   {
    "duration": 7,
    "start_time": "2022-05-30T11:32:29.285Z"
   },
   {
    "duration": 6,
    "start_time": "2022-05-30T11:32:29.294Z"
   },
   {
    "duration": 15,
    "start_time": "2022-05-30T11:32:29.301Z"
   },
   {
    "duration": 10,
    "start_time": "2022-05-30T11:32:29.317Z"
   },
   {
    "duration": 4,
    "start_time": "2022-05-30T11:32:29.329Z"
   },
   {
    "duration": 77,
    "start_time": "2022-05-30T11:32:29.334Z"
   },
   {
    "duration": 13,
    "start_time": "2022-05-30T11:32:29.412Z"
   },
   {
    "duration": 22,
    "start_time": "2022-05-30T11:32:29.427Z"
   },
   {
    "duration": 182,
    "start_time": "2022-05-30T11:32:29.451Z"
   },
   {
    "duration": 162,
    "start_time": "2022-05-30T11:32:29.635Z"
   },
   {
    "duration": 223,
    "start_time": "2022-05-30T11:32:29.799Z"
   },
   {
    "duration": 24,
    "start_time": "2022-05-30T11:32:30.024Z"
   },
   {
    "duration": 236,
    "start_time": "2022-05-30T11:32:30.049Z"
   },
   {
    "duration": 228,
    "start_time": "2022-05-30T11:32:30.289Z"
   },
   {
    "duration": 214,
    "start_time": "2022-05-30T11:32:30.519Z"
   },
   {
    "duration": 231,
    "start_time": "2022-05-30T11:32:30.734Z"
   },
   {
    "duration": 11,
    "start_time": "2022-05-30T11:32:30.967Z"
   },
   {
    "duration": 5,
    "start_time": "2022-05-30T11:32:30.980Z"
   },
   {
    "duration": 5,
    "start_time": "2022-05-30T11:32:30.986Z"
   },
   {
    "duration": 21,
    "start_time": "2022-05-30T11:32:30.993Z"
   },
   {
    "duration": 7,
    "start_time": "2022-05-30T11:32:31.016Z"
   },
   {
    "duration": 4,
    "start_time": "2022-05-30T11:32:31.024Z"
   },
   {
    "duration": 15,
    "start_time": "2022-05-30T11:32:31.030Z"
   }
  ],
  "kernelspec": {
   "display_name": "Python 3 (ipykernel)",
   "language": "python",
   "name": "python3"
  },
  "language_info": {
   "codemirror_mode": {
    "name": "ipython",
    "version": 3
   },
   "file_extension": ".py",
   "mimetype": "text/x-python",
   "name": "python",
   "nbconvert_exporter": "python",
   "pygments_lexer": "ipython3",
   "version": "3.9.7"
  },
  "toc": {
   "base_numbering": 1,
   "nav_menu": {},
   "number_sections": true,
   "sideBar": true,
   "skip_h1_title": true,
   "title_cell": "Table of Contents",
   "title_sidebar": "Contents",
   "toc_cell": false,
   "toc_position": {},
   "toc_section_display": true,
   "toc_window_display": false
  }
 },
 "nbformat": 4,
 "nbformat_minor": 2
}
