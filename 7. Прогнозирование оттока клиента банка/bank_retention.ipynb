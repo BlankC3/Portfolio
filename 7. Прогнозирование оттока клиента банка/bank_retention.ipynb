{
 "cells": [
  {
   "cell_type": "markdown",
   "metadata": {
    "toc": true
   },
   "source": [
    "<h1>Содержание<span class=\"tocSkip\"></span></h1>\n",
    "<div class=\"toc\"><ul class=\"toc-item\"><li><span><a href=\"#Подготовка-данных\" data-toc-modified-id=\"Подготовка-данных-1\"><span class=\"toc-item-num\">1&nbsp;&nbsp;</span>Подготовка данных</a></span></li><li><span><a href=\"#Исследование-задачи\" data-toc-modified-id=\"Исследование-задачи-2\"><span class=\"toc-item-num\">2&nbsp;&nbsp;</span>Исследование задачи</a></span></li><li><span><a href=\"#Борьба-с-дисбалансом\" data-toc-modified-id=\"Борьба-с-дисбалансом-3\"><span class=\"toc-item-num\">3&nbsp;&nbsp;</span>Борьба с дисбалансом</a></span><ul class=\"toc-item\"><li><span><a href=\"#DecisionTreeClassifier-и-метод-class-weight\" data-toc-modified-id=\"DecisionTreeClassifier-и-метод-class-weight-3.1\"><span class=\"toc-item-num\">3.1&nbsp;&nbsp;</span>DecisionTreeClassifier и метод class weight</a></span></li><li><span><a href=\"#DecisionTreeClassifier-и-метод-upsampling\" data-toc-modified-id=\"DecisionTreeClassifier-и-метод-upsampling-3.2\"><span class=\"toc-item-num\">3.2&nbsp;&nbsp;</span>DecisionTreeClassifier и метод upsampling</a></span></li><li><span><a href=\"#DecisionTreeClassifier-и-метод-downsampling\" data-toc-modified-id=\"DecisionTreeClassifier-и-метод-downsampling-3.3\"><span class=\"toc-item-num\">3.3&nbsp;&nbsp;</span>DecisionTreeClassifier и метод downsampling</a></span></li><li><span><a href=\"#RandomForestClassifier-и-метод-class-weight\" data-toc-modified-id=\"RandomForestClassifier-и-метод-class-weight-3.4\"><span class=\"toc-item-num\">3.4&nbsp;&nbsp;</span>RandomForestClassifier и метод class weight</a></span></li><li><span><a href=\"#RandomForestClassifier-и-метод-upsampling\" data-toc-modified-id=\"RandomForestClassifier-и-метод-upsampling-3.5\"><span class=\"toc-item-num\">3.5&nbsp;&nbsp;</span>RandomForestClassifier и метод upsampling</a></span></li><li><span><a href=\"#RandomForestClassifier-и-метод-downsampling\" data-toc-modified-id=\"RandomForestClassifier-и-метод-downsampling-3.6\"><span class=\"toc-item-num\">3.6&nbsp;&nbsp;</span>RandomForestClassifier и метод downsampling</a></span></li></ul></li><li><span><a href=\"#Тестирование-модели\" data-toc-modified-id=\"Тестирование-модели-4\"><span class=\"toc-item-num\">4&nbsp;&nbsp;</span>Тестирование модели</a></span></li><li><span><a href=\"#Чек-лист-готовности-проекта\" data-toc-modified-id=\"Чек-лист-готовности-проекта-5\"><span class=\"toc-item-num\">5&nbsp;&nbsp;</span>Чек-лист готовности проекта</a></span></li><li><span><a href=\"#Выводы\" data-toc-modified-id=\"Выводы-6\"><span class=\"toc-item-num\">6&nbsp;&nbsp;</span>Выводы</a></span></li></ul></div>"
   ]
  },
  {
   "cell_type": "markdown",
   "metadata": {},
   "source": [
    "# Отток клиентов"
   ]
  },
  {
   "cell_type": "markdown",
   "metadata": {},
   "source": [
    "Из «Бета-Банка» стали уходить клиенты. Каждый месяц. Немного, но заметно. Банковские маркетологи посчитали: сохранять текущих клиентов дешевле, чем привлекать новых.\n",
    "\n",
    "Нужно спрогнозировать, уйдёт клиент из банка в ближайшее время или нет. Вам предоставлены исторические данные о поведении клиентов и расторжении договоров с банком. \n",
    "\n",
    "Постройте модель с предельно большим значением *F1*-меры. Чтобы сдать проект успешно, нужно довести метрику до 0.59. Проверьте *F1*-меру на тестовой выборке самостоятельно.\n",
    "\n",
    "Дополнительно измеряйте *AUC-ROC*, сравнивайте её значение с *F1*-мерой.\n",
    "\n",
    "Источник данных: [https://www.kaggle.com/barelydedicated/bank-customer-churn-modeling](https://www.kaggle.com/barelydedicated/bank-customer-churn-modeling)"
   ]
  },
  {
   "cell_type": "markdown",
   "metadata": {},
   "source": [
    "Признаки:<br>\n",
    "* RowNumber — индекс строки в данных<br>\n",
    "* CustomerId — уникальный идентификатор клиента<br>\n",
    "* Surname — фамилия<br>\n",
    "* CreditScore — кредитный рейтинг<br>\n",
    "* Geography — страна проживания<br>\n",
    "* Gender — пол<br>\n",
    "* Age — возраст<br>\n",
    "* Tenure — сколько лет человек является клиентом банка<br>\n",
    "* Balance — баланс на счёте<br>\n",
    "* NumOfProducts — количество продуктов банка, используемых клиентом<br>\n",
    "* HasCrCard — наличие кредитной карты<br>\n",
    "* IsActiveMember — активность клиента<br>\n",
    "* EstimatedSalary — предполагаемая зарплата<br>\n",
    "\n",
    "Целевой признак:<br>\n",
    "* Exited — факт ухода клиента"
   ]
  },
  {
   "cell_type": "markdown",
   "metadata": {},
   "source": [
    "## Подготовка данных"
   ]
  },
  {
   "cell_type": "code",
   "execution_count": 1,
   "metadata": {},
   "outputs": [],
   "source": [
    "import pandas as pd\n",
    "from sklearn.preprocessing import StandardScaler\n",
    "from sklearn.tree import DecisionTreeClassifier\n",
    "from sklearn.metrics import confusion_matrix\n",
    "from sklearn.model_selection import train_test_split\n",
    "import seaborn as sns\n",
    "import matplotlib.pyplot as plt\n",
    "from sklearn.metrics import precision_score, recall_score, f1_score\n",
    "from sklearn.utils import shuffle\n",
    "from sklearn.ensemble import RandomForestClassifier\n",
    "from sklearn.metrics import roc_auc_score\n",
    "from collections import defaultdict"
   ]
  },
  {
   "cell_type": "code",
   "execution_count": 2,
   "metadata": {},
   "outputs": [
    {
     "name": "stdout",
     "output_type": "stream",
     "text": [
      "<class 'pandas.core.frame.DataFrame'>\n",
      "RangeIndex: 10000 entries, 0 to 9999\n",
      "Data columns (total 14 columns):\n",
      " #   Column           Non-Null Count  Dtype  \n",
      "---  ------           --------------  -----  \n",
      " 0   RowNumber        10000 non-null  int64  \n",
      " 1   CustomerId       10000 non-null  int64  \n",
      " 2   Surname          10000 non-null  object \n",
      " 3   CreditScore      10000 non-null  int64  \n",
      " 4   Geography        10000 non-null  object \n",
      " 5   Gender           10000 non-null  object \n",
      " 6   Age              10000 non-null  int64  \n",
      " 7   Tenure           9091 non-null   float64\n",
      " 8   Balance          10000 non-null  float64\n",
      " 9   NumOfProducts    10000 non-null  int64  \n",
      " 10  HasCrCard        10000 non-null  int64  \n",
      " 11  IsActiveMember   10000 non-null  int64  \n",
      " 12  EstimatedSalary  10000 non-null  float64\n",
      " 13  Exited           10000 non-null  int64  \n",
      "dtypes: float64(3), int64(8), object(3)\n",
      "memory usage: 1.1+ MB\n"
     ]
    }
   ],
   "source": [
    "data = pd.read_csv('/datasets/Churn.csv')\n",
    "data.info()"
   ]
  },
  {
   "cell_type": "code",
   "execution_count": 3,
   "metadata": {},
   "outputs": [
    {
     "data": {
      "text/html": [
       "<div>\n",
       "<style scoped>\n",
       "    .dataframe tbody tr th:only-of-type {\n",
       "        vertical-align: middle;\n",
       "    }\n",
       "\n",
       "    .dataframe tbody tr th {\n",
       "        vertical-align: top;\n",
       "    }\n",
       "\n",
       "    .dataframe thead th {\n",
       "        text-align: right;\n",
       "    }\n",
       "</style>\n",
       "<table border=\"1\" class=\"dataframe\">\n",
       "  <thead>\n",
       "    <tr style=\"text-align: right;\">\n",
       "      <th></th>\n",
       "      <th>RowNumber</th>\n",
       "      <th>CustomerId</th>\n",
       "      <th>Surname</th>\n",
       "      <th>CreditScore</th>\n",
       "      <th>Geography</th>\n",
       "      <th>Gender</th>\n",
       "      <th>Age</th>\n",
       "      <th>Tenure</th>\n",
       "      <th>Balance</th>\n",
       "      <th>NumOfProducts</th>\n",
       "      <th>HasCrCard</th>\n",
       "      <th>IsActiveMember</th>\n",
       "      <th>EstimatedSalary</th>\n",
       "      <th>Exited</th>\n",
       "    </tr>\n",
       "  </thead>\n",
       "  <tbody>\n",
       "    <tr>\n",
       "      <th>0</th>\n",
       "      <td>1</td>\n",
       "      <td>15634602</td>\n",
       "      <td>Hargrave</td>\n",
       "      <td>619</td>\n",
       "      <td>France</td>\n",
       "      <td>Female</td>\n",
       "      <td>42</td>\n",
       "      <td>2.0</td>\n",
       "      <td>0.00</td>\n",
       "      <td>1</td>\n",
       "      <td>1</td>\n",
       "      <td>1</td>\n",
       "      <td>101348.88</td>\n",
       "      <td>1</td>\n",
       "    </tr>\n",
       "    <tr>\n",
       "      <th>1</th>\n",
       "      <td>2</td>\n",
       "      <td>15647311</td>\n",
       "      <td>Hill</td>\n",
       "      <td>608</td>\n",
       "      <td>Spain</td>\n",
       "      <td>Female</td>\n",
       "      <td>41</td>\n",
       "      <td>1.0</td>\n",
       "      <td>83807.86</td>\n",
       "      <td>1</td>\n",
       "      <td>0</td>\n",
       "      <td>1</td>\n",
       "      <td>112542.58</td>\n",
       "      <td>0</td>\n",
       "    </tr>\n",
       "    <tr>\n",
       "      <th>2</th>\n",
       "      <td>3</td>\n",
       "      <td>15619304</td>\n",
       "      <td>Onio</td>\n",
       "      <td>502</td>\n",
       "      <td>France</td>\n",
       "      <td>Female</td>\n",
       "      <td>42</td>\n",
       "      <td>8.0</td>\n",
       "      <td>159660.80</td>\n",
       "      <td>3</td>\n",
       "      <td>1</td>\n",
       "      <td>0</td>\n",
       "      <td>113931.57</td>\n",
       "      <td>1</td>\n",
       "    </tr>\n",
       "    <tr>\n",
       "      <th>3</th>\n",
       "      <td>4</td>\n",
       "      <td>15701354</td>\n",
       "      <td>Boni</td>\n",
       "      <td>699</td>\n",
       "      <td>France</td>\n",
       "      <td>Female</td>\n",
       "      <td>39</td>\n",
       "      <td>1.0</td>\n",
       "      <td>0.00</td>\n",
       "      <td>2</td>\n",
       "      <td>0</td>\n",
       "      <td>0</td>\n",
       "      <td>93826.63</td>\n",
       "      <td>0</td>\n",
       "    </tr>\n",
       "    <tr>\n",
       "      <th>4</th>\n",
       "      <td>5</td>\n",
       "      <td>15737888</td>\n",
       "      <td>Mitchell</td>\n",
       "      <td>850</td>\n",
       "      <td>Spain</td>\n",
       "      <td>Female</td>\n",
       "      <td>43</td>\n",
       "      <td>2.0</td>\n",
       "      <td>125510.82</td>\n",
       "      <td>1</td>\n",
       "      <td>1</td>\n",
       "      <td>1</td>\n",
       "      <td>79084.10</td>\n",
       "      <td>0</td>\n",
       "    </tr>\n",
       "    <tr>\n",
       "      <th>5</th>\n",
       "      <td>6</td>\n",
       "      <td>15574012</td>\n",
       "      <td>Chu</td>\n",
       "      <td>645</td>\n",
       "      <td>Spain</td>\n",
       "      <td>Male</td>\n",
       "      <td>44</td>\n",
       "      <td>8.0</td>\n",
       "      <td>113755.78</td>\n",
       "      <td>2</td>\n",
       "      <td>1</td>\n",
       "      <td>0</td>\n",
       "      <td>149756.71</td>\n",
       "      <td>1</td>\n",
       "    </tr>\n",
       "    <tr>\n",
       "      <th>6</th>\n",
       "      <td>7</td>\n",
       "      <td>15592531</td>\n",
       "      <td>Bartlett</td>\n",
       "      <td>822</td>\n",
       "      <td>France</td>\n",
       "      <td>Male</td>\n",
       "      <td>50</td>\n",
       "      <td>7.0</td>\n",
       "      <td>0.00</td>\n",
       "      <td>2</td>\n",
       "      <td>1</td>\n",
       "      <td>1</td>\n",
       "      <td>10062.80</td>\n",
       "      <td>0</td>\n",
       "    </tr>\n",
       "    <tr>\n",
       "      <th>7</th>\n",
       "      <td>8</td>\n",
       "      <td>15656148</td>\n",
       "      <td>Obinna</td>\n",
       "      <td>376</td>\n",
       "      <td>Germany</td>\n",
       "      <td>Female</td>\n",
       "      <td>29</td>\n",
       "      <td>4.0</td>\n",
       "      <td>115046.74</td>\n",
       "      <td>4</td>\n",
       "      <td>1</td>\n",
       "      <td>0</td>\n",
       "      <td>119346.88</td>\n",
       "      <td>1</td>\n",
       "    </tr>\n",
       "    <tr>\n",
       "      <th>8</th>\n",
       "      <td>9</td>\n",
       "      <td>15792365</td>\n",
       "      <td>He</td>\n",
       "      <td>501</td>\n",
       "      <td>France</td>\n",
       "      <td>Male</td>\n",
       "      <td>44</td>\n",
       "      <td>4.0</td>\n",
       "      <td>142051.07</td>\n",
       "      <td>2</td>\n",
       "      <td>0</td>\n",
       "      <td>1</td>\n",
       "      <td>74940.50</td>\n",
       "      <td>0</td>\n",
       "    </tr>\n",
       "    <tr>\n",
       "      <th>9</th>\n",
       "      <td>10</td>\n",
       "      <td>15592389</td>\n",
       "      <td>H?</td>\n",
       "      <td>684</td>\n",
       "      <td>France</td>\n",
       "      <td>Male</td>\n",
       "      <td>27</td>\n",
       "      <td>2.0</td>\n",
       "      <td>134603.88</td>\n",
       "      <td>1</td>\n",
       "      <td>1</td>\n",
       "      <td>1</td>\n",
       "      <td>71725.73</td>\n",
       "      <td>0</td>\n",
       "    </tr>\n",
       "  </tbody>\n",
       "</table>\n",
       "</div>"
      ],
      "text/plain": [
       "   RowNumber  CustomerId   Surname  CreditScore Geography  Gender  Age  \\\n",
       "0          1    15634602  Hargrave          619    France  Female   42   \n",
       "1          2    15647311      Hill          608     Spain  Female   41   \n",
       "2          3    15619304      Onio          502    France  Female   42   \n",
       "3          4    15701354      Boni          699    France  Female   39   \n",
       "4          5    15737888  Mitchell          850     Spain  Female   43   \n",
       "5          6    15574012       Chu          645     Spain    Male   44   \n",
       "6          7    15592531  Bartlett          822    France    Male   50   \n",
       "7          8    15656148    Obinna          376   Germany  Female   29   \n",
       "8          9    15792365        He          501    France    Male   44   \n",
       "9         10    15592389        H?          684    France    Male   27   \n",
       "\n",
       "   Tenure    Balance  NumOfProducts  HasCrCard  IsActiveMember  \\\n",
       "0     2.0       0.00              1          1               1   \n",
       "1     1.0   83807.86              1          0               1   \n",
       "2     8.0  159660.80              3          1               0   \n",
       "3     1.0       0.00              2          0               0   \n",
       "4     2.0  125510.82              1          1               1   \n",
       "5     8.0  113755.78              2          1               0   \n",
       "6     7.0       0.00              2          1               1   \n",
       "7     4.0  115046.74              4          1               0   \n",
       "8     4.0  142051.07              2          0               1   \n",
       "9     2.0  134603.88              1          1               1   \n",
       "\n",
       "   EstimatedSalary  Exited  \n",
       "0        101348.88       1  \n",
       "1        112542.58       0  \n",
       "2        113931.57       1  \n",
       "3         93826.63       0  \n",
       "4         79084.10       0  \n",
       "5        149756.71       1  \n",
       "6         10062.80       0  \n",
       "7        119346.88       1  \n",
       "8         74940.50       0  \n",
       "9         71725.73       0  "
      ]
     },
     "execution_count": 3,
     "metadata": {},
     "output_type": "execute_result"
    }
   ],
   "source": [
    "data.head(10)"
   ]
  },
  {
   "cell_type": "markdown",
   "metadata": {},
   "source": [
    "Сразу возникает два вопроса с данными.<br>\n",
    "* Очень много пропусков в столбце с количеством лет пользования банком. Заполнять медианным, мне кажется, было бы не совсем корректно. Поэтому пока я эти строки убрал.<br>\n",
    "* RowNumber, CustomerId, Surname нам явно не нужны для построения модели, попрощаемся с ними."
   ]
  },
  {
   "cell_type": "code",
   "execution_count": 4,
   "metadata": {},
   "outputs": [],
   "source": [
    "data = data.loc[~data['Tenure'].isna()]"
   ]
  },
  {
   "cell_type": "code",
   "execution_count": 5,
   "metadata": {},
   "outputs": [],
   "source": [
    "data = data.drop(['RowNumber', 'CustomerId', 'Surname'], axis = 1)"
   ]
  },
  {
   "cell_type": "markdown",
   "metadata": {},
   "source": [
    "Применим технику OHE для преобразования категориальных признаков, не забывая о dummy-ловушке."
   ]
  },
  {
   "cell_type": "code",
   "execution_count": 6,
   "metadata": {},
   "outputs": [],
   "source": [
    "data = pd.get_dummies(data, drop_first=True)"
   ]
  },
  {
   "cell_type": "code",
   "execution_count": 7,
   "metadata": {},
   "outputs": [],
   "source": [
    "numeric = ['CreditScore', 'Age', 'Tenure', 'Balance', 'NumOfProducts', 'EstimatedSalary'] #численные признаки"
   ]
  },
  {
   "cell_type": "markdown",
   "metadata": {},
   "source": [
    "Выделим целевой показатель и признаки."
   ]
  },
  {
   "cell_type": "code",
   "execution_count": 8,
   "metadata": {},
   "outputs": [],
   "source": [
    "target = data['Exited']\n",
    "features = data.drop('Exited', axis = 1)"
   ]
  },
  {
   "cell_type": "markdown",
   "metadata": {},
   "source": [
    "Разделим выборки на обучающую, тестовую и валидационную. "
   ]
  },
  {
   "cell_type": "code",
   "execution_count": 9,
   "metadata": {},
   "outputs": [],
   "source": [
    "features_train, features_remaining, target_train, target_remaining = train_test_split(\n",
    "    features,target, train_size=0.6, random_state = 12345)\n",
    "features_valid, features_test, target_valid, target_test = train_test_split(\n",
    "    features_remaining,target_remaining, test_size=0.5, random_state = 12345)"
   ]
  },
  {
   "cell_type": "markdown",
   "metadata": {},
   "source": [
    "Масштабируем признаки."
   ]
  },
  {
   "cell_type": "code",
   "execution_count": 10,
   "metadata": {},
   "outputs": [],
   "source": [
    "pd.options.mode.chained_assignment = None\n",
    "scaler = StandardScaler()\n",
    "scaler.fit(features_train[numeric]) \n",
    "features_train[numeric] = scaler.transform(features_train[numeric])\n",
    "features_valid[numeric] = scaler.transform(features_valid[numeric]) \n",
    "features_test[numeric] = scaler.transform(features_test[numeric])"
   ]
  },
  {
   "cell_type": "code",
   "execution_count": 11,
   "metadata": {
    "scrolled": true
   },
   "outputs": [
    {
     "name": "stdout",
     "output_type": "stream",
     "text": [
      "Обучающая выборка: (5454, 11) (5454,)\n",
      "Валидационная выборка: (1818, 11) (1818,)\n",
      "Тестовая выборка: (1819, 11) (1819,)\n"
     ]
    }
   ],
   "source": [
    "print(\"Обучающая выборка:\", features_train.shape, target_train.shape)\n",
    "print(\"Валидационная выборка:\", features_valid.shape, target_valid.shape)\n",
    "print(\"Тестовая выборка:\", features_test.shape, target_test.shape)"
   ]
  },
  {
   "cell_type": "markdown",
   "metadata": {},
   "source": [
    "## Исследование задачи"
   ]
  },
  {
   "cell_type": "markdown",
   "metadata": {},
   "source": [
    "Изучим баланс классов. <br>\n",
    "Построим матрицу ошибок."
   ]
  },
  {
   "cell_type": "code",
   "execution_count": 12,
   "metadata": {},
   "outputs": [
    {
     "data": {
      "image/png": "[encoded data removed]",
      "text/plain": [
       "<Figure size 432x288 with 2 Axes>"
      ]
     },
     "metadata": {
      "needs_background": "light"
     },
     "output_type": "display_data"
    }
   ],
   "source": [
    "model = DecisionTreeClassifier(random_state=12345)\n",
    "model.fit(features_train, target_train)\n",
    "predicted_valid = model.predict(features_valid)\n",
    "\n",
    "cm = confusion_matrix(target_valid, predicted_valid)\n",
    "ax = sns.heatmap(cm, annot=True, cmap='Blues', fmt='g')\n",
    "\n",
    "ax.set_title('Матрица ошибок\\n');\n",
    "ax.set_xlabel('Предсказания')\n",
    "ax.set_ylabel('Ответы');\n",
    "\n",
    "ax.xaxis.set_ticklabels(['Истина','Ложь'])\n",
    "ax.yaxis.set_ticklabels(['Истина','Ложь'])\n",
    "\n",
    "plt.show()"
   ]
  },
  {
   "cell_type": "markdown",
   "metadata": {},
   "source": [
    "Рассчитаем полноту, точность и F1-меру:"
   ]
  },
  {
   "cell_type": "code",
   "execution_count": 13,
   "metadata": {},
   "outputs": [
    {
     "name": "stdout",
     "output_type": "stream",
     "text": [
      "Полнота: 0.4907161803713528\n",
      "Точность: 0.4946524064171123\n",
      "F1-мера: 0.4926764314247669\n"
     ]
    }
   ],
   "source": [
    "print('Полнота:', recall_score(target_valid, predicted_valid))\n",
    "print('Точность:', precision_score(target_valid, predicted_valid))\n",
    "print('F1-мера:', f1_score(target_valid, predicted_valid))"
   ]
  },
  {
   "cell_type": "markdown",
   "metadata": {},
   "source": [
    "F1-мера в 0.49 далека от требуемой по условию задачи в 0.59. <br>\n",
    "Полнота и точность также не близки к 1, поэтому над моделью придётся поработать."
   ]
  },
  {
   "cell_type": "code",
   "execution_count": 14,
   "metadata": {},
   "outputs": [
    {
     "data": {
      "text/plain": [
       "0.6797786314764468"
      ]
     },
     "execution_count": 14,
     "metadata": {},
     "output_type": "execute_result"
    }
   ],
   "source": [
    "probabilities_valid = model.predict_proba(features_valid)\n",
    "probabilities_one_valid = probabilities_valid[:, 1]\n",
    "roc_auc_score(target_valid, probabilities_one_valid)"
   ]
  },
  {
   "cell_type": "markdown",
   "metadata": {},
   "source": [
    "## Борьба с дисбалансом"
   ]
  },
  {
   "cell_type": "markdown",
   "metadata": {},
   "source": [
    "Для начала разделим выборку на положительные и отрицательные ответы."
   ]
  },
  {
   "cell_type": "code",
   "execution_count": 15,
   "metadata": {},
   "outputs": [
    {
     "name": "stdout",
     "output_type": "stream",
     "text": [
      "(4328, 11)\n",
      "(1126, 11)\n",
      "(4328,)\n",
      "(1126,)\n"
     ]
    }
   ],
   "source": [
    "features_zeros = features_train[target_train == 0] \n",
    "features_ones = features_train[target_train == 1] \n",
    "target_zeros = target_train[target_train == 0]\n",
    "target_ones = target_train[target_train == 1] \n",
    "print(features_zeros.shape)\n",
    "print(features_ones.shape)\n",
    "print(target_zeros.shape)\n",
    "print(target_ones.shape)"
   ]
  },
  {
   "cell_type": "markdown",
   "metadata": {},
   "source": [
    "Ага, отрицательных у нас больше раза в четыре, что ж, исправим это нашей функцией из обучающей части."
   ]
  },
  {
   "cell_type": "code",
   "execution_count": 16,
   "metadata": {},
   "outputs": [],
   "source": [
    "def upsample(features, target, repeat):\n",
    "    features_zeros = features[target == 0]\n",
    "    features_ones = features[target == 1]\n",
    "    target_zeros = target[target == 0]\n",
    "    target_ones = target[target == 1]\n",
    "\n",
    "    features_upsampled = pd.concat([features_zeros] + [features_ones] * repeat)\n",
    "    target_upsampled = pd.concat([target_zeros] + [target_ones] * repeat)\n",
    "    \n",
    "    features_upsampled, target_upsampled = shuffle(\n",
    "        features_upsampled, target_upsampled, random_state=12345)\n",
    "    \n",
    "    return features_upsampled, target_upsampled\n",
    "\n",
    "features_upsampled, target_upsampled = upsample(features_train, target_train, 4)"
   ]
  },
  {
   "cell_type": "markdown",
   "metadata": {},
   "source": [
    "Теперь посмотрим на результат."
   ]
  },
  {
   "cell_type": "code",
   "execution_count": 17,
   "metadata": {},
   "outputs": [
    {
     "name": "stdout",
     "output_type": "stream",
     "text": [
      "F1: 0.46195652173913043\n"
     ]
    }
   ],
   "source": [
    "model = DecisionTreeClassifier(random_state = 12345)\n",
    "model.fit(features_upsampled, target_upsampled)\n",
    "predicted_valid = model.predict(features_valid)\n",
    "print(\"F1:\", f1_score(target_valid, predicted_valid))"
   ]
  },
  {
   "cell_type": "markdown",
   "metadata": {},
   "source": [
    "И... стало только хуже. Попробуем сделать наоборот - downsampling."
   ]
  },
  {
   "cell_type": "code",
   "execution_count": 18,
   "metadata": {},
   "outputs": [],
   "source": [
    "def downsample(features, target, fraction):\n",
    "    features_zeros = features[target == 0]\n",
    "    features_ones = features[target == 1]\n",
    "    target_zeros = target[target == 0]\n",
    "    target_ones = target[target == 1]\n",
    "\n",
    "    features_downsampled = pd.concat(\n",
    "        [features_zeros.sample(frac=fraction, random_state=12345)] + [features_ones])\n",
    "    target_downsampled = pd.concat(\n",
    "        [target_zeros.sample(frac=fraction, random_state=12345)] + [target_ones])\n",
    "    \n",
    "    features_downsampled, target_downsampled = shuffle(\n",
    "        features_downsampled, target_downsampled, random_state=12345)\n",
    "    \n",
    "    return features_downsampled, target_downsampled\n",
    "\n",
    "features_downsampled, target_downsampled = downsample(features_train, target_train, 0.25)"
   ]
  },
  {
   "cell_type": "code",
   "execution_count": 19,
   "metadata": {},
   "outputs": [
    {
     "name": "stdout",
     "output_type": "stream",
     "text": [
      "F1: 0.5076507650765076\n"
     ]
    }
   ],
   "source": [
    "model = DecisionTreeClassifier(random_state = 12345)\n",
    "model.fit(features_downsampled, target_downsampled)\n",
    "predicted_valid = model.predict(features_valid)\n",
    "print(\"F1:\", f1_score(target_valid, predicted_valid))"
   ]
  },
  {
   "cell_type": "markdown",
   "metadata": {},
   "source": [
    "Ура, у нас улучшение. Что ж, функции написаны, пора сделать общий анализ и не только для модели DecisionTreeClassifier."
   ]
  },
  {
   "cell_type": "code",
   "execution_count": 20,
   "metadata": {},
   "outputs": [],
   "source": [
    "summary = defaultdict(list) #словарь для итоговой таблицы"
   ]
  },
  {
   "cell_type": "markdown",
   "metadata": {},
   "source": [
    "### DecisionTreeClassifier и метод class weight"
   ]
  },
  {
   "cell_type": "code",
   "execution_count": 21,
   "metadata": {},
   "outputs": [
    {
     "name": "stdout",
     "output_type": "stream",
     "text": [
      "Лучший результат: 0.5735449735449736 с глубиной 5\n"
     ]
    }
   ],
   "source": [
    "best_result = 0\n",
    "best_model = None\n",
    "best_depth = 0\n",
    "\n",
    "for depth in range(1, 21):\n",
    "    model = DecisionTreeClassifier(random_state=12345, max_depth=depth, class_weight = 'balanced') # выбор модели\n",
    "    model.fit(features_train, target_train) # обучение модель\n",
    "    predicted_valid = model.predict(features_valid) # получения предсказания для модели\n",
    "    result = f1_score(target_valid, predicted_valid) # считаем f1-меру\n",
    "    if result > best_result:\n",
    "        best_model = model\n",
    "        best_result = result\n",
    "        best_depth = depth\n",
    "            \n",
    "probabilities_valid = best_model.predict_proba(features_valid)\n",
    "probabilities_one_valid = probabilities_valid[:, 1]\n",
    "\n",
    "summary['F1_balanced'].append(best_result)\n",
    "summary['AUC-ROC_balanced'].append(roc_auc_score(target_valid, probabilities_one_valid))\n",
    "\n",
    "print('Лучший результат:', best_result, 'с глубиной', best_depth)"
   ]
  },
  {
   "cell_type": "markdown",
   "metadata": {},
   "source": [
    "### DecisionTreeClassifier и метод upsampling"
   ]
  },
  {
   "cell_type": "code",
   "execution_count": 22,
   "metadata": {},
   "outputs": [
    {
     "name": "stdout",
     "output_type": "stream",
     "text": [
      "Лучший результат: 0.5735449735449736 с глубиной 5\n"
     ]
    }
   ],
   "source": [
    "best_result = 0\n",
    "best_model = None\n",
    "best_depth = 0\n",
    "\n",
    "for depth in range(1, 21):\n",
    "    model = DecisionTreeClassifier(random_state=12345, max_depth=depth) # выбор модели\n",
    "    model.fit(features_upsampled, target_upsampled) # обучение модель\n",
    "    predicted_valid = model.predict(features_valid) # получения предсказания для модели\n",
    "    result = f1_score(target_valid, predicted_valid) # считаем f1-меру\n",
    "    if result > best_result:\n",
    "        best_model = model\n",
    "        best_result = result\n",
    "        best_depth = depth\n",
    "        \n",
    "probabilities_valid = best_model.predict_proba(features_valid)\n",
    "probabilities_one_valid = probabilities_valid[:, 1]\n",
    "\n",
    "summary['F1_upsampled'].append(best_result)\n",
    "summary['AUC-ROC_upsampled'].append(roc_auc_score(target_valid, probabilities_one_valid))\n",
    "\n",
    "print('Лучший результат:', best_result, 'с глубиной', best_depth)"
   ]
  },
  {
   "cell_type": "markdown",
   "metadata": {},
   "source": [
    "### DecisionTreeClassifier и метод downsampling"
   ]
  },
  {
   "cell_type": "code",
   "execution_count": 23,
   "metadata": {},
   "outputs": [
    {
     "name": "stdout",
     "output_type": "stream",
     "text": [
      "Лучший результат: 0.5636704119850188 с глубиной 6\n"
     ]
    }
   ],
   "source": [
    "best_result = 0\n",
    "best_model = None\n",
    "best_depth = 0\n",
    "\n",
    "for depth in range(1, 21):\n",
    "    model = DecisionTreeClassifier(random_state=12345, max_depth=depth) # выбор модели\n",
    "    model.fit(features_downsampled, target_downsampled) # обучение модель\n",
    "    predicted_valid = model.predict(features_valid) # получения предсказания для модели\n",
    "    result = f1_score(target_valid, predicted_valid) # считаем f1-меру\n",
    "    if result > best_result:\n",
    "        best_model = model\n",
    "        best_result = result\n",
    "        best_depth = depth\n",
    "\n",
    "probabilities_valid = best_model.predict_proba(features_valid)\n",
    "probabilities_one_valid = probabilities_valid[:, 1]        \n",
    "        \n",
    "summary['F1_downsampled'].append(best_result)\n",
    "summary['AUC-ROC_downsampled'].append(roc_auc_score(target_valid, probabilities_one_valid))\n",
    "\n",
    "print('Лучший результат:', best_result, 'с глубиной', best_depth)"
   ]
  },
  {
   "cell_type": "markdown",
   "metadata": {},
   "source": [
    "### RandomForestClassifier и метод class weight"
   ]
  },
  {
   "cell_type": "code",
   "execution_count": 24,
   "metadata": {},
   "outputs": [
    {
     "name": "stdout",
     "output_type": "stream",
     "text": [
      "Лучший результат: 0.6497584541062802 с глубиной 9 и количеством оценщиков 10\n"
     ]
    }
   ],
   "source": [
    "best_result = 0\n",
    "best_model = None\n",
    "best_depth = 0\n",
    "best_est = 0\n",
    "\n",
    "for est in range(10, 51, 5):\n",
    "    for depth in range (1, 21):\n",
    "        model = RandomForestClassifier(random_state = 12345, n_estimators=est, max_depth = depth, class_weight = \"balanced\")\n",
    "        model.fit(features_train, target_train) \n",
    "        predicted_valid = model.predict(features_valid)\n",
    "        result = f1_score(target_valid, predicted_valid)\n",
    "        if result > best_result:\n",
    "            best_model = model\n",
    "            best_result = result\n",
    "            best_est = est\n",
    "            best_depth = depth\n",
    "\n",
    "probabilities_valid = best_model.predict_proba(features_valid)\n",
    "probabilities_one_valid = probabilities_valid[:, 1]        \n",
    "        \n",
    "summary['F1_balanced'].append(best_result)\n",
    "summary['AUC-ROC_balanced'].append(roc_auc_score(target_valid, probabilities_one_valid))\n",
    "\n",
    "print('Лучший результат:', best_result, 'с глубиной', best_depth, \"и количеством оценщиков\", best_est)"
   ]
  },
  {
   "cell_type": "markdown",
   "metadata": {},
   "source": [
    "### RandomForestClassifier и метод upsampling"
   ]
  },
  {
   "cell_type": "code",
   "execution_count": 25,
   "metadata": {},
   "outputs": [
    {
     "name": "stdout",
     "output_type": "stream",
     "text": [
      "Лучший результат: 0.6304347826086957 с глубиной 14 и количеством оценщиков 45\n"
     ]
    }
   ],
   "source": [
    "best_result = 0\n",
    "best_model = None\n",
    "best_depth = 0\n",
    "best_est = 0\n",
    "\n",
    "for est in range(10, 51, 5):\n",
    "    for depth in range (1, 21):\n",
    "        model = RandomForestClassifier(random_state = 12345, n_estimators=est, max_depth = depth)\n",
    "        model.fit(features_upsampled, target_upsampled) \n",
    "        predicted_valid = model.predict(features_valid)\n",
    "        result = f1_score(target_valid, predicted_valid)\n",
    "        if result > best_result:\n",
    "            best_model = model\n",
    "            best_result = result\n",
    "            best_est = est\n",
    "            best_depth = depth\n",
    "\n",
    "probabilities_valid = best_model.predict_proba(features_valid)\n",
    "probabilities_one_valid = probabilities_valid[:, 1]        \n",
    "        \n",
    "summary['F1_upsampled'].append(best_result)\n",
    "summary['AUC-ROC_upsampled'].append(roc_auc_score(target_valid, probabilities_one_valid))\n",
    "\n",
    "print('Лучший результат:', best_result, 'с глубиной', best_depth, \"и количеством оценщиков\", best_est)"
   ]
  },
  {
   "cell_type": "markdown",
   "metadata": {},
   "source": [
    "### RandomForestClassifier и метод downsampling"
   ]
  },
  {
   "cell_type": "code",
   "execution_count": 26,
   "metadata": {},
   "outputs": [
    {
     "name": "stdout",
     "output_type": "stream",
     "text": [
      "Лучший результат: 0.6072874493927125 с глубиной 8 и количеством оценщиков 40\n"
     ]
    }
   ],
   "source": [
    "best_result = 0\n",
    "best_model = None\n",
    "best_depth = 0\n",
    "best_est = 0\n",
    "\n",
    "for est in range(10, 51, 5):\n",
    "    for depth in range (1, 21):\n",
    "        model = RandomForestClassifier(random_state = 12345, n_estimators=est, max_depth = depth)\n",
    "        model.fit(features_downsampled, target_downsampled) \n",
    "        predicted_valid = model.predict(features_valid)\n",
    "        result = f1_score(target_valid, predicted_valid)\n",
    "        if result > best_result:\n",
    "            best_model = model\n",
    "            best_result = result\n",
    "            best_est = est\n",
    "            best_depth = depth\n",
    "\n",
    "probabilities_valid = best_model.predict_proba(features_valid)\n",
    "probabilities_one_valid = probabilities_valid[:, 1]        \n",
    "        \n",
    "summary['F1_downsampled'].append(best_result)\n",
    "summary['AUC-ROC_downsampled'].append(roc_auc_score(target_valid, probabilities_one_valid))\n",
    "\n",
    "print('Лучший результат:', best_result, 'с глубиной', best_depth, \"и количеством оценщиков\", best_est)"
   ]
  },
  {
   "cell_type": "code",
   "execution_count": 27,
   "metadata": {},
   "outputs": [
    {
     "data": {
      "text/html": [
       "<div>\n",
       "<style scoped>\n",
       "    .dataframe tbody tr th:only-of-type {\n",
       "        vertical-align: middle;\n",
       "    }\n",
       "\n",
       "    .dataframe tbody tr th {\n",
       "        vertical-align: top;\n",
       "    }\n",
       "\n",
       "    .dataframe thead th {\n",
       "        text-align: right;\n",
       "    }\n",
       "</style>\n",
       "<table border=\"1\" class=\"dataframe\">\n",
       "  <thead>\n",
       "    <tr style=\"text-align: right;\">\n",
       "      <th></th>\n",
       "      <th>F1_balanced</th>\n",
       "      <th>AUC-ROC_balanced</th>\n",
       "      <th>F1_upsampled</th>\n",
       "      <th>AUC-ROC_upsampled</th>\n",
       "      <th>F1_downsampled</th>\n",
       "      <th>AUC-ROC_downsampled</th>\n",
       "    </tr>\n",
       "  </thead>\n",
       "  <tbody>\n",
       "    <tr>\n",
       "      <th>DecisionTreeClassifier</th>\n",
       "      <td>0.573545</td>\n",
       "      <td>0.839652</td>\n",
       "      <td>0.573545</td>\n",
       "      <td>0.839652</td>\n",
       "      <td>0.563670</td>\n",
       "      <td>0.834350</td>\n",
       "    </tr>\n",
       "    <tr>\n",
       "      <th>RandomForestClassifier</th>\n",
       "      <td>0.649758</td>\n",
       "      <td>0.869057</td>\n",
       "      <td>0.630435</td>\n",
       "      <td>0.859179</td>\n",
       "      <td>0.607287</td>\n",
       "      <td>0.865323</td>\n",
       "    </tr>\n",
       "  </tbody>\n",
       "</table>\n",
       "</div>"
      ],
      "text/plain": [
       "                        F1_balanced  AUC-ROC_balanced  F1_upsampled  \\\n",
       "DecisionTreeClassifier     0.573545          0.839652      0.573545   \n",
       "RandomForestClassifier     0.649758          0.869057      0.630435   \n",
       "\n",
       "                        AUC-ROC_upsampled  F1_downsampled  AUC-ROC_downsampled  \n",
       "DecisionTreeClassifier           0.839652        0.563670             0.834350  \n",
       "RandomForestClassifier           0.859179        0.607287             0.865323  "
      ]
     },
     "execution_count": 27,
     "metadata": {},
     "output_type": "execute_result"
    }
   ],
   "source": [
    "df_summary = pd.DataFrame(summary, index = ['DecisionTreeClassifier', 'RandomForestClassifier'])\n",
    "df_summary.head()"
   ]
  },
  {
   "cell_type": "markdown",
   "metadata": {},
   "source": [
    "Требуемого результата меры F1 позволили достичь все модели RFC с любым из методов балансировки классов. <br>\n",
    "Модели DTC, к сожалению, так и не смогли перейти необходимого порога.  <br>\n",
    "AUC-ROC для RFC больше на 0.2-0.3 десятых доли, в рамках одной модели разброс очень мал."
   ]
  },
  {
   "cell_type": "markdown",
   "metadata": {},
   "source": [
    "## Тестирование модели"
   ]
  },
  {
   "cell_type": "markdown",
   "metadata": {},
   "source": [
    "Проведём итоговое тестирование с использованием тестовой выборки. <br>\n",
    "Модель - RandomForestClassifier с методом class_weight глубиной 9 и количеством оценщиков 40."
   ]
  },
  {
   "cell_type": "code",
   "execution_count": 28,
   "metadata": {},
   "outputs": [
    {
     "name": "stdout",
     "output_type": "stream",
     "text": [
      "Контрольная F1-мера: 0.6021505376344086\n"
     ]
    }
   ],
   "source": [
    "model = RandomForestClassifier(random_state = 12345, n_estimators=40, max_depth = 9, class_weight = \"balanced\")\n",
    "model.fit(features_train, target_train)\n",
    "predicted_test = model.predict(features_test)\n",
    "print('Контрольная F1-мера:', f1_score(target_test, predicted_test))"
   ]
  },
  {
   "cell_type": "code",
   "execution_count": 29,
   "metadata": {},
   "outputs": [
    {
     "name": "stdout",
     "output_type": "stream",
     "text": [
      "Контрольная площадь под кривой AUC-ROC: 0.8548619359246062\n"
     ]
    }
   ],
   "source": [
    "probabilities_test = model.predict_proba(features_test)\n",
    "probabilities_one_test = probabilities_test[:, 1]        \n",
    "print('Контрольная площадь под кривой AUC-ROC:', roc_auc_score(target_test, probabilities_one_test))"
   ]
  },
  {
   "cell_type": "markdown",
   "metadata": {},
   "source": [
    "Проверим важность признаков."
   ]
  },
  {
   "cell_type": "code",
   "execution_count": 30,
   "metadata": {},
   "outputs": [
    {
     "data": {
      "text/html": [
       "<div>\n",
       "<style scoped>\n",
       "    .dataframe tbody tr th:only-of-type {\n",
       "        vertical-align: middle;\n",
       "    }\n",
       "\n",
       "    .dataframe tbody tr th {\n",
       "        vertical-align: top;\n",
       "    }\n",
       "\n",
       "    .dataframe thead th {\n",
       "        text-align: right;\n",
       "    }\n",
       "</style>\n",
       "<table border=\"1\" class=\"dataframe\">\n",
       "  <thead>\n",
       "    <tr style=\"text-align: right;\">\n",
       "      <th></th>\n",
       "      <th>importance</th>\n",
       "    </tr>\n",
       "  </thead>\n",
       "  <tbody>\n",
       "    <tr>\n",
       "      <th>Age</th>\n",
       "      <td>0.330461</td>\n",
       "    </tr>\n",
       "    <tr>\n",
       "      <th>NumOfProducts</th>\n",
       "      <td>0.212021</td>\n",
       "    </tr>\n",
       "    <tr>\n",
       "      <th>Balance</th>\n",
       "      <td>0.116789</td>\n",
       "    </tr>\n",
       "    <tr>\n",
       "      <th>EstimatedSalary</th>\n",
       "      <td>0.080852</td>\n",
       "    </tr>\n",
       "    <tr>\n",
       "      <th>CreditScore</th>\n",
       "      <td>0.079813</td>\n",
       "    </tr>\n",
       "  </tbody>\n",
       "</table>\n",
       "</div>"
      ],
      "text/plain": [
       "                 importance\n",
       "Age                0.330461\n",
       "NumOfProducts      0.212021\n",
       "Balance            0.116789\n",
       "EstimatedSalary    0.080852\n",
       "CreditScore        0.079813"
      ]
     },
     "execution_count": 30,
     "metadata": {},
     "output_type": "execute_result"
    }
   ],
   "source": [
    "feature_importances = pd.DataFrame(model.feature_importances_,\n",
    "                                   index = features_test.columns,\n",
    "                                    columns=['importance']).sort_values('importance',\n",
    "                                                                        ascending=False)\n",
    "feature_importances.head()"
   ]
  },
  {
   "cell_type": "markdown",
   "metadata": {},
   "source": [
    "## Чек-лист готовности проекта"
   ]
  },
  {
   "cell_type": "markdown",
   "metadata": {},
   "source": [
    "Поставьте 'x' в выполненных пунктах. Далее нажмите Shift+Enter."
   ]
  },
  {
   "cell_type": "markdown",
   "metadata": {},
   "source": [
    "- [x]  Jupyter Notebook открыт\n",
    "- [X]  Весь код выполняется без ошибок\n",
    "- [X]  Ячейки с кодом расположены в порядке исполнения\n",
    "- [X]  Выполнен шаг 1: данные подготовлены\n",
    "- [X]  Выполнен шаг 2: задача исследована\n",
    "    - [X]  Исследован баланс классов\n",
    "    - [X]  Изучены модели без учёта дисбаланса\n",
    "    - [X]  Написаны выводы по результатам исследования\n",
    "- [X]  Выполнен шаг 3: учтён дисбаланс\n",
    "    - [X]  Применено несколько способов борьбы с дисбалансом\n",
    "    - [X]  Написаны выводы по результатам исследования\n",
    "- [X]  Выполнен шаг 4: проведено тестирование\n",
    "- [X]  Удалось достичь *F1*-меры не менее 0.59\n",
    "- [X]  Исследована метрика *AUC-ROC*"
   ]
  },
  {
   "cell_type": "markdown",
   "metadata": {},
   "source": [
    "## Выводы"
   ]
  },
  {
   "cell_type": "markdown",
   "metadata": {},
   "source": [
    "В результате выполнения проекта построена модель для прогноза ухода клиента из \"Бета-Банка\" в ближайшее время. <br>\n",
    "Иследованы модели DecisionTreeClassifier с изменением параметра глубины древа и RandomTreeClassifier с изменением параметров глубины древа и количества оценщиков.\n",
    "К обеим моделям применены методы балансировки классов class_weight, upsampling, downsampling.<br>\n",
    "\n",
    "В результате наибольшую F1-меру показала модель RandomForestClassifier с применением метода class_weight.<br>\n",
    "F1-мера на валидационной выборке - 0.64, на тестовой - 0.60, что превосходит требуемое значение.<br>\n",
    "\n",
    "Также в процессе изучены значения метрики AU-ROC.<br>"
   ]
  },
  {
   "cell_type": "code",
   "execution_count": 31,
   "metadata": {},
   "outputs": [
    {
     "data": {
      "text/html": [
       "<div>\n",
       "<style scoped>\n",
       "    .dataframe tbody tr th:only-of-type {\n",
       "        vertical-align: middle;\n",
       "    }\n",
       "\n",
       "    .dataframe tbody tr th {\n",
       "        vertical-align: top;\n",
       "    }\n",
       "\n",
       "    .dataframe thead th {\n",
       "        text-align: right;\n",
       "    }\n",
       "</style>\n",
       "<table border=\"1\" class=\"dataframe\">\n",
       "  <thead>\n",
       "    <tr style=\"text-align: right;\">\n",
       "      <th></th>\n",
       "      <th>F1_balanced</th>\n",
       "      <th>AUC-ROC_balanced</th>\n",
       "      <th>F1_upsampled</th>\n",
       "      <th>AUC-ROC_upsampled</th>\n",
       "      <th>F1_downsampled</th>\n",
       "      <th>AUC-ROC_downsampled</th>\n",
       "    </tr>\n",
       "  </thead>\n",
       "  <tbody>\n",
       "    <tr>\n",
       "      <th>DecisionTreeClassifier</th>\n",
       "      <td>0.573545</td>\n",
       "      <td>0.839652</td>\n",
       "      <td>0.573545</td>\n",
       "      <td>0.839652</td>\n",
       "      <td>0.563670</td>\n",
       "      <td>0.834350</td>\n",
       "    </tr>\n",
       "    <tr>\n",
       "      <th>RandomForestClassifier</th>\n",
       "      <td>0.649758</td>\n",
       "      <td>0.869057</td>\n",
       "      <td>0.630435</td>\n",
       "      <td>0.859179</td>\n",
       "      <td>0.607287</td>\n",
       "      <td>0.865323</td>\n",
       "    </tr>\n",
       "  </tbody>\n",
       "</table>\n",
       "</div>"
      ],
      "text/plain": [
       "                        F1_balanced  AUC-ROC_balanced  F1_upsampled  \\\n",
       "DecisionTreeClassifier     0.573545          0.839652      0.573545   \n",
       "RandomForestClassifier     0.649758          0.869057      0.630435   \n",
       "\n",
       "                        AUC-ROC_upsampled  F1_downsampled  AUC-ROC_downsampled  \n",
       "DecisionTreeClassifier           0.839652        0.563670             0.834350  \n",
       "RandomForestClassifier           0.859179        0.607287             0.865323  "
      ]
     },
     "execution_count": 31,
     "metadata": {},
     "output_type": "execute_result"
    }
   ],
   "source": [
    "df_summary.head()"
   ]
  }
 ],
 "metadata": {
  "ExecuteTimeLog": [
   {
    "duration": 738,
    "start_time": "2022-02-13T19:41:15.850Z"
   },
   {
    "duration": 61,
    "start_time": "2022-02-13T19:41:59.250Z"
   },
   {
    "duration": 34,
    "start_time": "2022-02-13T19:49:45.807Z"
   },
   {
    "duration": 44,
    "start_time": "2022-02-13T19:49:53.500Z"
   },
   {
    "duration": 35,
    "start_time": "2022-02-13T19:50:12.510Z"
   },
   {
    "duration": 43,
    "start_time": "2022-02-13T19:50:20.976Z"
   },
   {
    "duration": 453,
    "start_time": "2022-02-13T19:50:25.221Z"
   },
   {
    "duration": 43,
    "start_time": "2022-02-13T19:50:27.922Z"
   },
   {
    "duration": 278,
    "start_time": "2022-02-13T19:50:33.098Z"
   },
   {
    "duration": 93,
    "start_time": "2022-02-13T19:50:37.285Z"
   },
   {
    "duration": 84,
    "start_time": "2022-02-13T19:50:39.780Z"
   },
   {
    "duration": 36,
    "start_time": "2022-02-13T19:50:50.092Z"
   },
   {
    "duration": 20,
    "start_time": "2022-02-13T19:51:09.278Z"
   },
   {
    "duration": 32,
    "start_time": "2022-02-13T19:51:39.635Z"
   },
   {
    "duration": 8,
    "start_time": "2022-02-13T19:52:13.918Z"
   },
   {
    "duration": 21,
    "start_time": "2022-02-13T19:53:43.539Z"
   },
   {
    "duration": 382,
    "start_time": "2022-02-24T20:06:01.269Z"
   },
   {
    "duration": 717,
    "start_time": "2022-02-24T20:06:09.345Z"
   },
   {
    "duration": 34,
    "start_time": "2022-02-24T20:06:10.063Z"
   },
   {
    "duration": 351,
    "start_time": "2022-02-24T20:06:10.100Z"
   },
   {
    "duration": -474,
    "start_time": "2022-02-24T20:06:10.927Z"
   },
   {
    "duration": 25,
    "start_time": "2022-02-24T20:06:23.039Z"
   },
   {
    "duration": 12,
    "start_time": "2022-02-24T20:07:51.361Z"
   },
   {
    "duration": 21,
    "start_time": "2022-02-24T20:08:40.406Z"
   },
   {
    "duration": 4,
    "start_time": "2022-02-24T20:08:53.493Z"
   },
   {
    "duration": 9,
    "start_time": "2022-02-24T20:09:08.921Z"
   },
   {
    "duration": 296,
    "start_time": "2022-02-24T20:09:25.909Z"
   },
   {
    "duration": 6,
    "start_time": "2022-02-24T20:09:37.278Z"
   },
   {
    "duration": 6,
    "start_time": "2022-02-24T20:11:46.621Z"
   },
   {
    "duration": 1466,
    "start_time": "2022-02-24T20:12:10.115Z"
   },
   {
    "duration": 883,
    "start_time": "2022-02-24T20:12:11.582Z"
   },
   {
    "duration": 19,
    "start_time": "2022-02-24T20:12:12.466Z"
   },
   {
    "duration": 4,
    "start_time": "2022-02-24T20:12:12.486Z"
   },
   {
    "duration": 7,
    "start_time": "2022-02-24T20:12:22.164Z"
   },
   {
    "duration": 410,
    "start_time": "2022-02-24T20:13:20.452Z"
   },
   {
    "duration": 287,
    "start_time": "2022-02-24T20:13:25.476Z"
   },
   {
    "duration": 4,
    "start_time": "2022-02-24T20:13:37.811Z"
   },
   {
    "duration": 12,
    "start_time": "2022-02-24T20:16:35.421Z"
   },
   {
    "duration": 8,
    "start_time": "2022-02-24T20:17:04.473Z"
   },
   {
    "duration": 6,
    "start_time": "2022-02-24T20:17:25.681Z"
   },
   {
    "duration": 6,
    "start_time": "2022-02-24T20:17:33.621Z"
   },
   {
    "duration": 7,
    "start_time": "2022-02-24T20:17:41.728Z"
   },
   {
    "duration": 4,
    "start_time": "2022-02-24T20:17:55.504Z"
   },
   {
    "duration": 620,
    "start_time": "2022-02-28T20:22:28.353Z"
   },
   {
    "duration": 35,
    "start_time": "2022-02-28T20:22:28.976Z"
   },
   {
    "duration": 21,
    "start_time": "2022-02-28T20:22:29.014Z"
   },
   {
    "duration": 23,
    "start_time": "2022-02-28T20:22:29.037Z"
   },
   {
    "duration": 15,
    "start_time": "2022-02-28T20:22:29.062Z"
   },
   {
    "duration": 13,
    "start_time": "2022-02-28T20:24:23.167Z"
   },
   {
    "duration": 13,
    "start_time": "2022-02-28T20:24:32.206Z"
   },
   {
    "duration": 606,
    "start_time": "2022-02-28T20:25:09.193Z"
   },
   {
    "duration": 29,
    "start_time": "2022-02-28T20:25:09.801Z"
   },
   {
    "duration": 19,
    "start_time": "2022-02-28T20:25:09.832Z"
   },
   {
    "duration": 11,
    "start_time": "2022-02-28T20:25:09.852Z"
   },
   {
    "duration": 8,
    "start_time": "2022-02-28T20:25:09.864Z"
   },
   {
    "duration": 14,
    "start_time": "2022-02-28T20:25:09.873Z"
   },
   {
    "duration": 12,
    "start_time": "2022-02-28T20:25:09.889Z"
   },
   {
    "duration": 448,
    "start_time": "2022-02-28T20:28:54.267Z"
   },
   {
    "duration": 6,
    "start_time": "2022-02-28T20:36:17.593Z"
   },
   {
    "duration": 275,
    "start_time": "2022-02-28T20:38:45.321Z"
   },
   {
    "duration": 37,
    "start_time": "2022-02-28T20:39:00.857Z"
   },
   {
    "duration": 9,
    "start_time": "2022-02-28T20:39:05.328Z"
   },
   {
    "duration": 23,
    "start_time": "2022-02-28T20:43:42.875Z"
   },
   {
    "duration": 19,
    "start_time": "2022-02-28T20:43:57.583Z"
   },
   {
    "duration": 1076,
    "start_time": "2022-02-28T20:48:01.134Z"
   },
   {
    "duration": 32,
    "start_time": "2022-02-28T20:48:02.212Z"
   },
   {
    "duration": 26,
    "start_time": "2022-02-28T20:48:02.246Z"
   },
   {
    "duration": 5,
    "start_time": "2022-02-28T20:48:02.274Z"
   },
   {
    "duration": 9,
    "start_time": "2022-02-28T20:48:02.281Z"
   },
   {
    "duration": 18,
    "start_time": "2022-02-28T20:48:02.291Z"
   },
   {
    "duration": 297,
    "start_time": "2022-02-28T20:48:02.311Z"
   },
   {
    "duration": -771,
    "start_time": "2022-02-28T20:48:03.381Z"
   },
   {
    "duration": -776,
    "start_time": "2022-02-28T20:48:03.387Z"
   },
   {
    "duration": 18,
    "start_time": "2022-02-28T20:48:34.514Z"
   },
   {
    "duration": 5,
    "start_time": "2022-02-28T20:48:36.483Z"
   },
   {
    "duration": 7,
    "start_time": "2022-02-28T20:48:38.685Z"
   },
   {
    "duration": 47,
    "start_time": "2022-02-28T20:50:08.960Z"
   },
   {
    "duration": 238,
    "start_time": "2022-02-28T20:53:56.436Z"
   },
   {
    "duration": 65,
    "start_time": "2022-02-28T20:54:15.128Z"
   },
   {
    "duration": 206,
    "start_time": "2022-02-28T20:54:27.009Z"
   },
   {
    "duration": 139,
    "start_time": "2022-02-28T20:55:19.052Z"
   },
   {
    "duration": 42,
    "start_time": "2022-02-28T20:56:10.757Z"
   },
   {
    "duration": 39,
    "start_time": "2022-02-28T21:01:07.098Z"
   },
   {
    "duration": 41,
    "start_time": "2022-02-28T21:01:12.148Z"
   },
   {
    "duration": 222,
    "start_time": "2022-02-28T21:01:44.034Z"
   },
   {
    "duration": 201,
    "start_time": "2022-02-28T21:01:49.448Z"
   },
   {
    "duration": 508,
    "start_time": "2022-02-28T21:01:55.949Z"
   },
   {
    "duration": 412,
    "start_time": "2022-02-28T21:02:59.067Z"
   },
   {
    "duration": 376,
    "start_time": "2022-02-28T21:03:38.022Z"
   },
   {
    "duration": 425,
    "start_time": "2022-02-28T21:04:16.861Z"
   },
   {
    "duration": 4,
    "start_time": "2022-02-28T21:05:06.996Z"
   },
   {
    "duration": 277,
    "start_time": "2022-02-28T21:05:10.803Z"
   },
   {
    "duration": 277,
    "start_time": "2022-02-28T21:05:32.663Z"
   },
   {
    "duration": 292,
    "start_time": "2022-02-28T21:05:37.513Z"
   },
   {
    "duration": 286,
    "start_time": "2022-02-28T21:06:15.809Z"
   },
   {
    "duration": 260,
    "start_time": "2022-02-28T21:06:41.173Z"
   },
   {
    "duration": 215,
    "start_time": "2022-02-28T21:10:00.858Z"
   },
   {
    "duration": 4,
    "start_time": "2022-02-28T21:10:17.329Z"
   },
   {
    "duration": 10,
    "start_time": "2022-02-28T21:10:24.343Z"
   },
   {
    "duration": 10,
    "start_time": "2022-02-28T21:13:42.451Z"
   },
   {
    "duration": 6,
    "start_time": "2022-02-28T21:13:53.443Z"
   },
   {
    "duration": 1171,
    "start_time": "2022-02-28T21:15:12.061Z"
   },
   {
    "duration": 31,
    "start_time": "2022-02-28T21:15:13.234Z"
   },
   {
    "duration": 20,
    "start_time": "2022-02-28T21:15:13.267Z"
   },
   {
    "duration": 13,
    "start_time": "2022-02-28T21:15:13.289Z"
   },
   {
    "duration": 14,
    "start_time": "2022-02-28T21:15:13.303Z"
   },
   {
    "duration": 19,
    "start_time": "2022-02-28T21:15:13.319Z"
   },
   {
    "duration": 29,
    "start_time": "2022-02-28T21:15:13.340Z"
   },
   {
    "duration": 4,
    "start_time": "2022-02-28T21:15:13.372Z"
   },
   {
    "duration": 8,
    "start_time": "2022-02-28T21:15:13.378Z"
   },
   {
    "duration": 4,
    "start_time": "2022-02-28T21:15:13.388Z"
   },
   {
    "duration": 374,
    "start_time": "2022-02-28T21:15:13.394Z"
   },
   {
    "duration": -835,
    "start_time": "2022-02-28T21:15:14.605Z"
   },
   {
    "duration": 1668,
    "start_time": "2022-02-28T21:15:42.961Z"
   },
   {
    "duration": 32,
    "start_time": "2022-02-28T21:15:44.631Z"
   },
   {
    "duration": 16,
    "start_time": "2022-02-28T21:15:44.667Z"
   },
   {
    "duration": 4,
    "start_time": "2022-02-28T21:15:44.685Z"
   },
   {
    "duration": 6,
    "start_time": "2022-02-28T21:15:44.691Z"
   },
   {
    "duration": 15,
    "start_time": "2022-02-28T21:15:44.699Z"
   },
   {
    "duration": 47,
    "start_time": "2022-02-28T21:15:44.716Z"
   },
   {
    "duration": 5,
    "start_time": "2022-02-28T21:15:44.765Z"
   },
   {
    "duration": 10,
    "start_time": "2022-02-28T21:15:44.771Z"
   },
   {
    "duration": 5,
    "start_time": "2022-02-28T21:15:44.783Z"
   },
   {
    "duration": 340,
    "start_time": "2022-02-28T21:15:44.789Z"
   },
   {
    "duration": 10,
    "start_time": "2022-02-28T21:15:45.130Z"
   },
   {
    "duration": 284,
    "start_time": "2022-03-01T15:17:06.438Z"
   },
   {
    "duration": 1576,
    "start_time": "2022-03-01T15:17:11.163Z"
   },
   {
    "duration": 38,
    "start_time": "2022-03-01T15:17:12.742Z"
   },
   {
    "duration": 24,
    "start_time": "2022-03-01T15:17:12.783Z"
   },
   {
    "duration": 7,
    "start_time": "2022-03-01T15:17:12.810Z"
   },
   {
    "duration": 31,
    "start_time": "2022-03-01T15:17:12.820Z"
   },
   {
    "duration": 20,
    "start_time": "2022-03-01T15:17:12.854Z"
   },
   {
    "duration": 25,
    "start_time": "2022-03-01T15:17:12.877Z"
   },
   {
    "duration": 7,
    "start_time": "2022-03-01T15:17:12.906Z"
   },
   {
    "duration": 48,
    "start_time": "2022-03-01T15:17:12.916Z"
   },
   {
    "duration": 8,
    "start_time": "2022-03-01T15:17:12.966Z"
   },
   {
    "duration": 440,
    "start_time": "2022-03-01T15:17:12.976Z"
   },
   {
    "duration": 13,
    "start_time": "2022-03-01T15:17:13.419Z"
   },
   {
    "duration": 32,
    "start_time": "2022-03-01T15:17:13.434Z"
   },
   {
    "duration": 1273,
    "start_time": "2022-03-01T19:08:38.531Z"
   },
   {
    "duration": 33,
    "start_time": "2022-03-01T19:08:39.806Z"
   },
   {
    "duration": 14,
    "start_time": "2022-03-01T19:08:39.841Z"
   },
   {
    "duration": 20,
    "start_time": "2022-03-01T19:08:39.857Z"
   },
   {
    "duration": 12,
    "start_time": "2022-03-01T19:08:39.878Z"
   },
   {
    "duration": 20,
    "start_time": "2022-03-01T19:08:39.891Z"
   },
   {
    "duration": 16,
    "start_time": "2022-03-01T19:08:39.913Z"
   },
   {
    "duration": 4,
    "start_time": "2022-03-01T19:08:39.931Z"
   },
   {
    "duration": 8,
    "start_time": "2022-03-01T19:08:39.936Z"
   },
   {
    "duration": 3,
    "start_time": "2022-03-01T19:08:39.946Z"
   },
   {
    "duration": 279,
    "start_time": "2022-03-01T19:08:39.951Z"
   },
   {
    "duration": 10,
    "start_time": "2022-03-01T19:08:40.232Z"
   },
   {
    "duration": 28,
    "start_time": "2022-03-01T19:08:40.244Z"
   },
   {
    "duration": 6,
    "start_time": "2022-03-01T19:20:47.186Z"
   },
   {
    "duration": 10,
    "start_time": "2022-03-01T19:21:21.204Z"
   },
   {
    "duration": 34,
    "start_time": "2022-03-01T19:21:45.307Z"
   },
   {
    "duration": 8,
    "start_time": "2022-03-01T19:26:09.310Z"
   },
   {
    "duration": 434,
    "start_time": "2022-03-01T19:31:19.421Z"
   },
   {
    "duration": 3,
    "start_time": "2022-03-01T19:31:45.078Z"
   },
   {
    "duration": 15,
    "start_time": "2022-03-01T19:31:50.922Z"
   },
   {
    "duration": 247,
    "start_time": "2022-03-01T19:33:01.844Z"
   },
   {
    "duration": 199,
    "start_time": "2022-03-01T19:33:20.004Z"
   },
   {
    "duration": 36,
    "start_time": "2022-03-01T19:33:26.506Z"
   },
   {
    "duration": 253,
    "start_time": "2022-03-01T19:35:53.346Z"
   },
   {
    "duration": 246,
    "start_time": "2022-03-01T19:36:14.613Z"
   },
   {
    "duration": 39,
    "start_time": "2022-03-01T19:36:26.019Z"
   },
   {
    "duration": 10,
    "start_time": "2022-03-01T19:36:56.906Z"
   },
   {
    "duration": 1165,
    "start_time": "2022-03-01T20:22:33.041Z"
   },
   {
    "duration": 29,
    "start_time": "2022-03-01T20:22:34.207Z"
   },
   {
    "duration": 24,
    "start_time": "2022-03-01T20:22:34.239Z"
   },
   {
    "duration": 4,
    "start_time": "2022-03-01T20:22:34.265Z"
   },
   {
    "duration": 9,
    "start_time": "2022-03-01T20:22:34.270Z"
   },
   {
    "duration": 20,
    "start_time": "2022-03-01T20:22:34.280Z"
   },
   {
    "duration": 17,
    "start_time": "2022-03-01T20:22:34.302Z"
   },
   {
    "duration": 4,
    "start_time": "2022-03-01T20:22:34.322Z"
   },
   {
    "duration": 14,
    "start_time": "2022-03-01T20:22:34.328Z"
   },
   {
    "duration": 20,
    "start_time": "2022-03-01T20:22:34.344Z"
   },
   {
    "duration": 272,
    "start_time": "2022-03-01T20:22:34.366Z"
   },
   {
    "duration": 26,
    "start_time": "2022-03-01T20:22:34.640Z"
   },
   {
    "duration": 11,
    "start_time": "2022-03-01T20:22:34.668Z"
   },
   {
    "duration": 19,
    "start_time": "2022-03-01T20:22:34.681Z"
   },
   {
    "duration": 73,
    "start_time": "2022-03-01T20:22:34.702Z"
   },
   {
    "duration": 12,
    "start_time": "2022-03-01T20:24:47.596Z"
   },
   {
    "duration": 16,
    "start_time": "2022-03-01T20:25:41.727Z"
   },
   {
    "duration": 468,
    "start_time": "2022-03-01T20:42:06.616Z"
   },
   {
    "duration": 74,
    "start_time": "2022-03-01T20:43:18.406Z"
   },
   {
    "duration": 74258,
    "start_time": "2022-03-01T20:43:29.732Z"
   },
   {
    "duration": 1110,
    "start_time": "2022-03-01T20:52:03.707Z"
   },
   {
    "duration": 29,
    "start_time": "2022-03-01T20:52:04.819Z"
   },
   {
    "duration": 24,
    "start_time": "2022-03-01T20:52:04.852Z"
   },
   {
    "duration": 7,
    "start_time": "2022-03-01T20:52:04.878Z"
   },
   {
    "duration": 8,
    "start_time": "2022-03-01T20:52:04.886Z"
   },
   {
    "duration": 13,
    "start_time": "2022-03-01T20:52:04.896Z"
   },
   {
    "duration": 16,
    "start_time": "2022-03-01T20:52:04.911Z"
   },
   {
    "duration": 4,
    "start_time": "2022-03-01T20:52:04.928Z"
   },
   {
    "duration": 8,
    "start_time": "2022-03-01T20:52:04.933Z"
   },
   {
    "duration": 22,
    "start_time": "2022-03-01T20:52:04.943Z"
   },
   {
    "duration": 289,
    "start_time": "2022-03-01T20:52:04.966Z"
   },
   {
    "duration": 14,
    "start_time": "2022-03-01T20:52:05.256Z"
   },
   {
    "duration": 9,
    "start_time": "2022-03-01T20:52:05.271Z"
   },
   {
    "duration": 13,
    "start_time": "2022-03-01T20:52:05.282Z"
   },
   {
    "duration": 39,
    "start_time": "2022-03-01T20:52:05.297Z"
   },
   {
    "duration": 12,
    "start_time": "2022-03-01T20:52:05.363Z"
   },
   {
    "duration": 23,
    "start_time": "2022-03-01T20:52:05.376Z"
   },
   {
    "duration": 396,
    "start_time": "2022-03-01T20:52:05.401Z"
   },
   {
    "duration": 502,
    "start_time": "2022-03-01T20:52:05.799Z"
   },
   {
    "duration": 185,
    "start_time": "2022-03-01T20:52:06.303Z"
   },
   {
    "duration": 239,
    "start_time": "2022-03-01T20:52:23.928Z"
   },
   {
    "duration": 322,
    "start_time": "2022-03-01T20:57:53.767Z"
   },
   {
    "duration": 10,
    "start_time": "2022-03-01T20:59:07.785Z"
   },
   {
    "duration": 232,
    "start_time": "2022-03-01T20:59:15.762Z"
   },
   {
    "duration": 264,
    "start_time": "2022-03-01T20:59:25.738Z"
   },
   {
    "duration": 25134,
    "start_time": "2022-03-01T20:59:38.261Z"
   },
   {
    "duration": 24561,
    "start_time": "2022-03-01T21:01:50.341Z"
   },
   {
    "duration": 396,
    "start_time": "2022-03-01T21:04:27.316Z"
   },
   {
    "duration": 514,
    "start_time": "2022-03-01T21:04:30.741Z"
   },
   {
    "duration": 1133,
    "start_time": "2022-03-01T21:06:11.286Z"
   },
   {
    "duration": 30,
    "start_time": "2022-03-01T21:06:12.420Z"
   },
   {
    "duration": 18,
    "start_time": "2022-03-01T21:06:12.452Z"
   },
   {
    "duration": 6,
    "start_time": "2022-03-01T21:06:12.472Z"
   },
   {
    "duration": 5,
    "start_time": "2022-03-01T21:06:12.480Z"
   },
   {
    "duration": 15,
    "start_time": "2022-03-01T21:06:12.486Z"
   },
   {
    "duration": 16,
    "start_time": "2022-03-01T21:06:12.503Z"
   },
   {
    "duration": 4,
    "start_time": "2022-03-01T21:06:12.522Z"
   },
   {
    "duration": 36,
    "start_time": "2022-03-01T21:06:12.528Z"
   },
   {
    "duration": 4,
    "start_time": "2022-03-01T21:06:12.566Z"
   },
   {
    "duration": 266,
    "start_time": "2022-03-01T21:06:12.571Z"
   },
   {
    "duration": 26,
    "start_time": "2022-03-01T21:06:12.838Z"
   },
   {
    "duration": 9,
    "start_time": "2022-03-01T21:06:12.866Z"
   },
   {
    "duration": 14,
    "start_time": "2022-03-01T21:06:12.878Z"
   },
   {
    "duration": 38,
    "start_time": "2022-03-01T21:06:12.893Z"
   },
   {
    "duration": 37,
    "start_time": "2022-03-01T21:06:12.932Z"
   },
   {
    "duration": 15,
    "start_time": "2022-03-01T21:06:12.970Z"
   },
   {
    "duration": 400,
    "start_time": "2022-03-01T21:06:12.986Z"
   },
   {
    "duration": 514,
    "start_time": "2022-03-01T21:06:13.388Z"
   },
   {
    "duration": 187,
    "start_time": "2022-03-01T21:06:13.903Z"
   },
   {
    "duration": 25457,
    "start_time": "2022-03-01T21:06:14.092Z"
   },
   {
    "duration": 74,
    "start_time": "2022-03-01T21:07:59.666Z"
   },
   {
    "duration": 25144,
    "start_time": "2022-03-01T21:08:03.223Z"
   },
   {
    "duration": 1116,
    "start_time": "2022-03-01T21:12:20.223Z"
   },
   {
    "duration": 28,
    "start_time": "2022-03-01T21:12:21.341Z"
   },
   {
    "duration": 15,
    "start_time": "2022-03-01T21:12:21.371Z"
   },
   {
    "duration": 10,
    "start_time": "2022-03-01T21:12:21.388Z"
   },
   {
    "duration": 8,
    "start_time": "2022-03-01T21:12:21.399Z"
   },
   {
    "duration": 17,
    "start_time": "2022-03-01T21:12:21.409Z"
   },
   {
    "duration": 21,
    "start_time": "2022-03-01T21:12:21.428Z"
   },
   {
    "duration": 5,
    "start_time": "2022-03-01T21:12:21.463Z"
   },
   {
    "duration": 14,
    "start_time": "2022-03-01T21:12:21.470Z"
   },
   {
    "duration": 10,
    "start_time": "2022-03-01T21:12:21.485Z"
   },
   {
    "duration": 345,
    "start_time": "2022-03-01T21:12:21.497Z"
   },
   {
    "duration": 19,
    "start_time": "2022-03-01T21:12:21.844Z"
   },
   {
    "duration": 8,
    "start_time": "2022-03-01T21:12:21.865Z"
   },
   {
    "duration": 14,
    "start_time": "2022-03-01T21:12:21.875Z"
   },
   {
    "duration": 38,
    "start_time": "2022-03-01T21:12:21.891Z"
   },
   {
    "duration": 37,
    "start_time": "2022-03-01T21:12:21.930Z"
   },
   {
    "duration": 16,
    "start_time": "2022-03-01T21:12:21.969Z"
   },
   {
    "duration": 411,
    "start_time": "2022-03-01T21:12:21.987Z"
   },
   {
    "duration": 548,
    "start_time": "2022-03-01T21:12:22.400Z"
   },
   {
    "duration": 196,
    "start_time": "2022-03-01T21:12:22.950Z"
   },
   {
    "duration": 25919,
    "start_time": "2022-03-01T21:12:23.148Z"
   },
   {
    "duration": 35352,
    "start_time": "2022-03-01T21:12:49.069Z"
   },
   {
    "duration": 35276,
    "start_time": "2022-03-01T21:13:24.424Z"
   },
   {
    "duration": 67,
    "start_time": "2022-03-01T21:15:50.052Z"
   },
   {
    "duration": 157,
    "start_time": "2022-03-01T21:15:59.557Z"
   },
   {
    "duration": 42,
    "start_time": "2022-03-01T21:16:14.882Z"
   },
   {
    "duration": 73,
    "start_time": "2022-03-01T21:16:52.899Z"
   },
   {
    "duration": 72,
    "start_time": "2022-03-01T21:17:25.749Z"
   },
   {
    "duration": 70,
    "start_time": "2022-03-01T21:17:28.928Z"
   },
   {
    "duration": 329,
    "start_time": "2022-03-01T21:17:31.913Z"
   },
   {
    "duration": 314,
    "start_time": "2022-03-01T21:17:37.654Z"
   },
   {
    "duration": 1240,
    "start_time": "2022-03-01T21:17:41.496Z"
   },
   {
    "duration": 647,
    "start_time": "2022-03-01T21:18:01.722Z"
   },
   {
    "duration": 1692,
    "start_time": "2022-03-01T21:18:17.789Z"
   },
   {
    "duration": 1195,
    "start_time": "2022-03-01T21:18:42.643Z"
   },
   {
    "duration": 198,
    "start_time": "2022-03-01T21:18:55.393Z"
   },
   {
    "duration": 261,
    "start_time": "2022-03-01T21:19:01.103Z"
   },
   {
    "duration": 190,
    "start_time": "2022-03-01T21:19:04.577Z"
   },
   {
    "duration": 247,
    "start_time": "2022-03-01T21:19:09.898Z"
   },
   {
    "duration": 150,
    "start_time": "2022-03-01T21:19:13.582Z"
   },
   {
    "duration": 156,
    "start_time": "2022-03-01T21:19:16.257Z"
   },
   {
    "duration": 173,
    "start_time": "2022-03-01T21:19:35.114Z"
   },
   {
    "duration": 182,
    "start_time": "2022-03-01T21:19:39.218Z"
   },
   {
    "duration": 207,
    "start_time": "2022-03-01T21:19:42.370Z"
   },
   {
    "duration": 204,
    "start_time": "2022-03-01T21:19:45.916Z"
   },
   {
    "duration": 1223,
    "start_time": "2022-03-01T21:25:03.044Z"
   },
   {
    "duration": 35,
    "start_time": "2022-03-01T21:25:04.268Z"
   },
   {
    "duration": 17,
    "start_time": "2022-03-01T21:25:04.305Z"
   },
   {
    "duration": 26,
    "start_time": "2022-03-01T21:25:04.325Z"
   },
   {
    "duration": 36,
    "start_time": "2022-03-01T21:25:04.353Z"
   },
   {
    "duration": 42,
    "start_time": "2022-03-01T21:25:04.391Z"
   },
   {
    "duration": 53,
    "start_time": "2022-03-01T21:25:04.434Z"
   },
   {
    "duration": 21,
    "start_time": "2022-03-01T21:25:04.489Z"
   },
   {
    "duration": 31,
    "start_time": "2022-03-01T21:25:04.512Z"
   },
   {
    "duration": 48,
    "start_time": "2022-03-01T21:25:04.545Z"
   },
   {
    "duration": 328,
    "start_time": "2022-03-01T21:25:04.594Z"
   },
   {
    "duration": 9,
    "start_time": "2022-03-01T21:25:04.924Z"
   },
   {
    "duration": 28,
    "start_time": "2022-03-01T21:25:04.934Z"
   },
   {
    "duration": 13,
    "start_time": "2022-03-01T21:25:04.964Z"
   },
   {
    "duration": 40,
    "start_time": "2022-03-01T21:25:04.979Z"
   },
   {
    "duration": 13,
    "start_time": "2022-03-01T21:25:05.021Z"
   },
   {
    "duration": 17,
    "start_time": "2022-03-01T21:25:05.063Z"
   },
   {
    "duration": 427,
    "start_time": "2022-03-01T21:25:05.082Z"
   },
   {
    "duration": 324,
    "start_time": "2022-03-01T21:25:05.510Z"
   },
   {
    "duration": -968,
    "start_time": "2022-03-01T21:25:06.804Z"
   },
   {
    "duration": -975,
    "start_time": "2022-03-01T21:25:06.812Z"
   },
   {
    "duration": -993,
    "start_time": "2022-03-01T21:25:06.831Z"
   },
   {
    "duration": -1000,
    "start_time": "2022-03-01T21:25:06.839Z"
   },
   {
    "duration": -1005,
    "start_time": "2022-03-01T21:25:06.845Z"
   },
   {
    "duration": 1607,
    "start_time": "2022-03-02T08:10:33.172Z"
   },
   {
    "duration": 57,
    "start_time": "2022-03-02T08:10:34.783Z"
   },
   {
    "duration": 45,
    "start_time": "2022-03-02T08:10:34.844Z"
   },
   {
    "duration": 19,
    "start_time": "2022-03-02T08:10:34.892Z"
   },
   {
    "duration": 7,
    "start_time": "2022-03-02T08:10:34.914Z"
   },
   {
    "duration": 27,
    "start_time": "2022-03-02T08:10:34.924Z"
   },
   {
    "duration": 40,
    "start_time": "2022-03-02T08:10:34.954Z"
   },
   {
    "duration": 9,
    "start_time": "2022-03-02T08:10:34.999Z"
   },
   {
    "duration": 18,
    "start_time": "2022-03-02T08:10:35.011Z"
   },
   {
    "duration": 11,
    "start_time": "2022-03-02T08:10:35.031Z"
   },
   {
    "duration": 465,
    "start_time": "2022-03-02T08:10:35.044Z"
   },
   {
    "duration": 14,
    "start_time": "2022-03-02T08:10:35.511Z"
   },
   {
    "duration": 13,
    "start_time": "2022-03-02T08:10:35.527Z"
   },
   {
    "duration": 59,
    "start_time": "2022-03-02T08:10:35.542Z"
   },
   {
    "duration": 93,
    "start_time": "2022-03-02T08:10:35.605Z"
   },
   {
    "duration": 26,
    "start_time": "2022-03-02T08:10:35.701Z"
   },
   {
    "duration": 56,
    "start_time": "2022-03-02T08:10:35.730Z"
   },
   {
    "duration": 3,
    "start_time": "2022-03-02T08:10:35.790Z"
   },
   {
    "duration": 94,
    "start_time": "2022-03-02T08:10:35.796Z"
   },
   {
    "duration": -36,
    "start_time": "2022-03-02T08:10:35.930Z"
   },
   {
    "duration": -38,
    "start_time": "2022-03-02T08:10:35.933Z"
   },
   {
    "duration": -39,
    "start_time": "2022-03-02T08:10:35.937Z"
   },
   {
    "duration": -48,
    "start_time": "2022-03-02T08:10:35.948Z"
   },
   {
    "duration": -50,
    "start_time": "2022-03-02T08:10:35.951Z"
   },
   {
    "duration": -51,
    "start_time": "2022-03-02T08:10:35.954Z"
   },
   {
    "duration": 104,
    "start_time": "2022-03-02T08:11:37.214Z"
   },
   {
    "duration": 891,
    "start_time": "2022-03-02T08:12:12.847Z"
   },
   {
    "duration": 747,
    "start_time": "2022-03-02T08:12:25.114Z"
   },
   {
    "duration": 5,
    "start_time": "2022-03-02T08:12:42.906Z"
   },
   {
    "duration": 778,
    "start_time": "2022-03-02T08:12:54.034Z"
   },
   {
    "duration": 528,
    "start_time": "2022-03-02T08:12:59.227Z"
   },
   {
    "duration": 529,
    "start_time": "2022-03-02T08:13:05.467Z"
   },
   {
    "duration": 760,
    "start_time": "2022-03-02T08:14:29.226Z"
   },
   {
    "duration": 541,
    "start_time": "2022-03-02T08:14:48.314Z"
   },
   {
    "duration": 780,
    "start_time": "2022-03-02T08:16:58.008Z"
   },
   {
    "duration": 735,
    "start_time": "2022-03-02T08:18:30.747Z"
   },
   {
    "duration": 544,
    "start_time": "2022-03-02T08:19:29.726Z"
   },
   {
    "duration": 805,
    "start_time": "2022-03-02T08:19:33.594Z"
   },
   {
    "duration": 233,
    "start_time": "2022-03-02T08:20:53.382Z"
   },
   {
    "duration": 696,
    "start_time": "2022-03-02T08:20:57.348Z"
   },
   {
    "duration": 733,
    "start_time": "2022-03-02T08:21:36.674Z"
   },
   {
    "duration": 713,
    "start_time": "2022-03-02T08:21:46.406Z"
   },
   {
    "duration": 407,
    "start_time": "2022-03-02T08:22:20.534Z"
   },
   {
    "duration": 247,
    "start_time": "2022-03-02T08:22:38.405Z"
   },
   {
    "duration": 730,
    "start_time": "2022-03-02T08:23:21.815Z"
   },
   {
    "duration": 36329,
    "start_time": "2022-03-02T08:28:43.247Z"
   },
   {
    "duration": 22208,
    "start_time": "2022-03-02T08:46:56.374Z"
   },
   {
    "duration": 1488,
    "start_time": "2022-03-02T08:47:33.479Z"
   },
   {
    "duration": 44,
    "start_time": "2022-03-02T08:47:34.970Z"
   },
   {
    "duration": 24,
    "start_time": "2022-03-02T08:47:35.017Z"
   },
   {
    "duration": 9,
    "start_time": "2022-03-02T08:47:35.044Z"
   },
   {
    "duration": 29,
    "start_time": "2022-03-02T08:47:35.055Z"
   },
   {
    "duration": 29,
    "start_time": "2022-03-02T08:47:35.087Z"
   },
   {
    "duration": 24,
    "start_time": "2022-03-02T08:47:35.118Z"
   },
   {
    "duration": 6,
    "start_time": "2022-03-02T08:47:35.144Z"
   },
   {
    "duration": 34,
    "start_time": "2022-03-02T08:47:35.154Z"
   },
   {
    "duration": 6,
    "start_time": "2022-03-02T08:47:35.191Z"
   },
   {
    "duration": 444,
    "start_time": "2022-03-02T08:47:35.199Z"
   },
   {
    "duration": 13,
    "start_time": "2022-03-02T08:47:35.645Z"
   },
   {
    "duration": 29,
    "start_time": "2022-03-02T08:47:35.660Z"
   },
   {
    "duration": 17,
    "start_time": "2022-03-02T08:47:35.692Z"
   },
   {
    "duration": 78,
    "start_time": "2022-03-02T08:47:35.712Z"
   },
   {
    "duration": 20,
    "start_time": "2022-03-02T08:47:35.793Z"
   },
   {
    "duration": 30,
    "start_time": "2022-03-02T08:47:35.816Z"
   },
   {
    "duration": 4,
    "start_time": "2022-03-02T08:47:35.849Z"
   },
   {
    "duration": 552,
    "start_time": "2022-03-02T08:47:35.883Z"
   },
   {
    "duration": 732,
    "start_time": "2022-03-02T08:47:36.437Z"
   },
   {
    "duration": 283,
    "start_time": "2022-03-02T08:47:37.172Z"
   },
   {
    "duration": 39218,
    "start_time": "2022-03-02T08:47:37.458Z"
   },
   {
    "duration": -3,
    "start_time": "2022-03-02T08:48:16.681Z"
   },
   {
    "duration": -4,
    "start_time": "2022-03-02T08:48:16.684Z"
   },
   {
    "duration": 1633,
    "start_time": "2022-03-02T08:50:29.766Z"
   },
   {
    "duration": 40,
    "start_time": "2022-03-02T08:50:31.402Z"
   },
   {
    "duration": 40,
    "start_time": "2022-03-02T08:50:31.446Z"
   },
   {
    "duration": 38,
    "start_time": "2022-03-02T08:50:31.489Z"
   },
   {
    "duration": 22,
    "start_time": "2022-03-02T08:50:31.530Z"
   },
   {
    "duration": 48,
    "start_time": "2022-03-02T08:50:31.555Z"
   },
   {
    "duration": 25,
    "start_time": "2022-03-02T08:50:31.606Z"
   },
   {
    "duration": 6,
    "start_time": "2022-03-02T08:50:31.634Z"
   },
   {
    "duration": 33,
    "start_time": "2022-03-02T08:50:31.643Z"
   },
   {
    "duration": 35,
    "start_time": "2022-03-02T08:50:31.679Z"
   },
   {
    "duration": 426,
    "start_time": "2022-03-02T08:50:31.716Z"
   },
   {
    "duration": 14,
    "start_time": "2022-03-02T08:50:32.145Z"
   },
   {
    "duration": 30,
    "start_time": "2022-03-02T08:50:32.161Z"
   },
   {
    "duration": 26,
    "start_time": "2022-03-02T08:50:32.193Z"
   },
   {
    "duration": 71,
    "start_time": "2022-03-02T08:50:32.221Z"
   },
   {
    "duration": 18,
    "start_time": "2022-03-02T08:50:32.295Z"
   },
   {
    "duration": 22,
    "start_time": "2022-03-02T08:50:32.315Z"
   },
   {
    "duration": 4,
    "start_time": "2022-03-02T08:50:32.340Z"
   },
   {
    "duration": 928,
    "start_time": "2022-03-02T08:50:32.382Z"
   },
   {
    "duration": -28,
    "start_time": "2022-03-02T08:50:33.342Z"
   },
   {
    "duration": -30,
    "start_time": "2022-03-02T08:50:33.347Z"
   },
   {
    "duration": -39,
    "start_time": "2022-03-02T08:50:33.358Z"
   },
   {
    "duration": -41,
    "start_time": "2022-03-02T08:50:33.362Z"
   },
   {
    "duration": -41,
    "start_time": "2022-03-02T08:50:33.365Z"
   },
   {
    "duration": 6,
    "start_time": "2022-03-02T08:52:00.604Z"
   },
   {
    "duration": 1525,
    "start_time": "2022-03-02T08:53:01.592Z"
   },
   {
    "duration": 46,
    "start_time": "2022-03-02T08:53:03.121Z"
   },
   {
    "duration": 31,
    "start_time": "2022-03-02T08:53:03.170Z"
   },
   {
    "duration": 8,
    "start_time": "2022-03-02T08:53:03.204Z"
   },
   {
    "duration": 10,
    "start_time": "2022-03-02T08:53:03.215Z"
   },
   {
    "duration": 22,
    "start_time": "2022-03-02T08:53:03.228Z"
   },
   {
    "duration": 46,
    "start_time": "2022-03-02T08:53:03.253Z"
   },
   {
    "duration": 6,
    "start_time": "2022-03-02T08:53:03.302Z"
   },
   {
    "duration": 11,
    "start_time": "2022-03-02T08:53:03.312Z"
   },
   {
    "duration": 5,
    "start_time": "2022-03-02T08:53:03.326Z"
   },
   {
    "duration": 464,
    "start_time": "2022-03-02T08:53:03.334Z"
   },
   {
    "duration": 13,
    "start_time": "2022-03-02T08:53:03.800Z"
   },
   {
    "duration": 12,
    "start_time": "2022-03-02T08:53:03.815Z"
   },
   {
    "duration": 53,
    "start_time": "2022-03-02T08:53:03.829Z"
   },
   {
    "duration": 52,
    "start_time": "2022-03-02T08:53:03.885Z"
   },
   {
    "duration": 18,
    "start_time": "2022-03-02T08:53:03.939Z"
   },
   {
    "duration": 42,
    "start_time": "2022-03-02T08:53:03.959Z"
   },
   {
    "duration": 3,
    "start_time": "2022-03-02T08:53:04.003Z"
   },
   {
    "duration": 589,
    "start_time": "2022-03-02T08:53:04.009Z"
   },
   {
    "duration": 783,
    "start_time": "2022-03-02T08:53:04.600Z"
   },
   {
    "duration": 283,
    "start_time": "2022-03-02T08:53:05.386Z"
   },
   {
    "duration": 37005,
    "start_time": "2022-03-02T08:53:05.672Z"
   },
   {
    "duration": 52310,
    "start_time": "2022-03-02T08:53:42.683Z"
   },
   {
    "duration": 20798,
    "start_time": "2022-03-02T08:54:34.995Z"
   },
   {
    "duration": 6,
    "start_time": "2022-03-02T08:56:21.283Z"
   },
   {
    "duration": 5,
    "start_time": "2022-03-02T08:59:58.110Z"
   },
   {
    "duration": 15,
    "start_time": "2022-03-02T09:00:10.671Z"
   },
   {
    "duration": 87,
    "start_time": "2022-03-02T09:00:21.891Z"
   },
   {
    "duration": 15,
    "start_time": "2022-03-02T09:00:23.462Z"
   },
   {
    "duration": 1437,
    "start_time": "2022-03-02T09:02:41.335Z"
   },
   {
    "duration": 38,
    "start_time": "2022-03-02T09:02:42.775Z"
   },
   {
    "duration": 24,
    "start_time": "2022-03-02T09:02:42.815Z"
   },
   {
    "duration": 6,
    "start_time": "2022-03-02T09:02:42.842Z"
   },
   {
    "duration": 33,
    "start_time": "2022-03-02T09:02:42.851Z"
   },
   {
    "duration": 22,
    "start_time": "2022-03-02T09:02:42.887Z"
   },
   {
    "duration": 22,
    "start_time": "2022-03-02T09:02:42.911Z"
   },
   {
    "duration": 6,
    "start_time": "2022-03-02T09:02:42.935Z"
   },
   {
    "duration": 40,
    "start_time": "2022-03-02T09:02:42.945Z"
   },
   {
    "duration": 28,
    "start_time": "2022-03-02T09:02:42.988Z"
   },
   {
    "duration": 411,
    "start_time": "2022-03-02T09:02:43.018Z"
   },
   {
    "duration": 15,
    "start_time": "2022-03-02T09:02:43.433Z"
   },
   {
    "duration": 34,
    "start_time": "2022-03-02T09:02:43.451Z"
   },
   {
    "duration": 20,
    "start_time": "2022-03-02T09:02:43.488Z"
   },
   {
    "duration": 82,
    "start_time": "2022-03-02T09:02:43.511Z"
   },
   {
    "duration": 17,
    "start_time": "2022-03-02T09:02:43.595Z"
   },
   {
    "duration": 38,
    "start_time": "2022-03-02T09:02:43.614Z"
   },
   {
    "duration": 3,
    "start_time": "2022-03-02T09:02:43.655Z"
   },
   {
    "duration": 581,
    "start_time": "2022-03-02T09:02:43.660Z"
   },
   {
    "duration": 713,
    "start_time": "2022-03-02T09:02:44.243Z"
   },
   {
    "duration": 359,
    "start_time": "2022-03-02T09:02:44.958Z"
   },
   {
    "duration": 36922,
    "start_time": "2022-03-02T09:02:45.320Z"
   },
   {
    "duration": 53829,
    "start_time": "2022-03-02T09:03:22.244Z"
   },
   {
    "duration": 21524,
    "start_time": "2022-03-02T09:04:16.081Z"
   },
   {
    "duration": 14,
    "start_time": "2022-03-02T09:04:37.607Z"
   },
   {
    "duration": 82,
    "start_time": "2022-03-02T09:18:30.554Z"
   },
   {
    "duration": 101,
    "start_time": "2022-03-02T09:18:41.654Z"
   },
   {
    "duration": 279,
    "start_time": "2022-03-02T09:18:56.385Z"
   },
   {
    "duration": 307,
    "start_time": "2022-03-02T09:19:13.636Z"
   },
   {
    "duration": 24,
    "start_time": "2022-03-02T09:21:52.728Z"
   },
   {
    "duration": 25,
    "start_time": "2022-03-02T09:22:30.555Z"
   },
   {
    "duration": 4,
    "start_time": "2022-03-02T09:24:19.006Z"
   },
   {
    "duration": 71,
    "start_time": "2022-03-02T09:32:47.600Z"
   },
   {
    "duration": 13,
    "start_time": "2022-03-02T09:35:27.823Z"
   },
   {
    "duration": 1454,
    "start_time": "2022-03-02T09:36:02.534Z"
   },
   {
    "duration": 38,
    "start_time": "2022-03-02T09:36:03.991Z"
   },
   {
    "duration": 24,
    "start_time": "2022-03-02T09:36:04.032Z"
   },
   {
    "duration": 28,
    "start_time": "2022-03-02T09:36:04.059Z"
   },
   {
    "duration": 22,
    "start_time": "2022-03-02T09:36:04.090Z"
   },
   {
    "duration": 53,
    "start_time": "2022-03-02T09:36:04.114Z"
   },
   {
    "duration": 32,
    "start_time": "2022-03-02T09:36:04.169Z"
   },
   {
    "duration": 6,
    "start_time": "2022-03-02T09:36:04.204Z"
   },
   {
    "duration": 30,
    "start_time": "2022-03-02T09:36:04.213Z"
   },
   {
    "duration": 14,
    "start_time": "2022-03-02T09:36:04.246Z"
   },
   {
    "duration": 425,
    "start_time": "2022-03-02T09:36:04.262Z"
   },
   {
    "duration": 13,
    "start_time": "2022-03-02T09:36:04.689Z"
   },
   {
    "duration": 19,
    "start_time": "2022-03-02T09:36:04.704Z"
   },
   {
    "duration": 29,
    "start_time": "2022-03-02T09:36:04.726Z"
   },
   {
    "duration": 68,
    "start_time": "2022-03-02T09:36:04.757Z"
   },
   {
    "duration": 17,
    "start_time": "2022-03-02T09:36:04.827Z"
   },
   {
    "duration": 39,
    "start_time": "2022-03-02T09:36:04.846Z"
   },
   {
    "duration": 6,
    "start_time": "2022-03-02T09:36:04.888Z"
   },
   {
    "duration": 557,
    "start_time": "2022-03-02T09:36:04.896Z"
   },
   {
    "duration": 718,
    "start_time": "2022-03-02T09:36:05.456Z"
   },
   {
    "duration": 260,
    "start_time": "2022-03-02T09:36:06.182Z"
   },
   {
    "duration": 38275,
    "start_time": "2022-03-02T09:36:06.444Z"
   },
   {
    "duration": 52082,
    "start_time": "2022-03-02T09:36:44.723Z"
   },
   {
    "duration": 21330,
    "start_time": "2022-03-02T09:37:36.807Z"
   },
   {
    "duration": 14,
    "start_time": "2022-03-02T09:37:58.140Z"
   },
   {
    "duration": 307,
    "start_time": "2022-03-02T09:37:58.157Z"
   },
   {
    "duration": 35,
    "start_time": "2022-03-02T09:37:58.467Z"
   },
   {
    "duration": 13,
    "start_time": "2022-03-02T09:37:58.505Z"
   },
   {
    "duration": 381,
    "start_time": "2022-03-03T09:34:00.836Z"
   },
   {
    "duration": 1561,
    "start_time": "2022-03-03T09:34:13.086Z"
   },
   {
    "duration": 55349,
    "start_time": "2022-03-03T09:34:14.650Z"
   },
   {
    "duration": 50,
    "start_time": "2022-03-03T09:35:10.003Z"
   },
   {
    "duration": 28,
    "start_time": "2022-03-03T09:35:10.056Z"
   },
   {
    "duration": 8,
    "start_time": "2022-03-03T09:35:10.088Z"
   },
   {
    "duration": 38,
    "start_time": "2022-03-03T09:35:10.099Z"
   },
   {
    "duration": 25,
    "start_time": "2022-03-03T09:35:10.140Z"
   },
   {
    "duration": 5,
    "start_time": "2022-03-03T09:35:10.167Z"
   },
   {
    "duration": 7,
    "start_time": "2022-03-03T09:35:10.179Z"
   },
   {
    "duration": 50,
    "start_time": "2022-03-03T09:35:10.189Z"
   },
   {
    "duration": 1623,
    "start_time": "2022-03-03T09:35:10.242Z"
   },
   {
    "duration": 664,
    "start_time": "2022-03-03T09:35:11.205Z"
   },
   {
    "duration": 656,
    "start_time": "2022-03-03T09:35:11.215Z"
   },
   {
    "duration": 640,
    "start_time": "2022-03-03T09:35:11.233Z"
   },
   {
    "duration": 637,
    "start_time": "2022-03-03T09:35:11.238Z"
   },
   {
    "duration": 636,
    "start_time": "2022-03-03T09:35:11.242Z"
   },
   {
    "duration": 633,
    "start_time": "2022-03-03T09:35:11.247Z"
   },
   {
    "duration": 631,
    "start_time": "2022-03-03T09:35:11.251Z"
   },
   {
    "duration": 628,
    "start_time": "2022-03-03T09:35:11.256Z"
   },
   {
    "duration": 625,
    "start_time": "2022-03-03T09:35:11.261Z"
   },
   {
    "duration": 623,
    "start_time": "2022-03-03T09:35:11.266Z"
   },
   {
    "duration": 621,
    "start_time": "2022-03-03T09:35:11.270Z"
   },
   {
    "duration": 618,
    "start_time": "2022-03-03T09:35:11.275Z"
   },
   {
    "duration": 615,
    "start_time": "2022-03-03T09:35:11.280Z"
   },
   {
    "duration": 613,
    "start_time": "2022-03-03T09:35:11.284Z"
   },
   {
    "duration": 611,
    "start_time": "2022-03-03T09:35:11.288Z"
   },
   {
    "duration": 609,
    "start_time": "2022-03-03T09:35:11.293Z"
   },
   {
    "duration": 607,
    "start_time": "2022-03-03T09:35:11.297Z"
   },
   {
    "duration": 604,
    "start_time": "2022-03-03T09:35:11.302Z"
   },
   {
    "duration": 625,
    "start_time": "2022-03-03T09:35:11.306Z"
   },
   {
    "duration": 622,
    "start_time": "2022-03-03T09:35:11.311Z"
   },
   {
    "duration": 920,
    "start_time": "2022-03-03T09:36:19.191Z"
   },
   {
    "duration": 314,
    "start_time": "2022-03-03T09:36:56.626Z"
   },
   {
    "duration": 351,
    "start_time": "2022-03-03T09:37:18.332Z"
   },
   {
    "duration": 16484,
    "start_time": "2022-03-03T09:37:59.390Z"
   },
   {
    "duration": 6149,
    "start_time": "2022-03-03T09:38:55.599Z"
   },
   {
    "duration": 32,
    "start_time": "2022-03-03T09:42:27.792Z"
   },
   {
    "duration": 309,
    "start_time": "2022-03-03T09:42:34.770Z"
   },
   {
    "duration": 370,
    "start_time": "2022-03-03T09:42:41.211Z"
   },
   {
    "duration": 15,
    "start_time": "2022-03-03T09:42:43.571Z"
   },
   {
    "duration": 10,
    "start_time": "2022-03-03T09:42:46.758Z"
   },
   {
    "duration": 169,
    "start_time": "2022-03-03T09:43:44.199Z"
   },
   {
    "duration": 104,
    "start_time": "2022-03-03T09:52:19.371Z"
   },
   {
    "duration": 4,
    "start_time": "2022-03-03T09:56:18.631Z"
   },
   {
    "duration": 3111,
    "start_time": "2022-03-03T09:56:26.806Z"
   },
   {
    "duration": 15679,
    "start_time": "2022-03-03T09:56:29.920Z"
   },
   {
    "duration": 44,
    "start_time": "2022-03-03T09:56:45.602Z"
   },
   {
    "duration": 5905,
    "start_time": "2022-03-03T09:56:45.649Z"
   },
   {
    "duration": 30,
    "start_time": "2022-03-03T09:56:51.557Z"
   },
   {
    "duration": 42,
    "start_time": "2022-03-03T09:56:51.590Z"
   },
   {
    "duration": 6,
    "start_time": "2022-03-03T09:56:51.635Z"
   },
   {
    "duration": 21,
    "start_time": "2022-03-03T09:56:51.645Z"
   },
   {
    "duration": 5,
    "start_time": "2022-03-03T09:56:51.670Z"
   },
   {
    "duration": 9,
    "start_time": "2022-03-03T09:56:51.678Z"
   },
   {
    "duration": 49,
    "start_time": "2022-03-03T09:56:51.690Z"
   },
   {
    "duration": 59,
    "start_time": "2022-03-03T09:56:51.742Z"
   },
   {
    "duration": 7,
    "start_time": "2022-03-03T09:56:51.804Z"
   },
   {
    "duration": 379,
    "start_time": "2022-03-03T09:56:51.833Z"
   },
   {
    "duration": 30,
    "start_time": "2022-03-03T09:56:52.216Z"
   },
   {
    "duration": 11,
    "start_time": "2022-03-03T09:56:52.249Z"
   },
   {
    "duration": 13,
    "start_time": "2022-03-03T09:56:52.263Z"
   },
   {
    "duration": 58,
    "start_time": "2022-03-03T09:56:52.278Z"
   },
   {
    "duration": 56,
    "start_time": "2022-03-03T09:56:52.339Z"
   },
   {
    "duration": 48,
    "start_time": "2022-03-03T09:56:52.398Z"
   },
   {
    "duration": 27,
    "start_time": "2022-03-03T09:56:52.449Z"
   },
   {
    "duration": 4,
    "start_time": "2022-03-03T09:56:52.479Z"
   },
   {
    "duration": 1013,
    "start_time": "2022-03-03T09:56:52.490Z"
   },
   {
    "duration": 1099,
    "start_time": "2022-03-03T09:56:53.506Z"
   },
   {
    "duration": 489,
    "start_time": "2022-03-03T09:56:54.608Z"
   },
   {
    "duration": 51487,
    "start_time": "2022-03-03T09:56:55.100Z"
   },
   {
    "duration": 57114,
    "start_time": "2022-03-03T09:57:46.589Z"
   },
   {
    "duration": 24254,
    "start_time": "2022-03-03T09:58:43.706Z"
   },
   {
    "duration": 14,
    "start_time": "2022-03-03T09:59:07.963Z"
   },
   {
    "duration": 336,
    "start_time": "2022-03-03T09:59:07.979Z"
   },
   {
    "duration": 40,
    "start_time": "2022-03-03T09:59:08.318Z"
   },
   {
    "duration": 17,
    "start_time": "2022-03-03T09:59:08.361Z"
   },
   {
    "duration": 14,
    "start_time": "2022-03-03T09:59:08.380Z"
   },
   {
    "duration": 177,
    "start_time": "2022-03-03T09:59:29.331Z"
   },
   {
    "duration": 474,
    "start_time": "2022-03-03T10:00:13.030Z"
   },
   {
    "duration": 484,
    "start_time": "2022-03-03T10:00:35.371Z"
   },
   {
    "duration": 499,
    "start_time": "2022-03-03T10:00:43.941Z"
   },
   {
    "duration": 6,
    "start_time": "2022-03-03T10:04:09.379Z"
   },
   {
    "duration": 307,
    "start_time": "2022-03-03T10:04:22.178Z"
   },
   {
    "duration": 11,
    "start_time": "2022-03-03T10:04:26.398Z"
   },
   {
    "duration": 360,
    "start_time": "2022-03-03T10:05:09.777Z"
   },
   {
    "duration": 18,
    "start_time": "2022-03-03T10:05:14.909Z"
   },
   {
    "duration": 106,
    "start_time": "2022-03-03T10:07:19.019Z"
   },
   {
    "duration": 1105,
    "start_time": "2022-03-03T11:13:52.711Z"
   },
   {
    "duration": 341655,
    "start_time": "2022-03-03T11:13:53.817Z"
   },
   {
    "duration": 30,
    "start_time": "2022-03-03T11:19:35.474Z"
   },
   {
    "duration": 2730,
    "start_time": "2022-03-03T11:19:35.506Z"
   },
   {
    "duration": 12,
    "start_time": "2022-03-03T11:19:38.237Z"
   },
   {
    "duration": 7,
    "start_time": "2022-03-03T11:19:38.250Z"
   },
   {
    "duration": 4,
    "start_time": "2022-03-03T11:19:38.258Z"
   },
   {
    "duration": 48,
    "start_time": "2022-03-03T11:19:38.264Z"
   },
   {
    "duration": 2,
    "start_time": "2022-03-03T11:19:38.313Z"
   },
   {
    "duration": 6,
    "start_time": "2022-03-03T11:19:38.317Z"
   },
   {
    "duration": 7,
    "start_time": "2022-03-03T11:19:38.324Z"
   },
   {
    "duration": 20,
    "start_time": "2022-03-03T11:19:38.333Z"
   },
   {
    "duration": 4,
    "start_time": "2022-03-03T11:19:38.354Z"
   },
   {
    "duration": 269,
    "start_time": "2022-03-03T11:19:38.360Z"
   },
   {
    "duration": 8,
    "start_time": "2022-03-03T11:19:38.631Z"
   },
   {
    "duration": 7,
    "start_time": "2022-03-03T11:19:38.641Z"
   },
   {
    "duration": 7,
    "start_time": "2022-03-03T11:19:38.649Z"
   },
   {
    "duration": 12,
    "start_time": "2022-03-03T11:19:38.657Z"
   },
   {
    "duration": 35,
    "start_time": "2022-03-03T11:19:38.705Z"
   },
   {
    "duration": 10,
    "start_time": "2022-03-03T11:19:38.741Z"
   },
   {
    "duration": 15,
    "start_time": "2022-03-03T11:19:38.753Z"
   },
   {
    "duration": 2,
    "start_time": "2022-03-03T11:19:38.769Z"
   },
   {
    "duration": 385,
    "start_time": "2022-03-03T11:19:38.774Z"
   },
   {
    "duration": 471,
    "start_time": "2022-03-03T11:19:39.161Z"
   },
   {
    "duration": 178,
    "start_time": "2022-03-03T11:19:39.634Z"
   },
   {
    "duration": 23044,
    "start_time": "2022-03-03T11:19:39.814Z"
   },
   {
    "duration": 32321,
    "start_time": "2022-03-03T11:20:02.860Z"
   },
   {
    "duration": 12982,
    "start_time": "2022-03-03T11:20:35.183Z"
   },
   {
    "duration": 10,
    "start_time": "2022-03-03T11:20:48.166Z"
   },
   {
    "duration": 191,
    "start_time": "2022-03-03T11:20:48.177Z"
   },
   {
    "duration": 15,
    "start_time": "2022-03-03T11:20:48.370Z"
   },
   {
    "duration": 25,
    "start_time": "2022-03-03T11:20:48.386Z"
   },
   {
    "duration": 7,
    "start_time": "2022-03-03T11:20:48.412Z"
   },
   {
    "duration": 105,
    "start_time": "2022-03-03T11:38:12.952Z"
   },
   {
    "duration": 1359,
    "start_time": "2022-06-01T08:07:36.867Z"
   },
   {
    "duration": 18617,
    "start_time": "2022-06-01T08:07:38.228Z"
   },
   {
    "duration": 91,
    "start_time": "2022-06-01T08:07:56.847Z"
   },
   {
    "duration": 2519,
    "start_time": "2022-06-01T08:07:56.940Z"
   },
   {
    "duration": 0,
    "start_time": "2022-06-01T08:07:59.462Z"
   },
   {
    "duration": 0,
    "start_time": "2022-06-01T08:07:59.464Z"
   },
   {
    "duration": 0,
    "start_time": "2022-06-01T08:07:59.465Z"
   },
   {
    "duration": 0,
    "start_time": "2022-06-01T08:07:59.466Z"
   },
   {
    "duration": 0,
    "start_time": "2022-06-01T08:07:59.468Z"
   },
   {
    "duration": 0,
    "start_time": "2022-06-01T08:07:59.469Z"
   },
   {
    "duration": 0,
    "start_time": "2022-06-01T08:07:59.471Z"
   },
   {
    "duration": 0,
    "start_time": "2022-06-01T08:07:59.472Z"
   },
   {
    "duration": 0,
    "start_time": "2022-06-01T08:07:59.474Z"
   },
   {
    "duration": 0,
    "start_time": "2022-06-01T08:07:59.476Z"
   },
   {
    "duration": 0,
    "start_time": "2022-06-01T08:07:59.477Z"
   },
   {
    "duration": 0,
    "start_time": "2022-06-01T08:07:59.479Z"
   },
   {
    "duration": 0,
    "start_time": "2022-06-01T08:07:59.480Z"
   },
   {
    "duration": 0,
    "start_time": "2022-06-01T08:07:59.481Z"
   },
   {
    "duration": 0,
    "start_time": "2022-06-01T08:07:59.484Z"
   },
   {
    "duration": 0,
    "start_time": "2022-06-01T08:07:59.486Z"
   },
   {
    "duration": 0,
    "start_time": "2022-06-01T08:07:59.487Z"
   },
   {
    "duration": 0,
    "start_time": "2022-06-01T08:07:59.489Z"
   },
   {
    "duration": 0,
    "start_time": "2022-06-01T08:07:59.527Z"
   },
   {
    "duration": 0,
    "start_time": "2022-06-01T08:07:59.528Z"
   },
   {
    "duration": 0,
    "start_time": "2022-06-01T08:07:59.529Z"
   },
   {
    "duration": 0,
    "start_time": "2022-06-01T08:07:59.530Z"
   },
   {
    "duration": 0,
    "start_time": "2022-06-01T08:07:59.531Z"
   },
   {
    "duration": 0,
    "start_time": "2022-06-01T08:07:59.532Z"
   },
   {
    "duration": 0,
    "start_time": "2022-06-01T08:07:59.533Z"
   },
   {
    "duration": 0,
    "start_time": "2022-06-01T08:07:59.534Z"
   },
   {
    "duration": 0,
    "start_time": "2022-06-01T08:07:59.535Z"
   },
   {
    "duration": 0,
    "start_time": "2022-06-01T08:07:59.537Z"
   },
   {
    "duration": 0,
    "start_time": "2022-06-01T08:07:59.538Z"
   },
   {
    "duration": 1201,
    "start_time": "2022-06-01T08:08:44.183Z"
   },
   {
    "duration": 48,
    "start_time": "2022-06-01T08:08:45.386Z"
   },
   {
    "duration": 17,
    "start_time": "2022-06-01T08:08:45.436Z"
   },
   {
    "duration": 5,
    "start_time": "2022-06-01T08:08:45.454Z"
   },
   {
    "duration": 11,
    "start_time": "2022-06-01T08:08:45.462Z"
   },
   {
    "duration": 35,
    "start_time": "2022-06-01T08:08:45.474Z"
   },
   {
    "duration": 3,
    "start_time": "2022-06-01T08:08:45.511Z"
   },
   {
    "duration": 12,
    "start_time": "2022-06-01T08:08:45.515Z"
   },
   {
    "duration": 11,
    "start_time": "2022-06-01T08:08:45.529Z"
   },
   {
    "duration": 25,
    "start_time": "2022-06-01T08:08:45.542Z"
   },
   {
    "duration": 4,
    "start_time": "2022-06-01T08:08:45.569Z"
   },
   {
    "duration": 165,
    "start_time": "2022-06-01T08:08:45.575Z"
   },
   {
    "duration": 0,
    "start_time": "2022-06-01T08:08:45.743Z"
   },
   {
    "duration": 0,
    "start_time": "2022-06-01T08:08:45.744Z"
   },
   {
    "duration": 0,
    "start_time": "2022-06-01T08:08:45.745Z"
   },
   {
    "duration": 0,
    "start_time": "2022-06-01T08:08:45.747Z"
   },
   {
    "duration": 0,
    "start_time": "2022-06-01T08:08:45.749Z"
   },
   {
    "duration": 0,
    "start_time": "2022-06-01T08:08:45.751Z"
   },
   {
    "duration": 0,
    "start_time": "2022-06-01T08:08:45.753Z"
   },
   {
    "duration": 0,
    "start_time": "2022-06-01T08:08:45.754Z"
   },
   {
    "duration": 0,
    "start_time": "2022-06-01T08:08:45.756Z"
   },
   {
    "duration": 0,
    "start_time": "2022-06-01T08:08:45.757Z"
   },
   {
    "duration": 0,
    "start_time": "2022-06-01T08:08:45.758Z"
   },
   {
    "duration": 0,
    "start_time": "2022-06-01T08:08:45.760Z"
   },
   {
    "duration": 0,
    "start_time": "2022-06-01T08:08:45.761Z"
   },
   {
    "duration": 0,
    "start_time": "2022-06-01T08:08:45.762Z"
   },
   {
    "duration": 0,
    "start_time": "2022-06-01T08:08:45.763Z"
   },
   {
    "duration": 0,
    "start_time": "2022-06-01T08:08:45.764Z"
   },
   {
    "duration": 0,
    "start_time": "2022-06-01T08:08:45.764Z"
   },
   {
    "duration": 0,
    "start_time": "2022-06-01T08:08:45.765Z"
   },
   {
    "duration": 0,
    "start_time": "2022-06-01T08:08:45.767Z"
   },
   {
    "duration": 18,
    "start_time": "2022-06-01T08:09:18.666Z"
   },
   {
    "duration": 1198,
    "start_time": "2022-06-01T08:09:32.766Z"
   },
   {
    "duration": 49,
    "start_time": "2022-06-01T08:09:33.966Z"
   },
   {
    "duration": 20,
    "start_time": "2022-06-01T08:09:34.017Z"
   },
   {
    "duration": 6,
    "start_time": "2022-06-01T08:09:34.038Z"
   },
   {
    "duration": 5,
    "start_time": "2022-06-01T08:09:34.046Z"
   },
   {
    "duration": 18,
    "start_time": "2022-06-01T08:09:34.052Z"
   },
   {
    "duration": 3,
    "start_time": "2022-06-01T08:09:34.071Z"
   },
   {
    "duration": 16,
    "start_time": "2022-06-01T08:09:34.076Z"
   },
   {
    "duration": 8,
    "start_time": "2022-06-01T08:09:34.094Z"
   },
   {
    "duration": 31,
    "start_time": "2022-06-01T08:09:34.104Z"
   },
   {
    "duration": 4,
    "start_time": "2022-06-01T08:09:34.137Z"
   },
   {
    "duration": 287,
    "start_time": "2022-06-01T08:09:34.143Z"
   },
   {
    "duration": 9,
    "start_time": "2022-06-01T08:09:34.431Z"
   },
   {
    "duration": 8,
    "start_time": "2022-06-01T08:09:34.443Z"
   },
   {
    "duration": 10,
    "start_time": "2022-06-01T08:09:34.453Z"
   },
   {
    "duration": 10,
    "start_time": "2022-06-01T08:09:34.465Z"
   },
   {
    "duration": 65,
    "start_time": "2022-06-01T08:09:34.476Z"
   },
   {
    "duration": 10,
    "start_time": "2022-06-01T08:09:34.542Z"
   },
   {
    "duration": 17,
    "start_time": "2022-06-01T08:09:34.554Z"
   },
   {
    "duration": 3,
    "start_time": "2022-06-01T08:09:34.572Z"
   },
   {
    "duration": 494,
    "start_time": "2022-06-01T08:09:34.576Z"
   },
   {
    "duration": 540,
    "start_time": "2022-06-01T08:09:35.071Z"
   },
   {
    "duration": 261,
    "start_time": "2022-06-01T08:09:35.612Z"
   },
   {
    "duration": 27695,
    "start_time": "2022-06-01T08:09:35.875Z"
   },
   {
    "duration": 38689,
    "start_time": "2022-06-01T08:10:03.571Z"
   },
   {
    "duration": 16822,
    "start_time": "2022-06-01T08:10:42.261Z"
   },
   {
    "duration": 11,
    "start_time": "2022-06-01T08:10:59.085Z"
   },
   {
    "duration": 233,
    "start_time": "2022-06-01T08:10:59.099Z"
   },
   {
    "duration": 24,
    "start_time": "2022-06-01T08:10:59.335Z"
   },
   {
    "duration": 18,
    "start_time": "2022-06-01T08:10:59.361Z"
   },
   {
    "duration": 14,
    "start_time": "2022-06-01T08:10:59.382Z"
   }
  ],
  "kernelspec": {
   "display_name": "Python 3 (ipykernel)",
   "language": "python",
   "name": "python3"
  },
  "language_info": {
   "codemirror_mode": {
    "name": "ipython",
    "version": 3
   },
   "file_extension": ".py",
   "mimetype": "text/x-python",
   "name": "python",
   "nbconvert_exporter": "python",
   "pygments_lexer": "ipython3",
   "version": "3.9.7"
  },
  "toc": {
   "base_numbering": 1,
   "nav_menu": {},
   "number_sections": true,
   "sideBar": true,
   "skip_h1_title": true,
   "title_cell": "Содержание",
   "title_sidebar": "Contents",
   "toc_cell": true,
   "toc_position": {},
   "toc_section_display": true,
   "toc_window_display": true
  }
 },
 "nbformat": 4,
 "nbformat_minor": 2
}
