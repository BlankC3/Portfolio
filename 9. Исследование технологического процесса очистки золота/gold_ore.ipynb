{
 "cells": [
  {
   "cell_type": "markdown",
   "metadata": {
    "toc": true
   },
   "source": [
    "<h1>Содержание<span class=\"tocSkip\"></span></h1>\n",
    "<div class=\"toc\"><ul class=\"toc-item\"><li><span><a href=\"#Подготовка-данных\" data-toc-modified-id=\"Подготовка-данных-1\"><span class=\"toc-item-num\">1&nbsp;&nbsp;</span>Подготовка данных</a></span><ul class=\"toc-item\"><li><span><a href=\"#Импорты\" data-toc-modified-id=\"Импорты-1.1\"><span class=\"toc-item-num\">1.1&nbsp;&nbsp;</span>Импорты</a></span></li><li><span><a href=\"#Изучение-файлов\" data-toc-modified-id=\"Изучение-файлов-1.2\"><span class=\"toc-item-num\">1.2&nbsp;&nbsp;</span>Изучение файлов</a></span></li><li><span><a href=\"#Работа-с-пропусками\" data-toc-modified-id=\"Работа-с-пропусками-1.3\"><span class=\"toc-item-num\">1.3&nbsp;&nbsp;</span>Работа с пропусками</a></span></li><li><span><a href=\"#Проверка-правильности-расчётов-эффективности-обогащения\" data-toc-modified-id=\"Проверка-правильности-расчётов-эффективности-обогащения-1.4\"><span class=\"toc-item-num\">1.4&nbsp;&nbsp;</span>Проверка правильности расчётов эффективности обогащения</a></span></li><li><span><a href=\"#Анализ-отсутствующих-признаков\" data-toc-modified-id=\"Анализ-отсутствующих-признаков-1.5\"><span class=\"toc-item-num\">1.5&nbsp;&nbsp;</span>Анализ отсутствующих признаков</a></span></li></ul></li><li><span><a href=\"#Анализ-данных\" data-toc-modified-id=\"Анализ-данных-2\"><span class=\"toc-item-num\">2&nbsp;&nbsp;</span>Анализ данных</a></span><ul class=\"toc-item\"><li><span><a href=\"#Золото\" data-toc-modified-id=\"Золото-2.1\"><span class=\"toc-item-num\">2.1&nbsp;&nbsp;</span>Золото</a></span></li><li><span><a href=\"#Серебро\" data-toc-modified-id=\"Серебро-2.2\"><span class=\"toc-item-num\">2.2&nbsp;&nbsp;</span>Серебро</a></span></li><li><span><a href=\"#Свинец\" data-toc-modified-id=\"Свинец-2.3\"><span class=\"toc-item-num\">2.3&nbsp;&nbsp;</span>Свинец</a></span></li><li><span><a href=\"#Сравнение-распределений\" data-toc-modified-id=\"Сравнение-распределений-2.4\"><span class=\"toc-item-num\">2.4&nbsp;&nbsp;</span>Сравнение распределений</a></span></li><li><span><a href=\"#Исследование-сумарной-концентрации\" data-toc-modified-id=\"Исследование-сумарной-концентрации-2.5\"><span class=\"toc-item-num\">2.5&nbsp;&nbsp;</span>Исследование сумарной концентрации</a></span></li></ul></li><li><span><a href=\"#Модель\" data-toc-modified-id=\"Модель-3\"><span class=\"toc-item-num\">3&nbsp;&nbsp;</span>Модель</a></span><ul class=\"toc-item\"><li><span><a href=\"#Функция-sMAPE.\" data-toc-modified-id=\"Функция-sMAPE.-3.1\"><span class=\"toc-item-num\">3.1&nbsp;&nbsp;</span>Функция sMAPE.</a></span></li><li><span><a href=\"#Обучение-моделей\" data-toc-modified-id=\"Обучение-моделей-3.2\"><span class=\"toc-item-num\">3.2&nbsp;&nbsp;</span>Обучение моделей</a></span><ul class=\"toc-item\"><li><span><a href=\"#LinearRegression\" data-toc-modified-id=\"LinearRegression-3.2.1\"><span class=\"toc-item-num\">3.2.1&nbsp;&nbsp;</span>LinearRegression</a></span></li><li><span><a href=\"#RandomForestRegressor\" data-toc-modified-id=\"RandomForestRegressor-3.2.2\"><span class=\"toc-item-num\">3.2.2&nbsp;&nbsp;</span>RandomForestRegressor</a></span></li><li><span><a href=\"#DecisionTreeRegressor\" data-toc-modified-id=\"DecisionTreeRegressor-3.2.3\"><span class=\"toc-item-num\">3.2.3&nbsp;&nbsp;</span>DecisionTreeRegressor</a></span></li></ul></li><li><span><a href=\"#Проверка-на-тестовой-выборке\" data-toc-modified-id=\"Проверка-на-тестовой-выборке-3.3\"><span class=\"toc-item-num\">3.3&nbsp;&nbsp;</span>Проверка на тестовой выборке</a></span></li></ul></li><li><span><a href=\"#Чек-лист-готовности-проекта\" data-toc-modified-id=\"Чек-лист-готовности-проекта-4\"><span class=\"toc-item-num\">4&nbsp;&nbsp;</span>Чек-лист готовности проекта</a></span></li></ul></div>"
   ]
  },
  {
   "cell_type": "markdown",
   "metadata": {},
   "source": [
    "# Восстановление золота из руды"
   ]
  },
  {
   "cell_type": "markdown",
   "metadata": {},
   "source": [
    "Подготовьте прототип модели машинного обучения для «Цифры». Компания разрабатывает решения для эффективной работы промышленных предприятий.\n",
    "\n",
    "Модель должна предсказать коэффициент восстановления золота из золотосодержащей руды. Используйте данные с параметрами добычи и очистки. \n",
    "\n",
    "Модель поможет оптимизировать производство, чтобы не запускать предприятие с убыточными характеристиками.\n",
    "\n",
    "Вам нужно:\n",
    "\n",
    "1. Подготовить данные;\n",
    "2. Провести исследовательский анализ данных;\n",
    "3. Построить и обучить модель.\n",
    "\n",
    "Чтобы выполнить проект, обращайтесь к библиотекам *pandas*, *matplotlib* и *sklearn.* Вам поможет их документация.\n",
    "\n",
    "Данные находятся в трёх файлах:<br>\n",
    "\n",
    "1. gold_recovery_train_new.csv — обучающая выборка;\n",
    "2. gold_recovery_test_new.csv — тестовая выборка;\n",
    "3. gold_recovery_full_new.csv — исходные данные."
   ]
  },
  {
   "cell_type": "markdown",
   "metadata": {},
   "source": [
    "## Подготовка данных"
   ]
  },
  {
   "cell_type": "markdown",
   "metadata": {},
   "source": [
    "### Импорты"
   ]
  },
  {
   "cell_type": "code",
   "execution_count": 1,
   "metadata": {},
   "outputs": [],
   "source": [
    "from sklearn.linear_model import LinearRegression\n",
    "from math import sqrt\n",
    "import pandas as pd\n",
    "import numpy as np\n",
    "from sklearn.metrics import mean_absolute_error\n",
    "from sklearn.model_selection import train_test_split\n",
    "import seaborn as sns\n",
    "import matplotlib.pyplot as plt\n",
    "from collections import defaultdict\n",
    "from sklearn.ensemble import RandomForestRegressor\n",
    "from sklearn.tree import DecisionTreeRegressor\n",
    "from sklearn.model_selection import cross_val_score\n",
    "from sklearn.metrics import fbeta_score, make_scorer\n",
    "from sklearn.dummy import DummyRegressor"
   ]
  },
  {
   "cell_type": "markdown",
   "metadata": {},
   "source": [
    "### Изучение файлов"
   ]
  },
  {
   "cell_type": "code",
   "execution_count": 2,
   "metadata": {},
   "outputs": [],
   "source": [
    "train = pd.read_csv('/datasets/gold_recovery_train_new.csv', index_col = 'date', parse_dates = ['date'])\n",
    "test = pd.read_csv('/datasets/gold_recovery_test_new.csv', index_col = 'date', parse_dates = ['date'])\n",
    "full = pd.read_csv('/datasets/gold_recovery_full_new.csv', index_col = 'date', parse_dates = ['date'])"
   ]
  },
  {
   "cell_type": "code",
   "execution_count": 3,
   "metadata": {},
   "outputs": [
    {
     "data": {
      "text/html": [
       "<div>\n",
       "<style scoped>\n",
       "    .dataframe tbody tr th:only-of-type {\n",
       "        vertical-align: middle;\n",
       "    }\n",
       "\n",
       "    .dataframe tbody tr th {\n",
       "        vertical-align: top;\n",
       "    }\n",
       "\n",
       "    .dataframe thead th {\n",
       "        text-align: right;\n",
       "    }\n",
       "</style>\n",
       "<table border=\"1\" class=\"dataframe\">\n",
       "  <thead>\n",
       "    <tr style=\"text-align: right;\">\n",
       "      <th></th>\n",
       "      <th>final.output.concentrate_ag</th>\n",
       "      <th>final.output.concentrate_pb</th>\n",
       "      <th>final.output.concentrate_sol</th>\n",
       "      <th>final.output.concentrate_au</th>\n",
       "      <th>final.output.recovery</th>\n",
       "      <th>final.output.tail_ag</th>\n",
       "      <th>final.output.tail_pb</th>\n",
       "      <th>final.output.tail_sol</th>\n",
       "      <th>final.output.tail_au</th>\n",
       "      <th>primary_cleaner.input.sulfate</th>\n",
       "      <th>...</th>\n",
       "      <th>secondary_cleaner.state.floatbank4_a_air</th>\n",
       "      <th>secondary_cleaner.state.floatbank4_a_level</th>\n",
       "      <th>secondary_cleaner.state.floatbank4_b_air</th>\n",
       "      <th>secondary_cleaner.state.floatbank4_b_level</th>\n",
       "      <th>secondary_cleaner.state.floatbank5_a_air</th>\n",
       "      <th>secondary_cleaner.state.floatbank5_a_level</th>\n",
       "      <th>secondary_cleaner.state.floatbank5_b_air</th>\n",
       "      <th>secondary_cleaner.state.floatbank5_b_level</th>\n",
       "      <th>secondary_cleaner.state.floatbank6_a_air</th>\n",
       "      <th>secondary_cleaner.state.floatbank6_a_level</th>\n",
       "    </tr>\n",
       "  </thead>\n",
       "  <tbody>\n",
       "    <tr>\n",
       "      <th>count</th>\n",
       "      <td>14148.000000</td>\n",
       "      <td>14148.000000</td>\n",
       "      <td>13938.000000</td>\n",
       "      <td>14149.000000</td>\n",
       "      <td>14149.000000</td>\n",
       "      <td>14149.000000</td>\n",
       "      <td>14049.000000</td>\n",
       "      <td>14144.000000</td>\n",
       "      <td>14149.000000</td>\n",
       "      <td>14129.000000</td>\n",
       "      <td>...</td>\n",
       "      <td>14143.000000</td>\n",
       "      <td>14148.000000</td>\n",
       "      <td>14148.000000</td>\n",
       "      <td>14148.000000</td>\n",
       "      <td>14148.000000</td>\n",
       "      <td>14148.000000</td>\n",
       "      <td>14148.000000</td>\n",
       "      <td>14148.000000</td>\n",
       "      <td>14147.000000</td>\n",
       "      <td>14148.000000</td>\n",
       "    </tr>\n",
       "    <tr>\n",
       "      <th>mean</th>\n",
       "      <td>5.142034</td>\n",
       "      <td>10.132960</td>\n",
       "      <td>9.202849</td>\n",
       "      <td>44.003792</td>\n",
       "      <td>66.518832</td>\n",
       "      <td>9.607035</td>\n",
       "      <td>2.597298</td>\n",
       "      <td>10.512122</td>\n",
       "      <td>2.918421</td>\n",
       "      <td>133.320659</td>\n",
       "      <td>...</td>\n",
       "      <td>19.985454</td>\n",
       "      <td>-478.696836</td>\n",
       "      <td>15.487065</td>\n",
       "      <td>-460.229416</td>\n",
       "      <td>16.775136</td>\n",
       "      <td>-483.956022</td>\n",
       "      <td>13.064590</td>\n",
       "      <td>-483.966564</td>\n",
       "      <td>19.577539</td>\n",
       "      <td>-506.798480</td>\n",
       "    </tr>\n",
       "    <tr>\n",
       "      <th>std</th>\n",
       "      <td>1.369586</td>\n",
       "      <td>1.654930</td>\n",
       "      <td>2.790516</td>\n",
       "      <td>4.905261</td>\n",
       "      <td>10.295402</td>\n",
       "      <td>2.319069</td>\n",
       "      <td>0.971843</td>\n",
       "      <td>3.003617</td>\n",
       "      <td>0.903712</td>\n",
       "      <td>39.431659</td>\n",
       "      <td>...</td>\n",
       "      <td>5.657723</td>\n",
       "      <td>50.736021</td>\n",
       "      <td>5.255655</td>\n",
       "      <td>58.843586</td>\n",
       "      <td>5.831906</td>\n",
       "      <td>37.892788</td>\n",
       "      <td>5.765617</td>\n",
       "      <td>39.207913</td>\n",
       "      <td>5.764417</td>\n",
       "      <td>37.079249</td>\n",
       "    </tr>\n",
       "    <tr>\n",
       "      <th>min</th>\n",
       "      <td>0.000000</td>\n",
       "      <td>0.000000</td>\n",
       "      <td>0.000000</td>\n",
       "      <td>0.000000</td>\n",
       "      <td>0.000000</td>\n",
       "      <td>0.000000</td>\n",
       "      <td>0.000000</td>\n",
       "      <td>0.000000</td>\n",
       "      <td>0.000000</td>\n",
       "      <td>0.003112</td>\n",
       "      <td>...</td>\n",
       "      <td>0.000000</td>\n",
       "      <td>-799.709069</td>\n",
       "      <td>0.000000</td>\n",
       "      <td>-799.889113</td>\n",
       "      <td>-0.372054</td>\n",
       "      <td>-797.142475</td>\n",
       "      <td>0.646208</td>\n",
       "      <td>-800.006180</td>\n",
       "      <td>0.195324</td>\n",
       "      <td>-809.398668</td>\n",
       "    </tr>\n",
       "    <tr>\n",
       "      <th>25%</th>\n",
       "      <td>4.211620</td>\n",
       "      <td>9.297355</td>\n",
       "      <td>7.484645</td>\n",
       "      <td>43.276111</td>\n",
       "      <td>62.545817</td>\n",
       "      <td>7.997429</td>\n",
       "      <td>1.905973</td>\n",
       "      <td>8.811324</td>\n",
       "      <td>2.368607</td>\n",
       "      <td>107.006651</td>\n",
       "      <td>...</td>\n",
       "      <td>14.990775</td>\n",
       "      <td>-500.628656</td>\n",
       "      <td>11.894558</td>\n",
       "      <td>-500.149000</td>\n",
       "      <td>11.083980</td>\n",
       "      <td>-500.363177</td>\n",
       "      <td>8.994405</td>\n",
       "      <td>-500.105994</td>\n",
       "      <td>14.989304</td>\n",
       "      <td>-500.745104</td>\n",
       "    </tr>\n",
       "    <tr>\n",
       "      <th>50%</th>\n",
       "      <td>4.994652</td>\n",
       "      <td>10.297144</td>\n",
       "      <td>8.845462</td>\n",
       "      <td>44.872436</td>\n",
       "      <td>67.432775</td>\n",
       "      <td>9.480270</td>\n",
       "      <td>2.592022</td>\n",
       "      <td>10.514621</td>\n",
       "      <td>2.851025</td>\n",
       "      <td>133.018328</td>\n",
       "      <td>...</td>\n",
       "      <td>20.001789</td>\n",
       "      <td>-499.681450</td>\n",
       "      <td>14.975536</td>\n",
       "      <td>-499.388738</td>\n",
       "      <td>17.932223</td>\n",
       "      <td>-499.702452</td>\n",
       "      <td>11.997547</td>\n",
       "      <td>-499.914556</td>\n",
       "      <td>19.984175</td>\n",
       "      <td>-500.061431</td>\n",
       "    </tr>\n",
       "    <tr>\n",
       "      <th>75%</th>\n",
       "      <td>5.859540</td>\n",
       "      <td>11.170603</td>\n",
       "      <td>10.487508</td>\n",
       "      <td>46.166425</td>\n",
       "      <td>72.346428</td>\n",
       "      <td>11.003707</td>\n",
       "      <td>3.241723</td>\n",
       "      <td>11.933009</td>\n",
       "      <td>3.434764</td>\n",
       "      <td>159.825396</td>\n",
       "      <td>...</td>\n",
       "      <td>24.990826</td>\n",
       "      <td>-477.472413</td>\n",
       "      <td>20.059375</td>\n",
       "      <td>-400.039008</td>\n",
       "      <td>21.346550</td>\n",
       "      <td>-487.712108</td>\n",
       "      <td>17.982903</td>\n",
       "      <td>-453.186936</td>\n",
       "      <td>24.991623</td>\n",
       "      <td>-499.536466</td>\n",
       "    </tr>\n",
       "    <tr>\n",
       "      <th>max</th>\n",
       "      <td>16.001945</td>\n",
       "      <td>17.031899</td>\n",
       "      <td>18.124851</td>\n",
       "      <td>52.756638</td>\n",
       "      <td>100.000000</td>\n",
       "      <td>19.552149</td>\n",
       "      <td>5.639565</td>\n",
       "      <td>22.317730</td>\n",
       "      <td>8.197408</td>\n",
       "      <td>250.127834</td>\n",
       "      <td>...</td>\n",
       "      <td>30.115735</td>\n",
       "      <td>-245.239184</td>\n",
       "      <td>24.007913</td>\n",
       "      <td>-145.071088</td>\n",
       "      <td>43.709931</td>\n",
       "      <td>-275.073125</td>\n",
       "      <td>27.926001</td>\n",
       "      <td>-157.396071</td>\n",
       "      <td>32.188906</td>\n",
       "      <td>-104.427459</td>\n",
       "    </tr>\n",
       "  </tbody>\n",
       "</table>\n",
       "<p>8 rows × 86 columns</p>\n",
       "</div>"
      ],
      "text/plain": [
       "       final.output.concentrate_ag  final.output.concentrate_pb  \\\n",
       "count                 14148.000000                 14148.000000   \n",
       "mean                      5.142034                    10.132960   \n",
       "std                       1.369586                     1.654930   \n",
       "min                       0.000000                     0.000000   \n",
       "25%                       4.211620                     9.297355   \n",
       "50%                       4.994652                    10.297144   \n",
       "75%                       5.859540                    11.170603   \n",
       "max                      16.001945                    17.031899   \n",
       "\n",
       "       final.output.concentrate_sol  final.output.concentrate_au  \\\n",
       "count                  13938.000000                 14149.000000   \n",
       "mean                       9.202849                    44.003792   \n",
       "std                        2.790516                     4.905261   \n",
       "min                        0.000000                     0.000000   \n",
       "25%                        7.484645                    43.276111   \n",
       "50%                        8.845462                    44.872436   \n",
       "75%                       10.487508                    46.166425   \n",
       "max                       18.124851                    52.756638   \n",
       "\n",
       "       final.output.recovery  final.output.tail_ag  final.output.tail_pb  \\\n",
       "count           14149.000000          14149.000000          14049.000000   \n",
       "mean               66.518832              9.607035              2.597298   \n",
       "std                10.295402              2.319069              0.971843   \n",
       "min                 0.000000              0.000000              0.000000   \n",
       "25%                62.545817              7.997429              1.905973   \n",
       "50%                67.432775              9.480270              2.592022   \n",
       "75%                72.346428             11.003707              3.241723   \n",
       "max               100.000000             19.552149              5.639565   \n",
       "\n",
       "       final.output.tail_sol  final.output.tail_au  \\\n",
       "count           14144.000000          14149.000000   \n",
       "mean               10.512122              2.918421   \n",
       "std                 3.003617              0.903712   \n",
       "min                 0.000000              0.000000   \n",
       "25%                 8.811324              2.368607   \n",
       "50%                10.514621              2.851025   \n",
       "75%                11.933009              3.434764   \n",
       "max                22.317730              8.197408   \n",
       "\n",
       "       primary_cleaner.input.sulfate  ...  \\\n",
       "count                   14129.000000  ...   \n",
       "mean                      133.320659  ...   \n",
       "std                        39.431659  ...   \n",
       "min                         0.003112  ...   \n",
       "25%                       107.006651  ...   \n",
       "50%                       133.018328  ...   \n",
       "75%                       159.825396  ...   \n",
       "max                       250.127834  ...   \n",
       "\n",
       "       secondary_cleaner.state.floatbank4_a_air  \\\n",
       "count                              14143.000000   \n",
       "mean                                  19.985454   \n",
       "std                                    5.657723   \n",
       "min                                    0.000000   \n",
       "25%                                   14.990775   \n",
       "50%                                   20.001789   \n",
       "75%                                   24.990826   \n",
       "max                                   30.115735   \n",
       "\n",
       "       secondary_cleaner.state.floatbank4_a_level  \\\n",
       "count                                14148.000000   \n",
       "mean                                  -478.696836   \n",
       "std                                     50.736021   \n",
       "min                                   -799.709069   \n",
       "25%                                   -500.628656   \n",
       "50%                                   -499.681450   \n",
       "75%                                   -477.472413   \n",
       "max                                   -245.239184   \n",
       "\n",
       "       secondary_cleaner.state.floatbank4_b_air  \\\n",
       "count                              14148.000000   \n",
       "mean                                  15.487065   \n",
       "std                                    5.255655   \n",
       "min                                    0.000000   \n",
       "25%                                   11.894558   \n",
       "50%                                   14.975536   \n",
       "75%                                   20.059375   \n",
       "max                                   24.007913   \n",
       "\n",
       "       secondary_cleaner.state.floatbank4_b_level  \\\n",
       "count                                14148.000000   \n",
       "mean                                  -460.229416   \n",
       "std                                     58.843586   \n",
       "min                                   -799.889113   \n",
       "25%                                   -500.149000   \n",
       "50%                                   -499.388738   \n",
       "75%                                   -400.039008   \n",
       "max                                   -145.071088   \n",
       "\n",
       "       secondary_cleaner.state.floatbank5_a_air  \\\n",
       "count                              14148.000000   \n",
       "mean                                  16.775136   \n",
       "std                                    5.831906   \n",
       "min                                   -0.372054   \n",
       "25%                                   11.083980   \n",
       "50%                                   17.932223   \n",
       "75%                                   21.346550   \n",
       "max                                   43.709931   \n",
       "\n",
       "       secondary_cleaner.state.floatbank5_a_level  \\\n",
       "count                                14148.000000   \n",
       "mean                                  -483.956022   \n",
       "std                                     37.892788   \n",
       "min                                   -797.142475   \n",
       "25%                                   -500.363177   \n",
       "50%                                   -499.702452   \n",
       "75%                                   -487.712108   \n",
       "max                                   -275.073125   \n",
       "\n",
       "       secondary_cleaner.state.floatbank5_b_air  \\\n",
       "count                              14148.000000   \n",
       "mean                                  13.064590   \n",
       "std                                    5.765617   \n",
       "min                                    0.646208   \n",
       "25%                                    8.994405   \n",
       "50%                                   11.997547   \n",
       "75%                                   17.982903   \n",
       "max                                   27.926001   \n",
       "\n",
       "       secondary_cleaner.state.floatbank5_b_level  \\\n",
       "count                                14148.000000   \n",
       "mean                                  -483.966564   \n",
       "std                                     39.207913   \n",
       "min                                   -800.006180   \n",
       "25%                                   -500.105994   \n",
       "50%                                   -499.914556   \n",
       "75%                                   -453.186936   \n",
       "max                                   -157.396071   \n",
       "\n",
       "       secondary_cleaner.state.floatbank6_a_air  \\\n",
       "count                              14147.000000   \n",
       "mean                                  19.577539   \n",
       "std                                    5.764417   \n",
       "min                                    0.195324   \n",
       "25%                                   14.989304   \n",
       "50%                                   19.984175   \n",
       "75%                                   24.991623   \n",
       "max                                   32.188906   \n",
       "\n",
       "       secondary_cleaner.state.floatbank6_a_level  \n",
       "count                                14148.000000  \n",
       "mean                                  -506.798480  \n",
       "std                                     37.079249  \n",
       "min                                   -809.398668  \n",
       "25%                                   -500.745104  \n",
       "50%                                   -500.061431  \n",
       "75%                                   -499.536466  \n",
       "max                                   -104.427459  \n",
       "\n",
       "[8 rows x 86 columns]"
      ]
     },
     "execution_count": 3,
     "metadata": {},
     "output_type": "execute_result"
    }
   ],
   "source": [
    "train.describe()"
   ]
  },
  {
   "cell_type": "code",
   "execution_count": 4,
   "metadata": {},
   "outputs": [
    {
     "data": {
      "text/html": [
       "<div>\n",
       "<style scoped>\n",
       "    .dataframe tbody tr th:only-of-type {\n",
       "        vertical-align: middle;\n",
       "    }\n",
       "\n",
       "    .dataframe tbody tr th {\n",
       "        vertical-align: top;\n",
       "    }\n",
       "\n",
       "    .dataframe thead th {\n",
       "        text-align: right;\n",
       "    }\n",
       "</style>\n",
       "<table border=\"1\" class=\"dataframe\">\n",
       "  <thead>\n",
       "    <tr style=\"text-align: right;\">\n",
       "      <th></th>\n",
       "      <th>primary_cleaner.input.sulfate</th>\n",
       "      <th>primary_cleaner.input.depressant</th>\n",
       "      <th>primary_cleaner.input.feed_size</th>\n",
       "      <th>primary_cleaner.input.xanthate</th>\n",
       "      <th>primary_cleaner.state.floatbank8_a_air</th>\n",
       "      <th>primary_cleaner.state.floatbank8_a_level</th>\n",
       "      <th>primary_cleaner.state.floatbank8_b_air</th>\n",
       "      <th>primary_cleaner.state.floatbank8_b_level</th>\n",
       "      <th>primary_cleaner.state.floatbank8_c_air</th>\n",
       "      <th>primary_cleaner.state.floatbank8_c_level</th>\n",
       "      <th>...</th>\n",
       "      <th>secondary_cleaner.state.floatbank4_a_air</th>\n",
       "      <th>secondary_cleaner.state.floatbank4_a_level</th>\n",
       "      <th>secondary_cleaner.state.floatbank4_b_air</th>\n",
       "      <th>secondary_cleaner.state.floatbank4_b_level</th>\n",
       "      <th>secondary_cleaner.state.floatbank5_a_air</th>\n",
       "      <th>secondary_cleaner.state.floatbank5_a_level</th>\n",
       "      <th>secondary_cleaner.state.floatbank5_b_air</th>\n",
       "      <th>secondary_cleaner.state.floatbank5_b_level</th>\n",
       "      <th>secondary_cleaner.state.floatbank6_a_air</th>\n",
       "      <th>secondary_cleaner.state.floatbank6_a_level</th>\n",
       "    </tr>\n",
       "  </thead>\n",
       "  <tbody>\n",
       "    <tr>\n",
       "      <th>count</th>\n",
       "      <td>5286.000000</td>\n",
       "      <td>5285.000000</td>\n",
       "      <td>5290.000000</td>\n",
       "      <td>5286.000000</td>\n",
       "      <td>5.290000e+03</td>\n",
       "      <td>5290.000000</td>\n",
       "      <td>5.290000e+03</td>\n",
       "      <td>5290.000000</td>\n",
       "      <td>5.290000e+03</td>\n",
       "      <td>5290.000000</td>\n",
       "      <td>...</td>\n",
       "      <td>5.290000e+03</td>\n",
       "      <td>5290.000000</td>\n",
       "      <td>5.290000e+03</td>\n",
       "      <td>5290.000000</td>\n",
       "      <td>5290.000000</td>\n",
       "      <td>5290.000000</td>\n",
       "      <td>5290.000000</td>\n",
       "      <td>5290.000000</td>\n",
       "      <td>5290.000000</td>\n",
       "      <td>5290.000000</td>\n",
       "    </tr>\n",
       "    <tr>\n",
       "      <th>mean</th>\n",
       "      <td>174.839652</td>\n",
       "      <td>8.683596</td>\n",
       "      <td>7.266339</td>\n",
       "      <td>1.383803</td>\n",
       "      <td>1.539494e+03</td>\n",
       "      <td>-497.665883</td>\n",
       "      <td>1.545174e+03</td>\n",
       "      <td>-500.273098</td>\n",
       "      <td>1.527272e+03</td>\n",
       "      <td>-498.330680</td>\n",
       "      <td>...</td>\n",
       "      <td>1.632007e+01</td>\n",
       "      <td>-505.144570</td>\n",
       "      <td>1.373544e+01</td>\n",
       "      <td>-463.349858</td>\n",
       "      <td>12.804186</td>\n",
       "      <td>-501.329122</td>\n",
       "      <td>9.881145</td>\n",
       "      <td>-495.663398</td>\n",
       "      <td>17.304935</td>\n",
       "      <td>-501.793193</td>\n",
       "    </tr>\n",
       "    <tr>\n",
       "      <th>std</th>\n",
       "      <td>43.027080</td>\n",
       "      <td>3.072050</td>\n",
       "      <td>0.610219</td>\n",
       "      <td>0.643474</td>\n",
       "      <td>1.167979e+02</td>\n",
       "      <td>19.952431</td>\n",
       "      <td>1.222246e+02</td>\n",
       "      <td>32.968307</td>\n",
       "      <td>1.225380e+02</td>\n",
       "      <td>21.964876</td>\n",
       "      <td>...</td>\n",
       "      <td>3.493583e+00</td>\n",
       "      <td>31.427337</td>\n",
       "      <td>3.430484e+00</td>\n",
       "      <td>86.189107</td>\n",
       "      <td>3.026591</td>\n",
       "      <td>17.951495</td>\n",
       "      <td>2.868205</td>\n",
       "      <td>34.535007</td>\n",
       "      <td>4.536544</td>\n",
       "      <td>39.044215</td>\n",
       "    </tr>\n",
       "    <tr>\n",
       "      <th>min</th>\n",
       "      <td>2.566156</td>\n",
       "      <td>0.003839</td>\n",
       "      <td>5.650000</td>\n",
       "      <td>0.004984</td>\n",
       "      <td>5.445860e-32</td>\n",
       "      <td>-795.316337</td>\n",
       "      <td>6.647490e-32</td>\n",
       "      <td>-799.997015</td>\n",
       "      <td>4.033736e-32</td>\n",
       "      <td>-799.960571</td>\n",
       "      <td>...</td>\n",
       "      <td>1.079872e-16</td>\n",
       "      <td>-799.798523</td>\n",
       "      <td>2.489718e-17</td>\n",
       "      <td>-800.836914</td>\n",
       "      <td>0.069227</td>\n",
       "      <td>-797.323986</td>\n",
       "      <td>0.528083</td>\n",
       "      <td>-800.220337</td>\n",
       "      <td>-0.079426</td>\n",
       "      <td>-809.741464</td>\n",
       "    </tr>\n",
       "    <tr>\n",
       "      <th>25%</th>\n",
       "      <td>147.121401</td>\n",
       "      <td>6.489555</td>\n",
       "      <td>6.890000</td>\n",
       "      <td>0.907623</td>\n",
       "      <td>1.498936e+03</td>\n",
       "      <td>-500.357298</td>\n",
       "      <td>1.498971e+03</td>\n",
       "      <td>-500.703002</td>\n",
       "      <td>1.473230e+03</td>\n",
       "      <td>-501.018117</td>\n",
       "      <td>...</td>\n",
       "      <td>1.403618e+01</td>\n",
       "      <td>-500.868258</td>\n",
       "      <td>1.202862e+01</td>\n",
       "      <td>-500.323028</td>\n",
       "      <td>10.914838</td>\n",
       "      <td>-500.726841</td>\n",
       "      <td>8.036719</td>\n",
       "      <td>-500.194668</td>\n",
       "      <td>13.997317</td>\n",
       "      <td>-500.690984</td>\n",
       "    </tr>\n",
       "    <tr>\n",
       "      <th>50%</th>\n",
       "      <td>177.828489</td>\n",
       "      <td>8.052207</td>\n",
       "      <td>7.250000</td>\n",
       "      <td>1.197610</td>\n",
       "      <td>1.585129e+03</td>\n",
       "      <td>-499.969164</td>\n",
       "      <td>1.595622e+03</td>\n",
       "      <td>-500.028514</td>\n",
       "      <td>1.549595e+03</td>\n",
       "      <td>-500.017711</td>\n",
       "      <td>...</td>\n",
       "      <td>1.700847e+01</td>\n",
       "      <td>-500.115727</td>\n",
       "      <td>1.496486e+01</td>\n",
       "      <td>-499.576513</td>\n",
       "      <td>12.954182</td>\n",
       "      <td>-499.990332</td>\n",
       "      <td>10.004301</td>\n",
       "      <td>-499.990535</td>\n",
       "      <td>16.014935</td>\n",
       "      <td>-500.007126</td>\n",
       "    </tr>\n",
       "    <tr>\n",
       "      <th>75%</th>\n",
       "      <td>208.125438</td>\n",
       "      <td>10.027764</td>\n",
       "      <td>7.600000</td>\n",
       "      <td>1.797819</td>\n",
       "      <td>1.602077e+03</td>\n",
       "      <td>-499.568951</td>\n",
       "      <td>1.602324e+03</td>\n",
       "      <td>-499.293257</td>\n",
       "      <td>1.601144e+03</td>\n",
       "      <td>-498.994130</td>\n",
       "      <td>...</td>\n",
       "      <td>1.803862e+01</td>\n",
       "      <td>-499.404224</td>\n",
       "      <td>1.596213e+01</td>\n",
       "      <td>-400.933805</td>\n",
       "      <td>15.097528</td>\n",
       "      <td>-499.283191</td>\n",
       "      <td>11.997467</td>\n",
       "      <td>-499.719913</td>\n",
       "      <td>21.020013</td>\n",
       "      <td>-499.373018</td>\n",
       "    </tr>\n",
       "    <tr>\n",
       "      <th>max</th>\n",
       "      <td>265.983123</td>\n",
       "      <td>40.000000</td>\n",
       "      <td>15.500000</td>\n",
       "      <td>4.102454</td>\n",
       "      <td>2.103104e+03</td>\n",
       "      <td>-57.195404</td>\n",
       "      <td>1.813084e+03</td>\n",
       "      <td>-142.527229</td>\n",
       "      <td>1.715054e+03</td>\n",
       "      <td>-150.937035</td>\n",
       "      <td>...</td>\n",
       "      <td>3.005180e+01</td>\n",
       "      <td>-401.565212</td>\n",
       "      <td>3.126971e+01</td>\n",
       "      <td>-6.506986</td>\n",
       "      <td>25.258848</td>\n",
       "      <td>-244.483566</td>\n",
       "      <td>14.086866</td>\n",
       "      <td>-137.740004</td>\n",
       "      <td>26.705889</td>\n",
       "      <td>-123.307487</td>\n",
       "    </tr>\n",
       "  </tbody>\n",
       "</table>\n",
       "<p>8 rows × 52 columns</p>\n",
       "</div>"
      ],
      "text/plain": [
       "       primary_cleaner.input.sulfate  primary_cleaner.input.depressant  \\\n",
       "count                    5286.000000                       5285.000000   \n",
       "mean                      174.839652                          8.683596   \n",
       "std                        43.027080                          3.072050   \n",
       "min                         2.566156                          0.003839   \n",
       "25%                       147.121401                          6.489555   \n",
       "50%                       177.828489                          8.052207   \n",
       "75%                       208.125438                         10.027764   \n",
       "max                       265.983123                         40.000000   \n",
       "\n",
       "       primary_cleaner.input.feed_size  primary_cleaner.input.xanthate  \\\n",
       "count                      5290.000000                     5286.000000   \n",
       "mean                          7.266339                        1.383803   \n",
       "std                           0.610219                        0.643474   \n",
       "min                           5.650000                        0.004984   \n",
       "25%                           6.890000                        0.907623   \n",
       "50%                           7.250000                        1.197610   \n",
       "75%                           7.600000                        1.797819   \n",
       "max                          15.500000                        4.102454   \n",
       "\n",
       "       primary_cleaner.state.floatbank8_a_air  \\\n",
       "count                            5.290000e+03   \n",
       "mean                             1.539494e+03   \n",
       "std                              1.167979e+02   \n",
       "min                              5.445860e-32   \n",
       "25%                              1.498936e+03   \n",
       "50%                              1.585129e+03   \n",
       "75%                              1.602077e+03   \n",
       "max                              2.103104e+03   \n",
       "\n",
       "       primary_cleaner.state.floatbank8_a_level  \\\n",
       "count                               5290.000000   \n",
       "mean                                -497.665883   \n",
       "std                                   19.952431   \n",
       "min                                 -795.316337   \n",
       "25%                                 -500.357298   \n",
       "50%                                 -499.969164   \n",
       "75%                                 -499.568951   \n",
       "max                                  -57.195404   \n",
       "\n",
       "       primary_cleaner.state.floatbank8_b_air  \\\n",
       "count                            5.290000e+03   \n",
       "mean                             1.545174e+03   \n",
       "std                              1.222246e+02   \n",
       "min                              6.647490e-32   \n",
       "25%                              1.498971e+03   \n",
       "50%                              1.595622e+03   \n",
       "75%                              1.602324e+03   \n",
       "max                              1.813084e+03   \n",
       "\n",
       "       primary_cleaner.state.floatbank8_b_level  \\\n",
       "count                               5290.000000   \n",
       "mean                                -500.273098   \n",
       "std                                   32.968307   \n",
       "min                                 -799.997015   \n",
       "25%                                 -500.703002   \n",
       "50%                                 -500.028514   \n",
       "75%                                 -499.293257   \n",
       "max                                 -142.527229   \n",
       "\n",
       "       primary_cleaner.state.floatbank8_c_air  \\\n",
       "count                            5.290000e+03   \n",
       "mean                             1.527272e+03   \n",
       "std                              1.225380e+02   \n",
       "min                              4.033736e-32   \n",
       "25%                              1.473230e+03   \n",
       "50%                              1.549595e+03   \n",
       "75%                              1.601144e+03   \n",
       "max                              1.715054e+03   \n",
       "\n",
       "       primary_cleaner.state.floatbank8_c_level  ...  \\\n",
       "count                               5290.000000  ...   \n",
       "mean                                -498.330680  ...   \n",
       "std                                   21.964876  ...   \n",
       "min                                 -799.960571  ...   \n",
       "25%                                 -501.018117  ...   \n",
       "50%                                 -500.017711  ...   \n",
       "75%                                 -498.994130  ...   \n",
       "max                                 -150.937035  ...   \n",
       "\n",
       "       secondary_cleaner.state.floatbank4_a_air  \\\n",
       "count                              5.290000e+03   \n",
       "mean                               1.632007e+01   \n",
       "std                                3.493583e+00   \n",
       "min                                1.079872e-16   \n",
       "25%                                1.403618e+01   \n",
       "50%                                1.700847e+01   \n",
       "75%                                1.803862e+01   \n",
       "max                                3.005180e+01   \n",
       "\n",
       "       secondary_cleaner.state.floatbank4_a_level  \\\n",
       "count                                 5290.000000   \n",
       "mean                                  -505.144570   \n",
       "std                                     31.427337   \n",
       "min                                   -799.798523   \n",
       "25%                                   -500.868258   \n",
       "50%                                   -500.115727   \n",
       "75%                                   -499.404224   \n",
       "max                                   -401.565212   \n",
       "\n",
       "       secondary_cleaner.state.floatbank4_b_air  \\\n",
       "count                              5.290000e+03   \n",
       "mean                               1.373544e+01   \n",
       "std                                3.430484e+00   \n",
       "min                                2.489718e-17   \n",
       "25%                                1.202862e+01   \n",
       "50%                                1.496486e+01   \n",
       "75%                                1.596213e+01   \n",
       "max                                3.126971e+01   \n",
       "\n",
       "       secondary_cleaner.state.floatbank4_b_level  \\\n",
       "count                                 5290.000000   \n",
       "mean                                  -463.349858   \n",
       "std                                     86.189107   \n",
       "min                                   -800.836914   \n",
       "25%                                   -500.323028   \n",
       "50%                                   -499.576513   \n",
       "75%                                   -400.933805   \n",
       "max                                     -6.506986   \n",
       "\n",
       "       secondary_cleaner.state.floatbank5_a_air  \\\n",
       "count                               5290.000000   \n",
       "mean                                  12.804186   \n",
       "std                                    3.026591   \n",
       "min                                    0.069227   \n",
       "25%                                   10.914838   \n",
       "50%                                   12.954182   \n",
       "75%                                   15.097528   \n",
       "max                                   25.258848   \n",
       "\n",
       "       secondary_cleaner.state.floatbank5_a_level  \\\n",
       "count                                 5290.000000   \n",
       "mean                                  -501.329122   \n",
       "std                                     17.951495   \n",
       "min                                   -797.323986   \n",
       "25%                                   -500.726841   \n",
       "50%                                   -499.990332   \n",
       "75%                                   -499.283191   \n",
       "max                                   -244.483566   \n",
       "\n",
       "       secondary_cleaner.state.floatbank5_b_air  \\\n",
       "count                               5290.000000   \n",
       "mean                                   9.881145   \n",
       "std                                    2.868205   \n",
       "min                                    0.528083   \n",
       "25%                                    8.036719   \n",
       "50%                                   10.004301   \n",
       "75%                                   11.997467   \n",
       "max                                   14.086866   \n",
       "\n",
       "       secondary_cleaner.state.floatbank5_b_level  \\\n",
       "count                                 5290.000000   \n",
       "mean                                  -495.663398   \n",
       "std                                     34.535007   \n",
       "min                                   -800.220337   \n",
       "25%                                   -500.194668   \n",
       "50%                                   -499.990535   \n",
       "75%                                   -499.719913   \n",
       "max                                   -137.740004   \n",
       "\n",
       "       secondary_cleaner.state.floatbank6_a_air  \\\n",
       "count                               5290.000000   \n",
       "mean                                  17.304935   \n",
       "std                                    4.536544   \n",
       "min                                   -0.079426   \n",
       "25%                                   13.997317   \n",
       "50%                                   16.014935   \n",
       "75%                                   21.020013   \n",
       "max                                   26.705889   \n",
       "\n",
       "       secondary_cleaner.state.floatbank6_a_level  \n",
       "count                                 5290.000000  \n",
       "mean                                  -501.793193  \n",
       "std                                     39.044215  \n",
       "min                                   -809.741464  \n",
       "25%                                   -500.690984  \n",
       "50%                                   -500.007126  \n",
       "75%                                   -499.373018  \n",
       "max                                   -123.307487  \n",
       "\n",
       "[8 rows x 52 columns]"
      ]
     },
     "execution_count": 4,
     "metadata": {},
     "output_type": "execute_result"
    }
   ],
   "source": [
    "test.describe()"
   ]
  },
  {
   "cell_type": "code",
   "execution_count": 5,
   "metadata": {},
   "outputs": [
    {
     "data": {
      "text/html": [
       "<div>\n",
       "<style scoped>\n",
       "    .dataframe tbody tr th:only-of-type {\n",
       "        vertical-align: middle;\n",
       "    }\n",
       "\n",
       "    .dataframe tbody tr th {\n",
       "        vertical-align: top;\n",
       "    }\n",
       "\n",
       "    .dataframe thead th {\n",
       "        text-align: right;\n",
       "    }\n",
       "</style>\n",
       "<table border=\"1\" class=\"dataframe\">\n",
       "  <thead>\n",
       "    <tr style=\"text-align: right;\">\n",
       "      <th></th>\n",
       "      <th>primary_cleaner.input.sulfate</th>\n",
       "      <th>primary_cleaner.input.depressant</th>\n",
       "      <th>primary_cleaner.input.feed_size</th>\n",
       "      <th>primary_cleaner.input.xanthate</th>\n",
       "      <th>primary_cleaner.state.floatbank8_a_air</th>\n",
       "      <th>primary_cleaner.state.floatbank8_a_level</th>\n",
       "      <th>primary_cleaner.state.floatbank8_b_air</th>\n",
       "      <th>primary_cleaner.state.floatbank8_b_level</th>\n",
       "      <th>primary_cleaner.state.floatbank8_c_air</th>\n",
       "      <th>primary_cleaner.state.floatbank8_c_level</th>\n",
       "      <th>...</th>\n",
       "      <th>secondary_cleaner.state.floatbank4_a_air</th>\n",
       "      <th>secondary_cleaner.state.floatbank4_a_level</th>\n",
       "      <th>secondary_cleaner.state.floatbank4_b_air</th>\n",
       "      <th>secondary_cleaner.state.floatbank4_b_level</th>\n",
       "      <th>secondary_cleaner.state.floatbank5_a_air</th>\n",
       "      <th>secondary_cleaner.state.floatbank5_a_level</th>\n",
       "      <th>secondary_cleaner.state.floatbank5_b_air</th>\n",
       "      <th>secondary_cleaner.state.floatbank5_b_level</th>\n",
       "      <th>secondary_cleaner.state.floatbank6_a_air</th>\n",
       "      <th>secondary_cleaner.state.floatbank6_a_level</th>\n",
       "    </tr>\n",
       "  </thead>\n",
       "  <tbody>\n",
       "    <tr>\n",
       "      <th>count</th>\n",
       "      <td>5286.000000</td>\n",
       "      <td>5285.000000</td>\n",
       "      <td>5290.000000</td>\n",
       "      <td>5286.000000</td>\n",
       "      <td>5.290000e+03</td>\n",
       "      <td>5290.000000</td>\n",
       "      <td>5.290000e+03</td>\n",
       "      <td>5290.000000</td>\n",
       "      <td>5.290000e+03</td>\n",
       "      <td>5290.000000</td>\n",
       "      <td>...</td>\n",
       "      <td>5.290000e+03</td>\n",
       "      <td>5290.000000</td>\n",
       "      <td>5.290000e+03</td>\n",
       "      <td>5290.000000</td>\n",
       "      <td>5290.000000</td>\n",
       "      <td>5290.000000</td>\n",
       "      <td>5290.000000</td>\n",
       "      <td>5290.000000</td>\n",
       "      <td>5290.000000</td>\n",
       "      <td>5290.000000</td>\n",
       "    </tr>\n",
       "    <tr>\n",
       "      <th>mean</th>\n",
       "      <td>174.839652</td>\n",
       "      <td>8.683596</td>\n",
       "      <td>7.266339</td>\n",
       "      <td>1.383803</td>\n",
       "      <td>1.539494e+03</td>\n",
       "      <td>-497.665883</td>\n",
       "      <td>1.545174e+03</td>\n",
       "      <td>-500.273098</td>\n",
       "      <td>1.527272e+03</td>\n",
       "      <td>-498.330680</td>\n",
       "      <td>...</td>\n",
       "      <td>1.632007e+01</td>\n",
       "      <td>-505.144570</td>\n",
       "      <td>1.373544e+01</td>\n",
       "      <td>-463.349858</td>\n",
       "      <td>12.804186</td>\n",
       "      <td>-501.329122</td>\n",
       "      <td>9.881145</td>\n",
       "      <td>-495.663398</td>\n",
       "      <td>17.304935</td>\n",
       "      <td>-501.793193</td>\n",
       "    </tr>\n",
       "    <tr>\n",
       "      <th>std</th>\n",
       "      <td>43.027080</td>\n",
       "      <td>3.072050</td>\n",
       "      <td>0.610219</td>\n",
       "      <td>0.643474</td>\n",
       "      <td>1.167979e+02</td>\n",
       "      <td>19.952431</td>\n",
       "      <td>1.222246e+02</td>\n",
       "      <td>32.968307</td>\n",
       "      <td>1.225380e+02</td>\n",
       "      <td>21.964876</td>\n",
       "      <td>...</td>\n",
       "      <td>3.493583e+00</td>\n",
       "      <td>31.427337</td>\n",
       "      <td>3.430484e+00</td>\n",
       "      <td>86.189107</td>\n",
       "      <td>3.026591</td>\n",
       "      <td>17.951495</td>\n",
       "      <td>2.868205</td>\n",
       "      <td>34.535007</td>\n",
       "      <td>4.536544</td>\n",
       "      <td>39.044215</td>\n",
       "    </tr>\n",
       "    <tr>\n",
       "      <th>min</th>\n",
       "      <td>2.566156</td>\n",
       "      <td>0.003839</td>\n",
       "      <td>5.650000</td>\n",
       "      <td>0.004984</td>\n",
       "      <td>5.445860e-32</td>\n",
       "      <td>-795.316337</td>\n",
       "      <td>6.647490e-32</td>\n",
       "      <td>-799.997015</td>\n",
       "      <td>4.033736e-32</td>\n",
       "      <td>-799.960571</td>\n",
       "      <td>...</td>\n",
       "      <td>1.079872e-16</td>\n",
       "      <td>-799.798523</td>\n",
       "      <td>2.489718e-17</td>\n",
       "      <td>-800.836914</td>\n",
       "      <td>0.069227</td>\n",
       "      <td>-797.323986</td>\n",
       "      <td>0.528083</td>\n",
       "      <td>-800.220337</td>\n",
       "      <td>-0.079426</td>\n",
       "      <td>-809.741464</td>\n",
       "    </tr>\n",
       "    <tr>\n",
       "      <th>25%</th>\n",
       "      <td>147.121401</td>\n",
       "      <td>6.489555</td>\n",
       "      <td>6.890000</td>\n",
       "      <td>0.907623</td>\n",
       "      <td>1.498936e+03</td>\n",
       "      <td>-500.357298</td>\n",
       "      <td>1.498971e+03</td>\n",
       "      <td>-500.703002</td>\n",
       "      <td>1.473230e+03</td>\n",
       "      <td>-501.018117</td>\n",
       "      <td>...</td>\n",
       "      <td>1.403618e+01</td>\n",
       "      <td>-500.868258</td>\n",
       "      <td>1.202862e+01</td>\n",
       "      <td>-500.323028</td>\n",
       "      <td>10.914838</td>\n",
       "      <td>-500.726841</td>\n",
       "      <td>8.036719</td>\n",
       "      <td>-500.194668</td>\n",
       "      <td>13.997317</td>\n",
       "      <td>-500.690984</td>\n",
       "    </tr>\n",
       "    <tr>\n",
       "      <th>50%</th>\n",
       "      <td>177.828489</td>\n",
       "      <td>8.052207</td>\n",
       "      <td>7.250000</td>\n",
       "      <td>1.197610</td>\n",
       "      <td>1.585129e+03</td>\n",
       "      <td>-499.969164</td>\n",
       "      <td>1.595622e+03</td>\n",
       "      <td>-500.028514</td>\n",
       "      <td>1.549595e+03</td>\n",
       "      <td>-500.017711</td>\n",
       "      <td>...</td>\n",
       "      <td>1.700847e+01</td>\n",
       "      <td>-500.115727</td>\n",
       "      <td>1.496486e+01</td>\n",
       "      <td>-499.576513</td>\n",
       "      <td>12.954182</td>\n",
       "      <td>-499.990332</td>\n",
       "      <td>10.004301</td>\n",
       "      <td>-499.990535</td>\n",
       "      <td>16.014935</td>\n",
       "      <td>-500.007126</td>\n",
       "    </tr>\n",
       "    <tr>\n",
       "      <th>75%</th>\n",
       "      <td>208.125438</td>\n",
       "      <td>10.027764</td>\n",
       "      <td>7.600000</td>\n",
       "      <td>1.797819</td>\n",
       "      <td>1.602077e+03</td>\n",
       "      <td>-499.568951</td>\n",
       "      <td>1.602324e+03</td>\n",
       "      <td>-499.293257</td>\n",
       "      <td>1.601144e+03</td>\n",
       "      <td>-498.994130</td>\n",
       "      <td>...</td>\n",
       "      <td>1.803862e+01</td>\n",
       "      <td>-499.404224</td>\n",
       "      <td>1.596213e+01</td>\n",
       "      <td>-400.933805</td>\n",
       "      <td>15.097528</td>\n",
       "      <td>-499.283191</td>\n",
       "      <td>11.997467</td>\n",
       "      <td>-499.719913</td>\n",
       "      <td>21.020013</td>\n",
       "      <td>-499.373018</td>\n",
       "    </tr>\n",
       "    <tr>\n",
       "      <th>max</th>\n",
       "      <td>265.983123</td>\n",
       "      <td>40.000000</td>\n",
       "      <td>15.500000</td>\n",
       "      <td>4.102454</td>\n",
       "      <td>2.103104e+03</td>\n",
       "      <td>-57.195404</td>\n",
       "      <td>1.813084e+03</td>\n",
       "      <td>-142.527229</td>\n",
       "      <td>1.715054e+03</td>\n",
       "      <td>-150.937035</td>\n",
       "      <td>...</td>\n",
       "      <td>3.005180e+01</td>\n",
       "      <td>-401.565212</td>\n",
       "      <td>3.126971e+01</td>\n",
       "      <td>-6.506986</td>\n",
       "      <td>25.258848</td>\n",
       "      <td>-244.483566</td>\n",
       "      <td>14.086866</td>\n",
       "      <td>-137.740004</td>\n",
       "      <td>26.705889</td>\n",
       "      <td>-123.307487</td>\n",
       "    </tr>\n",
       "  </tbody>\n",
       "</table>\n",
       "<p>8 rows × 52 columns</p>\n",
       "</div>"
      ],
      "text/plain": [
       "       primary_cleaner.input.sulfate  primary_cleaner.input.depressant  \\\n",
       "count                    5286.000000                       5285.000000   \n",
       "mean                      174.839652                          8.683596   \n",
       "std                        43.027080                          3.072050   \n",
       "min                         2.566156                          0.003839   \n",
       "25%                       147.121401                          6.489555   \n",
       "50%                       177.828489                          8.052207   \n",
       "75%                       208.125438                         10.027764   \n",
       "max                       265.983123                         40.000000   \n",
       "\n",
       "       primary_cleaner.input.feed_size  primary_cleaner.input.xanthate  \\\n",
       "count                      5290.000000                     5286.000000   \n",
       "mean                          7.266339                        1.383803   \n",
       "std                           0.610219                        0.643474   \n",
       "min                           5.650000                        0.004984   \n",
       "25%                           6.890000                        0.907623   \n",
       "50%                           7.250000                        1.197610   \n",
       "75%                           7.600000                        1.797819   \n",
       "max                          15.500000                        4.102454   \n",
       "\n",
       "       primary_cleaner.state.floatbank8_a_air  \\\n",
       "count                            5.290000e+03   \n",
       "mean                             1.539494e+03   \n",
       "std                              1.167979e+02   \n",
       "min                              5.445860e-32   \n",
       "25%                              1.498936e+03   \n",
       "50%                              1.585129e+03   \n",
       "75%                              1.602077e+03   \n",
       "max                              2.103104e+03   \n",
       "\n",
       "       primary_cleaner.state.floatbank8_a_level  \\\n",
       "count                               5290.000000   \n",
       "mean                                -497.665883   \n",
       "std                                   19.952431   \n",
       "min                                 -795.316337   \n",
       "25%                                 -500.357298   \n",
       "50%                                 -499.969164   \n",
       "75%                                 -499.568951   \n",
       "max                                  -57.195404   \n",
       "\n",
       "       primary_cleaner.state.floatbank8_b_air  \\\n",
       "count                            5.290000e+03   \n",
       "mean                             1.545174e+03   \n",
       "std                              1.222246e+02   \n",
       "min                              6.647490e-32   \n",
       "25%                              1.498971e+03   \n",
       "50%                              1.595622e+03   \n",
       "75%                              1.602324e+03   \n",
       "max                              1.813084e+03   \n",
       "\n",
       "       primary_cleaner.state.floatbank8_b_level  \\\n",
       "count                               5290.000000   \n",
       "mean                                -500.273098   \n",
       "std                                   32.968307   \n",
       "min                                 -799.997015   \n",
       "25%                                 -500.703002   \n",
       "50%                                 -500.028514   \n",
       "75%                                 -499.293257   \n",
       "max                                 -142.527229   \n",
       "\n",
       "       primary_cleaner.state.floatbank8_c_air  \\\n",
       "count                            5.290000e+03   \n",
       "mean                             1.527272e+03   \n",
       "std                              1.225380e+02   \n",
       "min                              4.033736e-32   \n",
       "25%                              1.473230e+03   \n",
       "50%                              1.549595e+03   \n",
       "75%                              1.601144e+03   \n",
       "max                              1.715054e+03   \n",
       "\n",
       "       primary_cleaner.state.floatbank8_c_level  ...  \\\n",
       "count                               5290.000000  ...   \n",
       "mean                                -498.330680  ...   \n",
       "std                                   21.964876  ...   \n",
       "min                                 -799.960571  ...   \n",
       "25%                                 -501.018117  ...   \n",
       "50%                                 -500.017711  ...   \n",
       "75%                                 -498.994130  ...   \n",
       "max                                 -150.937035  ...   \n",
       "\n",
       "       secondary_cleaner.state.floatbank4_a_air  \\\n",
       "count                              5.290000e+03   \n",
       "mean                               1.632007e+01   \n",
       "std                                3.493583e+00   \n",
       "min                                1.079872e-16   \n",
       "25%                                1.403618e+01   \n",
       "50%                                1.700847e+01   \n",
       "75%                                1.803862e+01   \n",
       "max                                3.005180e+01   \n",
       "\n",
       "       secondary_cleaner.state.floatbank4_a_level  \\\n",
       "count                                 5290.000000   \n",
       "mean                                  -505.144570   \n",
       "std                                     31.427337   \n",
       "min                                   -799.798523   \n",
       "25%                                   -500.868258   \n",
       "50%                                   -500.115727   \n",
       "75%                                   -499.404224   \n",
       "max                                   -401.565212   \n",
       "\n",
       "       secondary_cleaner.state.floatbank4_b_air  \\\n",
       "count                              5.290000e+03   \n",
       "mean                               1.373544e+01   \n",
       "std                                3.430484e+00   \n",
       "min                                2.489718e-17   \n",
       "25%                                1.202862e+01   \n",
       "50%                                1.496486e+01   \n",
       "75%                                1.596213e+01   \n",
       "max                                3.126971e+01   \n",
       "\n",
       "       secondary_cleaner.state.floatbank4_b_level  \\\n",
       "count                                 5290.000000   \n",
       "mean                                  -463.349858   \n",
       "std                                     86.189107   \n",
       "min                                   -800.836914   \n",
       "25%                                   -500.323028   \n",
       "50%                                   -499.576513   \n",
       "75%                                   -400.933805   \n",
       "max                                     -6.506986   \n",
       "\n",
       "       secondary_cleaner.state.floatbank5_a_air  \\\n",
       "count                               5290.000000   \n",
       "mean                                  12.804186   \n",
       "std                                    3.026591   \n",
       "min                                    0.069227   \n",
       "25%                                   10.914838   \n",
       "50%                                   12.954182   \n",
       "75%                                   15.097528   \n",
       "max                                   25.258848   \n",
       "\n",
       "       secondary_cleaner.state.floatbank5_a_level  \\\n",
       "count                                 5290.000000   \n",
       "mean                                  -501.329122   \n",
       "std                                     17.951495   \n",
       "min                                   -797.323986   \n",
       "25%                                   -500.726841   \n",
       "50%                                   -499.990332   \n",
       "75%                                   -499.283191   \n",
       "max                                   -244.483566   \n",
       "\n",
       "       secondary_cleaner.state.floatbank5_b_air  \\\n",
       "count                               5290.000000   \n",
       "mean                                   9.881145   \n",
       "std                                    2.868205   \n",
       "min                                    0.528083   \n",
       "25%                                    8.036719   \n",
       "50%                                   10.004301   \n",
       "75%                                   11.997467   \n",
       "max                                   14.086866   \n",
       "\n",
       "       secondary_cleaner.state.floatbank5_b_level  \\\n",
       "count                                 5290.000000   \n",
       "mean                                  -495.663398   \n",
       "std                                     34.535007   \n",
       "min                                   -800.220337   \n",
       "25%                                   -500.194668   \n",
       "50%                                   -499.990535   \n",
       "75%                                   -499.719913   \n",
       "max                                   -137.740004   \n",
       "\n",
       "       secondary_cleaner.state.floatbank6_a_air  \\\n",
       "count                               5290.000000   \n",
       "mean                                  17.304935   \n",
       "std                                    4.536544   \n",
       "min                                   -0.079426   \n",
       "25%                                   13.997317   \n",
       "50%                                   16.014935   \n",
       "75%                                   21.020013   \n",
       "max                                   26.705889   \n",
       "\n",
       "       secondary_cleaner.state.floatbank6_a_level  \n",
       "count                                 5290.000000  \n",
       "mean                                  -501.793193  \n",
       "std                                     39.044215  \n",
       "min                                   -809.741464  \n",
       "25%                                   -500.690984  \n",
       "50%                                   -500.007126  \n",
       "75%                                   -499.373018  \n",
       "max                                   -123.307487  \n",
       "\n",
       "[8 rows x 52 columns]"
      ]
     },
     "execution_count": 5,
     "metadata": {},
     "output_type": "execute_result"
    }
   ],
   "source": [
    "test.describe()"
   ]
  },
  {
   "cell_type": "code",
   "execution_count": 6,
   "metadata": {},
   "outputs": [
    {
     "name": "stdout",
     "output_type": "stream",
     "text": [
      "<class 'pandas.core.frame.DataFrame'>\n",
      "DatetimeIndex: 19439 entries, 2016-01-15 00:00:00 to 2018-08-18 10:59:59\n",
      "Data columns (total 86 columns):\n",
      " #   Column                                              Non-Null Count  Dtype  \n",
      "---  ------                                              --------------  -----  \n",
      " 0   final.output.concentrate_ag                         19438 non-null  float64\n",
      " 1   final.output.concentrate_pb                         19438 non-null  float64\n",
      " 2   final.output.concentrate_sol                        19228 non-null  float64\n",
      " 3   final.output.concentrate_au                         19439 non-null  float64\n",
      " 4   final.output.recovery                               19439 non-null  float64\n",
      " 5   final.output.tail_ag                                19438 non-null  float64\n",
      " 6   final.output.tail_pb                                19338 non-null  float64\n",
      " 7   final.output.tail_sol                               19433 non-null  float64\n",
      " 8   final.output.tail_au                                19439 non-null  float64\n",
      " 9   primary_cleaner.input.sulfate                       19415 non-null  float64\n",
      " 10  primary_cleaner.input.depressant                    19402 non-null  float64\n",
      " 11  primary_cleaner.input.feed_size                     19439 non-null  float64\n",
      " 12  primary_cleaner.input.xanthate                      19335 non-null  float64\n",
      " 13  primary_cleaner.output.concentrate_ag               19439 non-null  float64\n",
      " 14  primary_cleaner.output.concentrate_pb               19323 non-null  float64\n",
      " 15  primary_cleaner.output.concentrate_sol              19069 non-null  float64\n",
      " 16  primary_cleaner.output.concentrate_au               19439 non-null  float64\n",
      " 17  primary_cleaner.output.tail_ag                      19435 non-null  float64\n",
      " 18  primary_cleaner.output.tail_pb                      19418 non-null  float64\n",
      " 19  primary_cleaner.output.tail_sol                     19377 non-null  float64\n",
      " 20  primary_cleaner.output.tail_au                      19439 non-null  float64\n",
      " 21  primary_cleaner.state.floatbank8_a_air              19435 non-null  float64\n",
      " 22  primary_cleaner.state.floatbank8_a_level            19438 non-null  float64\n",
      " 23  primary_cleaner.state.floatbank8_b_air              19435 non-null  float64\n",
      " 24  primary_cleaner.state.floatbank8_b_level            19438 non-null  float64\n",
      " 25  primary_cleaner.state.floatbank8_c_air              19437 non-null  float64\n",
      " 26  primary_cleaner.state.floatbank8_c_level            19438 non-null  float64\n",
      " 27  primary_cleaner.state.floatbank8_d_air              19436 non-null  float64\n",
      " 28  primary_cleaner.state.floatbank8_d_level            19438 non-null  float64\n",
      " 29  rougher.calculation.sulfate_to_au_concentrate       19437 non-null  float64\n",
      " 30  rougher.calculation.floatbank10_sulfate_to_au_feed  19437 non-null  float64\n",
      " 31  rougher.calculation.floatbank11_sulfate_to_au_feed  19437 non-null  float64\n",
      " 32  rougher.calculation.au_pb_ratio                     19439 non-null  float64\n",
      " 33  rougher.input.feed_ag                               19439 non-null  float64\n",
      " 34  rougher.input.feed_pb                               19339 non-null  float64\n",
      " 35  rougher.input.feed_rate                             19428 non-null  float64\n",
      " 36  rougher.input.feed_size                             19294 non-null  float64\n",
      " 37  rougher.input.feed_sol                              19340 non-null  float64\n",
      " 38  rougher.input.feed_au                               19439 non-null  float64\n",
      " 39  rougher.input.floatbank10_sulfate                   19405 non-null  float64\n",
      " 40  rougher.input.floatbank10_xanthate                  19431 non-null  float64\n",
      " 41  rougher.input.floatbank11_sulfate                   19395 non-null  float64\n",
      " 42  rougher.input.floatbank11_xanthate                  18986 non-null  float64\n",
      " 43  rougher.output.concentrate_ag                       19439 non-null  float64\n",
      " 44  rougher.output.concentrate_pb                       19439 non-null  float64\n",
      " 45  rougher.output.concentrate_sol                      19416 non-null  float64\n",
      " 46  rougher.output.concentrate_au                       19439 non-null  float64\n",
      " 47  rougher.output.recovery                             19439 non-null  float64\n",
      " 48  rougher.output.tail_ag                              19438 non-null  float64\n",
      " 49  rougher.output.tail_pb                              19439 non-null  float64\n",
      " 50  rougher.output.tail_sol                             19439 non-null  float64\n",
      " 51  rougher.output.tail_au                              19439 non-null  float64\n",
      " 52  rougher.state.floatbank10_a_air                     19438 non-null  float64\n",
      " 53  rougher.state.floatbank10_a_level                   19438 non-null  float64\n",
      " 54  rougher.state.floatbank10_b_air                     19438 non-null  float64\n",
      " 55  rougher.state.floatbank10_b_level                   19438 non-null  float64\n",
      " 56  rougher.state.floatbank10_c_air                     19438 non-null  float64\n",
      " 57  rougher.state.floatbank10_c_level                   19438 non-null  float64\n",
      " 58  rougher.state.floatbank10_d_air                     19439 non-null  float64\n",
      " 59  rougher.state.floatbank10_d_level                   19439 non-null  float64\n",
      " 60  rougher.state.floatbank10_e_air                     19003 non-null  float64\n",
      " 61  rougher.state.floatbank10_e_level                   19439 non-null  float64\n",
      " 62  rougher.state.floatbank10_f_air                     19439 non-null  float64\n",
      " 63  rougher.state.floatbank10_f_level                   19439 non-null  float64\n",
      " 64  secondary_cleaner.output.tail_ag                    19437 non-null  float64\n",
      " 65  secondary_cleaner.output.tail_pb                    19427 non-null  float64\n",
      " 66  secondary_cleaner.output.tail_sol                   17691 non-null  float64\n",
      " 67  secondary_cleaner.output.tail_au                    19439 non-null  float64\n",
      " 68  secondary_cleaner.state.floatbank2_a_air            19219 non-null  float64\n",
      " 69  secondary_cleaner.state.floatbank2_a_level          19438 non-null  float64\n",
      " 70  secondary_cleaner.state.floatbank2_b_air            19416 non-null  float64\n",
      " 71  secondary_cleaner.state.floatbank2_b_level          19438 non-null  float64\n",
      " 72  secondary_cleaner.state.floatbank3_a_air            19426 non-null  float64\n",
      " 73  secondary_cleaner.state.floatbank3_a_level          19438 non-null  float64\n",
      " 74  secondary_cleaner.state.floatbank3_b_air            19438 non-null  float64\n",
      " 75  secondary_cleaner.state.floatbank3_b_level          19438 non-null  float64\n",
      " 76  secondary_cleaner.state.floatbank4_a_air            19433 non-null  float64\n",
      " 77  secondary_cleaner.state.floatbank4_a_level          19438 non-null  float64\n",
      " 78  secondary_cleaner.state.floatbank4_b_air            19438 non-null  float64\n",
      " 79  secondary_cleaner.state.floatbank4_b_level          19438 non-null  float64\n",
      " 80  secondary_cleaner.state.floatbank5_a_air            19438 non-null  float64\n",
      " 81  secondary_cleaner.state.floatbank5_a_level          19438 non-null  float64\n",
      " 82  secondary_cleaner.state.floatbank5_b_air            19438 non-null  float64\n",
      " 83  secondary_cleaner.state.floatbank5_b_level          19438 non-null  float64\n",
      " 84  secondary_cleaner.state.floatbank6_a_air            19437 non-null  float64\n",
      " 85  secondary_cleaner.state.floatbank6_a_level          19438 non-null  float64\n",
      "dtypes: float64(86)\n",
      "memory usage: 12.9 MB\n"
     ]
    }
   ],
   "source": [
    "full.info()"
   ]
  },
  {
   "cell_type": "markdown",
   "metadata": {},
   "source": [
    "Как же тут много всего. Начну с пропусков. <br>\n",
    "В тестовой и тренировочных выборках их просто удалим. <br>\n",
    "В полной трогать не будем. В строках с пропусками окажутся полезные данные, как научил меня позже горький опыт :)"
   ]
  },
  {
   "cell_type": "markdown",
   "metadata": {},
   "source": [
    "### Работа с пропусками"
   ]
  },
  {
   "cell_type": "markdown",
   "metadata": {},
   "source": [
    "Заполним пропуски предыдущими значениями, вспоминив условие о приблизительном равенстве \"соседних\" показателей."
   ]
  },
  {
   "cell_type": "code",
   "execution_count": 7,
   "metadata": {},
   "outputs": [],
   "source": [
    "test = test.ffill(axis = 0)\n",
    "train = train.ffill(axis = 0)"
   ]
  },
  {
   "cell_type": "markdown",
   "metadata": {},
   "source": [
    "### Проверка правильности расчётов эффективности обогащения"
   ]
  },
  {
   "cell_type": "markdown",
   "metadata": {},
   "source": [
    "Проверим, что эффективность обогащения рассчитана правильно. Вычислим её на обучающей выборке для признака rougher.output.recovery"
   ]
  },
  {
   "cell_type": "code",
   "execution_count": 8,
   "metadata": {},
   "outputs": [],
   "source": [
    "def recovery_calc(output, before, tail):\n",
    "    numerator = output * (before - tail)\n",
    "    denominator = before * (output - tail)\n",
    "    return (numerator / denominator) * 100"
   ]
  },
  {
   "cell_type": "markdown",
   "metadata": {},
   "source": [
    "Помечаю для себя что есть что. <br>\n",
    "rougher.input.feed_au = before <br>\n",
    "rougher.output.concentrate_au = output <br> \n",
    "rougher.output.tail_au = tail <br>"
   ]
  },
  {
   "cell_type": "code",
   "execution_count": 9,
   "metadata": {},
   "outputs": [],
   "source": [
    "check = recovery_calc(train['rougher.output.concentrate_au'], train['rougher.input.feed_au'], \n",
    "                      train['rougher.output.tail_au'])"
   ]
  },
  {
   "cell_type": "markdown",
   "metadata": {},
   "source": [
    "Найдём MAE между расчётами и значением признака. "
   ]
  },
  {
   "cell_type": "code",
   "execution_count": 10,
   "metadata": {},
   "outputs": [
    {
     "name": "stdout",
     "output_type": "stream",
     "text": [
      "Значение MAE: 9.73512347450521e-15\n"
     ]
    }
   ],
   "source": [
    "print('Значение MAE:', mean_absolute_error(train['rougher.output.recovery'], check))"
   ]
  },
  {
   "cell_type": "markdown",
   "metadata": {},
   "source": [
    "Значение MAE стремится к нулю, поэтому считаем, что эффективность обогащения посчитана правильно. "
   ]
  },
  {
   "cell_type": "markdown",
   "metadata": {},
   "source": [
    "### Анализ отсутствующих признаков"
   ]
  },
  {
   "cell_type": "markdown",
   "metadata": {},
   "source": [
    "Проанализируем признаки, недоступные в тестовой выборке. Посмотрим, что это вообще за признаки."
   ]
  },
  {
   "cell_type": "code",
   "execution_count": 11,
   "metadata": {},
   "outputs": [],
   "source": [
    "missing_columns = train.drop(test.columns, axis = 1)"
   ]
  },
  {
   "cell_type": "code",
   "execution_count": 12,
   "metadata": {},
   "outputs": [
    {
     "data": {
      "text/plain": [
       "Index(['final.output.concentrate_ag', 'final.output.concentrate_pb',\n",
       "       'final.output.concentrate_sol', 'final.output.concentrate_au',\n",
       "       'final.output.recovery', 'final.output.tail_ag', 'final.output.tail_pb',\n",
       "       'final.output.tail_sol', 'final.output.tail_au',\n",
       "       'primary_cleaner.output.concentrate_ag',\n",
       "       'primary_cleaner.output.concentrate_pb',\n",
       "       'primary_cleaner.output.concentrate_sol',\n",
       "       'primary_cleaner.output.concentrate_au',\n",
       "       'primary_cleaner.output.tail_ag', 'primary_cleaner.output.tail_pb',\n",
       "       'primary_cleaner.output.tail_sol', 'primary_cleaner.output.tail_au',\n",
       "       'rougher.calculation.sulfate_to_au_concentrate',\n",
       "       'rougher.calculation.floatbank10_sulfate_to_au_feed',\n",
       "       'rougher.calculation.floatbank11_sulfate_to_au_feed',\n",
       "       'rougher.calculation.au_pb_ratio', 'rougher.output.concentrate_ag',\n",
       "       'rougher.output.concentrate_pb', 'rougher.output.concentrate_sol',\n",
       "       'rougher.output.concentrate_au', 'rougher.output.recovery',\n",
       "       'rougher.output.tail_ag', 'rougher.output.tail_pb',\n",
       "       'rougher.output.tail_sol', 'rougher.output.tail_au',\n",
       "       'secondary_cleaner.output.tail_ag', 'secondary_cleaner.output.tail_pb',\n",
       "       'secondary_cleaner.output.tail_sol',\n",
       "       'secondary_cleaner.output.tail_au'],\n",
       "      dtype='object')"
      ]
     },
     "execution_count": 12,
     "metadata": {},
     "output_type": "execute_result"
    }
   ],
   "source": [
    "missing_columns.columns"
   ]
  },
  {
   "cell_type": "markdown",
   "metadata": {},
   "source": [
    "Ага, значит, в тестовой выборке избавились от выходных данных по концентрации металлов на всех этапах, флотационных установок 10 и 11 и целевых признаков. Целевые признаки нам ещё понадобятся, а вот модель мы, похоже, будем учить без остальных данных."
   ]
  },
  {
   "cell_type": "code",
   "execution_count": 13,
   "metadata": {},
   "outputs": [],
   "source": [
    "missing_columns = missing_columns.drop([\"final.output.recovery\",\"rougher.output.recovery\"], axis = 1)\n",
    "train = train.drop(missing_columns.columns, axis = 1)"
   ]
  },
  {
   "cell_type": "markdown",
   "metadata": {},
   "source": [
    "## Анализ данных"
   ]
  },
  {
   "cell_type": "markdown",
   "metadata": {},
   "source": [
    "Посмотрим, как меняется концентрация металлов (Au, Ag, Pb) на различных этапах очистки."
   ]
  },
  {
   "cell_type": "markdown",
   "metadata": {},
   "source": [
    "### Золото"
   ]
  },
  {
   "cell_type": "code",
   "execution_count": 14,
   "metadata": {},
   "outputs": [
    {
     "data": {
      "image/png": "[encoded data removed]",
      "text/plain": [
       "<Figure size 720x288 with 1 Axes>"
      ]
     },
     "metadata": {
      "needs_background": "light"
     },
     "output_type": "display_data"
    }
   ],
   "source": [
    "full['rougher.input.feed_au'].hist(bins = 100, density = 'True', label = 'До флотации', alpha = 0.7, figsize = (10, 4))\n",
    "full['rougher.output.concentrate_au'].hist(bins = 100, density = 'True', label = 'После флотации', alpha = 0.7)\n",
    "full['primary_cleaner.output.concentrate_au'].hist(bins = 100, density = 'True', label = 'После первой очистки', alpha = 0.7)\n",
    "full['final.output.concentrate_au'].hist(bins = 100, density = 'True', label = 'Итог', alpha = 0.7)\n",
    "\n",
    "plt.xlabel('Концентрация золота')\n",
    "plt.ylabel('Плотность')\n",
    "plt.title('Гистограмма концентрации золота')\n",
    "plt.legend()\n",
    "plt.show()"
   ]
  },
  {
   "cell_type": "markdown",
   "metadata": {},
   "source": [
    "### Серебро"
   ]
  },
  {
   "cell_type": "code",
   "execution_count": 15,
   "metadata": {},
   "outputs": [
    {
     "data": {
      "image/png": "[encoded data removed]",
      "text/plain": [
       "<Figure size 720x288 with 1 Axes>"
      ]
     },
     "metadata": {
      "needs_background": "light"
     },
     "output_type": "display_data"
    }
   ],
   "source": [
    "full['rougher.input.feed_ag'].hist(bins = 100, density = 'True', label = 'До флотации', alpha = 0.7, figsize = (10, 4))\n",
    "full['rougher.output.concentrate_ag'].hist(bins = 100, density = 'True', label = 'После флотации', alpha = 0.7)\n",
    "full['primary_cleaner.output.concentrate_ag'].hist(bins = 100, density = 'True', label = 'После первой очистки', alpha = 0.7)\n",
    "full['final.output.concentrate_ag'].hist(bins = 100, density = 'True', label = 'Итог', alpha = 0.7)\n",
    "\n",
    "plt.xlabel('Концентрация серебра')\n",
    "plt.ylabel('Плотность')\n",
    "plt.title('Гистограмма концентрации серебра')\n",
    "plt.legend()\n",
    "plt.show()"
   ]
  },
  {
   "cell_type": "markdown",
   "metadata": {},
   "source": [
    "### Свинец"
   ]
  },
  {
   "cell_type": "code",
   "execution_count": 16,
   "metadata": {},
   "outputs": [
    {
     "data": {
      "image/png": "[encoded data removed]",
      "text/plain": [
       "<Figure size 720x288 with 1 Axes>"
      ]
     },
     "metadata": {
      "needs_background": "light"
     },
     "output_type": "display_data"
    }
   ],
   "source": [
    "full['rougher.input.feed_pb'].hist(bins = 100, density = 'True', label = 'До флотации', alpha = 0.7, figsize = (10, 4))\n",
    "full['rougher.output.concentrate_pb'].hist(bins = 100, density = 'True', label = 'После флотации', alpha = 0.7)\n",
    "full['primary_cleaner.output.concentrate_pb'].hist(bins = 100, density = 'True', label = 'После первой очистки', alpha = 0.7)\n",
    "full['final.output.concentrate_pb'].hist(bins = 100, density = 'True', label = 'Итог', alpha = 0.7)\n",
    "\n",
    "plt.xlabel('Концентрация свинца')\n",
    "plt.ylabel('Плотность')\n",
    "plt.title('Гистограмма концентрации свинца')\n",
    "plt.legend()\n",
    "plt.show()"
   ]
  },
  {
   "cell_type": "markdown",
   "metadata": {},
   "source": [
    "Как видно из гистограмм, доля золота растёт после каждой операции. Значит, процесс работает, ура! <br>\n",
    "Доля серебра падает, а свинца - наоборот растёт. Не владею достаточными знаниями для квалифицированной оценки данного результата. Так что просто отметим закономерность.  "
   ]
  },
  {
   "cell_type": "markdown",
   "metadata": {},
   "source": [
    "### Сравнение распределений"
   ]
  },
  {
   "cell_type": "markdown",
   "metadata": {},
   "source": [
    "Сравнение распределения размеров гранул сырья на обучающей и тестовой выборках."
   ]
  },
  {
   "cell_type": "code",
   "execution_count": 17,
   "metadata": {},
   "outputs": [
    {
     "data": {
      "image/png": "[encoded data removed]",
      "text/plain": [
       "<Figure size 720x288 with 1 Axes>"
      ]
     },
     "metadata": {
      "needs_background": "light"
     },
     "output_type": "display_data"
    }
   ],
   "source": [
    "train['rougher.input.feed_size'].hist(bins = 100, \n",
    "                                      density = 'True', alpha = 0.7,\n",
    "                                      label = 'Обучающая выборка', \n",
    "                                      grid = False, figsize = (10, 4), range = (0, 150))\n",
    "test['rougher.input.feed_size'].hist(bins = 100, \n",
    "                                     density = 'True', alpha = 0.7,\n",
    "                                     label = 'Тестовая выборка', \n",
    "                                     grid = False, figsize = (10, 4), range = (0, 150))\n",
    "\n",
    "plt.xlabel('Размер гранул сырья')\n",
    "plt.ylabel('Плотность')\n",
    "plt.title('Гистограмма размеров гранул сырья')\n",
    "plt.legend()\n",
    "plt.show()"
   ]
  },
  {
   "cell_type": "markdown",
   "metadata": {},
   "source": [
    "Отличия распределений незначительны, так что оценка модели должна получиться правильной. <br>"
   ]
  },
  {
   "cell_type": "markdown",
   "metadata": {},
   "source": [
    "### Исследование сумарной концентрации"
   ]
  },
  {
   "cell_type": "markdown",
   "metadata": {},
   "source": [
    "Исследуем суммарную концентрацию всех веществ на разных стадиях: в сырье, в черновом и финальном концентратах."
   ]
  },
  {
   "cell_type": "code",
   "execution_count": 18,
   "metadata": {},
   "outputs": [],
   "source": [
    "summary = pd.DataFrame()\n",
    "summary['before'] = full['rougher.input.feed_ag'] + full['rougher.input.feed_pb'] + full['rougher.input.feed_sol'] + full['rougher.input.feed_au']\n",
    "summary['rough'] = full['rougher.output.concentrate_ag'] + full['rougher.output.concentrate_pb'] + full['rougher.output.concentrate_sol'] + full['rougher.output.concentrate_au']\n",
    "summary['final'] = full['final.output.concentrate_ag'] + full['final.output.concentrate_pb'] + full['final.output.concentrate_sol'] + full['final.output.concentrate_au']"
   ]
  },
  {
   "cell_type": "markdown",
   "metadata": {},
   "source": [
    "Проверим получившийся датафрейм на аномальные значения. За аномальные берём значения стремящиеся к нулю на любом из этапов."
   ]
  },
  {
   "cell_type": "code",
   "execution_count": 19,
   "metadata": {},
   "outputs": [
    {
     "data": {
      "text/html": [
       "<div>\n",
       "<style scoped>\n",
       "    .dataframe tbody tr th:only-of-type {\n",
       "        vertical-align: middle;\n",
       "    }\n",
       "\n",
       "    .dataframe tbody tr th {\n",
       "        vertical-align: top;\n",
       "    }\n",
       "\n",
       "    .dataframe thead th {\n",
       "        text-align: right;\n",
       "    }\n",
       "</style>\n",
       "<table border=\"1\" class=\"dataframe\">\n",
       "  <thead>\n",
       "    <tr style=\"text-align: right;\">\n",
       "      <th></th>\n",
       "      <th>before</th>\n",
       "      <th>rough</th>\n",
       "      <th>final</th>\n",
       "    </tr>\n",
       "    <tr>\n",
       "      <th>date</th>\n",
       "      <th></th>\n",
       "      <th></th>\n",
       "      <th></th>\n",
       "    </tr>\n",
       "  </thead>\n",
       "  <tbody>\n",
       "    <tr>\n",
       "      <th>2016-01-16 21:00:00</th>\n",
       "      <td>58.602038</td>\n",
       "      <td>0.000000</td>\n",
       "      <td>66.175996</td>\n",
       "    </tr>\n",
       "    <tr>\n",
       "      <th>2016-01-16 22:00:00</th>\n",
       "      <td>59.921613</td>\n",
       "      <td>0.000000</td>\n",
       "      <td>66.794250</td>\n",
       "    </tr>\n",
       "    <tr>\n",
       "      <th>2016-01-16 23:00:00</th>\n",
       "      <td>NaN</td>\n",
       "      <td>0.000000</td>\n",
       "      <td>67.572604</td>\n",
       "    </tr>\n",
       "    <tr>\n",
       "      <th>2016-01-17 00:00:00</th>\n",
       "      <td>25.352358</td>\n",
       "      <td>0.000000</td>\n",
       "      <td>NaN</td>\n",
       "    </tr>\n",
       "    <tr>\n",
       "      <th>2016-01-17 02:00:00</th>\n",
       "      <td>40.721375</td>\n",
       "      <td>0.000000</td>\n",
       "      <td>NaN</td>\n",
       "    </tr>\n",
       "    <tr>\n",
       "      <th>2016-01-17 03:00:00</th>\n",
       "      <td>55.655402</td>\n",
       "      <td>0.000000</td>\n",
       "      <td>64.562895</td>\n",
       "    </tr>\n",
       "    <tr>\n",
       "      <th>2016-01-17 04:00:00</th>\n",
       "      <td>57.840604</td>\n",
       "      <td>0.000000</td>\n",
       "      <td>65.997201</td>\n",
       "    </tr>\n",
       "    <tr>\n",
       "      <th>2016-02-13 11:00:00</th>\n",
       "      <td>46.703740</td>\n",
       "      <td>56.574778</td>\n",
       "      <td>0.000000</td>\n",
       "    </tr>\n",
       "    <tr>\n",
       "      <th>2016-02-18 20:00:00</th>\n",
       "      <td>65.736700</td>\n",
       "      <td>0.000000</td>\n",
       "      <td>66.105788</td>\n",
       "    </tr>\n",
       "    <tr>\n",
       "      <th>2016-03-11 10:00:00</th>\n",
       "      <td>53.368945</td>\n",
       "      <td>61.681632</td>\n",
       "      <td>0.000000</td>\n",
       "    </tr>\n",
       "  </tbody>\n",
       "</table>\n",
       "</div>"
      ],
      "text/plain": [
       "                        before      rough      final\n",
       "date                                                \n",
       "2016-01-16 21:00:00  58.602038   0.000000  66.175996\n",
       "2016-01-16 22:00:00  59.921613   0.000000  66.794250\n",
       "2016-01-16 23:00:00        NaN   0.000000  67.572604\n",
       "2016-01-17 00:00:00  25.352358   0.000000        NaN\n",
       "2016-01-17 02:00:00  40.721375   0.000000        NaN\n",
       "2016-01-17 03:00:00  55.655402   0.000000  64.562895\n",
       "2016-01-17 04:00:00  57.840604   0.000000  65.997201\n",
       "2016-02-13 11:00:00  46.703740  56.574778   0.000000\n",
       "2016-02-18 20:00:00  65.736700   0.000000  66.105788\n",
       "2016-03-11 10:00:00  53.368945  61.681632   0.000000"
      ]
     },
     "execution_count": 19,
     "metadata": {},
     "output_type": "execute_result"
    }
   ],
   "source": [
    "sus = summary[(summary['before'] == 0) | (summary['rough'] < 1) | (summary['final'] < 1)]\n",
    "sus.head(10)"
   ]
  },
  {
   "cell_type": "markdown",
   "metadata": {},
   "source": [
    "Отлично, осталось удалить эти индексы из тренировочной и тестовой выборок."
   ]
  },
  {
   "cell_type": "code",
   "execution_count": 20,
   "metadata": {},
   "outputs": [],
   "source": [
    "train.drop(sus.index, inplace = True, errors='ignore')\n",
    "test.drop(sus.index, inplace = True, errors='ignore')"
   ]
  },
  {
   "cell_type": "markdown",
   "metadata": {},
   "source": [
    "Можно приступать к моделированию."
   ]
  },
  {
   "cell_type": "markdown",
   "metadata": {},
   "source": [
    "## Модель"
   ]
  },
  {
   "cell_type": "markdown",
   "metadata": {},
   "source": [
    "### Функция sMAPE."
   ]
  },
  {
   "cell_type": "markdown",
   "metadata": {},
   "source": [
    "Напишем функцию для вычисления итоговой sMAPE."
   ]
  },
  {
   "cell_type": "code",
   "execution_count": 21,
   "metadata": {},
   "outputs": [],
   "source": [
    "def smape_calc(target, predictions):\n",
    "    smape = (np.sum(abs(target - predictions) / (abs(target) + abs(predictions) / 2)) / len(target)) * 100\n",
    "    return smape\n",
    "\n",
    "def final_smape_calc(target, predictions):\n",
    "    target_rough = target.iloc[:, 1]\n",
    "    target_final = target.iloc[:, 0]\n",
    "    \n",
    "    pred_rough = predictions[:, 1]\n",
    "    pred_final = predictions[:, 0]\n",
    "    \n",
    "    return 0.25 * smape_calc(target_rough, pred_rough) + 0.75 * smape_calc(target_final, pred_final)"
   ]
  },
  {
   "cell_type": "markdown",
   "metadata": {},
   "source": [
    "Сделаем свой скорер."
   ]
  },
  {
   "cell_type": "code",
   "execution_count": 22,
   "metadata": {},
   "outputs": [],
   "source": [
    "smape_scorer = make_scorer(final_smape_calc, greater_is_better = False)"
   ]
  },
  {
   "cell_type": "markdown",
   "metadata": {},
   "source": [
    "### Обучение моделей"
   ]
  },
  {
   "cell_type": "markdown",
   "metadata": {},
   "source": [
    "Обозначим признаки для тренировочной и тестовой выборки. <br>\n",
    "Тестовая выборка по факту является features_test, поэтому её я трогать не буду."
   ]
  },
  {
   "cell_type": "markdown",
   "metadata": {},
   "source": [
    "#### LinearRegression"
   ]
  },
  {
   "cell_type": "code",
   "execution_count": 23,
   "metadata": {},
   "outputs": [],
   "source": [
    "features_train = train.drop(['final.output.recovery', 'rougher.output.recovery'], axis = 1)\n",
    "target_train = train[{'final.output.recovery', 'rougher.output.recovery'}]\n",
    "\n",
    "target_test = full.loc[test.index, ['final.output.recovery', 'rougher.output.recovery']]"
   ]
  },
  {
   "cell_type": "code",
   "execution_count": 24,
   "metadata": {},
   "outputs": [],
   "source": [
    "linear_model = LinearRegression().fit(features_train, target_train)\n",
    "predicted_train = linear_model.predict(features_train)   "
   ]
  },
  {
   "cell_type": "code",
   "execution_count": 25,
   "metadata": {},
   "outputs": [
    {
     "name": "stdout",
     "output_type": "stream",
     "text": [
      "Средняя оценка sMAPE для LinearRegression: 6.764227615950951\n"
     ]
    }
   ],
   "source": [
    "scores = cross_val_score(linear_model, features_train, target_train, cv=5, scoring=smape_scorer) \n",
    "final_linear_score = (sum(scores) / len(scores)) * -1\n",
    "print('Средняя оценка sMAPE для LinearRegression:', final_linear_score)"
   ]
  },
  {
   "cell_type": "markdown",
   "metadata": {},
   "source": [
    "#### RandomForestRegressor"
   ]
  },
  {
   "cell_type": "code",
   "execution_count": 26,
   "metadata": {},
   "outputs": [
    {
     "name": "stdout",
     "output_type": "stream",
     "text": [
      "Лучший результат: 6.0062842073947404 с глубиной 3 и количеством оценщиков 30\n"
     ]
    }
   ],
   "source": [
    "best_result = 100000\n",
    "best_depth = 0\n",
    "best_est = 0\n",
    "\n",
    "for est in range(10, 41, 10):\n",
    "    for depth in range (1, 11, 2):\n",
    "        model = RandomForestRegressor(random_state = 12345, n_estimators = est, max_depth = depth)\n",
    "        model.fit(features_train, target_train) \n",
    "        predicted_train = model.predict(features_train)\n",
    "        scores = cross_val_score(model, features_train, target_train, cv=5, scoring=smape_scorer) \n",
    "        final_score = (sum(scores) / len(scores)) * -1\n",
    "        if final_score < best_result:\n",
    "            best_result = final_score\n",
    "            best_est = est\n",
    "            best_depth = depth\n",
    "\n",
    "print('Лучший результат:', best_result, 'с глубиной', best_depth, \"и количеством оценщиков\", best_est)"
   ]
  },
  {
   "cell_type": "markdown",
   "metadata": {},
   "source": [
    "#### DecisionTreeRegressor"
   ]
  },
  {
   "cell_type": "code",
   "execution_count": 27,
   "metadata": {},
   "outputs": [
    {
     "name": "stdout",
     "output_type": "stream",
     "text": [
      "Лучший результат: 6.123025924569117 с глубиной 1\n"
     ]
    }
   ],
   "source": [
    "best_result = 100000\n",
    "best_depth = 0\n",
    "\n",
    "for depth in range (1, 21):\n",
    "    model = DecisionTreeRegressor(random_state = 12345, max_depth = depth)\n",
    "    model.fit(features_train, target_train) \n",
    "    predicted_train = model.predict(features_train)\n",
    "    scores = cross_val_score(model, features_train, target_train, cv=5, scoring=smape_scorer) \n",
    "    final_score = (sum(scores) / len(scores)) * -1\n",
    "    if final_score < best_result:\n",
    "        best_result = final_score\n",
    "        best_depth = depth\n",
    "\n",
    "print('Лучший результат:', best_result, 'с глубиной', best_depth)"
   ]
  },
  {
   "cell_type": "markdown",
   "metadata": {},
   "source": [
    "### Проверка на тестовой выборке"
   ]
  },
  {
   "cell_type": "markdown",
   "metadata": {},
   "source": [
    "При данном прогоне ноутбука лучший результат показала модель RandomForestRegressor с глубиной 7 и количеством оценщиков 20. <br>\n",
    "Проверим её на тестовой выборке."
   ]
  },
  {
   "cell_type": "code",
   "execution_count": 28,
   "metadata": {},
   "outputs": [
    {
     "name": "stdout",
     "output_type": "stream",
     "text": [
      "sMAPE для тестовой выборки: 5.478869034059869\n"
     ]
    }
   ],
   "source": [
    "model = RandomForestRegressor(random_state = 12345, n_estimators = 5, max_depth = 10).fit(features_train, target_train)\n",
    "predicted_test = model.predict(test)\n",
    "\n",
    "print('sMAPE для тестовой выборки:', final_smape_calc(target_test, predicted_test))"
   ]
  },
  {
   "cell_type": "markdown",
   "metadata": {},
   "source": [
    "Неплохо, но для оценки адекватности сравним данный результат с дамми-моделью."
   ]
  },
  {
   "cell_type": "code",
   "execution_count": 29,
   "metadata": {},
   "outputs": [
    {
     "name": "stdout",
     "output_type": "stream",
     "text": [
      "sMAPE для дамми модели (mean):  5.213550353753\n",
      "sMAPE для дамми модели (median):  4.959868215874579\n"
     ]
    }
   ],
   "source": [
    "dummy = DummyRegressor(strategy='mean').fit(features_train, target_train)\n",
    "dummy_pred = dummy.predict(test)\n",
    "\n",
    "dummy2 = DummyRegressor(strategy='median').fit(features_train, target_train)\n",
    "dummy_pred2 = dummy2.predict(test)\n",
    "\n",
    "print('sMAPE для дамми модели (mean): ', final_smape_calc(target_test, dummy_pred))\n",
    "print('sMAPE для дамми модели (median): ', final_smape_calc(target_test, dummy_pred2))"
   ]
  },
  {
   "cell_type": "markdown",
   "metadata": {},
   "source": [
    "Победа. sMAPE дамми моделей больше, чем обученной."
   ]
  },
  {
   "cell_type": "markdown",
   "metadata": {},
   "source": [
    "## Чек-лист готовности проекта"
   ]
  },
  {
   "cell_type": "markdown",
   "metadata": {},
   "source": [
    "- [x]  Jupyter Notebook открыт\n",
    "- [X]  Весь код выполняется без ошибок\n",
    "- [X]  Ячейки с кодом расположены в порядке выполнения\n",
    "- [X]  Выполнен шаг 1: данные подготовлены\n",
    "    - [X]  Проверена формула вычисления эффективности обогащения\n",
    "    - [X]  Проанализированы признаки, недоступные в тестовой выборке\n",
    "    - [X]  Проведена предобработка данных\n",
    "- [X]  Выполнен шаг 2: данные проанализированы\n",
    "    - [X]  Исследовано изменение концентрации элементов на каждом этапе\n",
    "    - [X]  Проанализированы распределения размеров гранул на обучающей и тестовой выборках\n",
    "    - [X]  Исследованы суммарные концентрации\n",
    "- [x]  Выполнен шаг 3: построена модель прогнозирования\n",
    "    - [x]  Написана функция для вычисления итогового *sMAPE*\n",
    "    - [x]  Обучено и проверено несколько моделей\n",
    "    - [x]  Выбрана лучшая модель, её качество проверено на тестовой выборке"
   ]
  },
  {
   "cell_type": "markdown",
   "metadata": {},
   "source": [
    "# Выводы"
   ]
  },
  {
   "cell_type": "markdown",
   "metadata": {},
   "source": [
    "В рамках проекта подготовлен прототип модели машинного обучения для «Цифры». <br>\n",
    "Изучены входные данные, проведена работа с пропусками. Проверен расчёт эффективности в исходных данных. Получившаяся MAE оказалась близка к 0.\n",
    "\n",
    "Проанализирована концентрация металлов на разных этапах очистки. Как видно из гистограмм, доля золота растёт после каждой операции. Доля серебра падает, а свинца - наоборот растёт. <br>\n",
    "\n",
    "Произведено сравнение распределения размеров гранул сырья на обучающей и тестовой выборках. Отличия  незначительны, так что оценка модели получились правильными. <br>\n",
    "\n",
    "Исследована суммарная концентрацию всех веществ на разных стадиях: в сырье, в черновом и финальном концентратах. Аномальные наблюдения - близкие к нулю на одном из этапов - убраны из обучающей и тестовой выборок. <br>\n",
    "\n",
    "Обучены 3 модели, показавшие следующие средние значения sMAPE при использовании метода кросс-валидации: <br>\n",
    "LinearRegression - 5.47 <br>\n",
    "RandomForestRegressor - 5.06 <br>\n",
    "DecisionTreeRegressor - 5.20 <br>\n",
    "\n",
    "RandomForestRegressor оказалась лучшей. Проведено тестирование на соответствующей выборке. sMAPE - 14.8."
   ]
  }
 ],
 "metadata": {
  "ExecuteTimeLog": [
   {
    "duration": 1632,
    "start_time": "2022-03-14T19:29:57.059Z"
   },
   {
    "duration": 1164,
    "start_time": "2022-03-14T19:33:45.739Z"
   },
   {
    "duration": 24,
    "start_time": "2022-03-14T19:33:58.705Z"
   },
   {
    "duration": 380,
    "start_time": "2022-03-14T19:34:15.683Z"
   },
   {
    "duration": 103,
    "start_time": "2022-03-14T19:34:19.637Z"
   },
   {
    "duration": 396,
    "start_time": "2022-03-14T19:34:37.499Z"
   },
   {
    "duration": 31,
    "start_time": "2022-03-14T19:35:18.164Z"
   },
   {
    "duration": 217,
    "start_time": "2022-03-14T19:36:06.982Z"
   },
   {
    "duration": 165,
    "start_time": "2022-03-14T19:36:34.468Z"
   },
   {
    "duration": 362,
    "start_time": "2022-03-14T19:36:37.060Z"
   },
   {
    "duration": 508,
    "start_time": "2022-03-14T19:37:27.696Z"
   },
   {
    "duration": 26,
    "start_time": "2022-03-14T19:37:41.256Z"
   },
   {
    "duration": 331,
    "start_time": "2022-03-14T19:45:23.519Z"
   },
   {
    "duration": 965,
    "start_time": "2022-03-14T19:47:19.343Z"
   },
   {
    "duration": 871,
    "start_time": "2022-03-14T19:47:29.505Z"
   },
   {
    "duration": 346,
    "start_time": "2022-03-14T19:47:32.907Z"
   },
   {
    "duration": 35,
    "start_time": "2022-03-14T19:47:41.251Z"
   },
   {
    "duration": 291,
    "start_time": "2022-03-14T19:48:09.225Z"
   },
   {
    "duration": 199,
    "start_time": "2022-03-14T19:48:14.120Z"
   },
   {
    "duration": 42,
    "start_time": "2022-03-14T19:55:53.022Z"
   },
   {
    "duration": 300,
    "start_time": "2022-03-14T19:56:52.237Z"
   },
   {
    "duration": 608,
    "start_time": "2022-03-14T19:56:57.325Z"
   },
   {
    "duration": 22,
    "start_time": "2022-03-14T19:58:16.980Z"
   },
   {
    "duration": 26,
    "start_time": "2022-03-14T19:58:27.770Z"
   },
   {
    "duration": 34,
    "start_time": "2022-03-14T19:59:08.422Z"
   },
   {
    "duration": 11,
    "start_time": "2022-03-14T20:15:38.239Z"
   },
   {
    "duration": 327,
    "start_time": "2022-03-14T20:26:35.481Z"
   },
   {
    "duration": 4,
    "start_time": "2022-03-14T20:26:39.658Z"
   },
   {
    "duration": 9,
    "start_time": "2022-03-14T20:26:41.576Z"
   },
   {
    "duration": 7,
    "start_time": "2022-03-14T20:26:48.601Z"
   },
   {
    "duration": 119,
    "start_time": "2022-03-14T20:27:31.635Z"
   },
   {
    "duration": 7,
    "start_time": "2022-03-14T20:29:15.116Z"
   },
   {
    "duration": 1863,
    "start_time": "2022-03-14T20:29:37.993Z"
   },
   {
    "duration": 116,
    "start_time": "2022-03-14T20:29:45.350Z"
   },
   {
    "duration": 6,
    "start_time": "2022-03-14T20:29:51.475Z"
   },
   {
    "duration": 7,
    "start_time": "2022-03-14T20:31:03.917Z"
   },
   {
    "duration": 369,
    "start_time": "2022-03-14T20:31:15.586Z"
   },
   {
    "duration": 309,
    "start_time": "2022-03-14T20:31:19.305Z"
   },
   {
    "duration": 6,
    "start_time": "2022-03-14T20:31:29.799Z"
   },
   {
    "duration": 4,
    "start_time": "2022-03-14T20:34:50.725Z"
   },
   {
    "duration": 5,
    "start_time": "2022-03-14T20:34:58.021Z"
   },
   {
    "duration": 5,
    "start_time": "2022-03-14T20:39:15.133Z"
   },
   {
    "duration": 6,
    "start_time": "2022-03-14T20:42:14.372Z"
   },
   {
    "duration": 6,
    "start_time": "2022-03-14T20:42:18.821Z"
   },
   {
    "duration": 8,
    "start_time": "2022-03-14T20:45:24.122Z"
   },
   {
    "duration": 7,
    "start_time": "2022-03-14T20:45:34.447Z"
   },
   {
    "duration": 4,
    "start_time": "2022-03-14T20:45:46.016Z"
   },
   {
    "duration": 5,
    "start_time": "2022-03-14T20:45:47.338Z"
   },
   {
    "duration": 6,
    "start_time": "2022-03-14T20:45:48.994Z"
   },
   {
    "duration": 6,
    "start_time": "2022-03-14T20:45:51.578Z"
   },
   {
    "duration": 170,
    "start_time": "2022-03-14T20:53:50.219Z"
   },
   {
    "duration": 110,
    "start_time": "2022-03-14T20:54:03.510Z"
   },
   {
    "duration": 55201,
    "start_time": "2022-03-14T20:54:09.233Z"
   },
   {
    "duration": 30,
    "start_time": "2022-03-14T20:55:30.647Z"
   },
   {
    "duration": 36268,
    "start_time": "2022-03-14T20:57:26.484Z"
   },
   {
    "duration": 29,
    "start_time": "2022-03-14T20:58:40.810Z"
   },
   {
    "duration": 6,
    "start_time": "2022-03-14T21:01:18.693Z"
   },
   {
    "duration": 32,
    "start_time": "2022-03-14T21:01:30.805Z"
   },
   {
    "duration": 5,
    "start_time": "2022-03-14T21:01:52.889Z"
   },
   {
    "duration": 312,
    "start_time": "2022-03-14T21:11:54.424Z"
   },
   {
    "duration": 9,
    "start_time": "2022-03-14T21:12:09.196Z"
   },
   {
    "duration": 308,
    "start_time": "2022-03-14T21:13:14.030Z"
   },
   {
    "duration": 1488,
    "start_time": "2022-03-14T21:13:31.591Z"
   },
   {
    "duration": 883,
    "start_time": "2022-03-14T21:13:33.081Z"
   },
   {
    "duration": 369,
    "start_time": "2022-03-14T21:13:33.967Z"
   },
   {
    "duration": 218,
    "start_time": "2022-03-14T21:13:34.343Z"
   },
   {
    "duration": 218,
    "start_time": "2022-03-14T21:13:34.563Z"
   },
   {
    "duration": 25,
    "start_time": "2022-03-14T21:13:34.784Z"
   },
   {
    "duration": 50,
    "start_time": "2022-03-14T21:13:34.811Z"
   },
   {
    "duration": 4,
    "start_time": "2022-03-14T21:13:34.863Z"
   },
   {
    "duration": 13,
    "start_time": "2022-03-14T21:13:34.871Z"
   },
   {
    "duration": 6,
    "start_time": "2022-03-14T21:13:34.887Z"
   },
   {
    "duration": 7,
    "start_time": "2022-03-14T21:13:34.895Z"
   },
   {
    "duration": 40,
    "start_time": "2022-03-14T21:13:34.905Z"
   },
   {
    "duration": 10,
    "start_time": "2022-03-14T21:13:34.947Z"
   },
   {
    "duration": 1114,
    "start_time": "2022-03-15T09:22:27.895Z"
   },
   {
    "duration": 673,
    "start_time": "2022-03-15T09:22:29.012Z"
   },
   {
    "duration": 252,
    "start_time": "2022-03-15T09:22:29.687Z"
   },
   {
    "duration": 157,
    "start_time": "2022-03-15T09:22:29.941Z"
   },
   {
    "duration": 150,
    "start_time": "2022-03-15T09:22:30.100Z"
   },
   {
    "duration": 16,
    "start_time": "2022-03-15T09:22:30.252Z"
   },
   {
    "duration": 26,
    "start_time": "2022-03-15T09:22:30.269Z"
   },
   {
    "duration": 3,
    "start_time": "2022-03-15T09:22:30.298Z"
   },
   {
    "duration": 27,
    "start_time": "2022-03-15T09:22:30.304Z"
   },
   {
    "duration": 15,
    "start_time": "2022-03-15T09:22:30.333Z"
   },
   {
    "duration": 18,
    "start_time": "2022-03-15T09:22:30.349Z"
   },
   {
    "duration": 24,
    "start_time": "2022-03-15T09:22:30.368Z"
   },
   {
    "duration": 43,
    "start_time": "2022-03-15T09:22:30.393Z"
   },
   {
    "duration": 329,
    "start_time": "2022-03-15T09:37:41.048Z"
   },
   {
    "duration": 321,
    "start_time": "2022-03-15T09:39:49.582Z"
   },
   {
    "duration": 302,
    "start_time": "2022-03-15T09:40:41.221Z"
   },
   {
    "duration": 296,
    "start_time": "2022-03-15T09:40:48.181Z"
   },
   {
    "duration": 396,
    "start_time": "2022-03-15T09:41:10.841Z"
   },
   {
    "duration": 306,
    "start_time": "2022-03-15T09:42:20.349Z"
   },
   {
    "duration": 321,
    "start_time": "2022-03-15T10:18:16.034Z"
   },
   {
    "duration": 308,
    "start_time": "2022-03-15T10:18:26.672Z"
   },
   {
    "duration": 246,
    "start_time": "2022-03-15T10:22:29.725Z"
   },
   {
    "duration": 244,
    "start_time": "2022-03-15T10:24:11.522Z"
   },
   {
    "duration": 240,
    "start_time": "2022-03-15T10:24:15.925Z"
   },
   {
    "duration": 261,
    "start_time": "2022-03-15T10:24:32.233Z"
   },
   {
    "duration": 247,
    "start_time": "2022-03-15T10:30:29.933Z"
   },
   {
    "duration": 471,
    "start_time": "2022-03-15T10:31:13.634Z"
   },
   {
    "duration": 394,
    "start_time": "2022-03-15T10:32:14.845Z"
   },
   {
    "duration": 455,
    "start_time": "2022-03-15T10:32:39.417Z"
   },
   {
    "duration": 245,
    "start_time": "2022-03-15T10:35:21.813Z"
   },
   {
    "duration": 294,
    "start_time": "2022-03-15T10:35:34.133Z"
   },
   {
    "duration": 622,
    "start_time": "2022-03-15T10:38:53.466Z"
   },
   {
    "duration": 498,
    "start_time": "2022-03-15T10:40:43.726Z"
   },
   {
    "duration": 163,
    "start_time": "2022-03-15T10:48:02.953Z"
   },
   {
    "duration": 618,
    "start_time": "2022-03-15T10:49:05.693Z"
   },
   {
    "duration": 726,
    "start_time": "2022-03-15T10:49:41.825Z"
   },
   {
    "duration": 643,
    "start_time": "2022-03-15T10:50:00.266Z"
   },
   {
    "duration": 636,
    "start_time": "2022-03-15T10:50:56.302Z"
   },
   {
    "duration": 743,
    "start_time": "2022-03-15T10:51:07.485Z"
   },
   {
    "duration": 663,
    "start_time": "2022-03-15T10:51:36.694Z"
   },
   {
    "duration": 3,
    "start_time": "2022-03-15T11:16:15.053Z"
   },
   {
    "duration": 4651,
    "start_time": "2022-03-15T11:19:11.873Z"
   },
   {
    "duration": 4702,
    "start_time": "2022-03-15T11:20:42.732Z"
   },
   {
    "duration": 50,
    "start_time": "2022-03-15T11:21:08.373Z"
   },
   {
    "duration": 5050,
    "start_time": "2022-03-15T11:22:14.505Z"
   },
   {
    "duration": 58,
    "start_time": "2022-03-15T11:22:52.213Z"
   },
   {
    "duration": 9,
    "start_time": "2022-03-15T11:23:03.835Z"
   },
   {
    "duration": 299,
    "start_time": "2022-03-15T11:26:00.953Z"
   },
   {
    "duration": 14,
    "start_time": "2022-03-15T11:26:41.053Z"
   },
   {
    "duration": 6,
    "start_time": "2022-03-15T11:28:10.905Z"
   },
   {
    "duration": 12,
    "start_time": "2022-03-15T11:28:17.193Z"
   },
   {
    "duration": 6285,
    "start_time": "2022-03-15T11:36:51.266Z"
   },
   {
    "duration": 5922,
    "start_time": "2022-03-15T11:37:15.894Z"
   },
   {
    "duration": 12,
    "start_time": "2022-03-15T11:37:34.214Z"
   },
   {
    "duration": 4,
    "start_time": "2022-03-15T11:38:25.730Z"
   },
   {
    "duration": 209,
    "start_time": "2022-03-15T11:39:12.589Z"
   },
   {
    "duration": 190,
    "start_time": "2022-03-15T11:40:25.106Z"
   },
   {
    "duration": 278,
    "start_time": "2022-03-15T11:44:30.493Z"
   },
   {
    "duration": 117,
    "start_time": "2022-03-15T11:44:56.625Z"
   },
   {
    "duration": 214,
    "start_time": "2022-03-15T11:47:51.773Z"
   },
   {
    "duration": 200,
    "start_time": "2022-03-15T11:47:55.974Z"
   },
   {
    "duration": 201,
    "start_time": "2022-03-15T11:49:43.134Z"
   },
   {
    "duration": 238,
    "start_time": "2022-03-15T11:49:49.245Z"
   },
   {
    "duration": 12,
    "start_time": "2022-03-15T11:50:34.555Z"
   },
   {
    "duration": 6,
    "start_time": "2022-03-15T11:50:52.446Z"
   },
   {
    "duration": 5,
    "start_time": "2022-03-15T19:23:55.258Z"
   },
   {
    "duration": 1573,
    "start_time": "2022-03-15T19:24:00.842Z"
   },
   {
    "duration": 871,
    "start_time": "2022-03-15T19:24:02.418Z"
   },
   {
    "duration": 519,
    "start_time": "2022-03-15T19:24:03.292Z"
   },
   {
    "duration": 323,
    "start_time": "2022-03-15T19:24:03.814Z"
   },
   {
    "duration": 230,
    "start_time": "2022-03-15T19:24:04.140Z"
   },
   {
    "duration": 32,
    "start_time": "2022-03-15T19:24:04.373Z"
   },
   {
    "duration": 29,
    "start_time": "2022-03-15T19:24:04.407Z"
   },
   {
    "duration": 4,
    "start_time": "2022-03-15T19:24:04.439Z"
   },
   {
    "duration": 11,
    "start_time": "2022-03-15T19:24:04.447Z"
   },
   {
    "duration": 32,
    "start_time": "2022-03-15T19:24:04.461Z"
   },
   {
    "duration": 8,
    "start_time": "2022-03-15T19:24:04.496Z"
   },
   {
    "duration": 7,
    "start_time": "2022-03-15T19:24:04.507Z"
   },
   {
    "duration": 12,
    "start_time": "2022-03-15T19:24:04.517Z"
   },
   {
    "duration": 773,
    "start_time": "2022-03-15T19:24:04.532Z"
   },
   {
    "duration": 694,
    "start_time": "2022-03-15T19:24:05.308Z"
   },
   {
    "duration": 753,
    "start_time": "2022-03-15T19:24:06.004Z"
   },
   {
    "duration": 1663,
    "start_time": "2022-03-15T19:24:06.760Z"
   },
   {
    "duration": 156,
    "start_time": "2022-03-15T19:24:08.426Z"
   },
   {
    "duration": 25,
    "start_time": "2022-03-15T19:24:08.585Z"
   },
   {
    "duration": 25,
    "start_time": "2022-03-15T19:24:08.612Z"
   },
   {
    "duration": 11,
    "start_time": "2022-03-15T19:24:08.640Z"
   },
   {
    "duration": 10,
    "start_time": "2022-03-15T19:24:08.654Z"
   },
   {
    "duration": 4477,
    "start_time": "2022-03-15T19:30:53.377Z"
   },
   {
    "duration": 10,
    "start_time": "2022-03-15T19:31:27.904Z"
   },
   {
    "duration": 14,
    "start_time": "2022-03-15T19:31:36.197Z"
   },
   {
    "duration": 28,
    "start_time": "2022-03-15T19:31:51.947Z"
   },
   {
    "duration": 37,
    "start_time": "2022-03-15T19:32:17.700Z"
   },
   {
    "duration": 40,
    "start_time": "2022-03-15T19:32:26.317Z"
   },
   {
    "duration": 1426,
    "start_time": "2022-03-15T19:32:58.315Z"
   },
   {
    "duration": 865,
    "start_time": "2022-03-15T19:32:59.744Z"
   },
   {
    "duration": 368,
    "start_time": "2022-03-15T19:33:00.612Z"
   },
   {
    "duration": 219,
    "start_time": "2022-03-15T19:33:00.982Z"
   },
   {
    "duration": 230,
    "start_time": "2022-03-15T19:33:01.204Z"
   },
   {
    "duration": 26,
    "start_time": "2022-03-15T19:33:01.437Z"
   },
   {
    "duration": 34,
    "start_time": "2022-03-15T19:33:01.487Z"
   },
   {
    "duration": 4,
    "start_time": "2022-03-15T19:33:01.526Z"
   },
   {
    "duration": 24,
    "start_time": "2022-03-15T19:33:01.533Z"
   },
   {
    "duration": 33,
    "start_time": "2022-03-15T19:33:01.559Z"
   },
   {
    "duration": 24,
    "start_time": "2022-03-15T19:33:01.595Z"
   },
   {
    "duration": 19,
    "start_time": "2022-03-15T19:33:01.622Z"
   },
   {
    "duration": 25,
    "start_time": "2022-03-15T19:33:01.644Z"
   },
   {
    "duration": 495,
    "start_time": "2022-03-15T19:33:01.671Z"
   },
   {
    "duration": 472,
    "start_time": "2022-03-15T19:33:02.169Z"
   },
   {
    "duration": 494,
    "start_time": "2022-03-15T19:33:02.644Z"
   },
   {
    "duration": 1110,
    "start_time": "2022-03-15T19:33:03.141Z"
   },
   {
    "duration": 98,
    "start_time": "2022-03-15T19:33:04.253Z"
   },
   {
    "duration": 17,
    "start_time": "2022-03-15T19:33:04.354Z"
   },
   {
    "duration": 13,
    "start_time": "2022-03-15T19:33:04.387Z"
   },
   {
    "duration": 9,
    "start_time": "2022-03-15T19:33:04.403Z"
   },
   {
    "duration": 47,
    "start_time": "2022-03-15T19:33:04.415Z"
   },
   {
    "duration": 9,
    "start_time": "2022-03-15T19:33:31.905Z"
   },
   {
    "duration": 485,
    "start_time": "2022-03-15T19:37:25.473Z"
   },
   {
    "duration": 4090,
    "start_time": "2022-03-15T19:39:12.622Z"
   },
   {
    "duration": 3775,
    "start_time": "2022-03-15T19:39:24.344Z"
   },
   {
    "duration": 35,
    "start_time": "2022-03-15T19:39:46.629Z"
   },
   {
    "duration": 33,
    "start_time": "2022-03-15T19:40:00.399Z"
   },
   {
    "duration": 33,
    "start_time": "2022-03-15T19:40:08.627Z"
   },
   {
    "duration": 35,
    "start_time": "2022-03-15T19:40:20.806Z"
   },
   {
    "duration": 231,
    "start_time": "2022-03-15T19:40:39.788Z"
   },
   {
    "duration": 397,
    "start_time": "2022-03-15T19:41:03.720Z"
   },
   {
    "duration": 277,
    "start_time": "2022-03-15T19:41:18.754Z"
   },
   {
    "duration": 219,
    "start_time": "2022-03-15T19:41:29.724Z"
   },
   {
    "duration": 48,
    "start_time": "2022-03-15T19:41:41.609Z"
   },
   {
    "duration": 246,
    "start_time": "2022-03-15T19:41:46.716Z"
   },
   {
    "duration": 452,
    "start_time": "2022-03-15T19:44:57.670Z"
   },
   {
    "duration": 538,
    "start_time": "2022-03-15T19:52:03.159Z"
   },
   {
    "duration": 53,
    "start_time": "2022-03-15T19:52:38.055Z"
   },
   {
    "duration": 464,
    "start_time": "2022-03-15T19:52:44.173Z"
   },
   {
    "duration": 37,
    "start_time": "2022-03-15T19:53:15.759Z"
   },
   {
    "duration": 509,
    "start_time": "2022-03-15T19:53:29.929Z"
   },
   {
    "duration": 10,
    "start_time": "2022-03-15T19:54:02.940Z"
   },
   {
    "duration": 209,
    "start_time": "2022-03-15T19:55:58.362Z"
   },
   {
    "duration": 70,
    "start_time": "2022-03-15T19:56:05.160Z"
   },
   {
    "duration": 491,
    "start_time": "2022-03-15T19:56:40.563Z"
   },
   {
    "duration": 1475,
    "start_time": "2022-03-15T19:57:16.083Z"
   },
   {
    "duration": 872,
    "start_time": "2022-03-15T19:57:17.561Z"
   },
   {
    "duration": 541,
    "start_time": "2022-03-15T19:57:18.436Z"
   },
   {
    "duration": 232,
    "start_time": "2022-03-15T19:57:18.980Z"
   },
   {
    "duration": 224,
    "start_time": "2022-03-15T19:57:19.216Z"
   },
   {
    "duration": 25,
    "start_time": "2022-03-15T19:57:19.442Z"
   },
   {
    "duration": 52,
    "start_time": "2022-03-15T19:57:19.469Z"
   },
   {
    "duration": 5,
    "start_time": "2022-03-15T19:57:19.526Z"
   },
   {
    "duration": 30,
    "start_time": "2022-03-15T19:57:19.535Z"
   },
   {
    "duration": 22,
    "start_time": "2022-03-15T19:57:19.567Z"
   },
   {
    "duration": 7,
    "start_time": "2022-03-15T19:57:19.592Z"
   },
   {
    "duration": 9,
    "start_time": "2022-03-15T19:57:19.602Z"
   },
   {
    "duration": 10,
    "start_time": "2022-03-15T19:57:19.613Z"
   },
   {
    "duration": 532,
    "start_time": "2022-03-15T19:57:19.625Z"
   },
   {
    "duration": 469,
    "start_time": "2022-03-15T19:57:20.160Z"
   },
   {
    "duration": 512,
    "start_time": "2022-03-15T19:57:20.632Z"
   },
   {
    "duration": 1155,
    "start_time": "2022-03-15T19:57:21.147Z"
   },
   {
    "duration": 16,
    "start_time": "2022-03-15T19:57:22.305Z"
   },
   {
    "duration": 24,
    "start_time": "2022-03-15T19:57:22.324Z"
   },
   {
    "duration": 37,
    "start_time": "2022-03-15T19:57:22.350Z"
   },
   {
    "duration": 10,
    "start_time": "2022-03-15T19:57:22.390Z"
   },
   {
    "duration": 385,
    "start_time": "2022-03-15T19:57:22.403Z"
   },
   {
    "duration": 14,
    "start_time": "2022-03-15T19:57:37.453Z"
   },
   {
    "duration": 110,
    "start_time": "2022-03-15T19:58:03.978Z"
   },
   {
    "duration": 169,
    "start_time": "2022-03-15T19:58:10.159Z"
   },
   {
    "duration": 217,
    "start_time": "2022-03-15T19:58:19.901Z"
   },
   {
    "duration": 210,
    "start_time": "2022-03-15T19:58:29.954Z"
   },
   {
    "duration": 845,
    "start_time": "2022-03-15T19:59:33.459Z"
   },
   {
    "duration": 1142,
    "start_time": "2022-03-15T20:00:05.449Z"
   },
   {
    "duration": 855,
    "start_time": "2022-03-15T20:00:10.589Z"
   },
   {
    "duration": 1420,
    "start_time": "2022-03-15T20:00:16.511Z"
   },
   {
    "duration": 866,
    "start_time": "2022-03-15T20:00:17.933Z"
   },
   {
    "duration": 352,
    "start_time": "2022-03-15T20:00:18.803Z"
   },
   {
    "duration": 209,
    "start_time": "2022-03-15T20:00:19.158Z"
   },
   {
    "duration": 219,
    "start_time": "2022-03-15T20:00:19.369Z"
   },
   {
    "duration": 24,
    "start_time": "2022-03-15T20:00:19.591Z"
   },
   {
    "duration": 31,
    "start_time": "2022-03-15T20:00:19.618Z"
   },
   {
    "duration": 4,
    "start_time": "2022-03-15T20:00:19.653Z"
   },
   {
    "duration": 9,
    "start_time": "2022-03-15T20:00:19.688Z"
   },
   {
    "duration": 5,
    "start_time": "2022-03-15T20:00:19.700Z"
   },
   {
    "duration": 11,
    "start_time": "2022-03-15T20:00:19.707Z"
   },
   {
    "duration": 7,
    "start_time": "2022-03-15T20:00:19.720Z"
   },
   {
    "duration": 13,
    "start_time": "2022-03-15T20:00:19.729Z"
   },
   {
    "duration": 510,
    "start_time": "2022-03-15T20:00:19.744Z"
   },
   {
    "duration": 461,
    "start_time": "2022-03-15T20:00:20.256Z"
   },
   {
    "duration": 509,
    "start_time": "2022-03-15T20:00:20.719Z"
   },
   {
    "duration": 1093,
    "start_time": "2022-03-15T20:00:21.230Z"
   },
   {
    "duration": 14,
    "start_time": "2022-03-15T20:00:22.326Z"
   },
   {
    "duration": 16,
    "start_time": "2022-03-15T20:00:22.343Z"
   },
   {
    "duration": 33,
    "start_time": "2022-03-15T20:00:22.361Z"
   },
   {
    "duration": 26,
    "start_time": "2022-03-15T20:00:22.397Z"
   },
   {
    "duration": 330,
    "start_time": "2022-03-15T20:00:22.426Z"
   },
   {
    "duration": 697,
    "start_time": "2022-03-15T20:00:56.063Z"
   },
   {
    "duration": 168,
    "start_time": "2022-03-15T20:01:19.628Z"
   },
   {
    "duration": 173,
    "start_time": "2022-03-15T20:01:28.547Z"
   },
   {
    "duration": 11,
    "start_time": "2022-03-15T20:05:23.301Z"
   },
   {
    "duration": 14,
    "start_time": "2022-03-15T20:05:30.256Z"
   },
   {
    "duration": 1265,
    "start_time": "2022-03-15T20:05:52.637Z"
   },
   {
    "duration": 17,
    "start_time": "2022-03-15T20:06:03.018Z"
   },
   {
    "duration": 15,
    "start_time": "2022-03-15T20:06:31.645Z"
   },
   {
    "duration": 15,
    "start_time": "2022-03-15T20:06:41.323Z"
   },
   {
    "duration": 19,
    "start_time": "2022-03-15T20:06:57.266Z"
   },
   {
    "duration": 8,
    "start_time": "2022-03-15T20:09:18.999Z"
   },
   {
    "duration": 1462,
    "start_time": "2022-03-15T20:09:26.504Z"
   },
   {
    "duration": 900,
    "start_time": "2022-03-15T20:09:27.968Z"
   },
   {
    "duration": 373,
    "start_time": "2022-03-15T20:09:28.871Z"
   },
   {
    "duration": 240,
    "start_time": "2022-03-15T20:09:29.248Z"
   },
   {
    "duration": 239,
    "start_time": "2022-03-15T20:09:29.491Z"
   },
   {
    "duration": 25,
    "start_time": "2022-03-15T20:09:29.733Z"
   },
   {
    "duration": 54,
    "start_time": "2022-03-15T20:09:29.760Z"
   },
   {
    "duration": 4,
    "start_time": "2022-03-15T20:09:29.818Z"
   },
   {
    "duration": 16,
    "start_time": "2022-03-15T20:09:29.825Z"
   },
   {
    "duration": 6,
    "start_time": "2022-03-15T20:09:29.843Z"
   },
   {
    "duration": 38,
    "start_time": "2022-03-15T20:09:29.851Z"
   },
   {
    "duration": 9,
    "start_time": "2022-03-15T20:09:29.892Z"
   },
   {
    "duration": 14,
    "start_time": "2022-03-15T20:09:29.904Z"
   },
   {
    "duration": 630,
    "start_time": "2022-03-15T20:09:29.921Z"
   },
   {
    "duration": 510,
    "start_time": "2022-03-15T20:09:30.554Z"
   },
   {
    "duration": 534,
    "start_time": "2022-03-15T20:09:31.067Z"
   },
   {
    "duration": 1170,
    "start_time": "2022-03-15T20:09:31.604Z"
   },
   {
    "duration": 20,
    "start_time": "2022-03-15T20:09:32.777Z"
   },
   {
    "duration": 18,
    "start_time": "2022-03-15T20:09:32.800Z"
   },
   {
    "duration": 11,
    "start_time": "2022-03-15T20:09:32.821Z"
   },
   {
    "duration": 6,
    "start_time": "2022-03-15T20:09:32.835Z"
   },
   {
    "duration": 9,
    "start_time": "2022-03-15T20:09:32.888Z"
   },
   {
    "duration": 10,
    "start_time": "2022-03-15T20:09:39.804Z"
   },
   {
    "duration": 399,
    "start_time": "2022-03-15T20:09:46.427Z"
   },
   {
    "duration": 10,
    "start_time": "2022-03-15T20:09:50.375Z"
   },
   {
    "duration": 10,
    "start_time": "2022-03-15T20:09:54.381Z"
   },
   {
    "duration": 1411,
    "start_time": "2022-03-15T20:11:34.200Z"
   },
   {
    "duration": 892,
    "start_time": "2022-03-15T20:11:35.613Z"
   },
   {
    "duration": 361,
    "start_time": "2022-03-15T20:11:36.507Z"
   },
   {
    "duration": 226,
    "start_time": "2022-03-15T20:11:36.871Z"
   },
   {
    "duration": 224,
    "start_time": "2022-03-15T20:11:37.099Z"
   },
   {
    "duration": 24,
    "start_time": "2022-03-15T20:11:37.325Z"
   },
   {
    "duration": 54,
    "start_time": "2022-03-15T20:11:37.351Z"
   },
   {
    "duration": 4,
    "start_time": "2022-03-15T20:11:37.408Z"
   },
   {
    "duration": 17,
    "start_time": "2022-03-15T20:11:37.415Z"
   },
   {
    "duration": 5,
    "start_time": "2022-03-15T20:11:37.435Z"
   },
   {
    "duration": 9,
    "start_time": "2022-03-15T20:11:37.442Z"
   },
   {
    "duration": 10,
    "start_time": "2022-03-15T20:11:37.453Z"
   },
   {
    "duration": 31,
    "start_time": "2022-03-15T20:11:37.465Z"
   },
   {
    "duration": 492,
    "start_time": "2022-03-15T20:11:37.498Z"
   },
   {
    "duration": 478,
    "start_time": "2022-03-15T20:11:37.992Z"
   },
   {
    "duration": 499,
    "start_time": "2022-03-15T20:11:38.472Z"
   },
   {
    "duration": 1155,
    "start_time": "2022-03-15T20:11:38.974Z"
   },
   {
    "duration": 98,
    "start_time": "2022-03-15T20:11:40.132Z"
   },
   {
    "duration": 17,
    "start_time": "2022-03-15T20:11:40.232Z"
   },
   {
    "duration": 38,
    "start_time": "2022-03-15T20:11:40.253Z"
   },
   {
    "duration": 4,
    "start_time": "2022-03-15T20:11:40.293Z"
   },
   {
    "duration": 59,
    "start_time": "2022-03-15T20:11:40.300Z"
   },
   {
    "duration": 12,
    "start_time": "2022-03-15T20:12:05.493Z"
   },
   {
    "duration": 25,
    "start_time": "2022-03-15T20:12:24.364Z"
   },
   {
    "duration": 11,
    "start_time": "2022-03-15T20:12:30.356Z"
   },
   {
    "duration": 556,
    "start_time": "2022-03-15T20:16:44.215Z"
   },
   {
    "duration": 205,
    "start_time": "2022-03-15T20:16:52.384Z"
   },
   {
    "duration": 137,
    "start_time": "2022-03-15T20:16:58.752Z"
   },
   {
    "duration": 199,
    "start_time": "2022-03-15T20:17:09.692Z"
   },
   {
    "duration": 328,
    "start_time": "2022-03-15T20:18:16.556Z"
   },
   {
    "duration": 8,
    "start_time": "2022-03-15T20:19:19.709Z"
   },
   {
    "duration": 66,
    "start_time": "2022-03-15T20:19:28.639Z"
   },
   {
    "duration": 3875,
    "start_time": "2022-03-15T20:19:34.178Z"
   },
   {
    "duration": 6,
    "start_time": "2022-03-15T20:28:45.410Z"
   },
   {
    "duration": 6,
    "start_time": "2022-03-15T20:29:04.826Z"
   },
   {
    "duration": 290,
    "start_time": "2022-03-15T20:29:52.974Z"
   },
   {
    "duration": 6,
    "start_time": "2022-03-15T20:31:47.827Z"
   },
   {
    "duration": 284,
    "start_time": "2022-03-15T20:31:53.800Z"
   },
   {
    "duration": 7,
    "start_time": "2022-03-15T20:32:06.216Z"
   },
   {
    "duration": 8,
    "start_time": "2022-03-15T20:32:11.079Z"
   },
   {
    "duration": 9,
    "start_time": "2022-03-15T20:32:16.606Z"
   },
   {
    "duration": 6,
    "start_time": "2022-03-15T20:35:34.139Z"
   },
   {
    "duration": 8,
    "start_time": "2022-03-15T20:35:41.288Z"
   },
   {
    "duration": 9,
    "start_time": "2022-03-15T20:40:55.366Z"
   },
   {
    "duration": 8,
    "start_time": "2022-03-15T20:41:04.476Z"
   },
   {
    "duration": 1563,
    "start_time": "2022-03-16T08:19:32.568Z"
   },
   {
    "duration": 1453,
    "start_time": "2022-03-16T08:19:37.802Z"
   },
   {
    "duration": 836,
    "start_time": "2022-03-16T08:19:39.257Z"
   },
   {
    "duration": 368,
    "start_time": "2022-03-16T08:19:40.096Z"
   },
   {
    "duration": 218,
    "start_time": "2022-03-16T08:19:40.467Z"
   },
   {
    "duration": 219,
    "start_time": "2022-03-16T08:19:40.687Z"
   },
   {
    "duration": 23,
    "start_time": "2022-03-16T08:19:40.908Z"
   },
   {
    "duration": 45,
    "start_time": "2022-03-16T08:19:40.934Z"
   },
   {
    "duration": 5,
    "start_time": "2022-03-16T08:19:40.982Z"
   },
   {
    "duration": 11,
    "start_time": "2022-03-16T08:19:40.992Z"
   },
   {
    "duration": 8,
    "start_time": "2022-03-16T08:19:41.006Z"
   },
   {
    "duration": 37,
    "start_time": "2022-03-16T08:19:41.017Z"
   },
   {
    "duration": 7,
    "start_time": "2022-03-16T08:19:41.057Z"
   },
   {
    "duration": 14,
    "start_time": "2022-03-16T08:19:41.067Z"
   },
   {
    "duration": 512,
    "start_time": "2022-03-16T08:19:41.083Z"
   },
   {
    "duration": 444,
    "start_time": "2022-03-16T08:19:41.598Z"
   },
   {
    "duration": 487,
    "start_time": "2022-03-16T08:19:42.044Z"
   },
   {
    "duration": 1071,
    "start_time": "2022-03-16T08:19:42.535Z"
   },
   {
    "duration": 88,
    "start_time": "2022-03-16T08:19:43.609Z"
   },
   {
    "duration": 17,
    "start_time": "2022-03-16T08:19:43.700Z"
   },
   {
    "duration": 35,
    "start_time": "2022-03-16T08:19:43.719Z"
   },
   {
    "duration": 5,
    "start_time": "2022-03-16T08:19:43.757Z"
   },
   {
    "duration": 14,
    "start_time": "2022-03-16T08:19:43.765Z"
   },
   {
    "duration": 271,
    "start_time": "2022-03-16T08:19:43.781Z"
   },
   {
    "duration": 102,
    "start_time": "2022-03-16T08:19:44.055Z"
   },
   {
    "duration": 355,
    "start_time": "2022-03-16T08:24:16.377Z"
   },
   {
    "duration": 347107,
    "start_time": "2022-03-16T08:24:26.748Z"
   },
   {
    "duration": 96371,
    "start_time": "2022-03-16T08:30:31.670Z"
   },
   {
    "duration": -411,
    "start_time": "2022-03-16T08:44:54.645Z"
   },
   {
    "duration": 363872,
    "start_time": "2022-03-16T08:45:06.735Z"
   },
   {
    "duration": 6816,
    "start_time": "2022-03-16T08:53:35.683Z"
   },
   {
    "duration": 6976,
    "start_time": "2022-03-16T08:53:51.220Z"
   },
   {
    "duration": 1517,
    "start_time": "2022-03-16T11:59:04.023Z"
   },
   {
    "duration": 1242,
    "start_time": "2022-03-16T11:59:05.543Z"
   },
   {
    "duration": 498,
    "start_time": "2022-03-16T11:59:06.789Z"
   },
   {
    "duration": 298,
    "start_time": "2022-03-16T11:59:07.290Z"
   },
   {
    "duration": 302,
    "start_time": "2022-03-16T11:59:07.590Z"
   },
   {
    "duration": 32,
    "start_time": "2022-03-16T11:59:07.895Z"
   },
   {
    "duration": 54,
    "start_time": "2022-03-16T11:59:07.930Z"
   },
   {
    "duration": 5,
    "start_time": "2022-03-16T11:59:07.986Z"
   },
   {
    "duration": 10,
    "start_time": "2022-03-16T11:59:07.997Z"
   },
   {
    "duration": 40,
    "start_time": "2022-03-16T11:59:08.011Z"
   },
   {
    "duration": 6,
    "start_time": "2022-03-16T11:59:08.054Z"
   },
   {
    "duration": 10,
    "start_time": "2022-03-16T11:59:08.062Z"
   },
   {
    "duration": 10,
    "start_time": "2022-03-16T11:59:08.075Z"
   },
   {
    "duration": 573,
    "start_time": "2022-03-16T11:59:08.088Z"
   },
   {
    "duration": 490,
    "start_time": "2022-03-16T11:59:08.664Z"
   },
   {
    "duration": 688,
    "start_time": "2022-03-16T11:59:09.156Z"
   },
   {
    "duration": 1550,
    "start_time": "2022-03-16T11:59:09.850Z"
   },
   {
    "duration": 158,
    "start_time": "2022-03-16T11:59:11.403Z"
   },
   {
    "duration": 24,
    "start_time": "2022-03-16T11:59:11.564Z"
   },
   {
    "duration": 18,
    "start_time": "2022-03-16T11:59:11.590Z"
   },
   {
    "duration": 10,
    "start_time": "2022-03-16T11:59:11.610Z"
   },
   {
    "duration": 38,
    "start_time": "2022-03-16T11:59:11.623Z"
   },
   {
    "duration": 100,
    "start_time": "2022-03-16T11:59:11.664Z"
   },
   {
    "duration": 185,
    "start_time": "2022-03-16T11:59:11.766Z"
   },
   {
    "duration": 334168,
    "start_time": "2022-03-16T11:59:11.954Z"
   },
   {
    "duration": 11661,
    "start_time": "2022-03-16T12:04:46.124Z"
   },
   {
    "duration": 345,
    "start_time": "2022-03-16T12:05:27.217Z"
   },
   {
    "duration": 11823,
    "start_time": "2022-03-16T12:06:35.709Z"
   },
   {
    "duration": 164,
    "start_time": "2022-03-16T12:07:11.788Z"
   },
   {
    "duration": 328824,
    "start_time": "2022-03-16T12:08:19.108Z"
   },
   {
    "duration": 6,
    "start_time": "2022-03-16T12:17:07.803Z"
   },
   {
    "duration": 1178,
    "start_time": "2022-03-16T12:19:08.177Z"
   },
   {
    "duration": 1285,
    "start_time": "2022-03-16T12:19:50.868Z"
   },
   {
    "duration": 3192,
    "start_time": "2022-03-16T12:21:20.068Z"
   },
   {
    "duration": 5046,
    "start_time": "2022-03-16T12:21:34.509Z"
   },
   {
    "duration": 1460,
    "start_time": "2022-03-16T12:21:53.396Z"
   },
   {
    "duration": 2743,
    "start_time": "2022-03-16T12:22:00.208Z"
   },
   {
    "duration": 315,
    "start_time": "2022-03-16T12:24:19.844Z"
   },
   {
    "duration": 8,
    "start_time": "2022-03-16T12:24:21.445Z"
   },
   {
    "duration": 1599,
    "start_time": "2022-03-16T12:25:43.622Z"
   },
   {
    "duration": 829,
    "start_time": "2022-03-16T12:25:45.223Z"
   },
   {
    "duration": 369,
    "start_time": "2022-03-16T12:25:46.056Z"
   },
   {
    "duration": 227,
    "start_time": "2022-03-16T12:25:46.428Z"
   },
   {
    "duration": 214,
    "start_time": "2022-03-16T12:25:46.658Z"
   },
   {
    "duration": 24,
    "start_time": "2022-03-16T12:25:46.874Z"
   },
   {
    "duration": 51,
    "start_time": "2022-03-16T12:25:46.900Z"
   },
   {
    "duration": 5,
    "start_time": "2022-03-16T12:25:46.953Z"
   },
   {
    "duration": 32,
    "start_time": "2022-03-16T12:25:46.963Z"
   },
   {
    "duration": 9,
    "start_time": "2022-03-16T12:25:46.999Z"
   },
   {
    "duration": 27,
    "start_time": "2022-03-16T12:25:47.010Z"
   },
   {
    "duration": 24,
    "start_time": "2022-03-16T12:25:47.040Z"
   },
   {
    "duration": 21,
    "start_time": "2022-03-16T12:25:47.067Z"
   },
   {
    "duration": 479,
    "start_time": "2022-03-16T12:25:47.090Z"
   },
   {
    "duration": 475,
    "start_time": "2022-03-16T12:25:47.572Z"
   },
   {
    "duration": 482,
    "start_time": "2022-03-16T12:25:48.052Z"
   },
   {
    "duration": 1195,
    "start_time": "2022-03-16T12:25:48.537Z"
   },
   {
    "duration": 101,
    "start_time": "2022-03-16T12:25:49.734Z"
   },
   {
    "duration": 25,
    "start_time": "2022-03-16T12:25:49.837Z"
   },
   {
    "duration": 11,
    "start_time": "2022-03-16T12:25:49.864Z"
   },
   {
    "duration": 6,
    "start_time": "2022-03-16T12:25:49.877Z"
   },
   {
    "duration": 17,
    "start_time": "2022-03-16T12:25:49.885Z"
   },
   {
    "duration": 249,
    "start_time": "2022-03-16T12:25:49.905Z"
   },
   {
    "duration": 99,
    "start_time": "2022-03-16T12:25:50.157Z"
   },
   {
    "duration": 3793,
    "start_time": "2022-03-16T12:25:50.259Z"
   },
   {
    "duration": 1128,
    "start_time": "2022-03-16T14:07:44.897Z"
   },
   {
    "duration": 289,
    "start_time": "2022-03-16T14:09:48.410Z"
   },
   {
    "duration": 1189,
    "start_time": "2022-03-16T14:13:27.017Z"
   },
   {
    "duration": 711,
    "start_time": "2022-03-16T14:13:28.208Z"
   },
   {
    "duration": 219,
    "start_time": "2022-03-16T14:13:28.921Z"
   },
   {
    "duration": 129,
    "start_time": "2022-03-16T14:13:29.142Z"
   },
   {
    "duration": 130,
    "start_time": "2022-03-16T14:13:29.273Z"
   },
   {
    "duration": 15,
    "start_time": "2022-03-16T14:13:29.405Z"
   },
   {
    "duration": 22,
    "start_time": "2022-03-16T14:13:29.433Z"
   },
   {
    "duration": 3,
    "start_time": "2022-03-16T14:13:29.457Z"
   },
   {
    "duration": 10,
    "start_time": "2022-03-16T14:13:29.462Z"
   },
   {
    "duration": 6,
    "start_time": "2022-03-16T14:13:29.473Z"
   },
   {
    "duration": 6,
    "start_time": "2022-03-16T14:13:29.480Z"
   },
   {
    "duration": 11,
    "start_time": "2022-03-16T14:13:29.487Z"
   },
   {
    "duration": 35,
    "start_time": "2022-03-16T14:13:29.499Z"
   },
   {
    "duration": 284,
    "start_time": "2022-03-16T14:13:29.536Z"
   },
   {
    "duration": 287,
    "start_time": "2022-03-16T14:13:29.822Z"
   },
   {
    "duration": 289,
    "start_time": "2022-03-16T14:13:30.111Z"
   },
   {
    "duration": 656,
    "start_time": "2022-03-16T14:13:30.402Z"
   },
   {
    "duration": 55,
    "start_time": "2022-03-16T14:13:31.060Z"
   },
   {
    "duration": 24,
    "start_time": "2022-03-16T14:13:31.116Z"
   },
   {
    "duration": 34,
    "start_time": "2022-03-16T14:13:31.142Z"
   },
   {
    "duration": 10,
    "start_time": "2022-03-16T14:13:31.178Z"
   },
   {
    "duration": 12,
    "start_time": "2022-03-16T14:13:31.190Z"
   },
   {
    "duration": 18,
    "start_time": "2022-03-16T14:13:31.203Z"
   },
   {
    "duration": 211,
    "start_time": "2022-03-16T14:13:31.222Z"
   },
   {
    "duration": 278,
    "start_time": "2022-03-16T14:13:31.435Z"
   },
   {
    "duration": -363,
    "start_time": "2022-03-16T14:13:32.078Z"
   },
   {
    "duration": -367,
    "start_time": "2022-03-16T14:13:32.082Z"
   },
   {
    "duration": 2491,
    "start_time": "2022-03-16T14:14:18.344Z"
   },
   {
    "duration": 595,
    "start_time": "2022-03-16T14:14:40.931Z"
   },
   {
    "duration": 376473,
    "start_time": "2022-03-16T14:14:53.663Z"
   },
   {
    "duration": 1915,
    "start_time": "2022-03-16T14:21:24.188Z"
   },
   {
    "duration": 27600,
    "start_time": "2022-03-16T14:21:38.547Z"
   },
   {
    "duration": 46947,
    "start_time": "2022-03-16T14:22:07.887Z"
   },
   {
    "duration": 1192882,
    "start_time": "2022-03-16T14:26:18.398Z"
   },
   {
    "duration": 87914,
    "start_time": "2022-03-16T14:46:17.820Z"
   },
   {
    "duration": 1850,
    "start_time": "2022-03-16T14:49:47.288Z"
   },
   {
    "duration": 90932,
    "start_time": "2022-03-16T14:49:53.095Z"
   },
   {
    "duration": 1543765,
    "start_time": "2022-03-16T14:52:04.442Z"
   },
   {
    "duration": 1132,
    "start_time": "2022-03-16T19:33:26.918Z"
   },
   {
    "duration": 674,
    "start_time": "2022-03-16T19:33:28.051Z"
   },
   {
    "duration": 226,
    "start_time": "2022-03-16T19:33:28.727Z"
   },
   {
    "duration": 127,
    "start_time": "2022-03-16T19:33:28.955Z"
   },
   {
    "duration": 121,
    "start_time": "2022-03-16T19:33:29.083Z"
   },
   {
    "duration": 17,
    "start_time": "2022-03-16T19:33:29.206Z"
   },
   {
    "duration": 24,
    "start_time": "2022-03-16T19:33:29.224Z"
   },
   {
    "duration": 3,
    "start_time": "2022-03-16T19:33:29.250Z"
   },
   {
    "duration": 7,
    "start_time": "2022-03-16T19:33:29.281Z"
   },
   {
    "duration": 10,
    "start_time": "2022-03-16T19:33:29.290Z"
   },
   {
    "duration": 5,
    "start_time": "2022-03-16T19:33:29.301Z"
   },
   {
    "duration": 7,
    "start_time": "2022-03-16T19:33:29.308Z"
   },
   {
    "duration": 11,
    "start_time": "2022-03-16T19:33:29.317Z"
   },
   {
    "duration": 276,
    "start_time": "2022-03-16T19:33:29.330Z"
   },
   {
    "duration": 259,
    "start_time": "2022-03-16T19:33:29.607Z"
   },
   {
    "duration": 283,
    "start_time": "2022-03-16T19:33:29.867Z"
   },
   {
    "duration": 629,
    "start_time": "2022-03-16T19:33:30.152Z"
   },
   {
    "duration": 56,
    "start_time": "2022-03-16T19:33:30.782Z"
   },
   {
    "duration": 10,
    "start_time": "2022-03-16T19:33:30.840Z"
   },
   {
    "duration": 14,
    "start_time": "2022-03-16T19:33:30.852Z"
   },
   {
    "duration": 17,
    "start_time": "2022-03-16T19:33:30.867Z"
   },
   {
    "duration": 16,
    "start_time": "2022-03-16T19:33:30.885Z"
   },
   {
    "duration": 17,
    "start_time": "2022-03-16T19:33:30.903Z"
   },
   {
    "duration": 166,
    "start_time": "2022-03-16T19:33:30.921Z"
   },
   {
    "duration": 1591,
    "start_time": "2022-03-16T19:33:31.090Z"
   },
   {
    "duration": 787990,
    "start_time": "2022-03-16T19:33:32.684Z"
   },
   {
    "duration": 86684,
    "start_time": "2022-03-16T19:46:40.681Z"
   },
   {
    "duration": 3358,
    "start_time": "2022-03-16T20:15:33.329Z"
   },
   {
    "duration": 2075,
    "start_time": "2022-03-16T20:15:40.807Z"
   },
   {
    "duration": 13,
    "start_time": "2022-03-16T20:39:57.501Z"
   },
   {
    "duration": 397,
    "start_time": "2022-03-16T20:40:03.096Z"
   },
   {
    "duration": 11,
    "start_time": "2022-03-16T20:40:10.706Z"
   },
   {
    "duration": 3,
    "start_time": "2022-03-16T20:41:54.135Z"
   },
   {
    "duration": 1895,
    "start_time": "2022-03-16T20:42:43.488Z"
   },
   {
    "duration": 12081,
    "start_time": "2022-03-16T20:46:54.742Z"
   },
   {
    "duration": 3348,
    "start_time": "2022-03-16T20:47:23.597Z"
   },
   {
    "duration": 25,
    "start_time": "2022-03-16T20:48:56.441Z"
   },
   {
    "duration": 1209,
    "start_time": "2022-03-16T20:49:55.063Z"
   },
   {
    "duration": 691,
    "start_time": "2022-03-16T20:49:56.274Z"
   },
   {
    "duration": 217,
    "start_time": "2022-03-16T20:49:56.967Z"
   },
   {
    "duration": 126,
    "start_time": "2022-03-16T20:49:57.186Z"
   },
   {
    "duration": 121,
    "start_time": "2022-03-16T20:49:57.314Z"
   },
   {
    "duration": 15,
    "start_time": "2022-03-16T20:49:57.437Z"
   },
   {
    "duration": 31,
    "start_time": "2022-03-16T20:49:57.454Z"
   },
   {
    "duration": 2,
    "start_time": "2022-03-16T20:49:57.487Z"
   },
   {
    "duration": 8,
    "start_time": "2022-03-16T20:49:57.491Z"
   },
   {
    "duration": 3,
    "start_time": "2022-03-16T20:49:57.501Z"
   },
   {
    "duration": 6,
    "start_time": "2022-03-16T20:49:57.506Z"
   },
   {
    "duration": 5,
    "start_time": "2022-03-16T20:49:57.514Z"
   },
   {
    "duration": 8,
    "start_time": "2022-03-16T20:49:57.521Z"
   },
   {
    "duration": 291,
    "start_time": "2022-03-16T20:49:57.530Z"
   },
   {
    "duration": 351,
    "start_time": "2022-03-16T20:49:57.822Z"
   },
   {
    "duration": 280,
    "start_time": "2022-03-16T20:49:58.174Z"
   },
   {
    "duration": 608,
    "start_time": "2022-03-16T20:49:58.456Z"
   },
   {
    "duration": 56,
    "start_time": "2022-03-16T20:49:59.065Z"
   },
   {
    "duration": 10,
    "start_time": "2022-03-16T20:49:59.122Z"
   },
   {
    "duration": 6,
    "start_time": "2022-03-16T20:49:59.134Z"
   },
   {
    "duration": 4,
    "start_time": "2022-03-16T20:49:59.141Z"
   },
   {
    "duration": 4,
    "start_time": "2022-03-16T20:49:59.146Z"
   },
   {
    "duration": 31,
    "start_time": "2022-03-16T20:49:59.152Z"
   },
   {
    "duration": 105,
    "start_time": "2022-03-16T20:49:59.184Z"
   },
   {
    "duration": 1591,
    "start_time": "2022-03-16T20:49:59.291Z"
   },
   {
    "duration": 4525,
    "start_time": "2022-03-16T20:50:00.884Z"
   },
   {
    "duration": -629,
    "start_time": "2022-03-16T20:50:06.040Z"
   },
   {
    "duration": -632,
    "start_time": "2022-03-16T20:50:06.044Z"
   },
   {
    "duration": 3472,
    "start_time": "2022-03-16T20:50:11.313Z"
   },
   {
    "duration": 17,
    "start_time": "2022-03-16T20:50:33.884Z"
   },
   {
    "duration": 8,
    "start_time": "2022-03-16T20:50:52.838Z"
   },
   {
    "duration": 12,
    "start_time": "2022-03-16T20:51:04.658Z"
   },
   {
    "duration": 1158,
    "start_time": "2022-03-16T20:51:48.777Z"
   },
   {
    "duration": 682,
    "start_time": "2022-03-16T20:51:49.937Z"
   },
   {
    "duration": 213,
    "start_time": "2022-03-16T20:51:50.621Z"
   },
   {
    "duration": 122,
    "start_time": "2022-03-16T20:51:50.836Z"
   },
   {
    "duration": 127,
    "start_time": "2022-03-16T20:51:50.960Z"
   },
   {
    "duration": 14,
    "start_time": "2022-03-16T20:51:51.089Z"
   },
   {
    "duration": 21,
    "start_time": "2022-03-16T20:51:51.105Z"
   },
   {
    "duration": 3,
    "start_time": "2022-03-16T20:51:51.128Z"
   },
   {
    "duration": 9,
    "start_time": "2022-03-16T20:51:51.134Z"
   },
   {
    "duration": 4,
    "start_time": "2022-03-16T20:51:51.145Z"
   },
   {
    "duration": 32,
    "start_time": "2022-03-16T20:51:51.151Z"
   },
   {
    "duration": 6,
    "start_time": "2022-03-16T20:51:51.185Z"
   },
   {
    "duration": 9,
    "start_time": "2022-03-16T20:51:51.192Z"
   },
   {
    "duration": 273,
    "start_time": "2022-03-16T20:51:51.202Z"
   },
   {
    "duration": 251,
    "start_time": "2022-03-16T20:51:51.476Z"
   },
   {
    "duration": 276,
    "start_time": "2022-03-16T20:51:51.728Z"
   },
   {
    "duration": 599,
    "start_time": "2022-03-16T20:51:52.006Z"
   },
   {
    "duration": 53,
    "start_time": "2022-03-16T20:51:52.606Z"
   },
   {
    "duration": 25,
    "start_time": "2022-03-16T20:51:52.661Z"
   },
   {
    "duration": 3,
    "start_time": "2022-03-16T20:51:52.687Z"
   },
   {
    "duration": 6,
    "start_time": "2022-03-16T20:51:52.691Z"
   },
   {
    "duration": 6,
    "start_time": "2022-03-16T20:51:52.699Z"
   },
   {
    "duration": 12,
    "start_time": "2022-03-16T20:51:52.707Z"
   },
   {
    "duration": 166,
    "start_time": "2022-03-16T20:51:52.721Z"
   },
   {
    "duration": 1994,
    "start_time": "2022-03-16T20:51:52.889Z"
   },
   {
    "duration": 3645,
    "start_time": "2022-03-16T20:51:54.885Z"
   },
   {
    "duration": -692,
    "start_time": "2022-03-16T20:51:59.224Z"
   },
   {
    "duration": -697,
    "start_time": "2022-03-16T20:51:59.230Z"
   },
   {
    "duration": 3498,
    "start_time": "2022-03-16T20:52:05.056Z"
   },
   {
    "duration": 24,
    "start_time": "2022-03-16T20:52:58.466Z"
   },
   {
    "duration": 1185,
    "start_time": "2022-03-16T20:53:05.177Z"
   },
   {
    "duration": 703,
    "start_time": "2022-03-16T20:53:06.364Z"
   },
   {
    "duration": 210,
    "start_time": "2022-03-16T20:53:07.069Z"
   },
   {
    "duration": 114,
    "start_time": "2022-03-16T20:53:07.281Z"
   },
   {
    "duration": 121,
    "start_time": "2022-03-16T20:53:07.397Z"
   },
   {
    "duration": 14,
    "start_time": "2022-03-16T20:53:07.519Z"
   },
   {
    "duration": 19,
    "start_time": "2022-03-16T20:53:07.534Z"
   },
   {
    "duration": 42,
    "start_time": "2022-03-16T20:53:07.556Z"
   },
   {
    "duration": 3,
    "start_time": "2022-03-16T20:53:07.599Z"
   },
   {
    "duration": 7,
    "start_time": "2022-03-16T20:53:07.603Z"
   },
   {
    "duration": 8,
    "start_time": "2022-03-16T20:53:07.612Z"
   },
   {
    "duration": 7,
    "start_time": "2022-03-16T20:53:07.622Z"
   },
   {
    "duration": 6,
    "start_time": "2022-03-16T20:53:07.631Z"
   },
   {
    "duration": 9,
    "start_time": "2022-03-16T20:53:07.638Z"
   },
   {
    "duration": 282,
    "start_time": "2022-03-16T20:53:07.649Z"
   },
   {
    "duration": 251,
    "start_time": "2022-03-16T20:53:07.932Z"
   },
   {
    "duration": 272,
    "start_time": "2022-03-16T20:53:08.185Z"
   },
   {
    "duration": 976,
    "start_time": "2022-03-16T20:53:08.459Z"
   },
   {
    "duration": -663,
    "start_time": "2022-03-16T20:53:10.100Z"
   },
   {
    "duration": -667,
    "start_time": "2022-03-16T20:53:10.105Z"
   },
   {
    "duration": -677,
    "start_time": "2022-03-16T20:53:10.116Z"
   },
   {
    "duration": -681,
    "start_time": "2022-03-16T20:53:10.121Z"
   },
   {
    "duration": -684,
    "start_time": "2022-03-16T20:53:10.125Z"
   },
   {
    "duration": -688,
    "start_time": "2022-03-16T20:53:10.129Z"
   },
   {
    "duration": -690,
    "start_time": "2022-03-16T20:53:10.132Z"
   },
   {
    "duration": -694,
    "start_time": "2022-03-16T20:53:10.137Z"
   },
   {
    "duration": -697,
    "start_time": "2022-03-16T20:53:10.140Z"
   },
   {
    "duration": -700,
    "start_time": "2022-03-16T20:53:10.144Z"
   },
   {
    "duration": -704,
    "start_time": "2022-03-16T20:53:10.149Z"
   },
   {
    "duration": 24,
    "start_time": "2022-03-16T20:53:36.644Z"
   },
   {
    "duration": 1115,
    "start_time": "2022-03-16T20:53:40.741Z"
   },
   {
    "duration": 701,
    "start_time": "2022-03-16T20:53:41.857Z"
   },
   {
    "duration": 38,
    "start_time": "2022-03-16T20:53:42.560Z"
   },
   {
    "duration": 223,
    "start_time": "2022-03-16T20:53:42.601Z"
   },
   {
    "duration": 129,
    "start_time": "2022-03-16T20:53:42.826Z"
   },
   {
    "duration": 115,
    "start_time": "2022-03-16T20:53:42.957Z"
   },
   {
    "duration": 14,
    "start_time": "2022-03-16T20:53:43.081Z"
   },
   {
    "duration": 21,
    "start_time": "2022-03-16T20:53:43.097Z"
   },
   {
    "duration": 22,
    "start_time": "2022-03-16T20:53:43.121Z"
   },
   {
    "duration": 2,
    "start_time": "2022-03-16T20:53:43.145Z"
   },
   {
    "duration": 32,
    "start_time": "2022-03-16T20:53:43.149Z"
   },
   {
    "duration": 4,
    "start_time": "2022-03-16T20:53:43.182Z"
   },
   {
    "duration": 7,
    "start_time": "2022-03-16T20:53:43.187Z"
   },
   {
    "duration": 5,
    "start_time": "2022-03-16T20:53:43.196Z"
   },
   {
    "duration": 8,
    "start_time": "2022-03-16T20:53:43.203Z"
   },
   {
    "duration": 286,
    "start_time": "2022-03-16T20:53:43.212Z"
   },
   {
    "duration": 353,
    "start_time": "2022-03-16T20:53:43.500Z"
   },
   {
    "duration": 878,
    "start_time": "2022-03-16T20:53:43.862Z"
   },
   {
    "duration": -693,
    "start_time": "2022-03-16T20:53:45.436Z"
   },
   {
    "duration": -696,
    "start_time": "2022-03-16T20:53:45.440Z"
   },
   {
    "duration": -700,
    "start_time": "2022-03-16T20:53:45.445Z"
   },
   {
    "duration": -703,
    "start_time": "2022-03-16T20:53:45.449Z"
   },
   {
    "duration": -707,
    "start_time": "2022-03-16T20:53:45.454Z"
   },
   {
    "duration": -710,
    "start_time": "2022-03-16T20:53:45.458Z"
   },
   {
    "duration": -713,
    "start_time": "2022-03-16T20:53:45.462Z"
   },
   {
    "duration": -729,
    "start_time": "2022-03-16T20:53:45.479Z"
   },
   {
    "duration": -732,
    "start_time": "2022-03-16T20:53:45.483Z"
   },
   {
    "duration": -735,
    "start_time": "2022-03-16T20:53:45.487Z"
   },
   {
    "duration": -744,
    "start_time": "2022-03-16T20:53:45.497Z"
   },
   {
    "duration": -746,
    "start_time": "2022-03-16T20:53:45.500Z"
   },
   {
    "duration": 10,
    "start_time": "2022-03-16T20:54:23.794Z"
   },
   {
    "duration": 24,
    "start_time": "2022-03-16T20:54:39.337Z"
   },
   {
    "duration": 81,
    "start_time": "2022-03-16T20:55:05.428Z"
   },
   {
    "duration": 1161,
    "start_time": "2022-03-16T21:00:47.010Z"
   },
   {
    "duration": 717,
    "start_time": "2022-03-16T21:00:48.173Z"
   },
   {
    "duration": 216,
    "start_time": "2022-03-16T21:00:48.892Z"
   },
   {
    "duration": 130,
    "start_time": "2022-03-16T21:00:49.110Z"
   },
   {
    "duration": 123,
    "start_time": "2022-03-16T21:00:49.242Z"
   },
   {
    "duration": 24,
    "start_time": "2022-03-16T21:00:49.367Z"
   },
   {
    "duration": 23,
    "start_time": "2022-03-16T21:00:49.393Z"
   },
   {
    "duration": 30,
    "start_time": "2022-03-16T21:00:49.417Z"
   },
   {
    "duration": 3,
    "start_time": "2022-03-16T21:00:49.450Z"
   },
   {
    "duration": 28,
    "start_time": "2022-03-16T21:00:49.455Z"
   },
   {
    "duration": 5,
    "start_time": "2022-03-16T21:00:49.485Z"
   },
   {
    "duration": 9,
    "start_time": "2022-03-16T21:00:49.491Z"
   },
   {
    "duration": 6,
    "start_time": "2022-03-16T21:00:49.502Z"
   },
   {
    "duration": 10,
    "start_time": "2022-03-16T21:00:49.510Z"
   },
   {
    "duration": 311,
    "start_time": "2022-03-16T21:00:49.522Z"
   },
   {
    "duration": 268,
    "start_time": "2022-03-16T21:00:49.836Z"
   },
   {
    "duration": 287,
    "start_time": "2022-03-16T21:00:50.106Z"
   },
   {
    "duration": 646,
    "start_time": "2022-03-16T21:00:50.395Z"
   },
   {
    "duration": 70,
    "start_time": "2022-03-16T21:00:51.043Z"
   },
   {
    "duration": 12,
    "start_time": "2022-03-16T21:00:51.115Z"
   },
   {
    "duration": 8,
    "start_time": "2022-03-16T21:00:51.128Z"
   },
   {
    "duration": 5,
    "start_time": "2022-03-16T21:00:51.137Z"
   },
   {
    "duration": 5,
    "start_time": "2022-03-16T21:00:51.143Z"
   },
   {
    "duration": 31,
    "start_time": "2022-03-16T21:00:51.150Z"
   },
   {
    "duration": 102,
    "start_time": "2022-03-16T21:00:51.183Z"
   },
   {
    "duration": 794,
    "start_time": "2022-03-16T21:00:51.287Z"
   },
   {
    "duration": 64930,
    "start_time": "2022-03-16T21:00:52.084Z"
   },
   {
    "duration": -665,
    "start_time": "2022-03-16T21:01:57.681Z"
   },
   {
    "duration": -670,
    "start_time": "2022-03-16T21:01:57.687Z"
   },
   {
    "duration": 25910,
    "start_time": "2022-03-16T21:02:01.231Z"
   },
   {
    "duration": 3426,
    "start_time": "2022-03-16T21:02:34.699Z"
   },
   {
    "duration": 8,
    "start_time": "2022-03-16T21:03:31.444Z"
   },
   {
    "duration": 27,
    "start_time": "2022-03-16T21:03:50.905Z"
   },
   {
    "duration": 9,
    "start_time": "2022-03-16T21:04:06.852Z"
   },
   {
    "duration": 30,
    "start_time": "2022-03-16T21:05:03.189Z"
   },
   {
    "duration": 298,
    "start_time": "2022-03-16T21:05:34.994Z"
   },
   {
    "duration": 25,
    "start_time": "2022-03-16T21:05:55.684Z"
   },
   {
    "duration": 12,
    "start_time": "2022-03-16T21:06:01.887Z"
   },
   {
    "duration": 301,
    "start_time": "2022-03-16T21:06:26.013Z"
   },
   {
    "duration": 1085,
    "start_time": "2022-03-16T21:07:07.446Z"
   },
   {
    "duration": 12,
    "start_time": "2022-03-16T21:08:52.163Z"
   },
   {
    "duration": 292,
    "start_time": "2022-03-16T21:09:09.824Z"
   },
   {
    "duration": 11,
    "start_time": "2022-03-16T21:09:24.671Z"
   },
   {
    "duration": 7,
    "start_time": "2022-03-16T21:10:20.616Z"
   },
   {
    "duration": 8,
    "start_time": "2022-03-16T21:10:45.016Z"
   },
   {
    "duration": 12,
    "start_time": "2022-03-16T21:10:57.103Z"
   },
   {
    "duration": 12,
    "start_time": "2022-03-16T21:11:44.588Z"
   },
   {
    "duration": 1184,
    "start_time": "2022-03-16T21:11:49.788Z"
   },
   {
    "duration": 725,
    "start_time": "2022-03-16T21:11:50.974Z"
   },
   {
    "duration": 20,
    "start_time": "2022-03-16T21:11:51.702Z"
   },
   {
    "duration": 210,
    "start_time": "2022-03-16T21:11:51.724Z"
   },
   {
    "duration": 122,
    "start_time": "2022-03-16T21:11:51.936Z"
   },
   {
    "duration": 122,
    "start_time": "2022-03-16T21:11:52.060Z"
   },
   {
    "duration": 14,
    "start_time": "2022-03-16T21:11:52.183Z"
   },
   {
    "duration": 21,
    "start_time": "2022-03-16T21:11:52.198Z"
   },
   {
    "duration": 25,
    "start_time": "2022-03-16T21:11:52.221Z"
   },
   {
    "duration": 3,
    "start_time": "2022-03-16T21:11:52.248Z"
   },
   {
    "duration": 30,
    "start_time": "2022-03-16T21:11:52.252Z"
   },
   {
    "duration": 4,
    "start_time": "2022-03-16T21:11:52.284Z"
   },
   {
    "duration": 5,
    "start_time": "2022-03-16T21:11:52.290Z"
   },
   {
    "duration": 6,
    "start_time": "2022-03-16T21:11:52.297Z"
   },
   {
    "duration": 10,
    "start_time": "2022-03-16T21:11:52.305Z"
   },
   {
    "duration": 288,
    "start_time": "2022-03-16T21:11:52.317Z"
   },
   {
    "duration": 254,
    "start_time": "2022-03-16T21:11:52.607Z"
   },
   {
    "duration": 273,
    "start_time": "2022-03-16T21:11:52.862Z"
   },
   {
    "duration": 550,
    "start_time": "2022-03-16T21:11:53.136Z"
   },
   {
    "duration": -620,
    "start_time": "2022-03-16T21:11:54.308Z"
   },
   {
    "duration": -625,
    "start_time": "2022-03-16T21:11:54.314Z"
   },
   {
    "duration": -628,
    "start_time": "2022-03-16T21:11:54.318Z"
   },
   {
    "duration": -631,
    "start_time": "2022-03-16T21:11:54.322Z"
   },
   {
    "duration": -634,
    "start_time": "2022-03-16T21:11:54.326Z"
   },
   {
    "duration": -638,
    "start_time": "2022-03-16T21:11:54.330Z"
   },
   {
    "duration": -641,
    "start_time": "2022-03-16T21:11:54.334Z"
   },
   {
    "duration": -644,
    "start_time": "2022-03-16T21:11:54.338Z"
   },
   {
    "duration": -647,
    "start_time": "2022-03-16T21:11:54.342Z"
   },
   {
    "duration": -681,
    "start_time": "2022-03-16T21:11:54.376Z"
   },
   {
    "duration": -685,
    "start_time": "2022-03-16T21:11:54.381Z"
   },
   {
    "duration": 1113,
    "start_time": "2022-03-16T21:13:13.037Z"
   },
   {
    "duration": 741,
    "start_time": "2022-03-16T21:13:14.152Z"
   },
   {
    "duration": 220,
    "start_time": "2022-03-16T21:13:14.897Z"
   },
   {
    "duration": 121,
    "start_time": "2022-03-16T21:13:15.119Z"
   },
   {
    "duration": 116,
    "start_time": "2022-03-16T21:13:15.241Z"
   },
   {
    "duration": 26,
    "start_time": "2022-03-16T21:13:15.359Z"
   },
   {
    "duration": 22,
    "start_time": "2022-03-16T21:13:15.388Z"
   },
   {
    "duration": 25,
    "start_time": "2022-03-16T21:13:15.412Z"
   },
   {
    "duration": 3,
    "start_time": "2022-03-16T21:13:15.439Z"
   },
   {
    "duration": 10,
    "start_time": "2022-03-16T21:13:15.443Z"
   },
   {
    "duration": 7,
    "start_time": "2022-03-16T21:13:15.454Z"
   },
   {
    "duration": 22,
    "start_time": "2022-03-16T21:13:15.463Z"
   },
   {
    "duration": 6,
    "start_time": "2022-03-16T21:13:15.486Z"
   },
   {
    "duration": 11,
    "start_time": "2022-03-16T21:13:15.493Z"
   },
   {
    "duration": 268,
    "start_time": "2022-03-16T21:13:15.506Z"
   },
   {
    "duration": 257,
    "start_time": "2022-03-16T21:13:15.776Z"
   },
   {
    "duration": 288,
    "start_time": "2022-03-16T21:13:16.035Z"
   },
   {
    "duration": 596,
    "start_time": "2022-03-16T21:13:16.325Z"
   },
   {
    "duration": 60,
    "start_time": "2022-03-16T21:13:16.922Z"
   },
   {
    "duration": 11,
    "start_time": "2022-03-16T21:13:16.984Z"
   },
   {
    "duration": 7,
    "start_time": "2022-03-16T21:13:16.997Z"
   },
   {
    "duration": 5,
    "start_time": "2022-03-16T21:13:17.007Z"
   },
   {
    "duration": 5,
    "start_time": "2022-03-16T21:13:17.013Z"
   },
   {
    "duration": 9,
    "start_time": "2022-03-16T21:13:17.019Z"
   },
   {
    "duration": 254,
    "start_time": "2022-03-16T21:13:17.029Z"
   },
   {
    "duration": 796,
    "start_time": "2022-03-16T21:13:17.286Z"
   },
   {
    "duration": 5705,
    "start_time": "2022-03-16T21:13:18.084Z"
   },
   {
    "duration": -636,
    "start_time": "2022-03-16T21:13:24.427Z"
   },
   {
    "duration": -639,
    "start_time": "2022-03-16T21:13:24.431Z"
   },
   {
    "duration": 3550,
    "start_time": "2022-03-16T21:13:29.664Z"
   },
   {
    "duration": 9,
    "start_time": "2022-03-16T21:14:27.613Z"
   },
   {
    "duration": 6471,
    "start_time": "2022-03-16T21:14:32.761Z"
   },
   {
    "duration": 1126,
    "start_time": "2022-03-16T21:16:55.815Z"
   },
   {
    "duration": 701,
    "start_time": "2022-03-16T21:16:56.943Z"
   },
   {
    "duration": 210,
    "start_time": "2022-03-16T21:16:57.648Z"
   },
   {
    "duration": 123,
    "start_time": "2022-03-16T21:16:57.859Z"
   },
   {
    "duration": 123,
    "start_time": "2022-03-16T21:16:57.984Z"
   },
   {
    "duration": 13,
    "start_time": "2022-03-16T21:16:58.109Z"
   },
   {
    "duration": 12,
    "start_time": "2022-03-16T21:16:58.124Z"
   },
   {
    "duration": 25,
    "start_time": "2022-03-16T21:16:58.138Z"
   },
   {
    "duration": 3,
    "start_time": "2022-03-16T21:16:58.181Z"
   },
   {
    "duration": 5,
    "start_time": "2022-03-16T21:16:58.186Z"
   },
   {
    "duration": 5,
    "start_time": "2022-03-16T21:16:58.193Z"
   },
   {
    "duration": 11,
    "start_time": "2022-03-16T21:16:58.199Z"
   },
   {
    "duration": 6,
    "start_time": "2022-03-16T21:16:58.211Z"
   },
   {
    "duration": 7,
    "start_time": "2022-03-16T21:16:58.219Z"
   },
   {
    "duration": 289,
    "start_time": "2022-03-16T21:16:58.227Z"
   },
   {
    "duration": 264,
    "start_time": "2022-03-16T21:16:58.517Z"
   },
   {
    "duration": 272,
    "start_time": "2022-03-16T21:16:58.782Z"
   },
   {
    "duration": 637,
    "start_time": "2022-03-16T21:16:59.056Z"
   },
   {
    "duration": 63,
    "start_time": "2022-03-16T21:16:59.695Z"
   },
   {
    "duration": 23,
    "start_time": "2022-03-16T21:16:59.759Z"
   },
   {
    "duration": 9,
    "start_time": "2022-03-16T21:16:59.783Z"
   },
   {
    "duration": 3,
    "start_time": "2022-03-16T21:16:59.795Z"
   },
   {
    "duration": 7,
    "start_time": "2022-03-16T21:16:59.800Z"
   },
   {
    "duration": 12,
    "start_time": "2022-03-16T21:16:59.809Z"
   },
   {
    "duration": 258,
    "start_time": "2022-03-16T21:16:59.823Z"
   },
   {
    "duration": 901,
    "start_time": "2022-03-16T21:17:00.084Z"
   },
   {
    "duration": 2900,
    "start_time": "2022-03-16T21:17:00.987Z"
   },
   {
    "duration": -663,
    "start_time": "2022-03-16T21:17:04.552Z"
   },
   {
    "duration": -667,
    "start_time": "2022-03-16T21:17:04.557Z"
   },
   {
    "duration": 5704,
    "start_time": "2022-03-16T21:17:05.206Z"
   },
   {
    "duration": 1176,
    "start_time": "2022-03-16T21:19:17.458Z"
   },
   {
    "duration": 707,
    "start_time": "2022-03-16T21:19:18.635Z"
   },
   {
    "duration": 204,
    "start_time": "2022-03-16T21:19:19.344Z"
   },
   {
    "duration": 118,
    "start_time": "2022-03-16T21:19:19.550Z"
   },
   {
    "duration": 124,
    "start_time": "2022-03-16T21:19:19.669Z"
   },
   {
    "duration": 14,
    "start_time": "2022-03-16T21:19:19.794Z"
   },
   {
    "duration": 14,
    "start_time": "2022-03-16T21:19:19.810Z"
   },
   {
    "duration": 3,
    "start_time": "2022-03-16T21:19:19.826Z"
   },
   {
    "duration": 8,
    "start_time": "2022-03-16T21:19:19.831Z"
   },
   {
    "duration": 3,
    "start_time": "2022-03-16T21:19:19.841Z"
   },
   {
    "duration": 35,
    "start_time": "2022-03-16T21:19:19.846Z"
   },
   {
    "duration": 5,
    "start_time": "2022-03-16T21:19:19.882Z"
   },
   {
    "duration": 8,
    "start_time": "2022-03-16T21:19:19.889Z"
   },
   {
    "duration": 291,
    "start_time": "2022-03-16T21:19:19.899Z"
   },
   {
    "duration": 259,
    "start_time": "2022-03-16T21:19:20.192Z"
   },
   {
    "duration": 265,
    "start_time": "2022-03-16T21:19:20.452Z"
   },
   {
    "duration": 712,
    "start_time": "2022-03-16T21:19:20.719Z"
   },
   {
    "duration": 71,
    "start_time": "2022-03-16T21:19:21.433Z"
   },
   {
    "duration": 12,
    "start_time": "2022-03-16T21:19:21.505Z"
   },
   {
    "duration": 9,
    "start_time": "2022-03-16T21:19:21.519Z"
   },
   {
    "duration": 4,
    "start_time": "2022-03-16T21:19:21.530Z"
   },
   {
    "duration": 4,
    "start_time": "2022-03-16T21:19:21.536Z"
   },
   {
    "duration": 14,
    "start_time": "2022-03-16T21:19:21.543Z"
   },
   {
    "duration": 128,
    "start_time": "2022-03-16T21:19:21.559Z"
   },
   {
    "duration": 896,
    "start_time": "2022-03-16T21:19:21.689Z"
   },
   {
    "duration": 217646,
    "start_time": "2022-03-16T21:19:22.586Z"
   },
   {
    "duration": 25473,
    "start_time": "2022-03-16T21:23:00.234Z"
   },
   {
    "duration": 5730,
    "start_time": "2022-03-16T21:23:25.709Z"
   },
   {
    "duration": 693,
    "start_time": "2022-03-16T21:41:15.270Z"
   },
   {
    "duration": 42,
    "start_time": "2022-03-18T07:36:41.578Z"
   },
   {
    "duration": 1815,
    "start_time": "2022-03-18T07:36:46.307Z"
   },
   {
    "duration": 686,
    "start_time": "2022-03-18T07:36:48.124Z"
   },
   {
    "duration": 207,
    "start_time": "2022-03-18T07:36:48.812Z"
   },
   {
    "duration": 106,
    "start_time": "2022-03-18T07:36:49.021Z"
   },
   {
    "duration": 110,
    "start_time": "2022-03-18T07:36:49.128Z"
   },
   {
    "duration": 14,
    "start_time": "2022-03-18T07:36:49.240Z"
   },
   {
    "duration": 14,
    "start_time": "2022-03-18T07:36:49.255Z"
   },
   {
    "duration": 3,
    "start_time": "2022-03-18T07:36:49.271Z"
   },
   {
    "duration": 26,
    "start_time": "2022-03-18T07:36:49.276Z"
   },
   {
    "duration": 4,
    "start_time": "2022-03-18T07:36:49.304Z"
   },
   {
    "duration": 4,
    "start_time": "2022-03-18T07:36:49.309Z"
   },
   {
    "duration": 5,
    "start_time": "2022-03-18T07:36:49.315Z"
   },
   {
    "duration": 10,
    "start_time": "2022-03-18T07:36:49.321Z"
   },
   {
    "duration": 233,
    "start_time": "2022-03-18T07:36:49.332Z"
   },
   {
    "duration": 206,
    "start_time": "2022-03-18T07:36:49.566Z"
   },
   {
    "duration": 214,
    "start_time": "2022-03-18T07:36:49.773Z"
   },
   {
    "duration": 473,
    "start_time": "2022-03-18T07:36:49.989Z"
   },
   {
    "duration": 60,
    "start_time": "2022-03-18T07:36:50.464Z"
   },
   {
    "duration": 9,
    "start_time": "2022-03-18T07:36:50.526Z"
   },
   {
    "duration": 7,
    "start_time": "2022-03-18T07:36:50.537Z"
   },
   {
    "duration": 4,
    "start_time": "2022-03-18T07:36:50.545Z"
   },
   {
    "duration": 4,
    "start_time": "2022-03-18T07:36:50.550Z"
   },
   {
    "duration": 10,
    "start_time": "2022-03-18T07:36:50.555Z"
   },
   {
    "duration": 140,
    "start_time": "2022-03-18T07:36:50.566Z"
   },
   {
    "duration": 894,
    "start_time": "2022-03-18T07:36:50.708Z"
   },
   {
    "duration": 230612,
    "start_time": "2022-03-18T07:36:51.604Z"
   },
   {
    "duration": 27320,
    "start_time": "2022-03-18T07:40:42.217Z"
   },
   {
    "duration": 718,
    "start_time": "2022-03-18T07:41:09.539Z"
   },
   {
    "duration": 215,
    "start_time": "2022-03-18T07:54:37.145Z"
   },
   {
    "duration": 188,
    "start_time": "2022-03-18T07:54:49.591Z"
   },
   {
    "duration": 199,
    "start_time": "2022-03-18T07:55:08.035Z"
   },
   {
    "duration": 196,
    "start_time": "2022-03-18T07:55:18.083Z"
   },
   {
    "duration": 293,
    "start_time": "2022-03-18T07:55:24.797Z"
   },
   {
    "duration": 293,
    "start_time": "2022-03-18T07:55:33.983Z"
   },
   {
    "duration": 209,
    "start_time": "2022-03-18T07:55:46.355Z"
   },
   {
    "duration": 664,
    "start_time": "2022-03-18T07:57:36.865Z"
   },
   {
    "duration": 721,
    "start_time": "2022-03-18T07:57:42.715Z"
   },
   {
    "duration": 641,
    "start_time": "2022-03-18T07:58:03.043Z"
   },
   {
    "duration": 783,
    "start_time": "2022-03-18T07:58:26.015Z"
   },
   {
    "duration": 779,
    "start_time": "2022-03-18T07:58:31.396Z"
   },
   {
    "duration": 721,
    "start_time": "2022-03-18T07:58:40.603Z"
   },
   {
    "duration": 786,
    "start_time": "2022-03-18T07:58:56.503Z"
   },
   {
    "duration": 680,
    "start_time": "2022-03-18T07:59:17.025Z"
   },
   {
    "duration": 732,
    "start_time": "2022-03-18T07:59:48.614Z"
   },
   {
    "duration": 234,
    "start_time": "2022-03-18T08:00:10.944Z"
   },
   {
    "duration": 190,
    "start_time": "2022-03-18T08:00:18.294Z"
   },
   {
    "duration": 203,
    "start_time": "2022-03-18T08:00:30.715Z"
   },
   {
    "duration": 649,
    "start_time": "2022-03-18T08:00:55.255Z"
   },
   {
    "duration": 1612,
    "start_time": "2022-03-18T08:46:25.773Z"
   },
   {
    "duration": 720,
    "start_time": "2022-03-18T08:46:27.387Z"
   },
   {
    "duration": 206,
    "start_time": "2022-03-18T08:46:28.109Z"
   },
   {
    "duration": 116,
    "start_time": "2022-03-18T08:46:28.317Z"
   },
   {
    "duration": 118,
    "start_time": "2022-03-18T08:46:28.435Z"
   },
   {
    "duration": 15,
    "start_time": "2022-03-18T08:46:28.555Z"
   },
   {
    "duration": 9,
    "start_time": "2022-03-18T08:46:28.572Z"
   },
   {
    "duration": 4,
    "start_time": "2022-03-18T08:46:28.601Z"
   },
   {
    "duration": 12,
    "start_time": "2022-03-18T08:46:28.607Z"
   },
   {
    "duration": 4,
    "start_time": "2022-03-18T08:46:28.622Z"
   },
   {
    "duration": 5,
    "start_time": "2022-03-18T08:46:28.628Z"
   },
   {
    "duration": 8,
    "start_time": "2022-03-18T08:46:28.635Z"
   },
   {
    "duration": 9,
    "start_time": "2022-03-18T08:46:28.644Z"
   },
   {
    "duration": 806,
    "start_time": "2022-03-18T08:46:28.654Z"
   },
   {
    "duration": 659,
    "start_time": "2022-03-18T08:46:29.462Z"
   },
   {
    "duration": 786,
    "start_time": "2022-03-18T08:46:30.122Z"
   },
   {
    "duration": 411,
    "start_time": "2022-03-18T08:46:30.909Z"
   },
   {
    "duration": 52,
    "start_time": "2022-03-18T08:46:31.322Z"
   },
   {
    "duration": 26,
    "start_time": "2022-03-18T08:46:31.375Z"
   },
   {
    "duration": 9,
    "start_time": "2022-03-18T08:46:31.403Z"
   },
   {
    "duration": 4,
    "start_time": "2022-03-18T08:46:31.413Z"
   },
   {
    "duration": 3,
    "start_time": "2022-03-18T08:46:31.419Z"
   },
   {
    "duration": 8,
    "start_time": "2022-03-18T08:46:31.424Z"
   },
   {
    "duration": 268,
    "start_time": "2022-03-18T08:46:31.433Z"
   },
   {
    "duration": 999,
    "start_time": "2022-03-18T08:46:31.703Z"
   },
   {
    "duration": 324473,
    "start_time": "2022-03-18T08:46:32.704Z"
   },
   {
    "duration": 35570,
    "start_time": "2022-03-18T08:51:57.179Z"
   },
   {
    "duration": 865,
    "start_time": "2022-03-18T08:52:32.752Z"
   },
   {
    "duration": 1634,
    "start_time": "2022-03-18T08:53:32.012Z"
   },
   {
    "duration": 714,
    "start_time": "2022-03-18T08:53:33.648Z"
   },
   {
    "duration": 192,
    "start_time": "2022-03-18T08:53:34.363Z"
   },
   {
    "duration": 110,
    "start_time": "2022-03-18T08:53:34.557Z"
   },
   {
    "duration": 109,
    "start_time": "2022-03-18T08:53:34.669Z"
   },
   {
    "duration": 23,
    "start_time": "2022-03-18T08:53:34.779Z"
   },
   {
    "duration": 9,
    "start_time": "2022-03-18T08:53:34.804Z"
   },
   {
    "duration": 3,
    "start_time": "2022-03-18T08:53:34.815Z"
   },
   {
    "duration": 10,
    "start_time": "2022-03-18T08:53:34.819Z"
   },
   {
    "duration": 4,
    "start_time": "2022-03-18T08:53:34.831Z"
   },
   {
    "duration": 4,
    "start_time": "2022-03-18T08:53:34.837Z"
   },
   {
    "duration": 8,
    "start_time": "2022-03-18T08:53:34.843Z"
   },
   {
    "duration": 10,
    "start_time": "2022-03-18T08:53:34.852Z"
   },
   {
    "duration": 807,
    "start_time": "2022-03-18T08:53:34.863Z"
   },
   {
    "duration": 701,
    "start_time": "2022-03-18T08:53:35.671Z"
   },
   {
    "duration": 811,
    "start_time": "2022-03-18T08:53:36.373Z"
   },
   {
    "duration": 399,
    "start_time": "2022-03-18T08:53:37.185Z"
   },
   {
    "duration": 64,
    "start_time": "2022-03-18T08:53:37.585Z"
   },
   {
    "duration": 10,
    "start_time": "2022-03-18T08:53:37.651Z"
   },
   {
    "duration": 8,
    "start_time": "2022-03-18T08:53:37.662Z"
   },
   {
    "duration": 3,
    "start_time": "2022-03-18T08:53:37.672Z"
   },
   {
    "duration": 24,
    "start_time": "2022-03-18T08:53:37.677Z"
   },
   {
    "duration": 11,
    "start_time": "2022-03-18T08:53:37.702Z"
   },
   {
    "duration": 186,
    "start_time": "2022-03-18T08:53:37.715Z"
   },
   {
    "duration": 804,
    "start_time": "2022-03-18T08:53:37.904Z"
   },
   {
    "duration": 303531,
    "start_time": "2022-03-18T08:53:38.710Z"
   },
   {
    "duration": 36010,
    "start_time": "2022-03-18T08:58:42.242Z"
   },
   {
    "duration": 828,
    "start_time": "2022-03-18T08:59:18.255Z"
   },
   {
    "duration": 5563,
    "start_time": "2022-03-18T09:02:21.454Z"
   },
   {
    "duration": 5,
    "start_time": "2022-03-18T09:04:43.254Z"
   },
   {
    "duration": 7,
    "start_time": "2022-03-18T09:06:35.002Z"
   },
   {
    "duration": 8,
    "start_time": "2022-03-18T09:06:56.542Z"
   },
   {
    "duration": 7,
    "start_time": "2022-03-18T09:08:06.280Z"
   },
   {
    "duration": 7,
    "start_time": "2022-03-18T09:08:14.794Z"
   },
   {
    "duration": 12,
    "start_time": "2022-03-18T09:09:02.574Z"
   },
   {
    "duration": 1578,
    "start_time": "2022-03-18T09:11:26.248Z"
   },
   {
    "duration": 713,
    "start_time": "2022-03-18T09:11:27.827Z"
   },
   {
    "duration": 204,
    "start_time": "2022-03-18T09:11:28.542Z"
   },
   {
    "duration": 114,
    "start_time": "2022-03-18T09:11:28.749Z"
   },
   {
    "duration": 105,
    "start_time": "2022-03-18T09:11:28.865Z"
   },
   {
    "duration": 15,
    "start_time": "2022-03-18T09:11:28.972Z"
   },
   {
    "duration": 20,
    "start_time": "2022-03-18T09:11:28.988Z"
   },
   {
    "duration": 3,
    "start_time": "2022-03-18T09:11:29.010Z"
   },
   {
    "duration": 11,
    "start_time": "2022-03-18T09:11:29.014Z"
   },
   {
    "duration": 4,
    "start_time": "2022-03-18T09:11:29.028Z"
   },
   {
    "duration": 4,
    "start_time": "2022-03-18T09:11:29.034Z"
   },
   {
    "duration": 5,
    "start_time": "2022-03-18T09:11:29.040Z"
   },
   {
    "duration": 9,
    "start_time": "2022-03-18T09:11:29.047Z"
   },
   {
    "duration": 825,
    "start_time": "2022-03-18T09:11:29.057Z"
   },
   {
    "duration": 678,
    "start_time": "2022-03-18T09:11:29.884Z"
   },
   {
    "duration": 877,
    "start_time": "2022-03-18T09:11:30.563Z"
   },
   {
    "duration": 404,
    "start_time": "2022-03-18T09:11:31.443Z"
   },
   {
    "duration": 60,
    "start_time": "2022-03-18T09:11:31.848Z"
   },
   {
    "duration": 10,
    "start_time": "2022-03-18T09:11:31.910Z"
   },
   {
    "duration": 25,
    "start_time": "2022-03-18T09:11:31.921Z"
   },
   {
    "duration": 11,
    "start_time": "2022-03-18T09:11:31.947Z"
   },
   {
    "duration": 21,
    "start_time": "2022-03-18T09:11:31.959Z"
   },
   {
    "duration": 10,
    "start_time": "2022-03-18T09:11:31.981Z"
   },
   {
    "duration": 117,
    "start_time": "2022-03-18T09:11:31.993Z"
   },
   {
    "duration": 901,
    "start_time": "2022-03-18T09:11:32.202Z"
   },
   {
    "duration": 309176,
    "start_time": "2022-03-18T09:11:33.104Z"
   },
   {
    "duration": 35730,
    "start_time": "2022-03-18T09:16:42.282Z"
   },
   {
    "duration": 5735,
    "start_time": "2022-03-18T09:17:18.017Z"
   },
   {
    "duration": 12,
    "start_time": "2022-03-18T09:17:23.754Z"
   },
   {
    "duration": 5725,
    "start_time": "2022-03-18T09:18:06.417Z"
   },
   {
    "duration": 1958,
    "start_time": "2022-03-18T09:19:07.445Z"
   },
   {
    "duration": 698,
    "start_time": "2022-03-18T09:19:09.404Z"
   },
   {
    "duration": 188,
    "start_time": "2022-03-18T09:19:10.103Z"
   },
   {
    "duration": 109,
    "start_time": "2022-03-18T09:19:10.293Z"
   },
   {
    "duration": 108,
    "start_time": "2022-03-18T09:19:10.404Z"
   },
   {
    "duration": 15,
    "start_time": "2022-03-18T09:19:10.513Z"
   },
   {
    "duration": 9,
    "start_time": "2022-03-18T09:19:10.529Z"
   },
   {
    "duration": 3,
    "start_time": "2022-03-18T09:19:10.539Z"
   },
   {
    "duration": 11,
    "start_time": "2022-03-18T09:19:10.544Z"
   },
   {
    "duration": 4,
    "start_time": "2022-03-18T09:19:10.556Z"
   },
   {
    "duration": 6,
    "start_time": "2022-03-18T09:19:10.561Z"
   },
   {
    "duration": 34,
    "start_time": "2022-03-18T09:19:10.568Z"
   },
   {
    "duration": 8,
    "start_time": "2022-03-18T09:19:10.603Z"
   },
   {
    "duration": 793,
    "start_time": "2022-03-18T09:19:10.614Z"
   },
   {
    "duration": 681,
    "start_time": "2022-03-18T09:19:11.409Z"
   },
   {
    "duration": 785,
    "start_time": "2022-03-18T09:19:12.091Z"
   },
   {
    "duration": 404,
    "start_time": "2022-03-18T09:19:12.878Z"
   },
   {
    "duration": 60,
    "start_time": "2022-03-18T09:19:13.284Z"
   },
   {
    "duration": 10,
    "start_time": "2022-03-18T09:19:13.345Z"
   },
   {
    "duration": 7,
    "start_time": "2022-03-18T09:19:13.357Z"
   },
   {
    "duration": 4,
    "start_time": "2022-03-18T09:19:13.365Z"
   },
   {
    "duration": 3,
    "start_time": "2022-03-18T09:19:13.370Z"
   },
   {
    "duration": 28,
    "start_time": "2022-03-18T09:19:13.375Z"
   },
   {
    "duration": 205,
    "start_time": "2022-03-18T09:19:13.405Z"
   },
   {
    "duration": 1307,
    "start_time": "2022-03-18T09:19:13.702Z"
   },
   {
    "duration": 503039,
    "start_time": "2022-03-18T09:19:15.011Z"
   },
   {
    "duration": 60458,
    "start_time": "2022-03-18T09:27:38.052Z"
   },
   {
    "duration": 5742,
    "start_time": "2022-03-18T09:28:38.512Z"
   },
   {
    "duration": 12,
    "start_time": "2022-03-18T09:28:44.256Z"
   },
   {
    "duration": 1892,
    "start_time": "2022-03-18T09:34:29.239Z"
   },
   {
    "duration": 1855,
    "start_time": "2022-03-18T09:45:46.829Z"
   },
   {
    "duration": 1842,
    "start_time": "2022-03-18T09:45:52.501Z"
   },
   {
    "duration": 1866,
    "start_time": "2022-03-18T09:45:58.570Z"
   },
   {
    "duration": 36,
    "start_time": "2022-06-01T11:13:02.126Z"
   },
   {
    "duration": 1304,
    "start_time": "2022-06-01T11:17:58.810Z"
   },
   {
    "duration": 3053,
    "start_time": "2022-06-01T11:18:00.116Z"
   },
   {
    "duration": 233,
    "start_time": "2022-06-01T11:18:03.170Z"
   },
   {
    "duration": 138,
    "start_time": "2022-06-01T11:18:03.405Z"
   },
   {
    "duration": 134,
    "start_time": "2022-06-01T11:18:03.544Z"
   },
   {
    "duration": 14,
    "start_time": "2022-06-01T11:18:03.680Z"
   },
   {
    "duration": 10,
    "start_time": "2022-06-01T11:18:03.696Z"
   },
   {
    "duration": 19,
    "start_time": "2022-06-01T11:18:03.708Z"
   },
   {
    "duration": 6,
    "start_time": "2022-06-01T11:18:03.729Z"
   },
   {
    "duration": 18,
    "start_time": "2022-06-01T11:18:03.737Z"
   },
   {
    "duration": 9,
    "start_time": "2022-06-01T11:18:03.757Z"
   },
   {
    "duration": 17,
    "start_time": "2022-06-01T11:18:03.767Z"
   },
   {
    "duration": 13,
    "start_time": "2022-06-01T11:18:03.786Z"
   },
   {
    "duration": 797,
    "start_time": "2022-06-01T11:18:03.802Z"
   },
   {
    "duration": 854,
    "start_time": "2022-06-01T11:18:04.601Z"
   },
   {
    "duration": 775,
    "start_time": "2022-06-01T11:18:05.456Z"
   },
   {
    "duration": 580,
    "start_time": "2022-06-01T11:18:06.233Z"
   },
   {
    "duration": 62,
    "start_time": "2022-06-01T11:18:06.815Z"
   },
   {
    "duration": 11,
    "start_time": "2022-06-01T11:18:06.878Z"
   },
   {
    "duration": 13,
    "start_time": "2022-06-01T11:18:06.891Z"
   },
   {
    "duration": 5,
    "start_time": "2022-06-01T11:18:06.905Z"
   },
   {
    "duration": 3,
    "start_time": "2022-06-01T11:18:06.927Z"
   },
   {
    "duration": 12,
    "start_time": "2022-06-01T11:18:06.931Z"
   },
   {
    "duration": 385,
    "start_time": "2022-06-01T11:18:06.944Z"
   },
   {
    "duration": 1097,
    "start_time": "2022-06-01T11:18:07.332Z"
   },
   {
    "duration": 537474,
    "start_time": "2022-06-01T11:18:08.431Z"
   },
   {
    "duration": 64155,
    "start_time": "2022-06-01T11:27:05.907Z"
   },
   {
    "duration": 2082,
    "start_time": "2022-06-01T11:28:10.064Z"
   },
   {
    "duration": 15,
    "start_time": "2022-06-01T11:28:12.148Z"
   }
  ],
  "kernelspec": {
   "display_name": "Python 3 (ipykernel)",
   "language": "python",
   "name": "python3"
  },
  "language_info": {
   "codemirror_mode": {
    "name": "ipython",
    "version": 3
   },
   "file_extension": ".py",
   "mimetype": "text/x-python",
   "name": "python",
   "nbconvert_exporter": "python",
   "pygments_lexer": "ipython3",
   "version": "3.9.7"
  },
  "toc": {
   "base_numbering": 1,
   "nav_menu": {},
   "number_sections": true,
   "sideBar": true,
   "skip_h1_title": true,
   "title_cell": "Содержание",
   "title_sidebar": "Contents",
   "toc_cell": true,
   "toc_position": {
    "height": "calc(100% - 180px)",
    "left": "10px",
    "top": "150px",
    "width": "197.6px"
   },
   "toc_section_display": true,
   "toc_window_display": false
  }
 },
 "nbformat": 4,
 "nbformat_minor": 2
}
