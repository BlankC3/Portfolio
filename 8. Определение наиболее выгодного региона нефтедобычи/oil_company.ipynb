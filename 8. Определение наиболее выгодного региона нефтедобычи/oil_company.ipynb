{
 "cells": [
  {
   "cell_type": "markdown",
   "metadata": {},
   "source": [
    "# Выбор локации для скважины"
   ]
  },
  {
   "cell_type": "markdown",
   "metadata": {},
   "source": [
    "Допустим, вы работаете в добывающей компании «ГлавРосГосНефть». Нужно решить, где бурить новую скважину.\n",
    "\n",
    "Вам предоставлены пробы нефти в трёх регионах: в каждом 10 000 месторождений, где измерили качество нефти и объём её запасов. Постройте модель машинного обучения, которая поможет определить регион, где добыча принесёт наибольшую прибыль. Проанализируйте возможную прибыль и риски техникой *Bootstrap.*\n",
    "\n",
    "Шаги для выбора локации:\n",
    "\n",
    "- В избранном регионе ищут месторождения, для каждого определяют значения признаков;\n",
    "- Строят модель и оценивают объём запасов;\n",
    "- Выбирают месторождения с самым высокими оценками значений. Количество месторождений зависит от бюджета компании и стоимости разработки одной скважины;\n",
    "- Прибыль равна суммарной прибыли отобранных месторождений."
   ]
  },
  {
   "cell_type": "markdown",
   "metadata": {},
   "source": [
    "Описание данных: <br>\n",
    "\n",
    "Данные геологоразведки трёх регионов находятся в файлах: <br>\n",
    "* /datasets/geo_data_0.csv, <br>\n",
    "* /datasets/geo_data_1.csv, <br>\n",
    "* /datasets/geo_data_2.csv. <br>\n",
    "* id — уникальный идентификатор скважины; <br>\n",
    "* f0, f1, f2 — три признака точек (неважно, что они означают, но сами признаки значимы); <br>\n",
    "* product — объём запасов в скважине (тыс. баррелей). <br>"
   ]
  },
  {
   "cell_type": "markdown",
   "metadata": {},
   "source": [
    "## Загрузка и подготовка данных"
   ]
  },
  {
   "cell_type": "markdown",
   "metadata": {},
   "source": [
    "Во-первых, сделаем import необходимых библиотек. "
   ]
  },
  {
   "cell_type": "code",
   "execution_count": 1,
   "metadata": {},
   "outputs": [],
   "source": [
    "from sklearn.linear_model import LinearRegression\n",
    "from math import sqrt\n",
    "import pandas as pd\n",
    "import numpy as np\n",
    "from sklearn.metrics import mean_squared_error\n",
    "from sklearn.model_selection import train_test_split\n",
    "import seaborn as sns\n",
    "import matplotlib.pyplot as plt\n",
    "from collections import defaultdict"
   ]
  },
  {
   "cell_type": "markdown",
   "metadata": {},
   "source": [
    "Далее - считаем данные."
   ]
  },
  {
   "cell_type": "code",
   "execution_count": 2,
   "metadata": {},
   "outputs": [],
   "source": [
    "data1 = pd.read_csv('/datasets/geo_data_0.csv', index_col = 'id')\n",
    "data2 = pd.read_csv('/datasets/geo_data_1.csv', index_col = 'id')\n",
    "data3 = pd.read_csv('/datasets/geo_data_2.csv', index_col = 'id')"
   ]
  },
  {
   "cell_type": "markdown",
   "metadata": {},
   "source": [
    "Изучим их."
   ]
  },
  {
   "cell_type": "code",
   "execution_count": 3,
   "metadata": {},
   "outputs": [
    {
     "data": {
      "text/html": [
       "<div>\n",
       "<style scoped>\n",
       "    .dataframe tbody tr th:only-of-type {\n",
       "        vertical-align: middle;\n",
       "    }\n",
       "\n",
       "    .dataframe tbody tr th {\n",
       "        vertical-align: top;\n",
       "    }\n",
       "\n",
       "    .dataframe thead th {\n",
       "        text-align: right;\n",
       "    }\n",
       "</style>\n",
       "<table border=\"1\" class=\"dataframe\">\n",
       "  <thead>\n",
       "    <tr style=\"text-align: right;\">\n",
       "      <th></th>\n",
       "      <th>f0</th>\n",
       "      <th>f1</th>\n",
       "      <th>f2</th>\n",
       "      <th>product</th>\n",
       "    </tr>\n",
       "  </thead>\n",
       "  <tbody>\n",
       "    <tr>\n",
       "      <th>count</th>\n",
       "      <td>100000.000000</td>\n",
       "      <td>100000.000000</td>\n",
       "      <td>100000.000000</td>\n",
       "      <td>100000.000000</td>\n",
       "    </tr>\n",
       "    <tr>\n",
       "      <th>mean</th>\n",
       "      <td>0.500419</td>\n",
       "      <td>0.250143</td>\n",
       "      <td>2.502647</td>\n",
       "      <td>92.500000</td>\n",
       "    </tr>\n",
       "    <tr>\n",
       "      <th>std</th>\n",
       "      <td>0.871832</td>\n",
       "      <td>0.504433</td>\n",
       "      <td>3.248248</td>\n",
       "      <td>44.288691</td>\n",
       "    </tr>\n",
       "    <tr>\n",
       "      <th>min</th>\n",
       "      <td>-1.408605</td>\n",
       "      <td>-0.848218</td>\n",
       "      <td>-12.088328</td>\n",
       "      <td>0.000000</td>\n",
       "    </tr>\n",
       "    <tr>\n",
       "      <th>25%</th>\n",
       "      <td>-0.072580</td>\n",
       "      <td>-0.200881</td>\n",
       "      <td>0.287748</td>\n",
       "      <td>56.497507</td>\n",
       "    </tr>\n",
       "    <tr>\n",
       "      <th>50%</th>\n",
       "      <td>0.502360</td>\n",
       "      <td>0.250252</td>\n",
       "      <td>2.515969</td>\n",
       "      <td>91.849972</td>\n",
       "    </tr>\n",
       "    <tr>\n",
       "      <th>75%</th>\n",
       "      <td>1.073581</td>\n",
       "      <td>0.700646</td>\n",
       "      <td>4.715088</td>\n",
       "      <td>128.564089</td>\n",
       "    </tr>\n",
       "    <tr>\n",
       "      <th>max</th>\n",
       "      <td>2.362331</td>\n",
       "      <td>1.343769</td>\n",
       "      <td>16.003790</td>\n",
       "      <td>185.364347</td>\n",
       "    </tr>\n",
       "  </tbody>\n",
       "</table>\n",
       "</div>"
      ],
      "text/plain": [
       "                  f0             f1             f2        product\n",
       "count  100000.000000  100000.000000  100000.000000  100000.000000\n",
       "mean        0.500419       0.250143       2.502647      92.500000\n",
       "std         0.871832       0.504433       3.248248      44.288691\n",
       "min        -1.408605      -0.848218     -12.088328       0.000000\n",
       "25%        -0.072580      -0.200881       0.287748      56.497507\n",
       "50%         0.502360       0.250252       2.515969      91.849972\n",
       "75%         1.073581       0.700646       4.715088     128.564089\n",
       "max         2.362331       1.343769      16.003790     185.364347"
      ]
     },
     "execution_count": 3,
     "metadata": {},
     "output_type": "execute_result"
    }
   ],
   "source": [
    "data1.describe()"
   ]
  },
  {
   "cell_type": "code",
   "execution_count": 4,
   "metadata": {},
   "outputs": [
    {
     "data": {
      "text/html": [
       "<div>\n",
       "<style scoped>\n",
       "    .dataframe tbody tr th:only-of-type {\n",
       "        vertical-align: middle;\n",
       "    }\n",
       "\n",
       "    .dataframe tbody tr th {\n",
       "        vertical-align: top;\n",
       "    }\n",
       "\n",
       "    .dataframe thead th {\n",
       "        text-align: right;\n",
       "    }\n",
       "</style>\n",
       "<table border=\"1\" class=\"dataframe\">\n",
       "  <thead>\n",
       "    <tr style=\"text-align: right;\">\n",
       "      <th></th>\n",
       "      <th>f0</th>\n",
       "      <th>f1</th>\n",
       "      <th>f2</th>\n",
       "      <th>product</th>\n",
       "    </tr>\n",
       "    <tr>\n",
       "      <th>id</th>\n",
       "      <th></th>\n",
       "      <th></th>\n",
       "      <th></th>\n",
       "      <th></th>\n",
       "    </tr>\n",
       "  </thead>\n",
       "  <tbody>\n",
       "    <tr>\n",
       "      <th>kBEdx</th>\n",
       "      <td>-15.001348</td>\n",
       "      <td>-8.276000</td>\n",
       "      <td>-0.005876</td>\n",
       "      <td>3.179103</td>\n",
       "    </tr>\n",
       "    <tr>\n",
       "      <th>62mP7</th>\n",
       "      <td>14.272088</td>\n",
       "      <td>-3.475083</td>\n",
       "      <td>0.999183</td>\n",
       "      <td>26.953261</td>\n",
       "    </tr>\n",
       "    <tr>\n",
       "      <th>vyE1P</th>\n",
       "      <td>6.263187</td>\n",
       "      <td>-5.948386</td>\n",
       "      <td>5.001160</td>\n",
       "      <td>134.766305</td>\n",
       "    </tr>\n",
       "    <tr>\n",
       "      <th>KcrkZ</th>\n",
       "      <td>-13.081196</td>\n",
       "      <td>-11.506057</td>\n",
       "      <td>4.999415</td>\n",
       "      <td>137.945408</td>\n",
       "    </tr>\n",
       "    <tr>\n",
       "      <th>AHL4O</th>\n",
       "      <td>12.702195</td>\n",
       "      <td>-8.147433</td>\n",
       "      <td>5.004363</td>\n",
       "      <td>134.766305</td>\n",
       "    </tr>\n",
       "  </tbody>\n",
       "</table>\n",
       "</div>"
      ],
      "text/plain": [
       "              f0         f1        f2     product\n",
       "id                                               \n",
       "kBEdx -15.001348  -8.276000 -0.005876    3.179103\n",
       "62mP7  14.272088  -3.475083  0.999183   26.953261\n",
       "vyE1P   6.263187  -5.948386  5.001160  134.766305\n",
       "KcrkZ -13.081196 -11.506057  4.999415  137.945408\n",
       "AHL4O  12.702195  -8.147433  5.004363  134.766305"
      ]
     },
     "execution_count": 4,
     "metadata": {},
     "output_type": "execute_result"
    }
   ],
   "source": [
    "data2.head()"
   ]
  },
  {
   "cell_type": "markdown",
   "metadata": {},
   "source": [
    "Далее идёт вывод из анализа pandas-profiling, к сожалению, стабилизировать его работу не смог, поэтому удалил соответствующие ячейки.<br>\n",
    "\n",
    "Забавно, что во втором и третьем регионе f2 и product практически полностью скоррелированы.<br>\n",
    "\n",
    "Также довольно любопытны значения f0, f1 и f2. Насколько я понимаю, эти признаки уже отмасштабированы. <br>"
   ]
  },
  {
   "cell_type": "markdown",
   "metadata": {},
   "source": [
    "Напишем функцию и разделим признаки во всех датасетах."
   ]
  },
  {
   "cell_type": "code",
   "execution_count": 5,
   "metadata": {},
   "outputs": [],
   "source": [
    "def ft(data): \n",
    "    target = data['product']\n",
    "    features = data.drop('product', axis = 1)\n",
    "    features_train, features_valid, target_train, target_valid = train_test_split(\n",
    "        features, target, test_size=0.25, random_state = 12345)\n",
    "    return features_train, features_valid, target_train, target_valid"
   ]
  },
  {
   "cell_type": "code",
   "execution_count": 6,
   "metadata": {},
   "outputs": [],
   "source": [
    "features_train1, features_valid1, target_train1, target_valid1 = ft(data1) \n",
    "features_train2, features_valid2, target_train2, target_valid2 = ft(data2)\n",
    "features_train3, features_valid3, target_train3, target_valid3 = ft(data3) "
   ]
  },
  {
   "cell_type": "markdown",
   "metadata": {},
   "source": [
    "Проверим на всякий случай разбиение."
   ]
  },
  {
   "cell_type": "code",
   "execution_count": 7,
   "metadata": {},
   "outputs": [
    {
     "name": "stdout",
     "output_type": "stream",
     "text": [
      "Обучающая выборка: (75000, 3) (75000,)\n",
      "Валидационная выборка: (25000, 3) (25000,)\n"
     ]
    }
   ],
   "source": [
    "print(\"Обучающая выборка:\", features_train1.shape, target_train1.shape)\n",
    "print(\"Валидационная выборка:\", features_valid1.shape, target_valid1.shape)"
   ]
  },
  {
   "cell_type": "markdown",
   "metadata": {},
   "source": [
    "## Обучение и проверка модели"
   ]
  },
  {
   "cell_type": "markdown",
   "metadata": {},
   "source": [
    "Ох, оказывается разбивать данные нужно было на этом шаге, но да ладно. Переходим сразу к модели и предсказаниям."
   ]
  },
  {
   "cell_type": "code",
   "execution_count": 8,
   "metadata": {},
   "outputs": [],
   "source": [
    "def models(features_train, target_train, features_valid):\n",
    "    model = LinearRegression().fit(features_train, target_train)\n",
    "    predicted_valid = model.predict(features_valid)\n",
    "    return model, predicted_valid"
   ]
  },
  {
   "cell_type": "code",
   "execution_count": 9,
   "metadata": {},
   "outputs": [],
   "source": [
    "model1, predicted_valid1 = models(features_train1, target_train1, features_valid1)\n",
    "model2, predicted_valid2 = models(features_train2, target_train2, features_valid2)\n",
    "model3, predicted_valid3 = models(features_train3, target_train3, features_valid3)"
   ]
  },
  {
   "cell_type": "markdown",
   "metadata": {},
   "source": [
    "Рассчитаем средний запас предсказанного сырья и RMSE модели."
   ]
  },
  {
   "cell_type": "code",
   "execution_count": 10,
   "metadata": {},
   "outputs": [],
   "source": [
    "summary = defaultdict(list) #словарь для итоговой таблицы"
   ]
  },
  {
   "cell_type": "code",
   "execution_count": 11,
   "metadata": {},
   "outputs": [],
   "source": [
    "summary['mean'].append(predicted_valid1.mean())\n",
    "summary['mean'].append(predicted_valid2.mean())\n",
    "summary['mean'].append(predicted_valid3.mean())"
   ]
  },
  {
   "cell_type": "code",
   "execution_count": 12,
   "metadata": {},
   "outputs": [],
   "source": [
    "summary['rmse'].append(sqrt(mean_squared_error(target_valid1, predicted_valid1)))\n",
    "summary['rmse'].append(sqrt(mean_squared_error(target_valid2, predicted_valid2)))\n",
    "summary['rmse'].append(sqrt(mean_squared_error(target_valid3, predicted_valid3)))"
   ]
  },
  {
   "cell_type": "code",
   "execution_count": 13,
   "metadata": {},
   "outputs": [
    {
     "data": {
      "text/html": [
       "<div>\n",
       "<style scoped>\n",
       "    .dataframe tbody tr th:only-of-type {\n",
       "        vertical-align: middle;\n",
       "    }\n",
       "\n",
       "    .dataframe tbody tr th {\n",
       "        vertical-align: top;\n",
       "    }\n",
       "\n",
       "    .dataframe thead th {\n",
       "        text-align: right;\n",
       "    }\n",
       "</style>\n",
       "<table border=\"1\" class=\"dataframe\">\n",
       "  <thead>\n",
       "    <tr style=\"text-align: right;\">\n",
       "      <th></th>\n",
       "      <th>mean</th>\n",
       "      <th>rmse</th>\n",
       "    </tr>\n",
       "  </thead>\n",
       "  <tbody>\n",
       "    <tr>\n",
       "      <th>region1</th>\n",
       "      <td>92.592568</td>\n",
       "      <td>37.579422</td>\n",
       "    </tr>\n",
       "    <tr>\n",
       "      <th>region2</th>\n",
       "      <td>68.728547</td>\n",
       "      <td>0.893099</td>\n",
       "    </tr>\n",
       "    <tr>\n",
       "      <th>region3</th>\n",
       "      <td>94.965046</td>\n",
       "      <td>40.029709</td>\n",
       "    </tr>\n",
       "  </tbody>\n",
       "</table>\n",
       "</div>"
      ],
      "text/plain": [
       "              mean       rmse\n",
       "region1  92.592568  37.579422\n",
       "region2  68.728547   0.893099\n",
       "region3  94.965046  40.029709"
      ]
     },
     "execution_count": 13,
     "metadata": {},
     "output_type": "execute_result"
    }
   ],
   "source": [
    "df_summary = pd.DataFrame(summary, index = ['region1', 'region2', 'region3'])\n",
    "df_summary.head()"
   ]
  },
  {
   "cell_type": "markdown",
   "metadata": {},
   "source": [
    "## Подготовка к расчёту прибыли"
   ]
  },
  {
   "cell_type": "markdown",
   "metadata": {},
   "source": [
    "Сохраним в отдельные переменные все ключевые значения для расчётов."
   ]
  },
  {
   "cell_type": "code",
   "execution_count": 14,
   "metadata": {},
   "outputs": [],
   "source": [
    "revenue_per_product = 450000  # 450 тысяч рублей минус НДС\n",
    "budget = 10000000000 # бюджет на разработку региона\n",
    "count = 200 # максимальное количество используемых скважин\n",
    "max_count = 500 # исследуемое количество используемых скважин"
   ]
  },
  {
   "cell_type": "markdown",
   "metadata": {},
   "source": [
    "Рассчитаем достаточный объём сырья для безубыточной разработки новой скважины."
   ]
  },
  {
   "cell_type": "code",
   "execution_count": 15,
   "metadata": {},
   "outputs": [
    {
     "name": "stdout",
     "output_type": "stream",
     "text": [
      "Необходимое количество продукции для покрытия затрат: 22223\n",
      "Необходимое среднее количество продукта в скважине: 111.115\n"
     ]
    }
   ],
   "source": [
    "product_req = (budget // revenue_per_product) + 1 # общее необходимое количество единиц продукции c региона\n",
    "print(\"Необходимое количество продукции для покрытия затрат:\", product_req)\n",
    "product_per_point = product_req / count # средне необходимое количество единиц продукции cо скважины\n",
    "print(\"Необходимое среднее количество продукта в скважине:\", product_per_point)"
   ]
  },
  {
   "cell_type": "markdown",
   "metadata": {},
   "source": [
    "## Расчёт прибыли и рисков "
   ]
  },
  {
   "cell_type": "markdown",
   "metadata": {},
   "source": [
    "Напишием функцию для расчёта прибыли по выбранным скважинам и предсказаниям модели:\n",
    "1) Выберем скважины с максимальными значениями предсказаний. <br>\n",
    "2) Просуммируем целевое значение объёма сырья, соответствующее этим предсказаниям. <br>\n",
    "3) Рассчитаем прибыль для полученного объёма сырья. <br>"
   ]
  },
  {
   "cell_type": "code",
   "execution_count": 16,
   "metadata": {},
   "outputs": [],
   "source": [
    "def profit(probs, target, count):\n",
    "    probs_sorted = probs.sort_values(ascending=False)\n",
    "    selected = target[probs_sorted.index][:count]\n",
    "    return (selected.sum() * revenue_per_product) - budget"
   ]
  },
  {
   "cell_type": "markdown",
   "metadata": {},
   "source": [
    "Посчитаем риски и прибыль для каждого региона: <br>\n",
    "Применим технику Bootstrap с 1000 выборок, чтобы найти распределение прибыли. <br>\n",
    "\n",
    "Для начала напишем функцию для bootstrap."
   ]
  },
  {
   "cell_type": "code",
   "execution_count": 17,
   "metadata": {},
   "outputs": [],
   "source": [
    "def boots(region, target):\n",
    "    state = np.random.RandomState(12345)\n",
    "    rev = []\n",
    "    risque = 0\n",
    "    region = pd.Series(region)\n",
    "    for i in range(1000):\n",
    "        region_subsample = region.sample(n = max_count, replace = True, random_state = state)\n",
    "        rev.append(profit(region_subsample, target, count))\n",
    "    return pd.Series(rev)"
   ]
  },
  {
   "cell_type": "markdown",
   "metadata": {},
   "source": [
    "Посчитаем прибыль для всех трёх регионов."
   ]
  },
  {
   "cell_type": "code",
   "execution_count": 18,
   "metadata": {},
   "outputs": [],
   "source": [
    "rev1 = boots(predicted_valid1, target_valid1)\n",
    "rev2 = boots(predicted_valid2, target_valid2)\n",
    "rev3 = boots(predicted_valid3, target_valid3)"
   ]
  },
  {
   "cell_type": "markdown",
   "metadata": {},
   "source": [
    "Посчитаем среднюю прибыль, 5% квантиль и риск убытков."
   ]
  },
  {
   "cell_type": "code",
   "execution_count": 19,
   "metadata": {},
   "outputs": [],
   "source": [
    "def stats(data):\n",
    "    print(\"Средняя прибыль:\", data.mean())\n",
    "    print(\"Нижний квантиль:\", data.quantile(0.025))\n",
    "    print(\"Верхний квантиль:\", data.quantile(0.975))\n",
    "    print(\"Доля прибыльных выборок:\", data[data > 0].count() / 1000)\n",
    "    print(\"Риск:\", (data.values < 0).mean() * 100, \"процентов\")"
   ]
  },
  {
   "cell_type": "code",
   "execution_count": 20,
   "metadata": {},
   "outputs": [
    {
     "name": "stdout",
     "output_type": "stream",
     "text": [
      "Статистика первого региона:\n",
      "Средняя прибыль: 396164984.8023711\n",
      "Нижний квантиль: -111215545.89049526\n",
      "Верхний квантиль: 909766941.5534226\n",
      "Доля прибыльных выборок: 0.931\n",
      "Риск: 6.9 процентов\n"
     ]
    }
   ],
   "source": [
    "print('Статистика первого региона:')\n",
    "stats(rev1)"
   ]
  },
  {
   "cell_type": "code",
   "execution_count": 21,
   "metadata": {},
   "outputs": [
    {
     "name": "stdout",
     "output_type": "stream",
     "text": [
      "Статистика второго региона:\n",
      "Средняя прибыль: 456045105.7866608\n",
      "Нижний квантиль: 33820509.39898363\n",
      "Верхний квантиль: 852289453.866036\n",
      "Доля прибыльных выборок: 0.985\n",
      "Риск: 1.5 процентов\n"
     ]
    }
   ],
   "source": [
    "print('Статистика второго региона:')\n",
    "stats(rev2)"
   ]
  },
  {
   "cell_type": "code",
   "execution_count": 22,
   "metadata": {},
   "outputs": [
    {
     "name": "stdout",
     "output_type": "stream",
     "text": [
      "Статистика третьего региона:\n",
      "Средняя прибыль: 404403866.5683568\n",
      "Нижний квантиль: -163350413.39560106\n",
      "Верхний квантиль: 950359574.9237995\n",
      "Доля прибыльных выборок: 0.924\n",
      "Риск: 7.6 процентов\n"
     ]
    }
   ],
   "source": [
    "print('Статистика третьего региона:')\n",
    "stats(rev3)"
   ]
  },
  {
   "cell_type": "markdown",
   "metadata": {},
   "source": [
    "## Чек-лист готовности проекта"
   ]
  },
  {
   "cell_type": "markdown",
   "metadata": {},
   "source": [
    "Поставьте 'x' в выполненных пунктах. Далее нажмите Shift+Enter."
   ]
  },
  {
   "cell_type": "markdown",
   "metadata": {},
   "source": [
    "- [x]  Jupyter Notebook открыт\n",
    "- [x]  Весь код выполняется без ошибок\n",
    "- [x]  Ячейки с кодом расположены в порядке исполнения\n",
    "- [x]  Выполнен шаг 1: данные подготовлены\n",
    "- [x]  Выполнен шаг 2: модели обучены и проверены\n",
    "    - [x]  Данные корректно разбиты на обучающую и валидационную выборки\n",
    "    - [x]  Модели обучены, предсказания сделаны\n",
    "    - [x]  Предсказания и правильные ответы на валидационной выборке сохранены\n",
    "    - [x]  На экране напечатаны результаты\n",
    "    - [x]  Сделаны выводы\n",
    "- [x]  Выполнен шаг 3: проведена подготовка к расчёту прибыли\n",
    "    - [x]  Для всех ключевых значений созданы константы Python\n",
    "    - [x]  Посчитано минимальное среднее количество продукта в месторождениях региона, достаточное для разработки\n",
    "    - [x]  По предыдущему пункту сделаны выводы\n",
    "    - [x]  Написана функция расчёта прибыли\n",
    "- [x]  Выполнен шаг 4: посчитаны риски и прибыль\n",
    "    - [x]  Проведена процедура *Bootstrap*\n",
    "    - [x]  Все параметры бутстрепа соответствуют условию\n",
    "    - [x]  Найдены все нужные величины\n",
    "    - [x]  Предложен регион для разработки месторождения\n",
    "    - [x]  Выбор региона обоснован"
   ]
  },
  {
   "cell_type": "markdown",
   "metadata": {},
   "source": [
    "## Выводы"
   ]
  },
  {
   "cell_type": "markdown",
   "metadata": {},
   "source": [
    "В результате выполнения проекта построена модель для определения региона с с максимальной прибылью в добывающей компании «ГлавРосГосНефть».<br>\n",
    "Рассчитан средний запас предсказанного сырья и RMSE модели. <br>"
   ]
  },
  {
   "cell_type": "code",
   "execution_count": 23,
   "metadata": {},
   "outputs": [
    {
     "data": {
      "text/html": [
       "<div>\n",
       "<style scoped>\n",
       "    .dataframe tbody tr th:only-of-type {\n",
       "        vertical-align: middle;\n",
       "    }\n",
       "\n",
       "    .dataframe tbody tr th {\n",
       "        vertical-align: top;\n",
       "    }\n",
       "\n",
       "    .dataframe thead th {\n",
       "        text-align: right;\n",
       "    }\n",
       "</style>\n",
       "<table border=\"1\" class=\"dataframe\">\n",
       "  <thead>\n",
       "    <tr style=\"text-align: right;\">\n",
       "      <th></th>\n",
       "      <th>mean</th>\n",
       "      <th>rmse</th>\n",
       "    </tr>\n",
       "  </thead>\n",
       "  <tbody>\n",
       "    <tr>\n",
       "      <th>region1</th>\n",
       "      <td>92.592568</td>\n",
       "      <td>37.579422</td>\n",
       "    </tr>\n",
       "    <tr>\n",
       "      <th>region2</th>\n",
       "      <td>68.728547</td>\n",
       "      <td>0.893099</td>\n",
       "    </tr>\n",
       "    <tr>\n",
       "      <th>region3</th>\n",
       "      <td>94.965046</td>\n",
       "      <td>40.029709</td>\n",
       "    </tr>\n",
       "  </tbody>\n",
       "</table>\n",
       "</div>"
      ],
      "text/plain": [
       "              mean       rmse\n",
       "region1  92.592568  37.579422\n",
       "region2  68.728547   0.893099\n",
       "region3  94.965046  40.029709"
      ]
     },
     "execution_count": 23,
     "metadata": {},
     "output_type": "execute_result"
    }
   ],
   "source": [
    "df_summary.head()"
   ]
  },
  {
   "cell_type": "markdown",
   "metadata": {},
   "source": [
    "Рассчитан достаточный объём сырья для безубыточной разработки новой скважины. <br>\n",
    "Необходимое количество продукции для покрытия затрат: 22223 <br>\n",
    "Необходимое среднее количество продукта в скважине: 111.115"
   ]
  },
  {
   "cell_type": "markdown",
   "metadata": {},
   "source": [
    "Посчитаны риски и прибыль для каждого региона. <br>\n",
    "Наиболее стабильную и выгодную картину показал второй регион: <br>\n",
    "Средняя прибыль: 456045105.7866609 <br>\n",
    "Нижний квантиль: 33820509.39898549 <br>\n",
    "Верхний квантиль: 852289453.866036 <br>\n",
    "Доля прибыльных выборок 0.985 <br>"
   ]
  },
  {
   "cell_type": "markdown",
   "metadata": {},
   "source": [
    "Верхний квантиль выше в первом и третьем регионах, но, к сожалению, доля убыточных выборок там выше."
   ]
  }
 ],
 "metadata": {
  "ExecuteTimeLog": [
   {
    "duration": 1650,
    "start_time": "2022-03-07T18:15:39.627Z"
   },
   {
    "duration": 452,
    "start_time": "2022-03-07T18:16:25.080Z"
   },
   {
    "duration": 88148,
    "start_time": "2022-03-07T18:17:13.728Z"
   },
   {
    "duration": 9998,
    "start_time": "2022-03-07T18:19:58.083Z"
   },
   {
    "duration": 422,
    "start_time": "2022-03-07T18:21:58.293Z"
   },
   {
    "duration": 4503,
    "start_time": "2022-03-07T18:22:11.063Z"
   },
   {
    "duration": 268,
    "start_time": "2022-03-07T18:23:58.483Z"
   },
   {
    "duration": 570,
    "start_time": "2022-03-07T18:24:18.893Z"
   },
   {
    "duration": 4149,
    "start_time": "2022-03-07T18:24:22.599Z"
   },
   {
    "duration": 4152,
    "start_time": "2022-03-07T18:24:55.452Z"
   },
   {
    "duration": 4022,
    "start_time": "2022-03-07T18:29:02.919Z"
   },
   {
    "duration": 63,
    "start_time": "2022-03-07T19:03:58.556Z"
   },
   {
    "duration": 54,
    "start_time": "2022-03-07T19:04:05.680Z"
   },
   {
    "duration": 38,
    "start_time": "2022-03-07T19:04:14.943Z"
   },
   {
    "duration": 51,
    "start_time": "2022-03-07T19:04:17.349Z"
   },
   {
    "duration": 39,
    "start_time": "2022-03-07T19:05:02.845Z"
   },
   {
    "duration": 5203,
    "start_time": "2022-03-07T19:05:32.817Z"
   },
   {
    "duration": 5435,
    "start_time": "2022-03-07T19:05:44.886Z"
   },
   {
    "duration": 235,
    "start_time": "2022-03-07T19:07:11.080Z"
   },
   {
    "duration": 235,
    "start_time": "2022-03-07T19:07:31.765Z"
   },
   {
    "duration": 228,
    "start_time": "2022-03-07T19:07:55.835Z"
   },
   {
    "duration": 4,
    "start_time": "2022-03-07T19:12:04.491Z"
   },
   {
    "duration": 6,
    "start_time": "2022-03-07T19:12:34.012Z"
   },
   {
    "duration": 13,
    "start_time": "2022-03-07T19:12:44.235Z"
   },
   {
    "duration": 244,
    "start_time": "2022-03-07T19:16:06.182Z"
   },
   {
    "duration": 5,
    "start_time": "2022-03-07T19:17:13.821Z"
   },
   {
    "duration": 27,
    "start_time": "2022-03-07T19:17:15.603Z"
   },
   {
    "duration": 85,
    "start_time": "2022-03-07T19:17:43.513Z"
   },
   {
    "duration": 82,
    "start_time": "2022-03-07T19:17:52.557Z"
   },
   {
    "duration": 6,
    "start_time": "2022-03-07T19:18:56.466Z"
   },
   {
    "duration": 4,
    "start_time": "2022-03-07T19:31:49.412Z"
   },
   {
    "duration": 469,
    "start_time": "2022-03-07T19:32:18.953Z"
   },
   {
    "duration": 4,
    "start_time": "2022-03-07T19:32:37.901Z"
   },
   {
    "duration": 438,
    "start_time": "2022-03-07T19:32:39.660Z"
   },
   {
    "duration": 4,
    "start_time": "2022-03-07T19:34:25.397Z"
   },
   {
    "duration": 432,
    "start_time": "2022-03-07T19:34:27.363Z"
   },
   {
    "duration": 321,
    "start_time": "2022-03-07T19:37:12.884Z"
   },
   {
    "duration": 4,
    "start_time": "2022-03-07T19:38:57.343Z"
   },
   {
    "duration": 39,
    "start_time": "2022-03-07T19:39:01.552Z"
   },
   {
    "duration": 298,
    "start_time": "2022-03-07T19:39:21.790Z"
   },
   {
    "duration": 160,
    "start_time": "2022-03-07T19:39:26.128Z"
   },
   {
    "duration": 4,
    "start_time": "2022-03-07T19:42:01.085Z"
   },
   {
    "duration": 234,
    "start_time": "2022-03-07T19:47:03.347Z"
   },
   {
    "duration": 4,
    "start_time": "2022-03-07T19:49:04.018Z"
   },
   {
    "duration": 10677,
    "start_time": "2022-03-07T19:50:43.509Z"
   },
   {
    "duration": 233,
    "start_time": "2022-03-07T19:54:31.825Z"
   },
   {
    "duration": 11381,
    "start_time": "2022-03-07T20:01:38.738Z"
   },
   {
    "duration": 139,
    "start_time": "2022-03-07T20:03:20.955Z"
   },
   {
    "duration": 76,
    "start_time": "2022-03-07T20:03:30.359Z"
   },
   {
    "duration": 30,
    "start_time": "2022-03-07T20:03:42.415Z"
   },
   {
    "duration": 226,
    "start_time": "2022-03-07T20:04:42.415Z"
   },
   {
    "duration": 21,
    "start_time": "2022-03-07T20:04:48.361Z"
   },
   {
    "duration": 4,
    "start_time": "2022-03-07T20:06:06.229Z"
   },
   {
    "duration": 7,
    "start_time": "2022-03-07T20:07:11.054Z"
   },
   {
    "duration": 6,
    "start_time": "2022-03-07T20:07:12.656Z"
   },
   {
    "duration": 253,
    "start_time": "2022-03-07T20:07:14.215Z"
   },
   {
    "duration": 14055,
    "start_time": "2022-03-07T20:07:27.638Z"
   },
   {
    "duration": 504,
    "start_time": "2022-03-07T20:07:41.696Z"
   },
   {
    "duration": 3225,
    "start_time": "2022-03-07T20:07:42.203Z"
   },
   {
    "duration": -3174,
    "start_time": "2022-03-07T20:07:48.605Z"
   },
   {
    "duration": -3180,
    "start_time": "2022-03-07T20:07:48.613Z"
   },
   {
    "duration": -3184,
    "start_time": "2022-03-07T20:07:48.619Z"
   },
   {
    "duration": -3188,
    "start_time": "2022-03-07T20:07:48.624Z"
   },
   {
    "duration": -3190,
    "start_time": "2022-03-07T20:07:48.628Z"
   },
   {
    "duration": -3192,
    "start_time": "2022-03-07T20:07:48.632Z"
   },
   {
    "duration": -3195,
    "start_time": "2022-03-07T20:07:48.636Z"
   },
   {
    "duration": -3198,
    "start_time": "2022-03-07T20:07:48.641Z"
   },
   {
    "duration": -3201,
    "start_time": "2022-03-07T20:07:48.645Z"
   },
   {
    "duration": -3204,
    "start_time": "2022-03-07T20:07:48.649Z"
   },
   {
    "duration": -3206,
    "start_time": "2022-03-07T20:07:48.652Z"
   },
   {
    "duration": 3225,
    "start_time": "2022-03-07T20:08:24.678Z"
   },
   {
    "duration": 12832,
    "start_time": "2022-03-07T20:09:32.108Z"
   },
   {
    "duration": 472,
    "start_time": "2022-03-07T20:09:58.824Z"
   },
   {
    "duration": 3362,
    "start_time": "2022-03-07T20:10:03.895Z"
   },
   {
    "duration": 10091,
    "start_time": "2022-03-07T20:10:52.546Z"
   },
   {
    "duration": 3362,
    "start_time": "2022-03-07T20:11:10.173Z"
   },
   {
    "duration": 44726,
    "start_time": "2022-03-07T20:12:13.457Z"
   },
   {
    "duration": 11786,
    "start_time": "2022-03-07T20:14:26.055Z"
   },
   {
    "duration": 513,
    "start_time": "2022-03-07T20:14:47.946Z"
   },
   {
    "duration": 3334,
    "start_time": "2022-03-07T20:14:50.610Z"
   },
   {
    "duration": 22899,
    "start_time": "2022-03-07T20:17:30.728Z"
   },
   {
    "duration": 515,
    "start_time": "2022-03-07T20:18:06.182Z"
   },
   {
    "duration": 1328,
    "start_time": "2022-03-07T20:18:08.455Z"
   },
   {
    "duration": 10872,
    "start_time": "2022-03-07T20:19:15.540Z"
   },
   {
    "duration": 530,
    "start_time": "2022-03-07T20:19:29.599Z"
   },
   {
    "duration": 1240,
    "start_time": "2022-03-07T20:19:33.755Z"
   },
   {
    "duration": 5,
    "start_time": "2022-03-07T20:19:44.328Z"
   },
   {
    "duration": 165,
    "start_time": "2022-03-07T20:19:45.894Z"
   },
   {
    "duration": 7,
    "start_time": "2022-03-07T20:19:52.122Z"
   },
   {
    "duration": 4,
    "start_time": "2022-03-07T20:19:55.277Z"
   },
   {
    "duration": 263,
    "start_time": "2022-03-07T20:19:57.330Z"
   },
   {
    "duration": 362,
    "start_time": "2022-03-07T20:20:02.393Z"
   },
   {
    "duration": 4,
    "start_time": "2022-03-07T20:20:06.953Z"
   },
   {
    "duration": 5,
    "start_time": "2022-03-07T20:20:08.837Z"
   },
   {
    "duration": 23,
    "start_time": "2022-03-07T20:20:11.601Z"
   },
   {
    "duration": 37,
    "start_time": "2022-03-07T20:20:13.703Z"
   },
   {
    "duration": 13091,
    "start_time": "2022-03-07T20:20:48.088Z"
   },
   {
    "duration": 508,
    "start_time": "2022-03-07T20:21:01.186Z"
   },
   {
    "duration": 399,
    "start_time": "2022-03-07T20:21:01.697Z"
   },
   {
    "duration": -3164,
    "start_time": "2022-03-07T20:21:05.263Z"
   },
   {
    "duration": -3169,
    "start_time": "2022-03-07T20:21:05.269Z"
   },
   {
    "duration": -3172,
    "start_time": "2022-03-07T20:21:05.274Z"
   },
   {
    "duration": -3177,
    "start_time": "2022-03-07T20:21:05.280Z"
   },
   {
    "duration": -3180,
    "start_time": "2022-03-07T20:21:05.285Z"
   },
   {
    "duration": -3185,
    "start_time": "2022-03-07T20:21:05.291Z"
   },
   {
    "duration": -3188,
    "start_time": "2022-03-07T20:21:05.296Z"
   },
   {
    "duration": -3193,
    "start_time": "2022-03-07T20:21:05.302Z"
   },
   {
    "duration": -3197,
    "start_time": "2022-03-07T20:21:05.307Z"
   },
   {
    "duration": -3199,
    "start_time": "2022-03-07T20:21:05.311Z"
   },
   {
    "duration": -3203,
    "start_time": "2022-03-07T20:21:05.316Z"
   },
   {
    "duration": 11322,
    "start_time": "2022-03-07T20:21:28.583Z"
   },
   {
    "duration": 640,
    "start_time": "2022-03-07T20:21:43.508Z"
   },
   {
    "duration": 5863,
    "start_time": "2022-03-07T20:21:45.887Z"
   },
   {
    "duration": 13948,
    "start_time": "2022-03-07T20:22:03.049Z"
   },
   {
    "duration": 506,
    "start_time": "2022-03-07T20:22:17.000Z"
   },
   {
    "duration": 5227,
    "start_time": "2022-03-07T20:22:17.512Z"
   },
   {
    "duration": 5031,
    "start_time": "2022-03-07T20:22:22.742Z"
   },
   {
    "duration": 4966,
    "start_time": "2022-03-07T20:22:27.776Z"
   },
   {
    "duration": 5,
    "start_time": "2022-03-07T20:22:32.744Z"
   },
   {
    "duration": 152,
    "start_time": "2022-03-07T20:22:32.753Z"
   },
   {
    "duration": 5,
    "start_time": "2022-03-07T20:22:32.908Z"
   },
   {
    "duration": 6,
    "start_time": "2022-03-07T20:22:32.916Z"
   },
   {
    "duration": 375,
    "start_time": "2022-03-07T20:22:32.924Z"
   },
   {
    "duration": 86,
    "start_time": "2022-03-07T20:22:33.302Z"
   },
   {
    "duration": 97,
    "start_time": "2022-03-07T20:22:33.392Z"
   },
   {
    "duration": 465,
    "start_time": "2022-03-07T20:22:33.492Z"
   },
   {
    "duration": -3169,
    "start_time": "2022-03-07T20:22:37.129Z"
   },
   {
    "duration": 11714,
    "start_time": "2022-03-07T20:23:02.357Z"
   },
   {
    "duration": 11626,
    "start_time": "2022-03-07T20:23:32.976Z"
   },
   {
    "duration": 30,
    "start_time": "2022-03-07T20:23:52.378Z"
   },
   {
    "duration": 13,
    "start_time": "2022-03-07T20:23:55.430Z"
   },
   {
    "duration": 43657,
    "start_time": "2022-03-08T17:49:52.698Z"
   },
   {
    "duration": 736,
    "start_time": "2022-03-08T17:50:36.359Z"
   },
   {
    "duration": 3509,
    "start_time": "2022-03-08T17:50:37.099Z"
   },
   {
    "duration": -4947,
    "start_time": "2022-03-08T17:50:45.560Z"
   },
   {
    "duration": -4954,
    "start_time": "2022-03-08T17:50:45.568Z"
   },
   {
    "duration": -4959,
    "start_time": "2022-03-08T17:50:45.575Z"
   },
   {
    "duration": -4965,
    "start_time": "2022-03-08T17:50:45.582Z"
   },
   {
    "duration": -4969,
    "start_time": "2022-03-08T17:50:45.588Z"
   },
   {
    "duration": -4975,
    "start_time": "2022-03-08T17:50:45.596Z"
   },
   {
    "duration": -4981,
    "start_time": "2022-03-08T17:50:45.603Z"
   },
   {
    "duration": -4986,
    "start_time": "2022-03-08T17:50:45.609Z"
   },
   {
    "duration": -4989,
    "start_time": "2022-03-08T17:50:45.614Z"
   },
   {
    "duration": -4994,
    "start_time": "2022-03-08T17:50:45.620Z"
   },
   {
    "duration": -4999,
    "start_time": "2022-03-08T17:50:45.627Z"
   },
   {
    "duration": 12694,
    "start_time": "2022-03-08T17:51:27.125Z"
   },
   {
    "duration": 460,
    "start_time": "2022-03-08T17:51:39.822Z"
   },
   {
    "duration": 3241,
    "start_time": "2022-03-08T17:51:40.286Z"
   },
   {
    "duration": -4876,
    "start_time": "2022-03-08T17:51:48.407Z"
   },
   {
    "duration": -4888,
    "start_time": "2022-03-08T17:51:48.420Z"
   },
   {
    "duration": -4892,
    "start_time": "2022-03-08T17:51:48.426Z"
   },
   {
    "duration": -4896,
    "start_time": "2022-03-08T17:51:48.432Z"
   },
   {
    "duration": -4902,
    "start_time": "2022-03-08T17:51:48.439Z"
   },
   {
    "duration": -4904,
    "start_time": "2022-03-08T17:51:48.443Z"
   },
   {
    "duration": -4908,
    "start_time": "2022-03-08T17:51:48.448Z"
   },
   {
    "duration": -4911,
    "start_time": "2022-03-08T17:51:48.452Z"
   },
   {
    "duration": -4912,
    "start_time": "2022-03-08T17:51:48.455Z"
   },
   {
    "duration": -4915,
    "start_time": "2022-03-08T17:51:48.459Z"
   },
   {
    "duration": -4916,
    "start_time": "2022-03-08T17:51:48.462Z"
   },
   {
    "duration": 9906,
    "start_time": "2022-03-08T17:52:47.697Z"
   },
   {
    "duration": 455,
    "start_time": "2022-03-08T17:53:03.982Z"
   },
   {
    "duration": 3069,
    "start_time": "2022-03-08T17:53:09.199Z"
   },
   {
    "duration": 13619,
    "start_time": "2022-03-08T17:53:50.916Z"
   },
   {
    "duration": 462,
    "start_time": "2022-03-08T17:54:04.538Z"
   },
   {
    "duration": 3417,
    "start_time": "2022-03-08T17:54:05.004Z"
   },
   {
    "duration": -4871,
    "start_time": "2022-03-08T17:54:13.295Z"
   },
   {
    "duration": -4873,
    "start_time": "2022-03-08T17:54:13.299Z"
   },
   {
    "duration": -4879,
    "start_time": "2022-03-08T17:54:13.306Z"
   },
   {
    "duration": -4892,
    "start_time": "2022-03-08T17:54:13.321Z"
   },
   {
    "duration": -4894,
    "start_time": "2022-03-08T17:54:13.325Z"
   },
   {
    "duration": -4897,
    "start_time": "2022-03-08T17:54:13.329Z"
   },
   {
    "duration": -4899,
    "start_time": "2022-03-08T17:54:13.333Z"
   },
   {
    "duration": -4901,
    "start_time": "2022-03-08T17:54:13.337Z"
   },
   {
    "duration": -4903,
    "start_time": "2022-03-08T17:54:13.340Z"
   },
   {
    "duration": -4905,
    "start_time": "2022-03-08T17:54:13.344Z"
   },
   {
    "duration": -4908,
    "start_time": "2022-03-08T17:54:13.348Z"
   },
   {
    "duration": 10000,
    "start_time": "2022-03-08T17:55:01.659Z"
   },
   {
    "duration": 54,
    "start_time": "2022-03-08T18:04:39.115Z"
   },
   {
    "duration": 17,
    "start_time": "2022-03-08T18:04:56.640Z"
   },
   {
    "duration": 2640,
    "start_time": "2022-03-08T18:06:44.797Z"
   },
   {
    "duration": 479,
    "start_time": "2022-03-08T18:06:47.440Z"
   },
   {
    "duration": 132,
    "start_time": "2022-03-08T18:06:47.922Z"
   },
   {
    "duration": 12,
    "start_time": "2022-03-08T18:06:48.058Z"
   },
   {
    "duration": 18,
    "start_time": "2022-03-08T18:06:48.073Z"
   },
   {
    "duration": 139,
    "start_time": "2022-03-08T18:06:48.094Z"
   },
   {
    "duration": 7,
    "start_time": "2022-03-08T18:06:48.235Z"
   },
   {
    "duration": 5,
    "start_time": "2022-03-08T18:06:48.254Z"
   },
   {
    "duration": 198,
    "start_time": "2022-03-08T18:06:48.262Z"
   },
   {
    "duration": 5,
    "start_time": "2022-03-08T18:06:48.554Z"
   },
   {
    "duration": 10,
    "start_time": "2022-03-08T18:06:48.652Z"
   },
   {
    "duration": 23,
    "start_time": "2022-03-08T18:06:48.664Z"
   },
   {
    "duration": 10,
    "start_time": "2022-03-08T18:06:48.690Z"
   },
   {
    "duration": 4,
    "start_time": "2022-03-08T18:10:38.431Z"
   },
   {
    "duration": 3,
    "start_time": "2022-03-08T18:11:31.068Z"
   },
   {
    "duration": 4,
    "start_time": "2022-03-08T18:13:49.384Z"
   },
   {
    "duration": 5,
    "start_time": "2022-03-08T18:13:56.456Z"
   },
   {
    "duration": 8,
    "start_time": "2022-03-08T18:24:31.601Z"
   },
   {
    "duration": 6,
    "start_time": "2022-03-08T18:28:00.796Z"
   },
   {
    "duration": 4,
    "start_time": "2022-03-08T19:30:05.841Z"
   },
   {
    "duration": 1195,
    "start_time": "2022-03-09T11:38:12.530Z"
   },
   {
    "duration": 409,
    "start_time": "2022-03-09T11:38:13.727Z"
   },
   {
    "duration": 42,
    "start_time": "2022-03-09T11:38:14.138Z"
   },
   {
    "duration": 8,
    "start_time": "2022-03-09T11:38:14.182Z"
   },
   {
    "duration": 16,
    "start_time": "2022-03-09T11:38:14.192Z"
   },
   {
    "duration": 135,
    "start_time": "2022-03-09T11:38:14.209Z"
   },
   {
    "duration": 3,
    "start_time": "2022-03-09T11:38:14.346Z"
   },
   {
    "duration": 33,
    "start_time": "2022-03-09T11:38:14.352Z"
   },
   {
    "duration": 173,
    "start_time": "2022-03-09T11:38:14.387Z"
   },
   {
    "duration": 4,
    "start_time": "2022-03-09T11:38:14.563Z"
   },
   {
    "duration": 99,
    "start_time": "2022-03-09T11:38:14.569Z"
   },
   {
    "duration": 99,
    "start_time": "2022-03-09T11:38:14.670Z"
   },
   {
    "duration": 40,
    "start_time": "2022-03-09T11:38:14.771Z"
   },
   {
    "duration": 18,
    "start_time": "2022-03-09T11:38:14.813Z"
   },
   {
    "duration": 26,
    "start_time": "2022-03-09T11:38:14.832Z"
   },
   {
    "duration": 32,
    "start_time": "2022-03-09T11:38:14.860Z"
   },
   {
    "duration": 4,
    "start_time": "2022-03-09T11:44:52.144Z"
   },
   {
    "duration": 3,
    "start_time": "2022-03-09T11:47:50.732Z"
   },
   {
    "duration": 3,
    "start_time": "2022-03-09T11:52:46.132Z"
   },
   {
    "duration": 4,
    "start_time": "2022-03-09T11:58:20.984Z"
   },
   {
    "duration": 6,
    "start_time": "2022-03-09T11:58:29.246Z"
   },
   {
    "duration": 5,
    "start_time": "2022-03-09T11:59:23.573Z"
   },
   {
    "duration": 295,
    "start_time": "2022-03-09T11:59:37.175Z"
   },
   {
    "duration": 7,
    "start_time": "2022-03-09T11:59:40.993Z"
   },
   {
    "duration": 3,
    "start_time": "2022-03-09T12:00:04.773Z"
   },
   {
    "duration": 3,
    "start_time": "2022-03-09T12:02:17.576Z"
   },
   {
    "duration": 896,
    "start_time": "2022-03-09T12:03:14.595Z"
   },
   {
    "duration": 904,
    "start_time": "2022-03-09T12:03:29.077Z"
   },
   {
    "duration": 1502,
    "start_time": "2022-03-09T12:08:05.463Z"
   },
   {
    "duration": 27,
    "start_time": "2022-03-09T12:08:12.638Z"
   },
   {
    "duration": 3,
    "start_time": "2022-03-09T12:09:11.139Z"
   },
   {
    "duration": 31,
    "start_time": "2022-03-09T12:09:13.038Z"
   },
   {
    "duration": 3,
    "start_time": "2022-03-09T12:10:02.441Z"
   },
   {
    "duration": 27,
    "start_time": "2022-03-09T12:10:04.398Z"
   },
   {
    "duration": 3,
    "start_time": "2022-03-09T12:10:11.388Z"
   },
   {
    "duration": 358,
    "start_time": "2022-03-09T12:17:51.601Z"
   },
   {
    "duration": 4,
    "start_time": "2022-03-09T12:18:34.840Z"
   },
   {
    "duration": 181,
    "start_time": "2022-03-09T12:18:40.240Z"
   },
   {
    "duration": 4,
    "start_time": "2022-03-09T12:19:41.055Z"
   },
   {
    "duration": 757,
    "start_time": "2022-03-09T12:19:50.060Z"
   },
   {
    "duration": 758,
    "start_time": "2022-03-09T12:19:59.803Z"
   },
   {
    "duration": 2261,
    "start_time": "2022-03-09T12:31:56.208Z"
   },
   {
    "duration": 8,
    "start_time": "2022-03-09T12:37:43.355Z"
   },
   {
    "duration": 5,
    "start_time": "2022-03-09T12:39:59.741Z"
   },
   {
    "duration": 3,
    "start_time": "2022-03-09T12:46:32.322Z"
   },
   {
    "duration": 3,
    "start_time": "2022-03-09T12:48:07.395Z"
   },
   {
    "duration": 5140,
    "start_time": "2022-03-09T12:48:28.483Z"
   },
   {
    "duration": 6,
    "start_time": "2022-03-09T12:48:42.084Z"
   },
   {
    "duration": 5,
    "start_time": "2022-03-09T12:48:43.403Z"
   },
   {
    "duration": 1838,
    "start_time": "2022-03-09T12:51:55.267Z"
   },
   {
    "duration": 5007,
    "start_time": "2022-03-09T12:52:52.204Z"
   },
   {
    "duration": 3,
    "start_time": "2022-03-09T12:57:53.881Z"
   },
   {
    "duration": 9,
    "start_time": "2022-03-09T12:58:02.937Z"
   },
   {
    "duration": 4,
    "start_time": "2022-03-09T12:58:09.745Z"
   },
   {
    "duration": 9,
    "start_time": "2022-03-09T12:58:11.301Z"
   },
   {
    "duration": 4,
    "start_time": "2022-03-09T12:58:19.137Z"
   },
   {
    "duration": 10,
    "start_time": "2022-03-09T12:58:21.117Z"
   },
   {
    "duration": 5,
    "start_time": "2022-03-09T12:58:28.725Z"
   },
   {
    "duration": 3,
    "start_time": "2022-03-09T12:58:36.468Z"
   },
   {
    "duration": 8,
    "start_time": "2022-03-09T12:59:10.924Z"
   },
   {
    "duration": 8,
    "start_time": "2022-03-09T12:59:23.106Z"
   },
   {
    "duration": 3,
    "start_time": "2022-03-09T13:00:16.474Z"
   },
   {
    "duration": 4,
    "start_time": "2022-03-09T13:00:35.215Z"
   },
   {
    "duration": 5073,
    "start_time": "2022-03-09T13:00:43.638Z"
   },
   {
    "duration": 9,
    "start_time": "2022-03-09T13:00:49.626Z"
   },
   {
    "duration": 3,
    "start_time": "2022-03-09T13:02:43.606Z"
   },
   {
    "duration": 4,
    "start_time": "2022-03-09T13:03:16.669Z"
   },
   {
    "duration": 4,
    "start_time": "2022-03-09T13:03:59.935Z"
   },
   {
    "duration": 5143,
    "start_time": "2022-03-09T13:04:02.498Z"
   },
   {
    "duration": 4,
    "start_time": "2022-03-09T13:04:07.644Z"
   },
   {
    "duration": 8,
    "start_time": "2022-03-09T13:04:09.828Z"
   },
   {
    "duration": 1149,
    "start_time": "2022-03-09T13:04:38.877Z"
   },
   {
    "duration": 399,
    "start_time": "2022-03-09T13:04:40.031Z"
   },
   {
    "duration": 40,
    "start_time": "2022-03-09T13:04:40.432Z"
   },
   {
    "duration": 7,
    "start_time": "2022-03-09T13:04:40.474Z"
   },
   {
    "duration": 5,
    "start_time": "2022-03-09T13:04:40.483Z"
   },
   {
    "duration": 110,
    "start_time": "2022-03-09T13:04:40.490Z"
   },
   {
    "duration": 3,
    "start_time": "2022-03-09T13:04:40.603Z"
   },
   {
    "duration": 3,
    "start_time": "2022-03-09T13:04:40.608Z"
   },
   {
    "duration": 147,
    "start_time": "2022-03-09T13:04:40.613Z"
   },
   {
    "duration": 93,
    "start_time": "2022-03-09T13:04:40.767Z"
   },
   {
    "duration": 5,
    "start_time": "2022-03-09T13:04:40.862Z"
   },
   {
    "duration": 98,
    "start_time": "2022-03-09T13:04:40.869Z"
   },
   {
    "duration": 8,
    "start_time": "2022-03-09T13:04:40.969Z"
   },
   {
    "duration": 3,
    "start_time": "2022-03-09T13:04:40.979Z"
   },
   {
    "duration": 5,
    "start_time": "2022-03-09T13:04:40.984Z"
   },
   {
    "duration": 4,
    "start_time": "2022-03-09T13:04:40.991Z"
   },
   {
    "duration": 5,
    "start_time": "2022-03-09T13:04:40.996Z"
   },
   {
    "duration": 5088,
    "start_time": "2022-03-09T13:04:41.002Z"
   },
   {
    "duration": 4,
    "start_time": "2022-03-09T13:04:46.091Z"
   },
   {
    "duration": 12,
    "start_time": "2022-03-09T13:04:46.097Z"
   },
   {
    "duration": 8,
    "start_time": "2022-03-09T13:04:46.111Z"
   },
   {
    "duration": 7,
    "start_time": "2022-03-09T13:04:46.122Z"
   },
   {
    "duration": 4,
    "start_time": "2022-03-09T13:14:14.593Z"
   },
   {
    "duration": 3,
    "start_time": "2022-03-09T13:14:31.577Z"
   },
   {
    "duration": 1168,
    "start_time": "2022-03-09T13:15:36.076Z"
   },
   {
    "duration": 417,
    "start_time": "2022-03-09T13:15:37.246Z"
   },
   {
    "duration": 43,
    "start_time": "2022-03-09T13:15:37.666Z"
   },
   {
    "duration": 9,
    "start_time": "2022-03-09T13:15:37.712Z"
   },
   {
    "duration": 4,
    "start_time": "2022-03-09T13:15:37.723Z"
   },
   {
    "duration": 114,
    "start_time": "2022-03-09T13:15:37.728Z"
   },
   {
    "duration": 4,
    "start_time": "2022-03-09T13:15:37.844Z"
   },
   {
    "duration": 11,
    "start_time": "2022-03-09T13:15:37.850Z"
   },
   {
    "duration": 97,
    "start_time": "2022-03-09T13:15:37.863Z"
   },
   {
    "duration": 3,
    "start_time": "2022-03-09T13:15:37.964Z"
   },
   {
    "duration": 97,
    "start_time": "2022-03-09T13:15:37.969Z"
   },
   {
    "duration": 107,
    "start_time": "2022-03-09T13:15:38.069Z"
   },
   {
    "duration": 8,
    "start_time": "2022-03-09T13:15:38.178Z"
   },
   {
    "duration": 6,
    "start_time": "2022-03-09T13:15:38.188Z"
   },
   {
    "duration": 7,
    "start_time": "2022-03-09T13:15:38.196Z"
   },
   {
    "duration": 3,
    "start_time": "2022-03-09T13:15:38.205Z"
   },
   {
    "duration": 5,
    "start_time": "2022-03-09T13:15:38.210Z"
   },
   {
    "duration": 4925,
    "start_time": "2022-03-09T13:15:38.217Z"
   },
   {
    "duration": 3,
    "start_time": "2022-03-09T13:15:43.144Z"
   },
   {
    "duration": 16,
    "start_time": "2022-03-09T13:15:43.148Z"
   },
   {
    "duration": 7,
    "start_time": "2022-03-09T13:15:43.165Z"
   },
   {
    "duration": 11,
    "start_time": "2022-03-09T13:15:43.174Z"
   },
   {
    "duration": 3,
    "start_time": "2022-03-09T13:16:32.551Z"
   },
   {
    "duration": 1118,
    "start_time": "2022-03-09T13:16:36.923Z"
   },
   {
    "duration": 402,
    "start_time": "2022-03-09T13:16:38.043Z"
   },
   {
    "duration": 44,
    "start_time": "2022-03-09T13:16:38.447Z"
   },
   {
    "duration": 9,
    "start_time": "2022-03-09T13:16:38.494Z"
   },
   {
    "duration": 5,
    "start_time": "2022-03-09T13:16:38.504Z"
   },
   {
    "duration": 118,
    "start_time": "2022-03-09T13:16:38.511Z"
   },
   {
    "duration": 5,
    "start_time": "2022-03-09T13:16:38.631Z"
   },
   {
    "duration": 21,
    "start_time": "2022-03-09T13:16:38.638Z"
   },
   {
    "duration": 106,
    "start_time": "2022-03-09T13:16:38.662Z"
   },
   {
    "duration": 3,
    "start_time": "2022-03-09T13:16:38.861Z"
   },
   {
    "duration": 99,
    "start_time": "2022-03-09T13:16:38.866Z"
   },
   {
    "duration": 19,
    "start_time": "2022-03-09T13:16:38.966Z"
   },
   {
    "duration": 8,
    "start_time": "2022-03-09T13:16:38.986Z"
   },
   {
    "duration": 5,
    "start_time": "2022-03-09T13:16:38.995Z"
   },
   {
    "duration": 5,
    "start_time": "2022-03-09T13:16:39.001Z"
   },
   {
    "duration": 3,
    "start_time": "2022-03-09T13:16:39.008Z"
   },
   {
    "duration": 4,
    "start_time": "2022-03-09T13:16:39.013Z"
   },
   {
    "duration": 4967,
    "start_time": "2022-03-09T13:16:39.018Z"
   },
   {
    "duration": 3,
    "start_time": "2022-03-09T13:16:43.987Z"
   },
   {
    "duration": 12,
    "start_time": "2022-03-09T13:16:43.991Z"
   },
   {
    "duration": 7,
    "start_time": "2022-03-09T13:16:44.005Z"
   },
   {
    "duration": 9,
    "start_time": "2022-03-09T13:16:44.013Z"
   },
   {
    "duration": 8,
    "start_time": "2022-03-09T13:31:17.995Z"
   },
   {
    "duration": 3,
    "start_time": "2022-03-09T13:33:58.348Z"
   },
   {
    "duration": 1220,
    "start_time": "2022-03-09T13:40:04.332Z"
   },
   {
    "duration": 412,
    "start_time": "2022-03-09T13:40:05.554Z"
   },
   {
    "duration": 40,
    "start_time": "2022-03-09T13:40:05.968Z"
   },
   {
    "duration": 8,
    "start_time": "2022-03-09T13:40:06.010Z"
   },
   {
    "duration": 5,
    "start_time": "2022-03-09T13:40:06.020Z"
   },
   {
    "duration": 115,
    "start_time": "2022-03-09T13:40:06.026Z"
   },
   {
    "duration": 4,
    "start_time": "2022-03-09T13:40:06.143Z"
   },
   {
    "duration": 12,
    "start_time": "2022-03-09T13:40:06.149Z"
   },
   {
    "duration": 101,
    "start_time": "2022-03-09T13:40:06.163Z"
   },
   {
    "duration": 93,
    "start_time": "2022-03-09T13:40:06.267Z"
   },
   {
    "duration": 5,
    "start_time": "2022-03-09T13:40:06.363Z"
   },
   {
    "duration": 17,
    "start_time": "2022-03-09T13:40:06.460Z"
   },
   {
    "duration": 9,
    "start_time": "2022-03-09T13:40:06.479Z"
   },
   {
    "duration": 4,
    "start_time": "2022-03-09T13:40:06.489Z"
   },
   {
    "duration": 7,
    "start_time": "2022-03-09T13:40:06.494Z"
   },
   {
    "duration": 4,
    "start_time": "2022-03-09T13:40:06.502Z"
   },
   {
    "duration": 5,
    "start_time": "2022-03-09T13:40:06.507Z"
   },
   {
    "duration": 4875,
    "start_time": "2022-03-09T13:40:06.513Z"
   },
   {
    "duration": 3,
    "start_time": "2022-03-09T13:40:11.389Z"
   },
   {
    "duration": 9,
    "start_time": "2022-03-09T13:40:11.394Z"
   },
   {
    "duration": 8,
    "start_time": "2022-03-09T13:40:11.405Z"
   },
   {
    "duration": 11,
    "start_time": "2022-03-09T13:40:11.414Z"
   },
   {
    "duration": 7,
    "start_time": "2022-03-09T13:40:11.427Z"
   },
   {
    "duration": 1260,
    "start_time": "2022-03-10T08:28:25.088Z"
   },
   {
    "duration": 437,
    "start_time": "2022-03-10T08:28:26.350Z"
   },
   {
    "duration": 43,
    "start_time": "2022-03-10T08:28:26.790Z"
   },
   {
    "duration": 11,
    "start_time": "2022-03-10T08:28:26.835Z"
   },
   {
    "duration": 4,
    "start_time": "2022-03-10T08:28:26.847Z"
   },
   {
    "duration": 133,
    "start_time": "2022-03-10T08:28:26.853Z"
   },
   {
    "duration": 4,
    "start_time": "2022-03-10T08:28:26.988Z"
   },
   {
    "duration": 4,
    "start_time": "2022-03-10T08:28:27.001Z"
   },
   {
    "duration": 95,
    "start_time": "2022-03-10T08:28:27.008Z"
   },
   {
    "duration": 4,
    "start_time": "2022-03-10T08:28:27.107Z"
   },
   {
    "duration": 189,
    "start_time": "2022-03-10T08:28:27.113Z"
   },
   {
    "duration": 20,
    "start_time": "2022-03-10T08:28:27.304Z"
   },
   {
    "duration": 8,
    "start_time": "2022-03-10T08:28:27.326Z"
   },
   {
    "duration": 6,
    "start_time": "2022-03-10T08:28:27.335Z"
   },
   {
    "duration": 8,
    "start_time": "2022-03-10T08:28:27.343Z"
   },
   {
    "duration": 8,
    "start_time": "2022-03-10T08:28:27.353Z"
   },
   {
    "duration": 8,
    "start_time": "2022-03-10T08:28:27.363Z"
   },
   {
    "duration": 5572,
    "start_time": "2022-03-10T08:28:27.373Z"
   },
   {
    "duration": 4,
    "start_time": "2022-03-10T08:28:32.947Z"
   },
   {
    "duration": 34,
    "start_time": "2022-03-10T08:28:32.953Z"
   },
   {
    "duration": 14,
    "start_time": "2022-03-10T08:28:32.989Z"
   },
   {
    "duration": 12,
    "start_time": "2022-03-10T08:28:33.005Z"
   },
   {
    "duration": 8,
    "start_time": "2022-03-10T08:28:33.019Z"
   },
   {
    "duration": 3,
    "start_time": "2022-03-10T08:30:52.376Z"
   },
   {
    "duration": 688,
    "start_time": "2022-03-10T08:30:53.928Z"
   },
   {
    "duration": 4,
    "start_time": "2022-03-10T08:31:02.652Z"
   },
   {
    "duration": 8,
    "start_time": "2022-03-10T08:31:04.832Z"
   },
   {
    "duration": 4,
    "start_time": "2022-03-10T08:31:17.488Z"
   },
   {
    "duration": 5,
    "start_time": "2022-03-10T08:33:14.049Z"
   },
   {
    "duration": 579,
    "start_time": "2022-03-10T08:33:15.608Z"
   },
   {
    "duration": 5,
    "start_time": "2022-03-10T08:33:30.708Z"
   },
   {
    "duration": 12,
    "start_time": "2022-03-10T08:33:32.217Z"
   },
   {
    "duration": 4,
    "start_time": "2022-03-10T08:33:51.398Z"
   },
   {
    "duration": 9,
    "start_time": "2022-03-10T08:33:54.149Z"
   },
   {
    "duration": 1216,
    "start_time": "2022-03-10T08:34:04.329Z"
   },
   {
    "duration": 437,
    "start_time": "2022-03-10T08:34:05.547Z"
   },
   {
    "duration": 50,
    "start_time": "2022-03-10T08:34:05.987Z"
   },
   {
    "duration": 9,
    "start_time": "2022-03-10T08:34:06.040Z"
   },
   {
    "duration": 7,
    "start_time": "2022-03-10T08:34:06.051Z"
   },
   {
    "duration": 137,
    "start_time": "2022-03-10T08:34:06.060Z"
   },
   {
    "duration": 4,
    "start_time": "2022-03-10T08:34:06.201Z"
   },
   {
    "duration": 9,
    "start_time": "2022-03-10T08:34:06.207Z"
   },
   {
    "duration": 183,
    "start_time": "2022-03-10T08:34:06.219Z"
   },
   {
    "duration": 3,
    "start_time": "2022-03-10T08:34:06.405Z"
   },
   {
    "duration": 101,
    "start_time": "2022-03-10T08:34:06.410Z"
   },
   {
    "duration": 92,
    "start_time": "2022-03-10T08:34:06.513Z"
   },
   {
    "duration": 9,
    "start_time": "2022-03-10T08:34:06.608Z"
   },
   {
    "duration": 8,
    "start_time": "2022-03-10T08:34:06.618Z"
   },
   {
    "duration": 14,
    "start_time": "2022-03-10T08:34:06.628Z"
   },
   {
    "duration": 7,
    "start_time": "2022-03-10T08:34:06.643Z"
   },
   {
    "duration": 9,
    "start_time": "2022-03-10T08:34:06.651Z"
   },
   {
    "duration": 5176,
    "start_time": "2022-03-10T08:34:06.661Z"
   },
   {
    "duration": 4,
    "start_time": "2022-03-10T08:34:11.839Z"
   },
   {
    "duration": 18,
    "start_time": "2022-03-10T08:34:11.845Z"
   },
   {
    "duration": 11,
    "start_time": "2022-03-10T08:34:11.865Z"
   },
   {
    "duration": 30,
    "start_time": "2022-03-10T08:34:11.878Z"
   },
   {
    "duration": 8,
    "start_time": "2022-03-10T08:34:11.910Z"
   },
   {
    "duration": 1177,
    "start_time": "2022-06-01T08:38:27.829Z"
   },
   {
    "duration": 810,
    "start_time": "2022-06-01T08:38:29.008Z"
   },
   {
    "duration": 39,
    "start_time": "2022-06-01T08:38:29.819Z"
   },
   {
    "duration": 10,
    "start_time": "2022-06-01T08:38:29.869Z"
   },
   {
    "duration": 3,
    "start_time": "2022-06-01T08:38:29.881Z"
   },
   {
    "duration": 105,
    "start_time": "2022-06-01T08:38:29.886Z"
   },
   {
    "duration": 5,
    "start_time": "2022-06-01T08:38:29.993Z"
   },
   {
    "duration": 5,
    "start_time": "2022-06-01T08:38:29.999Z"
   },
   {
    "duration": 222,
    "start_time": "2022-06-01T08:38:30.006Z"
   },
   {
    "duration": 99,
    "start_time": "2022-06-01T08:38:30.230Z"
   },
   {
    "duration": 15,
    "start_time": "2022-06-01T08:38:30.330Z"
   },
   {
    "duration": 96,
    "start_time": "2022-06-01T08:38:30.347Z"
   },
   {
    "duration": 12,
    "start_time": "2022-06-01T08:38:30.445Z"
   },
   {
    "duration": 5,
    "start_time": "2022-06-01T08:38:30.459Z"
   },
   {
    "duration": 9,
    "start_time": "2022-06-01T08:38:30.466Z"
   },
   {
    "duration": 11,
    "start_time": "2022-06-01T08:38:30.476Z"
   },
   {
    "duration": 7,
    "start_time": "2022-06-01T08:38:30.488Z"
   },
   {
    "duration": 1846,
    "start_time": "2022-06-01T08:38:30.496Z"
   },
   {
    "duration": 4,
    "start_time": "2022-06-01T08:38:32.344Z"
   },
   {
    "duration": 14,
    "start_time": "2022-06-01T08:38:32.349Z"
   },
   {
    "duration": 9,
    "start_time": "2022-06-01T08:38:32.364Z"
   },
   {
    "duration": 13,
    "start_time": "2022-06-01T08:38:32.375Z"
   },
   {
    "duration": 16,
    "start_time": "2022-06-01T08:38:32.390Z"
   },
   {
    "duration": 1168,
    "start_time": "2022-06-01T08:46:36.510Z"
   },
   {
    "duration": 410,
    "start_time": "2022-06-01T08:46:37.680Z"
   },
   {
    "duration": 41,
    "start_time": "2022-06-01T08:46:38.092Z"
   },
   {
    "duration": 9,
    "start_time": "2022-06-01T08:46:38.135Z"
   },
   {
    "duration": 5,
    "start_time": "2022-06-01T08:46:38.146Z"
   },
   {
    "duration": 114,
    "start_time": "2022-06-01T08:46:38.153Z"
   },
   {
    "duration": 4,
    "start_time": "2022-06-01T08:46:38.269Z"
   },
   {
    "duration": 11,
    "start_time": "2022-06-01T08:46:38.274Z"
   },
   {
    "duration": 147,
    "start_time": "2022-06-01T08:46:38.287Z"
   },
   {
    "duration": 3,
    "start_time": "2022-06-01T08:46:38.527Z"
   },
   {
    "duration": 116,
    "start_time": "2022-06-01T08:46:38.533Z"
   },
   {
    "duration": 22,
    "start_time": "2022-06-01T08:46:38.652Z"
   },
   {
    "duration": 9,
    "start_time": "2022-06-01T08:46:38.676Z"
   },
   {
    "duration": 4,
    "start_time": "2022-06-01T08:46:38.687Z"
   },
   {
    "duration": 7,
    "start_time": "2022-06-01T08:46:38.692Z"
   },
   {
    "duration": 5,
    "start_time": "2022-06-01T08:46:38.700Z"
   },
   {
    "duration": 7,
    "start_time": "2022-06-01T08:46:38.706Z"
   },
   {
    "duration": 1816,
    "start_time": "2022-06-01T08:46:38.714Z"
   },
   {
    "duration": 3,
    "start_time": "2022-06-01T08:46:40.532Z"
   },
   {
    "duration": 14,
    "start_time": "2022-06-01T08:46:40.537Z"
   },
   {
    "duration": 7,
    "start_time": "2022-06-01T08:46:40.553Z"
   },
   {
    "duration": 20,
    "start_time": "2022-06-01T08:46:40.561Z"
   },
   {
    "duration": 9,
    "start_time": "2022-06-01T08:46:40.583Z"
   }
  ],
  "kernelspec": {
   "display_name": "Python 3 (ipykernel)",
   "language": "python",
   "name": "python3"
  },
  "language_info": {
   "codemirror_mode": {
    "name": "ipython",
    "version": 3
   },
   "file_extension": ".py",
   "mimetype": "text/x-python",
   "name": "python",
   "nbconvert_exporter": "python",
   "pygments_lexer": "ipython3",
   "version": "3.9.7"
  },
  "toc": {
   "base_numbering": 1,
   "nav_menu": {},
   "number_sections": true,
   "sideBar": true,
   "skip_h1_title": true,
   "title_cell": "Table of Contents",
   "title_sidebar": "Contents",
   "toc_cell": false,
   "toc_position": {},
   "toc_section_display": true,
   "toc_window_display": false
  }
 },
 "nbformat": 4,
 "nbformat_minor": 2
}
