{
 "cells": [
  {
   "cell_type": "markdown",
   "metadata": {
    "toc": true
   },
   "source": [
    "<h1>Содержание<span class=\"tocSkip\"></span></h1>\n",
    "<div class=\"toc\"><ul class=\"toc-item\"><li><span><a href=\"#Загрузка-данных\" data-toc-modified-id=\"Загрузка-данных-1\"><span class=\"toc-item-num\">1&nbsp;&nbsp;</span>Загрузка данных</a></span></li><li><span><a href=\"#Умножение-матриц\" data-toc-modified-id=\"Умножение-матриц-2\"><span class=\"toc-item-num\">2&nbsp;&nbsp;</span>Умножение матриц</a></span></li><li><span><a href=\"#Алгоритм-преобразования\" data-toc-modified-id=\"Алгоритм-преобразования-3\"><span class=\"toc-item-num\">3&nbsp;&nbsp;</span>Алгоритм преобразования</a></span></li><li><span><a href=\"#Проверка-алгоритма\" data-toc-modified-id=\"Проверка-алгоритма-4\"><span class=\"toc-item-num\">4&nbsp;&nbsp;</span>Проверка алгоритма</a></span></li><li><span><a href=\"#Чек-лист-проверки\" data-toc-modified-id=\"Чек-лист-проверки-5\"><span class=\"toc-item-num\">5&nbsp;&nbsp;</span>Чек-лист проверки</a></span></li></ul></div>"
   ]
  },
  {
   "cell_type": "markdown",
   "metadata": {},
   "source": [
    "# Защита персональных данных клиентов"
   ]
  },
  {
   "cell_type": "markdown",
   "metadata": {},
   "source": [
    "Вам нужно защитить данные клиентов страховой компании «Хоть потоп». Разработайте такой метод преобразования данных, чтобы по ним было сложно восстановить персональную информацию. Обоснуйте корректность его работы.\n",
    "\n",
    "Нужно защитить данные, чтобы при преобразовании качество моделей машинного обучения не ухудшилось. Подбирать наилучшую модель не требуется."
   ]
  },
  {
   "cell_type": "markdown",
   "metadata": {},
   "source": [
    "## Загрузка данных"
   ]
  },
  {
   "cell_type": "code",
   "execution_count": 1,
   "metadata": {},
   "outputs": [],
   "source": [
    "import pandas as pd\n",
    "import numpy as np\n",
    "from sklearn.metrics import r2_score\n",
    "from sklearn.metrics import mean_squared_error"
   ]
  },
  {
   "cell_type": "code",
   "execution_count": 2,
   "metadata": {},
   "outputs": [],
   "source": [
    "data = pd.read_csv('/datasets/insurance.csv')"
   ]
  },
  {
   "cell_type": "code",
   "execution_count": 3,
   "metadata": {},
   "outputs": [
    {
     "data": {
      "text/html": [
       "<div>\n",
       "<style scoped>\n",
       "    .dataframe tbody tr th:only-of-type {\n",
       "        vertical-align: middle;\n",
       "    }\n",
       "\n",
       "    .dataframe tbody tr th {\n",
       "        vertical-align: top;\n",
       "    }\n",
       "\n",
       "    .dataframe thead th {\n",
       "        text-align: right;\n",
       "    }\n",
       "</style>\n",
       "<table border=\"1\" class=\"dataframe\">\n",
       "  <thead>\n",
       "    <tr style=\"text-align: right;\">\n",
       "      <th></th>\n",
       "      <th>Пол</th>\n",
       "      <th>Возраст</th>\n",
       "      <th>Зарплата</th>\n",
       "      <th>Члены семьи</th>\n",
       "      <th>Страховые выплаты</th>\n",
       "    </tr>\n",
       "  </thead>\n",
       "  <tbody>\n",
       "    <tr>\n",
       "      <th>0</th>\n",
       "      <td>1</td>\n",
       "      <td>41.0</td>\n",
       "      <td>49600.0</td>\n",
       "      <td>1</td>\n",
       "      <td>0</td>\n",
       "    </tr>\n",
       "    <tr>\n",
       "      <th>1</th>\n",
       "      <td>0</td>\n",
       "      <td>46.0</td>\n",
       "      <td>38000.0</td>\n",
       "      <td>1</td>\n",
       "      <td>1</td>\n",
       "    </tr>\n",
       "    <tr>\n",
       "      <th>2</th>\n",
       "      <td>0</td>\n",
       "      <td>29.0</td>\n",
       "      <td>21000.0</td>\n",
       "      <td>0</td>\n",
       "      <td>0</td>\n",
       "    </tr>\n",
       "    <tr>\n",
       "      <th>3</th>\n",
       "      <td>0</td>\n",
       "      <td>21.0</td>\n",
       "      <td>41700.0</td>\n",
       "      <td>2</td>\n",
       "      <td>0</td>\n",
       "    </tr>\n",
       "    <tr>\n",
       "      <th>4</th>\n",
       "      <td>1</td>\n",
       "      <td>28.0</td>\n",
       "      <td>26100.0</td>\n",
       "      <td>0</td>\n",
       "      <td>0</td>\n",
       "    </tr>\n",
       "    <tr>\n",
       "      <th>...</th>\n",
       "      <td>...</td>\n",
       "      <td>...</td>\n",
       "      <td>...</td>\n",
       "      <td>...</td>\n",
       "      <td>...</td>\n",
       "    </tr>\n",
       "    <tr>\n",
       "      <th>4995</th>\n",
       "      <td>0</td>\n",
       "      <td>28.0</td>\n",
       "      <td>35700.0</td>\n",
       "      <td>2</td>\n",
       "      <td>0</td>\n",
       "    </tr>\n",
       "    <tr>\n",
       "      <th>4996</th>\n",
       "      <td>0</td>\n",
       "      <td>34.0</td>\n",
       "      <td>52400.0</td>\n",
       "      <td>1</td>\n",
       "      <td>0</td>\n",
       "    </tr>\n",
       "    <tr>\n",
       "      <th>4997</th>\n",
       "      <td>0</td>\n",
       "      <td>20.0</td>\n",
       "      <td>33900.0</td>\n",
       "      <td>2</td>\n",
       "      <td>0</td>\n",
       "    </tr>\n",
       "    <tr>\n",
       "      <th>4998</th>\n",
       "      <td>1</td>\n",
       "      <td>22.0</td>\n",
       "      <td>32700.0</td>\n",
       "      <td>3</td>\n",
       "      <td>0</td>\n",
       "    </tr>\n",
       "    <tr>\n",
       "      <th>4999</th>\n",
       "      <td>1</td>\n",
       "      <td>28.0</td>\n",
       "      <td>40600.0</td>\n",
       "      <td>1</td>\n",
       "      <td>0</td>\n",
       "    </tr>\n",
       "  </tbody>\n",
       "</table>\n",
       "<p>5000 rows × 5 columns</p>\n",
       "</div>"
      ],
      "text/plain": [
       "      Пол  Возраст  Зарплата  Члены семьи  Страховые выплаты\n",
       "0       1     41.0   49600.0            1                  0\n",
       "1       0     46.0   38000.0            1                  1\n",
       "2       0     29.0   21000.0            0                  0\n",
       "3       0     21.0   41700.0            2                  0\n",
       "4       1     28.0   26100.0            0                  0\n",
       "...   ...      ...       ...          ...                ...\n",
       "4995    0     28.0   35700.0            2                  0\n",
       "4996    0     34.0   52400.0            1                  0\n",
       "4997    0     20.0   33900.0            2                  0\n",
       "4998    1     22.0   32700.0            3                  0\n",
       "4999    1     28.0   40600.0            1                  0\n",
       "\n",
       "[5000 rows x 5 columns]"
      ]
     },
     "execution_count": 3,
     "metadata": {},
     "output_type": "execute_result"
    }
   ],
   "source": [
    "data"
   ]
  },
  {
   "cell_type": "code",
   "execution_count": 4,
   "metadata": {},
   "outputs": [
    {
     "data": {
      "text/html": [
       "<div>\n",
       "<style scoped>\n",
       "    .dataframe tbody tr th:only-of-type {\n",
       "        vertical-align: middle;\n",
       "    }\n",
       "\n",
       "    .dataframe tbody tr th {\n",
       "        vertical-align: top;\n",
       "    }\n",
       "\n",
       "    .dataframe thead th {\n",
       "        text-align: right;\n",
       "    }\n",
       "</style>\n",
       "<table border=\"1\" class=\"dataframe\">\n",
       "  <thead>\n",
       "    <tr style=\"text-align: right;\">\n",
       "      <th></th>\n",
       "      <th>Пол</th>\n",
       "      <th>Возраст</th>\n",
       "      <th>Зарплата</th>\n",
       "      <th>Члены семьи</th>\n",
       "      <th>Страховые выплаты</th>\n",
       "    </tr>\n",
       "  </thead>\n",
       "  <tbody>\n",
       "    <tr>\n",
       "      <th>count</th>\n",
       "      <td>5000.000000</td>\n",
       "      <td>5000.000000</td>\n",
       "      <td>5000.000000</td>\n",
       "      <td>5000.000000</td>\n",
       "      <td>5000.000000</td>\n",
       "    </tr>\n",
       "    <tr>\n",
       "      <th>mean</th>\n",
       "      <td>0.499000</td>\n",
       "      <td>30.952800</td>\n",
       "      <td>39916.360000</td>\n",
       "      <td>1.194200</td>\n",
       "      <td>0.148000</td>\n",
       "    </tr>\n",
       "    <tr>\n",
       "      <th>std</th>\n",
       "      <td>0.500049</td>\n",
       "      <td>8.440807</td>\n",
       "      <td>9900.083569</td>\n",
       "      <td>1.091387</td>\n",
       "      <td>0.463183</td>\n",
       "    </tr>\n",
       "    <tr>\n",
       "      <th>min</th>\n",
       "      <td>0.000000</td>\n",
       "      <td>18.000000</td>\n",
       "      <td>5300.000000</td>\n",
       "      <td>0.000000</td>\n",
       "      <td>0.000000</td>\n",
       "    </tr>\n",
       "    <tr>\n",
       "      <th>25%</th>\n",
       "      <td>0.000000</td>\n",
       "      <td>24.000000</td>\n",
       "      <td>33300.000000</td>\n",
       "      <td>0.000000</td>\n",
       "      <td>0.000000</td>\n",
       "    </tr>\n",
       "    <tr>\n",
       "      <th>50%</th>\n",
       "      <td>0.000000</td>\n",
       "      <td>30.000000</td>\n",
       "      <td>40200.000000</td>\n",
       "      <td>1.000000</td>\n",
       "      <td>0.000000</td>\n",
       "    </tr>\n",
       "    <tr>\n",
       "      <th>75%</th>\n",
       "      <td>1.000000</td>\n",
       "      <td>37.000000</td>\n",
       "      <td>46600.000000</td>\n",
       "      <td>2.000000</td>\n",
       "      <td>0.000000</td>\n",
       "    </tr>\n",
       "    <tr>\n",
       "      <th>max</th>\n",
       "      <td>1.000000</td>\n",
       "      <td>65.000000</td>\n",
       "      <td>79000.000000</td>\n",
       "      <td>6.000000</td>\n",
       "      <td>5.000000</td>\n",
       "    </tr>\n",
       "  </tbody>\n",
       "</table>\n",
       "</div>"
      ],
      "text/plain": [
       "               Пол      Возраст      Зарплата  Члены семьи  Страховые выплаты\n",
       "count  5000.000000  5000.000000   5000.000000  5000.000000        5000.000000\n",
       "mean      0.499000    30.952800  39916.360000     1.194200           0.148000\n",
       "std       0.500049     8.440807   9900.083569     1.091387           0.463183\n",
       "min       0.000000    18.000000   5300.000000     0.000000           0.000000\n",
       "25%       0.000000    24.000000  33300.000000     0.000000           0.000000\n",
       "50%       0.000000    30.000000  40200.000000     1.000000           0.000000\n",
       "75%       1.000000    37.000000  46600.000000     2.000000           0.000000\n",
       "max       1.000000    65.000000  79000.000000     6.000000           5.000000"
      ]
     },
     "execution_count": 4,
     "metadata": {},
     "output_type": "execute_result"
    }
   ],
   "source": [
    "data.describe()"
   ]
  },
  {
   "cell_type": "code",
   "execution_count": 5,
   "metadata": {},
   "outputs": [],
   "source": [
    "features = data.drop('Страховые выплаты', axis = 1)\n",
    "target = data['Страховые выплаты']"
   ]
  },
  {
   "cell_type": "markdown",
   "metadata": {},
   "source": [
    "## Умножение матриц"
   ]
  },
  {
   "cell_type": "markdown",
   "metadata": {},
   "source": [
    "Для начала создадим модель."
   ]
  },
  {
   "cell_type": "code",
   "execution_count": 6,
   "metadata": {},
   "outputs": [],
   "source": [
    "class LinearRegression:\n",
    "    def fit(self, train_features, train_target):\n",
    "        X = np.concatenate((np.ones((train_features.shape[0], 1)), train_features), axis=1)\n",
    "        y = train_target\n",
    "        w = np.linalg.inv(X.T.dot(X)).dot(X.T).dot(y)\n",
    "        self.w = w[1:]\n",
    "        self.w0 = w[0]\n",
    "\n",
    "    def predict(self, test_features):\n",
    "        return test_features.dot(self.w) + self.w0"
   ]
  },
  {
   "cell_type": "markdown",
   "metadata": {},
   "source": [
    "И обучим её на исходных данных."
   ]
  },
  {
   "cell_type": "code",
   "execution_count": 7,
   "metadata": {},
   "outputs": [
    {
     "name": "stdout",
     "output_type": "stream",
     "text": [
      "MSE исходной модели: 0.12334688941710859\n"
     ]
    }
   ],
   "source": [
    "model_original = LinearRegression()\n",
    "model_original.fit(features, target)\n",
    "predictions_original = model_original.predict(features)\n",
    "mse_original = mean_squared_error(target, predictions_original)\n",
    "print(\"MSE исходной модели:\", mse_original)"
   ]
  },
  {
   "cell_type": "markdown",
   "metadata": {},
   "source": [
    "Создадим случайную обратимую матрицу."
   ]
  },
  {
   "cell_type": "code",
   "execution_count": 8,
   "metadata": {},
   "outputs": [],
   "source": [
    "new = np.random.normal(size=(features.shape[1],features.shape[1]))"
   ]
  },
  {
   "cell_type": "markdown",
   "metadata": {},
   "source": [
    "Проверим её на обратимость."
   ]
  },
  {
   "cell_type": "code",
   "execution_count": 9,
   "metadata": {},
   "outputs": [
    {
     "name": "stdout",
     "output_type": "stream",
     "text": [
      "Матрица обратима\n"
     ]
    }
   ],
   "source": [
    "try:\n",
    "    np.linalg.inv(new)\n",
    "    print('Матрица обратима')\n",
    "except:\n",
    "    print('Матрица необратима')"
   ]
  },
  {
   "cell_type": "markdown",
   "metadata": {},
   "source": [
    "Замечательно. Перемножим исходную матрицу признаков и обратимую. "
   ]
  },
  {
   "cell_type": "code",
   "execution_count": 10,
   "metadata": {},
   "outputs": [],
   "source": [
    "test_features = features @ new"
   ]
  },
  {
   "cell_type": "markdown",
   "metadata": {},
   "source": [
    "Обучим модель на полученном результате."
   ]
  },
  {
   "cell_type": "code",
   "execution_count": 11,
   "metadata": {},
   "outputs": [
    {
     "name": "stdout",
     "output_type": "stream",
     "text": [
      "MSE тестовой модели: 0.1233468894171088\n"
     ]
    }
   ],
   "source": [
    "model_test = LinearRegression()\n",
    "model_test.fit(test_features, target)\n",
    "predictions_test = model_test.predict(test_features)\n",
    "mse_test = mean_squared_error(target, predictions_test)\n",
    "print(\"MSE тестовой модели:\", mse_test)"
   ]
  },
  {
   "cell_type": "markdown",
   "metadata": {},
   "source": [
    "**Ответ:** Как мы видим, результат практически не изменился.<br>\n",
    "Попробуем это доказать. <br>\n",
    "\n",
    "**Обоснование:**: Обозначения:\n",
    "\n",
    "- $X$ — матрица признаков (нулевой столбец состоит из единиц)\n",
    "\n",
    "- $y$ — вектор целевого признака\n",
    "\n",
    "- $P$ — матрица, на которую умножаются признаки\n",
    "\n",
    "- $w$ — вектор весов линейной регрессии (нулевой элемент равен сдвигу)\n",
    "\n",
    "Предсказания:\n",
    "\n",
    "$$\n",
    "a = Xw\n",
    "$$\n",
    "\n",
    "Задача обучения:\n",
    "\n",
    "$$\n",
    "w = \\arg\\min_w MSE(Xw, y)\n",
    "$$\n",
    "\n",
    "Формула обучения:\n",
    "\n",
    "$$\n",
    "w = (X^T X)^{-1} X^T y\n",
    "$$"
   ]
  },
  {
   "cell_type": "markdown",
   "metadata": {},
   "source": [
    "Для выражения $w'$ сначала в формулу обучения вместо $X$ подставим новую $X'$ = $XP$.\n",
    "\n",
    "$$\n",
    "w' = ((XP)^T XP)^{-1} (XP)^T y\n",
    "$$"
   ]
  },
  {
   "cell_type": "markdown",
   "metadata": {},
   "source": [
    "Вынесем $P$ отдельно."
   ]
  },
  {
   "cell_type": "markdown",
   "metadata": {},
   "source": [
    "$$\n",
    "w' = P^{-1}(P^TX^TX)^{-1} P^TX^Ty \n",
    "$$"
   ]
  },
  {
   "cell_type": "markdown",
   "metadata": {},
   "source": [
    "$$\n",
    "w' = P^{-1}(X^TX)^{-1}(P^T)^{-1} P^TX^Ty\n",
    "$$"
   ]
  },
  {
   "cell_type": "markdown",
   "metadata": {},
   "source": [
    "Вспомним про то, что матрица умноженная на обратную равна единичной. "
   ]
  },
  {
   "cell_type": "markdown",
   "metadata": {},
   "source": [
    "$$\n",
    "w' = P^{-1}(X^TX)^{-1} X^Ty\n",
    "$$"
   ]
  },
  {
   "cell_type": "markdown",
   "metadata": {},
   "source": [
    "Теперь заменим $(X^TX)^{-1} X^Ty$ на $w$ и получим, что"
   ]
  },
  {
   "cell_type": "markdown",
   "metadata": {},
   "source": [
    "$$\n",
    "w' = P^{-1}w\n",
    "$$"
   ]
  },
  {
   "cell_type": "markdown",
   "metadata": {},
   "source": [
    "Вернёмся к формуле предсказаний"
   ]
  },
  {
   "cell_type": "markdown",
   "metadata": {},
   "source": [
    "$$\n",
    "a'=X'w'\n",
    "$$"
   ]
  },
  {
   "cell_type": "markdown",
   "metadata": {},
   "source": [
    "$$\n",
    "a'=XPP^{-1}w\n",
    "$$"
   ]
  },
  {
   "cell_type": "markdown",
   "metadata": {},
   "source": [
    "$$\n",
    "a'= Xw\n",
    "$$"
   ]
  },
  {
   "cell_type": "markdown",
   "metadata": {},
   "source": [
    "$$\n",
    "a'= a\n",
    "$$"
   ]
  },
  {
   "cell_type": "markdown",
   "metadata": {},
   "source": [
    "## Алгоритм преобразования"
   ]
  },
  {
   "cell_type": "markdown",
   "metadata": {},
   "source": [
    "**Алгоритм**\n",
    "\n",
    "1) С помощью np.random.normal генерируем случайную матрицу; <br>\n",
    "2) Проверяем её на обратимость; <br>\n",
    "3) Умножаем исходный набор признаков на случайную матрицу; <br>\n",
    "\n",
    "Если потребуется из преобразованного набора данных получить исходный, умножаем его на обратную случайную матрицу."
   ]
  },
  {
   "cell_type": "markdown",
   "metadata": {},
   "source": [
    "**Обоснование**\n",
    "\n",
    "Обоснование вытекает из пункта 2. <br>\n",
    "Сначала мы его получили эмпирически, умножив исходные признаки на обратимую матрицу, затем - теоретически, проведя теоретические расчёты. <br>"
   ]
  },
  {
   "cell_type": "markdown",
   "metadata": {},
   "source": [
    "## Проверка алгоритма"
   ]
  },
  {
   "cell_type": "markdown",
   "metadata": {},
   "source": [
    "Вычислим R2-score исходной модели."
   ]
  },
  {
   "cell_type": "code",
   "execution_count": 13,
   "metadata": {},
   "outputs": [
    {
     "name": "stdout",
     "output_type": "stream",
     "text": [
      "R2 исходной модели: 0.4249455028666801\n"
     ]
    }
   ],
   "source": [
    "r2_original = r2_score(target, predictions_original)\n",
    "print(\"R2 исходной модели:\", r2_original)"
   ]
  },
  {
   "cell_type": "markdown",
   "metadata": {},
   "source": [
    "Теперь напишем функцию для шифрования данных."
   ]
  },
  {
   "cell_type": "code",
   "execution_count": 19,
   "metadata": {},
   "outputs": [],
   "source": [
    "def code_data(features):\n",
    "    random_matrix = np.random.normal(size=(features.shape[1],features.shape[1])) #создаём случайную матрицу\n",
    "    if np.linalg.det(random_matrix) != 0: #проверяем случайную матрицу на обратимость, сравнивая детерминант с нулем\n",
    "        return features @ random_matrix \n",
    "    else:\n",
    "        print('Случайная матрица обратима!')    "
   ]
  },
  {
   "cell_type": "markdown",
   "metadata": {},
   "source": [
    "Проверим функцию на исходной матрице и вычислим r2_score получившейся зашифрованной:"
   ]
  },
  {
   "cell_type": "code",
   "execution_count": 24,
   "metadata": {},
   "outputs": [
    {
     "name": "stdout",
     "output_type": "stream",
     "text": [
      "R2 модели с шифрованными данными: 0.42494550286661736\n"
     ]
    }
   ],
   "source": [
    "coded_matrix = code_data(features)\n",
    "\n",
    "model_valid = LinearRegression()\n",
    "model_valid.fit(coded_matrix, target)\n",
    "predictions_valid = model_valid.predict(coded_matrix)\n",
    "r2_valid = r2_score(target, predictions_valid)\n",
    "print(\"R2 модели с шифрованными данными:\", r2_valid)"
   ]
  },
  {
   "cell_type": "markdown",
   "metadata": {},
   "source": [
    "Успех!"
   ]
  },
  {
   "cell_type": "markdown",
   "metadata": {},
   "source": [
    "## Чек-лист проверки"
   ]
  },
  {
   "cell_type": "markdown",
   "metadata": {},
   "source": [
    "Поставьте 'x' в выполненных пунктах. Далее нажмите Shift+Enter."
   ]
  },
  {
   "cell_type": "markdown",
   "metadata": {},
   "source": [
    "- [x]  Jupyter Notebook открыт\n",
    "- [x]  Весь код выполняется без ошибок\n",
    "- [x]  Ячейки с кодом расположены в порядке исполнения\n",
    "- [x]  Выполнен шаг 1: данные загружены\n",
    "- [x]  Выполнен шаг 2: получен ответ на вопрос об умножении матриц\n",
    "    - [x]  Указан правильный вариант ответа\n",
    "    - [x]  Вариант обоснован\n",
    "- [x]  Выполнен шаг 3: предложен алгоритм преобразования\n",
    "    - [x]  Алгоритм описан\n",
    "    - [x]  Алгоритм обоснован\n",
    "- [x]  Выполнен шаг 4: алгоритм проверен\n",
    "    - [x]  Алгоритм реализован\n",
    "    - [x]  Проведено сравнение качества моделей до и после преобразования"
   ]
  },
  {
   "cell_type": "markdown",
   "metadata": {},
   "source": [
    "# Выводы"
   ]
  },
  {
   "cell_type": "markdown",
   "metadata": {},
   "source": [
    "В рамках выполнения проекта разработан метод шифрования данных страховой компании \"Хоть потоп\". <br>\n",
    "Суть метода - в умножении матрицы исходных признаков на случайную обратимую матрицу. <br>\n",
    "\n",
    "Произведена оценка качества модели до шифрования данных и после. MSE метрика практически не изменилась: <br>\n",
    "Исходная модель: 0.12334688941710859 <br>\n",
    "Тестовая модель: 0.1233468894171088 <br>\n",
    "\n",
    "Математически обосновано, почему качество модели не изменилось. <br>\n",
    "\n",
    "Написана функция для шифрования данных. Проверена R2-метрика до и после её применения. <br>\n",
    "Исходная модель: 0.4249455028666801 <br>\n",
    "Модель с шифрованными данными: 0.42494550286661736"
   ]
  }
 ],
 "metadata": {
  "ExecuteTimeLog": [
   {
    "duration": 417,
    "start_time": "2022-03-30T09:58:03.371Z"
   },
   {
    "duration": 30,
    "start_time": "2022-03-30T09:58:22.765Z"
   },
   {
    "duration": 21,
    "start_time": "2022-03-30T09:58:30.184Z"
   },
   {
    "duration": 16,
    "start_time": "2022-03-30T10:01:47.467Z"
   },
   {
    "duration": 29,
    "start_time": "2022-03-30T10:02:00.376Z"
   },
   {
    "duration": 404,
    "start_time": "2022-04-06T07:48:25.841Z"
   },
   {
    "duration": 169,
    "start_time": "2022-04-06T07:57:27.601Z"
   },
   {
    "duration": 62,
    "start_time": "2022-04-06T07:59:44.232Z"
   },
   {
    "duration": 3,
    "start_time": "2022-04-06T07:59:47.193Z"
   },
   {
    "duration": 17,
    "start_time": "2022-04-06T07:59:48.493Z"
   },
   {
    "duration": 19,
    "start_time": "2022-04-06T07:59:50.033Z"
   },
   {
    "duration": 23,
    "start_time": "2022-04-06T07:59:51.974Z"
   },
   {
    "duration": 3,
    "start_time": "2022-04-06T07:59:54.074Z"
   },
   {
    "duration": 4,
    "start_time": "2022-04-06T07:59:58.020Z"
   },
   {
    "duration": 666,
    "start_time": "2022-04-06T08:01:58.201Z"
   },
   {
    "duration": 208,
    "start_time": "2022-04-06T08:02:28.240Z"
   },
   {
    "duration": 13,
    "start_time": "2022-04-06T08:02:40.141Z"
   },
   {
    "duration": 9,
    "start_time": "2022-04-06T08:03:20.160Z"
   },
   {
    "duration": 32,
    "start_time": "2022-04-06T08:03:43.601Z"
   },
   {
    "duration": 9,
    "start_time": "2022-04-06T08:33:20.187Z"
   },
   {
    "duration": 4,
    "start_time": "2022-04-06T08:33:30.850Z"
   },
   {
    "duration": 9,
    "start_time": "2022-04-06T08:33:36.153Z"
   },
   {
    "duration": 108,
    "start_time": "2022-04-06T08:33:50.189Z"
   },
   {
    "duration": 4,
    "start_time": "2022-04-06T08:33:52.814Z"
   },
   {
    "duration": 3,
    "start_time": "2022-04-06T08:34:04.861Z"
   },
   {
    "duration": 5,
    "start_time": "2022-04-06T08:34:08.632Z"
   },
   {
    "duration": 111,
    "start_time": "2022-04-06T08:34:22.154Z"
   },
   {
    "duration": 136,
    "start_time": "2022-04-06T08:35:37.676Z"
   },
   {
    "duration": 3,
    "start_time": "2022-04-06T08:51:23.488Z"
   },
   {
    "duration": 6,
    "start_time": "2022-04-06T08:51:27.244Z"
   },
   {
    "duration": 3,
    "start_time": "2022-04-06T08:51:48.643Z"
   },
   {
    "duration": 132,
    "start_time": "2022-04-06T08:51:50.217Z"
   },
   {
    "duration": 3,
    "start_time": "2022-04-06T08:51:52.852Z"
   },
   {
    "duration": 4,
    "start_time": "2022-04-06T08:51:54.657Z"
   },
   {
    "duration": 3,
    "start_time": "2022-04-06T08:58:49.179Z"
   },
   {
    "duration": 113,
    "start_time": "2022-04-06T09:00:32.297Z"
   },
   {
    "duration": 3,
    "start_time": "2022-04-06T09:01:12.343Z"
   },
   {
    "duration": 11,
    "start_time": "2022-04-06T09:01:20.988Z"
   },
   {
    "duration": 9,
    "start_time": "2022-04-06T09:05:22.773Z"
   },
   {
    "duration": 8,
    "start_time": "2022-04-06T09:05:34.784Z"
   },
   {
    "duration": 8,
    "start_time": "2022-04-06T09:05:49.688Z"
   },
   {
    "duration": 3,
    "start_time": "2022-04-06T09:13:06.764Z"
   },
   {
    "duration": 44,
    "start_time": "2022-04-06T09:13:50.616Z"
   },
   {
    "duration": 3,
    "start_time": "2022-04-06T09:13:55.284Z"
   },
   {
    "duration": 25,
    "start_time": "2022-04-06T09:13:58.909Z"
   },
   {
    "duration": 9,
    "start_time": "2022-04-06T09:14:10.770Z"
   },
   {
    "duration": 9,
    "start_time": "2022-04-06T09:14:47.189Z"
   },
   {
    "duration": 1083,
    "start_time": "2022-04-06T09:30:26.154Z"
   },
   {
    "duration": 12,
    "start_time": "2022-04-06T09:30:27.241Z"
   },
   {
    "duration": 19,
    "start_time": "2022-04-06T09:30:27.255Z"
   },
   {
    "duration": 22,
    "start_time": "2022-04-06T09:30:27.276Z"
   },
   {
    "duration": 3,
    "start_time": "2022-04-06T09:30:27.300Z"
   },
   {
    "duration": 5,
    "start_time": "2022-04-06T09:30:27.305Z"
   },
   {
    "duration": 30,
    "start_time": "2022-04-06T09:30:27.312Z"
   },
   {
    "duration": 90,
    "start_time": "2022-04-06T09:30:27.344Z"
   },
   {
    "duration": 99,
    "start_time": "2022-04-06T09:30:27.436Z"
   },
   {
    "duration": 15,
    "start_time": "2022-04-06T09:30:27.538Z"
   },
   {
    "duration": 11,
    "start_time": "2022-04-06T09:30:27.633Z"
   },
   {
    "duration": 114,
    "start_time": "2022-04-06T10:51:43.828Z"
   },
   {
    "duration": 1197,
    "start_time": "2022-04-06T10:56:23.656Z"
   },
   {
    "duration": 17,
    "start_time": "2022-04-06T10:56:24.855Z"
   },
   {
    "duration": 19,
    "start_time": "2022-04-06T10:56:24.874Z"
   },
   {
    "duration": 22,
    "start_time": "2022-04-06T10:56:24.895Z"
   },
   {
    "duration": 15,
    "start_time": "2022-04-06T10:56:24.918Z"
   },
   {
    "duration": 8,
    "start_time": "2022-04-06T10:56:24.937Z"
   },
   {
    "duration": 102,
    "start_time": "2022-04-06T10:56:24.947Z"
   },
   {
    "duration": 86,
    "start_time": "2022-04-06T10:56:25.054Z"
   },
   {
    "duration": 10,
    "start_time": "2022-04-06T10:56:25.146Z"
   },
   {
    "duration": 8,
    "start_time": "2022-04-06T10:56:25.159Z"
   },
   {
    "duration": 173,
    "start_time": "2022-04-06T10:56:25.168Z"
   },
   {
    "duration": 1666,
    "start_time": "2022-04-11T12:44:55.317Z"
   },
   {
    "duration": 15,
    "start_time": "2022-04-11T12:44:56.985Z"
   },
   {
    "duration": 45,
    "start_time": "2022-04-11T12:44:57.003Z"
   },
   {
    "duration": 73,
    "start_time": "2022-04-11T12:44:57.053Z"
   },
   {
    "duration": 7,
    "start_time": "2022-04-11T12:44:57.129Z"
   },
   {
    "duration": 33,
    "start_time": "2022-04-11T12:44:57.139Z"
   },
   {
    "duration": 29,
    "start_time": "2022-04-11T12:44:57.175Z"
   },
   {
    "duration": 10,
    "start_time": "2022-04-11T12:44:57.286Z"
   },
   {
    "duration": 107,
    "start_time": "2022-04-11T12:44:57.299Z"
   },
   {
    "duration": 74,
    "start_time": "2022-04-11T12:44:57.411Z"
   },
   {
    "duration": 103,
    "start_time": "2022-04-11T12:44:57.488Z"
   },
   {
    "duration": 6,
    "start_time": "2022-04-11T12:46:38.731Z"
   },
   {
    "duration": 7,
    "start_time": "2022-04-11T12:46:51.949Z"
   },
   {
    "duration": 145,
    "start_time": "2022-04-11T12:49:33.324Z"
   },
   {
    "duration": 10,
    "start_time": "2022-04-11T12:49:41.275Z"
   },
   {
    "duration": 6,
    "start_time": "2022-04-11T12:49:44.193Z"
   },
   {
    "duration": 5,
    "start_time": "2022-04-11T12:49:47.091Z"
   },
   {
    "duration": 6,
    "start_time": "2022-04-11T12:55:52.521Z"
   },
   {
    "duration": 6,
    "start_time": "2022-04-11T12:57:48.749Z"
   },
   {
    "duration": 6,
    "start_time": "2022-04-11T13:00:46.211Z"
   },
   {
    "duration": 11,
    "start_time": "2022-04-11T13:05:08.166Z"
   },
   {
    "duration": 192,
    "start_time": "2022-04-11T13:05:27.096Z"
   },
   {
    "duration": 98,
    "start_time": "2022-04-11T13:05:40.885Z"
   },
   {
    "duration": 14,
    "start_time": "2022-04-11T13:06:33.027Z"
   },
   {
    "duration": 4,
    "start_time": "2022-04-11T13:08:23.364Z"
   },
   {
    "duration": 107,
    "start_time": "2022-04-11T13:09:24.614Z"
   },
   {
    "duration": 206,
    "start_time": "2022-04-12T10:22:03.033Z"
   },
   {
    "duration": 184,
    "start_time": "2022-04-12T10:22:31.185Z"
   }
  ],
  "kernelspec": {
   "display_name": "Python 3 (ipykernel)",
   "language": "python",
   "name": "python3"
  },
  "language_info": {
   "codemirror_mode": {
    "name": "ipython",
    "version": 3
   },
   "file_extension": ".py",
   "mimetype": "text/x-python",
   "name": "python",
   "nbconvert_exporter": "python",
   "pygments_lexer": "ipython3",
   "version": "3.9.7"
  },
  "toc": {
   "base_numbering": 1,
   "nav_menu": {},
   "number_sections": true,
   "sideBar": true,
   "skip_h1_title": true,
   "title_cell": "Содержание",
   "title_sidebar": "Contents",
   "toc_cell": true,
   "toc_position": {
    "height": "calc(100% - 180px)",
    "left": "10px",
    "top": "150px",
    "width": "165px"
   },
   "toc_section_display": true,
   "toc_window_display": true
  }
 },
 "nbformat": 4,
 "nbformat_minor": 2
}
