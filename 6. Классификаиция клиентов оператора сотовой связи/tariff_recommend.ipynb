{
 "cells": [
  {
   "cell_type": "markdown",
   "metadata": {},
   "source": [
    "# Рекомендация тарифов"
   ]
  },
  {
   "cell_type": "markdown",
   "metadata": {},
   "source": [
    "В вашем распоряжении данные о поведении клиентов, которые уже перешли на эти тарифы (из проекта курса «Статистический анализ данных»). Нужно построить модель для задачи классификации, которая выберет подходящий тариф. Предобработка данных не понадобится — вы её уже сделали.\n",
    "\n",
    "Постройте модель с максимально большим значением *accuracy*. Чтобы сдать проект успешно, нужно довести долю правильных ответов по крайней мере до 0.75. Проверьте *accuracy* на тестовой выборке самостоятельно."
   ]
  },
  {
   "cell_type": "markdown",
   "metadata": {},
   "source": [
    "<b>Описание данных:</b><br>\n",
    "Каждый объект в наборе данных — это информация о поведении одного пользователя за месяц. <br>\n",
    "Известно:<br>\n",
    "\n",
    "* сalls — количество звонков,<br>\n",
    "* minutes — суммарная длительность звонков в минутах,<br>\n",
    "* messages — количество sms-сообщений,<br>\n",
    "* mb_used — израсходованный интернет-трафик в Мб,<br>\n",
    "* is_ultra — каким тарифом пользовался в течение месяца («Ультра» — 1, «Смарт» — 0).<br>"
   ]
  },
  {
   "cell_type": "markdown",
   "metadata": {},
   "source": [
    "## Откройте и изучите файл"
   ]
  },
  {
   "cell_type": "markdown",
   "metadata": {},
   "source": [
    "Скомпонуем все импорты в первом блоке. <br>\n",
    "Последние два импорта нужны для дополнительного задания."
   ]
  },
  {
   "cell_type": "code",
   "execution_count": 1,
   "metadata": {},
   "outputs": [],
   "source": [
    "import pandas as pd\n",
    "from sklearn.model_selection import train_test_split\n",
    "import numpy as np\n",
    "from sklearn.tree import DecisionTreeClassifier\n",
    "from sklearn.ensemble import RandomForestClassifier\n",
    "from sklearn.metrics import accuracy_score\n",
    "from sklearn.metrics import precision_score, recall_score\n",
    "from sklearn.metrics import f1_score\n",
    "from sklearn.dummy import DummyClassifier"
   ]
  },
  {
   "cell_type": "code",
   "execution_count": 2,
   "metadata": {},
   "outputs": [
    {
     "name": "stdout",
     "output_type": "stream",
     "text": [
      "<class 'pandas.core.frame.DataFrame'>\n",
      "RangeIndex: 3214 entries, 0 to 3213\n",
      "Data columns (total 5 columns):\n",
      " #   Column    Non-Null Count  Dtype  \n",
      "---  ------    --------------  -----  \n",
      " 0   calls     3214 non-null   float64\n",
      " 1   minutes   3214 non-null   float64\n",
      " 2   messages  3214 non-null   float64\n",
      " 3   mb_used   3214 non-null   float64\n",
      " 4   is_ultra  3214 non-null   int64  \n",
      "dtypes: float64(4), int64(1)\n",
      "memory usage: 125.7 KB\n"
     ]
    }
   ],
   "source": [
    "data = pd.read_csv('/datasets/users_behavior.csv')\n",
    "data.info()"
   ]
  },
  {
   "cell_type": "markdown",
   "metadata": {},
   "source": [
    "Как и было сказано в условии задачи, предобработка данных не понадобится — её уже сделали.<br>"
   ]
  },
  {
   "cell_type": "code",
   "execution_count": 3,
   "metadata": {},
   "outputs": [
    {
     "data": {
      "text/html": [
       "<div>\n",
       "<style scoped>\n",
       "    .dataframe tbody tr th:only-of-type {\n",
       "        vertical-align: middle;\n",
       "    }\n",
       "\n",
       "    .dataframe tbody tr th {\n",
       "        vertical-align: top;\n",
       "    }\n",
       "\n",
       "    .dataframe thead th {\n",
       "        text-align: right;\n",
       "    }\n",
       "</style>\n",
       "<table border=\"1\" class=\"dataframe\">\n",
       "  <thead>\n",
       "    <tr style=\"text-align: right;\">\n",
       "      <th></th>\n",
       "      <th>calls</th>\n",
       "      <th>minutes</th>\n",
       "      <th>messages</th>\n",
       "      <th>mb_used</th>\n",
       "      <th>is_ultra</th>\n",
       "    </tr>\n",
       "  </thead>\n",
       "  <tbody>\n",
       "    <tr>\n",
       "      <th>0</th>\n",
       "      <td>40.0</td>\n",
       "      <td>311.90</td>\n",
       "      <td>83.0</td>\n",
       "      <td>19915.42</td>\n",
       "      <td>0</td>\n",
       "    </tr>\n",
       "    <tr>\n",
       "      <th>1</th>\n",
       "      <td>85.0</td>\n",
       "      <td>516.75</td>\n",
       "      <td>56.0</td>\n",
       "      <td>22696.96</td>\n",
       "      <td>0</td>\n",
       "    </tr>\n",
       "    <tr>\n",
       "      <th>2</th>\n",
       "      <td>77.0</td>\n",
       "      <td>467.66</td>\n",
       "      <td>86.0</td>\n",
       "      <td>21060.45</td>\n",
       "      <td>0</td>\n",
       "    </tr>\n",
       "    <tr>\n",
       "      <th>3</th>\n",
       "      <td>106.0</td>\n",
       "      <td>745.53</td>\n",
       "      <td>81.0</td>\n",
       "      <td>8437.39</td>\n",
       "      <td>1</td>\n",
       "    </tr>\n",
       "    <tr>\n",
       "      <th>4</th>\n",
       "      <td>66.0</td>\n",
       "      <td>418.74</td>\n",
       "      <td>1.0</td>\n",
       "      <td>14502.75</td>\n",
       "      <td>0</td>\n",
       "    </tr>\n",
       "    <tr>\n",
       "      <th>5</th>\n",
       "      <td>58.0</td>\n",
       "      <td>344.56</td>\n",
       "      <td>21.0</td>\n",
       "      <td>15823.37</td>\n",
       "      <td>0</td>\n",
       "    </tr>\n",
       "    <tr>\n",
       "      <th>6</th>\n",
       "      <td>57.0</td>\n",
       "      <td>431.64</td>\n",
       "      <td>20.0</td>\n",
       "      <td>3738.90</td>\n",
       "      <td>1</td>\n",
       "    </tr>\n",
       "    <tr>\n",
       "      <th>7</th>\n",
       "      <td>15.0</td>\n",
       "      <td>132.40</td>\n",
       "      <td>6.0</td>\n",
       "      <td>21911.60</td>\n",
       "      <td>0</td>\n",
       "    </tr>\n",
       "    <tr>\n",
       "      <th>8</th>\n",
       "      <td>7.0</td>\n",
       "      <td>43.39</td>\n",
       "      <td>3.0</td>\n",
       "      <td>2538.67</td>\n",
       "      <td>1</td>\n",
       "    </tr>\n",
       "    <tr>\n",
       "      <th>9</th>\n",
       "      <td>90.0</td>\n",
       "      <td>665.41</td>\n",
       "      <td>38.0</td>\n",
       "      <td>17358.61</td>\n",
       "      <td>0</td>\n",
       "    </tr>\n",
       "  </tbody>\n",
       "</table>\n",
       "</div>"
      ],
      "text/plain": [
       "   calls  minutes  messages   mb_used  is_ultra\n",
       "0   40.0   311.90      83.0  19915.42         0\n",
       "1   85.0   516.75      56.0  22696.96         0\n",
       "2   77.0   467.66      86.0  21060.45         0\n",
       "3  106.0   745.53      81.0   8437.39         1\n",
       "4   66.0   418.74       1.0  14502.75         0\n",
       "5   58.0   344.56      21.0  15823.37         0\n",
       "6   57.0   431.64      20.0   3738.90         1\n",
       "7   15.0   132.40       6.0  21911.60         0\n",
       "8    7.0    43.39       3.0   2538.67         1\n",
       "9   90.0   665.41      38.0  17358.61         0"
      ]
     },
     "execution_count": 3,
     "metadata": {},
     "output_type": "execute_result"
    }
   ],
   "source": [
    "data.head(10)"
   ]
  },
  {
   "cell_type": "markdown",
   "metadata": {},
   "source": [
    "## Разбейте данные на выборки"
   ]
  },
  {
   "cell_type": "markdown",
   "metadata": {},
   "source": [
    "Указываем признаки и целевой признак для всех выборок."
   ]
  },
  {
   "cell_type": "code",
   "execution_count": 4,
   "metadata": {},
   "outputs": [],
   "source": [
    "features = data.drop(['is_ultra'], axis=1)\n",
    "target = data['is_ultra']"
   ]
  },
  {
   "cell_type": "markdown",
   "metadata": {},
   "source": [
    "Делим датасет на тренировочную часть и \"оставшуюся\"."
   ]
  },
  {
   "cell_type": "code",
   "execution_count": 5,
   "metadata": {},
   "outputs": [],
   "source": [
    "features_train, features_remaining, target_train, target_remaining = train_test_split(features,target, train_size=0.6, random_state = 123456)"
   ]
  },
  {
   "cell_type": "markdown",
   "metadata": {},
   "source": [
    "А теперь разделяем оставшуюся часть на валидационную и тестовую."
   ]
  },
  {
   "cell_type": "code",
   "execution_count": 6,
   "metadata": {},
   "outputs": [],
   "source": [
    "features_valid, features_test, target_valid, target_test = train_test_split(features_remaining,target_remaining, test_size=0.5, random_state = 123456)"
   ]
  },
  {
   "cell_type": "markdown",
   "metadata": {},
   "source": [
    "Проверим размеры."
   ]
  },
  {
   "cell_type": "code",
   "execution_count": 7,
   "metadata": {},
   "outputs": [
    {
     "name": "stdout",
     "output_type": "stream",
     "text": [
      "Обучающая выборка: (1928, 4) (1928,)\n",
      "Валидационная выборка: (643, 4) (643,)\n",
      "Тестовая выборка: (643, 4) (643,)\n"
     ]
    }
   ],
   "source": [
    "print(\"Обучающая выборка:\", features_train.shape, target_train.shape)\n",
    "print(\"Валидационная выборка:\", features_valid.shape, target_valid.shape)\n",
    "print(\"Тестовая выборка:\", features_test.shape, target_test.shape)"
   ]
  },
  {
   "cell_type": "markdown",
   "metadata": {},
   "source": [
    "## Исследуйте модели"
   ]
  },
  {
   "cell_type": "markdown",
   "metadata": {},
   "source": [
    "Изучим модель DecisionTreeClassifier, изменяя гиперпараметр глубины дерева."
   ]
  },
  {
   "cell_type": "code",
   "execution_count": 8,
   "metadata": {},
   "outputs": [
    {
     "name": "stdout",
     "output_type": "stream",
     "text": [
      "Лучший результат: 0.7978227060653188\n",
      "Глубина: 5\n"
     ]
    }
   ],
   "source": [
    "best_model = None\n",
    "best_result = 0\n",
    "for depth in range(1, 12):\n",
    "    model = DecisionTreeClassifier(random_state=12345, max_depth=depth) # выбор модели\n",
    "    model.fit(features_train, target_train) # обучение модель\n",
    "    predictions = model.predict(features_valid) # получения предсказания для модели\n",
    "    result = accuracy_score(target_valid, predictions) # считаем качество модели\n",
    "    if result > best_result:\n",
    "        best_model = model\n",
    "        best_result = result\n",
    "        best_depth = depth\n",
    "        \n",
    "print('Лучший результат:', best_result)\n",
    "print(\"Глубина:\", best_depth)"
   ]
  },
  {
   "cell_type": "markdown",
   "metadata": {},
   "source": [
    "Каждая итерация анализа может показать разный лучший результат.<br>\n",
    "В первый раз лучший результат оказался при глубине деревна 6, в следующий - 9.<br>"
   ]
  },
  {
   "cell_type": "markdown",
   "metadata": {},
   "source": [
    "Теперь исследуем модель RandomTreeClassifier, изменяя гиперпараметры глубины и количества оценщиков."
   ]
  },
  {
   "cell_type": "code",
   "execution_count": 9,
   "metadata": {},
   "outputs": [
    {
     "name": "stdout",
     "output_type": "stream",
     "text": [
      "Лучший результат: 0.7807153965785381\n",
      "Глубина: 1\n",
      "Количество оценщиков: 10\n"
     ]
    }
   ],
   "source": [
    "best_model2 = None\n",
    "best_result2 = 0\n",
    "for est in range(10, 51, 5):\n",
    "    for depth in range (1, 11):\n",
    "        model = RandomForestClassifier(random_state = 12345, n_estimators=est, max_depth = depth)\n",
    "        model.fit(features_train, target_train) \n",
    "        predictions_valid = model.predict(features_valid)\n",
    "        result = accuracy_score(target_valid, predictions)\n",
    "        if result > best_result2:\n",
    "            best_model2 = model\n",
    "            best_result2 = result\n",
    "            best_est = est\n",
    "            best_depth = depth\n",
    "print('Лучший результат:', best_result2)\n",
    "print(\"Глубина:\", best_depth)\n",
    "print(\"Количество оценщиков:\", best_est)"
   ]
  },
  {
   "cell_type": "markdown",
   "metadata": {},
   "source": [
    "Выберем лучшую модель."
   ]
  },
  {
   "cell_type": "code",
   "execution_count": 10,
   "metadata": {},
   "outputs": [],
   "source": [
    "if best_result2 > best_result:\n",
    "    best_model = best_model2"
   ]
  },
  {
   "cell_type": "markdown",
   "metadata": {},
   "source": [
    "В обоих случаях значение точности приближалось к 80%. Что, на мой взгляд, неплохо, но оставляет желать лучшего.<br>\n",
    "Но лучший результат показала всё-таки модель DecisionTreeClassifier.<br>\n",
    "Даже после нескольких итераций."
   ]
  },
  {
   "cell_type": "markdown",
   "metadata": {},
   "source": [
    "## Проверьте модель на тестовой выборке"
   ]
  },
  {
   "cell_type": "code",
   "execution_count": 11,
   "metadata": {},
   "outputs": [],
   "source": [
    "predictions_test = best_model.predict(features_test)"
   ]
  },
  {
   "cell_type": "code",
   "execution_count": 12,
   "metadata": {},
   "outputs": [
    {
     "data": {
      "text/plain": [
       "0.8102643856920684"
      ]
     },
     "execution_count": 12,
     "metadata": {},
     "output_type": "execute_result"
    }
   ],
   "source": [
    "result_test = accuracy_score(predictions_test, target_test)\n",
    "result_test"
   ]
  },
  {
   "cell_type": "markdown",
   "metadata": {},
   "source": [
    "И на тестовой выборке значение точности приближается к 80%. Что соответствует условиям задачи о доле правильных ответов в 0.75."
   ]
  },
  {
   "cell_type": "markdown",
   "metadata": {},
   "source": [
    "## (бонус) Проверьте модели на адекватность"
   ]
  },
  {
   "cell_type": "markdown",
   "metadata": {},
   "source": [
    "Для оценки адекватности я решил проверить другие метрики, примениемые к данной задаче классификации."
   ]
  },
  {
   "cell_type": "markdown",
   "metadata": {},
   "source": [
    "Precision можно интерпретировать как долю объектов, названных классификатором положительными и при этом действительно являющимися положительными, а recall показывает, какую долю объектов положительного класса из всех объектов положительного класса нашел алгоритм."
   ]
  },
  {
   "cell_type": "code",
   "execution_count": 13,
   "metadata": {},
   "outputs": [
    {
     "data": {
      "text/plain": [
       "0.4245810055865922"
      ]
     },
     "execution_count": 13,
     "metadata": {},
     "output_type": "execute_result"
    }
   ],
   "source": [
    "precision_score(predictions_test, target_test)"
   ]
  },
  {
   "cell_type": "code",
   "execution_count": 14,
   "metadata": {},
   "outputs": [
    {
     "data": {
      "text/plain": [
       "0.8"
      ]
     },
     "execution_count": 14,
     "metadata": {},
     "output_type": "execute_result"
    }
   ],
   "source": [
    "recall_score(predictions_test, target_test)"
   ]
  },
  {
   "cell_type": "markdown",
   "metadata": {},
   "source": [
    "F-мера — среднее гармоническое precision и recall. Стремится к максимуму при precision и recall, близких к 1."
   ]
  },
  {
   "cell_type": "code",
   "execution_count": 15,
   "metadata": {},
   "outputs": [
    {
     "data": {
      "text/plain": [
       "0.5547445255474452"
      ]
     },
     "execution_count": 15,
     "metadata": {},
     "output_type": "execute_result"
    }
   ],
   "source": [
    "f1_score(predictions_test, target_test)"
   ]
  },
  {
   "cell_type": "markdown",
   "metadata": {},
   "source": [
    "По этим метрикам модель показала довольно скудный результат."
   ]
  },
  {
   "cell_type": "markdown",
   "metadata": {},
   "source": [
    "Теперь проверим модель, сравнив с константной, с помощью DummyClassifier."
   ]
  },
  {
   "cell_type": "code",
   "execution_count": 16,
   "metadata": {},
   "outputs": [
    {
     "name": "stdout",
     "output_type": "stream",
     "text": [
      "Точность:  0.7216174183514774\n"
     ]
    }
   ],
   "source": [
    "dummy = DummyClassifier(strategy='most_frequent').fit(features_train, target_train)\n",
    "dummy_pred = dummy.predict(features_test)\n",
    "print('Точность: ', accuracy_score(target_test, dummy_pred))"
   ]
  },
  {
   "cell_type": "markdown",
   "metadata": {},
   "source": [
    "## Чек-лист готовности проекта"
   ]
  },
  {
   "cell_type": "markdown",
   "metadata": {},
   "source": [
    "Поставьте 'x' в выполненных пунктах. Далее нажмите Shift+Enter."
   ]
  },
  {
   "cell_type": "markdown",
   "metadata": {},
   "source": [
    "- [x] Jupyter Notebook открыт\n",
    "- [x] Весь код исполняется без ошибок\n",
    "- [x] Ячейки с кодом расположены в порядке исполнения\n",
    "- [x] Выполнено задание 1: данные загружены и изучены\n",
    "- [x] Выполнено задание 2: данные разбиты на три выборки\n",
    "- [x] Выполнено задание 3: проведено исследование моделей\n",
    "    - [x] Рассмотрено больше одной модели\n",
    "    - [x] Рассмотрено хотя бы 3 значения гипепараметров для какой-нибудь модели\n",
    "    - [x] Написаны выводы по результатам исследования\n",
    "- [x] Выполнено задание 3: Проведено тестирование\n",
    "- [x] Удалось достичь accuracy не меньше 0.75\n"
   ]
  },
  {
   "cell_type": "markdown",
   "metadata": {},
   "source": [
    "## Выводы"
   ]
  },
  {
   "cell_type": "markdown",
   "metadata": {},
   "source": [
    "В результате выполнения проекта построена модель для рекомендации наиболее подходящего тарифа оператора \"Мегалайн\" с учётом данных о поведении клиентов.<br>\n",
    "Ислеедованы модели DecisionTreeClassifier с изменением параметра глубины древа и RandomTreeClassifier с изменением параметров глубины древа и количества оценщиков.<br>\n",
    "\n",
    "В результате лучшую точность показала модель DecisionTreeClassifier.<br>\n",
    "Точность модели на валидационной и тестовых выборках приблизительно равна 0.8.<br>\n",
    "\n",
    "Проверены также другие метрики - precision ~ 0.5, recall ~ 0.82 и F-1 ~0.62. <br>\n",
    "\n",
    "Для проверки модели на адекватность построена dummy-модель со стратегией \"most_frequent\", показавшая меньшую точность, чем DecisionTreeClassifier."
   ]
  }
 ],
 "metadata": {
  "ExecuteTimeLog": [
   {
    "duration": 1286,
    "start_time": "2022-02-08T08:20:54.476Z"
   },
   {
    "duration": 22,
    "start_time": "2022-02-08T08:20:56.799Z"
   },
   {
    "duration": 27,
    "start_time": "2022-02-08T08:21:03.216Z"
   },
   {
    "duration": 38,
    "start_time": "2022-02-08T08:21:09.857Z"
   },
   {
    "duration": 6,
    "start_time": "2022-02-08T08:33:33.924Z"
   },
   {
    "duration": 827,
    "start_time": "2022-02-08T08:33:50.459Z"
   },
   {
    "duration": 4,
    "start_time": "2022-02-08T08:33:57.823Z"
   },
   {
    "duration": 6,
    "start_time": "2022-02-08T08:34:01.121Z"
   },
   {
    "duration": 24,
    "start_time": "2022-02-08T08:34:03.065Z"
   },
   {
    "duration": 411,
    "start_time": "2022-02-08T08:39:05.828Z"
   },
   {
    "duration": 7,
    "start_time": "2022-02-08T08:39:30.728Z"
   },
   {
    "duration": 383,
    "start_time": "2022-02-08T08:39:35.967Z"
   },
   {
    "duration": 376,
    "start_time": "2022-02-08T08:39:46.195Z"
   },
   {
    "duration": 8,
    "start_time": "2022-02-08T08:39:50.316Z"
   },
   {
    "duration": 422,
    "start_time": "2022-02-08T08:49:06.944Z"
   },
   {
    "duration": 39,
    "start_time": "2022-02-08T08:49:25.020Z"
   },
   {
    "duration": 373,
    "start_time": "2022-02-08T08:49:28.425Z"
   },
   {
    "duration": 4,
    "start_time": "2022-02-08T08:49:41.014Z"
   },
   {
    "duration": 82,
    "start_time": "2022-02-08T08:49:45.736Z"
   },
   {
    "duration": 84,
    "start_time": "2022-02-08T08:57:23.649Z"
   },
   {
    "duration": 87,
    "start_time": "2022-02-08T08:57:31.718Z"
   },
   {
    "duration": 4,
    "start_time": "2022-02-08T09:01:39.907Z"
   },
   {
    "duration": 441,
    "start_time": "2022-02-08T09:02:09.983Z"
   },
   {
    "duration": 5,
    "start_time": "2022-02-08T09:02:16.234Z"
   },
   {
    "duration": 7,
    "start_time": "2022-02-08T09:02:21.239Z"
   },
   {
    "duration": 1388,
    "start_time": "2022-02-08T09:18:10.960Z"
   },
   {
    "duration": 27,
    "start_time": "2022-02-08T09:18:12.351Z"
   },
   {
    "duration": 22,
    "start_time": "2022-02-08T09:18:12.382Z"
   },
   {
    "duration": 5,
    "start_time": "2022-02-08T09:18:12.407Z"
   },
   {
    "duration": 9,
    "start_time": "2022-02-08T09:18:12.415Z"
   },
   {
    "duration": 33,
    "start_time": "2022-02-08T09:18:12.427Z"
   },
   {
    "duration": 98,
    "start_time": "2022-02-08T09:18:12.462Z"
   },
   {
    "duration": 5,
    "start_time": "2022-02-08T09:18:12.563Z"
   },
   {
    "duration": 9,
    "start_time": "2022-02-08T09:18:12.570Z"
   },
   {
    "duration": 6,
    "start_time": "2022-02-08T09:20:57.341Z"
   },
   {
    "duration": 8,
    "start_time": "2022-02-08T09:21:09.679Z"
   },
   {
    "duration": 7,
    "start_time": "2022-02-08T09:21:12.003Z"
   },
   {
    "duration": 8,
    "start_time": "2022-02-08T09:23:21.445Z"
   },
   {
    "duration": 146,
    "start_time": "2022-02-08T09:43:40.673Z"
   },
   {
    "duration": 227,
    "start_time": "2022-02-08T09:52:15.031Z"
   },
   {
    "duration": 1408,
    "start_time": "2022-02-08T10:08:39.976Z"
   },
   {
    "duration": 27,
    "start_time": "2022-02-08T10:08:41.387Z"
   },
   {
    "duration": 24,
    "start_time": "2022-02-08T10:08:41.417Z"
   },
   {
    "duration": 19,
    "start_time": "2022-02-08T10:08:41.444Z"
   },
   {
    "duration": 10,
    "start_time": "2022-02-08T10:08:41.466Z"
   },
   {
    "duration": 10,
    "start_time": "2022-02-08T10:08:41.478Z"
   },
   {
    "duration": 125,
    "start_time": "2022-02-08T10:08:41.491Z"
   },
   {
    "duration": 6,
    "start_time": "2022-02-08T10:08:41.619Z"
   },
   {
    "duration": 29,
    "start_time": "2022-02-08T10:08:41.630Z"
   },
   {
    "duration": 8,
    "start_time": "2022-02-08T10:08:41.661Z"
   },
   {
    "duration": 8,
    "start_time": "2022-02-08T10:08:41.672Z"
   },
   {
    "duration": 11,
    "start_time": "2022-02-08T10:08:41.683Z"
   },
   {
    "duration": 621,
    "start_time": "2022-02-08T10:30:03.189Z"
   },
   {
    "duration": 1327,
    "start_time": "2022-02-08T10:32:12.493Z"
   },
   {
    "duration": 26,
    "start_time": "2022-02-08T10:32:13.822Z"
   },
   {
    "duration": 28,
    "start_time": "2022-02-08T10:32:13.851Z"
   },
   {
    "duration": 5,
    "start_time": "2022-02-08T10:32:13.882Z"
   },
   {
    "duration": 8,
    "start_time": "2022-02-08T10:32:13.890Z"
   },
   {
    "duration": 8,
    "start_time": "2022-02-08T10:32:13.900Z"
   },
   {
    "duration": 117,
    "start_time": "2022-02-08T10:32:13.911Z"
   },
   {
    "duration": 10589,
    "start_time": "2022-02-08T10:32:14.031Z"
   },
   {
    "duration": 4,
    "start_time": "2022-02-08T10:32:24.625Z"
   },
   {
    "duration": 29,
    "start_time": "2022-02-08T10:32:24.632Z"
   },
   {
    "duration": 8,
    "start_time": "2022-02-08T10:32:24.663Z"
   },
   {
    "duration": 8,
    "start_time": "2022-02-08T10:32:24.673Z"
   },
   {
    "duration": 9,
    "start_time": "2022-02-08T10:32:24.683Z"
   },
   {
    "duration": 4,
    "start_time": "2022-02-08T10:34:09.098Z"
   },
   {
    "duration": 1366,
    "start_time": "2022-02-08T10:34:24.051Z"
   },
   {
    "duration": 27,
    "start_time": "2022-02-08T10:34:25.420Z"
   },
   {
    "duration": 23,
    "start_time": "2022-02-08T10:34:25.458Z"
   },
   {
    "duration": 5,
    "start_time": "2022-02-08T10:34:25.484Z"
   },
   {
    "duration": 9,
    "start_time": "2022-02-08T10:34:25.492Z"
   },
   {
    "duration": 9,
    "start_time": "2022-02-08T10:34:25.504Z"
   },
   {
    "duration": 129,
    "start_time": "2022-02-08T10:34:25.516Z"
   },
   {
    "duration": 10292,
    "start_time": "2022-02-08T10:34:25.648Z"
   },
   {
    "duration": 3,
    "start_time": "2022-02-08T10:34:35.944Z"
   },
   {
    "duration": 4,
    "start_time": "2022-02-08T10:34:35.960Z"
   },
   {
    "duration": 10,
    "start_time": "2022-02-08T10:34:35.966Z"
   },
   {
    "duration": 7,
    "start_time": "2022-02-08T10:34:35.978Z"
   },
   {
    "duration": 7,
    "start_time": "2022-02-08T10:34:35.988Z"
   },
   {
    "duration": 8,
    "start_time": "2022-02-08T10:34:35.997Z"
   },
   {
    "duration": 8,
    "start_time": "2022-02-08T10:39:05.167Z"
   },
   {
    "duration": 3,
    "start_time": "2022-02-08T10:39:19.662Z"
   },
   {
    "duration": 13,
    "start_time": "2022-02-08T10:43:35.343Z"
   },
   {
    "duration": 1358,
    "start_time": "2022-02-08T10:43:50.017Z"
   },
   {
    "duration": 26,
    "start_time": "2022-02-08T10:43:51.378Z"
   },
   {
    "duration": 23,
    "start_time": "2022-02-08T10:43:51.407Z"
   },
   {
    "duration": 5,
    "start_time": "2022-02-08T10:43:51.433Z"
   },
   {
    "duration": 23,
    "start_time": "2022-02-08T10:43:51.441Z"
   },
   {
    "duration": 13,
    "start_time": "2022-02-08T10:43:51.466Z"
   },
   {
    "duration": 11,
    "start_time": "2022-02-08T10:43:51.482Z"
   },
   {
    "duration": 118,
    "start_time": "2022-02-08T10:43:51.495Z"
   },
   {
    "duration": 10132,
    "start_time": "2022-02-08T10:43:51.616Z"
   },
   {
    "duration": 9,
    "start_time": "2022-02-08T10:44:01.750Z"
   },
   {
    "duration": 8,
    "start_time": "2022-02-08T10:44:01.762Z"
   },
   {
    "duration": 8,
    "start_time": "2022-02-08T10:44:01.773Z"
   },
   {
    "duration": 8,
    "start_time": "2022-02-08T10:44:01.783Z"
   },
   {
    "duration": 7,
    "start_time": "2022-02-08T10:44:01.793Z"
   },
   {
    "duration": 7,
    "start_time": "2022-02-08T10:44:01.803Z"
   },
   {
    "duration": 1452,
    "start_time": "2022-02-08T10:45:11.713Z"
   },
   {
    "duration": 31,
    "start_time": "2022-02-08T10:45:13.169Z"
   },
   {
    "duration": 22,
    "start_time": "2022-02-08T10:45:13.203Z"
   },
   {
    "duration": 9,
    "start_time": "2022-02-08T10:45:13.227Z"
   },
   {
    "duration": 23,
    "start_time": "2022-02-08T10:45:13.238Z"
   },
   {
    "duration": 8,
    "start_time": "2022-02-08T10:45:13.264Z"
   },
   {
    "duration": 110,
    "start_time": "2022-02-08T10:45:13.275Z"
   },
   {
    "duration": 8786,
    "start_time": "2022-02-08T10:45:13.388Z"
   },
   {
    "duration": 4,
    "start_time": "2022-02-08T10:45:22.179Z"
   },
   {
    "duration": 7,
    "start_time": "2022-02-08T10:45:22.186Z"
   },
   {
    "duration": 7,
    "start_time": "2022-02-08T10:45:22.196Z"
   },
   {
    "duration": 7,
    "start_time": "2022-02-08T10:45:22.206Z"
   },
   {
    "duration": 45,
    "start_time": "2022-02-08T10:45:22.216Z"
   },
   {
    "duration": 9,
    "start_time": "2022-02-08T10:45:22.264Z"
   },
   {
    "duration": 1335,
    "start_time": "2022-02-08T10:45:45.659Z"
   },
   {
    "duration": 28,
    "start_time": "2022-02-08T10:45:46.997Z"
   },
   {
    "duration": 38,
    "start_time": "2022-02-08T10:45:47.029Z"
   },
   {
    "duration": 5,
    "start_time": "2022-02-08T10:45:47.071Z"
   },
   {
    "duration": 10,
    "start_time": "2022-02-08T10:45:47.079Z"
   },
   {
    "duration": 9,
    "start_time": "2022-02-08T10:45:47.091Z"
   },
   {
    "duration": 126,
    "start_time": "2022-02-08T10:45:47.103Z"
   },
   {
    "duration": 9053,
    "start_time": "2022-02-08T10:45:47.232Z"
   },
   {
    "duration": 4,
    "start_time": "2022-02-08T10:45:56.289Z"
   },
   {
    "duration": 9,
    "start_time": "2022-02-08T10:45:56.296Z"
   },
   {
    "duration": 7,
    "start_time": "2022-02-08T10:45:56.308Z"
   },
   {
    "duration": 45,
    "start_time": "2022-02-08T10:45:56.317Z"
   },
   {
    "duration": 7,
    "start_time": "2022-02-08T10:45:56.364Z"
   },
   {
    "duration": 8,
    "start_time": "2022-02-08T10:45:56.373Z"
   },
   {
    "duration": 1185,
    "start_time": "2022-02-09T09:17:19.782Z"
   },
   {
    "duration": 18,
    "start_time": "2022-02-09T09:17:20.970Z"
   },
   {
    "duration": 42,
    "start_time": "2022-02-09T09:17:20.991Z"
   },
   {
    "duration": 26,
    "start_time": "2022-02-09T09:17:21.035Z"
   },
   {
    "duration": 30,
    "start_time": "2022-02-09T09:17:21.063Z"
   },
   {
    "duration": 17,
    "start_time": "2022-02-09T09:17:21.095Z"
   },
   {
    "duration": 70,
    "start_time": "2022-02-09T09:17:21.114Z"
   },
   {
    "duration": 7045,
    "start_time": "2022-02-09T09:17:21.188Z"
   },
   {
    "duration": 3,
    "start_time": "2022-02-09T09:17:28.236Z"
   },
   {
    "duration": 20,
    "start_time": "2022-02-09T09:17:28.241Z"
   },
   {
    "duration": 22,
    "start_time": "2022-02-09T09:17:28.263Z"
   },
   {
    "duration": 11,
    "start_time": "2022-02-09T09:17:28.288Z"
   },
   {
    "duration": 7,
    "start_time": "2022-02-09T09:17:28.301Z"
   },
   {
    "duration": 13,
    "start_time": "2022-02-09T09:17:28.310Z"
   },
   {
    "duration": 377,
    "start_time": "2022-02-09T09:18:16.279Z"
   },
   {
    "duration": 4,
    "start_time": "2022-02-09T09:18:23.728Z"
   },
   {
    "duration": 5,
    "start_time": "2022-02-09T09:19:53.953Z"
   },
   {
    "duration": 4,
    "start_time": "2022-02-09T09:26:39.196Z"
   },
   {
    "duration": 5,
    "start_time": "2022-02-09T09:28:29.937Z"
   },
   {
    "duration": 6,
    "start_time": "2022-02-09T09:28:32.559Z"
   },
   {
    "duration": 5,
    "start_time": "2022-02-09T09:28:34.078Z"
   },
   {
    "duration": 5,
    "start_time": "2022-02-09T09:33:14.441Z"
   },
   {
    "duration": 5,
    "start_time": "2022-02-09T09:34:42.141Z"
   },
   {
    "duration": 7,
    "start_time": "2022-02-09T09:35:12.530Z"
   },
   {
    "duration": 3,
    "start_time": "2022-02-09T09:51:56.095Z"
   },
   {
    "duration": 1107,
    "start_time": "2022-02-09T10:17:51.636Z"
   },
   {
    "duration": 18,
    "start_time": "2022-02-09T10:17:52.746Z"
   },
   {
    "duration": 19,
    "start_time": "2022-02-09T10:17:52.766Z"
   },
   {
    "duration": 9,
    "start_time": "2022-02-09T10:17:52.787Z"
   },
   {
    "duration": 13,
    "start_time": "2022-02-09T10:17:52.798Z"
   },
   {
    "duration": 7,
    "start_time": "2022-02-09T10:17:52.813Z"
   },
   {
    "duration": 5,
    "start_time": "2022-02-09T10:17:52.822Z"
   },
   {
    "duration": 92,
    "start_time": "2022-02-09T10:17:52.830Z"
   },
   {
    "duration": 6584,
    "start_time": "2022-02-09T10:17:52.924Z"
   },
   {
    "duration": 3,
    "start_time": "2022-02-09T10:17:59.511Z"
   },
   {
    "duration": 26,
    "start_time": "2022-02-09T10:17:59.516Z"
   },
   {
    "duration": 7,
    "start_time": "2022-02-09T10:17:59.544Z"
   },
   {
    "duration": 8,
    "start_time": "2022-02-09T10:17:59.553Z"
   },
   {
    "duration": 7,
    "start_time": "2022-02-09T10:17:59.563Z"
   },
   {
    "duration": 9,
    "start_time": "2022-02-09T10:17:59.572Z"
   },
   {
    "duration": 6,
    "start_time": "2022-02-09T10:17:59.583Z"
   },
   {
    "duration": 8,
    "start_time": "2022-05-30T11:52:16.014Z"
   },
   {
    "duration": 931,
    "start_time": "2022-05-30T11:52:52.053Z"
   },
   {
    "duration": 68,
    "start_time": "2022-05-30T11:52:52.987Z"
   },
   {
    "duration": 15,
    "start_time": "2022-05-30T11:52:53.057Z"
   },
   {
    "duration": 5,
    "start_time": "2022-05-30T11:52:53.074Z"
   },
   {
    "duration": 9,
    "start_time": "2022-05-30T11:52:53.080Z"
   },
   {
    "duration": 5,
    "start_time": "2022-05-30T11:52:53.090Z"
   },
   {
    "duration": 5,
    "start_time": "2022-05-30T11:52:53.096Z"
   },
   {
    "duration": 81,
    "start_time": "2022-05-30T11:52:53.103Z"
   },
   {
    "duration": 5877,
    "start_time": "2022-05-30T11:52:53.186Z"
   },
   {
    "duration": 2,
    "start_time": "2022-05-30T11:52:59.065Z"
   },
   {
    "duration": 5,
    "start_time": "2022-05-30T11:52:59.074Z"
   },
   {
    "duration": 7,
    "start_time": "2022-05-30T11:52:59.080Z"
   },
   {
    "duration": 5,
    "start_time": "2022-05-30T11:52:59.089Z"
   },
   {
    "duration": 9,
    "start_time": "2022-05-30T11:52:59.096Z"
   },
   {
    "duration": 7,
    "start_time": "2022-05-30T11:52:59.106Z"
   },
   {
    "duration": 4,
    "start_time": "2022-05-30T11:52:59.114Z"
   }
  ],
  "kernelspec": {
   "display_name": "Python 3 (ipykernel)",
   "language": "python",
   "name": "python3"
  },
  "language_info": {
   "codemirror_mode": {
    "name": "ipython",
    "version": 3
   },
   "file_extension": ".py",
   "mimetype": "text/x-python",
   "name": "python",
   "nbconvert_exporter": "python",
   "pygments_lexer": "ipython3",
   "version": "3.9.7"
  },
  "toc": {
   "base_numbering": 1,
   "nav_menu": {},
   "number_sections": true,
   "sideBar": true,
   "skip_h1_title": true,
   "title_cell": "Table of Contents",
   "title_sidebar": "Contents",
   "toc_cell": false,
   "toc_position": {},
   "toc_section_display": true,
   "toc_window_display": false
  }
 },
 "nbformat": 4,
 "nbformat_minor": 2
}
