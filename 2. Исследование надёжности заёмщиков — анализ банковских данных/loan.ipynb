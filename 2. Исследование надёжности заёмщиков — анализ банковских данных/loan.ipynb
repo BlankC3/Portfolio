{
 "cells": [
  {
   "cell_type": "markdown",
   "metadata": {},
   "source": [
    "# Исследование надёжности заёмщиков\n",
    "\n",
    "Заказчик — кредитный отдел банка. Нужно разобраться, влияет ли семейное положение и количество детей клиента на факт погашения кредита в срок. Входные данные от банка — статистика о платёжеспособности клиентов.\n",
    "\n",
    "Результаты исследования будут учтены при построении модели **кредитного скоринга** — специальной системы, которая оценивает способность потенциального заёмщика вернуть кредит банку."
   ]
  },
  {
   "cell_type": "markdown",
   "metadata": {},
   "source": [
    "<b>Описание данных:</b><br>\n",
    "* children — количество детей в семье<br>\n",
    "* days_employed — общий трудовой стаж в днях<br>\n",
    "* dob_years — возраст клиента в годах<br>\n",
    "* education — уровень образования клиента<br>\n",
    "* education_id — идентификатор уровня образования<br>\n",
    "* family_status — семейное положение<br>\n",
    "* family_status_id — идентификатор семейного положения<br>\n",
    "* gender — пол клиента<br>\n",
    "* income_type — тип занятости<br>\n",
    "* debt — имел ли задолженность по возврату кредитов<br>\n",
    "* total_income — ежемесячный доход<br>\n",
    "* purpose — цель получения кредита<br>"
   ]
  },
  {
   "cell_type": "markdown",
   "metadata": {},
   "source": [
    "## Шаг 1. Откройте файл с данными и изучите общую информацию"
   ]
  },
  {
   "cell_type": "code",
   "execution_count": 1,
   "metadata": {},
   "outputs": [
    {
     "data": {
      "text/html": [
       "<div>\n",
       "<style scoped>\n",
       "    .dataframe tbody tr th:only-of-type {\n",
       "        vertical-align: middle;\n",
       "    }\n",
       "\n",
       "    .dataframe tbody tr th {\n",
       "        vertical-align: top;\n",
       "    }\n",
       "\n",
       "    .dataframe thead th {\n",
       "        text-align: right;\n",
       "    }\n",
       "</style>\n",
       "<table border=\"1\" class=\"dataframe\">\n",
       "  <thead>\n",
       "    <tr style=\"text-align: right;\">\n",
       "      <th></th>\n",
       "      <th>children</th>\n",
       "      <th>days_employed</th>\n",
       "      <th>dob_years</th>\n",
       "      <th>education</th>\n",
       "      <th>education_id</th>\n",
       "      <th>family_status</th>\n",
       "      <th>family_status_id</th>\n",
       "      <th>gender</th>\n",
       "      <th>income_type</th>\n",
       "      <th>debt</th>\n",
       "      <th>total_income</th>\n",
       "      <th>purpose</th>\n",
       "    </tr>\n",
       "  </thead>\n",
       "  <tbody>\n",
       "    <tr>\n",
       "      <th>0</th>\n",
       "      <td>1</td>\n",
       "      <td>-8437.673028</td>\n",
       "      <td>42</td>\n",
       "      <td>высшее</td>\n",
       "      <td>0</td>\n",
       "      <td>женат / замужем</td>\n",
       "      <td>0</td>\n",
       "      <td>F</td>\n",
       "      <td>сотрудник</td>\n",
       "      <td>0</td>\n",
       "      <td>253875.639453</td>\n",
       "      <td>покупка жилья</td>\n",
       "    </tr>\n",
       "    <tr>\n",
       "      <th>1</th>\n",
       "      <td>1</td>\n",
       "      <td>-4024.803754</td>\n",
       "      <td>36</td>\n",
       "      <td>среднее</td>\n",
       "      <td>1</td>\n",
       "      <td>женат / замужем</td>\n",
       "      <td>0</td>\n",
       "      <td>F</td>\n",
       "      <td>сотрудник</td>\n",
       "      <td>0</td>\n",
       "      <td>112080.014102</td>\n",
       "      <td>приобретение автомобиля</td>\n",
       "    </tr>\n",
       "    <tr>\n",
       "      <th>2</th>\n",
       "      <td>0</td>\n",
       "      <td>-5623.422610</td>\n",
       "      <td>33</td>\n",
       "      <td>Среднее</td>\n",
       "      <td>1</td>\n",
       "      <td>женат / замужем</td>\n",
       "      <td>0</td>\n",
       "      <td>M</td>\n",
       "      <td>сотрудник</td>\n",
       "      <td>0</td>\n",
       "      <td>145885.952297</td>\n",
       "      <td>покупка жилья</td>\n",
       "    </tr>\n",
       "    <tr>\n",
       "      <th>3</th>\n",
       "      <td>3</td>\n",
       "      <td>-4124.747207</td>\n",
       "      <td>32</td>\n",
       "      <td>среднее</td>\n",
       "      <td>1</td>\n",
       "      <td>женат / замужем</td>\n",
       "      <td>0</td>\n",
       "      <td>M</td>\n",
       "      <td>сотрудник</td>\n",
       "      <td>0</td>\n",
       "      <td>267628.550329</td>\n",
       "      <td>дополнительное образование</td>\n",
       "    </tr>\n",
       "    <tr>\n",
       "      <th>4</th>\n",
       "      <td>0</td>\n",
       "      <td>340266.072047</td>\n",
       "      <td>53</td>\n",
       "      <td>среднее</td>\n",
       "      <td>1</td>\n",
       "      <td>гражданский брак</td>\n",
       "      <td>1</td>\n",
       "      <td>F</td>\n",
       "      <td>пенсионер</td>\n",
       "      <td>0</td>\n",
       "      <td>158616.077870</td>\n",
       "      <td>сыграть свадьбу</td>\n",
       "    </tr>\n",
       "    <tr>\n",
       "      <th>5</th>\n",
       "      <td>0</td>\n",
       "      <td>-926.185831</td>\n",
       "      <td>27</td>\n",
       "      <td>высшее</td>\n",
       "      <td>0</td>\n",
       "      <td>гражданский брак</td>\n",
       "      <td>1</td>\n",
       "      <td>M</td>\n",
       "      <td>компаньон</td>\n",
       "      <td>0</td>\n",
       "      <td>255763.565419</td>\n",
       "      <td>покупка жилья</td>\n",
       "    </tr>\n",
       "    <tr>\n",
       "      <th>6</th>\n",
       "      <td>0</td>\n",
       "      <td>-2879.202052</td>\n",
       "      <td>43</td>\n",
       "      <td>высшее</td>\n",
       "      <td>0</td>\n",
       "      <td>женат / замужем</td>\n",
       "      <td>0</td>\n",
       "      <td>F</td>\n",
       "      <td>компаньон</td>\n",
       "      <td>0</td>\n",
       "      <td>240525.971920</td>\n",
       "      <td>операции с жильем</td>\n",
       "    </tr>\n",
       "    <tr>\n",
       "      <th>7</th>\n",
       "      <td>0</td>\n",
       "      <td>-152.779569</td>\n",
       "      <td>50</td>\n",
       "      <td>СРЕДНЕЕ</td>\n",
       "      <td>1</td>\n",
       "      <td>женат / замужем</td>\n",
       "      <td>0</td>\n",
       "      <td>M</td>\n",
       "      <td>сотрудник</td>\n",
       "      <td>0</td>\n",
       "      <td>135823.934197</td>\n",
       "      <td>образование</td>\n",
       "    </tr>\n",
       "    <tr>\n",
       "      <th>8</th>\n",
       "      <td>2</td>\n",
       "      <td>-6929.865299</td>\n",
       "      <td>35</td>\n",
       "      <td>ВЫСШЕЕ</td>\n",
       "      <td>0</td>\n",
       "      <td>гражданский брак</td>\n",
       "      <td>1</td>\n",
       "      <td>F</td>\n",
       "      <td>сотрудник</td>\n",
       "      <td>0</td>\n",
       "      <td>95856.832424</td>\n",
       "      <td>на проведение свадьбы</td>\n",
       "    </tr>\n",
       "    <tr>\n",
       "      <th>9</th>\n",
       "      <td>0</td>\n",
       "      <td>-2188.756445</td>\n",
       "      <td>41</td>\n",
       "      <td>среднее</td>\n",
       "      <td>1</td>\n",
       "      <td>женат / замужем</td>\n",
       "      <td>0</td>\n",
       "      <td>M</td>\n",
       "      <td>сотрудник</td>\n",
       "      <td>0</td>\n",
       "      <td>144425.938277</td>\n",
       "      <td>покупка жилья для семьи</td>\n",
       "    </tr>\n",
       "  </tbody>\n",
       "</table>\n",
       "</div>"
      ],
      "text/plain": [
       "   children  days_employed  dob_years education  education_id  \\\n",
       "0         1   -8437.673028         42    высшее             0   \n",
       "1         1   -4024.803754         36   среднее             1   \n",
       "2         0   -5623.422610         33   Среднее             1   \n",
       "3         3   -4124.747207         32   среднее             1   \n",
       "4         0  340266.072047         53   среднее             1   \n",
       "5         0    -926.185831         27    высшее             0   \n",
       "6         0   -2879.202052         43    высшее             0   \n",
       "7         0    -152.779569         50   СРЕДНЕЕ             1   \n",
       "8         2   -6929.865299         35    ВЫСШЕЕ             0   \n",
       "9         0   -2188.756445         41   среднее             1   \n",
       "\n",
       "      family_status  family_status_id gender income_type  debt   total_income  \\\n",
       "0   женат / замужем                 0      F   сотрудник     0  253875.639453   \n",
       "1   женат / замужем                 0      F   сотрудник     0  112080.014102   \n",
       "2   женат / замужем                 0      M   сотрудник     0  145885.952297   \n",
       "3   женат / замужем                 0      M   сотрудник     0  267628.550329   \n",
       "4  гражданский брак                 1      F   пенсионер     0  158616.077870   \n",
       "5  гражданский брак                 1      M   компаньон     0  255763.565419   \n",
       "6   женат / замужем                 0      F   компаньон     0  240525.971920   \n",
       "7   женат / замужем                 0      M   сотрудник     0  135823.934197   \n",
       "8  гражданский брак                 1      F   сотрудник     0   95856.832424   \n",
       "9   женат / замужем                 0      M   сотрудник     0  144425.938277   \n",
       "\n",
       "                      purpose  \n",
       "0               покупка жилья  \n",
       "1     приобретение автомобиля  \n",
       "2               покупка жилья  \n",
       "3  дополнительное образование  \n",
       "4             сыграть свадьбу  \n",
       "5               покупка жилья  \n",
       "6           операции с жильем  \n",
       "7                 образование  \n",
       "8       на проведение свадьбы  \n",
       "9     покупка жилья для семьи  "
      ]
     },
     "execution_count": 1,
     "metadata": {},
     "output_type": "execute_result"
    }
   ],
   "source": [
    "import pandas as pd\n",
    "data = pd.read_csv('/datasets/data.csv')\n",
    "data.head(10)"
   ]
  },
  {
   "cell_type": "markdown",
   "metadata": {},
   "source": [
    "**Вывод**"
   ]
  },
  {
   "cell_type": "markdown",
   "metadata": {},
   "source": [
    "В результате анализа исходных данных выявлены следующие проблемы:\n",
    "1) Отрицательный стаж. Решение - значение по абсолюту. <br>\n",
    "2) Пропуски в стаже. Решение - заполнение медианным значением. <br>\n",
    "3) Данные о детях также содержат отрицательные значения и несколько слишком больших показателей. Решение - в случае отрицательного значения убираем минус, в случае \"20\" предполагаем, что это на самом деле \"2\". <br>\n",
    "4) Образование нужно привести к общему регистру <br>\n",
    "5) Пропуски в доходе. Решение - заполнение медианным занчением. <br>\n",
    "6) Стаж и доход заполнены вещественными числами. Решение - перевести в целочисленные значения. <br>\n",
    "7) Видно, что потребуется леммизация цели получения кредита. <br>"
   ]
  },
  {
   "cell_type": "markdown",
   "metadata": {},
   "source": [
    "## Шаг 2. Предобработка данных"
   ]
  },
  {
   "cell_type": "markdown",
   "metadata": {},
   "source": [
    "### Обработка пропусков"
   ]
  },
  {
   "cell_type": "markdown",
   "metadata": {},
   "source": [
    "Возьмём модуль значения стажа и заполним пропуски медианным значением."
   ]
  },
  {
   "cell_type": "code",
   "execution_count": 2,
   "metadata": {},
   "outputs": [],
   "source": [
    "data['days_employed'] = data['days_employed'].abs() #берем модуль стажа для ухода от отрицательных значений\n",
    "data['days_employed'] = data['days_employed'].fillna(data['days_employed'].median()) #заполняем пропуски меданой\n",
    "data['total_income'] = data['total_income'].fillna(data['total_income'].median())"
   ]
  },
  {
   "cell_type": "markdown",
   "metadata": {},
   "source": [
    "### Замена типа данных"
   ]
  },
  {
   "cell_type": "markdown",
   "metadata": {},
   "source": [
    "Переведём стаж и доход в тип integer."
   ]
  },
  {
   "cell_type": "code",
   "execution_count": 3,
   "metadata": {},
   "outputs": [],
   "source": [
    "data = data.astype({\"days_employed\": \"int64\", 'total_income': 'int64'}) #переводим стаж и доход в целые числа"
   ]
  },
  {
   "cell_type": "markdown",
   "metadata": {},
   "source": [
    "### Обработка дубликатов"
   ]
  },
  {
   "cell_type": "markdown",
   "metadata": {},
   "source": [
    "Исправим аномалии в количестве детей и приведём данные об образовании к общему регистру."
   ]
  },
  {
   "cell_type": "code",
   "execution_count": 4,
   "metadata": {},
   "outputs": [],
   "source": [
    "data['children'] = data['children'].replace(-1, 1) #заменяем отрицательное и слишком большое количество детей на правдоподобные данные\n",
    "data['children'] = data['children'].replace(20, 2)\n",
    "data['education'] = data['education'].str.lower() #приводим данные об образовании к общему регистру. Для решения задачи не понадобится, но данные обработать нужно\n",
    "\n",
    "data = data.drop_duplicates().reset_index(drop = True) # удаляем дубликат, подсчёт показал, что их 71"
   ]
  },
  {
   "cell_type": "markdown",
   "metadata": {},
   "source": [
    "### Лемматизация"
   ]
  },
  {
   "cell_type": "markdown",
   "metadata": {},
   "source": [
    "При анализе исходных данных чётком вырисовывались четыре категории \"жилье\", \"автомобиль\", \"образование\", \"свадьба\".<br>\n",
    "Было решено объединить леммизацию и категоризацию в одну функцию. В результате оказалось, что необходимо ещё учесть \"недвижимость\" и решение складывалось без подсчёта лемм."
   ]
  },
  {
   "cell_type": "code",
   "execution_count": 5,
   "metadata": {},
   "outputs": [
    {
     "data": {
      "text/plain": [
       "жилье          10811\n",
       "автомобиль      4306\n",
       "образование     4013\n",
       "свадьба         2324\n",
       "Name: purpose_group, dtype: int64"
      ]
     },
     "execution_count": 5,
     "metadata": {},
     "output_type": "execute_result"
    }
   ],
   "source": [
    "from pymystem3 import Mystem\n",
    "m = Mystem() \n",
    "def lemma_function(purpose):\n",
    "    if (\"жилье\" in m.lemmatize(purpose)) or ('недвижимость' in m.lemmatize(purpose)):\n",
    "        return \"жилье\"\n",
    "    elif 'автомобиль' in m.lemmatize(purpose):\n",
    "        return 'автомобиль'\n",
    "    elif 'образование' in m.lemmatize(purpose):\n",
    "        return 'образование'\n",
    "    elif 'свадьба' in m.lemmatize(purpose):\n",
    "        return 'свадьба'\n",
    "data['purpose_group'] = data['purpose'].apply(lemma_function)\n",
    "data['purpose_group'].value_counts()"
   ]
  },
  {
   "cell_type": "markdown",
   "metadata": {},
   "source": [
    "### Категоризация данных"
   ]
  },
  {
   "cell_type": "markdown",
   "metadata": {},
   "source": [
    "Остальная категоризация выполнена исходя из постановки задач. <br>\n",
    "По количеству детей клиентов решено было разделить на три категории: \"без детей\", \"малодетные(1-2)\", \"многодетные(3+)\". <br>\n",
    "По семейному положению - на две: \"в отношениях\" и \"одинок / одинока\".<br>\n",
    "По доходу - на четыре: \"до 50 тысяч\", \"до 100 тысяч\", \"до 250 тысяч\", \"больше 250 тысяч\". За 50 тысяч я принял среднюю зарплату по России, за 100 тысяч - комфортный доход по мнению россиян, 250 тысяч - произвольная планка, нечто среднее между средним классом и людьми с большим доходом (250+)"
   ]
  },
  {
   "cell_type": "code",
   "execution_count": 6,
   "metadata": {},
   "outputs": [],
   "source": [
    "def children_function(children):\n",
    "    if children == 0:\n",
    "        return \"без детей\"\n",
    "    elif (children == 1) or (children == 2):\n",
    "        return \"малодетная семья\"\n",
    "    else:\n",
    "        return 'многодетная семья'\n",
    "data['children_group'] = data['children'].apply(children_function)\n",
    "\n",
    "def relationship_function(family_status):\n",
    "    if (family_status == 'женат / замужем') or (family_status == \"гражданский брак\"):\n",
    "        return \"в отношениях\"\n",
    "    else:\n",
    "        return \"одинок / одинока\"\n",
    "data['relationship'] = data['family_status'].apply(relationship_function)\n",
    "\n",
    "def income_function(income):\n",
    "    if income <= 50000:\n",
    "        return \"До 50 тысяч рублей\"\n",
    "    if 50000 < income <= 100000:\n",
    "        return \"До 100 тысяч рублей\"\n",
    "    if 100000 < income <= 250000:\n",
    "        return \"До 250 тысяч рублей\"\n",
    "    if income > 250001:\n",
    "        return 'Больше 250 тысяч рублей'\n",
    "data['income_group'] = data['total_income'].apply(income_function)"
   ]
  },
  {
   "cell_type": "markdown",
   "metadata": {},
   "source": [
    "## Шаг 3. Ответьте на вопросы"
   ]
  },
  {
   "cell_type": "markdown",
   "metadata": {},
   "source": [
    "- Есть ли зависимость между наличием детей и возвратом кредита в срок?"
   ]
  },
  {
   "cell_type": "code",
   "execution_count": 7,
   "metadata": {},
   "outputs": [
    {
     "data": {
      "text/html": [
       "<div>\n",
       "<style scoped>\n",
       "    .dataframe tbody tr th:only-of-type {\n",
       "        vertical-align: middle;\n",
       "    }\n",
       "\n",
       "    .dataframe tbody tr th {\n",
       "        vertical-align: top;\n",
       "    }\n",
       "\n",
       "    .dataframe thead th {\n",
       "        text-align: right;\n",
       "    }\n",
       "</style>\n",
       "<table border=\"1\" class=\"dataframe\">\n",
       "  <thead>\n",
       "    <tr style=\"text-align: right;\">\n",
       "      <th></th>\n",
       "      <th>debt</th>\n",
       "      <th>0</th>\n",
       "      <th>1</th>\n",
       "      <th>%</th>\n",
       "    </tr>\n",
       "    <tr>\n",
       "      <th>children_group</th>\n",
       "      <th>children</th>\n",
       "      <th></th>\n",
       "      <th></th>\n",
       "      <th></th>\n",
       "    </tr>\n",
       "  </thead>\n",
       "  <tbody>\n",
       "    <tr>\n",
       "      <th>без детей</th>\n",
       "      <th>0</th>\n",
       "      <td>13028.0</td>\n",
       "      <td>1063.0</td>\n",
       "      <td>7.543822</td>\n",
       "    </tr>\n",
       "    <tr>\n",
       "      <th rowspan=\"2\" valign=\"top\">малодетная семья</th>\n",
       "      <th>1</th>\n",
       "      <td>4410.0</td>\n",
       "      <td>445.0</td>\n",
       "      <td>9.165808</td>\n",
       "    </tr>\n",
       "    <tr>\n",
       "      <th>2</th>\n",
       "      <td>1926.0</td>\n",
       "      <td>202.0</td>\n",
       "      <td>9.492481</td>\n",
       "    </tr>\n",
       "    <tr>\n",
       "      <th rowspan=\"3\" valign=\"top\">многодетная семья</th>\n",
       "      <th>3</th>\n",
       "      <td>303.0</td>\n",
       "      <td>27.0</td>\n",
       "      <td>8.181818</td>\n",
       "    </tr>\n",
       "    <tr>\n",
       "      <th>4</th>\n",
       "      <td>37.0</td>\n",
       "      <td>4.0</td>\n",
       "      <td>9.756098</td>\n",
       "    </tr>\n",
       "    <tr>\n",
       "      <th>5</th>\n",
       "      <td>9.0</td>\n",
       "      <td>NaN</td>\n",
       "      <td>NaN</td>\n",
       "    </tr>\n",
       "  </tbody>\n",
       "</table>\n",
       "</div>"
      ],
      "text/plain": [
       "debt                              0       1         %\n",
       "children_group    children                           \n",
       "без детей         0         13028.0  1063.0  7.543822\n",
       "малодетная семья  1          4410.0   445.0  9.165808\n",
       "                  2          1926.0   202.0  9.492481\n",
       "многодетная семья 3           303.0    27.0  8.181818\n",
       "                  4            37.0     4.0  9.756098\n",
       "                  5             9.0     NaN       NaN"
      ]
     },
     "execution_count": 7,
     "metadata": {},
     "output_type": "execute_result"
    }
   ],
   "source": [
    "data_children = data.pivot_table(index=['children_group', 'children'], columns='debt', values = 'education', aggfunc='count')\n",
    "data_children['%'] = data_children[1] / (data_children[0] + data_children[1]) * 100\n",
    "data_children.head(10)"
   ]
  },
  {
   "cell_type": "markdown",
   "metadata": {},
   "source": [
    "**Вывод**"
   ]
  },
  {
   "cell_type": "markdown",
   "metadata": {},
   "source": [
    "В результате мы видим, что клиенты без детей чаще выплачивают свои кредиты. <br>\n",
    "А вот количество детей в семье на факт выплаты влияет в рамках статистической погрешности."
   ]
  },
  {
   "cell_type": "markdown",
   "metadata": {},
   "source": [
    "- Есть ли зависимость между семейным положением и возвратом кредита в срок?"
   ]
  },
  {
   "cell_type": "code",
   "execution_count": 8,
   "metadata": {},
   "outputs": [
    {
     "data": {
      "text/html": [
       "<div>\n",
       "<style scoped>\n",
       "    .dataframe tbody tr th:only-of-type {\n",
       "        vertical-align: middle;\n",
       "    }\n",
       "\n",
       "    .dataframe tbody tr th {\n",
       "        vertical-align: top;\n",
       "    }\n",
       "\n",
       "    .dataframe thead th {\n",
       "        text-align: right;\n",
       "    }\n",
       "</style>\n",
       "<table border=\"1\" class=\"dataframe\">\n",
       "  <thead>\n",
       "    <tr style=\"text-align: right;\">\n",
       "      <th></th>\n",
       "      <th>debt</th>\n",
       "      <th>0</th>\n",
       "      <th>1</th>\n",
       "      <th>%</th>\n",
       "    </tr>\n",
       "    <tr>\n",
       "      <th>relationship</th>\n",
       "      <th>family_status</th>\n",
       "      <th></th>\n",
       "      <th></th>\n",
       "      <th></th>\n",
       "    </tr>\n",
       "  </thead>\n",
       "  <tbody>\n",
       "    <tr>\n",
       "      <th rowspan=\"2\" valign=\"top\">в отношениях</th>\n",
       "      <th>гражданский брак</th>\n",
       "      <td>3763</td>\n",
       "      <td>388</td>\n",
       "      <td>9.347145</td>\n",
       "    </tr>\n",
       "    <tr>\n",
       "      <th>женат / замужем</th>\n",
       "      <td>11408</td>\n",
       "      <td>931</td>\n",
       "      <td>7.545182</td>\n",
       "    </tr>\n",
       "    <tr>\n",
       "      <th rowspan=\"3\" valign=\"top\">одинок / одинока</th>\n",
       "      <th>Не женат / не замужем</th>\n",
       "      <td>2536</td>\n",
       "      <td>274</td>\n",
       "      <td>9.750890</td>\n",
       "    </tr>\n",
       "    <tr>\n",
       "      <th>в разводе</th>\n",
       "      <td>1110</td>\n",
       "      <td>85</td>\n",
       "      <td>7.112971</td>\n",
       "    </tr>\n",
       "    <tr>\n",
       "      <th>вдовец / вдова</th>\n",
       "      <td>896</td>\n",
       "      <td>63</td>\n",
       "      <td>6.569343</td>\n",
       "    </tr>\n",
       "  </tbody>\n",
       "</table>\n",
       "</div>"
      ],
      "text/plain": [
       "debt                                        0    1         %\n",
       "relationship     family_status                              \n",
       "в отношениях     гражданский брак        3763  388  9.347145\n",
       "                 женат / замужем        11408  931  7.545182\n",
       "одинок / одинока Не женат / не замужем   2536  274  9.750890\n",
       "                 в разводе               1110   85  7.112971\n",
       "                 вдовец / вдова           896   63  6.569343"
      ]
     },
     "execution_count": 8,
     "metadata": {},
     "output_type": "execute_result"
    }
   ],
   "source": [
    "data_relationship = data.pivot_table(index=['relationship', 'family_status'], columns='debt', values = 'education', aggfunc='count')\n",
    "data_relationship['%'] = data_relationship[1] / (data_relationship[0] + data_relationship[1]) * 100\n",
    "data_relationship.head(10)"
   ]
  },
  {
   "cell_type": "markdown",
   "metadata": {},
   "source": [
    "**Вывод**"
   ]
  },
  {
   "cell_type": "markdown",
   "metadata": {},
   "source": [
    "Данный анализ показал, что применённая категоризация не справляется со своей задачей.<br>\n",
    "Можно было оставить 5 исходных категорий и анализировать их. В результате оказалось, что вдовцы и вдовы самые стабильные плательщики.<br>\n",
    "Состоящие в гражданском браке так же часто не выплачивают вовремя кредиты, как и не женатые \\ не замужние.<br>\n",
    "А официально зарегистрированные пары близки даже после развода сохраняют стабильность."
   ]
  },
  {
   "cell_type": "markdown",
   "metadata": {},
   "source": [
    "- Есть ли зависимость между уровнем дохода и возвратом кредита в срок?"
   ]
  },
  {
   "cell_type": "code",
   "execution_count": 9,
   "metadata": {},
   "outputs": [
    {
     "data": {
      "text/html": [
       "<div>\n",
       "<style scoped>\n",
       "    .dataframe tbody tr th:only-of-type {\n",
       "        vertical-align: middle;\n",
       "    }\n",
       "\n",
       "    .dataframe tbody tr th {\n",
       "        vertical-align: top;\n",
       "    }\n",
       "\n",
       "    .dataframe thead th {\n",
       "        text-align: right;\n",
       "    }\n",
       "</style>\n",
       "<table border=\"1\" class=\"dataframe\">\n",
       "  <thead>\n",
       "    <tr style=\"text-align: right;\">\n",
       "      <th>debt</th>\n",
       "      <th>0</th>\n",
       "      <th>1</th>\n",
       "      <th>%</th>\n",
       "    </tr>\n",
       "    <tr>\n",
       "      <th>income_group</th>\n",
       "      <th></th>\n",
       "      <th></th>\n",
       "      <th></th>\n",
       "    </tr>\n",
       "  </thead>\n",
       "  <tbody>\n",
       "    <tr>\n",
       "      <th>Больше 250 тысяч рублей</th>\n",
       "      <td>2618</td>\n",
       "      <td>194</td>\n",
       "      <td>6.899004</td>\n",
       "    </tr>\n",
       "    <tr>\n",
       "      <th>До 100 тысяч рублей</th>\n",
       "      <td>3760</td>\n",
       "      <td>331</td>\n",
       "      <td>8.090931</td>\n",
       "    </tr>\n",
       "    <tr>\n",
       "      <th>До 250 тысяч рублей</th>\n",
       "      <td>12986</td>\n",
       "      <td>1193</td>\n",
       "      <td>8.413851</td>\n",
       "    </tr>\n",
       "    <tr>\n",
       "      <th>До 50 тысяч рублей</th>\n",
       "      <td>349</td>\n",
       "      <td>23</td>\n",
       "      <td>6.182796</td>\n",
       "    </tr>\n",
       "  </tbody>\n",
       "</table>\n",
       "</div>"
      ],
      "text/plain": [
       "debt                         0     1         %\n",
       "income_group                                  \n",
       "Больше 250 тысяч рублей   2618   194  6.899004\n",
       "До 100 тысяч рублей       3760   331  8.090931\n",
       "До 250 тысяч рублей      12986  1193  8.413851\n",
       "До 50 тысяч рублей         349    23  6.182796"
      ]
     },
     "execution_count": 9,
     "metadata": {},
     "output_type": "execute_result"
    }
   ],
   "source": [
    "data_income = data.pivot_table(index=['income_group'], columns='debt', values = 'education', aggfunc='count')\n",
    "data_income['%'] = data_income[1] / (data_income[1] + data_income[0]) * 100\n",
    "data_income.head(10)"
   ]
  },
  {
   "cell_type": "markdown",
   "metadata": {},
   "source": [
    "**Вывод**"
   ]
  },
  {
   "cell_type": "markdown",
   "metadata": {},
   "source": [
    "Здесь мы видим, что люди с минимальным доходом чаще (но ненамного) выплачивают кредиты, чем клиенты, зарабатывающие большие деньги."
   ]
  },
  {
   "cell_type": "markdown",
   "metadata": {},
   "source": [
    "- Как разные цели кредита влияют на его возврат в срок?"
   ]
  },
  {
   "cell_type": "code",
   "execution_count": 10,
   "metadata": {},
   "outputs": [
    {
     "data": {
      "text/html": [
       "<div>\n",
       "<style scoped>\n",
       "    .dataframe tbody tr th:only-of-type {\n",
       "        vertical-align: middle;\n",
       "    }\n",
       "\n",
       "    .dataframe tbody tr th {\n",
       "        vertical-align: top;\n",
       "    }\n",
       "\n",
       "    .dataframe thead th {\n",
       "        text-align: right;\n",
       "    }\n",
       "</style>\n",
       "<table border=\"1\" class=\"dataframe\">\n",
       "  <thead>\n",
       "    <tr style=\"text-align: right;\">\n",
       "      <th>debt</th>\n",
       "      <th>0</th>\n",
       "      <th>1</th>\n",
       "      <th>%</th>\n",
       "    </tr>\n",
       "    <tr>\n",
       "      <th>purpose_group</th>\n",
       "      <th></th>\n",
       "      <th></th>\n",
       "      <th></th>\n",
       "    </tr>\n",
       "  </thead>\n",
       "  <tbody>\n",
       "    <tr>\n",
       "      <th>автомобиль</th>\n",
       "      <td>3903</td>\n",
       "      <td>403</td>\n",
       "      <td>9.359034</td>\n",
       "    </tr>\n",
       "    <tr>\n",
       "      <th>жилье</th>\n",
       "      <td>10029</td>\n",
       "      <td>782</td>\n",
       "      <td>7.233373</td>\n",
       "    </tr>\n",
       "    <tr>\n",
       "      <th>образование</th>\n",
       "      <td>3643</td>\n",
       "      <td>370</td>\n",
       "      <td>9.220035</td>\n",
       "    </tr>\n",
       "    <tr>\n",
       "      <th>свадьба</th>\n",
       "      <td>2138</td>\n",
       "      <td>186</td>\n",
       "      <td>8.003442</td>\n",
       "    </tr>\n",
       "  </tbody>\n",
       "</table>\n",
       "</div>"
      ],
      "text/plain": [
       "debt               0    1         %\n",
       "purpose_group                      \n",
       "автомобиль      3903  403  9.359034\n",
       "жилье          10029  782  7.233373\n",
       "образование     3643  370  9.220035\n",
       "свадьба         2138  186  8.003442"
      ]
     },
     "execution_count": 10,
     "metadata": {},
     "output_type": "execute_result"
    }
   ],
   "source": [
    "data_purpose = data.pivot_table(index=['purpose_group'], columns='debt', values = 'education', aggfunc='count')\n",
    "data_purpose['%'] = data_purpose[1] / (data_purpose[1] + data_purpose[0]) * 100\n",
    "data_purpose.head(10)"
   ]
  },
  {
   "cell_type": "markdown",
   "metadata": {},
   "source": [
    "**Вывод**"
   ]
  },
  {
   "cell_type": "markdown",
   "metadata": {},
   "source": [
    "Клиенты, берущие кредит на автомобиль и образование, реже возвращают свои кредиты, чем те, кому нужны деньги на жилье и свадьбу."
   ]
  },
  {
   "cell_type": "markdown",
   "metadata": {},
   "source": [
    "## Шаг 4. Общий вывод"
   ]
  },
  {
   "cell_type": "markdown",
   "metadata": {},
   "source": [
    "В результате проекта применены знания, полученные в результате двух предыдущих спринтов.\n",
    "\n",
    "Произведена предобработка данных: заполнены пробелы, строковые значения приведены к общему регистру, изменены типы данных, выполнена лемматизация и категоризация.\n",
    "\n",
    "Проанализированы зависимости между количеством детей, семейным положением, доходом, целями получения кредита и возвратом кредита в срок.<br>\n",
    "Анализ по семейному положению и доходу показал довольно неочевидные результаты, судя по количеству вдов и небогатых людей, исправно возвращающих кредиты. <br>\n",
    "На мой взгляд прямая зависимость не отражает реальную картину, у каждого из разобранных (и не разобранных) факторов, есть свой весовой коэффициент, влияющий на итоговый результат и корректные выводы можно сделать, применив комплексный подход. "
   ]
  },
  {
   "cell_type": "markdown",
   "metadata": {},
   "source": [
    "## Чек-лист готовности проекта\n",
    "\n",
    "Поставьте 'x' в выполненных пунктах. Далее нажмите Shift+Enter."
   ]
  },
  {
   "cell_type": "markdown",
   "metadata": {},
   "source": [
    "- [x]  открыт файл;\n",
    "- [x]  файл изучен;\n",
    "- [x]  определены пропущенные значения;\n",
    "- [x]  заполнены пропущенные значения;\n",
    "- [x]  есть пояснение, какие пропущенные значения обнаружены;\n",
    "- [x]  описаны возможные причины появления пропусков в данных;\n",
    "- [x]  объяснено, по какому принципу заполнены пропуски;\n",
    "- [x]  заменен вещественный тип данных на целочисленный;\n",
    "- [x]  есть пояснение, какой метод используется для изменения типа данных и почему;\n",
    "- [x]  удалены дубликаты;\n",
    "- [x]  есть пояснение, какой метод используется для поиска и удаления дубликатов;\n",
    "- [x]  описаны возможные причины появления дубликатов в данных;\n",
    "- [x]  выделены леммы в значениях столбца с целями получения кредита;\n",
    "- [x]  описан процесс лемматизации;\n",
    "- [x]  данные категоризированы;\n",
    "- [x]  есть объяснение принципа категоризации данных;\n",
    "- [x]  есть ответ на вопрос: \"Есть ли зависимость между наличием детей и возвратом кредита в срок?\";\n",
    "- [x]  есть ответ на вопрос: \"Есть ли зависимость между семейным положением и возвратом кредита в срок?\";\n",
    "- [x]  есть ответ на вопрос: \"Есть ли зависимость между уровнем дохода и возвратом кредита в срок?\";\n",
    "- [x]  есть ответ на вопрос: \"Как разные цели кредита влияют на его возврат в срок?\";\n",
    "- [x]  в каждом этапе есть выводы;\n",
    "- [x]  есть общий вывод."
   ]
  }
 ],
 "metadata": {
  "ExecuteTimeLog": [
   {
    "duration": 724,
    "start_time": "2021-12-04T13:58:31.273Z"
   },
   {
    "duration": 66,
    "start_time": "2021-12-04T13:59:15.967Z"
   },
   {
    "duration": 63,
    "start_time": "2021-12-04T14:01:35.190Z"
   },
   {
    "duration": 6224,
    "start_time": "2021-12-04T14:03:54.624Z"
   },
   {
    "duration": 5,
    "start_time": "2021-12-04T14:04:21.503Z"
   },
   {
    "duration": 19,
    "start_time": "2021-12-04T14:08:56.322Z"
   },
   {
    "duration": 12,
    "start_time": "2021-12-04T14:09:26.674Z"
   },
   {
    "duration": 9,
    "start_time": "2021-12-04T14:09:50.550Z"
   },
   {
    "duration": 8,
    "start_time": "2021-12-04T14:10:59.408Z"
   },
   {
    "duration": 7,
    "start_time": "2021-12-04T14:11:53.442Z"
   },
   {
    "duration": 21,
    "start_time": "2021-12-04T14:14:17.068Z"
   },
   {
    "duration": 7,
    "start_time": "2021-12-04T14:15:11.150Z"
   },
   {
    "duration": 109,
    "start_time": "2021-12-04T14:15:43.633Z"
   },
   {
    "duration": 12,
    "start_time": "2021-12-04T14:15:51.581Z"
   },
   {
    "duration": 3,
    "start_time": "2021-12-04T14:17:17.316Z"
   },
   {
    "duration": 13,
    "start_time": "2021-12-04T14:18:41.432Z"
   },
   {
    "duration": 259,
    "start_time": "2021-12-04T14:20:32.091Z"
   },
   {
    "duration": 296,
    "start_time": "2021-12-04T14:21:31.777Z"
   },
   {
    "duration": 293,
    "start_time": "2021-12-04T14:22:28.182Z"
   },
   {
    "duration": 22,
    "start_time": "2021-12-04T14:22:52.966Z"
   },
   {
    "duration": 20,
    "start_time": "2021-12-04T14:25:40.857Z"
   },
   {
    "duration": 8,
    "start_time": "2021-12-04T14:25:48.271Z"
   },
   {
    "duration": 7,
    "start_time": "2021-12-04T14:26:17.842Z"
   },
   {
    "duration": 8,
    "start_time": "2021-12-04T14:26:42.262Z"
   },
   {
    "duration": 9,
    "start_time": "2021-12-04T14:26:49.635Z"
   },
   {
    "duration": 23,
    "start_time": "2021-12-04T14:26:53.971Z"
   },
   {
    "duration": 6,
    "start_time": "2021-12-04T14:27:32.916Z"
   },
   {
    "duration": 8,
    "start_time": "2021-12-04T14:27:51.675Z"
   },
   {
    "duration": 15,
    "start_time": "2021-12-04T14:28:29.036Z"
   },
   {
    "duration": 654,
    "start_time": "2021-12-04T14:29:26.207Z"
   },
   {
    "duration": 144,
    "start_time": "2021-12-04T14:29:26.864Z"
   },
   {
    "duration": 38,
    "start_time": "2021-12-04T14:29:26.975Z"
   },
   {
    "duration": 7,
    "start_time": "2021-12-04T14:29:47.801Z"
   },
   {
    "duration": 5,
    "start_time": "2021-12-04T14:29:55.139Z"
   },
   {
    "duration": 61,
    "start_time": "2021-12-04T14:30:08.574Z"
   },
   {
    "duration": 6141,
    "start_time": "2021-12-04T14:31:03.377Z"
   },
   {
    "duration": 6,
    "start_time": "2021-12-04T14:31:11.517Z"
   },
   {
    "duration": 15,
    "start_time": "2021-12-04T14:32:52.061Z"
   },
   {
    "duration": 15,
    "start_time": "2021-12-04T14:32:55.750Z"
   },
   {
    "duration": 7,
    "start_time": "2021-12-04T14:33:09.479Z"
   },
   {
    "duration": 8,
    "start_time": "2021-12-04T14:34:03.552Z"
   },
   {
    "duration": 9,
    "start_time": "2021-12-04T14:34:52.199Z"
   },
   {
    "duration": 9,
    "start_time": "2021-12-04T14:35:14.505Z"
   },
   {
    "duration": 9,
    "start_time": "2021-12-04T14:35:38.844Z"
   },
   {
    "duration": 10,
    "start_time": "2021-12-04T14:36:00.144Z"
   },
   {
    "duration": 10,
    "start_time": "2021-12-04T14:36:14.961Z"
   },
   {
    "duration": 402,
    "start_time": "2021-12-04T14:38:39.123Z"
   },
   {
    "duration": 234,
    "start_time": "2021-12-04T14:38:55.278Z"
   },
   {
    "duration": 14,
    "start_time": "2021-12-04T14:39:28.740Z"
   },
   {
    "duration": 249,
    "start_time": "2021-12-04T14:39:44.298Z"
   },
   {
    "duration": 19,
    "start_time": "2021-12-04T14:39:53.267Z"
   },
   {
    "duration": 28,
    "start_time": "2021-12-04T14:40:43.107Z"
   },
   {
    "duration": 652,
    "start_time": "2021-12-04T14:40:57.257Z"
   },
   {
    "duration": 6,
    "start_time": "2021-12-04T14:40:57.911Z"
   },
   {
    "duration": 7,
    "start_time": "2021-12-04T14:40:57.919Z"
   },
   {
    "duration": 21,
    "start_time": "2021-12-04T14:40:57.927Z"
   },
   {
    "duration": 305,
    "start_time": "2021-12-04T14:46:47.473Z"
   },
   {
    "duration": 649,
    "start_time": "2021-12-04T14:46:57.733Z"
   },
   {
    "duration": 673,
    "start_time": "2021-12-04T14:47:04.385Z"
   },
   {
    "duration": 648,
    "start_time": "2021-12-04T14:53:33.221Z"
   },
   {
    "duration": 5270,
    "start_time": "2021-12-04T14:55:01.819Z"
   },
   {
    "duration": 410,
    "start_time": "2021-12-06T08:58:30.247Z"
   },
   {
    "duration": 838,
    "start_time": "2021-12-06T08:58:44.021Z"
   },
   {
    "duration": 9,
    "start_time": "2021-12-06T08:58:44.862Z"
   },
   {
    "duration": 15,
    "start_time": "2021-12-06T08:58:44.873Z"
   },
   {
    "duration": 35,
    "start_time": "2021-12-06T08:58:44.891Z"
   },
   {
    "duration": 4427,
    "start_time": "2021-12-06T08:58:44.929Z"
   },
   {
    "duration": 4245,
    "start_time": "2021-12-06T08:59:03.393Z"
   },
   {
    "duration": 12947,
    "start_time": "2021-12-06T09:17:19.642Z"
   },
   {
    "duration": 815,
    "start_time": "2021-12-06T09:17:38.537Z"
   },
   {
    "duration": 8,
    "start_time": "2021-12-06T09:17:39.355Z"
   },
   {
    "duration": 17,
    "start_time": "2021-12-06T09:17:39.366Z"
   },
   {
    "duration": 48,
    "start_time": "2021-12-06T09:17:39.386Z"
   },
   {
    "duration": 12662,
    "start_time": "2021-12-06T09:17:39.437Z"
   },
   {
    "duration": 12654,
    "start_time": "2021-12-06T09:19:10.068Z"
   },
   {
    "duration": 5637,
    "start_time": "2021-12-06T09:19:51.799Z"
   },
   {
    "duration": 5339,
    "start_time": "2021-12-06T09:20:07.296Z"
   },
   {
    "duration": 14062,
    "start_time": "2021-12-06T09:21:05.449Z"
   },
   {
    "duration": 5471,
    "start_time": "2021-12-06T09:28:45.215Z"
   },
   {
    "duration": 5435,
    "start_time": "2021-12-06T09:30:07.549Z"
   },
   {
    "duration": -28,
    "start_time": "2021-12-06T09:43:39.750Z"
   },
   {
    "duration": 95472,
    "start_time": "2021-12-06T09:43:41.847Z"
   },
   {
    "duration": 3989,
    "start_time": "2021-12-06T09:46:17.873Z"
   },
   {
    "duration": 13662,
    "start_time": "2021-12-06T09:51:02.916Z"
   },
   {
    "duration": 12304,
    "start_time": "2021-12-06T10:03:00.639Z"
   },
   {
    "duration": 28,
    "start_time": "2021-12-06T10:03:23.753Z"
   },
   {
    "duration": 6,
    "start_time": "2021-12-06T10:03:33.455Z"
   },
   {
    "duration": 11416,
    "start_time": "2021-12-06T10:04:15.367Z"
   },
   {
    "duration": 1350,
    "start_time": "2021-12-06T10:08:06.266Z"
   },
   {
    "duration": 105,
    "start_time": "2021-12-06T10:14:00.985Z"
   },
   {
    "duration": 17697,
    "start_time": "2021-12-06T10:14:20.204Z"
   },
   {
    "duration": 105,
    "start_time": "2021-12-06T10:28:42.400Z"
   },
   {
    "duration": 4910,
    "start_time": "2021-12-06T10:29:03.013Z"
   },
   {
    "duration": 4724,
    "start_time": "2021-12-06T10:29:11.479Z"
   },
   {
    "duration": 830,
    "start_time": "2021-12-06T10:29:57.524Z"
   },
   {
    "duration": 9,
    "start_time": "2021-12-06T10:29:58.356Z"
   },
   {
    "duration": 7,
    "start_time": "2021-12-06T10:29:58.368Z"
   },
   {
    "duration": 58,
    "start_time": "2021-12-06T10:29:58.377Z"
   },
   {
    "duration": 4787,
    "start_time": "2021-12-06T10:29:58.437Z"
   },
   {
    "duration": 506,
    "start_time": "2021-12-06T10:37:59.310Z"
   },
   {
    "duration": 4974,
    "start_time": "2021-12-06T10:45:01.937Z"
   },
   {
    "duration": 13256,
    "start_time": "2021-12-06T10:46:11.618Z"
   },
   {
    "duration": 34984,
    "start_time": "2021-12-06T10:47:37.581Z"
   },
   {
    "duration": 5617,
    "start_time": "2021-12-06T10:49:05.797Z"
   },
   {
    "duration": 5112,
    "start_time": "2021-12-06T10:51:49.798Z"
   },
   {
    "duration": 5088,
    "start_time": "2021-12-06T10:53:22.614Z"
   },
   {
    "duration": 787,
    "start_time": "2021-12-06T10:53:55.749Z"
   },
   {
    "duration": 9,
    "start_time": "2021-12-06T10:53:56.539Z"
   },
   {
    "duration": 11,
    "start_time": "2021-12-06T10:53:56.550Z"
   },
   {
    "duration": 39,
    "start_time": "2021-12-06T10:53:56.563Z"
   },
   {
    "duration": 5922,
    "start_time": "2021-12-06T10:53:56.626Z"
   },
   {
    "duration": 4966,
    "start_time": "2021-12-06T10:54:13.538Z"
   },
   {
    "duration": 5917,
    "start_time": "2021-12-06T11:01:03.301Z"
   },
   {
    "duration": 1138,
    "start_time": "2021-12-06T11:01:42.468Z"
   },
   {
    "duration": 18,
    "start_time": "2021-12-06T11:01:43.609Z"
   },
   {
    "duration": 18,
    "start_time": "2021-12-06T11:01:43.631Z"
   },
   {
    "duration": 37,
    "start_time": "2021-12-06T11:01:43.653Z"
   },
   {
    "duration": 6816,
    "start_time": "2021-12-06T11:01:43.693Z"
   },
   {
    "duration": 6374,
    "start_time": "2021-12-06T11:04:36.789Z"
   },
   {
    "duration": 903,
    "start_time": "2021-12-06T11:05:39.340Z"
   },
   {
    "duration": 9,
    "start_time": "2021-12-06T11:05:40.246Z"
   },
   {
    "duration": 6,
    "start_time": "2021-12-06T11:05:40.258Z"
   },
   {
    "duration": 58,
    "start_time": "2021-12-06T11:05:40.265Z"
   },
   {
    "duration": 5631,
    "start_time": "2021-12-06T11:05:40.325Z"
   },
   {
    "duration": 5542,
    "start_time": "2021-12-06T11:06:21.790Z"
   },
   {
    "duration": 865,
    "start_time": "2021-12-06T11:09:51.529Z"
   },
   {
    "duration": 11,
    "start_time": "2021-12-06T11:09:52.397Z"
   },
   {
    "duration": 26,
    "start_time": "2021-12-06T11:09:52.424Z"
   },
   {
    "duration": 42,
    "start_time": "2021-12-06T11:09:52.453Z"
   },
   {
    "duration": 20861,
    "start_time": "2021-12-06T11:09:52.499Z"
   },
   {
    "duration": 951,
    "start_time": "2021-12-06T11:10:31.272Z"
   },
   {
    "duration": 15,
    "start_time": "2021-12-06T11:10:32.227Z"
   },
   {
    "duration": 19,
    "start_time": "2021-12-06T11:10:32.245Z"
   },
   {
    "duration": 39,
    "start_time": "2021-12-06T11:10:32.266Z"
   },
   {
    "duration": 11701,
    "start_time": "2021-12-06T11:10:32.307Z"
   },
   {
    "duration": 933,
    "start_time": "2021-12-06T13:54:59.409Z"
   },
   {
    "duration": 10,
    "start_time": "2021-12-06T13:55:00.345Z"
   },
   {
    "duration": 22,
    "start_time": "2021-12-06T13:55:00.359Z"
   },
   {
    "duration": 48,
    "start_time": "2021-12-06T13:55:00.384Z"
   },
   {
    "duration": 11866,
    "start_time": "2021-12-06T13:55:00.435Z"
   },
   {
    "duration": 8713,
    "start_time": "2021-12-06T13:55:12.304Z"
   },
   {
    "duration": 30,
    "start_time": "2021-12-06T13:55:43.230Z"
   },
   {
    "duration": 20,
    "start_time": "2021-12-06T13:59:47.126Z"
   },
   {
    "duration": 26,
    "start_time": "2021-12-06T14:01:38.691Z"
   },
   {
    "duration": 7949,
    "start_time": "2021-12-06T14:05:47.591Z"
   },
   {
    "duration": 22,
    "start_time": "2021-12-06T14:06:13.228Z"
   },
   {
    "duration": 22,
    "start_time": "2021-12-06T14:06:28.311Z"
   },
   {
    "duration": 57,
    "start_time": "2021-12-06T14:12:23.910Z"
   },
   {
    "duration": 434,
    "start_time": "2021-12-06T14:24:02.331Z"
   },
   {
    "duration": 333,
    "start_time": "2021-12-06T14:30:48.570Z"
   },
   {
    "duration": 28,
    "start_time": "2021-12-06T14:32:32.997Z"
   },
   {
    "duration": 388,
    "start_time": "2021-12-06T14:33:38.880Z"
   },
   {
    "duration": 23,
    "start_time": "2021-12-06T14:33:48.818Z"
   },
   {
    "duration": 24,
    "start_time": "2021-12-06T14:33:58.422Z"
   },
   {
    "duration": 39,
    "start_time": "2021-12-06T14:35:52.492Z"
   },
   {
    "duration": 116,
    "start_time": "2021-12-06T14:36:53.048Z"
   },
   {
    "duration": 465,
    "start_time": "2021-12-06T14:40:28.372Z"
   },
   {
    "duration": 351,
    "start_time": "2021-12-06T14:40:37.308Z"
   },
   {
    "duration": 42,
    "start_time": "2021-12-06T14:40:52.104Z"
   },
   {
    "duration": 6884,
    "start_time": "2021-12-06T14:44:36.218Z"
   },
   {
    "duration": 29,
    "start_time": "2021-12-06T14:45:01.885Z"
   },
   {
    "duration": 76,
    "start_time": "2021-12-06T14:46:06.099Z"
   },
   {
    "duration": 44,
    "start_time": "2021-12-06T14:46:22.799Z"
   },
   {
    "duration": 38,
    "start_time": "2021-12-06T14:48:54.133Z"
   },
   {
    "duration": 65,
    "start_time": "2021-12-06T14:50:46.159Z"
   },
   {
    "duration": 1054,
    "start_time": "2021-12-06T14:51:45.849Z"
   },
   {
    "duration": 19,
    "start_time": "2021-12-06T14:51:46.908Z"
   },
   {
    "duration": 10,
    "start_time": "2021-12-06T14:51:46.932Z"
   },
   {
    "duration": 20,
    "start_time": "2021-12-06T14:51:46.947Z"
   },
   {
    "duration": 12317,
    "start_time": "2021-12-06T14:51:46.970Z"
   },
   {
    "duration": 52,
    "start_time": "2021-12-06T14:51:59.290Z"
   },
   {
    "duration": 80,
    "start_time": "2021-12-06T14:51:59.345Z"
   },
   {
    "duration": 40,
    "start_time": "2021-12-06T14:51:59.428Z"
   },
   {
    "duration": 68,
    "start_time": "2021-12-06T14:51:59.470Z"
   },
   {
    "duration": 33,
    "start_time": "2021-12-06T14:53:08.839Z"
   },
   {
    "duration": 55,
    "start_time": "2021-12-06T14:53:44.823Z"
   },
   {
    "duration": 9,
    "start_time": "2021-12-06T15:02:40.237Z"
   },
   {
    "duration": 58,
    "start_time": "2021-12-06T15:17:38.008Z"
   },
   {
    "duration": 48,
    "start_time": "2021-12-06T15:19:27.607Z"
   },
   {
    "duration": 793,
    "start_time": "2021-12-06T18:14:35.478Z"
   },
   {
    "duration": 1225,
    "start_time": "2021-12-06T18:14:47.929Z"
   },
   {
    "duration": 15,
    "start_time": "2021-12-06T18:14:49.159Z"
   },
   {
    "duration": 7,
    "start_time": "2021-12-06T18:14:49.179Z"
   },
   {
    "duration": 50,
    "start_time": "2021-12-06T18:14:49.189Z"
   },
   {
    "duration": 11982,
    "start_time": "2021-12-06T18:14:49.243Z"
   },
   {
    "duration": 34,
    "start_time": "2021-12-06T18:15:01.227Z"
   },
   {
    "duration": 84,
    "start_time": "2021-12-06T18:15:01.263Z"
   },
   {
    "duration": 39,
    "start_time": "2021-12-06T18:15:01.350Z"
   },
   {
    "duration": 56,
    "start_time": "2021-12-06T18:15:01.392Z"
   },
   {
    "duration": 32,
    "start_time": "2021-12-06T18:17:06.640Z"
   },
   {
    "duration": 434,
    "start_time": "2021-12-06T18:27:04.333Z"
   },
   {
    "duration": 356,
    "start_time": "2021-12-06T18:27:12.527Z"
   },
   {
    "duration": 19,
    "start_time": "2021-12-06T18:27:18.462Z"
   },
   {
    "duration": 1032,
    "start_time": "2021-12-06T18:38:46.759Z"
   },
   {
    "duration": 24,
    "start_time": "2021-12-06T18:38:47.796Z"
   },
   {
    "duration": 8,
    "start_time": "2021-12-06T18:38:47.825Z"
   },
   {
    "duration": 20,
    "start_time": "2021-12-06T18:38:47.837Z"
   },
   {
    "duration": 13490,
    "start_time": "2021-12-06T18:38:47.861Z"
   },
   {
    "duration": 37,
    "start_time": "2021-12-06T18:39:01.354Z"
   },
   {
    "duration": 79,
    "start_time": "2021-12-06T18:39:01.394Z"
   },
   {
    "duration": 56,
    "start_time": "2021-12-06T18:39:01.476Z"
   },
   {
    "duration": 38,
    "start_time": "2021-12-06T18:39:01.535Z"
   },
   {
    "duration": 61,
    "start_time": "2021-12-06T18:39:01.576Z"
   },
   {
    "duration": 902,
    "start_time": "2021-12-07T07:07:08.041Z"
   },
   {
    "duration": 22,
    "start_time": "2021-12-07T07:07:08.946Z"
   },
   {
    "duration": 6,
    "start_time": "2021-12-07T07:07:08.972Z"
   },
   {
    "duration": 20,
    "start_time": "2021-12-07T07:07:08.982Z"
   },
   {
    "duration": 9930,
    "start_time": "2021-12-07T07:07:09.005Z"
   },
   {
    "duration": 50,
    "start_time": "2021-12-07T07:07:18.937Z"
   },
   {
    "duration": 54,
    "start_time": "2021-12-07T07:07:18.989Z"
   },
   {
    "duration": 51,
    "start_time": "2021-12-07T07:07:19.046Z"
   },
   {
    "duration": 32,
    "start_time": "2021-12-07T07:07:19.100Z"
   },
   {
    "duration": 60,
    "start_time": "2021-12-07T07:07:19.135Z"
   },
   {
    "duration": 184,
    "start_time": "2021-12-07T13:43:54.152Z"
   },
   {
    "duration": 148,
    "start_time": "2021-12-07T13:45:12.088Z"
   },
   {
    "duration": 1054,
    "start_time": "2021-12-07T13:45:16.796Z"
   },
   {
    "duration": 89,
    "start_time": "2021-12-07T13:48:51.824Z"
   },
   {
    "duration": 809,
    "start_time": "2021-12-07T13:52:23.228Z"
   },
   {
    "duration": 7,
    "start_time": "2021-12-07T13:52:26.945Z"
   },
   {
    "duration": 9,
    "start_time": "2021-12-07T13:52:30.585Z"
   },
   {
    "duration": 28,
    "start_time": "2021-12-07T13:52:57.192Z"
   },
   {
    "duration": 27,
    "start_time": "2021-12-07T13:56:31.838Z"
   },
   {
    "duration": 197,
    "start_time": "2021-12-07T13:56:55.106Z"
   },
   {
    "duration": 35,
    "start_time": "2021-12-07T13:57:00.638Z"
   },
   {
    "duration": 708,
    "start_time": "2021-12-07T13:58:26.515Z"
   },
   {
    "duration": 6,
    "start_time": "2021-12-07T13:58:27.225Z"
   },
   {
    "duration": 24,
    "start_time": "2021-12-07T13:58:27.233Z"
   },
   {
    "duration": 398,
    "start_time": "2021-12-07T13:58:27.258Z"
   },
   {
    "duration": -624,
    "start_time": "2021-12-07T13:58:28.282Z"
   },
   {
    "duration": -628,
    "start_time": "2021-12-07T13:58:28.287Z"
   },
   {
    "duration": -664,
    "start_time": "2021-12-07T13:58:28.324Z"
   },
   {
    "duration": -671,
    "start_time": "2021-12-07T13:58:28.332Z"
   },
   {
    "duration": -676,
    "start_time": "2021-12-07T13:58:28.338Z"
   },
   {
    "duration": -680,
    "start_time": "2021-12-07T13:58:28.342Z"
   },
   {
    "duration": 641,
    "start_time": "2021-12-07T13:58:43.964Z"
   },
   {
    "duration": 6,
    "start_time": "2021-12-07T13:58:44.607Z"
   },
   {
    "duration": 10,
    "start_time": "2021-12-07T13:58:44.615Z"
   },
   {
    "duration": 48,
    "start_time": "2021-12-07T13:58:44.627Z"
   },
   {
    "duration": 7879,
    "start_time": "2021-12-07T13:58:44.677Z"
   },
   {
    "duration": 20,
    "start_time": "2021-12-07T13:58:52.558Z"
   },
   {
    "duration": 57,
    "start_time": "2021-12-07T13:58:52.580Z"
   },
   {
    "duration": 25,
    "start_time": "2021-12-07T13:58:52.640Z"
   },
   {
    "duration": 21,
    "start_time": "2021-12-07T13:58:52.667Z"
   },
   {
    "duration": 20,
    "start_time": "2021-12-07T13:58:52.690Z"
   },
   {
    "duration": 57,
    "start_time": "2021-12-07T13:59:20.082Z"
   },
   {
    "duration": 57,
    "start_time": "2021-12-07T13:59:27.231Z"
   },
   {
    "duration": 509,
    "start_time": "2022-05-27T12:48:59.552Z"
   },
   {
    "duration": 8,
    "start_time": "2022-05-27T12:49:00.063Z"
   },
   {
    "duration": 9,
    "start_time": "2022-05-27T12:49:00.073Z"
   },
   {
    "duration": 29,
    "start_time": "2022-05-27T12:49:00.084Z"
   },
   {
    "duration": 7150,
    "start_time": "2022-05-27T12:49:00.114Z"
   },
   {
    "duration": 36,
    "start_time": "2022-05-27T12:49:07.266Z"
   },
   {
    "duration": 37,
    "start_time": "2022-05-27T12:49:07.303Z"
   },
   {
    "duration": 30,
    "start_time": "2022-05-27T12:49:07.342Z"
   },
   {
    "duration": 45,
    "start_time": "2022-05-27T12:49:07.374Z"
   },
   {
    "duration": 23,
    "start_time": "2022-05-27T12:49:07.422Z"
   }
  ],
  "kernelspec": {
   "display_name": "Python 3 (ipykernel)",
   "language": "python",
   "name": "python3"
  },
  "language_info": {
   "codemirror_mode": {
    "name": "ipython",
    "version": 3
   },
   "file_extension": ".py",
   "mimetype": "text/x-python",
   "name": "python",
   "nbconvert_exporter": "python",
   "pygments_lexer": "ipython3",
   "version": "3.9.7"
  },
  "toc": {
   "base_numbering": 1,
   "nav_menu": {},
   "number_sections": true,
   "sideBar": true,
   "skip_h1_title": true,
   "title_cell": "Table of Contents",
   "title_sidebar": "Contents",
   "toc_cell": false,
   "toc_position": {},
   "toc_section_display": true,
   "toc_window_display": false
  }
 },
 "nbformat": 4,
 "nbformat_minor": 2
}
